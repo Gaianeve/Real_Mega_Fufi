{
  "nbformat": 4,
  "nbformat_minor": 0,
  "metadata": {
    "colab": {
      "provenance": [],
      "toc_visible": true
    },
    "kernelspec": {
      "name": "python3",
      "display_name": "Python 3"
    },
    "language_info": {
      "name": "python"
    }
  },
  "cells": [
    {
      "cell_type": "code",
      "execution_count": 1,
      "metadata": {
        "colab": {
          "base_uri": "https://localhost:8080/"
        },
        "id": "QcyaLVKDtfO0",
        "outputId": "873b7cbd-91e7-4d85-e06d-7e86cb8f1aa4"
      },
      "outputs": [
        {
          "output_type": "stream",
          "name": "stdout",
          "text": [
            "Collecting pybullet\n",
            "  Downloading pybullet-3.2.6-cp310-cp310-manylinux_2_17_x86_64.manylinux2014_x86_64.whl.metadata (1.8 kB)\n",
            "Requirement already satisfied: imageio-ffmpeg in /usr/local/lib/python3.10/dist-packages (0.5.1)\n",
            "Requirement already satisfied: setuptools in /usr/local/lib/python3.10/dist-packages (from imageio-ffmpeg) (75.1.0)\n",
            "Downloading pybullet-3.2.6-cp310-cp310-manylinux_2_17_x86_64.manylinux2014_x86_64.whl (103.2 MB)\n",
            "\u001b[2K   \u001b[90m━━━━━━━━━━━━━━━━━━━━━━━━━━━━━━━━━━━━━━━━\u001b[0m \u001b[32m103.2/103.2 MB\u001b[0m \u001b[31m6.3 MB/s\u001b[0m eta \u001b[36m0:00:00\u001b[0m\n",
            "\u001b[?25hInstalling collected packages: pybullet\n",
            "Successfully installed pybullet-3.2.6\n"
          ]
        }
      ],
      "source": [
        "!pip install pybullet imageio-ffmpeg\n",
        "\n",
        "import os\n",
        "import time\n",
        "import math\n",
        "import numpy as np\n",
        "from PIL import Image\n",
        "import matplotlib.pyplot as plt\n",
        "import pybullet as p\n",
        "import pybullet_data\n",
        "import cv2\n",
        "import imageio_ffmpeg\n",
        "from base64 import b64encode\n",
        "from IPython.display import HTML\n",
        "import numpy as np\n",
        "import imageio_ffmpeg\n",
        "import pybullet as p\n",
        "import math\n"
      ]
    },
    {
      "cell_type": "code",
      "source": [
        "# Configura la simulazione e la fotocamera\n",
        "p.connect(p.DIRECT)  # Usa la modalità senza GUI per evitare un impatto sulle prestazioni\n",
        "p.resetSimulation() # Lui va chiamato la mattina appena apri il computer\n",
        "p.setGravity(0, 0, -10)\n",
        "p.setTimeStep(0.001)  # Imposta il passo temporale per la simulazione\n",
        "\n",
        "# Aggiungi il percorso dei dati PyBullet\n",
        "p.setAdditionalSearchPath(pybullet_data.getDataPath())"
      ],
      "metadata": {
        "id": "R3whIcYNtuaJ"
      },
      "execution_count": 2,
      "outputs": []
    },
    {
      "cell_type": "code",
      "source": [
        "!git clone https://github.com/Gaianeve/Real_Mega_Fufi.git\n",
        "%cd Real_Mega_Fufi/Robot/PIPPA"
      ],
      "metadata": {
        "colab": {
          "base_uri": "https://localhost:8080/"
        },
        "id": "-4w7lwdNt6KJ",
        "outputId": "4a82e1e9-da06-47ad-a3d0-a7bd18917505"
      },
      "execution_count": 3,
      "outputs": [
        {
          "output_type": "stream",
          "name": "stdout",
          "text": [
            "Cloning into 'Real_Mega_Fufi'...\n",
            "remote: Enumerating objects: 778, done.\u001b[K\n",
            "remote: Counting objects: 100% (221/221), done.\u001b[K\n",
            "remote: Compressing objects: 100% (195/195), done.\u001b[K\n",
            "remote: Total 778 (delta 193), reused 25 (delta 25), pack-reused 557 (from 1)\u001b[K\n",
            "Receiving objects: 100% (778/778), 7.76 MiB | 10.96 MiB/s, done.\n",
            "Resolving deltas: 100% (506/506), done.\n",
            "/content/Real_Mega_Fufi/Robot/PIPPA\n"
          ]
        }
      ]
    },
    {
      "cell_type": "code",
      "source": [
        "useFixedBase = False\n",
        "flags = p.URDF_INITIALIZE_SAT_FEATURES\n",
        "\n",
        "plane_pos = [0,0,-0.1]\n",
        "plane = p.loadURDF(\"plane.urdf\", plane_pos, flags = flags, useFixedBase=useFixedBase)\n",
        "\n",
        "# position of the base of the model\n",
        "PIP_position = [0,0,1.043]\n",
        "orientation  = [np.pi,0,0]\n",
        "PIP_orientation = p.getQuaternionFromEuler(orientation)\n",
        "PIPPA_id = p.loadURDF(\"PIPPA.urdf\",basePosition = PIP_position,baseOrientation = PIP_orientation,\\\n",
        "                      useFixedBase=useFixedBase)\n"
      ],
      "metadata": {
        "id": "wGZ4wVGBuBMK"
      },
      "execution_count": 4,
      "outputs": []
    },
    {
      "cell_type": "code",
      "source": [
        "link_name_to_index = {p.getBodyInfo(PIPPA_id)[0].decode('UTF-8'):-1,}\n",
        "\n",
        "for id in range(p.getNumJoints(PIPPA_id)):\n",
        "  name = p.getJointInfo(PIPPA_id, id)[12].decode('UTF-8')\n",
        "  link_name_to_index[name] = id\n",
        "\n",
        "print(link_name_to_index)"
      ],
      "metadata": {
        "colab": {
          "base_uri": "https://localhost:8080/"
        },
        "id": "LpCt5j7GuIdK",
        "outputId": "2a620e04-929a-4c8b-c18a-7ab354427f70"
      },
      "execution_count": 5,
      "outputs": [
        {
          "output_type": "stream",
          "name": "stdout",
          "text": [
            "{'Top_core_Link': -1, 'Top_Link_1': 0, 'Cover_Link_1': 1, 'Gamba_Link_1': 2, 'Elastic_Joint_Link_1': 3, 'Colonna_Link_1': 4, 'Bottom_Link_1': 5, 'Top_Link_2': 6, 'Cover_Link_2': 7, 'Gamba_Link_2': 8, 'Elastic_Joint_link_2': 9, 'Colonna_Link_2': 10, 'Bottom_Link_2': 11, 'Top_Link_3': 12, 'Cover_Link_3': 13, 'Gamba_Link_3': 14, 'Elastic_Joint_link_3': 15, 'Colonna_Link_3': 16, 'Bottom_Link_3': 17}\n"
          ]
        }
      ]
    },
    {
      "cell_type": "code",
      "source": [
        "# AL 6082 (Alluminio)\n",
        "lateralFriction_Al = 0.3\n",
        "restitution_Al = 0.2\n",
        "rollingFriction_Al = 0.001\n",
        "spinningFriction_Al = 0.01\n",
        "linearDamping_Al = 0.04\n",
        "angularDamping_Al = 0.1\n",
        "contactStiffness_Al = 3e6\n",
        "contactDamping_Al = 800\n",
        "\n",
        "# AISI 304 (Acciaio Inox)\n",
        "lateralFriction_AISI = 0.4\n",
        "restitution_AISI = 0.1\n",
        "rollingFriction_AISI = 0.001\n",
        "spinningFriction_AISI= 0.05\n",
        "linearDamping_AISI = 0.03\n",
        "angularDamping_AISI = 0.1\n",
        "contactStiffness_AISI = 8e6\n",
        "contactDamping_AISI = 1500\n",
        "\n",
        "# Acciaio Maraging (Maragià per gli amici)\n",
        "lateralFriction_Mar = 0.3\n",
        "restitution_Mar = 0.2\n",
        "rollingFriction_Mar = 0.001\n",
        "spinningFriction_Mar = 0.02\n",
        "linearDamping_Mar = 0.04\n",
        "angularDamping_Mar = 0.15\n",
        "contactStiffness_Mar = 3e6\n",
        "contactDamping_Mar = 800\n",
        "\n",
        "link_indices_Al = [link_name_to_index['Bottom_Link_1'],link_name_to_index['Bottom_Link_2'],\\\n",
        "                   link_name_to_index['Bottom_Link_3'], link_name_to_index['Gamba_Link_1'],\\\n",
        "                   link_name_to_index['Gamba_Link_2'], link_name_to_index['Gamba_Link_3'],\\\n",
        "                   link_name_to_index['Top_core_Link'], link_name_to_index['Cover_Link_1'], \\\n",
        "                   link_name_to_index['Cover_Link_2'], link_name_to_index['Cover_Link_3']]\n",
        "\n",
        "link_indices_AISI = [link_name_to_index['Top_Link_2'], link_name_to_index['Top_Link_3'],\\\n",
        "                     link_name_to_index['Top_Link_1'], link_name_to_index['Colonna_Link_1'],\\\n",
        "                     link_name_to_index['Colonna_Link_2'],link_name_to_index['Colonna_Link_3']]\n",
        "\n",
        "link_indices_Mar = [link_name_to_index['Elastic_Joint_Link_1'], link_name_to_index['Elastic_Joint_link_2'],\\\n",
        "                    link_name_to_index['Elastic_Joint_link_3']]\n",
        "\n",
        "# Al 6082\n",
        "for link in link_indices_Al:\n",
        "  p.changeDynamics(PIPPA_id, link, lateralFriction=lateralFriction_Al,\\\n",
        "                   restitution=restitution_Al, \\\n",
        "                   spinningFriction= spinningFriction_Al, rollingFriction= rollingFriction_Al,\\\n",
        "                   linearDamping=linearDamping_Al, angularDamping=angularDamping_Al,\\\n",
        "                   contactStiffness = contactStiffness_Al,contactDamping = contactDamping_Al)\n",
        "# AISI 304\n",
        "for link in link_indices_AISI:\n",
        "  p.changeDynamics(PIPPA_id, link, lateralFriction=lateralFriction_AISI,\\\n",
        "                   restitution=restitution_AISI, \\\n",
        "                   spinningFriction= spinningFriction_AISI, rollingFriction= rollingFriction_AISI,\\\n",
        "                   linearDamping=linearDamping_AISI, angularDamping=angularDamping_AISI,\\\n",
        "                   contactStiffness = contactStiffness_AISI, contactDamping = contactDamping_AISI)\n",
        "# Maragià\n",
        "for link in link_indices_AISI:\n",
        "  p.changeDynamics(PIPPA_id, link, lateralFriction=lateralFriction_Mar,\\\n",
        "                   restitution=restitution_Mar, \\\n",
        "                   spinningFriction= spinningFriction_Mar, rollingFriction= rollingFriction_Mar,\\\n",
        "                   linearDamping=linearDamping_Mar, angularDamping=angularDamping_Mar,\\\n",
        "                   contactStiffness = contactStiffness_Mar, contactDamping = contactDamping_Mar)"
      ],
      "metadata": {
        "id": "PBWNklmvuL4s"
      },
      "execution_count": 8,
      "outputs": []
    },
    {
      "cell_type": "code",
      "source": [
        "\n",
        "# Parametri della fotocamera\n",
        "cam_target_pos = [0, 0, 0]\n",
        "cam_distance = 2.0\n",
        "cam_yaw, cam_pitch, cam_roll = 50, -30.0, 0\n",
        "cam_width, cam_height = 480, 360\n",
        "cam_up_axis_idx = 2\n",
        "cam_fov = 60\n",
        "cam_near_plane, cam_far_plane = 0.01, 100\n",
        "\n",
        "# Imposta la registrazione del video\n",
        "vid = imageio_ffmpeg.write_frames('simulation_output.mp4', (cam_width, cam_height), fps=30)\n",
        "vid.send(None)  # Inizializza con un fotogramma vuoto\n",
        "\n",
        "# Parametri per la simulazione\n",
        "simulation_time = 180\n",
        "sampling_frequency = 1 / 100\n",
        "num_points = int(simulation_time * sampling_frequency)\n",
        "\n",
        "# Liste per registrare le posizioni\n",
        "leg_positions_x_1, leg_positions_x_2, leg_positions_x_3 = [], [], []\n",
        "leg_positions_y_1, leg_positions_y_2, leg_positions_y_3 = [], [], []\n",
        "leg_positions_z_1, leg_positions_z_2, leg_positions_z_3 = [], [], []\n",
        "# Forza esterna da applicare\n",
        "force_module = np.array([50, 0, 0])\n",
        "force_position = np.array([0, 0, 0.99])  # Posizione dove applicare la forza"
      ],
      "metadata": {
        "colab": {
          "base_uri": "https://localhost:8080/"
        },
        "id": "CwN30FXDuMNT",
        "outputId": "8920f88e-e97e-4e16-feaf-0709ef169688"
      },
      "execution_count": 13,
      "outputs": [
        {
          "output_type": "stream",
          "name": "stderr",
          "text": [
            "WARNING:imageio_ffmpeg:IMAGEIO FFMPEG_WRITER WARNING: input image is not divisible by macro_block_size=16, resizing from (480, 360) to (480, 368) to ensure video compatibility with most codecs and players. To prevent resizing, make your input image divisible by the macro_block_size or set the macro_block_size to 1 (risking incompatibility).\n",
            "WARNING:imageio_ffmpeg:No frames have been written; the written video is invalid.\n"
          ]
        }
      ]
    },
    {
      "cell_type": "code",
      "source": [
        "\n",
        "# Ciclo principale della simulazione\n",
        "for step in range(1000):\n",
        "    p.stepSimulation()  # Avanza di un passo nella simulazione\n",
        "\n",
        "    if step == 50:\n",
        "      # Applicare la forza esterna al primo passo della simulazione\n",
        "      p.applyExternalForce(\n",
        "          objectUniqueId=PIPPA_id,\n",
        "          linkIndex=link_name_to_index['Bottom_Link_1'],\n",
        "          forceObj=force_module,\n",
        "          posObj=force_position,\n",
        "          flags=p.WORLD_FRAME\n",
        "      )\n",
        "\n",
        "      p.applyExternalForce(\n",
        "          objectUniqueId=PIPPA_id,\n",
        "          linkIndex=link_name_to_index['Bottom_Link_2'],\n",
        "          forceObj=force_module,\n",
        "          posObj=force_position,\n",
        "          flags=p.WORLD_FRAME\n",
        "      )\n",
        "\n",
        "      p.applyExternalForce(\n",
        "          objectUniqueId=PIPPA_id,\n",
        "          linkIndex=link_name_to_index['Bottom_Link_3'],\n",
        "          forceObj=force_module,\n",
        "          posObj=force_position,\n",
        "          flags=p.WORLD_FRAME\n",
        "      )\n",
        "\n",
        "    # Registrazione della posizione della gamba\n",
        "    leg_position_1 = p.getLinkState(PIPPA_id, link_name_to_index['Gamba_Link_1'])[0]\n",
        "    leg_position_2 = p.getLinkState(PIPPA_id, link_name_to_index['Gamba_Link_2'])[0]\n",
        "    leg_position_3 = p.getLinkState(PIPPA_id, link_name_to_index['Gamba_Link_3'])[0]\n",
        "\n",
        "    #append x\n",
        "    leg_positions_x_1.append(leg_position_1[0])\n",
        "    leg_positions_x_2.append(leg_position_2[0])\n",
        "    leg_positions_x_3.append(leg_position_3[0])\n",
        "    # append y\n",
        "    leg_positions_y_1.append(leg_position_1[1])\n",
        "    leg_positions_y_2.append(leg_position_2[1])\n",
        "    leg_positions_y_3.append(leg_position_3[1])\n",
        "    #append z\n",
        "    leg_positions_z_1.append(leg_position_1[2])\n",
        "    leg_positions_z_2.append(leg_position_2[2])\n",
        "    leg_positions_z_3.append(leg_position_3[2])\n",
        "\n",
        "\n",
        "    # Calcola la vista e la proiezione della fotocamera\n",
        "    cam_view_matrix = p.computeViewMatrixFromYawPitchRoll(\n",
        "        cam_target_pos, cam_distance, cam_yaw, cam_pitch, cam_roll, cam_up_axis_idx\n",
        "    )\n",
        "    cam_projection_matrix = p.computeProjectionMatrixFOV(\n",
        "        cam_fov, cam_width / cam_height, cam_near_plane, cam_far_plane\n",
        "    )\n",
        "\n",
        "    # Cattura l'immagine\n",
        "    image = p.getCameraImage(cam_width, cam_height, cam_view_matrix, cam_projection_matrix)[2][:, :, :3]\n",
        "\n",
        "    # Scrivi il fotogramma nel video\n",
        "    vid.send(np.ascontiguousarray(image))\n",
        "\n",
        "# Rilascia le risorse video\n",
        "vid.close()\n",
        "\n",
        "# Disconnessione dalla simulazione\n",
        "p.disconnect()"
      ],
      "metadata": {
        "id": "G-CfMAOLuhOA"
      },
      "execution_count": null,
      "outputs": []
    },
    {
      "cell_type": "code",
      "source": [
        "# Ora visualizziamo il video registrato nel notebook\n",
        "mp4 = open('simulation_output.mp4', 'rb').read()  # Leggi il file video\n",
        "data_url = \"data:video/mp4;base64,\" + b64encode(mp4).decode()  # Convertilo in Base64\n",
        "\n",
        "# Visualizza il video nel notebook Jupyter\n",
        "HTML('' % data_url)\n",
        ""
      ],
      "metadata": {
        "id": "nBq7mrF8v-Fw"
      },
      "execution_count": null,
      "outputs": []
    },
    {
      "cell_type": "code",
      "source": [
        "#plotting positions\n",
        "fig, axs = plt.subplots(3, 1, figsize=(8, 12))  # 3 righe, 1 colonna\n",
        "\n",
        "# x coordinate\n",
        "axs[0].plot(leg_positions_x_1, label='leg1_x')\n",
        "axs[0].plot(leg_positions_x_2, label='leg2_x')\n",
        "axs[0].plot(leg_positions_x_3, label='leg3_x')\n",
        "axs[0].legend()\n",
        "axs[0].grid()\n",
        "axs[0].minorticks_on()\n",
        "#axs[0].set_xlim(0,4000)\n",
        "axs[0].set_title('X Coordinate')\n",
        "\n",
        "# y coordinate\n",
        "axs[1].plot(leg_positions_y_1, label='leg1_y')\n",
        "axs[1].plot(leg_positions_y_2, label='leg2_y')\n",
        "axs[1].plot(leg_positions_y_3, label='leg3_y')\n",
        "axs[1].legend()\n",
        "axs[1].grid()\n",
        "axs[1].minorticks_on()\n",
        "#axs[1].set_xlim(0,4000)\n",
        "axs[1].set_title('Y Coordinate')\n",
        "\n",
        "# z coordinate\n",
        "axs[2].plot(leg_positions_z_1, label='leg1_z')\n",
        "axs[2].plot(leg_positions_z_2, label='leg2_z')\n",
        "axs[2].plot(leg_positions_z_3, label='leg3_z')\n",
        "axs[2].legend()\n",
        "axs[2].grid()\n",
        "axs[2].minorticks_on()\n",
        "#axs[2].set_xlim(0,4000)\n",
        "axs[2].set_title('Z Coordinate')\n",
        "\n",
        "plt.tight_layout()  # Ottimizza la disposizione delle sottotrame\n",
        "plt.show()\n"
      ],
      "metadata": {
        "id": "SV9yEnJ6wEPN"
      },
      "execution_count": null,
      "outputs": []
    },
    {
      "cell_type": "code",
      "source": [
        "#motion xy for 3 leg\n",
        "plt.figure('xy motion')\n",
        "plt.plot(leg_positions_x_1, leg_positions_y_1, label = 'leg1')\n",
        "plt.plot(leg_positions_x_2, leg_positions_y_2, label = 'leg2')\n",
        "plt.plot(leg_positions_x_3, leg_positions_y_3, label = 'leg3')\n",
        "plt.legend()\n",
        "plt.grid()\n",
        "plt.minorticks_on()\n",
        "\n",
        "plt.show()"
      ],
      "metadata": {
        "id": "7HqgPezswdbf"
      },
      "execution_count": null,
      "outputs": []
    },
    {
      "cell_type": "code",
      "source": [],
      "metadata": {
        "id": "E2xIKZGvwpwi"
      },
      "execution_count": null,
      "outputs": []
    }
  ]
}