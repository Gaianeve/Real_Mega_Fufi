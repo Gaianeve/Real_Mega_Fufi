{
  "nbformat": 4,
  "nbformat_minor": 0,
  "metadata": {
    "colab": {
      "provenance": []
    },
    "kernelspec": {
      "name": "python3",
      "display_name": "Python 3"
    },
    "language_info": {
      "name": "python"
    }
  },
  "cells": [
    {
      "cell_type": "code",
      "execution_count": 1,
      "metadata": {
        "colab": {
          "base_uri": "https://localhost:8080/"
        },
        "id": "lzzWXKwhLJ0h",
        "outputId": "8130d5ac-03c3-4ea5-d80c-b826ffb0736e"
      },
      "outputs": [
        {
          "output_type": "stream",
          "name": "stdout",
          "text": [
            "Collecting pybullet\n",
            "  Downloading pybullet-3.2.6-cp310-cp310-manylinux_2_17_x86_64.manylinux2014_x86_64.whl.metadata (1.8 kB)\n",
            "Downloading pybullet-3.2.6-cp310-cp310-manylinux_2_17_x86_64.manylinux2014_x86_64.whl (103.2 MB)\n",
            "\u001b[2K   \u001b[90m━━━━━━━━━━━━━━━━━━━━━━━━━━━━━━━━━━━━━━━━\u001b[0m \u001b[32m103.2/103.2 MB\u001b[0m \u001b[31m6.4 MB/s\u001b[0m eta \u001b[36m0:00:00\u001b[0m\n",
            "\u001b[?25hInstalling collected packages: pybullet\n",
            "Successfully installed pybullet-3.2.6\n",
            "Collecting gputil\n",
            "  Downloading GPUtil-1.4.0.tar.gz (5.5 kB)\n",
            "  Preparing metadata (setup.py) ... \u001b[?25l\u001b[?25hdone\n",
            "Building wheels for collected packages: gputil\n",
            "  Building wheel for gputil (setup.py) ... \u001b[?25l\u001b[?25hdone\n",
            "  Created wheel for gputil: filename=GPUtil-1.4.0-py3-none-any.whl size=7392 sha256=eb6b75e0d9a644b90ca3cfecbbbef526fd296aa351da1bec17734ec80c10a6b5\n",
            "  Stored in directory: /root/.cache/pip/wheels/a9/8a/bd/81082387151853ab8b6b3ef33426e98f5cbfebc3c397a9d4d0\n",
            "Successfully built gputil\n",
            "Installing collected packages: gputil\n",
            "Successfully installed gputil-1.4.0\n",
            "OS: linux\n",
            "3.10.12 (main, Sep 11 2024, 15:47:36) [GCC 11.4.0]\n",
            "GPUtil 1.4.0\n",
            "| ID | GPU | MEM |\n",
            "------------------\n",
            "| ID | Name | Serial | UUID || GPU temp. | GPU util. | Memory util. || Memory total | Memory used | Memory free || Display mode | Display active |\n",
            "--------------------------------------------------------------------------------------------------------------------------------------------------\n",
            "numGPUs= 0\n",
            "using CPU renderer (TinyRenderer)\n",
            "CPU times: user 320 ms, sys: 63 ms, total: 383 ms\n",
            "Wall time: 34.4 s\n"
          ]
        }
      ],
      "source": [
        "%%time\n",
        "!pip install pybullet\n",
        "\n",
        "\n",
        "#you can enable the GPU by changing the runtime\n",
        "import os\n",
        "os.environ['MESA_GL_VERSION_OVERRIDE'] = '3.3'\n",
        "os.environ['MESA_GLSL_VERSION_OVERRIDE'] = '330'\n",
        "import pybullet as p\n",
        "import pybullet_data as pd\n",
        "import numpy as np\n",
        "import matplotlib.pyplot as plt\n",
        "from matplotlib import pylab\n",
        "%matplotlib inline\n",
        "p.connect(p.DIRECT)\n",
        "#allow to find the assets (URDF, obj, textures etc)\n",
        "p.setAdditionalSearchPath(pd.getDataPath())\n",
        "#optionally enable GPU for faster rendering in pybullet.getCameraImage\n",
        "enableGPU = False\n",
        "!ln -sf /opt/bin/nvidia-smi /usr/bin/nvidia-smi\n",
        "!pip install gputil\n",
        "import GPUtil as GPU\n",
        "import sys\n",
        "# Get all device ids and their processing and memory utiliazion\n",
        "# (deviceIds, gpuUtil, memUtil) = GPU.getGPUs()\n",
        "\n",
        "# Print os and python version information\n",
        "print('OS: ' + sys.platform)\n",
        "print(sys.version)\n",
        "\n",
        "# Print package name and version number\n",
        "print(GPU.__name__ + ' ' + GPU.__version__)\n",
        "\n",
        "# Show the utilization of all GPUs in a nice table\n",
        "GPU.showUtilization()\n",
        "\n",
        "# Show all stats of all GPUs in a nice table\n",
        "GPU.showUtilization(all=True)\n",
        "\n",
        "# NOTE: If all your GPUs currently have a memory consumption larger than 1%,\n",
        "# this step will fail. It's not a bug! It is intended to do so, if it does not\n",
        "# find an available GPU.\n",
        "GPUs = GPU.getGPUs()\n",
        "numGPUs = len(GPU.getGPUs())\n",
        "print(\"numGPUs=\",numGPUs)\n",
        "if numGPUs > 0:\n",
        "  enableGPU = True\n",
        "eglPluginId = -1\n",
        "if enableGPU:\n",
        "  import pkgutil\n",
        "  egl = pkgutil.get_loader('eglRenderer')\n",
        "  if (egl):\n",
        "    eglPluginId = p.loadPlugin(egl.get_filename(), \"_eglRendererPlugin\")\n",
        "  else:\n",
        "    eglPluginId = p.loadPlugin(\"eglRendererPlugin\")\n",
        "\n",
        "if eglPluginId>=0:\n",
        "  print(\"Using GPU hardware (eglRenderer)\")\n",
        "else:\n",
        "  print(\"using CPU renderer (TinyRenderer)\")\n",
        "\n",
        "\n",
        "\n"
      ]
    },
    {
      "cell_type": "code",
      "source": [
        "!git clone https://github.com/Gaianeve/Real_Mega_Fufi.git\n",
        "%cd Real_Mega_Fufi/Robot/PIPPA"
      ],
      "metadata": {
        "colab": {
          "base_uri": "https://localhost:8080/"
        },
        "id": "vNhQy1iMLi2E",
        "outputId": "7fa9d7c9-8c6b-43a4-80ac-2687f546b86c"
      },
      "execution_count": 2,
      "outputs": [
        {
          "output_type": "stream",
          "name": "stdout",
          "text": [
            "Cloning into 'Real_Mega_Fufi'...\n",
            "remote: Enumerating objects: 120, done.\u001b[K\n",
            "remote: Counting objects: 100% (120/120), done.\u001b[K\n",
            "remote: Compressing objects: 100% (109/109), done.\u001b[K\n",
            "remote: Total 120 (delta 45), reused 0 (delta 0), pack-reused 0 (from 0)\u001b[K\n",
            "Receiving objects: 100% (120/120), 755.26 KiB | 3.61 MiB/s, done.\n",
            "Resolving deltas: 100% (45/45), done.\n",
            "/content/Real_Mega_Fufi/Robot/PIPPA\n"
          ]
        }
      ]
    },
    {
      "cell_type": "code",
      "source": [
        "p.resetSimulation()\n",
        "p.configureDebugVisualizer(p.COV_ENABLE_GUI)\n",
        "useFixedBase = True\n",
        "flags = p.URDF_INITIALIZE_SAT_FEATURES\n",
        "\n",
        "plane_pos = [0,0,-0.1]\n",
        "plane = p.loadURDF(\"plane.urdf\", plane_pos, flags = flags, useFixedBase=useFixedBase)\n",
        "PIP_position = [0,0,0]\n",
        "orientation  = [0,0,0]\n",
        "PIP_orientation = p.getQuaternionFromEuler(orientation)\n",
        "PIPPA_id = p.loadURDF(\"PIPPA.urdf\",basePosition = PIP_position,baseOrientation = PIP_orientation,\\\n",
        "                      useFixedBase=useFixedBase)"
      ],
      "metadata": {
        "id": "iMvxBIdCLcN3"
      },
      "execution_count": 21,
      "outputs": []
    },
    {
      "cell_type": "code",
      "source": [
        "%%time\n",
        "camTargetPos = [0, 0, 0]\n",
        "cameraUp = [0, 0, 1]\n",
        "cameraPos = [1, 1, 1]\n",
        "p.setGravity(0, 0, -10)\n",
        "\n",
        "from google.colab import widgets\n",
        "import numpy as np\n",
        "import random\n",
        "import time\n",
        "from matplotlib import pylab\n",
        "grid = widgets.Grid(2, 2)\n",
        "yaw = 0\n",
        "for r in range(2):\n",
        "  for c in range(2):\n",
        "    yaw += 60\n",
        "    with grid.output_to(r, c):\n",
        "      grid.clear_cell()\n",
        "      pylab.figure(figsize=(10, 5))\n",
        "      pitch = -10.0\n",
        "      roll = 0\n",
        "      upAxisIndex = 2\n",
        "      camDistance = 2.5\n",
        "      pixelWidth = 640\n",
        "      pixelHeight = 480\n",
        "      nearPlane = 0.01\n",
        "      farPlane = 100\n",
        "      fov = 60\n",
        "      viewMatrix = p.computeViewMatrixFromYawPitchRoll(camTargetPos, camDistance, yaw, pitch,\n",
        "                                                                  roll, upAxisIndex)\n",
        "      aspect = pixelWidth / pixelHeight\n",
        "      projectionMatrix = p.computeProjectionMatrixFOV(fov, aspect, nearPlane, farPlane)\n",
        "\n",
        "      img_arr = p.getCameraImage(pixelWidth,pixelHeight,viewMatrix,projectionMatrix)\n",
        "      w = img_arr[0]  #width of the image, in pixels\n",
        "      h = img_arr[1]  #height of the image, in pixels\n",
        "      rgb = img_arr[2]  #color data RGB\n",
        "      dep = img_arr[3]  #depth data\n",
        "      print(\"w=\",w,\"h=\",h)\n",
        "      np_img_arr = np.reshape(rgb, (h, w, 4))\n",
        "      np_img_arr = np_img_arr * (1. / 255.)\n",
        "      pylab.imshow(np_img_arr, interpolation='none', animated=True, label=\"pybullet\")\n",
        "\n",
        "\n",
        "\n"
      ],
      "metadata": {
        "colab": {
          "base_uri": "https://localhost:8080/",
          "height": 1000
        },
        "id": "DXiiKAhLMG2z",
        "outputId": "878d3482-dfc2-401f-9ed6-fd2ac099d1c5"
      },
      "execution_count": 26,
      "outputs": [
        {
          "output_type": "display_data",
          "data": {
            "text/plain": [
              "<IPython.core.display.HTML object>"
            ],
            "text/html": [
              "<style>\n",
              "       table#id26, #id26 > tbody > tr > th, #id26 > tbody > tr > td {\n",
              "         border: 1px solid lightgray;\n",
              "         border-collapse:collapse;\n",
              "         \n",
              "        }</style>"
            ]
          },
          "metadata": {}
        },
        {
          "output_type": "display_data",
          "data": {
            "text/plain": [
              "<IPython.core.display.HTML object>"
            ],
            "text/html": [
              "<table id=id26><tr><td id=id26-0-0></td><td id=id26-0-1></td></tr><tr><td id=id26-1-0></td><td id=id26-1-1></td></tr></table>"
            ]
          },
          "metadata": {}
        },
        {
          "output_type": "display_data",
          "data": {
            "text/plain": [
              "<IPython.core.display.Javascript object>"
            ],
            "application/javascript": [
              "window[\"ea7af986-88aa-11ef-9cd2-0242ac1c000c\"] = google.colab.output.getActiveOutputArea();\n",
              "//# sourceURL=js_b27fa5efc9"
            ]
          },
          "metadata": {}
        },
        {
          "output_type": "display_data",
          "data": {
            "text/plain": [
              "<IPython.core.display.Javascript object>"
            ],
            "application/javascript": [
              "window[\"ea7b4ee0-88aa-11ef-9cd2-0242ac1c000c\"] = document.querySelector(\"#id26-0-0\");\n",
              "//# sourceURL=js_923ef524e6"
            ]
          },
          "metadata": {}
        },
        {
          "output_type": "display_data",
          "data": {
            "text/plain": [
              "<IPython.core.display.Javascript object>"
            ],
            "application/javascript": [
              "window[\"ea7bafb6-88aa-11ef-9cd2-0242ac1c000c\"] = google.colab.output.setActiveOutputArea(window[\"ea7b4ee0-88aa-11ef-9cd2-0242ac1c000c\"]);\n",
              "//# sourceURL=js_03b1d5163d"
            ]
          },
          "metadata": {}
        },
        {
          "output_type": "stream",
          "name": "stdout",
          "text": [
            "w= 640 h= 480\n"
          ]
        },
        {
          "output_type": "display_data",
          "data": {
            "text/plain": [
              "<IPython.core.display.Javascript object>"
            ],
            "application/javascript": [
              "window[\"eaa6f31a-88aa-11ef-9cd2-0242ac1c000c\"] = google.colab.output.setActiveOutputArea(window[\"ea7af986-88aa-11ef-9cd2-0242ac1c000c\"]);\n",
              "//# sourceURL=js_0f5979926f"
            ]
          },
          "metadata": {}
        },
        {
          "output_type": "display_data",
          "data": {
            "text/plain": [
              "<IPython.core.display.Javascript object>"
            ],
            "application/javascript": [
              "window[\"eaa981ca-88aa-11ef-9cd2-0242ac1c000c\"] = google.colab.output.getActiveOutputArea();\n",
              "//# sourceURL=js_e3dd6cf2f6"
            ]
          },
          "metadata": {}
        },
        {
          "output_type": "display_data",
          "data": {
            "text/plain": [
              "<IPython.core.display.Javascript object>"
            ],
            "application/javascript": [
              "window[\"eaa9d936-88aa-11ef-9cd2-0242ac1c000c\"] = document.querySelector(\"#id26-0-1\");\n",
              "//# sourceURL=js_c3d335a054"
            ]
          },
          "metadata": {}
        },
        {
          "output_type": "display_data",
          "data": {
            "text/plain": [
              "<IPython.core.display.Javascript object>"
            ],
            "application/javascript": [
              "window[\"eaaa3e08-88aa-11ef-9cd2-0242ac1c000c\"] = google.colab.output.setActiveOutputArea(window[\"eaa9d936-88aa-11ef-9cd2-0242ac1c000c\"]);\n",
              "//# sourceURL=js_be7bbd4cbb"
            ]
          },
          "metadata": {}
        },
        {
          "output_type": "stream",
          "name": "stdout",
          "text": [
            "w= 640 h= 480\n"
          ]
        },
        {
          "output_type": "display_data",
          "data": {
            "text/plain": [
              "<IPython.core.display.Javascript object>"
            ],
            "application/javascript": [
              "window[\"eabfb864-88aa-11ef-9cd2-0242ac1c000c\"] = google.colab.output.setActiveOutputArea(window[\"eaa981ca-88aa-11ef-9cd2-0242ac1c000c\"]);\n",
              "//# sourceURL=js_1905739d4b"
            ]
          },
          "metadata": {}
        },
        {
          "output_type": "display_data",
          "data": {
            "text/plain": [
              "<IPython.core.display.Javascript object>"
            ],
            "application/javascript": [
              "window[\"eac1f57a-88aa-11ef-9cd2-0242ac1c000c\"] = google.colab.output.getActiveOutputArea();\n",
              "//# sourceURL=js_f948d2161f"
            ]
          },
          "metadata": {}
        },
        {
          "output_type": "display_data",
          "data": {
            "text/plain": [
              "<IPython.core.display.Javascript object>"
            ],
            "application/javascript": [
              "window[\"eac24142-88aa-11ef-9cd2-0242ac1c000c\"] = document.querySelector(\"#id26-1-0\");\n",
              "//# sourceURL=js_589df18632"
            ]
          },
          "metadata": {}
        },
        {
          "output_type": "display_data",
          "data": {
            "text/plain": [
              "<IPython.core.display.Javascript object>"
            ],
            "application/javascript": [
              "window[\"eac28df0-88aa-11ef-9cd2-0242ac1c000c\"] = google.colab.output.setActiveOutputArea(window[\"eac24142-88aa-11ef-9cd2-0242ac1c000c\"]);\n",
              "//# sourceURL=js_d17b7f422e"
            ]
          },
          "metadata": {}
        },
        {
          "output_type": "stream",
          "name": "stdout",
          "text": [
            "w= 640 h= 480\n"
          ]
        },
        {
          "output_type": "display_data",
          "data": {
            "text/plain": [
              "<IPython.core.display.Javascript object>"
            ],
            "application/javascript": [
              "window[\"ead8ac84-88aa-11ef-9cd2-0242ac1c000c\"] = google.colab.output.setActiveOutputArea(window[\"eac1f57a-88aa-11ef-9cd2-0242ac1c000c\"]);\n",
              "//# sourceURL=js_7951950e45"
            ]
          },
          "metadata": {}
        },
        {
          "output_type": "display_data",
          "data": {
            "text/plain": [
              "<IPython.core.display.Javascript object>"
            ],
            "application/javascript": [
              "window[\"eada6bf0-88aa-11ef-9cd2-0242ac1c000c\"] = google.colab.output.getActiveOutputArea();\n",
              "//# sourceURL=js_2970ce45fd"
            ]
          },
          "metadata": {}
        },
        {
          "output_type": "display_data",
          "data": {
            "text/plain": [
              "<IPython.core.display.Javascript object>"
            ],
            "application/javascript": [
              "window[\"eadab4a2-88aa-11ef-9cd2-0242ac1c000c\"] = document.querySelector(\"#id26-1-1\");\n",
              "//# sourceURL=js_eb0783bffb"
            ]
          },
          "metadata": {}
        },
        {
          "output_type": "display_data",
          "data": {
            "text/plain": [
              "<IPython.core.display.Javascript object>"
            ],
            "application/javascript": [
              "window[\"eadaf9b2-88aa-11ef-9cd2-0242ac1c000c\"] = google.colab.output.setActiveOutputArea(window[\"eadab4a2-88aa-11ef-9cd2-0242ac1c000c\"]);\n",
              "//# sourceURL=js_abaadced9d"
            ]
          },
          "metadata": {}
        },
        {
          "output_type": "stream",
          "name": "stdout",
          "text": [
            "w= 640 h= 480\n"
          ]
        },
        {
          "output_type": "display_data",
          "data": {
            "text/plain": [
              "<IPython.core.display.Javascript object>"
            ],
            "application/javascript": [
              "window[\"eaf5bb6c-88aa-11ef-9cd2-0242ac1c000c\"] = google.colab.output.setActiveOutputArea(window[\"eada6bf0-88aa-11ef-9cd2-0242ac1c000c\"]);\n",
              "//# sourceURL=js_6745f03652"
            ]
          },
          "metadata": {}
        },
        {
          "output_type": "stream",
          "name": "stdout",
          "text": [
            "CPU times: user 806 ms, sys: 17.9 ms, total: 824 ms\n",
            "Wall time: 838 ms\n"
          ]
        },
        {
          "output_type": "display_data",
          "data": {
            "text/plain": [
              "<Figure size 1000x500 with 1 Axes>"
            ],
            "image/png": "[encoded data removed]"
          },
          "metadata": {}
        },
        {
          "output_type": "display_data",
          "data": {
            "text/plain": [
              "<Figure size 1000x500 with 1 Axes>"
            ],
            "image/png": "[encoded data removed]"
          },
          "metadata": {}
        },
        {
          "output_type": "display_data",
          "data": {
            "text/plain": [
              "<Figure size 1000x500 with 1 Axes>"
            ],
            "image/png": "[encoded data removed]"
          },
          "metadata": {}
        },
        {
          "output_type": "display_data",
          "data": {
            "text/plain": [
              "<Figure size 1000x500 with 1 Axes>"
            ],
            "image/png": "[encoded data removed]"
          },
          "metadata": {}
        }
      ]
    },
    {
      "cell_type": "code",
      "source": [
        "!pip install numpngw\n",
        "from numpngw import write_apng\n",
        "from IPython.display import Image\n",
        "\n",
        "\n",
        "\n",
        "frames=[] #frames to create animated png\n",
        "for r in range(60):\n",
        "    yaw += 6\n",
        "    pitch = -10.0\n",
        "    roll = 0\n",
        "    upAxisIndex = 2\n",
        "    camDistance = 2.5\n",
        "    pixelWidth = 320\n",
        "    pixelHeight = 200\n",
        "    nearPlane = 0.01\n",
        "    farPlane = 100\n",
        "    fov = 60\n",
        "    viewMatrix = p.computeViewMatrixFromYawPitchRoll(camTargetPos, camDistance, yaw, pitch,\n",
        "                                                                roll, upAxisIndex)\n",
        "    aspect = pixelWidth / pixelHeight\n",
        "    projectionMatrix = p.computeProjectionMatrixFOV(fov, aspect, nearPlane, farPlane)\n",
        "\n",
        "    img_arr = p.getCameraImage(pixelWidth,pixelHeight,viewMatrix,projectionMatrix)\n",
        "    w = img_arr[0]  #width of the image, in pixels\n",
        "    h = img_arr[1]  #height of the image, in pixels\n",
        "    rgb = img_arr[2]  #color data RGB\n",
        "    dep = img_arr[3]  #depth data\n",
        "    #print(\"w=\",w,\"h=\",h)\n",
        "    np_img_arr = np.reshape(rgb, (h, w, 4))\n",
        "    frame = np_img_arr[:, :, :3]\n",
        "    frames.append(frame)\n",
        "print(\"creating animated png, please about 5 seconds\")\n",
        "%time write_apng(\"PIPPA.png\", frames, delay=100)\n",
        "%time Image(filename=\"PIPPA.png\")\n",
        "\n",
        "plt.imsave(\"PIPPA.png\", np_img_arr)"
      ],
      "metadata": {
        "id": "EfCWp8qhLzsJ",
        "colab": {
          "base_uri": "https://localhost:8080/"
        },
        "outputId": "7bd6f453-6236-4cb6-c29b-83b12b98559a"
      },
      "execution_count": 28,
      "outputs": [
        {
          "output_type": "stream",
          "name": "stdout",
          "text": [
            "Requirement already satisfied: numpngw in /usr/local/lib/python3.10/dist-packages (0.1.4)\n",
            "Requirement already satisfied: numpy>=1.6.0 in /usr/local/lib/python3.10/dist-packages (from numpngw) (1.26.4)\n",
            "creating animated png, please about 5 seconds\n",
            "CPU times: user 4.83 s, sys: 12.1 ms, total: 4.85 s\n",
            "Wall time: 7.56 s\n",
            "CPU times: user 1.47 ms, sys: 47 µs, total: 1.52 ms\n",
            "Wall time: 1.5 ms\n"
          ]
        }
      ]
    },
    {
      "cell_type": "code",
      "source": [],
      "metadata": {
        "id": "2-z_BQRmNeyg"
      },
      "execution_count": null,
      "outputs": []
    }
  ]
}
