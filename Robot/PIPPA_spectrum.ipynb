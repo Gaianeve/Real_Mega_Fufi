{
  "nbformat": 4,
  "nbformat_minor": 0,
  "metadata": {
    "colab": {
      "provenance": []
    },
    "kernelspec": {
      "name": "python3",
      "display_name": "Python 3"
    },
    "language_info": {
      "name": "python"
    }
  },
  "cells": [
    {
      "cell_type": "markdown",
      "source": [
        "# PIP model 🐾 🤖\n",
        "In this notebook I import and play with my PIP model, designed in blender"
      ],
      "metadata": {
        "id": "7_zU6kpQmyUz"
      }
    },
    {
      "cell_type": "code",
      "execution_count": 1,
      "metadata": {
        "colab": {
          "base_uri": "https://localhost:8080/"
        },
        "id": "5H1rQwPkmayl",
        "outputId": "f1d4da6e-1161-4db7-9449-88a539af2dfe"
      },
      "outputs": [
        {
          "output_type": "stream",
          "name": "stdout",
          "text": [
            "Collecting pybullet\n",
            "  Downloading pybullet-3.2.6-cp310-cp310-manylinux_2_17_x86_64.manylinux2014_x86_64.whl.metadata (1.8 kB)\n",
            "Downloading pybullet-3.2.6-cp310-cp310-manylinux_2_17_x86_64.manylinux2014_x86_64.whl (103.2 MB)\n",
            "\u001b[2K   \u001b[90m━━━━━━━━━━━━━━━━━━━━━━━━━━━━━━━━━━━━━━━━\u001b[0m \u001b[32m103.2/103.2 MB\u001b[0m \u001b[31m7.3 MB/s\u001b[0m eta \u001b[36m0:00:00\u001b[0m\n",
            "\u001b[?25hInstalling collected packages: pybullet\n",
            "Successfully installed pybullet-3.2.6\n"
          ]
        }
      ],
      "source": [
        "!pip install pybullet"
      ]
    },
    {
      "cell_type": "markdown",
      "source": [
        "## GPU e CPU setting  🌇 🎥\n",
        "In Colab u cannot directly connect with `p.connect(GUI)`, that would be necessary for rendering, that's why u gotta adapt thing up a little.\n",
        "\n",
        "In the cell below we set things up for rendering as explained in this notebook [Here](https://colab.research.google.com/drive/1u6j7JOqM05vUUjpVp5VNk0pd8q-vqGlx#scrollTo=fJXFN4U7NIRC)"
      ],
      "metadata": {
        "id": "vVevX3UYaf91"
      }
    },
    {
      "cell_type": "code",
      "source": [
        "#you can enable the GPU by changing the runtime\n",
        "import os\n",
        "os.environ['MESA_GL_VERSION_OVERRIDE'] = '3.3'\n",
        "os.environ['MESA_GLSL_VERSION_OVERRIDE'] = '330'\n",
        "import pybullet as p\n",
        "import pybullet_data as pd\n",
        "import numpy as np\n",
        "import matplotlib.pyplot as plt\n",
        "%matplotlib inline\n",
        "from matplotlib import pylab\n",
        "from google.colab import widgets\n",
        "import random\n",
        "import time\n",
        "\n",
        "p.connect(p.DIRECT)\n",
        "#allow to find the assets (URDF, obj, textures etc)\n",
        "p.setAdditionalSearchPath(pd.getDataPath())\n",
        "\n",
        "#optionally enable GPU for faster rendering in pybullet.getCameraImage\n",
        "enableGPU = False\n",
        "!ln -sf /opt/bin/nvidia-smi /usr/bin/nvidia-smi\n",
        "!pip install gputil\n",
        "import GPUtil as GPU\n",
        "import sys\n",
        "# Get all device ids and their processing and memory utiliazion\n",
        "# (deviceIds, gpuUtil, memUtil) = GPU.getGPUs()\n",
        "\n",
        "# Print os and python version information\n",
        "print('OS: ' + sys.platform)\n",
        "print(sys.version)\n",
        "\n",
        "# Print package name and version number\n",
        "print(GPU.__name__ + ' ' + GPU.__version__)\n",
        "\n",
        "# Show the utilization of all GPUs in a nice table\n",
        "GPU.showUtilization()\n",
        "\n",
        "# Show all stats of all GPUs in a nice table\n",
        "GPU.showUtilization(all=True)\n",
        "\n",
        "# NOTE: If all your GPUs currently have a memory consumption larger than 1%,\n",
        "# this step will fail. It's not a bug! It is intended to do so, if it does not\n",
        "# find an available GPU.\n",
        "GPUs = GPU.getGPUs()\n",
        "numGPUs = len(GPU.getGPUs())\n",
        "print(\"numGPUs=\",numGPUs)\n",
        "if numGPUs > 0:\n",
        "  enableGPU = True\n",
        "eglPluginId = -1\n",
        "if enableGPU:\n",
        "  import pkgutil\n",
        "  egl = pkgutil.get_loader('eglRenderer')\n",
        "  if (egl):\n",
        "    eglPluginId = p.loadPlugin(egl.get_filename(), \"_eglRendererPlugin\")\n",
        "  else:\n",
        "    eglPluginId = p.loadPlugin(\"eglRendererPlugin\")\n",
        "\n",
        "if eglPluginId>=0:\n",
        "  print(\"Using GPU hardware (eglRenderer)\")\n",
        "else:\n",
        "  print(\"using CPU renderer (TinyRenderer)\")"
      ],
      "metadata": {
        "colab": {
          "base_uri": "https://localhost:8080/"
        },
        "id": "Ex9COCQDaQdn",
        "outputId": "3f0a9c93-5d35-48b3-d834-4f14ae1d7b86"
      },
      "execution_count": 2,
      "outputs": [
        {
          "output_type": "stream",
          "name": "stdout",
          "text": [
            "Collecting gputil\n",
            "  Downloading GPUtil-1.4.0.tar.gz (5.5 kB)\n",
            "  Preparing metadata (setup.py) ... \u001b[?25l\u001b[?25hdone\n",
            "Building wheels for collected packages: gputil\n",
            "  Building wheel for gputil (setup.py) ... \u001b[?25l\u001b[?25hdone\n",
            "  Created wheel for gputil: filename=GPUtil-1.4.0-py3-none-any.whl size=7392 sha256=33e3cfaa07cba28b2b607b24244ca2565c0709dbbfa2a91d6d70459e64e865f2\n",
            "  Stored in directory: /root/.cache/pip/wheels/a9/8a/bd/81082387151853ab8b6b3ef33426e98f5cbfebc3c397a9d4d0\n",
            "Successfully built gputil\n",
            "Installing collected packages: gputil\n",
            "Successfully installed gputil-1.4.0\n",
            "OS: linux\n",
            "3.10.12 (main, Sep 11 2024, 15:47:36) [GCC 11.4.0]\n",
            "GPUtil 1.4.0\n",
            "| ID | GPU | MEM |\n",
            "------------------\n",
            "| ID | Name | Serial | UUID || GPU temp. | GPU util. | Memory util. || Memory total | Memory used | Memory free || Display mode | Display active |\n",
            "--------------------------------------------------------------------------------------------------------------------------------------------------\n",
            "numGPUs= 0\n",
            "using CPU renderer (TinyRenderer)\n"
          ]
        }
      ]
    },
    {
      "cell_type": "markdown",
      "source": [
        "## Loading model 📡 🛰"
      ],
      "metadata": {
        "id": "GVaJMroNn4lF"
      }
    },
    {
      "cell_type": "code",
      "source": [
        "!git clone https://github.com/Gaianeve/Real_Mega_Fufi.git"
      ],
      "metadata": {
        "colab": {
          "base_uri": "https://localhost:8080/"
        },
        "id": "eOf0ZYeuqKjZ",
        "outputId": "74dbaf7d-1582-4b54-91ce-9c7237bbb662"
      },
      "execution_count": 3,
      "outputs": [
        {
          "output_type": "stream",
          "name": "stdout",
          "text": [
            "Cloning into 'Real_Mega_Fufi'...\n",
            "remote: Enumerating objects: 535, done.\u001b[K\n",
            "remote: Counting objects: 100% (356/356), done.\u001b[K\n",
            "remote: Compressing objects: 100% (237/237), done.\u001b[K\n",
            "remote: Total 535 (delta 232), reused 184 (delta 115), pack-reused 179 (from 1)\u001b[K\n",
            "Receiving objects: 100% (535/535), 5.12 MiB | 8.65 MiB/s, done.\n",
            "Resolving deltas: 100% (317/317), done.\n"
          ]
        }
      ]
    },
    {
      "cell_type": "code",
      "source": [
        "%cd Real_Mega_Fufi/Robot/PIPPA"
      ],
      "metadata": {
        "colab": {
          "base_uri": "https://localhost:8080/"
        },
        "id": "Df4k0SJGqUjR",
        "outputId": "6c4752f1-4522-4d2b-8934-40b7296e6f0a"
      },
      "execution_count": 4,
      "outputs": [
        {
          "output_type": "stream",
          "name": "stdout",
          "text": [
            "/content/Real_Mega_Fufi/Robot/PIPPA\n"
          ]
        }
      ]
    },
    {
      "cell_type": "code",
      "source": [
        "p.resetSimulation()\n",
        "p.configureDebugVisualizer(p.COV_ENABLE_GUI)\n",
        "#tell him to slide freely on the ground plane\n",
        "useFixedBase = False\n",
        "flags = p.URDF_INITIALIZE_SAT_FEATURES\n",
        "\n",
        "plane_pos = [0,0,-0.1]\n",
        "plane = p.loadURDF(\"plane.urdf\", plane_pos, flags = flags, useFixedBase=useFixedBase)\n",
        "\n",
        "# position of the base of the model\n",
        "PIP_position = [0,0,1.043]\n",
        "orientation  = [np.pi,0,0]\n",
        "PIP_orientation = p.getQuaternionFromEuler(orientation)\n",
        "PIPPA_id = p.loadURDF(\"PIPPA.urdf\",basePosition = PIP_position,baseOrientation = PIP_orientation,\\\n",
        "                      useFixedBase=useFixedBase)\n"
      ],
      "metadata": {
        "id": "31KyVgJQmx4R"
      },
      "execution_count": 5,
      "outputs": []
    },
    {
      "cell_type": "markdown",
      "source": [
        "## Useful info and tools 🎮 📚 🏮\n",
        "Print name and index of the joints and links.\n",
        "\n",
        "Rembember that in Pybullet the following rule holds:\n",
        "\n",
        " 🛑 ❗  `linkIndex == jointIndex`\n",
        "\n",
        "\n"
      ],
      "metadata": {
        "id": "t07vJnlssj0J"
      }
    },
    {
      "cell_type": "markdown",
      "source": [
        "### Link indexes 🔗 🥠\n"
      ],
      "metadata": {
        "id": "KW9YJr361ydw"
      }
    },
    {
      "cell_type": "code",
      "source": [
        "link_name_to_index = {p.getBodyInfo(PIPPA_id)[0].decode('UTF-8'):-1,}\n",
        "\n",
        "for id in range(p.getNumJoints(PIPPA_id)):\n",
        "  name = p.getJointInfo(PIPPA_id, id)[12].decode('UTF-8')\n",
        "  link_name_to_index[name] = id\n",
        "\n",
        "print(link_name_to_index)"
      ],
      "metadata": {
        "colab": {
          "base_uri": "https://localhost:8080/"
        },
        "id": "9uS9uRglID8F",
        "outputId": "c42adf69-1e94-4c0d-d586-7363ade22e98"
      },
      "execution_count": 6,
      "outputs": [
        {
          "output_type": "stream",
          "name": "stdout",
          "text": [
            "{'Top_core': -1, 'Top_Link_1': 0, 'Cover_Link1': 1, 'Gamba_Link_1': 2, 'Elastic_Joint_Link_1': 3, 'Colonna_Link_1': 4, 'Bottom_Link_1': 5, 'Top_Link_2': 6, 'Cover_Link_2': 7, 'Gamba_Link_2': 8, 'Elastic_Joint_link_2': 9, 'Colonna_Link_2': 10, 'Bottom_Link_2': 11, 'Top_Link_3': 12, 'Cover_Link_3': 13, 'Gamba_Link_3': 14, 'Elastic_Joint_link_3': 15, 'Colonna_Link_3': 16, 'Bottom_Link_3': 17}\n"
          ]
        }
      ]
    },
    {
      "cell_type": "markdown",
      "source": [
        "### Joints name and index 🦾 🪴"
      ],
      "metadata": {
        "id": "VAWdsaaaKC33"
      }
    },
    {
      "cell_type": "code",
      "source": [
        "joint_name_index = {}\n",
        "\n",
        "for id in range(p.getNumJoints(PIPPA_id)):\n",
        "    # Ottieni informazioni sul giunto\n",
        "    joint_info = p.getJointInfo(PIPPA_id, id)\n",
        "    name = joint_info[1].decode('UTF-8')  # Utilizza l'indice corretto per il nome del giunto\n",
        "    joint_name_index[name] = id\n",
        "    # Stampa il nome e l'indice\n",
        "    print(f\"Giunto: {name}, Indice: {id}\")\n",
        "print(joint_name_index)"
      ],
      "metadata": {
        "colab": {
          "base_uri": "https://localhost:8080/"
        },
        "id": "V0fDC6dmKUrF",
        "outputId": "87cd2620-3333-4387-9dbc-1ee4c00dbf65"
      },
      "execution_count": 7,
      "outputs": [
        {
          "output_type": "stream",
          "name": "stdout",
          "text": [
            "Giunto: Cover_to_top_1, Indice: 0\n",
            "Giunto: Cover_to_leg_1, Indice: 1\n",
            "Giunto: Leg_to_elastic_1, Indice: 2\n",
            "Giunto: elastic_to_column_1, Indice: 3\n",
            "Giunto: Bottom_to_Column_1, Indice: 4\n",
            "Giunto: Center_to_bottom1, Indice: 5\n",
            "Giunto: Cover_to_top_2, Indice: 6\n",
            "Giunto: Cover_to_leg_2, Indice: 7\n",
            "Giunto: Leg_to_elastic_2, Indice: 8\n",
            "Giunto: elastic_to_column_2, Indice: 9\n",
            "Giunto: Bottom_to_column_2, Indice: 10\n",
            "Giunto: Center_to_bottom2, Indice: 11\n",
            "Giunto: Cover_to_top_3, Indice: 12\n",
            "Giunto: Cover_to_leg_3, Indice: 13\n",
            "Giunto: Leg_to_elastic_3, Indice: 14\n",
            "Giunto: elastic_to_column_3, Indice: 15\n",
            "Giunto: Bottom_to_column3, Indice: 16\n",
            "Giunto: center_to_bottom3, Indice: 17\n",
            "{'Cover_to_top_1': 0, 'Cover_to_leg_1': 1, 'Leg_to_elastic_1': 2, 'elastic_to_column_1': 3, 'Bottom_to_Column_1': 4, 'Center_to_bottom1': 5, 'Cover_to_top_2': 6, 'Cover_to_leg_2': 7, 'Leg_to_elastic_2': 8, 'elastic_to_column_2': 9, 'Bottom_to_column_2': 10, 'Center_to_bottom2': 11, 'Cover_to_top_3': 12, 'Cover_to_leg_3': 13, 'Leg_to_elastic_3': 14, 'elastic_to_column_3': 15, 'Bottom_to_column3': 16, 'center_to_bottom3': 17}\n"
          ]
        }
      ]
    },
    {
      "cell_type": "markdown",
      "source": [
        "## TABELLA RIASSUNTIVA DI INDICI DI LINK E GIUNTI\n",
        "\n",
        "| Tipo    | Nome                     | Indice |\n",
        "|---------|---------------------------|--------|\n",
        "| 🔗✨ Link  | Top_core                 | -1     |\n",
        "| 🔗🌟 Link  | Top_Link_1               | 0      |\n",
        "| 🔗🎉 Link  | Cover_Link1              | 1      |\n",
        "| 🔗💫 Link  | Gamba_Link_1             | 2      |\n",
        "| 🔗🌼 Link  | Elastic_Joint_Link_1     | 3      |\n",
        "| 🔗🌻 Link  | Colonna_Link_1           | 4      |\n",
        "| 🔗🍀 Link  | Bottom_Link_1            | 5      |\n",
        "| 🔗🌺 Link  | Top_Link_2               | 6      |\n",
        "| 🔗🎈 Link  | Cover_Link_2             | 7      |\n",
        "| 🔗✨ Link  | Gamba_Link_2             | 8      |\n",
        "| 🔗🌈 Link  | Elastic_Joint_link_2     | 9      |\n",
        "| 🔗🌟 Link  | Colonna_Link_2           | 10     |\n",
        "| 🔗🎉 Link  | Bottom_Link_2            | 11     |\n",
        "| 🔗💫 Link  | Top_Link_3               | 12     |\n",
        "| 🔗🌼 Link  | Cover_Link_3             | 13     |\n",
        "| 🔗🌻 Link  | Gamba_Link_3             | 14     |\n",
        "| 🔗🍀 Link  | Elastic_Joint_link_3     | 15     |\n",
        "| 🔗🌺 Link  | Colonna_Link_3           | 16     |\n",
        "| 🔗🎈 Link  | Bottom_Link_3            | 17     |\n",
        "|---------|---------------------------|--------|\n",
        "| ⚙️✨ Giunto| Cover_to_top_1           | 0      |\n",
        "| ⚙️🌈 Giunto| Cover_to_leg_1           | 1      |\n",
        "| ⚙️🌟 Giunto| Leg_to_elastic_1         | 2      |\n",
        "| ⚙️🎉 Giunto| elastic_to_column_1      | 3      |\n",
        "| ⚙️💫 Giunto| Bottom_to_Column_1       | 4      |\n",
        "| ⚙️🌼 Giunto| Center_to_bottom1        | 5      |\n",
        "| ⚙️🌻 Giunto| Cover_to_top_2           | 6      |\n",
        "| ⚙️🍀 Giunto| Cover_to_leg_2           | 7      |\n",
        "| ⚙️🌺 Giunto| Leg_to_elastic_2         | 8      |\n",
        "| ⚙️🎈 Giunto| elastic_to_column_2      | 9      |\n",
        "| ⚙️✨ Giunto| Bottom_to_column_2       | 10     |\n",
        "| ⚙️🌈 Giunto| Center_to_bottom2        | 11     |\n",
        "| ⚙️🌟 Giunto| Cover_to_top_3           | 12     |\n",
        "| ⚙️🎉 Giunto| Cover_to_leg_3           | 13     |\n",
        "| ⚙️💫 Giunto| Leg_to_elastic_3         | 14     |\n",
        "| ⚙️🌼 Giunto| elastic_to_column_3      | 15     |\n",
        "| ⚙️🌻 Giunto| Bottom_to_column3        | 16     |\n",
        "| ⚙️🍀 Giunto| center_to_bottom3        | 17     |\n"
      ],
      "metadata": {
        "id": "Bm820626Lg4B"
      }
    },
    {
      "cell_type": "markdown",
      "source": [
        "## Changing material of the links ⛵ 🦚\n",
        "Assign material trough the properties by changing dinamics. Everything about elastic joint Young modulus is being dealt with in the urdf file.\n",
        "\n",
        "Basically, the joint is modelized as a *neo hookean* soft body  ♨ 🗻. Again, see the guide or my notes for the details."
      ],
      "metadata": {
        "id": "2ZwrHfquwS-J"
      }
    },
    {
      "cell_type": "code",
      "source": [
        "# AL 6082 (Alluminio)\n",
        "lateralFriction_Al = 0.3\n",
        "restitution_Al = 0.2\n",
        "rollingFriction_Al = 0.001\n",
        "spinningFriction_Al = 0.01\n",
        "linearDamping_Al = 0.04\n",
        "angularDamping_Al = 0.1\n",
        "contactStiffness_Al = 3e6\n",
        "contactDamping_Al = 800\n",
        "\n",
        "# AISI 304 (Acciaio Inox)\n",
        "lateralFriction_AISI = 0.4\n",
        "restitution_AISI = 0.1\n",
        "rollingFriction_AISI = 0.001\n",
        "spinningFriction_AISI= 0.05\n",
        "linearDamping_AISI = 0.03\n",
        "angularDamping_AISI = 0.1\n",
        "contactStiffness_AISI = 8e6\n",
        "contactDamping_AISI = 1500\n",
        "\n",
        "# Acciaio Maraging (Maragià per gli amici)\n",
        "lateralFriction_Mar = 0.3\n",
        "restitution_Mar = 0.2\n",
        "rollingFriction_Mar = 0.001\n",
        "spinningFriction_Mar = 0.02\n",
        "linearDamping_Mar = 0.04\n",
        "angularDamping_Mar = 0.15\n",
        "contactStiffness_Mar = 3e6\n",
        "contactDamping_Mar = 800"
      ],
      "metadata": {
        "id": "v4hl9tfetDn4"
      },
      "execution_count": 8,
      "outputs": []
    },
    {
      "cell_type": "markdown",
      "source": [
        "### Physics parameters explanation 🎈 🔮\n",
        "\n",
        "1.  `lateralFriction=0.9` 🐑\n",
        "\n",
        "  *   **Descrizione**: Rappresenta il coefficiente di attrito laterale tra il link e la superficie su cui entra in contatto.\n",
        "  *   **Effetto:**  Più alto è il valore, maggiore sarà l'attrito tra il link e la superficie, il che significa che il link resisterà di più allo scivolamento lungo la superficie. Un valore di 1.0 o vicino a esso significa un attrito alto, mentre un valore basso (come 0.1) indica poco attrito, e il link scivolerà più facilmente.\n",
        "\n",
        "  *   **Esempio:** Materiali ruvidi o che non scivolano facilmente, come gomma o superfici ruvide, hanno un coefficiente di attrito più alto. Materiali come ghiaccio o superfici lisce e scivolose avranno un coefficiente basso.\n",
        "\n",
        "*Caso Acciaio*: Il valore 0.9 è abbastanza alto, riflettendo l'alto attrito dell'acciaio maraging a contatto con superfici ruvide o altri metalli.\n",
        "\n",
        "\n",
        "2.  `restitution=0.1` 🐬\n",
        "\n",
        "  *   **Descrizione**: Rappresenta il coefficiente di restituzione, che determina quanto \"rimbalza\" un oggetto dopo un impatto.\n",
        "\n",
        "  *   **Effetto:**  Un valore di 1.0 significa che l'oggetto rimbalza completamente (energia conservata), mentre un valore di 0.0 significa che non c'è rimbalzo (l'energia viene completamente assorbita).\n",
        "\n",
        "  *   **Esempio:** Materiali elastici come la gomma hanno un alto coefficiente di restituzione (vicino a 1.0), mentre materiali rigidi e non elastici come il piombo o l'acciaio hanno un coefficiente basso.\n",
        "\n",
        "*Caso Acciaio*: L'acciaio ha un basso coefficiente di restituzione (intorno a 0.1), il che significa che non rimbalza molto dopo un impatto, riflettendo la sua natura rigida e non elastica.\n",
        "\n",
        "\n",
        "3.  `contactStiffness=1e6` 🐨\n",
        "\n",
        "  *   **Descrizione**: Rappresenta la rigidità del contatto, o quanto è resistente il materiale alla compressione quando viene a contatto con un'altra superficie.\n",
        "\n",
        "  *   **Effetto:**  Un valore più alto significa che il materiale è molto rigido e si deformerà pochissimo durante un contatto (simulando l'effetto di un modulo di Young alto), mentre un valore basso rappresenta materiali più morbidi che si deformano più facilmente.\n",
        "\n",
        "  *   **Esempio:** Materiali come il gommapiuma hanno una bassa rigidità del contatto, mentre materiali molto rigidi come acciaio o ceramica hanno un'alta rigidità.\n",
        "\n",
        "*Caso Acciaio*: Un valore come 1e6 simula una rigidezza molto alta, tipica dell'acciaio maraging, che si deforma molto poco sotto pressione.\n",
        "\n",
        "\n",
        "4.  `contactDamping=1e3` 🦘\n",
        "  \n",
        "  *   **Descrizione**: Rappresenta lo smorzamento del contatto, che controlla quanto velocemente l'energia del contatto viene dissipata nel tempo.\n",
        "\n",
        "  *   **Effetto:** Un valore più alto significa che il contatto perde energia rapidamente, smorzando le vibrazioni o il rimbalzo. Un valore basso implica che il sistema è più elastico e manterrà energia più a lungo.\n",
        "\n",
        "  *   **Esempio:** Un materiale molto elastico, come una molla ben tesa, ha uno smorzamento basso, il che significa che rimbalza e vibra a lungo. Un materiale con alto smorzamento, come l'acciaio, disperde rapidamente energia durante un impatto, quindi non rimbalza molto e smorza le vibrazioni.\n",
        "\n",
        "*Caso Acciaio*: Il valore 1e3 rappresenta uno smorzamento moderato, coerente con il comportamento dell'acciaio maraging, che dissipa energia abbastanza rapidamente senza rimbalzi significativi.\n",
        "\n",
        "\n",
        "❕📔🖊 *Note* : *For more detailon the parameters see the parameters see my notes or pybullet Quickstart guide, everything's in there*.\n",
        "\n",
        "❗ Not all parameters are important when simulating, so caution with that choise. **To be decided with max.**"
      ],
      "metadata": {
        "id": "_RWpNau5wRuS"
      }
    },
    {
      "cell_type": "code",
      "source": [
        "link_indices_Al = [link_name_to_index['Bottom_Link_1'],link_name_to_index['Bottom_Link_2'],\\\n",
        "                   link_name_to_index['Bottom_Link_3'], link_name_to_index['Gamba_Link_1'],\\\n",
        "                   link_name_to_index['Gamba_Link_2'], link_name_to_index['Gamba_Link_3'],\\\n",
        "                   link_name_to_index['Top_core'], link_name_to_index['Cover_Link1'], \\\n",
        "                   link_name_to_index['Cover_Link_2'], link_name_to_index['Cover_Link_3']]\n",
        "\n",
        "link_indices_AISI = [link_name_to_index['Top_Link_2'], link_name_to_index['Top_Link_3'],\\\n",
        "                     link_name_to_index['Top_Link_1'], link_name_to_index['Colonna_Link_1'],\\\n",
        "                     link_name_to_index['Colonna_Link_2'],link_name_to_index['Colonna_Link_3']]\n",
        "\n",
        "link_indices_Mar = [link_name_to_index['Elastic_Joint_Link_1'], link_name_to_index['Elastic_Joint_link_2'],\\\n",
        "                    link_name_to_index['Elastic_Joint_link_3']]\n",
        "\n",
        "# Al 6082\n",
        "for link in link_indices_Al:\n",
        "  p.changeDynamics(PIPPA_id, link, lateralFriction=lateralFriction_Al,\\\n",
        "                   restitution=restitution_Al, \\\n",
        "                   spinningFriction= spinningFriction_Al, rollingFriction= rollingFriction_Al,\\\n",
        "                   linearDamping=linearDamping_Al, angularDamping=angularDamping_Al,\\\n",
        "                   contactStiffness = contactStiffness_Al,contactDamping = contactDamping_Al)\n",
        "# AISI 304\n",
        "for link in link_indices_AISI:\n",
        "  p.changeDynamics(PIPPA_id, link, lateralFriction=lateralFriction_AISI,\\\n",
        "                   restitution=restitution_AISI, \\\n",
        "                   spinningFriction= spinningFriction_AISI, rollingFriction= rollingFriction_AISI,\\\n",
        "                   linearDamping=linearDamping_AISI, angularDamping=angularDamping_AISI,\\\n",
        "                   contactStiffness = contactStiffness_AISI, contactDamping = contactDamping_AISI)\n",
        "# Maragià\n",
        "for link in link_indices_AISI:\n",
        "  p.changeDynamics(PIPPA_id, link, lateralFriction=lateralFriction_Mar,\\\n",
        "                   restitution=restitution_Mar, \\\n",
        "                   spinningFriction= spinningFriction_Mar, rollingFriction= rollingFriction_Mar,\\\n",
        "                   linearDamping=linearDamping_Mar, angularDamping=angularDamping_Mar,\\\n",
        "                   contactStiffness = contactStiffness_Mar, contactDamping = contactDamping_Mar)"
      ],
      "metadata": {
        "id": "rIQXFPBDva87"
      },
      "execution_count": 9,
      "outputs": []
    },
    {
      "cell_type": "markdown",
      "source": [
        "## Start simulation 🚀 🪖\n",
        "Adding gravity 🍎 ⬇ to the system and starting the physics simulation 🏃 🔥 🛕 ⛩ ⛪ .\n"
      ],
      "metadata": {
        "id": "iRKbRx6pGNDx"
      }
    },
    {
      "cell_type": "code",
      "source": [
        "%%time\n",
        "camTargetPos = [0, 0, 0]\n",
        "cameraUp = [0, 0, 1]\n",
        "cameraPos = [1, 1, 1]\n",
        "p.setGravity(0, 0, -10)\n"
      ],
      "metadata": {
        "id": "bVPJNwD_vKvS",
        "colab": {
          "base_uri": "https://localhost:8080/"
        },
        "outputId": "ce7172e3-5620-4adf-e967-9fea2e3d1e75"
      },
      "execution_count": 10,
      "outputs": [
        {
          "output_type": "stream",
          "name": "stdout",
          "text": [
            "CPU times: user 50 µs, sys: 8 µs, total: 58 µs\n",
            "Wall time: 63.9 µs\n"
          ]
        }
      ]
    },
    {
      "cell_type": "markdown",
      "source": [
        "## Animated images to see PIPPA 🎥 💥\n",
        "The axiz you see going from left to right is the x axis."
      ],
      "metadata": {
        "id": "wiGaFczJdOMD"
      }
    },
    {
      "cell_type": "code",
      "source": [
        "from google.colab import widgets\n",
        "import numpy as np\n",
        "import random\n",
        "import time\n",
        "from matplotlib import pylab\n",
        "grid = widgets.Grid(2, 2)\n",
        "yaw = 0\n",
        "for r in range(2):\n",
        "  for c in range(2):\n",
        "    yaw += 60\n",
        "    with grid.output_to(r, c):\n",
        "      grid.clear_cell()\n",
        "      pylab.figure(figsize=(10, 5))\n",
        "      pitch = -10.0\n",
        "      roll = 0\n",
        "      upAxisIndex = 2\n",
        "      camDistance = 2.5\n",
        "      pixelWidth = 640\n",
        "      pixelHeight = 480\n",
        "      nearPlane = 0.01\n",
        "      farPlane = 100\n",
        "      fov = 60\n",
        "      viewMatrix = p.computeViewMatrixFromYawPitchRoll(camTargetPos, camDistance, yaw, pitch,\n",
        "                                                                  roll, upAxisIndex)\n",
        "      aspect = pixelWidth / pixelHeight\n",
        "      projectionMatrix = p.computeProjectionMatrixFOV(fov, aspect, nearPlane, farPlane)\n",
        "\n",
        "      img_arr = p.getCameraImage(pixelWidth,pixelHeight,viewMatrix,projectionMatrix)\n",
        "      w = img_arr[0]  #width of the image, in pixels\n",
        "      h = img_arr[1]  #height of the image, in pixels\n",
        "      rgb = img_arr[2]  #color data RGB\n",
        "      dep = img_arr[3]  #depth data\n",
        "      print(\"w=\",w,\"h=\",h)\n",
        "      np_img_arr = np.reshape(rgb, (h, w, 4))\n",
        "      np_img_arr = np_img_arr * (1. / 255.)\n",
        "      pylab.imshow(np_img_arr, interpolation='none', animated=True, label=\"pybullet\")\n"
      ],
      "metadata": {
        "colab": {
          "base_uri": "https://localhost:8080/",
          "height": 1000
        },
        "id": "yScDQij6cibW",
        "outputId": "ae1bde78-9a60-4e63-c8f6-4528f64e89eb"
      },
      "execution_count": 11,
      "outputs": [
        {
          "output_type": "display_data",
          "data": {
            "text/plain": [
              "<IPython.core.display.HTML object>"
            ],
            "text/html": [
              "<style>\n",
              "       table#id2, #id2 > tbody > tr > th, #id2 > tbody > tr > td {\n",
              "         border: 1px solid lightgray;\n",
              "         border-collapse:collapse;\n",
              "         \n",
              "        }</style>"
            ]
          },
          "metadata": {}
        },
        {
          "output_type": "display_data",
          "data": {
            "text/plain": [
              "<IPython.core.display.HTML object>"
            ],
            "text/html": [
              "<table id=id2><tr><td id=id2-0-0></td><td id=id2-0-1></td></tr><tr><td id=id2-1-0></td><td id=id2-1-1></td></tr></table>"
            ]
          },
          "metadata": {}
        },
        {
          "output_type": "display_data",
          "data": {
            "text/plain": [
              "<IPython.core.display.Javascript object>"
            ],
            "application/javascript": [
              "window[\"cbfe49b0-9b95-11ef-96a0-0242ac1c000c\"] = google.colab.output.getActiveOutputArea();\n",
              "//# sourceURL=js_83d762aab9"
            ]
          },
          "metadata": {}
        },
        {
          "output_type": "display_data",
          "data": {
            "text/plain": [
              "<IPython.core.display.Javascript object>"
            ],
            "application/javascript": [
              "window[\"cbfea9b4-9b95-11ef-96a0-0242ac1c000c\"] = document.querySelector(\"#id2-0-0\");\n",
              "//# sourceURL=js_f79609820a"
            ]
          },
          "metadata": {}
        },
        {
          "output_type": "display_data",
          "data": {
            "text/plain": [
              "<IPython.core.display.Javascript object>"
            ],
            "application/javascript": [
              "window[\"cbff338e-9b95-11ef-96a0-0242ac1c000c\"] = google.colab.output.setActiveOutputArea(window[\"cbfea9b4-9b95-11ef-96a0-0242ac1c000c\"]);\n",
              "//# sourceURL=js_29e39f13c2"
            ]
          },
          "metadata": {}
        },
        {
          "output_type": "stream",
          "name": "stdout",
          "text": [
            "w= 640 h= 480\n"
          ]
        },
        {
          "output_type": "display_data",
          "data": {
            "text/plain": [
              "<IPython.core.display.Javascript object>"
            ],
            "application/javascript": [
              "window[\"cc1d9586-9b95-11ef-96a0-0242ac1c000c\"] = google.colab.output.setActiveOutputArea(window[\"cbfe49b0-9b95-11ef-96a0-0242ac1c000c\"]);\n",
              "//# sourceURL=js_e262d2836b"
            ]
          },
          "metadata": {}
        },
        {
          "output_type": "display_data",
          "data": {
            "text/plain": [
              "<IPython.core.display.Javascript object>"
            ],
            "application/javascript": [
              "window[\"cc20159a-9b95-11ef-96a0-0242ac1c000c\"] = google.colab.output.getActiveOutputArea();\n",
              "//# sourceURL=js_5be7edf258"
            ]
          },
          "metadata": {}
        },
        {
          "output_type": "display_data",
          "data": {
            "text/plain": [
              "<IPython.core.display.Javascript object>"
            ],
            "application/javascript": [
              "window[\"cc20bf5e-9b95-11ef-96a0-0242ac1c000c\"] = document.querySelector(\"#id2-0-1\");\n",
              "//# sourceURL=js_f298b41a6f"
            ]
          },
          "metadata": {}
        },
        {
          "output_type": "display_data",
          "data": {
            "text/plain": [
              "<IPython.core.display.Javascript object>"
            ],
            "application/javascript": [
              "window[\"cc214b9a-9b95-11ef-96a0-0242ac1c000c\"] = google.colab.output.setActiveOutputArea(window[\"cc20bf5e-9b95-11ef-96a0-0242ac1c000c\"]);\n",
              "//# sourceURL=js_abb18e0be5"
            ]
          },
          "metadata": {}
        },
        {
          "output_type": "stream",
          "name": "stdout",
          "text": [
            "w= 640 h= 480\n"
          ]
        },
        {
          "output_type": "display_data",
          "data": {
            "text/plain": [
              "<IPython.core.display.Javascript object>"
            ],
            "application/javascript": [
              "window[\"cc42219e-9b95-11ef-96a0-0242ac1c000c\"] = google.colab.output.setActiveOutputArea(window[\"cc20159a-9b95-11ef-96a0-0242ac1c000c\"]);\n",
              "//# sourceURL=js_ea0f7ca48a"
            ]
          },
          "metadata": {}
        },
        {
          "output_type": "display_data",
          "data": {
            "text/plain": [
              "<IPython.core.display.Javascript object>"
            ],
            "application/javascript": [
              "window[\"cc446e4a-9b95-11ef-96a0-0242ac1c000c\"] = google.colab.output.getActiveOutputArea();\n",
              "//# sourceURL=js_6f2b3eca56"
            ]
          },
          "metadata": {}
        },
        {
          "output_type": "display_data",
          "data": {
            "text/plain": [
              "<IPython.core.display.Javascript object>"
            ],
            "application/javascript": [
              "window[\"cc44bbac-9b95-11ef-96a0-0242ac1c000c\"] = document.querySelector(\"#id2-1-0\");\n",
              "//# sourceURL=js_460561df85"
            ]
          },
          "metadata": {}
        },
        {
          "output_type": "display_data",
          "data": {
            "text/plain": [
              "<IPython.core.display.Javascript object>"
            ],
            "application/javascript": [
              "window[\"cc450d28-9b95-11ef-96a0-0242ac1c000c\"] = google.colab.output.setActiveOutputArea(window[\"cc44bbac-9b95-11ef-96a0-0242ac1c000c\"]);\n",
              "//# sourceURL=js_28c5263af2"
            ]
          },
          "metadata": {}
        },
        {
          "output_type": "stream",
          "name": "stdout",
          "text": [
            "w= 640 h= 480\n"
          ]
        },
        {
          "output_type": "display_data",
          "data": {
            "text/plain": [
              "<IPython.core.display.Javascript object>"
            ],
            "application/javascript": [
              "window[\"cc5f4d82-9b95-11ef-96a0-0242ac1c000c\"] = google.colab.output.setActiveOutputArea(window[\"cc446e4a-9b95-11ef-96a0-0242ac1c000c\"]);\n",
              "//# sourceURL=js_043f806796"
            ]
          },
          "metadata": {}
        },
        {
          "output_type": "display_data",
          "data": {
            "text/plain": [
              "<IPython.core.display.Javascript object>"
            ],
            "application/javascript": [
              "window[\"cc61e25e-9b95-11ef-96a0-0242ac1c000c\"] = google.colab.output.getActiveOutputArea();\n",
              "//# sourceURL=js_97ea9213c9"
            ]
          },
          "metadata": {}
        },
        {
          "output_type": "display_data",
          "data": {
            "text/plain": [
              "<IPython.core.display.Javascript object>"
            ],
            "application/javascript": [
              "window[\"cc623e84-9b95-11ef-96a0-0242ac1c000c\"] = document.querySelector(\"#id2-1-1\");\n",
              "//# sourceURL=js_e7e7a082ea"
            ]
          },
          "metadata": {}
        },
        {
          "output_type": "display_data",
          "data": {
            "text/plain": [
              "<IPython.core.display.Javascript object>"
            ],
            "application/javascript": [
              "window[\"cc62884e-9b95-11ef-96a0-0242ac1c000c\"] = google.colab.output.setActiveOutputArea(window[\"cc623e84-9b95-11ef-96a0-0242ac1c000c\"]);\n",
              "//# sourceURL=js_6a553911bf"
            ]
          },
          "metadata": {}
        },
        {
          "output_type": "stream",
          "name": "stdout",
          "text": [
            "w= 640 h= 480\n"
          ]
        },
        {
          "output_type": "display_data",
          "data": {
            "text/plain": [
              "<IPython.core.display.Javascript object>"
            ],
            "application/javascript": [
              "window[\"cc7bd42a-9b95-11ef-96a0-0242ac1c000c\"] = google.colab.output.setActiveOutputArea(window[\"cc61e25e-9b95-11ef-96a0-0242ac1c000c\"]);\n",
              "//# sourceURL=js_70f033d7c9"
            ]
          },
          "metadata": {}
        },
        {
          "output_type": "display_data",
          "data": {
            "text/plain": [
              "<Figure size 1000x500 with 1 Axes>"
            ],
            "image/png": "[encoded data removed]"
          },
          "metadata": {}
        },
        {
          "output_type": "display_data",
          "data": {
            "text/plain": [
              "<Figure size 1000x500 with 1 Axes>"
            ],
            "image/png": "[encoded data removed]"
          },
          "metadata": {}
        },
        {
          "output_type": "display_data",
          "data": {
            "text/plain": [
              "<Figure size 1000x500 with 1 Axes>"
            ],
            "image/png": "[encoded data removed]"
          },
          "metadata": {}
        },
        {
          "output_type": "display_data",
          "data": {
            "text/plain": [
              "<Figure size 1000x500 with 1 Axes>"
            ],
            "image/png": "[encoded data removed]"
          },
          "metadata": {}
        }
      ]
    },
    {
      "cell_type": "markdown",
      "source": [
        "### Let's try  png image\n",
        "code for creating ong is commented below"
      ],
      "metadata": {
        "id": "6aXYB0NcPzKg"
      }
    },
    {
      "cell_type": "code",
      "source": [
        "'''\n",
        "!pip install numpngw\n",
        "from numpngw import write_apng\n",
        "from IPython.display import Image\n",
        "\n",
        "frames=[] #frames to create animated png\n",
        "for r in range(60):\n",
        "    yaw += 6\n",
        "    pitch = -10.0\n",
        "    roll = 0\n",
        "    upAxisIndex = 2\n",
        "    camDistance = 2.5\n",
        "    pixelWidth = 320\n",
        "    pixelHeight = 200\n",
        "    nearPlane = 0.01\n",
        "    farPlane = 100\n",
        "    fov = 60\n",
        "    viewMatrix = p.computeViewMatrixFromYawPitchRoll(camTargetPos, camDistance, yaw, pitch,\n",
        "                                                                roll, upAxisIndex)\n",
        "    aspect = pixelWidth / pixelHeight\n",
        "    projectionMatrix = p.computeProjectionMatrixFOV(fov, aspect, nearPlane, farPlane)\n",
        "\n",
        "    img_arr = p.getCameraImage(pixelWidth,pixelHeight,viewMatrix,projectionMatrix)\n",
        "    w = img_arr[0]  #width of the image, in pixels\n",
        "    h = img_arr[1]  #height of the image, in pixels\n",
        "    rgb = img_arr[2]  #color data RGB\n",
        "    dep = img_arr[3]  #depth data\n",
        "    #print(\"w=\",w,\"h=\",h)\n",
        "    np_img_arr = np.reshape(rgb, (h, w, 4))\n",
        "    frame = np_img_arr[:, :, :3]\n",
        "    frames.append(frame)\n",
        "print(\"creating animated png, please about 5 seconds\")\n",
        "%time write_apng(\"example6.png\", frames, delay=100)\n",
        "%time Image(filename=\"example6.png\")\n",
        "'''"
      ],
      "metadata": {
        "id": "rWysL8FzQFHg",
        "outputId": "80376c3a-c542-4d7f-b508-eb0715e12ff0",
        "colab": {
          "base_uri": "https://localhost:8080/",
          "height": 175
        }
      },
      "execution_count": 12,
      "outputs": [
        {
          "output_type": "execute_result",
          "data": {
            "text/plain": [
              "'\\n!pip install numpngw\\nfrom numpngw import write_apng\\nfrom IPython.display import Image\\n\\nframes=[] #frames to create animated png\\nfor r in range(60):\\n    yaw += 6\\n    pitch = -10.0\\n    roll = 0\\n    upAxisIndex = 2\\n    camDistance = 2.5\\n    pixelWidth = 320\\n    pixelHeight = 200\\n    nearPlane = 0.01\\n    farPlane = 100\\n    fov = 60\\n    viewMatrix = p.computeViewMatrixFromYawPitchRoll(camTargetPos, camDistance, yaw, pitch,\\n                                                                roll, upAxisIndex)\\n    aspect = pixelWidth / pixelHeight\\n    projectionMatrix = p.computeProjectionMatrixFOV(fov, aspect, nearPlane, farPlane)\\n\\n    img_arr = p.getCameraImage(pixelWidth,pixelHeight,viewMatrix,projectionMatrix)\\n    w = img_arr[0]  #width of the image, in pixels\\n    h = img_arr[1]  #height of the image, in pixels\\n    rgb = img_arr[2]  #color data RGB\\n    dep = img_arr[3]  #depth data\\n    #print(\"w=\",w,\"h=\",h)\\n    np_img_arr = np.reshape(rgb, (h, w, 4))\\n    frame = np_img_arr[:, :, :3]\\n    frames.append(frame)\\nprint(\"creating animated png, please about 5 seconds\")\\n%time write_apng(\"example6.png\", frames, delay=100)\\n%time Image(filename=\"example6.png\")\\n'"
            ],
            "application/vnd.google.colaboratory.intrinsic+json": {
              "type": "string"
            }
          },
          "metadata": {},
          "execution_count": 12
        }
      ]
    },
    {
      "cell_type": "markdown",
      "source": [
        "## Get PIPPA interesting index 🎮 🐧\n",
        "\n",
        "1,2,3 numeration for bottom bars, force positions and lvdts are consistent\n"
      ],
      "metadata": {
        "id": "qatZXR9vdfe2"
      }
    },
    {
      "cell_type": "code",
      "source": [
        "#bottom disk bars index\n",
        "bottom_link_1_index = link_name_to_index['Bottom_Link_1']\n",
        "bottom_link_2_index = link_name_to_index['Bottom_Link_2']\n",
        "bottom_link_3_index = link_name_to_index['Bottom_Link_3']\n",
        "#leg index\n",
        "leg_1_index = link_name_to_index['Gamba_Link_1']\n",
        "leg_2_index = link_name_to_index['Gamba_Link_2']\n",
        "leg_3_index = link_name_to_index['Gamba_Link_3']\n",
        "\n",
        "#colums link\n",
        "column_1_index = link_name_to_index['Colonna_Link_1']\n",
        "column_2_index = link_name_to_index['Colonna_Link_2']\n",
        "column_3_index = link_name_to_index['Colonna_Link_3']"
      ],
      "metadata": {
        "id": "oio1I5x052cm"
      },
      "execution_count": 13,
      "outputs": []
    },
    {
      "cell_type": "code",
      "source": [
        "#print column position in order to get force position\n",
        "initial_column_1_position, initial_column_1_orientation = p.getLinkState(PIPPA_id, column_1_index)[0:2]\n",
        "initial_column_2_position, initial_column_2_orientation = p.getLinkState(PIPPA_id, column_2_index)[0:2]\n",
        "inititial_column_3_position, inititial_column_3_orientation = p.getLinkState(PIPPA_id, column_3_index)[0:2]"
      ],
      "metadata": {
        "id": "LBimA2d-FLxQ"
      },
      "execution_count": 14,
      "outputs": []
    },
    {
      "cell_type": "code",
      "source": [
        "print('colonna 1',initial_column_1_position)\n",
        "print('colonna 2',initial_column_2_position)\n",
        "print('colonna 3',inititial_column_3_position)"
      ],
      "metadata": {
        "colab": {
          "base_uri": "https://localhost:8080/"
        },
        "id": "e9sX1IiLFiWW",
        "outputId": "d8eed43a-23f1-4b1b-c33b-05d9a20475a6"
      },
      "execution_count": 15,
      "outputs": [
        {
          "output_type": "stream",
          "name": "stdout",
          "text": [
            "colonna 1 (0.42497897756868863, 0.00017320020716329922, -8.655896802281515e-05)\n",
            "colonna 2 (-0.21244340712847964, 0.3685152811785818, 8.141538071224086e-05)\n",
            "colonna 3 (-0.2126193103647702, -0.3683060217602966, 4.334172800016245e-05)\n"
          ]
        }
      ]
    },
    {
      "cell_type": "code",
      "source": [
        "#get bottom bar position to apply forces there\n",
        "initial_position_bottom_1, initial_orientation_bottom_1 = p.getLinkState(PIPPA_id, bottom_link_1_index)[0:2]\n",
        "initial_position_bottom_2, initial_orientation_bottom_2 = p.getLinkState(PIPPA_id, bottom_link_2_index)[0:2]\n",
        "initial_position_bottom_3, initial_orientation_bottom_3 = p.getLinkState(PIPPA_id, bottom_link_3_index)[0:2]\n",
        "\n",
        "initial_angles_bottom_1 = p.getEulerFromQuaternion(initial_orientation_bottom_1)\n",
        "initial_angles_bottom_2 = p.getEulerFromQuaternion(initial_orientation_bottom_2)\n",
        "initial_angles_bottom_3 = p.getEulerFromQuaternion(initial_orientation_bottom_3)\n",
        "\n",
        "print(\"Initial bottom bars position:\")\n",
        "print('Bar 1', initial_position_bottom_1)\n",
        "print('Bar 2', initial_position_bottom_2)\n",
        "print('Bar 3', initial_position_bottom_3)\n",
        "\n",
        "print(\"Initial bottom bars angles:\")\n",
        "print('Angles 1',initial_angles_bottom_1)\n",
        "print('Angles 2',initial_angles_bottom_2)\n",
        "print('Angles 3',initial_angles_bottom_3)\n",
        "\n",
        "#get leg initial position\n",
        "initial_position_leg_1, initial_orientation_leg_1 = p.getLinkState(PIPPA_id, leg_1_index)[0:2]\n",
        "initial_position_leg_2, initial_orientation_leg_2 = p.getLinkState(PIPPA_id, leg_2_index)[0:2]\n",
        "initial_position_leg_3, initial_orientation_leg_3 = p.getLinkState(PIPPA_id, leg_3_index)[0:2]\n",
        "\n",
        "print(\"Initial legs position:\")\n",
        "print('Leg 1', initial_position_leg_1)\n",
        "print('Leg 2', initial_position_leg_2)\n",
        "print('Leg 3', initial_position_leg_3)"
      ],
      "metadata": {
        "colab": {
          "base_uri": "https://localhost:8080/"
        },
        "id": "7f-xjKNbJW6t",
        "outputId": "c397a096-f7f0-4562-9f76-8ee04ff4db8f"
      },
      "execution_count": 16,
      "outputs": [
        {
          "output_type": "stream",
          "name": "stdout",
          "text": [
            "Initial bottom bars position:\n",
            "Bar 1 (-2.098717095483371e-05, 7.799120402320341e-08, -8.655897520438993e-05)\n",
            "Bar 2 (-0.0005183540855795976, 0.0004721485807539505, -7.491869042701611e-05)\n",
            "Bar 3 (-0.0006942729551661919, -0.0002628659481606621, -7.489016984651986e-05)\n",
            "Initial bottom bars angles:\n",
            "Angles 1 (1.5709999999662045, -8.296554071529636e-08, 1.5714073464017577)\n",
            "Angles 2 (1.5706322465976998, 0.0003754611753255829, -2.6182037473324207)\n",
            "Angles 3 (1.5707217832567955, -0.00012921451886279832, -0.5237962956628525)\n",
            "Initial legs position:\n",
            "Leg 1 (0.42497897757342007, 0.00017317697681042943, 0.27991344103197624)\n",
            "Leg 2 (-0.21248299588750602, 0.36837354946533957, 0.2800813767108019)\n",
            "Leg 3 (-0.21261167597708452, -0.36822046926068797, 0.2800433285538676)\n"
          ]
        }
      ]
    },
    {
      "cell_type": "code",
      "source": [
        "force_module = np.array([60,0,0])\n",
        "\n",
        "#apply equal force to the border of our bottom disk\n",
        "force_position_1 = initial_column_1_position\n",
        "force_position_2 = initial_column_2_position\n",
        "force_position_3 = inititial_column_3_position\n",
        "\n",
        "#apply external forces to the bottom edges of the disk\n",
        "p.applyExternalForce(\n",
        "    objectUniqueId=PIPPA_id,linkIndex = bottom_link_1_index,forceObj=force_module, posObj=force_position_1,flags=p.WORLD_FRAME)\n",
        "p.applyExternalForce(\n",
        "    objectUniqueId=PIPPA_id,linkIndex = bottom_link_2_index,forceObj=force_module, posObj=force_position_2,flags=p.WORLD_FRAME)\n",
        "p.applyExternalForce(\n",
        "    objectUniqueId=PIPPA_id,linkIndex = bottom_link_3_index ,forceObj=force_module, posObj=force_position_3,flags=p.WORLD_FRAME)\n",
        "\n",
        "PIPPA_positions_1 = []\n",
        "PIPPA_position_y_=[]\n",
        "PIPPA_positions_2 = []\n",
        "PIPPA_positions_3 = []"
      ],
      "metadata": {
        "id": "O_hPpmI_-HrN"
      },
      "execution_count": 17,
      "outputs": []
    },
    {
      "cell_type": "code",
      "source": [
        "p.setTimeStep(0.001)\n",
        "time_campionamento = 180 #s\n",
        "frequency_campionamento = 100\n",
        "num_points = time_campionamento*frequency_campionamento\n",
        "\n",
        "for _ in range(100000):\n",
        "    p.stepSimulation()\n",
        "    pos_1,_ = p.getLinkState(PIPPA_id, leg_1_index)[0:2]\n",
        "    pos_2,_ = p.getLinkState(PIPPA_id, leg_2_index)[0:2]\n",
        "    pos_3,_ = p.getLinkState(PIPPA_id, leg_3_index)[0:2]\n",
        "\n",
        "    PIPPA_positions_1.append(pos_1[0])\n",
        "    PIPPA_position_y_.append(pos_1[1])\n",
        "    PIPPA_positions_2.append(pos_2[0])\n",
        "    PIPPA_positions_3.append(pos_3[0])\n",
        "\n",
        "\n",
        "#links of the bottom disk info\n",
        "final_position_bottom_1, final_orientation_bottom_1 = p.getLinkState(PIPPA_id, bottom_link_1_index)[0:2]\n",
        "final_position_bottom_2, final_orientation_bottom_2 = p.getLinkState(PIPPA_id, bottom_link_2_index)[0:2]\n",
        "final_position_bottom_3, final_orientation_bottom_3 = p.getLinkState(PIPPA_id, bottom_link_3_index)[0:2]\n",
        "\n",
        "final_angles_bottom_1 = p.getEulerFromQuaternion(final_orientation_bottom_1)\n",
        "final_angles_bottom_2 = p.getEulerFromQuaternion(final_orientation_bottom_2)\n",
        "final_angles_bottom_3 = p.getEulerFromQuaternion(final_orientation_bottom_3)\n",
        "\n",
        "print(\"Final bottom bars position:\")\n",
        "print('Bar 1', final_position_bottom_1)\n",
        "print('Bar 2', final_position_bottom_2)\n",
        "print('Bar 3', final_position_bottom_3)\n",
        "\n",
        "print(\"Final bottom bars angles:\")\n",
        "print('Bar 1', final_angles_bottom_1)\n",
        "print('Bar 2', final_angles_bottom_2)\n",
        "print('Bar 3', final_angles_bottom_3)\n",
        "\n",
        "#chnaging in bottom bars position\n",
        "distance_bar_1 = np.linalg.norm(np.array(final_position_bottom_1) - np.array(initial_position_bottom_1))\n",
        "distance_bar_2 = np.linalg.norm(np.array(final_position_bottom_2) - np.array(initial_position_bottom_2))\n",
        "distance_bar_3 = np.linalg.norm(np.array(final_position_bottom_3) - np.array(initial_position_bottom_3))\n",
        "print('Bar positions changings:', distance_bar_1, distance_bar_2, distance_bar_3)\n",
        "print('ordine di grandezza:', distance_bar_1/initial_position_bottom_1[0])\n",
        "\n",
        "final_position_leg_1, final_orientation_leg_1 = p.getLinkState(PIPPA_id, leg_1_index)[0:2]\n",
        "final_position_leg_2, final_orientation_leg_2 = p.getLinkState(PIPPA_id, leg_2_index)[0:2]\n",
        "final_position_leg_3, final_orientation_leg_3 = p.getLinkState(PIPPA_id, leg_3_index)[0:2]\n",
        "\n",
        "distance_leg_1 = np.linalg.norm(np.array(final_position_leg_1) - np.array(initial_position_leg_1))\n",
        "distance_leg_2 = np.linalg.norm(np.array(final_position_leg_2) - np.array(initial_position_leg_2))\n",
        "distance_leg_3 = np.linalg.norm(np.array(final_position_leg_3) - np.array(initial_position_leg_3))\n",
        "print('Leg positions changings:', distance_leg_1, distance_leg_2, distance_leg_3)\n",
        "print('ordine di grandezza:', distance_leg_1/initial_position_leg_1[0])\n"
      ],
      "metadata": {
        "colab": {
          "base_uri": "https://localhost:8080/"
        },
        "id": "RalbttJlcH-V",
        "outputId": "a3e0c530-4004-4624-d242-d14199ac49e1"
      },
      "execution_count": 18,
      "outputs": [
        {
          "output_type": "stream",
          "name": "stdout",
          "text": [
            "Final bottom bars position:\n",
            "Bar 1 (0.005599975924314826, 0.012648783552338339, -0.07417124073385106)\n",
            "Bar 2 (0.005160096703398592, 0.013174836043397531, -0.07415962035660419)\n",
            "Bar 3 (0.004900963949973247, 0.012464875727209501, -0.07415900982744855)\n",
            "Final bottom bars angles:\n",
            "Bar 1 (1.571580224320545, 0.0006526196685459342, 1.4563574054941635)\n",
            "Bar 2 (1.5709080718454653, -0.00045315298053133317, -2.733253888263552)\n",
            "Bar 3 (1.5698662718956933, 4.6231473643280926e-05, -0.638846390382831)\n",
            "Bar positions changings: 0.07536660434018909 0.07538001123045103 0.07537744271081027\n",
            "ordine di grandezza: -3591.079736396336\n",
            "Leg positions changings: 0.08263560568132876 0.09573140663230303 0.09075404767977142\n",
            "ordine di grandezza: 0.19444633744748585\n"
          ]
        }
      ]
    },
    {
      "cell_type": "code",
      "source": [
        "from matplotlib import pyplot as plt\n",
        "plt.figure()\n",
        "\n",
        "plt.plot(PIPPA_positions_1,PIPPA_position_y_, label = 'gamba1')\n",
        "#plt.plot(PIPPA_positions_2, label = 'gamba2')\n",
        "#plt.plot(PIPPA_positions_3, label = 'gamba3')\n",
        "\n",
        "#plt.ylim(0.4,0.5)\n",
        "#plt.xlim(-1, 6000)\n",
        "plt.grid()\n",
        "plt.legend()\n",
        "plt.show()"
      ],
      "metadata": {
        "colab": {
          "base_uri": "https://localhost:8080/",
          "height": 430
        },
        "id": "u1nfwYxq81LY",
        "outputId": "346bef25-4783-4016-863b-69463381753e"
      },
      "execution_count": 20,
      "outputs": [
        {
          "output_type": "display_data",
          "data": {
            "text/plain": [
              "<Figure size 640x480 with 1 Axes>"
            ],
            "image/png": "[encoded data removed]"
          },
          "metadata": {}
        }
      ]
    },
    {
      "cell_type": "code",
      "source": [
        "# show changes in position\n",
        "grid = widgets.Grid(2, 2)\n",
        "yaw = 0\n",
        "for r in range(2):\n",
        "  for c in range(2):\n",
        "    yaw += 60\n",
        "    with grid.output_to(r, c):\n",
        "      grid.clear_cell()\n",
        "      pylab.figure(figsize=(10, 5))\n",
        "      pitch = -10.0\n",
        "      roll = 0\n",
        "      upAxisIndex = 2\n",
        "      camDistance = 2.5\n",
        "      pixelWidth = 640\n",
        "      pixelHeight = 480\n",
        "      nearPlane = 0.01\n",
        "      farPlane = 100\n",
        "      fov = 60\n",
        "      viewMatrix = p.computeViewMatrixFromYawPitchRoll(camTargetPos, camDistance, yaw, pitch,\n",
        "                                                                  roll, upAxisIndex)\n",
        "      aspect = pixelWidth / pixelHeight\n",
        "      projectionMatrix = p.computeProjectionMatrixFOV(fov, aspect, nearPlane, farPlane)\n",
        "\n",
        "      img_arr = p.getCameraImage(pixelWidth,pixelHeight,viewMatrix,projectionMatrix)\n",
        "      w = img_arr[0]  #width of the image, in pixels\n",
        "      h = img_arr[1]  #height of the image, in pixels\n",
        "      rgb = img_arr[2]  #color data RGB\n",
        "      dep = img_arr[3]  #depth data\n",
        "      print(\"w=\",w,\"h=\",h)\n",
        "      np_img_arr = np.reshape(rgb, (h, w, 4))\n",
        "      np_img_arr = np_img_arr * (1. / 255.)\n",
        "      pylab.imshow(np_img_arr, interpolation='none', animated=True, label=\"pybullet\")\n"
      ],
      "metadata": {
        "id": "zY4V-PB6QlBn"
      },
      "execution_count": null,
      "outputs": []
    },
    {
      "cell_type": "code",
      "source": [],
      "metadata": {
        "id": "8CeezZ8VKNnX"
      },
      "execution_count": null,
      "outputs": []
    }
  ]
}