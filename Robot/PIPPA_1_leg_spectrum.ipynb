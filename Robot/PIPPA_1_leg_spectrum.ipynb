{
  "cells": [
    {
      "cell_type": "markdown",
      "metadata": {
        "id": "G_63GKBXnYEp"
      },
      "source": [
        "ℹ 🎐  PIP Spectrum for a single leg. For info e comment see this notebook [here](https://colab.research.google.com/drive/14xhCqPQ19MInd8xqj5F08HaDuu04neBX?hl=it#scrollTo=Ex9COCQDaQdn)"
      ]
    },
    {
      "cell_type": "code",
      "execution_count": 1,
      "metadata": {
        "colab": {
          "base_uri": "https://localhost:8080/"
        },
        "id": "UIZoGqKMnLNE",
        "outputId": "89950958-9aa0-47ba-e7f3-803a7956a2f1"
      },
      "outputs": [
        {
          "output_type": "stream",
          "name": "stdout",
          "text": [
            "Collecting pybullet\n",
            "  Downloading pybullet-3.2.6-cp310-cp310-manylinux_2_17_x86_64.manylinux2014_x86_64.whl.metadata (1.8 kB)\n",
            "Downloading pybullet-3.2.6-cp310-cp310-manylinux_2_17_x86_64.manylinux2014_x86_64.whl (103.2 MB)\n",
            "\u001b[2K   \u001b[90m━━━━━━━━━━━━━━━━━━━━━━━━━━━━━━━━━━━━━━━━\u001b[0m \u001b[32m103.2/103.2 MB\u001b[0m \u001b[31m6.4 MB/s\u001b[0m eta \u001b[36m0:00:00\u001b[0m\n",
            "\u001b[?25hInstalling collected packages: pybullet\n",
            "Successfully installed pybullet-3.2.6\n"
          ]
        }
      ],
      "source": [
        "!pip install pybullet"
      ]
    },
    {
      "cell_type": "code",
      "execution_count": 2,
      "metadata": {
        "colab": {
          "base_uri": "https://localhost:8080/"
        },
        "id": "vP7ZIiaOnUk0",
        "outputId": "6bd48bd2-8020-4030-e574-1e78382f639f"
      },
      "outputs": [
        {
          "output_type": "stream",
          "name": "stdout",
          "text": [
            "Collecting gputil\n",
            "  Downloading GPUtil-1.4.0.tar.gz (5.5 kB)\n",
            "  Preparing metadata (setup.py) ... \u001b[?25l\u001b[?25hdone\n",
            "Building wheels for collected packages: gputil\n",
            "  Building wheel for gputil (setup.py) ... \u001b[?25l\u001b[?25hdone\n",
            "  Created wheel for gputil: filename=GPUtil-1.4.0-py3-none-any.whl size=7392 sha256=c7eb274691c4fd1cf094b54c1d2f3aca3a8ef48f45f0fe742d7913f3e4f506f9\n",
            "  Stored in directory: /root/.cache/pip/wheels/a9/8a/bd/81082387151853ab8b6b3ef33426e98f5cbfebc3c397a9d4d0\n",
            "Successfully built gputil\n",
            "Installing collected packages: gputil\n",
            "Successfully installed gputil-1.4.0\n",
            "OS: linux\n",
            "3.10.12 (main, Sep 11 2024, 15:47:36) [GCC 11.4.0]\n",
            "GPUtil 1.4.0\n",
            "| ID | GPU | MEM |\n",
            "------------------\n",
            "| ID | Name | Serial | UUID || GPU temp. | GPU util. | Memory util. || Memory total | Memory used | Memory free || Display mode | Display active |\n",
            "--------------------------------------------------------------------------------------------------------------------------------------------------\n",
            "numGPUs= 0\n",
            "using CPU renderer (TinyRenderer)\n"
          ]
        }
      ],
      "source": [
        "#you can enable the GPU by changing the runtime\n",
        "import os\n",
        "os.environ['MESA_GL_VERSION_OVERRIDE'] = '3.3'\n",
        "os.environ['MESA_GLSL_VERSION_OVERRIDE'] = '330'\n",
        "import pybullet as p\n",
        "import pybullet_data as pd\n",
        "import numpy as np\n",
        "import matplotlib.pyplot as plt\n",
        "%matplotlib inline\n",
        "from matplotlib import pylab\n",
        "from google.colab import widgets\n",
        "import random\n",
        "import time\n",
        "\n",
        "p.connect(p.DIRECT)\n",
        "#allow to find the assets (URDF, obj, textures etc)\n",
        "p.setAdditionalSearchPath(pd.getDataPath())\n",
        "\n",
        "#optionally enable GPU for faster rendering in pybullet.getCameraImage\n",
        "enableGPU = False\n",
        "!ln -sf /opt/bin/nvidia-smi /usr/bin/nvidia-smi\n",
        "!pip install gputil\n",
        "import GPUtil as GPU\n",
        "import sys\n",
        "# Get all device ids and their processing and memory utiliazion\n",
        "# (deviceIds, gpuUtil, memUtil) = GPU.getGPUs()\n",
        "\n",
        "# Print os and python version information\n",
        "print('OS: ' + sys.platform)\n",
        "print(sys.version)\n",
        "\n",
        "# Print package name and version number\n",
        "print(GPU.__name__ + ' ' + GPU.__version__)\n",
        "\n",
        "# Show the utilization of all GPUs in a nice table\n",
        "GPU.showUtilization()\n",
        "\n",
        "# Show all stats of all GPUs in a nice table\n",
        "GPU.showUtilization(all=True)\n",
        "\n",
        "# NOTE: If all your GPUs currently have a memory consumption larger than 1%,\n",
        "# this step will fail. It's not a bug! It is intended to do so, if it does not\n",
        "# find an available GPU.\n",
        "GPUs = GPU.getGPUs()\n",
        "numGPUs = len(GPU.getGPUs())\n",
        "print(\"numGPUs=\",numGPUs)\n",
        "if numGPUs > 0:\n",
        "  enableGPU = True\n",
        "eglPluginId = -1\n",
        "if enableGPU:\n",
        "  import pkgutil\n",
        "  egl = pkgutil.get_loader('eglRenderer')\n",
        "  if (egl):\n",
        "    eglPluginId = p.loadPlugin(egl.get_filename(), \"_eglRendererPlugin\")\n",
        "  else:\n",
        "    eglPluginId = p.loadPlugin(\"eglRendererPlugin\")\n",
        "\n",
        "if eglPluginId>=0:\n",
        "  print(\"Using GPU hardware (eglRenderer)\")\n",
        "else:\n",
        "  print(\"using CPU renderer (TinyRenderer)\")"
      ]
    },
    {
      "cell_type": "code",
      "execution_count": 3,
      "metadata": {
        "colab": {
          "base_uri": "https://localhost:8080/"
        },
        "id": "MyTiY3nAnU3l",
        "outputId": "6924f803-049c-4232-8a3e-c9863af24d76"
      },
      "outputs": [
        {
          "output_type": "stream",
          "name": "stdout",
          "text": [
            "Cloning into 'Real_Mega_Fufi'...\n",
            "remote: Enumerating objects: 563, done.\u001b[K\n",
            "remote: Counting objects: 100% (384/384), done.\u001b[K\n",
            "remote: Compressing objects: 100% (264/264), done.\u001b[K\n",
            "remote: Total 563 (delta 250), reused 184 (delta 115), pack-reused 179 (from 1)\u001b[K\n",
            "Receiving objects: 100% (563/563), 6.16 MiB | 6.01 MiB/s, done.\n",
            "Resolving deltas: 100% (335/335), done.\n"
          ]
        }
      ],
      "source": [
        "!git clone https://github.com/Gaianeve/Real_Mega_Fufi.git"
      ]
    },
    {
      "cell_type": "code",
      "execution_count": 4,
      "metadata": {
        "colab": {
          "base_uri": "https://localhost:8080/"
        },
        "id": "Itkhmjvyn0Db",
        "outputId": "578a1c12-3971-450c-f574-6ba87072dfc4"
      },
      "outputs": [
        {
          "output_type": "stream",
          "name": "stdout",
          "text": [
            "/content/Real_Mega_Fufi/Robot/1LegTrail\n"
          ]
        }
      ],
      "source": [
        "%cd Real_Mega_Fufi/Robot/1LegTrail/"
      ]
    },
    {
      "cell_type": "code",
      "execution_count": 5,
      "metadata": {
        "id": "UCqqKpCBn6Mi"
      },
      "outputs": [],
      "source": [
        "##!! THIS IS THE RIGHT ORDER, DO NOT TOUCH IT OTHERWISE SIMULATION WONT WORK\n",
        "#reset simulation\n",
        "p.resetSimulation()\n",
        "p.configureDebugVisualizer(p.COV_ENABLE_GUI)\n",
        "#tell him to slide freely on the ground plane\n",
        "useFixedBase = False\n",
        "flags = p.URDF_INITIALIZE_SAT_FEATURES\n",
        "\n",
        "plane_pos = [0,0,-0.1]\n",
        "plane = p.loadURDF(\"plane.urdf\", plane_pos, flags = flags, useFixedBase=useFixedBase)\n",
        "\n",
        "# position of the base of the model\n",
        "PIP_position = [0,0,0.1]\n",
        "orientation  = [0,0,0]\n",
        "PIP_orientation = p.getQuaternionFromEuler(orientation)\n",
        "PIPPA_id = p.loadURDF(\"PIPPA_oneleg.urdf\",basePosition = PIP_position,baseOrientation = PIP_orientation,\\\n",
        "                      useFixedBase=useFixedBase)\n"
      ]
    },
    {
      "cell_type": "code",
      "execution_count": 6,
      "metadata": {
        "colab": {
          "base_uri": "https://localhost:8080/"
        },
        "id": "v5WKXa8WoCIP",
        "outputId": "667c24d2-93d4-4208-c8d9-546d5ee862f8"
      },
      "outputs": [
        {
          "output_type": "stream",
          "name": "stdout",
          "text": [
            "{'Link_colonna': -1, 'Giunto_Link': 0, 'Gamba_Link': 1}\n"
          ]
        }
      ],
      "source": [
        "link_name_to_index = {p.getBodyInfo(PIPPA_id)[0].decode('UTF-8'):-1,}\n",
        "\n",
        "for id in range(p.getNumJoints(PIPPA_id)):\n",
        "  name = p.getJointInfo(PIPPA_id, id)[12].decode('UTF-8')\n",
        "  link_name_to_index[name] = id\n",
        "\n",
        "print(link_name_to_index)"
      ]
    },
    {
      "cell_type": "code",
      "execution_count": 7,
      "metadata": {
        "id": "tPdkah8AoJL_"
      },
      "outputs": [],
      "source": [
        "# AL 6082 (Alluminio)\n",
        "lateralFriction_Al = 0.3\n",
        "restitution_Al = 0.2\n",
        "rollingFriction_Al = 0.001\n",
        "spinningFriction_Al = 0.01\n",
        "linearDamping_Al = 0.04\n",
        "angularDamping_Al = 0.1\n",
        "contactStiffness_Al = 3e6\n",
        "contactDamping_Al = 800\n",
        "\n",
        "# AISI 304 (Acciaio Inox)\n",
        "lateralFriction_AISI = 0.4\n",
        "restitution_AISI = 0.1\n",
        "rollingFriction_AISI = 0.001\n",
        "spinningFriction_AISI= 0.05\n",
        "linearDamping_AISI = 0.03\n",
        "angularDamping_AISI = 0.1\n",
        "contactStiffness_AISI = 8e6\n",
        "contactDamping_AISI = 1500\n",
        "\n",
        "# Acciaio Maraging (Maragià per gli amici)\n",
        "lateralFriction_Mar = 0.3\n",
        "restitution_Mar = 0.2\n",
        "rollingFriction_Mar = 0.001\n",
        "spinningFriction_Mar = 0.02\n",
        "linearDamping_Mar = 0.04\n",
        "angularDamping_Mar = 0.15\n",
        "contactStiffness_Mar = 3e6\n",
        "contactDamping_Mar = 800"
      ]
    },
    {
      "cell_type": "code",
      "execution_count": 8,
      "metadata": {
        "id": "XKX5idRnoPS4"
      },
      "outputs": [],
      "source": [
        "link_indices_Al = link_name_to_index['Gamba_Link']\n",
        "\n",
        "link_indices_AISI = link_name_to_index['Link_colonna']\n",
        "\n",
        "link_indices_Mar = link_name_to_index['Giunto_Link']\n",
        "\n",
        "# Al 6082\n",
        "\n",
        "p.changeDynamics(PIPPA_id, link_indices_Al, lateralFriction=lateralFriction_Al,\\\n",
        "                  restitution=restitution_Al, \\\n",
        "                  spinningFriction= spinningFriction_Al, rollingFriction= rollingFriction_Al,\\\n",
        "                  linearDamping=linearDamping_Al, angularDamping=angularDamping_Al,\\\n",
        "                  contactStiffness = contactStiffness_Al,contactDamping = contactDamping_Al)\n",
        "# AISI 304\n",
        "\n",
        "p.changeDynamics(PIPPA_id, link_indices_AISI, lateralFriction=lateralFriction_AISI,\\\n",
        "                  restitution=restitution_AISI, \\\n",
        "                  spinningFriction= spinningFriction_AISI, rollingFriction= rollingFriction_AISI,\\\n",
        "                  linearDamping=linearDamping_AISI, angularDamping=angularDamping_AISI,\\\n",
        "                  contactStiffness = contactStiffness_AISI, contactDamping = contactDamping_AISI)\n",
        "# Maragià\n",
        "\n",
        "p.changeDynamics(PIPPA_id, link_indices_Mar, lateralFriction=lateralFriction_Mar,\\\n",
        "                  restitution=restitution_Mar, \\\n",
        "                  spinningFriction= spinningFriction_Mar, rollingFriction= rollingFriction_Mar,\\\n",
        "                  linearDamping=linearDamping_Mar, angularDamping=angularDamping_Mar,\\\n",
        "                  contactStiffness = contactStiffness_Mar, contactDamping = contactDamping_Mar)"
      ]
    },
    {
      "cell_type": "code",
      "execution_count": 9,
      "metadata": {
        "colab": {
          "base_uri": "https://localhost:8080/",
          "height": 1000
        },
        "id": "VfNDT5JnojE0",
        "outputId": "ed0da489-ed49-4ce5-dd11-b0da364eec4f"
      },
      "outputs": [
        {
          "output_type": "display_data",
          "data": {
            "text/plain": [
              "<IPython.core.display.HTML object>"
            ],
            "text/html": [
              "<style>\n",
              "       table#id2, #id2 > tbody > tr > th, #id2 > tbody > tr > td {\n",
              "         border: 1px solid lightgray;\n",
              "         border-collapse:collapse;\n",
              "         \n",
              "        }</style>"
            ]
          },
          "metadata": {}
        },
        {
          "output_type": "display_data",
          "data": {
            "text/plain": [
              "<IPython.core.display.HTML object>"
            ],
            "text/html": [
              "<table id=id2><tr><td id=id2-0-0></td><td id=id2-0-1></td></tr><tr><td id=id2-1-0></td><td id=id2-1-1></td></tr></table>"
            ]
          },
          "metadata": {}
        },
        {
          "output_type": "display_data",
          "data": {
            "text/plain": [
              "<IPython.core.display.Javascript object>"
            ],
            "application/javascript": [
              "window[\"09312dd6-9c70-11ef-9857-0242ac1c000c\"] = google.colab.output.getActiveOutputArea();\n",
              "//# sourceURL=js_992e5fee27"
            ]
          },
          "metadata": {}
        },
        {
          "output_type": "display_data",
          "data": {
            "text/plain": [
              "<IPython.core.display.Javascript object>"
            ],
            "application/javascript": [
              "window[\"093522c4-9c70-11ef-9857-0242ac1c000c\"] = document.querySelector(\"#id2-0-0\");\n",
              "//# sourceURL=js_3adf26aea5"
            ]
          },
          "metadata": {}
        },
        {
          "output_type": "display_data",
          "data": {
            "text/plain": [
              "<IPython.core.display.Javascript object>"
            ],
            "application/javascript": [
              "window[\"09358994-9c70-11ef-9857-0242ac1c000c\"] = google.colab.output.setActiveOutputArea(window[\"093522c4-9c70-11ef-9857-0242ac1c000c\"]);\n",
              "//# sourceURL=js_39fd74abfe"
            ]
          },
          "metadata": {}
        },
        {
          "output_type": "stream",
          "name": "stdout",
          "text": [
            "w= 640 h= 480\n"
          ]
        },
        {
          "output_type": "display_data",
          "data": {
            "text/plain": [
              "<IPython.core.display.Javascript object>"
            ],
            "application/javascript": [
              "window[\"095e9f14-9c70-11ef-9857-0242ac1c000c\"] = google.colab.output.setActiveOutputArea(window[\"09312dd6-9c70-11ef-9857-0242ac1c000c\"]);\n",
              "//# sourceURL=js_e8fb1ef771"
            ]
          },
          "metadata": {}
        },
        {
          "output_type": "display_data",
          "data": {
            "text/plain": [
              "<IPython.core.display.Javascript object>"
            ],
            "application/javascript": [
              "window[\"096366a2-9c70-11ef-9857-0242ac1c000c\"] = google.colab.output.getActiveOutputArea();\n",
              "//# sourceURL=js_f08c255b69"
            ]
          },
          "metadata": {}
        },
        {
          "output_type": "display_data",
          "data": {
            "text/plain": [
              "<IPython.core.display.Javascript object>"
            ],
            "application/javascript": [
              "window[\"0963f46e-9c70-11ef-9857-0242ac1c000c\"] = document.querySelector(\"#id2-0-1\");\n",
              "//# sourceURL=js_e9323fae2d"
            ]
          },
          "metadata": {}
        },
        {
          "output_type": "display_data",
          "data": {
            "text/plain": [
              "<IPython.core.display.Javascript object>"
            ],
            "application/javascript": [
              "window[\"09645ada-9c70-11ef-9857-0242ac1c000c\"] = google.colab.output.setActiveOutputArea(window[\"0963f46e-9c70-11ef-9857-0242ac1c000c\"]);\n",
              "//# sourceURL=js_4dbe1afca3"
            ]
          },
          "metadata": {}
        },
        {
          "output_type": "stream",
          "name": "stdout",
          "text": [
            "w= 640 h= 480\n"
          ]
        },
        {
          "output_type": "display_data",
          "data": {
            "text/plain": [
              "<IPython.core.display.Javascript object>"
            ],
            "application/javascript": [
              "window[\"09863b50-9c70-11ef-9857-0242ac1c000c\"] = google.colab.output.setActiveOutputArea(window[\"096366a2-9c70-11ef-9857-0242ac1c000c\"]);\n",
              "//# sourceURL=js_f97da74956"
            ]
          },
          "metadata": {}
        },
        {
          "output_type": "display_data",
          "data": {
            "text/plain": [
              "<IPython.core.display.Javascript object>"
            ],
            "application/javascript": [
              "window[\"0989b8ca-9c70-11ef-9857-0242ac1c000c\"] = google.colab.output.getActiveOutputArea();\n",
              "//# sourceURL=js_1f75daa3a5"
            ]
          },
          "metadata": {}
        },
        {
          "output_type": "display_data",
          "data": {
            "text/plain": [
              "<IPython.core.display.Javascript object>"
            ],
            "application/javascript": [
              "window[\"098a4100-9c70-11ef-9857-0242ac1c000c\"] = document.querySelector(\"#id2-1-0\");\n",
              "//# sourceURL=js_95f1017920"
            ]
          },
          "metadata": {}
        },
        {
          "output_type": "display_data",
          "data": {
            "text/plain": [
              "<IPython.core.display.Javascript object>"
            ],
            "application/javascript": [
              "window[\"098aa564-9c70-11ef-9857-0242ac1c000c\"] = google.colab.output.setActiveOutputArea(window[\"098a4100-9c70-11ef-9857-0242ac1c000c\"]);\n",
              "//# sourceURL=js_f3363fe970"
            ]
          },
          "metadata": {}
        },
        {
          "output_type": "stream",
          "name": "stdout",
          "text": [
            "w= 640 h= 480\n"
          ]
        },
        {
          "output_type": "display_data",
          "data": {
            "text/plain": [
              "<IPython.core.display.Javascript object>"
            ],
            "application/javascript": [
              "window[\"09a68932-9c70-11ef-9857-0242ac1c000c\"] = google.colab.output.setActiveOutputArea(window[\"0989b8ca-9c70-11ef-9857-0242ac1c000c\"]);\n",
              "//# sourceURL=js_1780230e5c"
            ]
          },
          "metadata": {}
        },
        {
          "output_type": "display_data",
          "data": {
            "text/plain": [
              "<IPython.core.display.Javascript object>"
            ],
            "application/javascript": [
              "window[\"09a8ce90-9c70-11ef-9857-0242ac1c000c\"] = google.colab.output.getActiveOutputArea();\n",
              "//# sourceURL=js_9058cef97c"
            ]
          },
          "metadata": {}
        },
        {
          "output_type": "display_data",
          "data": {
            "text/plain": [
              "<IPython.core.display.Javascript object>"
            ],
            "application/javascript": [
              "window[\"09a965bc-9c70-11ef-9857-0242ac1c000c\"] = document.querySelector(\"#id2-1-1\");\n",
              "//# sourceURL=js_7db82e1d88"
            ]
          },
          "metadata": {}
        },
        {
          "output_type": "display_data",
          "data": {
            "text/plain": [
              "<IPython.core.display.Javascript object>"
            ],
            "application/javascript": [
              "window[\"09a9b2e2-9c70-11ef-9857-0242ac1c000c\"] = google.colab.output.setActiveOutputArea(window[\"09a965bc-9c70-11ef-9857-0242ac1c000c\"]);\n",
              "//# sourceURL=js_2034367ed6"
            ]
          },
          "metadata": {}
        },
        {
          "output_type": "stream",
          "name": "stdout",
          "text": [
            "w= 640 h= 480\n"
          ]
        },
        {
          "output_type": "display_data",
          "data": {
            "text/plain": [
              "<IPython.core.display.Javascript object>"
            ],
            "application/javascript": [
              "window[\"09c1281e-9c70-11ef-9857-0242ac1c000c\"] = google.colab.output.setActiveOutputArea(window[\"09a8ce90-9c70-11ef-9857-0242ac1c000c\"]);\n",
              "//# sourceURL=js_82f2eb8bd9"
            ]
          },
          "metadata": {}
        },
        {
          "output_type": "display_data",
          "data": {
            "text/plain": [
              "<Figure size 1000x500 with 1 Axes>"
            ],
            "image/png": "[encoded data removed]"
          },
          "metadata": {}
        },
        {
          "output_type": "display_data",
          "data": {
            "text/plain": [
              "<Figure size 1000x500 with 1 Axes>"
            ],
            "image/png": "[encoded data removed]"
          },
          "metadata": {}
        },
        {
          "output_type": "display_data",
          "data": {
            "text/plain": [
              "<Figure size 1000x500 with 1 Axes>"
            ],
            "image/png": "[encoded data removed]"
          },
          "metadata": {}
        },
        {
          "output_type": "display_data",
          "data": {
            "text/plain": [
              "<Figure size 1000x500 with 1 Axes>"
            ],
            "image/png": "[encoded data removed]"
          },
          "metadata": {}
        }
      ],
      "source": [
        "camTargetPos = [0, 0, 0]\n",
        "cameraUp = [0, 0, 1]\n",
        "cameraPos = [1, 1, 1]\n",
        "p.setGravity(0, 0, -10)\n",
        "from google.colab import widgets\n",
        "import numpy as np\n",
        "import random\n",
        "import time\n",
        "from matplotlib import pylab\n",
        "grid = widgets.Grid(2, 2)\n",
        "yaw = 0\n",
        "for r in range(2):\n",
        "  for c in range(2):\n",
        "    yaw += 60\n",
        "    with grid.output_to(r, c):\n",
        "      grid.clear_cell()\n",
        "      pylab.figure(figsize=(10, 5))\n",
        "      pitch = -10.0\n",
        "      roll = 0\n",
        "      upAxisIndex = 2\n",
        "      camDistance = 2.5\n",
        "      pixelWidth = 640\n",
        "      pixelHeight = 480\n",
        "      nearPlane = 0.01\n",
        "      farPlane = 100\n",
        "      fov = 60\n",
        "      viewMatrix = p.computeViewMatrixFromYawPitchRoll(camTargetPos, camDistance, yaw, pitch,\n",
        "                                                                  roll, upAxisIndex)\n",
        "      aspect = pixelWidth / pixelHeight\n",
        "      projectionMatrix = p.computeProjectionMatrixFOV(fov, aspect, nearPlane, farPlane)\n",
        "\n",
        "      img_arr = p.getCameraImage(pixelWidth,pixelHeight,viewMatrix,projectionMatrix)\n",
        "      w = img_arr[0]  #width of the image, in pixels\n",
        "      h = img_arr[1]  #height of the image, in pixels\n",
        "      rgb = img_arr[2]  #color data RGB\n",
        "      dep = img_arr[3]  #depth data\n",
        "      print(\"w=\",w,\"h=\",h)\n",
        "      np_img_arr = np.reshape(rgb, (h, w, 4))\n",
        "      np_img_arr = np_img_arr * (1. / 255.)\n",
        "      pylab.imshow(np_img_arr, interpolation='none', animated=True, label=\"pybullet\")\n"
      ]
    },
    {
      "cell_type": "code",
      "execution_count": 10,
      "metadata": {
        "colab": {
          "base_uri": "https://localhost:8080/"
        },
        "id": "7aHiEsDWo0iU",
        "outputId": "b0622168-8c85-4908-b7ce-b1da1c4d5945"
      },
      "outputs": [
        {
          "output_type": "stream",
          "name": "stdout",
          "text": [
            "Column: (0.0, 0.0, 0.1)\n",
            "Joint: (0.0, 0.0, 0.28500000000000003)\n"
          ]
        }
      ],
      "source": [
        "column_position, _  = p.getBasePositionAndOrientation(PIPPA_id)\n",
        "print('Column:', column_position)\n",
        "\n",
        "joint_position = p.getLinkState(PIPPA_id, link_name_to_index['Giunto_Link'])[0]\n",
        "print('Joint:', joint_position)\n"
      ]
    },
    {
      "cell_type": "markdown",
      "source": [
        "🛑 🛑 🛑 posObj always refers to the link’s local coordinate frame, even if the force itself is specified in the global frame using flags=p.WORLD_FRAME. So `posObj = [0,0,0] `is the center of mass, while `posObj = [0,0,0.5]` means apply force on distance 0.05 in z from the center of mass.\n",
        "\n",
        "As long as we are concerned, we have to set `flags=p.WORLD_FRAME`"
      ],
      "metadata": {
        "id": "zAaFpM0hwEPT"
      }
    },
    {
      "cell_type": "code",
      "execution_count": 11,
      "metadata": {
        "id": "UhV5KU1OpuxF"
      },
      "outputs": [],
      "source": [
        "#Force to be applied\n",
        "force_module = np.array([0.1,0,0])\n",
        "force_position = np.array([0,0,0.0]) #means apply in the center\n",
        "p.applyExternalForce(\n",
        "    objectUniqueId=PIPPA_id,linkIndex = link_name_to_index['Link_colonna'],forceObj=force_module, \\\n",
        "    posObj=force_position, flags=p.LINK_FRAME)\n",
        "\n",
        "leg_positions_x, leg_positions_y, leg_position_z = [], [], []"
      ]
    },
    {
      "cell_type": "code",
      "execution_count": null,
      "metadata": {
        "colab": {
          "base_uri": "https://localhost:8080/",
          "height": 1000
        },
        "id": "2_kqNTyyqFul",
        "outputId": "8b83c58d-50ae-4bbd-95b7-436d19a00ed0"
      },
      "outputs": [
        {
          "output_type": "display_data",
          "data": {
            "text/plain": [
              "<IPython.core.display.HTML object>"
            ],
            "text/html": [
              "<style>\n",
              "       table#id4, #id4 > tbody > tr > th, #id4 > tbody > tr > td {\n",
              "         border: 1px solid lightgray;\n",
              "         border-collapse:collapse;\n",
              "         \n",
              "        }</style>"
            ]
          },
          "metadata": {}
        },
        {
          "output_type": "display_data",
          "data": {
            "text/plain": [
              "<IPython.core.display.HTML object>"
            ],
            "text/html": [
              "<table id=id4><tr><td id=id4-0-0></td><td id=id4-0-1></td></tr><tr><td id=id4-1-0></td><td id=id4-1-1></td></tr></table>"
            ]
          },
          "metadata": {}
        },
        {
          "output_type": "display_data",
          "data": {
            "text/plain": [
              "<IPython.core.display.Javascript object>"
            ],
            "application/javascript": [
              "window[\"0ac6c2f0-9c70-11ef-9857-0242ac1c000c\"] = google.colab.output.getActiveOutputArea();\n",
              "//# sourceURL=js_8a0a5b87eb"
            ]
          },
          "metadata": {}
        },
        {
          "output_type": "display_data",
          "data": {
            "text/plain": [
              "<IPython.core.display.Javascript object>"
            ],
            "application/javascript": [
              "window[\"0ac73546-9c70-11ef-9857-0242ac1c000c\"] = document.querySelector(\"#id4-0-0\");\n",
              "//# sourceURL=js_f777d801fe"
            ]
          },
          "metadata": {}
        },
        {
          "output_type": "display_data",
          "data": {
            "text/plain": [
              "<IPython.core.display.Javascript object>"
            ],
            "application/javascript": [
              "window[\"0ac7eca2-9c70-11ef-9857-0242ac1c000c\"] = google.colab.output.setActiveOutputArea(window[\"0ac73546-9c70-11ef-9857-0242ac1c000c\"]);\n",
              "//# sourceURL=js_5aa9580e9b"
            ]
          },
          "metadata": {}
        },
        {
          "output_type": "stream",
          "name": "stdout",
          "text": [
            "w= 640 h= 480\n"
          ]
        },
        {
          "output_type": "display_data",
          "data": {
            "text/plain": [
              "<IPython.core.display.Javascript object>"
            ],
            "application/javascript": [
              "window[\"0b00a6fa-9c70-11ef-9857-0242ac1c000c\"] = google.colab.output.setActiveOutputArea(window[\"0ac6c2f0-9c70-11ef-9857-0242ac1c000c\"]);\n",
              "//# sourceURL=js_7d9b8dc5b9"
            ]
          },
          "metadata": {}
        },
        {
          "output_type": "display_data",
          "data": {
            "text/plain": [
              "<IPython.core.display.Javascript object>"
            ],
            "application/javascript": [
              "window[\"0b059c50-9c70-11ef-9857-0242ac1c000c\"] = google.colab.output.getActiveOutputArea();\n",
              "//# sourceURL=js_2fd859e729"
            ]
          },
          "metadata": {}
        },
        {
          "output_type": "display_data",
          "data": {
            "text/plain": [
              "<IPython.core.display.Javascript object>"
            ],
            "application/javascript": [
              "window[\"0b086b6a-9c70-11ef-9857-0242ac1c000c\"] = document.querySelector(\"#id4-0-1\");\n",
              "//# sourceURL=js_fffdd559b8"
            ]
          },
          "metadata": {}
        },
        {
          "output_type": "display_data",
          "data": {
            "text/plain": [
              "<IPython.core.display.Javascript object>"
            ],
            "application/javascript": [
              "window[\"0b0aa268-9c70-11ef-9857-0242ac1c000c\"] = google.colab.output.setActiveOutputArea(window[\"0b086b6a-9c70-11ef-9857-0242ac1c000c\"]);\n",
              "//# sourceURL=js_318061f690"
            ]
          },
          "metadata": {}
        },
        {
          "output_type": "stream",
          "name": "stdout",
          "text": [
            "w= 640 h= 480\n"
          ]
        },
        {
          "output_type": "display_data",
          "data": {
            "text/plain": [
              "<IPython.core.display.Javascript object>"
            ],
            "application/javascript": [
              "window[\"0b6337ca-9c70-11ef-9857-0242ac1c000c\"] = google.colab.output.setActiveOutputArea(window[\"0b059c50-9c70-11ef-9857-0242ac1c000c\"]);\n",
              "//# sourceURL=js_3a276060eb"
            ]
          },
          "metadata": {}
        },
        {
          "output_type": "display_data",
          "data": {
            "text/plain": [
              "<IPython.core.display.Javascript object>"
            ],
            "application/javascript": [
              "window[\"0b6de5f8-9c70-11ef-9857-0242ac1c000c\"] = google.colab.output.getActiveOutputArea();\n",
              "//# sourceURL=js_d385dc9b8d"
            ]
          },
          "metadata": {}
        },
        {
          "output_type": "display_data",
          "data": {
            "text/plain": [
              "<IPython.core.display.Javascript object>"
            ],
            "application/javascript": [
              "window[\"0b6e480e-9c70-11ef-9857-0242ac1c000c\"] = document.querySelector(\"#id4-1-0\");\n",
              "//# sourceURL=js_3fd95dcc01"
            ]
          },
          "metadata": {}
        },
        {
          "output_type": "display_data",
          "data": {
            "text/plain": [
              "<IPython.core.display.Javascript object>"
            ],
            "application/javascript": [
              "window[\"0b6ea5d8-9c70-11ef-9857-0242ac1c000c\"] = google.colab.output.setActiveOutputArea(window[\"0b6e480e-9c70-11ef-9857-0242ac1c000c\"]);\n",
              "//# sourceURL=js_f1f7d62219"
            ]
          },
          "metadata": {}
        },
        {
          "output_type": "stream",
          "name": "stdout",
          "text": [
            "w= 640 h= 480\n"
          ]
        },
        {
          "output_type": "display_data",
          "data": {
            "text/plain": [
              "<IPython.core.display.Javascript object>"
            ],
            "application/javascript": [
              "window[\"0b98bf30-9c70-11ef-9857-0242ac1c000c\"] = google.colab.output.setActiveOutputArea(window[\"0b6de5f8-9c70-11ef-9857-0242ac1c000c\"]);\n",
              "//# sourceURL=js_6a7b2e5630"
            ]
          },
          "metadata": {}
        },
        {
          "output_type": "display_data",
          "data": {
            "text/plain": [
              "<IPython.core.display.Javascript object>"
            ],
            "application/javascript": [
              "window[\"0b9be322-9c70-11ef-9857-0242ac1c000c\"] = google.colab.output.getActiveOutputArea();\n",
              "//# sourceURL=js_62dc28f074"
            ]
          },
          "metadata": {}
        },
        {
          "output_type": "display_data",
          "data": {
            "text/plain": [
              "<IPython.core.display.Javascript object>"
            ],
            "application/javascript": [
              "window[\"0b9c443e-9c70-11ef-9857-0242ac1c000c\"] = document.querySelector(\"#id4-1-1\");\n",
              "//# sourceURL=js_61f0cbdda4"
            ]
          },
          "metadata": {}
        },
        {
          "output_type": "display_data",
          "data": {
            "text/plain": [
              "<IPython.core.display.Javascript object>"
            ],
            "application/javascript": [
              "window[\"0b9ca35c-9c70-11ef-9857-0242ac1c000c\"] = google.colab.output.setActiveOutputArea(window[\"0b9c443e-9c70-11ef-9857-0242ac1c000c\"]);\n",
              "//# sourceURL=js_de569c403f"
            ]
          },
          "metadata": {}
        },
        {
          "output_type": "stream",
          "name": "stdout",
          "text": [
            "w= 640 h= 480\n"
          ]
        },
        {
          "output_type": "display_data",
          "data": {
            "text/plain": [
              "<IPython.core.display.Javascript object>"
            ],
            "application/javascript": [
              "window[\"0bc3af42-9c70-11ef-9857-0242ac1c000c\"] = google.colab.output.setActiveOutputArea(window[\"0b9be322-9c70-11ef-9857-0242ac1c000c\"]);\n",
              "//# sourceURL=js_a4cb8b91a7"
            ]
          },
          "metadata": {}
        },
        {
          "output_type": "display_data",
          "data": {
            "text/plain": [
              "<IPython.core.display.HTML object>"
            ],
            "text/html": [
              "<style>\n",
              "       table#id6, #id6 > tbody > tr > th, #id6 > tbody > tr > td {\n",
              "         border: 1px solid lightgray;\n",
              "         border-collapse:collapse;\n",
              "         \n",
              "        }</style>"
            ]
          },
          "metadata": {}
        },
        {
          "output_type": "display_data",
          "data": {
            "text/plain": [
              "<IPython.core.display.HTML object>"
            ],
            "text/html": [
              "<table id=id6><tr><td id=id6-0-0></td><td id=id6-0-1></td></tr><tr><td id=id6-1-0></td><td id=id6-1-1></td></tr></table>"
            ]
          },
          "metadata": {}
        },
        {
          "output_type": "display_data",
          "data": {
            "text/plain": [
              "<IPython.core.display.Javascript object>"
            ],
            "application/javascript": [
              "window[\"0bcb4766-9c70-11ef-9857-0242ac1c000c\"] = google.colab.output.getActiveOutputArea();\n",
              "//# sourceURL=js_24726954ea"
            ]
          },
          "metadata": {}
        },
        {
          "output_type": "display_data",
          "data": {
            "text/plain": [
              "<IPython.core.display.Javascript object>"
            ],
            "application/javascript": [
              "window[\"0bcb92c0-9c70-11ef-9857-0242ac1c000c\"] = document.querySelector(\"#id6-0-0\");\n",
              "//# sourceURL=js_67694bc5db"
            ]
          },
          "metadata": {}
        },
        {
          "output_type": "display_data",
          "data": {
            "text/plain": [
              "<IPython.core.display.Javascript object>"
            ],
            "application/javascript": [
              "window[\"0bcbfdaa-9c70-11ef-9857-0242ac1c000c\"] = google.colab.output.setActiveOutputArea(window[\"0bcb92c0-9c70-11ef-9857-0242ac1c000c\"]);\n",
              "//# sourceURL=js_0e8c402335"
            ]
          },
          "metadata": {}
        },
        {
          "output_type": "stream",
          "name": "stdout",
          "text": [
            "w= 640 h= 480\n"
          ]
        },
        {
          "output_type": "display_data",
          "data": {
            "text/plain": [
              "<IPython.core.display.Javascript object>"
            ],
            "application/javascript": [
              "window[\"0bf66a90-9c70-11ef-9857-0242ac1c000c\"] = google.colab.output.setActiveOutputArea(window[\"0bcb4766-9c70-11ef-9857-0242ac1c000c\"]);\n",
              "//# sourceURL=js_287900fa2e"
            ]
          },
          "metadata": {}
        },
        {
          "output_type": "display_data",
          "data": {
            "text/plain": [
              "<IPython.core.display.Javascript object>"
            ],
            "application/javascript": [
              "window[\"0bf905e8-9c70-11ef-9857-0242ac1c000c\"] = google.colab.output.getActiveOutputArea();\n",
              "//# sourceURL=js_f3662a8361"
            ]
          },
          "metadata": {}
        },
        {
          "output_type": "display_data",
          "data": {
            "text/plain": [
              "<IPython.core.display.Javascript object>"
            ],
            "application/javascript": [
              "window[\"0bf95ae8-9c70-11ef-9857-0242ac1c000c\"] = document.querySelector(\"#id6-0-1\");\n",
              "//# sourceURL=js_e2d53893ba"
            ]
          },
          "metadata": {}
        },
        {
          "output_type": "display_data",
          "data": {
            "text/plain": [
              "<IPython.core.display.Javascript object>"
            ],
            "application/javascript": [
              "window[\"0bf9b2fe-9c70-11ef-9857-0242ac1c000c\"] = google.colab.output.setActiveOutputArea(window[\"0bf95ae8-9c70-11ef-9857-0242ac1c000c\"]);\n",
              "//# sourceURL=js_11403dec91"
            ]
          },
          "metadata": {}
        },
        {
          "output_type": "stream",
          "name": "stdout",
          "text": [
            "w= 640 h= 480\n"
          ]
        },
        {
          "output_type": "display_data",
          "data": {
            "text/plain": [
              "<IPython.core.display.Javascript object>"
            ],
            "application/javascript": [
              "window[\"0c2ef374-9c70-11ef-9857-0242ac1c000c\"] = google.colab.output.setActiveOutputArea(window[\"0bf905e8-9c70-11ef-9857-0242ac1c000c\"]);\n",
              "//# sourceURL=js_d69c1abe5c"
            ]
          },
          "metadata": {}
        },
        {
          "output_type": "display_data",
          "data": {
            "text/plain": [
              "<IPython.core.display.Javascript object>"
            ],
            "application/javascript": [
              "window[\"0c3245ba-9c70-11ef-9857-0242ac1c000c\"] = google.colab.output.getActiveOutputArea();\n",
              "//# sourceURL=js_0dc62c0d75"
            ]
          },
          "metadata": {}
        },
        {
          "output_type": "display_data",
          "data": {
            "text/plain": [
              "<IPython.core.display.Javascript object>"
            ],
            "application/javascript": [
              "window[\"0c329c40-9c70-11ef-9857-0242ac1c000c\"] = document.querySelector(\"#id6-1-0\");\n",
              "//# sourceURL=js_9ac138278f"
            ]
          },
          "metadata": {}
        },
        {
          "output_type": "display_data",
          "data": {
            "text/plain": [
              "<IPython.core.display.Javascript object>"
            ],
            "application/javascript": [
              "window[\"0c33052c-9c70-11ef-9857-0242ac1c000c\"] = google.colab.output.setActiveOutputArea(window[\"0c329c40-9c70-11ef-9857-0242ac1c000c\"]);\n",
              "//# sourceURL=js_d340089814"
            ]
          },
          "metadata": {}
        },
        {
          "output_type": "stream",
          "name": "stdout",
          "text": [
            "w= 640 h= 480\n"
          ]
        },
        {
          "output_type": "display_data",
          "data": {
            "text/plain": [
              "<IPython.core.display.Javascript object>"
            ],
            "application/javascript": [
              "window[\"0c57247a-9c70-11ef-9857-0242ac1c000c\"] = google.colab.output.setActiveOutputArea(window[\"0c3245ba-9c70-11ef-9857-0242ac1c000c\"]);\n",
              "//# sourceURL=js_c7e13b5277"
            ]
          },
          "metadata": {}
        },
        {
          "output_type": "display_data",
          "data": {
            "text/plain": [
              "<IPython.core.display.Javascript object>"
            ],
            "application/javascript": [
              "window[\"0c5c75ce-9c70-11ef-9857-0242ac1c000c\"] = google.colab.output.getActiveOutputArea();\n",
              "//# sourceURL=js_736c20ac4c"
            ]
          },
          "metadata": {}
        },
        {
          "output_type": "display_data",
          "data": {
            "text/plain": [
              "<IPython.core.display.Javascript object>"
            ],
            "application/javascript": [
              "window[\"0c5d53f4-9c70-11ef-9857-0242ac1c000c\"] = document.querySelector(\"#id6-1-1\");\n",
              "//# sourceURL=js_8a75b81048"
            ]
          },
          "metadata": {}
        },
        {
          "output_type": "display_data",
          "data": {
            "text/plain": [
              "<IPython.core.display.Javascript object>"
            ],
            "application/javascript": [
              "window[\"0c5df5b6-9c70-11ef-9857-0242ac1c000c\"] = google.colab.output.setActiveOutputArea(window[\"0c5d53f4-9c70-11ef-9857-0242ac1c000c\"]);\n",
              "//# sourceURL=js_346e3a8764"
            ]
          },
          "metadata": {}
        },
        {
          "output_type": "stream",
          "name": "stdout",
          "text": [
            "w= 640 h= 480\n"
          ]
        },
        {
          "output_type": "display_data",
          "data": {
            "text/plain": [
              "<IPython.core.display.Javascript object>"
            ],
            "application/javascript": [
              "window[\"0c9ab258-9c70-11ef-9857-0242ac1c000c\"] = google.colab.output.setActiveOutputArea(window[\"0c5c75ce-9c70-11ef-9857-0242ac1c000c\"]);\n",
              "//# sourceURL=js_df568fa7fc"
            ]
          },
          "metadata": {}
        },
        {
          "output_type": "display_data",
          "data": {
            "text/plain": [
              "<IPython.core.display.HTML object>"
            ],
            "text/html": [
              "<style>\n",
              "       table#id8, #id8 > tbody > tr > th, #id8 > tbody > tr > td {\n",
              "         border: 1px solid lightgray;\n",
              "         border-collapse:collapse;\n",
              "         \n",
              "        }</style>"
            ]
          },
          "metadata": {}
        },
        {
          "output_type": "display_data",
          "data": {
            "text/plain": [
              "<IPython.core.display.HTML object>"
            ],
            "text/html": [
              "<table id=id8><tr><td id=id8-0-0></td><td id=id8-0-1></td></tr><tr><td id=id8-1-0></td><td id=id8-1-1></td></tr></table>"
            ]
          },
          "metadata": {}
        },
        {
          "output_type": "display_data",
          "data": {
            "text/plain": [
              "<IPython.core.display.Javascript object>"
            ],
            "application/javascript": [
              "window[\"0ca26264-9c70-11ef-9857-0242ac1c000c\"] = google.colab.output.getActiveOutputArea();\n",
              "//# sourceURL=js_02543a68bc"
            ]
          },
          "metadata": {}
        },
        {
          "output_type": "display_data",
          "data": {
            "text/plain": [
              "<IPython.core.display.Javascript object>"
            ],
            "application/javascript": [
              "window[\"0ca2e644-9c70-11ef-9857-0242ac1c000c\"] = document.querySelector(\"#id8-0-0\");\n",
              "//# sourceURL=js_a9c11ab2dc"
            ]
          },
          "metadata": {}
        },
        {
          "output_type": "display_data",
          "data": {
            "text/plain": [
              "<IPython.core.display.Javascript object>"
            ],
            "application/javascript": [
              "window[\"0ca36dda-9c70-11ef-9857-0242ac1c000c\"] = google.colab.output.setActiveOutputArea(window[\"0ca2e644-9c70-11ef-9857-0242ac1c000c\"]);\n",
              "//# sourceURL=js_3afc6bb6dc"
            ]
          },
          "metadata": {}
        },
        {
          "output_type": "stream",
          "name": "stdout",
          "text": [
            "w= 640 h= 480\n"
          ]
        },
        {
          "output_type": "display_data",
          "data": {
            "text/plain": [
              "<IPython.core.display.Javascript object>"
            ],
            "application/javascript": [
              "window[\"0cc3483a-9c70-11ef-9857-0242ac1c000c\"] = google.colab.output.setActiveOutputArea(window[\"0ca26264-9c70-11ef-9857-0242ac1c000c\"]);\n",
              "//# sourceURL=js_09a727bae6"
            ]
          },
          "metadata": {}
        },
        {
          "output_type": "display_data",
          "data": {
            "text/plain": [
              "<IPython.core.display.Javascript object>"
            ],
            "application/javascript": [
              "window[\"0cc67d66-9c70-11ef-9857-0242ac1c000c\"] = google.colab.output.getActiveOutputArea();\n",
              "//# sourceURL=js_5107fa5c5e"
            ]
          },
          "metadata": {}
        },
        {
          "output_type": "display_data",
          "data": {
            "text/plain": [
              "<IPython.core.display.Javascript object>"
            ],
            "application/javascript": [
              "window[\"0cc6d4c8-9c70-11ef-9857-0242ac1c000c\"] = document.querySelector(\"#id8-0-1\");\n",
              "//# sourceURL=js_6438987322"
            ]
          },
          "metadata": {}
        },
        {
          "output_type": "display_data",
          "data": {
            "text/plain": [
              "<IPython.core.display.Javascript object>"
            ],
            "application/javascript": [
              "window[\"0cc719e2-9c70-11ef-9857-0242ac1c000c\"] = google.colab.output.setActiveOutputArea(window[\"0cc6d4c8-9c70-11ef-9857-0242ac1c000c\"]);\n",
              "//# sourceURL=js_2e7f38cafd"
            ]
          },
          "metadata": {}
        },
        {
          "output_type": "stream",
          "name": "stdout",
          "text": [
            "w= 640 h= 480\n"
          ]
        },
        {
          "output_type": "display_data",
          "data": {
            "text/plain": [
              "<IPython.core.display.Javascript object>"
            ],
            "application/javascript": [
              "window[\"0ceb5168-9c70-11ef-9857-0242ac1c000c\"] = google.colab.output.setActiveOutputArea(window[\"0cc67d66-9c70-11ef-9857-0242ac1c000c\"]);\n",
              "//# sourceURL=js_6767bb8872"
            ]
          },
          "metadata": {}
        },
        {
          "output_type": "display_data",
          "data": {
            "text/plain": [
              "<IPython.core.display.Javascript object>"
            ],
            "application/javascript": [
              "window[\"0cf1ac5c-9c70-11ef-9857-0242ac1c000c\"] = google.colab.output.getActiveOutputArea();\n",
              "//# sourceURL=js_edcac5738c"
            ]
          },
          "metadata": {}
        },
        {
          "output_type": "display_data",
          "data": {
            "text/plain": [
              "<IPython.core.display.Javascript object>"
            ],
            "application/javascript": [
              "window[\"0cf2c0ba-9c70-11ef-9857-0242ac1c000c\"] = document.querySelector(\"#id8-1-0\");\n",
              "//# sourceURL=js_04d128a6c8"
            ]
          },
          "metadata": {}
        },
        {
          "output_type": "display_data",
          "data": {
            "text/plain": [
              "<IPython.core.display.Javascript object>"
            ],
            "application/javascript": [
              "window[\"0cf2fb34-9c70-11ef-9857-0242ac1c000c\"] = google.colab.output.setActiveOutputArea(window[\"0cf2c0ba-9c70-11ef-9857-0242ac1c000c\"]);\n",
              "//# sourceURL=js_38cc2cea10"
            ]
          },
          "metadata": {}
        },
        {
          "output_type": "stream",
          "name": "stdout",
          "text": [
            "w= 640 h= 480\n"
          ]
        },
        {
          "output_type": "display_data",
          "data": {
            "text/plain": [
              "<IPython.core.display.Javascript object>"
            ],
            "application/javascript": [
              "window[\"0d162442-9c70-11ef-9857-0242ac1c000c\"] = google.colab.output.setActiveOutputArea(window[\"0cf1ac5c-9c70-11ef-9857-0242ac1c000c\"]);\n",
              "//# sourceURL=js_b14c05bace"
            ]
          },
          "metadata": {}
        },
        {
          "output_type": "display_data",
          "data": {
            "text/plain": [
              "<IPython.core.display.Javascript object>"
            ],
            "application/javascript": [
              "window[\"0d1cc4b4-9c70-11ef-9857-0242ac1c000c\"] = google.colab.output.getActiveOutputArea();\n",
              "//# sourceURL=js_398429ea27"
            ]
          },
          "metadata": {}
        },
        {
          "output_type": "display_data",
          "data": {
            "text/plain": [
              "<IPython.core.display.Javascript object>"
            ],
            "application/javascript": [
              "window[\"0d1d5ea6-9c70-11ef-9857-0242ac1c000c\"] = document.querySelector(\"#id8-1-1\");\n",
              "//# sourceURL=js_a9da35d4d2"
            ]
          },
          "metadata": {}
        },
        {
          "output_type": "display_data",
          "data": {
            "text/plain": [
              "<IPython.core.display.Javascript object>"
            ],
            "application/javascript": [
              "window[\"0d1de6be-9c70-11ef-9857-0242ac1c000c\"] = google.colab.output.setActiveOutputArea(window[\"0d1d5ea6-9c70-11ef-9857-0242ac1c000c\"]);\n",
              "//# sourceURL=js_14c569fd61"
            ]
          },
          "metadata": {}
        },
        {
          "output_type": "stream",
          "name": "stdout",
          "text": [
            "w= 640 h= 480\n"
          ]
        },
        {
          "output_type": "display_data",
          "data": {
            "text/plain": [
              "<IPython.core.display.Javascript object>"
            ],
            "application/javascript": [
              "window[\"0d3e9a4e-9c70-11ef-9857-0242ac1c000c\"] = google.colab.output.setActiveOutputArea(window[\"0d1cc4b4-9c70-11ef-9857-0242ac1c000c\"]);\n",
              "//# sourceURL=js_c047a51547"
            ]
          },
          "metadata": {}
        },
        {
          "output_type": "display_data",
          "data": {
            "text/plain": [
              "<IPython.core.display.HTML object>"
            ],
            "text/html": [
              "<style>\n",
              "       table#id10, #id10 > tbody > tr > th, #id10 > tbody > tr > td {\n",
              "         border: 1px solid lightgray;\n",
              "         border-collapse:collapse;\n",
              "         \n",
              "        }</style>"
            ]
          },
          "metadata": {}
        },
        {
          "output_type": "display_data",
          "data": {
            "text/plain": [
              "<IPython.core.display.HTML object>"
            ],
            "text/html": [
              "<table id=id10><tr><td id=id10-0-0></td><td id=id10-0-1></td></tr><tr><td id=id10-1-0></td><td id=id10-1-1></td></tr></table>"
            ]
          },
          "metadata": {}
        },
        {
          "output_type": "display_data",
          "data": {
            "text/plain": [
              "<IPython.core.display.Javascript object>"
            ],
            "application/javascript": [
              "window[\"0d422a42-9c70-11ef-9857-0242ac1c000c\"] = google.colab.output.getActiveOutputArea();\n",
              "//# sourceURL=js_a136b193cb"
            ]
          },
          "metadata": {}
        },
        {
          "output_type": "display_data",
          "data": {
            "text/plain": [
              "<IPython.core.display.Javascript object>"
            ],
            "application/javascript": [
              "window[\"0d426a20-9c70-11ef-9857-0242ac1c000c\"] = document.querySelector(\"#id10-0-0\");\n",
              "//# sourceURL=js_121a3d3cba"
            ]
          },
          "metadata": {}
        },
        {
          "output_type": "display_data",
          "data": {
            "text/plain": [
              "<IPython.core.display.Javascript object>"
            ],
            "application/javascript": [
              "window[\"0d42ad5a-9c70-11ef-9857-0242ac1c000c\"] = google.colab.output.setActiveOutputArea(window[\"0d426a20-9c70-11ef-9857-0242ac1c000c\"]);\n",
              "//# sourceURL=js_bccbfbb079"
            ]
          },
          "metadata": {}
        },
        {
          "output_type": "stream",
          "name": "stdout",
          "text": [
            "w= 640 h= 480\n"
          ]
        },
        {
          "output_type": "display_data",
          "data": {
            "text/plain": [
              "<IPython.core.display.Javascript object>"
            ],
            "application/javascript": [
              "window[\"0d5dd04e-9c70-11ef-9857-0242ac1c000c\"] = google.colab.output.setActiveOutputArea(window[\"0d422a42-9c70-11ef-9857-0242ac1c000c\"]);\n",
              "//# sourceURL=js_8fcfc4a422"
            ]
          },
          "metadata": {}
        },
        {
          "output_type": "display_data",
          "data": {
            "text/plain": [
              "<IPython.core.display.Javascript object>"
            ],
            "application/javascript": [
              "window[\"0d631266-9c70-11ef-9857-0242ac1c000c\"] = google.colab.output.getActiveOutputArea();\n",
              "//# sourceURL=js_2f94b25492"
            ]
          },
          "metadata": {}
        },
        {
          "output_type": "display_data",
          "data": {
            "text/plain": [
              "<IPython.core.display.Javascript object>"
            ],
            "application/javascript": [
              "window[\"0d639f24-9c70-11ef-9857-0242ac1c000c\"] = document.querySelector(\"#id10-0-1\");\n",
              "//# sourceURL=js_f37715a082"
            ]
          },
          "metadata": {}
        },
        {
          "output_type": "display_data",
          "data": {
            "text/plain": [
              "<IPython.core.display.Javascript object>"
            ],
            "application/javascript": [
              "window[\"0d6426f6-9c70-11ef-9857-0242ac1c000c\"] = google.colab.output.setActiveOutputArea(window[\"0d639f24-9c70-11ef-9857-0242ac1c000c\"]);\n",
              "//# sourceURL=js_ab2599880a"
            ]
          },
          "metadata": {}
        },
        {
          "output_type": "stream",
          "name": "stdout",
          "text": [
            "w= 640 h= 480\n"
          ]
        },
        {
          "output_type": "display_data",
          "data": {
            "text/plain": [
              "<IPython.core.display.Javascript object>"
            ],
            "application/javascript": [
              "window[\"0d8d2d94-9c70-11ef-9857-0242ac1c000c\"] = google.colab.output.setActiveOutputArea(window[\"0d631266-9c70-11ef-9857-0242ac1c000c\"]);\n",
              "//# sourceURL=js_d3c713c465"
            ]
          },
          "metadata": {}
        },
        {
          "output_type": "display_data",
          "data": {
            "text/plain": [
              "<IPython.core.display.Javascript object>"
            ],
            "application/javascript": [
              "window[\"0d907314-9c70-11ef-9857-0242ac1c000c\"] = google.colab.output.getActiveOutputArea();\n",
              "//# sourceURL=js_55bb4a47a1"
            ]
          },
          "metadata": {}
        },
        {
          "output_type": "display_data",
          "data": {
            "text/plain": [
              "<IPython.core.display.Javascript object>"
            ],
            "application/javascript": [
              "window[\"0d90f88e-9c70-11ef-9857-0242ac1c000c\"] = document.querySelector(\"#id10-1-0\");\n",
              "//# sourceURL=js_93105394b6"
            ]
          },
          "metadata": {}
        },
        {
          "output_type": "display_data",
          "data": {
            "text/plain": [
              "<IPython.core.display.Javascript object>"
            ],
            "application/javascript": [
              "window[\"0d934706-9c70-11ef-9857-0242ac1c000c\"] = google.colab.output.setActiveOutputArea(window[\"0d90f88e-9c70-11ef-9857-0242ac1c000c\"]);\n",
              "//# sourceURL=js_a58159b02a"
            ]
          },
          "metadata": {}
        },
        {
          "output_type": "stream",
          "name": "stdout",
          "text": [
            "w= 640 h= 480\n"
          ]
        },
        {
          "output_type": "display_data",
          "data": {
            "text/plain": [
              "<IPython.core.display.Javascript object>"
            ],
            "application/javascript": [
              "window[\"0db79692-9c70-11ef-9857-0242ac1c000c\"] = google.colab.output.setActiveOutputArea(window[\"0d907314-9c70-11ef-9857-0242ac1c000c\"]);\n",
              "//# sourceURL=js_689676aad1"
            ]
          },
          "metadata": {}
        },
        {
          "output_type": "display_data",
          "data": {
            "text/plain": [
              "<IPython.core.display.Javascript object>"
            ],
            "application/javascript": [
              "window[\"0dbc3f44-9c70-11ef-9857-0242ac1c000c\"] = google.colab.output.getActiveOutputArea();\n",
              "//# sourceURL=js_5e225bb904"
            ]
          },
          "metadata": {}
        },
        {
          "output_type": "display_data",
          "data": {
            "text/plain": [
              "<IPython.core.display.Javascript object>"
            ],
            "application/javascript": [
              "window[\"0dbcd33c-9c70-11ef-9857-0242ac1c000c\"] = document.querySelector(\"#id10-1-1\");\n",
              "//# sourceURL=js_d6b479bdeb"
            ]
          },
          "metadata": {}
        },
        {
          "output_type": "display_data",
          "data": {
            "text/plain": [
              "<IPython.core.display.Javascript object>"
            ],
            "application/javascript": [
              "window[\"0dbd4394-9c70-11ef-9857-0242ac1c000c\"] = google.colab.output.setActiveOutputArea(window[\"0dbcd33c-9c70-11ef-9857-0242ac1c000c\"]);\n",
              "//# sourceURL=js_641f9998aa"
            ]
          },
          "metadata": {}
        },
        {
          "output_type": "stream",
          "name": "stdout",
          "text": [
            "w= 640 h= 480\n"
          ]
        },
        {
          "output_type": "display_data",
          "data": {
            "text/plain": [
              "<IPython.core.display.Javascript object>"
            ],
            "application/javascript": [
              "window[\"0dee90b6-9c70-11ef-9857-0242ac1c000c\"] = google.colab.output.setActiveOutputArea(window[\"0dbc3f44-9c70-11ef-9857-0242ac1c000c\"]);\n",
              "//# sourceURL=js_caf7fc0105"
            ]
          },
          "metadata": {}
        },
        {
          "output_type": "display_data",
          "data": {
            "text/plain": [
              "<IPython.core.display.HTML object>"
            ],
            "text/html": [
              "<style>\n",
              "       table#id12, #id12 > tbody > tr > th, #id12 > tbody > tr > td {\n",
              "         border: 1px solid lightgray;\n",
              "         border-collapse:collapse;\n",
              "         \n",
              "        }</style>"
            ]
          },
          "metadata": {}
        },
        {
          "output_type": "display_data",
          "data": {
            "text/plain": [
              "<IPython.core.display.HTML object>"
            ],
            "text/html": [
              "<table id=id12><tr><td id=id12-0-0></td><td id=id12-0-1></td></tr><tr><td id=id12-1-0></td><td id=id12-1-1></td></tr></table>"
            ]
          },
          "metadata": {}
        },
        {
          "output_type": "display_data",
          "data": {
            "text/plain": [
              "<IPython.core.display.Javascript object>"
            ],
            "application/javascript": [
              "window[\"0df61ba6-9c70-11ef-9857-0242ac1c000c\"] = google.colab.output.getActiveOutputArea();\n",
              "//# sourceURL=js_0de2734a5e"
            ]
          },
          "metadata": {}
        },
        {
          "output_type": "display_data",
          "data": {
            "text/plain": [
              "<IPython.core.display.Javascript object>"
            ],
            "application/javascript": [
              "window[\"0df6aa1c-9c70-11ef-9857-0242ac1c000c\"] = document.querySelector(\"#id12-0-0\");\n",
              "//# sourceURL=js_26a63ad7ed"
            ]
          },
          "metadata": {}
        },
        {
          "output_type": "display_data",
          "data": {
            "text/plain": [
              "<IPython.core.display.Javascript object>"
            ],
            "application/javascript": [
              "window[\"0df72cf8-9c70-11ef-9857-0242ac1c000c\"] = google.colab.output.setActiveOutputArea(window[\"0df6aa1c-9c70-11ef-9857-0242ac1c000c\"]);\n",
              "//# sourceURL=js_cdde6cb057"
            ]
          },
          "metadata": {}
        },
        {
          "output_type": "stream",
          "name": "stdout",
          "text": [
            "w= 640 h= 480\n"
          ]
        },
        {
          "output_type": "display_data",
          "data": {
            "text/plain": [
              "<IPython.core.display.Javascript object>"
            ],
            "application/javascript": [
              "window[\"0e2557ea-9c70-11ef-9857-0242ac1c000c\"] = google.colab.output.setActiveOutputArea(window[\"0df61ba6-9c70-11ef-9857-0242ac1c000c\"]);\n",
              "//# sourceURL=js_94e7df78d1"
            ]
          },
          "metadata": {}
        },
        {
          "output_type": "display_data",
          "data": {
            "text/plain": [
              "<IPython.core.display.Javascript object>"
            ],
            "application/javascript": [
              "window[\"0e2c383a-9c70-11ef-9857-0242ac1c000c\"] = google.colab.output.getActiveOutputArea();\n",
              "//# sourceURL=js_c9076bb982"
            ]
          },
          "metadata": {}
        },
        {
          "output_type": "display_data",
          "data": {
            "text/plain": [
              "<IPython.core.display.Javascript object>"
            ],
            "application/javascript": [
              "window[\"0e2cb530-9c70-11ef-9857-0242ac1c000c\"] = document.querySelector(\"#id12-0-1\");\n",
              "//# sourceURL=js_d18016dc18"
            ]
          },
          "metadata": {}
        },
        {
          "output_type": "display_data",
          "data": {
            "text/plain": [
              "<IPython.core.display.Javascript object>"
            ],
            "application/javascript": [
              "window[\"0e2d32bc-9c70-11ef-9857-0242ac1c000c\"] = google.colab.output.setActiveOutputArea(window[\"0e2cb530-9c70-11ef-9857-0242ac1c000c\"]);\n",
              "//# sourceURL=js_18d2f6925d"
            ]
          },
          "metadata": {}
        },
        {
          "output_type": "stream",
          "name": "stdout",
          "text": [
            "w= 640 h= 480\n"
          ]
        },
        {
          "output_type": "display_data",
          "data": {
            "text/plain": [
              "<IPython.core.display.Javascript object>"
            ],
            "application/javascript": [
              "window[\"0e52f862-9c70-11ef-9857-0242ac1c000c\"] = google.colab.output.setActiveOutputArea(window[\"0e2c383a-9c70-11ef-9857-0242ac1c000c\"]);\n",
              "//# sourceURL=js_2ac5ad02b5"
            ]
          },
          "metadata": {}
        },
        {
          "output_type": "display_data",
          "data": {
            "text/plain": [
              "<IPython.core.display.Javascript object>"
            ],
            "application/javascript": [
              "window[\"0e57626c-9c70-11ef-9857-0242ac1c000c\"] = google.colab.output.getActiveOutputArea();\n",
              "//# sourceURL=js_a914ecb8ec"
            ]
          },
          "metadata": {}
        },
        {
          "output_type": "display_data",
          "data": {
            "text/plain": [
              "<IPython.core.display.Javascript object>"
            ],
            "application/javascript": [
              "window[\"0e57e93a-9c70-11ef-9857-0242ac1c000c\"] = document.querySelector(\"#id12-1-0\");\n",
              "//# sourceURL=js_7ce4560ff8"
            ]
          },
          "metadata": {}
        },
        {
          "output_type": "display_data",
          "data": {
            "text/plain": [
              "<IPython.core.display.Javascript object>"
            ],
            "application/javascript": [
              "window[\"0e58389a-9c70-11ef-9857-0242ac1c000c\"] = google.colab.output.setActiveOutputArea(window[\"0e57e93a-9c70-11ef-9857-0242ac1c000c\"]);\n",
              "//# sourceURL=js_510ec15890"
            ]
          },
          "metadata": {}
        },
        {
          "output_type": "stream",
          "name": "stdout",
          "text": [
            "w= 640 h= 480\n"
          ]
        },
        {
          "output_type": "display_data",
          "data": {
            "text/plain": [
              "<IPython.core.display.Javascript object>"
            ],
            "application/javascript": [
              "window[\"0e737574-9c70-11ef-9857-0242ac1c000c\"] = google.colab.output.setActiveOutputArea(window[\"0e57626c-9c70-11ef-9857-0242ac1c000c\"]);\n",
              "//# sourceURL=js_09bde4fe99"
            ]
          },
          "metadata": {}
        },
        {
          "output_type": "display_data",
          "data": {
            "text/plain": [
              "<IPython.core.display.Javascript object>"
            ],
            "application/javascript": [
              "window[\"0e762c1a-9c70-11ef-9857-0242ac1c000c\"] = google.colab.output.getActiveOutputArea();\n",
              "//# sourceURL=js_7c61a83c30"
            ]
          },
          "metadata": {}
        },
        {
          "output_type": "display_data",
          "data": {
            "text/plain": [
              "<IPython.core.display.Javascript object>"
            ],
            "application/javascript": [
              "window[\"0e76e768-9c70-11ef-9857-0242ac1c000c\"] = document.querySelector(\"#id12-1-1\");\n",
              "//# sourceURL=js_461ebaa4a9"
            ]
          },
          "metadata": {}
        },
        {
          "output_type": "display_data",
          "data": {
            "text/plain": [
              "<IPython.core.display.Javascript object>"
            ],
            "application/javascript": [
              "window[\"0e7740aa-9c70-11ef-9857-0242ac1c000c\"] = google.colab.output.setActiveOutputArea(window[\"0e76e768-9c70-11ef-9857-0242ac1c000c\"]);\n",
              "//# sourceURL=js_7290f91edc"
            ]
          },
          "metadata": {}
        },
        {
          "output_type": "stream",
          "name": "stdout",
          "text": [
            "w= 640 h= 480\n"
          ]
        },
        {
          "output_type": "display_data",
          "data": {
            "text/plain": [
              "<IPython.core.display.Javascript object>"
            ],
            "application/javascript": [
              "window[\"0ea108a4-9c70-11ef-9857-0242ac1c000c\"] = google.colab.output.setActiveOutputArea(window[\"0e762c1a-9c70-11ef-9857-0242ac1c000c\"]);\n",
              "//# sourceURL=js_cc211f8a1d"
            ]
          },
          "metadata": {}
        },
        {
          "output_type": "display_data",
          "data": {
            "text/plain": [
              "<IPython.core.display.HTML object>"
            ],
            "text/html": [
              "<style>\n",
              "       table#id14, #id14 > tbody > tr > th, #id14 > tbody > tr > td {\n",
              "         border: 1px solid lightgray;\n",
              "         border-collapse:collapse;\n",
              "         \n",
              "        }</style>"
            ]
          },
          "metadata": {}
        },
        {
          "output_type": "display_data",
          "data": {
            "text/plain": [
              "<IPython.core.display.HTML object>"
            ],
            "text/html": [
              "<table id=id14><tr><td id=id14-0-0></td><td id=id14-0-1></td></tr><tr><td id=id14-1-0></td><td id=id14-1-1></td></tr></table>"
            ]
          },
          "metadata": {}
        },
        {
          "output_type": "display_data",
          "data": {
            "text/plain": [
              "<IPython.core.display.Javascript object>"
            ],
            "application/javascript": [
              "window[\"0ea6008e-9c70-11ef-9857-0242ac1c000c\"] = google.colab.output.getActiveOutputArea();\n",
              "//# sourceURL=js_44eb421ac4"
            ]
          },
          "metadata": {}
        },
        {
          "output_type": "display_data",
          "data": {
            "text/plain": [
              "<IPython.core.display.Javascript object>"
            ],
            "application/javascript": [
              "window[\"0ea653ae-9c70-11ef-9857-0242ac1c000c\"] = document.querySelector(\"#id14-0-0\");\n",
              "//# sourceURL=js_08267d4a20"
            ]
          },
          "metadata": {}
        },
        {
          "output_type": "display_data",
          "data": {
            "text/plain": [
              "<IPython.core.display.Javascript object>"
            ],
            "application/javascript": [
              "window[\"0ea6adf4-9c70-11ef-9857-0242ac1c000c\"] = google.colab.output.setActiveOutputArea(window[\"0ea653ae-9c70-11ef-9857-0242ac1c000c\"]);\n",
              "//# sourceURL=js_ce2198c9f0"
            ]
          },
          "metadata": {}
        },
        {
          "output_type": "stream",
          "name": "stdout",
          "text": [
            "w= 640 h= 480\n"
          ]
        },
        {
          "output_type": "stream",
          "name": "stderr",
          "text": [
            "<ipython-input-12-bc04b6b5b2d6>:20: RuntimeWarning: More than 20 figures have been opened. Figures created through the pyplot interface (`matplotlib.pyplot.figure`) are retained until explicitly closed and may consume too much memory. (To control this warning, see the rcParam `figure.max_open_warning`). Consider using `matplotlib.pyplot.close()`.\n",
            "  pylab.figure(figsize=(10, 5))\n"
          ]
        },
        {
          "output_type": "display_data",
          "data": {
            "text/plain": [
              "<IPython.core.display.Javascript object>"
            ],
            "application/javascript": [
              "window[\"0ee355b0-9c70-11ef-9857-0242ac1c000c\"] = google.colab.output.setActiveOutputArea(window[\"0ea6008e-9c70-11ef-9857-0242ac1c000c\"]);\n",
              "//# sourceURL=js_471df58b8d"
            ]
          },
          "metadata": {}
        },
        {
          "output_type": "display_data",
          "data": {
            "text/plain": [
              "<IPython.core.display.Javascript object>"
            ],
            "application/javascript": [
              "window[\"0eeb4fae-9c70-11ef-9857-0242ac1c000c\"] = google.colab.output.getActiveOutputArea();\n",
              "//# sourceURL=js_c29c2b80b5"
            ]
          },
          "metadata": {}
        },
        {
          "output_type": "display_data",
          "data": {
            "text/plain": [
              "<IPython.core.display.Javascript object>"
            ],
            "application/javascript": [
              "window[\"0eec26cc-9c70-11ef-9857-0242ac1c000c\"] = document.querySelector(\"#id14-0-1\");\n",
              "//# sourceURL=js_53a875a94d"
            ]
          },
          "metadata": {}
        },
        {
          "output_type": "display_data",
          "data": {
            "text/plain": [
              "<IPython.core.display.Javascript object>"
            ],
            "application/javascript": [
              "window[\"0eecbe8e-9c70-11ef-9857-0242ac1c000c\"] = google.colab.output.setActiveOutputArea(window[\"0eec26cc-9c70-11ef-9857-0242ac1c000c\"]);\n",
              "//# sourceURL=js_ccf9771d10"
            ]
          },
          "metadata": {}
        },
        {
          "output_type": "stream",
          "name": "stdout",
          "text": [
            "w= 640 h= 480\n"
          ]
        },
        {
          "output_type": "display_data",
          "data": {
            "text/plain": [
              "<IPython.core.display.Javascript object>"
            ],
            "application/javascript": [
              "window[\"0f0ed82a-9c70-11ef-9857-0242ac1c000c\"] = google.colab.output.setActiveOutputArea(window[\"0eeb4fae-9c70-11ef-9857-0242ac1c000c\"]);\n",
              "//# sourceURL=js_335262d59a"
            ]
          },
          "metadata": {}
        },
        {
          "output_type": "display_data",
          "data": {
            "text/plain": [
              "<IPython.core.display.Javascript object>"
            ],
            "application/javascript": [
              "window[\"0f14773a-9c70-11ef-9857-0242ac1c000c\"] = google.colab.output.getActiveOutputArea();\n",
              "//# sourceURL=js_9fc486e370"
            ]
          },
          "metadata": {}
        },
        {
          "output_type": "display_data",
          "data": {
            "text/plain": [
              "<IPython.core.display.Javascript object>"
            ],
            "application/javascript": [
              "window[\"0f14fdd6-9c70-11ef-9857-0242ac1c000c\"] = document.querySelector(\"#id14-1-0\");\n",
              "//# sourceURL=js_1f1f133310"
            ]
          },
          "metadata": {}
        },
        {
          "output_type": "display_data",
          "data": {
            "text/plain": [
              "<IPython.core.display.Javascript object>"
            ],
            "application/javascript": [
              "window[\"0f1581c0-9c70-11ef-9857-0242ac1c000c\"] = google.colab.output.setActiveOutputArea(window[\"0f14fdd6-9c70-11ef-9857-0242ac1c000c\"]);\n",
              "//# sourceURL=js_481695e989"
            ]
          },
          "metadata": {}
        },
        {
          "output_type": "stream",
          "name": "stdout",
          "text": [
            "w= 640 h= 480\n"
          ]
        },
        {
          "output_type": "display_data",
          "data": {
            "text/plain": [
              "<IPython.core.display.Javascript object>"
            ],
            "application/javascript": [
              "window[\"0f47ac86-9c70-11ef-9857-0242ac1c000c\"] = google.colab.output.setActiveOutputArea(window[\"0f14773a-9c70-11ef-9857-0242ac1c000c\"]);\n",
              "//# sourceURL=js_30b5a58dba"
            ]
          },
          "metadata": {}
        },
        {
          "output_type": "display_data",
          "data": {
            "text/plain": [
              "<IPython.core.display.Javascript object>"
            ],
            "application/javascript": [
              "window[\"0f4f6f52-9c70-11ef-9857-0242ac1c000c\"] = google.colab.output.getActiveOutputArea();\n",
              "//# sourceURL=js_babc353304"
            ]
          },
          "metadata": {}
        },
        {
          "output_type": "display_data",
          "data": {
            "text/plain": [
              "<IPython.core.display.Javascript object>"
            ],
            "application/javascript": [
              "window[\"0f5044b8-9c70-11ef-9857-0242ac1c000c\"] = document.querySelector(\"#id14-1-1\");\n",
              "//# sourceURL=js_4ab6a6ee22"
            ]
          },
          "metadata": {}
        },
        {
          "output_type": "display_data",
          "data": {
            "text/plain": [
              "<IPython.core.display.Javascript object>"
            ],
            "application/javascript": [
              "window[\"0f511ac8-9c70-11ef-9857-0242ac1c000c\"] = google.colab.output.setActiveOutputArea(window[\"0f5044b8-9c70-11ef-9857-0242ac1c000c\"]);\n",
              "//# sourceURL=js_0a5a5321b3"
            ]
          },
          "metadata": {}
        },
        {
          "output_type": "stream",
          "name": "stdout",
          "text": [
            "w= 640 h= 480\n"
          ]
        },
        {
          "output_type": "display_data",
          "data": {
            "text/plain": [
              "<IPython.core.display.Javascript object>"
            ],
            "application/javascript": [
              "window[\"0f7fc800-9c70-11ef-9857-0242ac1c000c\"] = google.colab.output.setActiveOutputArea(window[\"0f4f6f52-9c70-11ef-9857-0242ac1c000c\"]);\n",
              "//# sourceURL=js_d6cc222435"
            ]
          },
          "metadata": {}
        },
        {
          "output_type": "display_data",
          "data": {
            "text/plain": [
              "<IPython.core.display.HTML object>"
            ],
            "text/html": [
              "<style>\n",
              "       table#id16, #id16 > tbody > tr > th, #id16 > tbody > tr > td {\n",
              "         border: 1px solid lightgray;\n",
              "         border-collapse:collapse;\n",
              "         \n",
              "        }</style>"
            ]
          },
          "metadata": {}
        },
        {
          "output_type": "display_data",
          "data": {
            "text/plain": [
              "<IPython.core.display.HTML object>"
            ],
            "text/html": [
              "<table id=id16><tr><td id=id16-0-0></td><td id=id16-0-1></td></tr><tr><td id=id16-1-0></td><td id=id16-1-1></td></tr></table>"
            ]
          },
          "metadata": {}
        },
        {
          "output_type": "display_data",
          "data": {
            "text/plain": [
              "<IPython.core.display.Javascript object>"
            ],
            "application/javascript": [
              "window[\"0f9349fc-9c70-11ef-9857-0242ac1c000c\"] = google.colab.output.getActiveOutputArea();\n",
              "//# sourceURL=js_2a8869a425"
            ]
          },
          "metadata": {}
        },
        {
          "output_type": "display_data",
          "data": {
            "text/plain": [
              "<IPython.core.display.Javascript object>"
            ],
            "application/javascript": [
              "window[\"0f94737c-9c70-11ef-9857-0242ac1c000c\"] = document.querySelector(\"#id16-0-0\");\n",
              "//# sourceURL=js_4c90660ffd"
            ]
          },
          "metadata": {}
        },
        {
          "output_type": "display_data",
          "data": {
            "text/plain": [
              "<IPython.core.display.Javascript object>"
            ],
            "application/javascript": [
              "window[\"0f951e44-9c70-11ef-9857-0242ac1c000c\"] = google.colab.output.setActiveOutputArea(window[\"0f94737c-9c70-11ef-9857-0242ac1c000c\"]);\n",
              "//# sourceURL=js_52486ef71d"
            ]
          },
          "metadata": {}
        },
        {
          "output_type": "stream",
          "name": "stdout",
          "text": [
            "w= 640 h= 480\n"
          ]
        },
        {
          "output_type": "display_data",
          "data": {
            "text/plain": [
              "<IPython.core.display.Javascript object>"
            ],
            "application/javascript": [
              "window[\"0fbbd750-9c70-11ef-9857-0242ac1c000c\"] = google.colab.output.setActiveOutputArea(window[\"0f9349fc-9c70-11ef-9857-0242ac1c000c\"]);\n",
              "//# sourceURL=js_0f92f6c451"
            ]
          },
          "metadata": {}
        },
        {
          "output_type": "display_data",
          "data": {
            "text/plain": [
              "<IPython.core.display.Javascript object>"
            ],
            "application/javascript": [
              "window[\"0fbfe5f2-9c70-11ef-9857-0242ac1c000c\"] = google.colab.output.getActiveOutputArea();\n",
              "//# sourceURL=js_8536fcea02"
            ]
          },
          "metadata": {}
        },
        {
          "output_type": "display_data",
          "data": {
            "text/plain": [
              "<IPython.core.display.Javascript object>"
            ],
            "application/javascript": [
              "window[\"0fc071de-9c70-11ef-9857-0242ac1c000c\"] = document.querySelector(\"#id16-0-1\");\n",
              "//# sourceURL=js_b8244d26c6"
            ]
          },
          "metadata": {}
        },
        {
          "output_type": "display_data",
          "data": {
            "text/plain": [
              "<IPython.core.display.Javascript object>"
            ],
            "application/javascript": [
              "window[\"0fc0bd42-9c70-11ef-9857-0242ac1c000c\"] = google.colab.output.setActiveOutputArea(window[\"0fc071de-9c70-11ef-9857-0242ac1c000c\"]);\n",
              "//# sourceURL=js_ae11e76a01"
            ]
          },
          "metadata": {}
        },
        {
          "output_type": "stream",
          "name": "stdout",
          "text": [
            "w= 640 h= 480\n"
          ]
        },
        {
          "output_type": "display_data",
          "data": {
            "text/plain": [
              "<IPython.core.display.Javascript object>"
            ],
            "application/javascript": [
              "window[\"10035f8a-9c70-11ef-9857-0242ac1c000c\"] = google.colab.output.setActiveOutputArea(window[\"0fbfe5f2-9c70-11ef-9857-0242ac1c000c\"]);\n",
              "//# sourceURL=js_a35316fc98"
            ]
          },
          "metadata": {}
        },
        {
          "output_type": "display_data",
          "data": {
            "text/plain": [
              "<IPython.core.display.Javascript object>"
            ],
            "application/javascript": [
              "window[\"1007e51e-9c70-11ef-9857-0242ac1c000c\"] = google.colab.output.getActiveOutputArea();\n",
              "//# sourceURL=js_70d5fb5553"
            ]
          },
          "metadata": {}
        },
        {
          "output_type": "display_data",
          "data": {
            "text/plain": [
              "<IPython.core.display.Javascript object>"
            ],
            "application/javascript": [
              "window[\"10088f5a-9c70-11ef-9857-0242ac1c000c\"] = document.querySelector(\"#id16-1-0\");\n",
              "//# sourceURL=js_f3b23e94f4"
            ]
          },
          "metadata": {}
        },
        {
          "output_type": "display_data",
          "data": {
            "text/plain": [
              "<IPython.core.display.Javascript object>"
            ],
            "application/javascript": [
              "window[\"100965ec-9c70-11ef-9857-0242ac1c000c\"] = google.colab.output.setActiveOutputArea(window[\"10088f5a-9c70-11ef-9857-0242ac1c000c\"]);\n",
              "//# sourceURL=js_a3ee29806b"
            ]
          },
          "metadata": {}
        },
        {
          "output_type": "stream",
          "name": "stdout",
          "text": [
            "w= 640 h= 480\n"
          ]
        },
        {
          "output_type": "display_data",
          "data": {
            "text/plain": [
              "<IPython.core.display.Javascript object>"
            ],
            "application/javascript": [
              "window[\"104409d6-9c70-11ef-9857-0242ac1c000c\"] = google.colab.output.setActiveOutputArea(window[\"1007e51e-9c70-11ef-9857-0242ac1c000c\"]);\n",
              "//# sourceURL=js_d5c18840d5"
            ]
          },
          "metadata": {}
        },
        {
          "output_type": "display_data",
          "data": {
            "text/plain": [
              "<IPython.core.display.Javascript object>"
            ],
            "application/javascript": [
              "window[\"1047a1ae-9c70-11ef-9857-0242ac1c000c\"] = google.colab.output.getActiveOutputArea();\n",
              "//# sourceURL=js_81ffca1ff2"
            ]
          },
          "metadata": {}
        },
        {
          "output_type": "display_data",
          "data": {
            "text/plain": [
              "<IPython.core.display.Javascript object>"
            ],
            "application/javascript": [
              "window[\"10484a6e-9c70-11ef-9857-0242ac1c000c\"] = document.querySelector(\"#id16-1-1\");\n",
              "//# sourceURL=js_6922e7a37e"
            ]
          },
          "metadata": {}
        },
        {
          "output_type": "display_data",
          "data": {
            "text/plain": [
              "<IPython.core.display.Javascript object>"
            ],
            "application/javascript": [
              "window[\"104894c4-9c70-11ef-9857-0242ac1c000c\"] = google.colab.output.setActiveOutputArea(window[\"10484a6e-9c70-11ef-9857-0242ac1c000c\"]);\n",
              "//# sourceURL=js_0f71beb7ae"
            ]
          },
          "metadata": {}
        },
        {
          "output_type": "stream",
          "name": "stdout",
          "text": [
            "w= 640 h= 480\n"
          ]
        },
        {
          "output_type": "display_data",
          "data": {
            "text/plain": [
              "<IPython.core.display.Javascript object>"
            ],
            "application/javascript": [
              "window[\"10a5989a-9c70-11ef-9857-0242ac1c000c\"] = google.colab.output.setActiveOutputArea(window[\"1047a1ae-9c70-11ef-9857-0242ac1c000c\"]);\n",
              "//# sourceURL=js_26c298a554"
            ]
          },
          "metadata": {}
        },
        {
          "output_type": "display_data",
          "data": {
            "text/plain": [
              "<IPython.core.display.HTML object>"
            ],
            "text/html": [
              "<style>\n",
              "       table#id18, #id18 > tbody > tr > th, #id18 > tbody > tr > td {\n",
              "         border: 1px solid lightgray;\n",
              "         border-collapse:collapse;\n",
              "         \n",
              "        }</style>"
            ]
          },
          "metadata": {}
        },
        {
          "output_type": "display_data",
          "data": {
            "text/plain": [
              "<IPython.core.display.HTML object>"
            ],
            "text/html": [
              "<table id=id18><tr><td id=id18-0-0></td><td id=id18-0-1></td></tr><tr><td id=id18-1-0></td><td id=id18-1-1></td></tr></table>"
            ]
          },
          "metadata": {}
        },
        {
          "output_type": "display_data",
          "data": {
            "text/plain": [
              "<IPython.core.display.Javascript object>"
            ],
            "application/javascript": [
              "window[\"10ae255a-9c70-11ef-9857-0242ac1c000c\"] = google.colab.output.getActiveOutputArea();\n",
              "//# sourceURL=js_5914bce192"
            ]
          },
          "metadata": {}
        },
        {
          "output_type": "display_data",
          "data": {
            "text/plain": [
              "<IPython.core.display.Javascript object>"
            ],
            "application/javascript": [
              "window[\"10ae703c-9c70-11ef-9857-0242ac1c000c\"] = document.querySelector(\"#id18-0-0\");\n",
              "//# sourceURL=js_271d6caf25"
            ]
          },
          "metadata": {}
        },
        {
          "output_type": "display_data",
          "data": {
            "text/plain": [
              "<IPython.core.display.Javascript object>"
            ],
            "application/javascript": [
              "window[\"10aeba7e-9c70-11ef-9857-0242ac1c000c\"] = google.colab.output.setActiveOutputArea(window[\"10ae703c-9c70-11ef-9857-0242ac1c000c\"]);\n",
              "//# sourceURL=js_7606eb3d9a"
            ]
          },
          "metadata": {}
        },
        {
          "output_type": "stream",
          "name": "stdout",
          "text": [
            "w= 640 h= 480\n"
          ]
        },
        {
          "output_type": "display_data",
          "data": {
            "text/plain": [
              "<IPython.core.display.Javascript object>"
            ],
            "application/javascript": [
              "window[\"10fb4678-9c70-11ef-9857-0242ac1c000c\"] = google.colab.output.setActiveOutputArea(window[\"10ae255a-9c70-11ef-9857-0242ac1c000c\"]);\n",
              "//# sourceURL=js_d2e81256d2"
            ]
          },
          "metadata": {}
        },
        {
          "output_type": "display_data",
          "data": {
            "text/plain": [
              "<IPython.core.display.Javascript object>"
            ],
            "application/javascript": [
              "window[\"10ff554c-9c70-11ef-9857-0242ac1c000c\"] = google.colab.output.getActiveOutputArea();\n",
              "//# sourceURL=js_b1ba19fbdb"
            ]
          },
          "metadata": {}
        },
        {
          "output_type": "display_data",
          "data": {
            "text/plain": [
              "<IPython.core.display.Javascript object>"
            ],
            "application/javascript": [
              "window[\"110015f4-9c70-11ef-9857-0242ac1c000c\"] = document.querySelector(\"#id18-0-1\");\n",
              "//# sourceURL=js_b16f8086a1"
            ]
          },
          "metadata": {}
        },
        {
          "output_type": "display_data",
          "data": {
            "text/plain": [
              "<IPython.core.display.Javascript object>"
            ],
            "application/javascript": [
              "window[\"11005c6c-9c70-11ef-9857-0242ac1c000c\"] = google.colab.output.setActiveOutputArea(window[\"110015f4-9c70-11ef-9857-0242ac1c000c\"]);\n",
              "//# sourceURL=js_2eefa3823d"
            ]
          },
          "metadata": {}
        },
        {
          "output_type": "stream",
          "name": "stdout",
          "text": [
            "w= 640 h= 480\n"
          ]
        },
        {
          "output_type": "display_data",
          "data": {
            "text/plain": [
              "<IPython.core.display.Javascript object>"
            ],
            "application/javascript": [
              "window[\"11414d8a-9c70-11ef-9857-0242ac1c000c\"] = google.colab.output.setActiveOutputArea(window[\"10ff554c-9c70-11ef-9857-0242ac1c000c\"]);\n",
              "//# sourceURL=js_50d1533518"
            ]
          },
          "metadata": {}
        },
        {
          "output_type": "display_data",
          "data": {
            "text/plain": [
              "<IPython.core.display.Javascript object>"
            ],
            "application/javascript": [
              "window[\"1145b9ba-9c70-11ef-9857-0242ac1c000c\"] = google.colab.output.getActiveOutputArea();\n",
              "//# sourceURL=js_2548ab10a8"
            ]
          },
          "metadata": {}
        },
        {
          "output_type": "display_data",
          "data": {
            "text/plain": [
              "<IPython.core.display.Javascript object>"
            ],
            "application/javascript": [
              "window[\"114692f4-9c70-11ef-9857-0242ac1c000c\"] = document.querySelector(\"#id18-1-0\");\n",
              "//# sourceURL=js_0678e067c0"
            ]
          },
          "metadata": {}
        },
        {
          "output_type": "display_data",
          "data": {
            "text/plain": [
              "<IPython.core.display.Javascript object>"
            ],
            "application/javascript": [
              "window[\"1146f71c-9c70-11ef-9857-0242ac1c000c\"] = google.colab.output.setActiveOutputArea(window[\"114692f4-9c70-11ef-9857-0242ac1c000c\"]);\n",
              "//# sourceURL=js_16015b40db"
            ]
          },
          "metadata": {}
        },
        {
          "output_type": "stream",
          "name": "stdout",
          "text": [
            "w= 640 h= 480\n"
          ]
        },
        {
          "output_type": "display_data",
          "data": {
            "text/plain": [
              "<IPython.core.display.Javascript object>"
            ],
            "application/javascript": [
              "window[\"119135fc-9c70-11ef-9857-0242ac1c000c\"] = google.colab.output.setActiveOutputArea(window[\"1145b9ba-9c70-11ef-9857-0242ac1c000c\"]);\n",
              "//# sourceURL=js_bbc8fa6d9a"
            ]
          },
          "metadata": {}
        },
        {
          "output_type": "display_data",
          "data": {
            "text/plain": [
              "<IPython.core.display.Javascript object>"
            ],
            "application/javascript": [
              "window[\"11966a86-9c70-11ef-9857-0242ac1c000c\"] = google.colab.output.getActiveOutputArea();\n",
              "//# sourceURL=js_38a9ff09da"
            ]
          },
          "metadata": {}
        },
        {
          "output_type": "display_data",
          "data": {
            "text/plain": [
              "<IPython.core.display.Javascript object>"
            ],
            "application/javascript": [
              "window[\"11976e90-9c70-11ef-9857-0242ac1c000c\"] = document.querySelector(\"#id18-1-1\");\n",
              "//# sourceURL=js_280761df25"
            ]
          },
          "metadata": {}
        },
        {
          "output_type": "display_data",
          "data": {
            "text/plain": [
              "<IPython.core.display.Javascript object>"
            ],
            "application/javascript": [
              "window[\"1197f8ec-9c70-11ef-9857-0242ac1c000c\"] = google.colab.output.setActiveOutputArea(window[\"11976e90-9c70-11ef-9857-0242ac1c000c\"]);\n",
              "//# sourceURL=js_30f8ad4e4b"
            ]
          },
          "metadata": {}
        },
        {
          "output_type": "stream",
          "name": "stdout",
          "text": [
            "w= 640 h= 480\n"
          ]
        },
        {
          "output_type": "display_data",
          "data": {
            "text/plain": [
              "<IPython.core.display.Javascript object>"
            ],
            "application/javascript": [
              "window[\"11bc575a-9c70-11ef-9857-0242ac1c000c\"] = google.colab.output.setActiveOutputArea(window[\"11966a86-9c70-11ef-9857-0242ac1c000c\"]);\n",
              "//# sourceURL=js_1fcae4cd0c"
            ]
          },
          "metadata": {}
        },
        {
          "output_type": "display_data",
          "data": {
            "text/plain": [
              "<IPython.core.display.HTML object>"
            ],
            "text/html": [
              "<style>\n",
              "       table#id20, #id20 > tbody > tr > th, #id20 > tbody > tr > td {\n",
              "         border: 1px solid lightgray;\n",
              "         border-collapse:collapse;\n",
              "         \n",
              "        }</style>"
            ]
          },
          "metadata": {}
        },
        {
          "output_type": "display_data",
          "data": {
            "text/plain": [
              "<IPython.core.display.HTML object>"
            ],
            "text/html": [
              "<table id=id20><tr><td id=id20-0-0></td><td id=id20-0-1></td></tr><tr><td id=id20-1-0></td><td id=id20-1-1></td></tr></table>"
            ]
          },
          "metadata": {}
        },
        {
          "output_type": "display_data",
          "data": {
            "text/plain": [
              "<IPython.core.display.Javascript object>"
            ],
            "application/javascript": [
              "window[\"11c03a6e-9c70-11ef-9857-0242ac1c000c\"] = google.colab.output.getActiveOutputArea();\n",
              "//# sourceURL=js_6e8732b37c"
            ]
          },
          "metadata": {}
        },
        {
          "output_type": "display_data",
          "data": {
            "text/plain": [
              "<IPython.core.display.Javascript object>"
            ],
            "application/javascript": [
              "window[\"11c0b444-9c70-11ef-9857-0242ac1c000c\"] = document.querySelector(\"#id20-0-0\");\n",
              "//# sourceURL=js_4fff91f08f"
            ]
          },
          "metadata": {}
        },
        {
          "output_type": "display_data",
          "data": {
            "text/plain": [
              "<IPython.core.display.Javascript object>"
            ],
            "application/javascript": [
              "window[\"11c0fa30-9c70-11ef-9857-0242ac1c000c\"] = google.colab.output.setActiveOutputArea(window[\"11c0b444-9c70-11ef-9857-0242ac1c000c\"]);\n",
              "//# sourceURL=js_36a95ef7cc"
            ]
          },
          "metadata": {}
        },
        {
          "output_type": "stream",
          "name": "stdout",
          "text": [
            "w= 640 h= 480\n"
          ]
        },
        {
          "output_type": "display_data",
          "data": {
            "text/plain": [
              "<IPython.core.display.Javascript object>"
            ],
            "application/javascript": [
              "window[\"11dcf0b4-9c70-11ef-9857-0242ac1c000c\"] = google.colab.output.setActiveOutputArea(window[\"11c03a6e-9c70-11ef-9857-0242ac1c000c\"]);\n",
              "//# sourceURL=js_5bdc9ac1d2"
            ]
          },
          "metadata": {}
        },
        {
          "output_type": "display_data",
          "data": {
            "text/plain": [
              "<IPython.core.display.Javascript object>"
            ],
            "application/javascript": [
              "window[\"11df8b3a-9c70-11ef-9857-0242ac1c000c\"] = google.colab.output.getActiveOutputArea();\n",
              "//# sourceURL=js_0084232112"
            ]
          },
          "metadata": {}
        },
        {
          "output_type": "display_data",
          "data": {
            "text/plain": [
              "<IPython.core.display.Javascript object>"
            ],
            "application/javascript": [
              "window[\"11dfcfdc-9c70-11ef-9857-0242ac1c000c\"] = document.querySelector(\"#id20-0-1\");\n",
              "//# sourceURL=js_9f1c5fb8ad"
            ]
          },
          "metadata": {}
        },
        {
          "output_type": "display_data",
          "data": {
            "text/plain": [
              "<IPython.core.display.Javascript object>"
            ],
            "application/javascript": [
              "window[\"11e06c3a-9c70-11ef-9857-0242ac1c000c\"] = google.colab.output.setActiveOutputArea(window[\"11dfcfdc-9c70-11ef-9857-0242ac1c000c\"]);\n",
              "//# sourceURL=js_aac2d31290"
            ]
          },
          "metadata": {}
        },
        {
          "output_type": "stream",
          "name": "stdout",
          "text": [
            "w= 640 h= 480\n"
          ]
        },
        {
          "output_type": "display_data",
          "data": {
            "text/plain": [
              "<IPython.core.display.Javascript object>"
            ],
            "application/javascript": [
              "window[\"11fb9172-9c70-11ef-9857-0242ac1c000c\"] = google.colab.output.setActiveOutputArea(window[\"11df8b3a-9c70-11ef-9857-0242ac1c000c\"]);\n",
              "//# sourceURL=js_878ea5aba0"
            ]
          },
          "metadata": {}
        },
        {
          "output_type": "display_data",
          "data": {
            "text/plain": [
              "<IPython.core.display.Javascript object>"
            ],
            "application/javascript": [
              "window[\"11fffe74-9c70-11ef-9857-0242ac1c000c\"] = google.colab.output.getActiveOutputArea();\n",
              "//# sourceURL=js_ea9d3e6ecf"
            ]
          },
          "metadata": {}
        },
        {
          "output_type": "display_data",
          "data": {
            "text/plain": [
              "<IPython.core.display.Javascript object>"
            ],
            "application/javascript": [
              "window[\"120061e8-9c70-11ef-9857-0242ac1c000c\"] = document.querySelector(\"#id20-1-0\");\n",
              "//# sourceURL=js_ce5dffdb21"
            ]
          },
          "metadata": {}
        },
        {
          "output_type": "display_data",
          "data": {
            "text/plain": [
              "<IPython.core.display.Javascript object>"
            ],
            "application/javascript": [
              "window[\"1200cb4c-9c70-11ef-9857-0242ac1c000c\"] = google.colab.output.setActiveOutputArea(window[\"120061e8-9c70-11ef-9857-0242ac1c000c\"]);\n",
              "//# sourceURL=js_55ededd590"
            ]
          },
          "metadata": {}
        },
        {
          "output_type": "stream",
          "name": "stdout",
          "text": [
            "w= 640 h= 480\n"
          ]
        },
        {
          "output_type": "display_data",
          "data": {
            "text/plain": [
              "<IPython.core.display.Javascript object>"
            ],
            "application/javascript": [
              "window[\"1214e83e-9c70-11ef-9857-0242ac1c000c\"] = google.colab.output.setActiveOutputArea(window[\"11fffe74-9c70-11ef-9857-0242ac1c000c\"]);\n",
              "//# sourceURL=js_5ad8d2c831"
            ]
          },
          "metadata": {}
        },
        {
          "output_type": "display_data",
          "data": {
            "text/plain": [
              "<IPython.core.display.Javascript object>"
            ],
            "application/javascript": [
              "window[\"121702cc-9c70-11ef-9857-0242ac1c000c\"] = google.colab.output.getActiveOutputArea();\n",
              "//# sourceURL=js_317977b0f1"
            ]
          },
          "metadata": {}
        },
        {
          "output_type": "display_data",
          "data": {
            "text/plain": [
              "<IPython.core.display.Javascript object>"
            ],
            "application/javascript": [
              "window[\"1217515a-9c70-11ef-9857-0242ac1c000c\"] = document.querySelector(\"#id20-1-1\");\n",
              "//# sourceURL=js_3d95c864b2"
            ]
          },
          "metadata": {}
        },
        {
          "output_type": "display_data",
          "data": {
            "text/plain": [
              "<IPython.core.display.Javascript object>"
            ],
            "application/javascript": [
              "window[\"1217a362-9c70-11ef-9857-0242ac1c000c\"] = google.colab.output.setActiveOutputArea(window[\"1217515a-9c70-11ef-9857-0242ac1c000c\"]);\n",
              "//# sourceURL=js_cc755145be"
            ]
          },
          "metadata": {}
        },
        {
          "output_type": "stream",
          "name": "stdout",
          "text": [
            "w= 640 h= 480\n"
          ]
        },
        {
          "output_type": "display_data",
          "data": {
            "text/plain": [
              "<IPython.core.display.Javascript object>"
            ],
            "application/javascript": [
              "window[\"122ce0f6-9c70-11ef-9857-0242ac1c000c\"] = google.colab.output.setActiveOutputArea(window[\"121702cc-9c70-11ef-9857-0242ac1c000c\"]);\n",
              "//# sourceURL=js_cb9f7bcd04"
            ]
          },
          "metadata": {}
        },
        {
          "output_type": "display_data",
          "data": {
            "text/plain": [
              "<IPython.core.display.HTML object>"
            ],
            "text/html": [
              "<style>\n",
              "       table#id22, #id22 > tbody > tr > th, #id22 > tbody > tr > td {\n",
              "         border: 1px solid lightgray;\n",
              "         border-collapse:collapse;\n",
              "         \n",
              "        }</style>"
            ]
          },
          "metadata": {}
        },
        {
          "output_type": "display_data",
          "data": {
            "text/plain": [
              "<IPython.core.display.HTML object>"
            ],
            "text/html": [
              "<table id=id22><tr><td id=id22-0-0></td><td id=id22-0-1></td></tr><tr><td id=id22-1-0></td><td id=id22-1-1></td></tr></table>"
            ]
          },
          "metadata": {}
        },
        {
          "output_type": "display_data",
          "data": {
            "text/plain": [
              "<IPython.core.display.Javascript object>"
            ],
            "application/javascript": [
              "window[\"122fc082-9c70-11ef-9857-0242ac1c000c\"] = google.colab.output.getActiveOutputArea();\n",
              "//# sourceURL=js_bb53bd72c9"
            ]
          },
          "metadata": {}
        },
        {
          "output_type": "display_data",
          "data": {
            "text/plain": [
              "<IPython.core.display.Javascript object>"
            ],
            "application/javascript": [
              "window[\"122ffe44-9c70-11ef-9857-0242ac1c000c\"] = document.querySelector(\"#id22-0-0\");\n",
              "//# sourceURL=js_a006ac073c"
            ]
          },
          "metadata": {}
        },
        {
          "output_type": "display_data",
          "data": {
            "text/plain": [
              "<IPython.core.display.Javascript object>"
            ],
            "application/javascript": [
              "window[\"12303bfc-9c70-11ef-9857-0242ac1c000c\"] = google.colab.output.setActiveOutputArea(window[\"122ffe44-9c70-11ef-9857-0242ac1c000c\"]);\n",
              "//# sourceURL=js_82dd0a576f"
            ]
          },
          "metadata": {}
        },
        {
          "output_type": "stream",
          "name": "stdout",
          "text": [
            "w= 640 h= 480\n"
          ]
        },
        {
          "output_type": "display_data",
          "data": {
            "text/plain": [
              "<IPython.core.display.Javascript object>"
            ],
            "application/javascript": [
              "window[\"1249117c-9c70-11ef-9857-0242ac1c000c\"] = google.colab.output.setActiveOutputArea(window[\"122fc082-9c70-11ef-9857-0242ac1c000c\"]);\n",
              "//# sourceURL=js_207c358dc2"
            ]
          },
          "metadata": {}
        },
        {
          "output_type": "display_data",
          "data": {
            "text/plain": [
              "<IPython.core.display.Javascript object>"
            ],
            "application/javascript": [
              "window[\"124af0a0-9c70-11ef-9857-0242ac1c000c\"] = google.colab.output.getActiveOutputArea();\n",
              "//# sourceURL=js_ba17beb0b8"
            ]
          },
          "metadata": {}
        },
        {
          "output_type": "display_data",
          "data": {
            "text/plain": [
              "<IPython.core.display.Javascript object>"
            ],
            "application/javascript": [
              "window[\"124b3d58-9c70-11ef-9857-0242ac1c000c\"] = document.querySelector(\"#id22-0-1\");\n",
              "//# sourceURL=js_b3efb12905"
            ]
          },
          "metadata": {}
        },
        {
          "output_type": "display_data",
          "data": {
            "text/plain": [
              "<IPython.core.display.Javascript object>"
            ],
            "application/javascript": [
              "window[\"124b8204-9c70-11ef-9857-0242ac1c000c\"] = google.colab.output.setActiveOutputArea(window[\"124b3d58-9c70-11ef-9857-0242ac1c000c\"]);\n",
              "//# sourceURL=js_bb01a4c1f9"
            ]
          },
          "metadata": {}
        },
        {
          "output_type": "stream",
          "name": "stdout",
          "text": [
            "w= 640 h= 480\n"
          ]
        },
        {
          "output_type": "display_data",
          "data": {
            "text/plain": [
              "<IPython.core.display.Javascript object>"
            ],
            "application/javascript": [
              "window[\"126701aa-9c70-11ef-9857-0242ac1c000c\"] = google.colab.output.setActiveOutputArea(window[\"124af0a0-9c70-11ef-9857-0242ac1c000c\"]);\n",
              "//# sourceURL=js_d953fc64ce"
            ]
          },
          "metadata": {}
        },
        {
          "output_type": "display_data",
          "data": {
            "text/plain": [
              "<IPython.core.display.Javascript object>"
            ],
            "application/javascript": [
              "window[\"126a62fa-9c70-11ef-9857-0242ac1c000c\"] = google.colab.output.getActiveOutputArea();\n",
              "//# sourceURL=js_fc8a980625"
            ]
          },
          "metadata": {}
        },
        {
          "output_type": "display_data",
          "data": {
            "text/plain": [
              "<IPython.core.display.Javascript object>"
            ],
            "application/javascript": [
              "window[\"126af436-9c70-11ef-9857-0242ac1c000c\"] = document.querySelector(\"#id22-1-0\");\n",
              "//# sourceURL=js_4ea909303d"
            ]
          },
          "metadata": {}
        },
        {
          "output_type": "display_data",
          "data": {
            "text/plain": [
              "<IPython.core.display.Javascript object>"
            ],
            "application/javascript": [
              "window[\"126b6092-9c70-11ef-9857-0242ac1c000c\"] = google.colab.output.setActiveOutputArea(window[\"126af436-9c70-11ef-9857-0242ac1c000c\"]);\n",
              "//# sourceURL=js_2cbd5b23c9"
            ]
          },
          "metadata": {}
        },
        {
          "output_type": "stream",
          "name": "stdout",
          "text": [
            "w= 640 h= 480\n"
          ]
        },
        {
          "output_type": "display_data",
          "data": {
            "text/plain": [
              "<IPython.core.display.Javascript object>"
            ],
            "application/javascript": [
              "window[\"12841862-9c70-11ef-9857-0242ac1c000c\"] = google.colab.output.setActiveOutputArea(window[\"126a62fa-9c70-11ef-9857-0242ac1c000c\"]);\n",
              "//# sourceURL=js_97fbafad38"
            ]
          },
          "metadata": {}
        },
        {
          "output_type": "display_data",
          "data": {
            "text/plain": [
              "<IPython.core.display.Javascript object>"
            ],
            "application/javascript": [
              "window[\"1286db7e-9c70-11ef-9857-0242ac1c000c\"] = google.colab.output.getActiveOutputArea();\n",
              "//# sourceURL=js_e2ca8c248e"
            ]
          },
          "metadata": {}
        },
        {
          "output_type": "display_data",
          "data": {
            "text/plain": [
              "<IPython.core.display.Javascript object>"
            ],
            "application/javascript": [
              "window[\"12872a20-9c70-11ef-9857-0242ac1c000c\"] = document.querySelector(\"#id22-1-1\");\n",
              "//# sourceURL=js_abca0b98f6"
            ]
          },
          "metadata": {}
        },
        {
          "output_type": "display_data",
          "data": {
            "text/plain": [
              "<IPython.core.display.Javascript object>"
            ],
            "application/javascript": [
              "window[\"128780c4-9c70-11ef-9857-0242ac1c000c\"] = google.colab.output.setActiveOutputArea(window[\"12872a20-9c70-11ef-9857-0242ac1c000c\"]);\n",
              "//# sourceURL=js_5c2ed9c568"
            ]
          },
          "metadata": {}
        },
        {
          "output_type": "stream",
          "name": "stdout",
          "text": [
            "w= 640 h= 480\n"
          ]
        },
        {
          "output_type": "display_data",
          "data": {
            "text/plain": [
              "<IPython.core.display.Javascript object>"
            ],
            "application/javascript": [
              "window[\"129e1082-9c70-11ef-9857-0242ac1c000c\"] = google.colab.output.setActiveOutputArea(window[\"1286db7e-9c70-11ef-9857-0242ac1c000c\"]);\n",
              "//# sourceURL=js_0ca5fb15c1"
            ]
          },
          "metadata": {}
        },
        {
          "output_type": "display_data",
          "data": {
            "text/plain": [
              "<IPython.core.display.HTML object>"
            ],
            "text/html": [
              "<style>\n",
              "       table#id24, #id24 > tbody > tr > th, #id24 > tbody > tr > td {\n",
              "         border: 1px solid lightgray;\n",
              "         border-collapse:collapse;\n",
              "         \n",
              "        }</style>"
            ]
          },
          "metadata": {}
        },
        {
          "output_type": "display_data",
          "data": {
            "text/plain": [
              "<IPython.core.display.HTML object>"
            ],
            "text/html": [
              "<table id=id24><tr><td id=id24-0-0></td><td id=id24-0-1></td></tr><tr><td id=id24-1-0></td><td id=id24-1-1></td></tr></table>"
            ]
          },
          "metadata": {}
        },
        {
          "output_type": "display_data",
          "data": {
            "text/plain": [
              "<IPython.core.display.Javascript object>"
            ],
            "application/javascript": [
              "window[\"12a1c2e0-9c70-11ef-9857-0242ac1c000c\"] = google.colab.output.getActiveOutputArea();\n",
              "//# sourceURL=js_80baeeb74f"
            ]
          },
          "metadata": {}
        },
        {
          "output_type": "display_data",
          "data": {
            "text/plain": [
              "<IPython.core.display.Javascript object>"
            ],
            "application/javascript": [
              "window[\"12a20dfe-9c70-11ef-9857-0242ac1c000c\"] = document.querySelector(\"#id24-0-0\");\n",
              "//# sourceURL=js_d519d00378"
            ]
          },
          "metadata": {}
        },
        {
          "output_type": "display_data",
          "data": {
            "text/plain": [
              "<IPython.core.display.Javascript object>"
            ],
            "application/javascript": [
              "window[\"12a2520a-9c70-11ef-9857-0242ac1c000c\"] = google.colab.output.setActiveOutputArea(window[\"12a20dfe-9c70-11ef-9857-0242ac1c000c\"]);\n",
              "//# sourceURL=js_6c37f7f9ed"
            ]
          },
          "metadata": {}
        },
        {
          "output_type": "stream",
          "name": "stdout",
          "text": [
            "w= 640 h= 480\n"
          ]
        },
        {
          "output_type": "display_data",
          "data": {
            "text/plain": [
              "<IPython.core.display.Javascript object>"
            ],
            "application/javascript": [
              "window[\"12b7e5f2-9c70-11ef-9857-0242ac1c000c\"] = google.colab.output.setActiveOutputArea(window[\"12a1c2e0-9c70-11ef-9857-0242ac1c000c\"]);\n",
              "//# sourceURL=js_7089eabc79"
            ]
          },
          "metadata": {}
        },
        {
          "output_type": "display_data",
          "data": {
            "text/plain": [
              "<IPython.core.display.Javascript object>"
            ],
            "application/javascript": [
              "window[\"12ba425c-9c70-11ef-9857-0242ac1c000c\"] = google.colab.output.getActiveOutputArea();\n",
              "//# sourceURL=js_12ce4beccb"
            ]
          },
          "metadata": {}
        },
        {
          "output_type": "display_data",
          "data": {
            "text/plain": [
              "<IPython.core.display.Javascript object>"
            ],
            "application/javascript": [
              "window[\"12ba84f6-9c70-11ef-9857-0242ac1c000c\"] = document.querySelector(\"#id24-0-1\");\n",
              "//# sourceURL=js_214b80bc34"
            ]
          },
          "metadata": {}
        },
        {
          "output_type": "display_data",
          "data": {
            "text/plain": [
              "<IPython.core.display.Javascript object>"
            ],
            "application/javascript": [
              "window[\"12bac88a-9c70-11ef-9857-0242ac1c000c\"] = google.colab.output.setActiveOutputArea(window[\"12ba84f6-9c70-11ef-9857-0242ac1c000c\"]);\n",
              "//# sourceURL=js_039387d872"
            ]
          },
          "metadata": {}
        },
        {
          "output_type": "stream",
          "name": "stdout",
          "text": [
            "w= 640 h= 480\n"
          ]
        },
        {
          "output_type": "display_data",
          "data": {
            "text/plain": [
              "<IPython.core.display.Javascript object>"
            ],
            "application/javascript": [
              "window[\"12d03918-9c70-11ef-9857-0242ac1c000c\"] = google.colab.output.setActiveOutputArea(window[\"12ba425c-9c70-11ef-9857-0242ac1c000c\"]);\n",
              "//# sourceURL=js_3fc068e031"
            ]
          },
          "metadata": {}
        },
        {
          "output_type": "display_data",
          "data": {
            "text/plain": [
              "<IPython.core.display.Javascript object>"
            ],
            "application/javascript": [
              "window[\"12d2a928-9c70-11ef-9857-0242ac1c000c\"] = google.colab.output.getActiveOutputArea();\n",
              "//# sourceURL=js_717b50174c"
            ]
          },
          "metadata": {}
        },
        {
          "output_type": "display_data",
          "data": {
            "text/plain": [
              "<IPython.core.display.Javascript object>"
            ],
            "application/javascript": [
              "window[\"12d2fb12-9c70-11ef-9857-0242ac1c000c\"] = document.querySelector(\"#id24-1-0\");\n",
              "//# sourceURL=js_60de226d6d"
            ]
          },
          "metadata": {}
        },
        {
          "output_type": "display_data",
          "data": {
            "text/plain": [
              "<IPython.core.display.Javascript object>"
            ],
            "application/javascript": [
              "window[\"12d3428e-9c70-11ef-9857-0242ac1c000c\"] = google.colab.output.setActiveOutputArea(window[\"12d2fb12-9c70-11ef-9857-0242ac1c000c\"]);\n",
              "//# sourceURL=js_5b5d5fef74"
            ]
          },
          "metadata": {}
        },
        {
          "output_type": "stream",
          "name": "stdout",
          "text": [
            "w= 640 h= 480\n"
          ]
        },
        {
          "output_type": "display_data",
          "data": {
            "text/plain": [
              "<IPython.core.display.Javascript object>"
            ],
            "application/javascript": [
              "window[\"12ee4660-9c70-11ef-9857-0242ac1c000c\"] = google.colab.output.setActiveOutputArea(window[\"12d2a928-9c70-11ef-9857-0242ac1c000c\"]);\n",
              "//# sourceURL=js_8acf07a6b6"
            ]
          },
          "metadata": {}
        },
        {
          "output_type": "display_data",
          "data": {
            "text/plain": [
              "<IPython.core.display.Javascript object>"
            ],
            "application/javascript": [
              "window[\"12f0a8f6-9c70-11ef-9857-0242ac1c000c\"] = google.colab.output.getActiveOutputArea();\n",
              "//# sourceURL=js_72f8ce1bd4"
            ]
          },
          "metadata": {}
        },
        {
          "output_type": "display_data",
          "data": {
            "text/plain": [
              "<IPython.core.display.Javascript object>"
            ],
            "application/javascript": [
              "window[\"12f0f432-9c70-11ef-9857-0242ac1c000c\"] = document.querySelector(\"#id24-1-1\");\n",
              "//# sourceURL=js_a0e68ff89e"
            ]
          },
          "metadata": {}
        },
        {
          "output_type": "display_data",
          "data": {
            "text/plain": [
              "<IPython.core.display.Javascript object>"
            ],
            "application/javascript": [
              "window[\"12f14e78-9c70-11ef-9857-0242ac1c000c\"] = google.colab.output.setActiveOutputArea(window[\"12f0f432-9c70-11ef-9857-0242ac1c000c\"]);\n",
              "//# sourceURL=js_c759b53039"
            ]
          },
          "metadata": {}
        },
        {
          "output_type": "stream",
          "name": "stdout",
          "text": [
            "w= 640 h= 480\n"
          ]
        },
        {
          "output_type": "display_data",
          "data": {
            "text/plain": [
              "<IPython.core.display.Javascript object>"
            ],
            "application/javascript": [
              "window[\"131722ec-9c70-11ef-9857-0242ac1c000c\"] = google.colab.output.setActiveOutputArea(window[\"12f0a8f6-9c70-11ef-9857-0242ac1c000c\"]);\n",
              "//# sourceURL=js_4b55a0e2cd"
            ]
          },
          "metadata": {}
        },
        {
          "output_type": "display_data",
          "data": {
            "text/plain": [
              "<IPython.core.display.HTML object>"
            ],
            "text/html": [
              "<style>\n",
              "       table#id26, #id26 > tbody > tr > th, #id26 > tbody > tr > td {\n",
              "         border: 1px solid lightgray;\n",
              "         border-collapse:collapse;\n",
              "         \n",
              "        }</style>"
            ]
          },
          "metadata": {}
        },
        {
          "output_type": "display_data",
          "data": {
            "text/plain": [
              "<IPython.core.display.HTML object>"
            ],
            "text/html": [
              "<table id=id26><tr><td id=id26-0-0></td><td id=id26-0-1></td></tr><tr><td id=id26-1-0></td><td id=id26-1-1></td></tr></table>"
            ]
          },
          "metadata": {}
        },
        {
          "output_type": "display_data",
          "data": {
            "text/plain": [
              "<IPython.core.display.Javascript object>"
            ],
            "application/javascript": [
              "window[\"131b2aa4-9c70-11ef-9857-0242ac1c000c\"] = google.colab.output.getActiveOutputArea();\n",
              "//# sourceURL=js_052c882726"
            ]
          },
          "metadata": {}
        },
        {
          "output_type": "display_data",
          "data": {
            "text/plain": [
              "<IPython.core.display.Javascript object>"
            ],
            "application/javascript": [
              "window[\"131b6eba-9c70-11ef-9857-0242ac1c000c\"] = document.querySelector(\"#id26-0-0\");\n",
              "//# sourceURL=js_c6b698a725"
            ]
          },
          "metadata": {}
        },
        {
          "output_type": "display_data",
          "data": {
            "text/plain": [
              "<IPython.core.display.Javascript object>"
            ],
            "application/javascript": [
              "window[\"131bc6b2-9c70-11ef-9857-0242ac1c000c\"] = google.colab.output.setActiveOutputArea(window[\"131b6eba-9c70-11ef-9857-0242ac1c000c\"]);\n",
              "//# sourceURL=js_ccbfe908e0"
            ]
          },
          "metadata": {}
        },
        {
          "output_type": "stream",
          "name": "stdout",
          "text": [
            "w= 640 h= 480\n"
          ]
        },
        {
          "output_type": "display_data",
          "data": {
            "text/plain": [
              "<IPython.core.display.Javascript object>"
            ],
            "application/javascript": [
              "window[\"1330f924-9c70-11ef-9857-0242ac1c000c\"] = google.colab.output.setActiveOutputArea(window[\"131b2aa4-9c70-11ef-9857-0242ac1c000c\"]);\n",
              "//# sourceURL=js_d49ea4ab0e"
            ]
          },
          "metadata": {}
        },
        {
          "output_type": "display_data",
          "data": {
            "text/plain": [
              "<IPython.core.display.Javascript object>"
            ],
            "application/javascript": [
              "window[\"1332c36c-9c70-11ef-9857-0242ac1c000c\"] = google.colab.output.getActiveOutputArea();\n",
              "//# sourceURL=js_2b68304b69"
            ]
          },
          "metadata": {}
        },
        {
          "output_type": "display_data",
          "data": {
            "text/plain": [
              "<IPython.core.display.Javascript object>"
            ],
            "application/javascript": [
              "window[\"133303fe-9c70-11ef-9857-0242ac1c000c\"] = document.querySelector(\"#id26-0-1\");\n",
              "//# sourceURL=js_51de693585"
            ]
          },
          "metadata": {}
        },
        {
          "output_type": "display_data",
          "data": {
            "text/plain": [
              "<IPython.core.display.Javascript object>"
            ],
            "application/javascript": [
              "window[\"13334558-9c70-11ef-9857-0242ac1c000c\"] = google.colab.output.setActiveOutputArea(window[\"133303fe-9c70-11ef-9857-0242ac1c000c\"]);\n",
              "//# sourceURL=js_44449dd284"
            ]
          },
          "metadata": {}
        },
        {
          "output_type": "stream",
          "name": "stdout",
          "text": [
            "w= 640 h= 480\n"
          ]
        },
        {
          "output_type": "display_data",
          "data": {
            "text/plain": [
              "<IPython.core.display.Javascript object>"
            ],
            "application/javascript": [
              "window[\"13498a70-9c70-11ef-9857-0242ac1c000c\"] = google.colab.output.setActiveOutputArea(window[\"1332c36c-9c70-11ef-9857-0242ac1c000c\"]);\n",
              "//# sourceURL=js_454b68ba51"
            ]
          },
          "metadata": {}
        },
        {
          "output_type": "display_data",
          "data": {
            "text/plain": [
              "<IPython.core.display.Javascript object>"
            ],
            "application/javascript": [
              "window[\"134bc20e-9c70-11ef-9857-0242ac1c000c\"] = google.colab.output.getActiveOutputArea();\n",
              "//# sourceURL=js_eec78f079e"
            ]
          },
          "metadata": {}
        },
        {
          "output_type": "display_data",
          "data": {
            "text/plain": [
              "<IPython.core.display.Javascript object>"
            ],
            "application/javascript": [
              "window[\"134c08f4-9c70-11ef-9857-0242ac1c000c\"] = document.querySelector(\"#id26-1-0\");\n",
              "//# sourceURL=js_d18a51ec58"
            ]
          },
          "metadata": {}
        },
        {
          "output_type": "display_data",
          "data": {
            "text/plain": [
              "<IPython.core.display.Javascript object>"
            ],
            "application/javascript": [
              "window[\"134c5246-9c70-11ef-9857-0242ac1c000c\"] = google.colab.output.setActiveOutputArea(window[\"134c08f4-9c70-11ef-9857-0242ac1c000c\"]);\n",
              "//# sourceURL=js_9099d47ecf"
            ]
          },
          "metadata": {}
        },
        {
          "output_type": "stream",
          "name": "stdout",
          "text": [
            "w= 640 h= 480\n"
          ]
        },
        {
          "output_type": "display_data",
          "data": {
            "text/plain": [
              "<IPython.core.display.Javascript object>"
            ],
            "application/javascript": [
              "window[\"13654724-9c70-11ef-9857-0242ac1c000c\"] = google.colab.output.setActiveOutputArea(window[\"134bc20e-9c70-11ef-9857-0242ac1c000c\"]);\n",
              "//# sourceURL=js_99454c1cf0"
            ]
          },
          "metadata": {}
        },
        {
          "output_type": "display_data",
          "data": {
            "text/plain": [
              "<IPython.core.display.Javascript object>"
            ],
            "application/javascript": [
              "window[\"136747c2-9c70-11ef-9857-0242ac1c000c\"] = google.colab.output.getActiveOutputArea();\n",
              "//# sourceURL=js_b55c9254f1"
            ]
          },
          "metadata": {}
        },
        {
          "output_type": "display_data",
          "data": {
            "text/plain": [
              "<IPython.core.display.Javascript object>"
            ],
            "application/javascript": [
              "window[\"13678ac0-9c70-11ef-9857-0242ac1c000c\"] = document.querySelector(\"#id26-1-1\");\n",
              "//# sourceURL=js_ccd80f9407"
            ]
          },
          "metadata": {}
        },
        {
          "output_type": "display_data",
          "data": {
            "text/plain": [
              "<IPython.core.display.Javascript object>"
            ],
            "application/javascript": [
              "window[\"1367cc10-9c70-11ef-9857-0242ac1c000c\"] = google.colab.output.setActiveOutputArea(window[\"13678ac0-9c70-11ef-9857-0242ac1c000c\"]);\n",
              "//# sourceURL=js_0340e7b5b6"
            ]
          },
          "metadata": {}
        },
        {
          "output_type": "stream",
          "name": "stdout",
          "text": [
            "w= 640 h= 480\n"
          ]
        },
        {
          "output_type": "display_data",
          "data": {
            "text/plain": [
              "<IPython.core.display.Javascript object>"
            ],
            "application/javascript": [
              "window[\"138315ec-9c70-11ef-9857-0242ac1c000c\"] = google.colab.output.setActiveOutputArea(window[\"136747c2-9c70-11ef-9857-0242ac1c000c\"]);\n",
              "//# sourceURL=js_3cfa4ab07d"
            ]
          },
          "metadata": {}
        },
        {
          "output_type": "display_data",
          "data": {
            "text/plain": [
              "<IPython.core.display.HTML object>"
            ],
            "text/html": [
              "<style>\n",
              "       table#id28, #id28 > tbody > tr > th, #id28 > tbody > tr > td {\n",
              "         border: 1px solid lightgray;\n",
              "         border-collapse:collapse;\n",
              "         \n",
              "        }</style>"
            ]
          },
          "metadata": {}
        },
        {
          "output_type": "display_data",
          "data": {
            "text/plain": [
              "<IPython.core.display.HTML object>"
            ],
            "text/html": [
              "<table id=id28><tr><td id=id28-0-0></td><td id=id28-0-1></td></tr><tr><td id=id28-1-0></td><td id=id28-1-1></td></tr></table>"
            ]
          },
          "metadata": {}
        },
        {
          "output_type": "display_data",
          "data": {
            "text/plain": [
              "<IPython.core.display.Javascript object>"
            ],
            "application/javascript": [
              "window[\"138898aa-9c70-11ef-9857-0242ac1c000c\"] = google.colab.output.getActiveOutputArea();\n",
              "//# sourceURL=js_3e357a938f"
            ]
          },
          "metadata": {}
        },
        {
          "output_type": "display_data",
          "data": {
            "text/plain": [
              "<IPython.core.display.Javascript object>"
            ],
            "application/javascript": [
              "window[\"1388dfa4-9c70-11ef-9857-0242ac1c000c\"] = document.querySelector(\"#id28-0-0\");\n",
              "//# sourceURL=js_38d4dc6748"
            ]
          },
          "metadata": {}
        },
        {
          "output_type": "display_data",
          "data": {
            "text/plain": [
              "<IPython.core.display.Javascript object>"
            ],
            "application/javascript": [
              "window[\"13892216-9c70-11ef-9857-0242ac1c000c\"] = google.colab.output.setActiveOutputArea(window[\"1388dfa4-9c70-11ef-9857-0242ac1c000c\"]);\n",
              "//# sourceURL=js_a54c77947c"
            ]
          },
          "metadata": {}
        },
        {
          "output_type": "stream",
          "name": "stdout",
          "text": [
            "w= 640 h= 480\n"
          ]
        },
        {
          "output_type": "display_data",
          "data": {
            "text/plain": [
              "<IPython.core.display.Javascript object>"
            ],
            "application/javascript": [
              "window[\"13a281e8-9c70-11ef-9857-0242ac1c000c\"] = google.colab.output.setActiveOutputArea(window[\"138898aa-9c70-11ef-9857-0242ac1c000c\"]);\n",
              "//# sourceURL=js_0966da73f3"
            ]
          },
          "metadata": {}
        },
        {
          "output_type": "display_data",
          "data": {
            "text/plain": [
              "<IPython.core.display.Javascript object>"
            ],
            "application/javascript": [
              "window[\"13a4a7fc-9c70-11ef-9857-0242ac1c000c\"] = google.colab.output.getActiveOutputArea();\n",
              "//# sourceURL=js_3e6abab8f8"
            ]
          },
          "metadata": {}
        },
        {
          "output_type": "display_data",
          "data": {
            "text/plain": [
              "<IPython.core.display.Javascript object>"
            ],
            "application/javascript": [
              "window[\"13a4f82e-9c70-11ef-9857-0242ac1c000c\"] = document.querySelector(\"#id28-0-1\");\n",
              "//# sourceURL=js_2b971b2558"
            ]
          },
          "metadata": {}
        },
        {
          "output_type": "display_data",
          "data": {
            "text/plain": [
              "<IPython.core.display.Javascript object>"
            ],
            "application/javascript": [
              "window[\"13a56f3e-9c70-11ef-9857-0242ac1c000c\"] = google.colab.output.setActiveOutputArea(window[\"13a4f82e-9c70-11ef-9857-0242ac1c000c\"]);\n",
              "//# sourceURL=js_81cebd914a"
            ]
          },
          "metadata": {}
        },
        {
          "output_type": "stream",
          "name": "stdout",
          "text": [
            "w= 640 h= 480\n"
          ]
        },
        {
          "output_type": "display_data",
          "data": {
            "text/plain": [
              "<IPython.core.display.Javascript object>"
            ],
            "application/javascript": [
              "window[\"13bdffb8-9c70-11ef-9857-0242ac1c000c\"] = google.colab.output.setActiveOutputArea(window[\"13a4a7fc-9c70-11ef-9857-0242ac1c000c\"]);\n",
              "//# sourceURL=js_b3ecb40c84"
            ]
          },
          "metadata": {}
        },
        {
          "output_type": "display_data",
          "data": {
            "text/plain": [
              "<IPython.core.display.Javascript object>"
            ],
            "application/javascript": [
              "window[\"13c064c4-9c70-11ef-9857-0242ac1c000c\"] = google.colab.output.getActiveOutputArea();\n",
              "//# sourceURL=js_5a08d4f90e"
            ]
          },
          "metadata": {}
        },
        {
          "output_type": "display_data",
          "data": {
            "text/plain": [
              "<IPython.core.display.Javascript object>"
            ],
            "application/javascript": [
              "window[\"13c0be6a-9c70-11ef-9857-0242ac1c000c\"] = document.querySelector(\"#id28-1-0\");\n",
              "//# sourceURL=js_b50ef300c9"
            ]
          },
          "metadata": {}
        },
        {
          "output_type": "display_data",
          "data": {
            "text/plain": [
              "<IPython.core.display.Javascript object>"
            ],
            "application/javascript": [
              "window[\"13c120b2-9c70-11ef-9857-0242ac1c000c\"] = google.colab.output.setActiveOutputArea(window[\"13c0be6a-9c70-11ef-9857-0242ac1c000c\"]);\n",
              "//# sourceURL=js_f5d4f058c3"
            ]
          },
          "metadata": {}
        },
        {
          "output_type": "stream",
          "name": "stdout",
          "text": [
            "w= 640 h= 480\n"
          ]
        },
        {
          "output_type": "display_data",
          "data": {
            "text/plain": [
              "<IPython.core.display.Javascript object>"
            ],
            "application/javascript": [
              "window[\"13d7a256-9c70-11ef-9857-0242ac1c000c\"] = google.colab.output.setActiveOutputArea(window[\"13c064c4-9c70-11ef-9857-0242ac1c000c\"]);\n",
              "//# sourceURL=js_16260d31a8"
            ]
          },
          "metadata": {}
        },
        {
          "output_type": "display_data",
          "data": {
            "text/plain": [
              "<IPython.core.display.Javascript object>"
            ],
            "application/javascript": [
              "window[\"13da348a-9c70-11ef-9857-0242ac1c000c\"] = google.colab.output.getActiveOutputArea();\n",
              "//# sourceURL=js_0a89cf9360"
            ]
          },
          "metadata": {}
        },
        {
          "output_type": "display_data",
          "data": {
            "text/plain": [
              "<IPython.core.display.Javascript object>"
            ],
            "application/javascript": [
              "window[\"13da78c8-9c70-11ef-9857-0242ac1c000c\"] = document.querySelector(\"#id28-1-1\");\n",
              "//# sourceURL=js_39475339ff"
            ]
          },
          "metadata": {}
        },
        {
          "output_type": "display_data",
          "data": {
            "text/plain": [
              "<IPython.core.display.Javascript object>"
            ],
            "application/javascript": [
              "window[\"13dacf4e-9c70-11ef-9857-0242ac1c000c\"] = google.colab.output.setActiveOutputArea(window[\"13da78c8-9c70-11ef-9857-0242ac1c000c\"]);\n",
              "//# sourceURL=js_92f0d42cf9"
            ]
          },
          "metadata": {}
        },
        {
          "output_type": "stream",
          "name": "stdout",
          "text": [
            "w= 640 h= 480\n"
          ]
        },
        {
          "output_type": "display_data",
          "data": {
            "text/plain": [
              "<IPython.core.display.Javascript object>"
            ],
            "application/javascript": [
              "window[\"13f1b4d4-9c70-11ef-9857-0242ac1c000c\"] = google.colab.output.setActiveOutputArea(window[\"13da348a-9c70-11ef-9857-0242ac1c000c\"]);\n",
              "//# sourceURL=js_3f3752a1ea"
            ]
          },
          "metadata": {}
        },
        {
          "output_type": "display_data",
          "data": {
            "text/plain": [
              "<IPython.core.display.HTML object>"
            ],
            "text/html": [
              "<style>\n",
              "       table#id30, #id30 > tbody > tr > th, #id30 > tbody > tr > td {\n",
              "         border: 1px solid lightgray;\n",
              "         border-collapse:collapse;\n",
              "         \n",
              "        }</style>"
            ]
          },
          "metadata": {}
        },
        {
          "output_type": "display_data",
          "data": {
            "text/plain": [
              "<IPython.core.display.HTML object>"
            ],
            "text/html": [
              "<table id=id30><tr><td id=id30-0-0></td><td id=id30-0-1></td></tr><tr><td id=id30-1-0></td><td id=id30-1-1></td></tr></table>"
            ]
          },
          "metadata": {}
        },
        {
          "output_type": "display_data",
          "data": {
            "text/plain": [
              "<IPython.core.display.Javascript object>"
            ],
            "application/javascript": [
              "window[\"13f4f996-9c70-11ef-9857-0242ac1c000c\"] = google.colab.output.getActiveOutputArea();\n",
              "//# sourceURL=js_c03a4eea06"
            ]
          },
          "metadata": {}
        },
        {
          "output_type": "display_data",
          "data": {
            "text/plain": [
              "<IPython.core.display.Javascript object>"
            ],
            "application/javascript": [
              "window[\"13f54270-9c70-11ef-9857-0242ac1c000c\"] = document.querySelector(\"#id30-0-0\");\n",
              "//# sourceURL=js_3bdcae7043"
            ]
          },
          "metadata": {}
        },
        {
          "output_type": "display_data",
          "data": {
            "text/plain": [
              "<IPython.core.display.Javascript object>"
            ],
            "application/javascript": [
              "window[\"13f5871c-9c70-11ef-9857-0242ac1c000c\"] = google.colab.output.setActiveOutputArea(window[\"13f54270-9c70-11ef-9857-0242ac1c000c\"]);\n",
              "//# sourceURL=js_ba0fc1c0b4"
            ]
          },
          "metadata": {}
        },
        {
          "output_type": "stream",
          "name": "stdout",
          "text": [
            "w= 640 h= 480\n"
          ]
        },
        {
          "output_type": "display_data",
          "data": {
            "text/plain": [
              "<IPython.core.display.Javascript object>"
            ],
            "application/javascript": [
              "window[\"14126fc6-9c70-11ef-9857-0242ac1c000c\"] = google.colab.output.setActiveOutputArea(window[\"13f4f996-9c70-11ef-9857-0242ac1c000c\"]);\n",
              "//# sourceURL=js_65d1dc1c07"
            ]
          },
          "metadata": {}
        },
        {
          "output_type": "display_data",
          "data": {
            "text/plain": [
              "<IPython.core.display.Javascript object>"
            ],
            "application/javascript": [
              "window[\"1414d0fe-9c70-11ef-9857-0242ac1c000c\"] = google.colab.output.getActiveOutputArea();\n",
              "//# sourceURL=js_aeca650970"
            ]
          },
          "metadata": {}
        },
        {
          "output_type": "display_data",
          "data": {
            "text/plain": [
              "<IPython.core.display.Javascript object>"
            ],
            "application/javascript": [
              "window[\"14152590-9c70-11ef-9857-0242ac1c000c\"] = document.querySelector(\"#id30-0-1\");\n",
              "//# sourceURL=js_2a7964d747"
            ]
          },
          "metadata": {}
        },
        {
          "output_type": "display_data",
          "data": {
            "text/plain": [
              "<IPython.core.display.Javascript object>"
            ],
            "application/javascript": [
              "window[\"141569ba-9c70-11ef-9857-0242ac1c000c\"] = google.colab.output.setActiveOutputArea(window[\"14152590-9c70-11ef-9857-0242ac1c000c\"]);\n",
              "//# sourceURL=js_b53d43c0ca"
            ]
          },
          "metadata": {}
        },
        {
          "output_type": "stream",
          "name": "stdout",
          "text": [
            "w= 640 h= 480\n"
          ]
        },
        {
          "output_type": "display_data",
          "data": {
            "text/plain": [
              "<IPython.core.display.Javascript object>"
            ],
            "application/javascript": [
              "window[\"142fbe32-9c70-11ef-9857-0242ac1c000c\"] = google.colab.output.setActiveOutputArea(window[\"1414d0fe-9c70-11ef-9857-0242ac1c000c\"]);\n",
              "//# sourceURL=js_29f1bf3af5"
            ]
          },
          "metadata": {}
        },
        {
          "output_type": "display_data",
          "data": {
            "text/plain": [
              "<IPython.core.display.Javascript object>"
            ],
            "application/javascript": [
              "window[\"14321f74-9c70-11ef-9857-0242ac1c000c\"] = google.colab.output.getActiveOutputArea();\n",
              "//# sourceURL=js_88fe52d709"
            ]
          },
          "metadata": {}
        },
        {
          "output_type": "display_data",
          "data": {
            "text/plain": [
              "<IPython.core.display.Javascript object>"
            ],
            "application/javascript": [
              "window[\"14326a88-9c70-11ef-9857-0242ac1c000c\"] = document.querySelector(\"#id30-1-0\");\n",
              "//# sourceURL=js_8d95c635c9"
            ]
          },
          "metadata": {}
        },
        {
          "output_type": "display_data",
          "data": {
            "text/plain": [
              "<IPython.core.display.Javascript object>"
            ],
            "application/javascript": [
              "window[\"1432b394-9c70-11ef-9857-0242ac1c000c\"] = google.colab.output.setActiveOutputArea(window[\"14326a88-9c70-11ef-9857-0242ac1c000c\"]);\n",
              "//# sourceURL=js_acc59c4993"
            ]
          },
          "metadata": {}
        },
        {
          "output_type": "stream",
          "name": "stdout",
          "text": [
            "w= 640 h= 480\n"
          ]
        },
        {
          "output_type": "display_data",
          "data": {
            "text/plain": [
              "<IPython.core.display.Javascript object>"
            ],
            "application/javascript": [
              "window[\"144b7500-9c70-11ef-9857-0242ac1c000c\"] = google.colab.output.setActiveOutputArea(window[\"14321f74-9c70-11ef-9857-0242ac1c000c\"]);\n",
              "//# sourceURL=js_aeeae356ab"
            ]
          },
          "metadata": {}
        },
        {
          "output_type": "display_data",
          "data": {
            "text/plain": [
              "<IPython.core.display.Javascript object>"
            ],
            "application/javascript": [
              "window[\"144db996-9c70-11ef-9857-0242ac1c000c\"] = google.colab.output.getActiveOutputArea();\n",
              "//# sourceURL=js_8be966a761"
            ]
          },
          "metadata": {}
        },
        {
          "output_type": "display_data",
          "data": {
            "text/plain": [
              "<IPython.core.display.Javascript object>"
            ],
            "application/javascript": [
              "window[\"144e0db0-9c70-11ef-9857-0242ac1c000c\"] = document.querySelector(\"#id30-1-1\");\n",
              "//# sourceURL=js_5c32d8f2c1"
            ]
          },
          "metadata": {}
        },
        {
          "output_type": "display_data",
          "data": {
            "text/plain": [
              "<IPython.core.display.Javascript object>"
            ],
            "application/javascript": [
              "window[\"144e55cc-9c70-11ef-9857-0242ac1c000c\"] = google.colab.output.setActiveOutputArea(window[\"144e0db0-9c70-11ef-9857-0242ac1c000c\"]);\n",
              "//# sourceURL=js_0e5c55a893"
            ]
          },
          "metadata": {}
        },
        {
          "output_type": "stream",
          "name": "stdout",
          "text": [
            "w= 640 h= 480\n"
          ]
        },
        {
          "output_type": "display_data",
          "data": {
            "text/plain": [
              "<IPython.core.display.Javascript object>"
            ],
            "application/javascript": [
              "window[\"1463d3a2-9c70-11ef-9857-0242ac1c000c\"] = google.colab.output.setActiveOutputArea(window[\"144db996-9c70-11ef-9857-0242ac1c000c\"]);\n",
              "//# sourceURL=js_10271328ec"
            ]
          },
          "metadata": {}
        },
        {
          "output_type": "display_data",
          "data": {
            "text/plain": [
              "<IPython.core.display.HTML object>"
            ],
            "text/html": [
              "<style>\n",
              "       table#id32, #id32 > tbody > tr > th, #id32 > tbody > tr > td {\n",
              "         border: 1px solid lightgray;\n",
              "         border-collapse:collapse;\n",
              "         \n",
              "        }</style>"
            ]
          },
          "metadata": {}
        },
        {
          "output_type": "display_data",
          "data": {
            "text/plain": [
              "<IPython.core.display.HTML object>"
            ],
            "text/html": [
              "<table id=id32><tr><td id=id32-0-0></td><td id=id32-0-1></td></tr><tr><td id=id32-1-0></td><td id=id32-1-1></td></tr></table>"
            ]
          },
          "metadata": {}
        },
        {
          "output_type": "display_data",
          "data": {
            "text/plain": [
              "<IPython.core.display.Javascript object>"
            ],
            "application/javascript": [
              "window[\"14680648-9c70-11ef-9857-0242ac1c000c\"] = google.colab.output.getActiveOutputArea();\n",
              "//# sourceURL=js_415f25e266"
            ]
          },
          "metadata": {}
        },
        {
          "output_type": "display_data",
          "data": {
            "text/plain": [
              "<IPython.core.display.Javascript object>"
            ],
            "application/javascript": [
              "window[\"14684dc4-9c70-11ef-9857-0242ac1c000c\"] = document.querySelector(\"#id32-0-0\");\n",
              "//# sourceURL=js_fc44426c27"
            ]
          },
          "metadata": {}
        },
        {
          "output_type": "display_data",
          "data": {
            "text/plain": [
              "<IPython.core.display.Javascript object>"
            ],
            "application/javascript": [
              "window[\"1468eaf4-9c70-11ef-9857-0242ac1c000c\"] = google.colab.output.setActiveOutputArea(window[\"14684dc4-9c70-11ef-9857-0242ac1c000c\"]);\n",
              "//# sourceURL=js_64f201b523"
            ]
          },
          "metadata": {}
        },
        {
          "output_type": "stream",
          "name": "stdout",
          "text": [
            "w= 640 h= 480\n"
          ]
        },
        {
          "output_type": "display_data",
          "data": {
            "text/plain": [
              "<IPython.core.display.Javascript object>"
            ],
            "application/javascript": [
              "window[\"147f92fe-9c70-11ef-9857-0242ac1c000c\"] = google.colab.output.setActiveOutputArea(window[\"14680648-9c70-11ef-9857-0242ac1c000c\"]);\n",
              "//# sourceURL=js_cfde38f1bd"
            ]
          },
          "metadata": {}
        },
        {
          "output_type": "display_data",
          "data": {
            "text/plain": [
              "<IPython.core.display.Javascript object>"
            ],
            "application/javascript": [
              "window[\"1481dafa-9c70-11ef-9857-0242ac1c000c\"] = google.colab.output.getActiveOutputArea();\n",
              "//# sourceURL=js_cdb288d8a7"
            ]
          },
          "metadata": {}
        },
        {
          "output_type": "display_data",
          "data": {
            "text/plain": [
              "<IPython.core.display.Javascript object>"
            ],
            "application/javascript": [
              "window[\"14822dc0-9c70-11ef-9857-0242ac1c000c\"] = document.querySelector(\"#id32-0-1\");\n",
              "//# sourceURL=js_2ed9a22603"
            ]
          },
          "metadata": {}
        },
        {
          "output_type": "display_data",
          "data": {
            "text/plain": [
              "<IPython.core.display.Javascript object>"
            ],
            "application/javascript": [
              "window[\"148273d4-9c70-11ef-9857-0242ac1c000c\"] = google.colab.output.setActiveOutputArea(window[\"14822dc0-9c70-11ef-9857-0242ac1c000c\"]);\n",
              "//# sourceURL=js_2fc1cab205"
            ]
          },
          "metadata": {}
        },
        {
          "output_type": "stream",
          "name": "stdout",
          "text": [
            "w= 640 h= 480\n"
          ]
        },
        {
          "output_type": "display_data",
          "data": {
            "text/plain": [
              "<IPython.core.display.Javascript object>"
            ],
            "application/javascript": [
              "window[\"1499743a-9c70-11ef-9857-0242ac1c000c\"] = google.colab.output.setActiveOutputArea(window[\"1481dafa-9c70-11ef-9857-0242ac1c000c\"]);\n",
              "//# sourceURL=js_c43f2e8491"
            ]
          },
          "metadata": {}
        },
        {
          "output_type": "display_data",
          "data": {
            "text/plain": [
              "<IPython.core.display.Javascript object>"
            ],
            "application/javascript": [
              "window[\"149cb212-9c70-11ef-9857-0242ac1c000c\"] = google.colab.output.getActiveOutputArea();\n",
              "//# sourceURL=js_02145606b3"
            ]
          },
          "metadata": {}
        },
        {
          "output_type": "display_data",
          "data": {
            "text/plain": [
              "<IPython.core.display.Javascript object>"
            ],
            "application/javascript": [
              "window[\"149cf1dc-9c70-11ef-9857-0242ac1c000c\"] = document.querySelector(\"#id32-1-0\");\n",
              "//# sourceURL=js_46f462cb90"
            ]
          },
          "metadata": {}
        },
        {
          "output_type": "display_data",
          "data": {
            "text/plain": [
              "<IPython.core.display.Javascript object>"
            ],
            "application/javascript": [
              "window[\"149d33d6-9c70-11ef-9857-0242ac1c000c\"] = google.colab.output.setActiveOutputArea(window[\"149cf1dc-9c70-11ef-9857-0242ac1c000c\"]);\n",
              "//# sourceURL=js_32873aa380"
            ]
          },
          "metadata": {}
        },
        {
          "output_type": "stream",
          "name": "stdout",
          "text": [
            "w= 640 h= 480\n"
          ]
        },
        {
          "output_type": "display_data",
          "data": {
            "text/plain": [
              "<IPython.core.display.Javascript object>"
            ],
            "application/javascript": [
              "window[\"14b8cf74-9c70-11ef-9857-0242ac1c000c\"] = google.colab.output.setActiveOutputArea(window[\"149cb212-9c70-11ef-9857-0242ac1c000c\"]);\n",
              "//# sourceURL=js_6dc992fd40"
            ]
          },
          "metadata": {}
        },
        {
          "output_type": "display_data",
          "data": {
            "text/plain": [
              "<IPython.core.display.Javascript object>"
            ],
            "application/javascript": [
              "window[\"14bbe704-9c70-11ef-9857-0242ac1c000c\"] = google.colab.output.getActiveOutputArea();\n",
              "//# sourceURL=js_a05dbba7f2"
            ]
          },
          "metadata": {}
        },
        {
          "output_type": "display_data",
          "data": {
            "text/plain": [
              "<IPython.core.display.Javascript object>"
            ],
            "application/javascript": [
              "window[\"14bc35ec-9c70-11ef-9857-0242ac1c000c\"] = document.querySelector(\"#id32-1-1\");\n",
              "//# sourceURL=js_67744b82bb"
            ]
          },
          "metadata": {}
        },
        {
          "output_type": "display_data",
          "data": {
            "text/plain": [
              "<IPython.core.display.Javascript object>"
            ],
            "application/javascript": [
              "window[\"14bc8376-9c70-11ef-9857-0242ac1c000c\"] = google.colab.output.setActiveOutputArea(window[\"14bc35ec-9c70-11ef-9857-0242ac1c000c\"]);\n",
              "//# sourceURL=js_52823f6c9f"
            ]
          },
          "metadata": {}
        },
        {
          "output_type": "stream",
          "name": "stdout",
          "text": [
            "w= 640 h= 480\n"
          ]
        },
        {
          "output_type": "display_data",
          "data": {
            "text/plain": [
              "<IPython.core.display.Javascript object>"
            ],
            "application/javascript": [
              "window[\"14d5ab62-9c70-11ef-9857-0242ac1c000c\"] = google.colab.output.setActiveOutputArea(window[\"14bbe704-9c70-11ef-9857-0242ac1c000c\"]);\n",
              "//# sourceURL=js_c81b6db21d"
            ]
          },
          "metadata": {}
        },
        {
          "output_type": "display_data",
          "data": {
            "text/plain": [
              "<IPython.core.display.HTML object>"
            ],
            "text/html": [
              "<style>\n",
              "       table#id34, #id34 > tbody > tr > th, #id34 > tbody > tr > td {\n",
              "         border: 1px solid lightgray;\n",
              "         border-collapse:collapse;\n",
              "         \n",
              "        }</style>"
            ]
          },
          "metadata": {}
        },
        {
          "output_type": "display_data",
          "data": {
            "text/plain": [
              "<IPython.core.display.HTML object>"
            ],
            "text/html": [
              "<table id=id34><tr><td id=id34-0-0></td><td id=id34-0-1></td></tr><tr><td id=id34-1-0></td><td id=id34-1-1></td></tr></table>"
            ]
          },
          "metadata": {}
        },
        {
          "output_type": "display_data",
          "data": {
            "text/plain": [
              "<IPython.core.display.Javascript object>"
            ],
            "application/javascript": [
              "window[\"14d98bec-9c70-11ef-9857-0242ac1c000c\"] = google.colab.output.getActiveOutputArea();\n",
              "//# sourceURL=js_6fbae36851"
            ]
          },
          "metadata": {}
        },
        {
          "output_type": "display_data",
          "data": {
            "text/plain": [
              "<IPython.core.display.Javascript object>"
            ],
            "application/javascript": [
              "window[\"14d9d05c-9c70-11ef-9857-0242ac1c000c\"] = document.querySelector(\"#id34-0-0\");\n",
              "//# sourceURL=js_2a270c9566"
            ]
          },
          "metadata": {}
        },
        {
          "output_type": "display_data",
          "data": {
            "text/plain": [
              "<IPython.core.display.Javascript object>"
            ],
            "application/javascript": [
              "window[\"14da1bc0-9c70-11ef-9857-0242ac1c000c\"] = google.colab.output.setActiveOutputArea(window[\"14d9d05c-9c70-11ef-9857-0242ac1c000c\"]);\n",
              "//# sourceURL=js_6d9b2c3753"
            ]
          },
          "metadata": {}
        },
        {
          "output_type": "stream",
          "name": "stdout",
          "text": [
            "w= 640 h= 480\n"
          ]
        },
        {
          "output_type": "display_data",
          "data": {
            "text/plain": [
              "<IPython.core.display.Javascript object>"
            ],
            "application/javascript": [
              "window[\"14f0a304-9c70-11ef-9857-0242ac1c000c\"] = google.colab.output.setActiveOutputArea(window[\"14d98bec-9c70-11ef-9857-0242ac1c000c\"]);\n",
              "//# sourceURL=js_ecee035f6c"
            ]
          },
          "metadata": {}
        },
        {
          "output_type": "display_data",
          "data": {
            "text/plain": [
              "<IPython.core.display.Javascript object>"
            ],
            "application/javascript": [
              "window[\"14f2bec8-9c70-11ef-9857-0242ac1c000c\"] = google.colab.output.getActiveOutputArea();\n",
              "//# sourceURL=js_e42dba0f2e"
            ]
          },
          "metadata": {}
        },
        {
          "output_type": "display_data",
          "data": {
            "text/plain": [
              "<IPython.core.display.Javascript object>"
            ],
            "application/javascript": [
              "window[\"14f30f5e-9c70-11ef-9857-0242ac1c000c\"] = document.querySelector(\"#id34-0-1\");\n",
              "//# sourceURL=js_dc007219e5"
            ]
          },
          "metadata": {}
        },
        {
          "output_type": "display_data",
          "data": {
            "text/plain": [
              "<IPython.core.display.Javascript object>"
            ],
            "application/javascript": [
              "window[\"14f357ca-9c70-11ef-9857-0242ac1c000c\"] = google.colab.output.setActiveOutputArea(window[\"14f30f5e-9c70-11ef-9857-0242ac1c000c\"]);\n",
              "//# sourceURL=js_eccb9c73cf"
            ]
          },
          "metadata": {}
        },
        {
          "output_type": "stream",
          "name": "stdout",
          "text": [
            "w= 640 h= 480\n"
          ]
        },
        {
          "output_type": "display_data",
          "data": {
            "text/plain": [
              "<IPython.core.display.Javascript object>"
            ],
            "application/javascript": [
              "window[\"150ad21a-9c70-11ef-9857-0242ac1c000c\"] = google.colab.output.setActiveOutputArea(window[\"14f2bec8-9c70-11ef-9857-0242ac1c000c\"]);\n",
              "//# sourceURL=js_d60d9cc37d"
            ]
          },
          "metadata": {}
        },
        {
          "output_type": "display_data",
          "data": {
            "text/plain": [
              "<IPython.core.display.Javascript object>"
            ],
            "application/javascript": [
              "window[\"150d4eb4-9c70-11ef-9857-0242ac1c000c\"] = google.colab.output.getActiveOutputArea();\n",
              "//# sourceURL=js_9c24d8a500"
            ]
          },
          "metadata": {}
        },
        {
          "output_type": "display_data",
          "data": {
            "text/plain": [
              "<IPython.core.display.Javascript object>"
            ],
            "application/javascript": [
              "window[\"150da3f0-9c70-11ef-9857-0242ac1c000c\"] = document.querySelector(\"#id34-1-0\");\n",
              "//# sourceURL=js_de488ef405"
            ]
          },
          "metadata": {}
        },
        {
          "output_type": "display_data",
          "data": {
            "text/plain": [
              "<IPython.core.display.Javascript object>"
            ],
            "application/javascript": [
              "window[\"150e1cea-9c70-11ef-9857-0242ac1c000c\"] = google.colab.output.setActiveOutputArea(window[\"150da3f0-9c70-11ef-9857-0242ac1c000c\"]);\n",
              "//# sourceURL=js_e446787547"
            ]
          },
          "metadata": {}
        },
        {
          "output_type": "stream",
          "name": "stdout",
          "text": [
            "w= 640 h= 480\n"
          ]
        },
        {
          "output_type": "display_data",
          "data": {
            "text/plain": [
              "<IPython.core.display.Javascript object>"
            ],
            "application/javascript": [
              "window[\"15236276-9c70-11ef-9857-0242ac1c000c\"] = google.colab.output.setActiveOutputArea(window[\"150d4eb4-9c70-11ef-9857-0242ac1c000c\"]);\n",
              "//# sourceURL=js_4f2aff9891"
            ]
          },
          "metadata": {}
        },
        {
          "output_type": "display_data",
          "data": {
            "text/plain": [
              "<IPython.core.display.Javascript object>"
            ],
            "application/javascript": [
              "window[\"152574c6-9c70-11ef-9857-0242ac1c000c\"] = google.colab.output.getActiveOutputArea();\n",
              "//# sourceURL=js_d097c505fc"
            ]
          },
          "metadata": {}
        },
        {
          "output_type": "display_data",
          "data": {
            "text/plain": [
              "<IPython.core.display.Javascript object>"
            ],
            "application/javascript": [
              "window[\"1525c340-9c70-11ef-9857-0242ac1c000c\"] = document.querySelector(\"#id34-1-1\");\n",
              "//# sourceURL=js_786d53eb6f"
            ]
          },
          "metadata": {}
        },
        {
          "output_type": "display_data",
          "data": {
            "text/plain": [
              "<IPython.core.display.Javascript object>"
            ],
            "application/javascript": [
              "window[\"152623da-9c70-11ef-9857-0242ac1c000c\"] = google.colab.output.setActiveOutputArea(window[\"1525c340-9c70-11ef-9857-0242ac1c000c\"]);\n",
              "//# sourceURL=js_cf8082196d"
            ]
          },
          "metadata": {}
        },
        {
          "output_type": "stream",
          "name": "stdout",
          "text": [
            "w= 640 h= 480\n"
          ]
        },
        {
          "output_type": "display_data",
          "data": {
            "text/plain": [
              "<IPython.core.display.Javascript object>"
            ],
            "application/javascript": [
              "window[\"153f13c2-9c70-11ef-9857-0242ac1c000c\"] = google.colab.output.setActiveOutputArea(window[\"152574c6-9c70-11ef-9857-0242ac1c000c\"]);\n",
              "//# sourceURL=js_d8f2920a75"
            ]
          },
          "metadata": {}
        },
        {
          "output_type": "display_data",
          "data": {
            "text/plain": [
              "<IPython.core.display.HTML object>"
            ],
            "text/html": [
              "<style>\n",
              "       table#id36, #id36 > tbody > tr > th, #id36 > tbody > tr > td {\n",
              "         border: 1px solid lightgray;\n",
              "         border-collapse:collapse;\n",
              "         \n",
              "        }</style>"
            ]
          },
          "metadata": {}
        },
        {
          "output_type": "display_data",
          "data": {
            "text/plain": [
              "<IPython.core.display.HTML object>"
            ],
            "text/html": [
              "<table id=id36><tr><td id=id36-0-0></td><td id=id36-0-1></td></tr><tr><td id=id36-1-0></td><td id=id36-1-1></td></tr></table>"
            ]
          },
          "metadata": {}
        },
        {
          "output_type": "display_data",
          "data": {
            "text/plain": [
              "<IPython.core.display.Javascript object>"
            ],
            "application/javascript": [
              "window[\"1545a44e-9c70-11ef-9857-0242ac1c000c\"] = google.colab.output.getActiveOutputArea();\n",
              "//# sourceURL=js_1462dbeacb"
            ]
          },
          "metadata": {}
        },
        {
          "output_type": "display_data",
          "data": {
            "text/plain": [
              "<IPython.core.display.Javascript object>"
            ],
            "application/javascript": [
              "window[\"1546207c-9c70-11ef-9857-0242ac1c000c\"] = document.querySelector(\"#id36-0-0\");\n",
              "//# sourceURL=js_9011272d33"
            ]
          },
          "metadata": {}
        },
        {
          "output_type": "display_data",
          "data": {
            "text/plain": [
              "<IPython.core.display.Javascript object>"
            ],
            "application/javascript": [
              "window[\"15468832-9c70-11ef-9857-0242ac1c000c\"] = google.colab.output.setActiveOutputArea(window[\"1546207c-9c70-11ef-9857-0242ac1c000c\"]);\n",
              "//# sourceURL=js_496cc59bdf"
            ]
          },
          "metadata": {}
        },
        {
          "output_type": "stream",
          "name": "stdout",
          "text": [
            "w= 640 h= 480\n"
          ]
        },
        {
          "output_type": "display_data",
          "data": {
            "text/plain": [
              "<IPython.core.display.Javascript object>"
            ],
            "application/javascript": [
              "window[\"156208fa-9c70-11ef-9857-0242ac1c000c\"] = google.colab.output.setActiveOutputArea(window[\"1545a44e-9c70-11ef-9857-0242ac1c000c\"]);\n",
              "//# sourceURL=js_978a1823d9"
            ]
          },
          "metadata": {}
        },
        {
          "output_type": "display_data",
          "data": {
            "text/plain": [
              "<IPython.core.display.Javascript object>"
            ],
            "application/javascript": [
              "window[\"15642a9a-9c70-11ef-9857-0242ac1c000c\"] = google.colab.output.getActiveOutputArea();\n",
              "//# sourceURL=js_f151fc1e17"
            ]
          },
          "metadata": {}
        },
        {
          "output_type": "display_data",
          "data": {
            "text/plain": [
              "<IPython.core.display.Javascript object>"
            ],
            "application/javascript": [
              "window[\"156472f2-9c70-11ef-9857-0242ac1c000c\"] = document.querySelector(\"#id36-0-1\");\n",
              "//# sourceURL=js_f6e4096471"
            ]
          },
          "metadata": {}
        },
        {
          "output_type": "display_data",
          "data": {
            "text/plain": [
              "<IPython.core.display.Javascript object>"
            ],
            "application/javascript": [
              "window[\"1564b7f8-9c70-11ef-9857-0242ac1c000c\"] = google.colab.output.setActiveOutputArea(window[\"156472f2-9c70-11ef-9857-0242ac1c000c\"]);\n",
              "//# sourceURL=js_79d60059ec"
            ]
          },
          "metadata": {}
        },
        {
          "output_type": "stream",
          "name": "stdout",
          "text": [
            "w= 640 h= 480\n"
          ]
        },
        {
          "output_type": "display_data",
          "data": {
            "text/plain": [
              "<IPython.core.display.Javascript object>"
            ],
            "application/javascript": [
              "window[\"157e4e2a-9c70-11ef-9857-0242ac1c000c\"] = google.colab.output.setActiveOutputArea(window[\"15642a9a-9c70-11ef-9857-0242ac1c000c\"]);\n",
              "//# sourceURL=js_01dc5b8ef4"
            ]
          },
          "metadata": {}
        },
        {
          "output_type": "display_data",
          "data": {
            "text/plain": [
              "<IPython.core.display.Javascript object>"
            ],
            "application/javascript": [
              "window[\"15806818-9c70-11ef-9857-0242ac1c000c\"] = google.colab.output.getActiveOutputArea();\n",
              "//# sourceURL=js_7a4f222b55"
            ]
          },
          "metadata": {}
        },
        {
          "output_type": "display_data",
          "data": {
            "text/plain": [
              "<IPython.core.display.Javascript object>"
            ],
            "application/javascript": [
              "window[\"1580acd8-9c70-11ef-9857-0242ac1c000c\"] = document.querySelector(\"#id36-1-0\");\n",
              "//# sourceURL=js_8de344d474"
            ]
          },
          "metadata": {}
        },
        {
          "output_type": "display_data",
          "data": {
            "text/plain": [
              "<IPython.core.display.Javascript object>"
            ],
            "application/javascript": [
              "window[\"1580f2a6-9c70-11ef-9857-0242ac1c000c\"] = google.colab.output.setActiveOutputArea(window[\"1580acd8-9c70-11ef-9857-0242ac1c000c\"]);\n",
              "//# sourceURL=js_31b870153e"
            ]
          },
          "metadata": {}
        },
        {
          "output_type": "stream",
          "name": "stdout",
          "text": [
            "w= 640 h= 480\n"
          ]
        },
        {
          "output_type": "display_data",
          "data": {
            "text/plain": [
              "<IPython.core.display.Javascript object>"
            ],
            "application/javascript": [
              "window[\"1596fec0-9c70-11ef-9857-0242ac1c000c\"] = google.colab.output.setActiveOutputArea(window[\"15806818-9c70-11ef-9857-0242ac1c000c\"]);\n",
              "//# sourceURL=js_c0423ad9fb"
            ]
          },
          "metadata": {}
        },
        {
          "output_type": "display_data",
          "data": {
            "text/plain": [
              "<IPython.core.display.Javascript object>"
            ],
            "application/javascript": [
              "window[\"15996200-9c70-11ef-9857-0242ac1c000c\"] = google.colab.output.getActiveOutputArea();\n",
              "//# sourceURL=js_9a98a6d39a"
            ]
          },
          "metadata": {}
        },
        {
          "output_type": "display_data",
          "data": {
            "text/plain": [
              "<IPython.core.display.Javascript object>"
            ],
            "application/javascript": [
              "window[\"1599a9f4-9c70-11ef-9857-0242ac1c000c\"] = document.querySelector(\"#id36-1-1\");\n",
              "//# sourceURL=js_fa5fcd1347"
            ]
          },
          "metadata": {}
        },
        {
          "output_type": "display_data",
          "data": {
            "text/plain": [
              "<IPython.core.display.Javascript object>"
            ],
            "application/javascript": [
              "window[\"159a073c-9c70-11ef-9857-0242ac1c000c\"] = google.colab.output.setActiveOutputArea(window[\"1599a9f4-9c70-11ef-9857-0242ac1c000c\"]);\n",
              "//# sourceURL=js_6fc0dbf126"
            ]
          },
          "metadata": {}
        },
        {
          "output_type": "stream",
          "name": "stdout",
          "text": [
            "w= 640 h= 480\n"
          ]
        },
        {
          "output_type": "display_data",
          "data": {
            "text/plain": [
              "<IPython.core.display.Javascript object>"
            ],
            "application/javascript": [
              "window[\"15b008ac-9c70-11ef-9857-0242ac1c000c\"] = google.colab.output.setActiveOutputArea(window[\"15996200-9c70-11ef-9857-0242ac1c000c\"]);\n",
              "//# sourceURL=js_8365332c19"
            ]
          },
          "metadata": {}
        },
        {
          "output_type": "display_data",
          "data": {
            "text/plain": [
              "<IPython.core.display.HTML object>"
            ],
            "text/html": [
              "<style>\n",
              "       table#id38, #id38 > tbody > tr > th, #id38 > tbody > tr > td {\n",
              "         border: 1px solid lightgray;\n",
              "         border-collapse:collapse;\n",
              "         \n",
              "        }</style>"
            ]
          },
          "metadata": {}
        },
        {
          "output_type": "display_data",
          "data": {
            "text/plain": [
              "<IPython.core.display.HTML object>"
            ],
            "text/html": [
              "<table id=id38><tr><td id=id38-0-0></td><td id=id38-0-1></td></tr><tr><td id=id38-1-0></td><td id=id38-1-1></td></tr></table>"
            ]
          },
          "metadata": {}
        },
        {
          "output_type": "display_data",
          "data": {
            "text/plain": [
              "<IPython.core.display.Javascript object>"
            ],
            "application/javascript": [
              "window[\"15b30228-9c70-11ef-9857-0242ac1c000c\"] = google.colab.output.getActiveOutputArea();\n",
              "//# sourceURL=js_a9ebeb0379"
            ]
          },
          "metadata": {}
        },
        {
          "output_type": "display_data",
          "data": {
            "text/plain": [
              "<IPython.core.display.Javascript object>"
            ],
            "application/javascript": [
              "window[\"15b34b66-9c70-11ef-9857-0242ac1c000c\"] = document.querySelector(\"#id38-0-0\");\n",
              "//# sourceURL=js_77e182ea04"
            ]
          },
          "metadata": {}
        },
        {
          "output_type": "display_data",
          "data": {
            "text/plain": [
              "<IPython.core.display.Javascript object>"
            ],
            "application/javascript": [
              "window[\"15b39684-9c70-11ef-9857-0242ac1c000c\"] = google.colab.output.setActiveOutputArea(window[\"15b34b66-9c70-11ef-9857-0242ac1c000c\"]);\n",
              "//# sourceURL=js_983045991d"
            ]
          },
          "metadata": {}
        },
        {
          "output_type": "stream",
          "name": "stdout",
          "text": [
            "w= 640 h= 480\n"
          ]
        },
        {
          "output_type": "display_data",
          "data": {
            "text/plain": [
              "<IPython.core.display.Javascript object>"
            ],
            "application/javascript": [
              "window[\"15caab58-9c70-11ef-9857-0242ac1c000c\"] = google.colab.output.setActiveOutputArea(window[\"15b30228-9c70-11ef-9857-0242ac1c000c\"]);\n",
              "//# sourceURL=js_fdc8ecb5e7"
            ]
          },
          "metadata": {}
        },
        {
          "output_type": "display_data",
          "data": {
            "text/plain": [
              "<IPython.core.display.Javascript object>"
            ],
            "application/javascript": [
              "window[\"15ccac96-9c70-11ef-9857-0242ac1c000c\"] = google.colab.output.getActiveOutputArea();\n",
              "//# sourceURL=js_c893d5c54b"
            ]
          },
          "metadata": {}
        },
        {
          "output_type": "display_data",
          "data": {
            "text/plain": [
              "<IPython.core.display.Javascript object>"
            ],
            "application/javascript": [
              "window[\"15ccfbc4-9c70-11ef-9857-0242ac1c000c\"] = document.querySelector(\"#id38-0-1\");\n",
              "//# sourceURL=js_819afbbbf9"
            ]
          },
          "metadata": {}
        },
        {
          "output_type": "display_data",
          "data": {
            "text/plain": [
              "<IPython.core.display.Javascript object>"
            ],
            "application/javascript": [
              "window[\"15cd4d7c-9c70-11ef-9857-0242ac1c000c\"] = google.colab.output.setActiveOutputArea(window[\"15ccfbc4-9c70-11ef-9857-0242ac1c000c\"]);\n",
              "//# sourceURL=js_87d082d2f7"
            ]
          },
          "metadata": {}
        },
        {
          "output_type": "stream",
          "name": "stdout",
          "text": [
            "w= 640 h= 480\n"
          ]
        },
        {
          "output_type": "display_data",
          "data": {
            "text/plain": [
              "<IPython.core.display.Javascript object>"
            ],
            "application/javascript": [
              "window[\"15ea3040-9c70-11ef-9857-0242ac1c000c\"] = google.colab.output.setActiveOutputArea(window[\"15ccac96-9c70-11ef-9857-0242ac1c000c\"]);\n",
              "//# sourceURL=js_6951ea1537"
            ]
          },
          "metadata": {}
        },
        {
          "output_type": "display_data",
          "data": {
            "text/plain": [
              "<IPython.core.display.Javascript object>"
            ],
            "application/javascript": [
              "window[\"15ec8188-9c70-11ef-9857-0242ac1c000c\"] = google.colab.output.getActiveOutputArea();\n",
              "//# sourceURL=js_ead6b5a409"
            ]
          },
          "metadata": {}
        },
        {
          "output_type": "display_data",
          "data": {
            "text/plain": [
              "<IPython.core.display.Javascript object>"
            ],
            "application/javascript": [
              "window[\"15ecf050-9c70-11ef-9857-0242ac1c000c\"] = document.querySelector(\"#id38-1-0\");\n",
              "//# sourceURL=js_eba6880381"
            ]
          },
          "metadata": {}
        },
        {
          "output_type": "display_data",
          "data": {
            "text/plain": [
              "<IPython.core.display.Javascript object>"
            ],
            "application/javascript": [
              "window[\"15ed716a-9c70-11ef-9857-0242ac1c000c\"] = google.colab.output.setActiveOutputArea(window[\"15ecf050-9c70-11ef-9857-0242ac1c000c\"]);\n",
              "//# sourceURL=js_2cba23f3ce"
            ]
          },
          "metadata": {}
        },
        {
          "output_type": "stream",
          "name": "stdout",
          "text": [
            "w= 640 h= 480\n"
          ]
        },
        {
          "output_type": "display_data",
          "data": {
            "text/plain": [
              "<IPython.core.display.Javascript object>"
            ],
            "application/javascript": [
              "window[\"160855c0-9c70-11ef-9857-0242ac1c000c\"] = google.colab.output.setActiveOutputArea(window[\"15ec8188-9c70-11ef-9857-0242ac1c000c\"]);\n",
              "//# sourceURL=js_5026181fe0"
            ]
          },
          "metadata": {}
        },
        {
          "output_type": "display_data",
          "data": {
            "text/plain": [
              "<IPython.core.display.Javascript object>"
            ],
            "application/javascript": [
              "window[\"160ad098-9c70-11ef-9857-0242ac1c000c\"] = google.colab.output.getActiveOutputArea();\n",
              "//# sourceURL=js_2ba4b9cf9c"
            ]
          },
          "metadata": {}
        },
        {
          "output_type": "display_data",
          "data": {
            "text/plain": [
              "<IPython.core.display.Javascript object>"
            ],
            "application/javascript": [
              "window[\"160b1f44-9c70-11ef-9857-0242ac1c000c\"] = document.querySelector(\"#id38-1-1\");\n",
              "//# sourceURL=js_9dd35046ea"
            ]
          },
          "metadata": {}
        },
        {
          "output_type": "display_data",
          "data": {
            "text/plain": [
              "<IPython.core.display.Javascript object>"
            ],
            "application/javascript": [
              "window[\"160b7908-9c70-11ef-9857-0242ac1c000c\"] = google.colab.output.setActiveOutputArea(window[\"160b1f44-9c70-11ef-9857-0242ac1c000c\"]);\n",
              "//# sourceURL=js_f2881d10c1"
            ]
          },
          "metadata": {}
        },
        {
          "output_type": "stream",
          "name": "stdout",
          "text": [
            "w= 640 h= 480\n"
          ]
        },
        {
          "output_type": "display_data",
          "data": {
            "text/plain": [
              "<IPython.core.display.Javascript object>"
            ],
            "application/javascript": [
              "window[\"16217082-9c70-11ef-9857-0242ac1c000c\"] = google.colab.output.setActiveOutputArea(window[\"160ad098-9c70-11ef-9857-0242ac1c000c\"]);\n",
              "//# sourceURL=js_2632cdba94"
            ]
          },
          "metadata": {}
        },
        {
          "output_type": "display_data",
          "data": {
            "text/plain": [
              "<IPython.core.display.HTML object>"
            ],
            "text/html": [
              "<style>\n",
              "       table#id40, #id40 > tbody > tr > th, #id40 > tbody > tr > td {\n",
              "         border: 1px solid lightgray;\n",
              "         border-collapse:collapse;\n",
              "         \n",
              "        }</style>"
            ]
          },
          "metadata": {}
        },
        {
          "output_type": "display_data",
          "data": {
            "text/plain": [
              "<IPython.core.display.HTML object>"
            ],
            "text/html": [
              "<table id=id40><tr><td id=id40-0-0></td><td id=id40-0-1></td></tr><tr><td id=id40-1-0></td><td id=id40-1-1></td></tr></table>"
            ]
          },
          "metadata": {}
        },
        {
          "output_type": "display_data",
          "data": {
            "text/plain": [
              "<IPython.core.display.Javascript object>"
            ],
            "application/javascript": [
              "window[\"162496f4-9c70-11ef-9857-0242ac1c000c\"] = google.colab.output.getActiveOutputArea();\n",
              "//# sourceURL=js_b474c8a71c"
            ]
          },
          "metadata": {}
        },
        {
          "output_type": "display_data",
          "data": {
            "text/plain": [
              "<IPython.core.display.Javascript object>"
            ],
            "application/javascript": [
              "window[\"1624dea2-9c70-11ef-9857-0242ac1c000c\"] = document.querySelector(\"#id40-0-0\");\n",
              "//# sourceURL=js_0d35559cb6"
            ]
          },
          "metadata": {}
        },
        {
          "output_type": "display_data",
          "data": {
            "text/plain": [
              "<IPython.core.display.Javascript object>"
            ],
            "application/javascript": [
              "window[\"1625261e-9c70-11ef-9857-0242ac1c000c\"] = google.colab.output.setActiveOutputArea(window[\"1624dea2-9c70-11ef-9857-0242ac1c000c\"]);\n",
              "//# sourceURL=js_b73b26e53d"
            ]
          },
          "metadata": {}
        },
        {
          "output_type": "stream",
          "name": "stdout",
          "text": [
            "w= 640 h= 480\n"
          ]
        },
        {
          "output_type": "display_data",
          "data": {
            "text/plain": [
              "<IPython.core.display.Javascript object>"
            ],
            "application/javascript": [
              "window[\"163cadd4-9c70-11ef-9857-0242ac1c000c\"] = google.colab.output.setActiveOutputArea(window[\"162496f4-9c70-11ef-9857-0242ac1c000c\"]);\n",
              "//# sourceURL=js_edde316b3b"
            ]
          },
          "metadata": {}
        },
        {
          "output_type": "display_data",
          "data": {
            "text/plain": [
              "<IPython.core.display.Javascript object>"
            ],
            "application/javascript": [
              "window[\"163e8ffa-9c70-11ef-9857-0242ac1c000c\"] = google.colab.output.getActiveOutputArea();\n",
              "//# sourceURL=js_6e73590c94"
            ]
          },
          "metadata": {}
        },
        {
          "output_type": "display_data",
          "data": {
            "text/plain": [
              "<IPython.core.display.Javascript object>"
            ],
            "application/javascript": [
              "window[\"163ed9ec-9c70-11ef-9857-0242ac1c000c\"] = document.querySelector(\"#id40-0-1\");\n",
              "//# sourceURL=js_71212590a9"
            ]
          },
          "metadata": {}
        },
        {
          "output_type": "display_data",
          "data": {
            "text/plain": [
              "<IPython.core.display.Javascript object>"
            ],
            "application/javascript": [
              "window[\"163f21cc-9c70-11ef-9857-0242ac1c000c\"] = google.colab.output.setActiveOutputArea(window[\"163ed9ec-9c70-11ef-9857-0242ac1c000c\"]);\n",
              "//# sourceURL=js_4e581b4a2a"
            ]
          },
          "metadata": {}
        },
        {
          "output_type": "stream",
          "name": "stdout",
          "text": [
            "w= 640 h= 480\n"
          ]
        },
        {
          "output_type": "display_data",
          "data": {
            "text/plain": [
              "<IPython.core.display.Javascript object>"
            ],
            "application/javascript": [
              "window[\"1656070c-9c70-11ef-9857-0242ac1c000c\"] = google.colab.output.setActiveOutputArea(window[\"163e8ffa-9c70-11ef-9857-0242ac1c000c\"]);\n",
              "//# sourceURL=js_60607e4a69"
            ]
          },
          "metadata": {}
        },
        {
          "output_type": "display_data",
          "data": {
            "text/plain": [
              "<IPython.core.display.Javascript object>"
            ],
            "application/javascript": [
              "window[\"1657fba2-9c70-11ef-9857-0242ac1c000c\"] = google.colab.output.getActiveOutputArea();\n",
              "//# sourceURL=js_0ca1c238ca"
            ]
          },
          "metadata": {}
        },
        {
          "output_type": "display_data",
          "data": {
            "text/plain": [
              "<IPython.core.display.Javascript object>"
            ],
            "application/javascript": [
              "window[\"16585048-9c70-11ef-9857-0242ac1c000c\"] = document.querySelector(\"#id40-1-0\");\n",
              "//# sourceURL=js_d01e1469e4"
            ]
          },
          "metadata": {}
        },
        {
          "output_type": "display_data",
          "data": {
            "text/plain": [
              "<IPython.core.display.Javascript object>"
            ],
            "application/javascript": [
              "window[\"16589e40-9c70-11ef-9857-0242ac1c000c\"] = google.colab.output.setActiveOutputArea(window[\"16585048-9c70-11ef-9857-0242ac1c000c\"]);\n",
              "//# sourceURL=js_0ff15ab91e"
            ]
          },
          "metadata": {}
        },
        {
          "output_type": "stream",
          "name": "stdout",
          "text": [
            "w= 640 h= 480\n"
          ]
        },
        {
          "output_type": "display_data",
          "data": {
            "text/plain": [
              "<IPython.core.display.Javascript object>"
            ],
            "application/javascript": [
              "window[\"167314f0-9c70-11ef-9857-0242ac1c000c\"] = google.colab.output.setActiveOutputArea(window[\"1657fba2-9c70-11ef-9857-0242ac1c000c\"]);\n",
              "//# sourceURL=js_ad6eb93485"
            ]
          },
          "metadata": {}
        },
        {
          "output_type": "display_data",
          "data": {
            "text/plain": [
              "<IPython.core.display.Javascript object>"
            ],
            "application/javascript": [
              "window[\"1675990a-9c70-11ef-9857-0242ac1c000c\"] = google.colab.output.getActiveOutputArea();\n",
              "//# sourceURL=js_a36d0288c5"
            ]
          },
          "metadata": {}
        },
        {
          "output_type": "display_data",
          "data": {
            "text/plain": [
              "<IPython.core.display.Javascript object>"
            ],
            "application/javascript": [
              "window[\"1675f31e-9c70-11ef-9857-0242ac1c000c\"] = document.querySelector(\"#id40-1-1\");\n",
              "//# sourceURL=js_a6679897e3"
            ]
          },
          "metadata": {}
        },
        {
          "output_type": "display_data",
          "data": {
            "text/plain": [
              "<IPython.core.display.Javascript object>"
            ],
            "application/javascript": [
              "window[\"167641ac-9c70-11ef-9857-0242ac1c000c\"] = google.colab.output.setActiveOutputArea(window[\"1675f31e-9c70-11ef-9857-0242ac1c000c\"]);\n",
              "//# sourceURL=js_4d06867235"
            ]
          },
          "metadata": {}
        },
        {
          "output_type": "stream",
          "name": "stdout",
          "text": [
            "w= 640 h= 480\n"
          ]
        },
        {
          "output_type": "display_data",
          "data": {
            "text/plain": [
              "<IPython.core.display.Javascript object>"
            ],
            "application/javascript": [
              "window[\"16923c0e-9c70-11ef-9857-0242ac1c000c\"] = google.colab.output.setActiveOutputArea(window[\"1675990a-9c70-11ef-9857-0242ac1c000c\"]);\n",
              "//# sourceURL=js_c5dcff4188"
            ]
          },
          "metadata": {}
        },
        {
          "output_type": "display_data",
          "data": {
            "text/plain": [
              "<IPython.core.display.HTML object>"
            ],
            "text/html": [
              "<style>\n",
              "       table#id42, #id42 > tbody > tr > th, #id42 > tbody > tr > td {\n",
              "         border: 1px solid lightgray;\n",
              "         border-collapse:collapse;\n",
              "         \n",
              "        }</style>"
            ]
          },
          "metadata": {}
        },
        {
          "output_type": "display_data",
          "data": {
            "text/plain": [
              "<IPython.core.display.HTML object>"
            ],
            "text/html": [
              "<table id=id42><tr><td id=id42-0-0></td><td id=id42-0-1></td></tr><tr><td id=id42-1-0></td><td id=id42-1-1></td></tr></table>"
            ]
          },
          "metadata": {}
        },
        {
          "output_type": "display_data",
          "data": {
            "text/plain": [
              "<IPython.core.display.Javascript object>"
            ],
            "application/javascript": [
              "window[\"169748fc-9c70-11ef-9857-0242ac1c000c\"] = google.colab.output.getActiveOutputArea();\n",
              "//# sourceURL=js_2d22a1caf6"
            ]
          },
          "metadata": {}
        },
        {
          "output_type": "display_data",
          "data": {
            "text/plain": [
              "<IPython.core.display.Javascript object>"
            ],
            "application/javascript": [
              "window[\"16978f38-9c70-11ef-9857-0242ac1c000c\"] = document.querySelector(\"#id42-0-0\");\n",
              "//# sourceURL=js_80fdbdb77f"
            ]
          },
          "metadata": {}
        },
        {
          "output_type": "display_data",
          "data": {
            "text/plain": [
              "<IPython.core.display.Javascript object>"
            ],
            "application/javascript": [
              "window[\"1697d556-9c70-11ef-9857-0242ac1c000c\"] = google.colab.output.setActiveOutputArea(window[\"16978f38-9c70-11ef-9857-0242ac1c000c\"]);\n",
              "//# sourceURL=js_05415f5479"
            ]
          },
          "metadata": {}
        },
        {
          "output_type": "stream",
          "name": "stdout",
          "text": [
            "w= 640 h= 480\n"
          ]
        },
        {
          "output_type": "display_data",
          "data": {
            "text/plain": [
              "<IPython.core.display.Javascript object>"
            ],
            "application/javascript": [
              "window[\"16b1849c-9c70-11ef-9857-0242ac1c000c\"] = google.colab.output.setActiveOutputArea(window[\"169748fc-9c70-11ef-9857-0242ac1c000c\"]);\n",
              "//# sourceURL=js_bc953a3716"
            ]
          },
          "metadata": {}
        },
        {
          "output_type": "display_data",
          "data": {
            "text/plain": [
              "<IPython.core.display.Javascript object>"
            ],
            "application/javascript": [
              "window[\"16b3ef2a-9c70-11ef-9857-0242ac1c000c\"] = google.colab.output.getActiveOutputArea();\n",
              "//# sourceURL=js_508e183ed3"
            ]
          },
          "metadata": {}
        },
        {
          "output_type": "display_data",
          "data": {
            "text/plain": [
              "<IPython.core.display.Javascript object>"
            ],
            "application/javascript": [
              "window[\"16b44312-9c70-11ef-9857-0242ac1c000c\"] = document.querySelector(\"#id42-0-1\");\n",
              "//# sourceURL=js_3bfd606a27"
            ]
          },
          "metadata": {}
        },
        {
          "output_type": "display_data",
          "data": {
            "text/plain": [
              "<IPython.core.display.Javascript object>"
            ],
            "application/javascript": [
              "window[\"16b4b9fa-9c70-11ef-9857-0242ac1c000c\"] = google.colab.output.setActiveOutputArea(window[\"16b44312-9c70-11ef-9857-0242ac1c000c\"]);\n",
              "//# sourceURL=js_8b341a18f2"
            ]
          },
          "metadata": {}
        },
        {
          "output_type": "stream",
          "name": "stdout",
          "text": [
            "w= 640 h= 480\n"
          ]
        },
        {
          "output_type": "display_data",
          "data": {
            "text/plain": [
              "<IPython.core.display.Javascript object>"
            ],
            "application/javascript": [
              "window[\"16ca838e-9c70-11ef-9857-0242ac1c000c\"] = google.colab.output.setActiveOutputArea(window[\"16b3ef2a-9c70-11ef-9857-0242ac1c000c\"]);\n",
              "//# sourceURL=js_035addff92"
            ]
          },
          "metadata": {}
        },
        {
          "output_type": "display_data",
          "data": {
            "text/plain": [
              "<IPython.core.display.Javascript object>"
            ],
            "application/javascript": [
              "window[\"16ccd274-9c70-11ef-9857-0242ac1c000c\"] = google.colab.output.getActiveOutputArea();\n",
              "//# sourceURL=js_82529e2b6b"
            ]
          },
          "metadata": {}
        },
        {
          "output_type": "display_data",
          "data": {
            "text/plain": [
              "<IPython.core.display.Javascript object>"
            ],
            "application/javascript": [
              "window[\"16cd1cfc-9c70-11ef-9857-0242ac1c000c\"] = document.querySelector(\"#id42-1-0\");\n",
              "//# sourceURL=js_7545fc57b7"
            ]
          },
          "metadata": {}
        },
        {
          "output_type": "display_data",
          "data": {
            "text/plain": [
              "<IPython.core.display.Javascript object>"
            ],
            "application/javascript": [
              "window[\"16cd602c-9c70-11ef-9857-0242ac1c000c\"] = google.colab.output.setActiveOutputArea(window[\"16cd1cfc-9c70-11ef-9857-0242ac1c000c\"]);\n",
              "//# sourceURL=js_b1a1c4fe86"
            ]
          },
          "metadata": {}
        },
        {
          "output_type": "stream",
          "name": "stdout",
          "text": [
            "w= 640 h= 480\n"
          ]
        },
        {
          "output_type": "display_data",
          "data": {
            "text/plain": [
              "<IPython.core.display.Javascript object>"
            ],
            "application/javascript": [
              "window[\"16e3bd68-9c70-11ef-9857-0242ac1c000c\"] = google.colab.output.setActiveOutputArea(window[\"16ccd274-9c70-11ef-9857-0242ac1c000c\"]);\n",
              "//# sourceURL=js_aa7517e0d9"
            ]
          },
          "metadata": {}
        },
        {
          "output_type": "display_data",
          "data": {
            "text/plain": [
              "<IPython.core.display.Javascript object>"
            ],
            "application/javascript": [
              "window[\"16e5d3f0-9c70-11ef-9857-0242ac1c000c\"] = google.colab.output.getActiveOutputArea();\n",
              "//# sourceURL=js_3dc0bf5808"
            ]
          },
          "metadata": {}
        },
        {
          "output_type": "display_data",
          "data": {
            "text/plain": [
              "<IPython.core.display.Javascript object>"
            ],
            "application/javascript": [
              "window[\"16e6aa28-9c70-11ef-9857-0242ac1c000c\"] = document.querySelector(\"#id42-1-1\");\n",
              "//# sourceURL=js_06108d0197"
            ]
          },
          "metadata": {}
        },
        {
          "output_type": "display_data",
          "data": {
            "text/plain": [
              "<IPython.core.display.Javascript object>"
            ],
            "application/javascript": [
              "window[\"16e7d178-9c70-11ef-9857-0242ac1c000c\"] = google.colab.output.setActiveOutputArea(window[\"16e6aa28-9c70-11ef-9857-0242ac1c000c\"]);\n",
              "//# sourceURL=js_cdf746085e"
            ]
          },
          "metadata": {}
        },
        {
          "output_type": "stream",
          "name": "stdout",
          "text": [
            "w= 640 h= 480\n"
          ]
        },
        {
          "output_type": "display_data",
          "data": {
            "text/plain": [
              "<IPython.core.display.Javascript object>"
            ],
            "application/javascript": [
              "window[\"16fed616-9c70-11ef-9857-0242ac1c000c\"] = google.colab.output.setActiveOutputArea(window[\"16e5d3f0-9c70-11ef-9857-0242ac1c000c\"]);\n",
              "//# sourceURL=js_0b199667b8"
            ]
          },
          "metadata": {}
        },
        {
          "output_type": "display_data",
          "data": {
            "text/plain": [
              "<IPython.core.display.HTML object>"
            ],
            "text/html": [
              "<style>\n",
              "       table#id44, #id44 > tbody > tr > th, #id44 > tbody > tr > td {\n",
              "         border: 1px solid lightgray;\n",
              "         border-collapse:collapse;\n",
              "         \n",
              "        }</style>"
            ]
          },
          "metadata": {}
        },
        {
          "output_type": "display_data",
          "data": {
            "text/plain": [
              "<IPython.core.display.HTML object>"
            ],
            "text/html": [
              "<table id=id44><tr><td id=id44-0-0></td><td id=id44-0-1></td></tr><tr><td id=id44-1-0></td><td id=id44-1-1></td></tr></table>"
            ]
          },
          "metadata": {}
        },
        {
          "output_type": "display_data",
          "data": {
            "text/plain": [
              "<IPython.core.display.Javascript object>"
            ],
            "application/javascript": [
              "window[\"1703f560-9c70-11ef-9857-0242ac1c000c\"] = google.colab.output.getActiveOutputArea();\n",
              "//# sourceURL=js_2431c5162f"
            ]
          },
          "metadata": {}
        },
        {
          "output_type": "display_data",
          "data": {
            "text/plain": [
              "<IPython.core.display.Javascript object>"
            ],
            "application/javascript": [
              "window[\"1705ea1e-9c70-11ef-9857-0242ac1c000c\"] = document.querySelector(\"#id44-0-0\");\n",
              "//# sourceURL=js_99470ecddd"
            ]
          },
          "metadata": {}
        },
        {
          "output_type": "display_data",
          "data": {
            "text/plain": [
              "<IPython.core.display.Javascript object>"
            ],
            "application/javascript": [
              "window[\"170653a0-9c70-11ef-9857-0242ac1c000c\"] = google.colab.output.setActiveOutputArea(window[\"1705ea1e-9c70-11ef-9857-0242ac1c000c\"]);\n",
              "//# sourceURL=js_e202e99102"
            ]
          },
          "metadata": {}
        },
        {
          "output_type": "stream",
          "name": "stdout",
          "text": [
            "w= 640 h= 480\n"
          ]
        },
        {
          "output_type": "display_data",
          "data": {
            "text/plain": [
              "<IPython.core.display.Javascript object>"
            ],
            "application/javascript": [
              "window[\"17205bc4-9c70-11ef-9857-0242ac1c000c\"] = google.colab.output.setActiveOutputArea(window[\"1703f560-9c70-11ef-9857-0242ac1c000c\"]);\n",
              "//# sourceURL=js_80aa2d51fb"
            ]
          },
          "metadata": {}
        },
        {
          "output_type": "display_data",
          "data": {
            "text/plain": [
              "<IPython.core.display.Javascript object>"
            ],
            "application/javascript": [
              "window[\"1723ca20-9c70-11ef-9857-0242ac1c000c\"] = google.colab.output.getActiveOutputArea();\n",
              "//# sourceURL=js_2c5820c0b1"
            ]
          },
          "metadata": {}
        },
        {
          "output_type": "display_data",
          "data": {
            "text/plain": [
              "<IPython.core.display.Javascript object>"
            ],
            "application/javascript": [
              "window[\"17245eea-9c70-11ef-9857-0242ac1c000c\"] = document.querySelector(\"#id44-0-1\");\n",
              "//# sourceURL=js_684a206879"
            ]
          },
          "metadata": {}
        },
        {
          "output_type": "display_data",
          "data": {
            "text/plain": [
              "<IPython.core.display.Javascript object>"
            ],
            "application/javascript": [
              "window[\"1724f4a4-9c70-11ef-9857-0242ac1c000c\"] = google.colab.output.setActiveOutputArea(window[\"17245eea-9c70-11ef-9857-0242ac1c000c\"]);\n",
              "//# sourceURL=js_a29d2142c5"
            ]
          },
          "metadata": {}
        },
        {
          "output_type": "stream",
          "name": "stdout",
          "text": [
            "w= 640 h= 480\n"
          ]
        },
        {
          "output_type": "display_data",
          "data": {
            "text/plain": [
              "<IPython.core.display.Javascript object>"
            ],
            "application/javascript": [
              "window[\"1752a67e-9c70-11ef-9857-0242ac1c000c\"] = google.colab.output.setActiveOutputArea(window[\"1723ca20-9c70-11ef-9857-0242ac1c000c\"]);\n",
              "//# sourceURL=js_2dadc2ec77"
            ]
          },
          "metadata": {}
        },
        {
          "output_type": "display_data",
          "data": {
            "text/plain": [
              "<IPython.core.display.Javascript object>"
            ],
            "application/javascript": [
              "window[\"1754d9e4-9c70-11ef-9857-0242ac1c000c\"] = google.colab.output.getActiveOutputArea();\n",
              "//# sourceURL=js_c09982d4c5"
            ]
          },
          "metadata": {}
        },
        {
          "output_type": "display_data",
          "data": {
            "text/plain": [
              "<IPython.core.display.Javascript object>"
            ],
            "application/javascript": [
              "window[\"17552426-9c70-11ef-9857-0242ac1c000c\"] = document.querySelector(\"#id44-1-0\");\n",
              "//# sourceURL=js_32da3fefb9"
            ]
          },
          "metadata": {}
        },
        {
          "output_type": "display_data",
          "data": {
            "text/plain": [
              "<IPython.core.display.Javascript object>"
            ],
            "application/javascript": [
              "window[\"1755fcac-9c70-11ef-9857-0242ac1c000c\"] = google.colab.output.setActiveOutputArea(window[\"17552426-9c70-11ef-9857-0242ac1c000c\"]);\n",
              "//# sourceURL=js_045aa66e2a"
            ]
          },
          "metadata": {}
        },
        {
          "output_type": "stream",
          "name": "stdout",
          "text": [
            "w= 640 h= 480\n"
          ]
        },
        {
          "output_type": "display_data",
          "data": {
            "text/plain": [
              "<IPython.core.display.Javascript object>"
            ],
            "application/javascript": [
              "window[\"176cad3a-9c70-11ef-9857-0242ac1c000c\"] = google.colab.output.setActiveOutputArea(window[\"1754d9e4-9c70-11ef-9857-0242ac1c000c\"]);\n",
              "//# sourceURL=js_612984592c"
            ]
          },
          "metadata": {}
        },
        {
          "output_type": "display_data",
          "data": {
            "text/plain": [
              "<IPython.core.display.Javascript object>"
            ],
            "application/javascript": [
              "window[\"176efb4e-9c70-11ef-9857-0242ac1c000c\"] = google.colab.output.getActiveOutputArea();\n",
              "//# sourceURL=js_fe447fecb6"
            ]
          },
          "metadata": {}
        },
        {
          "output_type": "display_data",
          "data": {
            "text/plain": [
              "<IPython.core.display.Javascript object>"
            ],
            "application/javascript": [
              "window[\"176f4a86-9c70-11ef-9857-0242ac1c000c\"] = document.querySelector(\"#id44-1-1\");\n",
              "//# sourceURL=js_95656f9195"
            ]
          },
          "metadata": {}
        },
        {
          "output_type": "display_data",
          "data": {
            "text/plain": [
              "<IPython.core.display.Javascript object>"
            ],
            "application/javascript": [
              "window[\"176f8f82-9c70-11ef-9857-0242ac1c000c\"] = google.colab.output.setActiveOutputArea(window[\"176f4a86-9c70-11ef-9857-0242ac1c000c\"]);\n",
              "//# sourceURL=js_21e4e40604"
            ]
          },
          "metadata": {}
        },
        {
          "output_type": "stream",
          "name": "stdout",
          "text": [
            "w= 640 h= 480\n"
          ]
        },
        {
          "output_type": "display_data",
          "data": {
            "text/plain": [
              "<IPython.core.display.Javascript object>"
            ],
            "application/javascript": [
              "window[\"1785b92e-9c70-11ef-9857-0242ac1c000c\"] = google.colab.output.setActiveOutputArea(window[\"176efb4e-9c70-11ef-9857-0242ac1c000c\"]);\n",
              "//# sourceURL=js_31b66f3fd6"
            ]
          },
          "metadata": {}
        },
        {
          "output_type": "display_data",
          "data": {
            "text/plain": [
              "<IPython.core.display.HTML object>"
            ],
            "text/html": [
              "<style>\n",
              "       table#id46, #id46 > tbody > tr > th, #id46 > tbody > tr > td {\n",
              "         border: 1px solid lightgray;\n",
              "         border-collapse:collapse;\n",
              "         \n",
              "        }</style>"
            ]
          },
          "metadata": {}
        },
        {
          "output_type": "display_data",
          "data": {
            "text/plain": [
              "<IPython.core.display.HTML object>"
            ],
            "text/html": [
              "<table id=id46><tr><td id=id46-0-0></td><td id=id46-0-1></td></tr><tr><td id=id46-1-0></td><td id=id46-1-1></td></tr></table>"
            ]
          },
          "metadata": {}
        },
        {
          "output_type": "display_data",
          "data": {
            "text/plain": [
              "<IPython.core.display.Javascript object>"
            ],
            "application/javascript": [
              "window[\"178886b8-9c70-11ef-9857-0242ac1c000c\"] = google.colab.output.getActiveOutputArea();\n",
              "//# sourceURL=js_25f527de63"
            ]
          },
          "metadata": {}
        },
        {
          "output_type": "display_data",
          "data": {
            "text/plain": [
              "<IPython.core.display.Javascript object>"
            ],
            "application/javascript": [
              "window[\"1788c8ee-9c70-11ef-9857-0242ac1c000c\"] = document.querySelector(\"#id46-0-0\");\n",
              "//# sourceURL=js_c6d4c5e9ad"
            ]
          },
          "metadata": {}
        },
        {
          "output_type": "display_data",
          "data": {
            "text/plain": [
              "<IPython.core.display.Javascript object>"
            ],
            "application/javascript": [
              "window[\"17890c6e-9c70-11ef-9857-0242ac1c000c\"] = google.colab.output.setActiveOutputArea(window[\"1788c8ee-9c70-11ef-9857-0242ac1c000c\"]);\n",
              "//# sourceURL=js_de4279dd74"
            ]
          },
          "metadata": {}
        },
        {
          "output_type": "stream",
          "name": "stdout",
          "text": [
            "w= 640 h= 480\n"
          ]
        },
        {
          "output_type": "display_data",
          "data": {
            "text/plain": [
              "<IPython.core.display.Javascript object>"
            ],
            "application/javascript": [
              "window[\"17a2d34c-9c70-11ef-9857-0242ac1c000c\"] = google.colab.output.setActiveOutputArea(window[\"178886b8-9c70-11ef-9857-0242ac1c000c\"]);\n",
              "//# sourceURL=js_208faea265"
            ]
          },
          "metadata": {}
        },
        {
          "output_type": "display_data",
          "data": {
            "text/plain": [
              "<IPython.core.display.Javascript object>"
            ],
            "application/javascript": [
              "window[\"17a4fb5e-9c70-11ef-9857-0242ac1c000c\"] = google.colab.output.getActiveOutputArea();\n",
              "//# sourceURL=js_8acde17f1f"
            ]
          },
          "metadata": {}
        },
        {
          "output_type": "display_data",
          "data": {
            "text/plain": [
              "<IPython.core.display.Javascript object>"
            ],
            "application/javascript": [
              "window[\"17a54e24-9c70-11ef-9857-0242ac1c000c\"] = document.querySelector(\"#id46-0-1\");\n",
              "//# sourceURL=js_5a47ab8b2f"
            ]
          },
          "metadata": {}
        },
        {
          "output_type": "display_data",
          "data": {
            "text/plain": [
              "<IPython.core.display.Javascript object>"
            ],
            "application/javascript": [
              "window[\"17a596e0-9c70-11ef-9857-0242ac1c000c\"] = google.colab.output.setActiveOutputArea(window[\"17a54e24-9c70-11ef-9857-0242ac1c000c\"]);\n",
              "//# sourceURL=js_3a10fc6590"
            ]
          },
          "metadata": {}
        },
        {
          "output_type": "stream",
          "name": "stdout",
          "text": [
            "w= 640 h= 480\n"
          ]
        },
        {
          "output_type": "display_data",
          "data": {
            "text/plain": [
              "<IPython.core.display.Javascript object>"
            ],
            "application/javascript": [
              "window[\"17be9474-9c70-11ef-9857-0242ac1c000c\"] = google.colab.output.setActiveOutputArea(window[\"17a4fb5e-9c70-11ef-9857-0242ac1c000c\"]);\n",
              "//# sourceURL=js_8512752ac0"
            ]
          },
          "metadata": {}
        },
        {
          "output_type": "display_data",
          "data": {
            "text/plain": [
              "<IPython.core.display.Javascript object>"
            ],
            "application/javascript": [
              "window[\"17c0b8bc-9c70-11ef-9857-0242ac1c000c\"] = google.colab.output.getActiveOutputArea();\n",
              "//# sourceURL=js_31feb69d84"
            ]
          },
          "metadata": {}
        },
        {
          "output_type": "display_data",
          "data": {
            "text/plain": [
              "<IPython.core.display.Javascript object>"
            ],
            "application/javascript": [
              "window[\"17c10b0a-9c70-11ef-9857-0242ac1c000c\"] = document.querySelector(\"#id46-1-0\");\n",
              "//# sourceURL=js_b52c01d7fd"
            ]
          },
          "metadata": {}
        },
        {
          "output_type": "display_data",
          "data": {
            "text/plain": [
              "<IPython.core.display.Javascript object>"
            ],
            "application/javascript": [
              "window[\"17c15b78-9c70-11ef-9857-0242ac1c000c\"] = google.colab.output.setActiveOutputArea(window[\"17c10b0a-9c70-11ef-9857-0242ac1c000c\"]);\n",
              "//# sourceURL=js_b7a686b7cd"
            ]
          },
          "metadata": {}
        },
        {
          "output_type": "stream",
          "name": "stdout",
          "text": [
            "w= 640 h= 480\n"
          ]
        },
        {
          "output_type": "display_data",
          "data": {
            "text/plain": [
              "<IPython.core.display.Javascript object>"
            ],
            "application/javascript": [
              "window[\"17dbc814-9c70-11ef-9857-0242ac1c000c\"] = google.colab.output.setActiveOutputArea(window[\"17c0b8bc-9c70-11ef-9857-0242ac1c000c\"]);\n",
              "//# sourceURL=js_188242f82e"
            ]
          },
          "metadata": {}
        },
        {
          "output_type": "display_data",
          "data": {
            "text/plain": [
              "<IPython.core.display.Javascript object>"
            ],
            "application/javascript": [
              "window[\"17de1dda-9c70-11ef-9857-0242ac1c000c\"] = google.colab.output.getActiveOutputArea();\n",
              "//# sourceURL=js_4fdfbac5c7"
            ]
          },
          "metadata": {}
        },
        {
          "output_type": "display_data",
          "data": {
            "text/plain": [
              "<IPython.core.display.Javascript object>"
            ],
            "application/javascript": [
              "window[\"17de6290-9c70-11ef-9857-0242ac1c000c\"] = document.querySelector(\"#id46-1-1\");\n",
              "//# sourceURL=js_be2eba076a"
            ]
          },
          "metadata": {}
        },
        {
          "output_type": "display_data",
          "data": {
            "text/plain": [
              "<IPython.core.display.Javascript object>"
            ],
            "application/javascript": [
              "window[\"17dec316-9c70-11ef-9857-0242ac1c000c\"] = google.colab.output.setActiveOutputArea(window[\"17de6290-9c70-11ef-9857-0242ac1c000c\"]);\n",
              "//# sourceURL=js_a5e23f86c7"
            ]
          },
          "metadata": {}
        },
        {
          "output_type": "stream",
          "name": "stdout",
          "text": [
            "w= 640 h= 480\n"
          ]
        },
        {
          "output_type": "display_data",
          "data": {
            "text/plain": [
              "<IPython.core.display.Javascript object>"
            ],
            "application/javascript": [
              "window[\"17f56bfc-9c70-11ef-9857-0242ac1c000c\"] = google.colab.output.setActiveOutputArea(window[\"17de1dda-9c70-11ef-9857-0242ac1c000c\"]);\n",
              "//# sourceURL=js_c57d938000"
            ]
          },
          "metadata": {}
        },
        {
          "output_type": "display_data",
          "data": {
            "text/plain": [
              "<IPython.core.display.HTML object>"
            ],
            "text/html": [
              "<style>\n",
              "       table#id48, #id48 > tbody > tr > th, #id48 > tbody > tr > td {\n",
              "         border: 1px solid lightgray;\n",
              "         border-collapse:collapse;\n",
              "         \n",
              "        }</style>"
            ]
          },
          "metadata": {}
        },
        {
          "output_type": "display_data",
          "data": {
            "text/plain": [
              "<IPython.core.display.HTML object>"
            ],
            "text/html": [
              "<table id=id48><tr><td id=id48-0-0></td><td id=id48-0-1></td></tr><tr><td id=id48-1-0></td><td id=id48-1-1></td></tr></table>"
            ]
          },
          "metadata": {}
        },
        {
          "output_type": "display_data",
          "data": {
            "text/plain": [
              "<IPython.core.display.Javascript object>"
            ],
            "application/javascript": [
              "window[\"17fa7ade-9c70-11ef-9857-0242ac1c000c\"] = google.colab.output.getActiveOutputArea();\n",
              "//# sourceURL=js_3b0d258b25"
            ]
          },
          "metadata": {}
        },
        {
          "output_type": "display_data",
          "data": {
            "text/plain": [
              "<IPython.core.display.Javascript object>"
            ],
            "application/javascript": [
              "window[\"17fac1b0-9c70-11ef-9857-0242ac1c000c\"] = document.querySelector(\"#id48-0-0\");\n",
              "//# sourceURL=js_da48698e41"
            ]
          },
          "metadata": {}
        },
        {
          "output_type": "display_data",
          "data": {
            "text/plain": [
              "<IPython.core.display.Javascript object>"
            ],
            "application/javascript": [
              "window[\"17fb0828-9c70-11ef-9857-0242ac1c000c\"] = google.colab.output.setActiveOutputArea(window[\"17fac1b0-9c70-11ef-9857-0242ac1c000c\"]);\n",
              "//# sourceURL=js_adc9c256f9"
            ]
          },
          "metadata": {}
        },
        {
          "output_type": "stream",
          "name": "stdout",
          "text": [
            "w= 640 h= 480\n"
          ]
        },
        {
          "output_type": "display_data",
          "data": {
            "text/plain": [
              "<IPython.core.display.Javascript object>"
            ],
            "application/javascript": [
              "window[\"18155a16-9c70-11ef-9857-0242ac1c000c\"] = google.colab.output.setActiveOutputArea(window[\"17fa7ade-9c70-11ef-9857-0242ac1c000c\"]);\n",
              "//# sourceURL=js_8034136a61"
            ]
          },
          "metadata": {}
        },
        {
          "output_type": "display_data",
          "data": {
            "text/plain": [
              "<IPython.core.display.Javascript object>"
            ],
            "application/javascript": [
              "window[\"1817ca62-9c70-11ef-9857-0242ac1c000c\"] = google.colab.output.getActiveOutputArea();\n",
              "//# sourceURL=js_d07c23e9fc"
            ]
          },
          "metadata": {}
        },
        {
          "output_type": "display_data",
          "data": {
            "text/plain": [
              "<IPython.core.display.Javascript object>"
            ],
            "application/javascript": [
              "window[\"181810a8-9c70-11ef-9857-0242ac1c000c\"] = document.querySelector(\"#id48-0-1\");\n",
              "//# sourceURL=js_d8b98e3b60"
            ]
          },
          "metadata": {}
        },
        {
          "output_type": "display_data",
          "data": {
            "text/plain": [
              "<IPython.core.display.Javascript object>"
            ],
            "application/javascript": [
              "window[\"181892d0-9c70-11ef-9857-0242ac1c000c\"] = google.colab.output.setActiveOutputArea(window[\"181810a8-9c70-11ef-9857-0242ac1c000c\"]);\n",
              "//# sourceURL=js_c080904786"
            ]
          },
          "metadata": {}
        },
        {
          "output_type": "stream",
          "name": "stdout",
          "text": [
            "w= 640 h= 480\n"
          ]
        },
        {
          "output_type": "display_data",
          "data": {
            "text/plain": [
              "<IPython.core.display.Javascript object>"
            ],
            "application/javascript": [
              "window[\"1837026a-9c70-11ef-9857-0242ac1c000c\"] = google.colab.output.setActiveOutputArea(window[\"1817ca62-9c70-11ef-9857-0242ac1c000c\"]);\n",
              "//# sourceURL=js_e2d7125964"
            ]
          },
          "metadata": {}
        },
        {
          "output_type": "display_data",
          "data": {
            "text/plain": [
              "<IPython.core.display.Javascript object>"
            ],
            "application/javascript": [
              "window[\"1839ce8c-9c70-11ef-9857-0242ac1c000c\"] = google.colab.output.getActiveOutputArea();\n",
              "//# sourceURL=js_8c7162da14"
            ]
          },
          "metadata": {}
        },
        {
          "output_type": "display_data",
          "data": {
            "text/plain": [
              "<IPython.core.display.Javascript object>"
            ],
            "application/javascript": [
              "window[\"183a2a58-9c70-11ef-9857-0242ac1c000c\"] = document.querySelector(\"#id48-1-0\");\n",
              "//# sourceURL=js_b160de14f1"
            ]
          },
          "metadata": {}
        },
        {
          "output_type": "display_data",
          "data": {
            "text/plain": [
              "<IPython.core.display.Javascript object>"
            ],
            "application/javascript": [
              "window[\"183adfe8-9c70-11ef-9857-0242ac1c000c\"] = google.colab.output.setActiveOutputArea(window[\"183a2a58-9c70-11ef-9857-0242ac1c000c\"]);\n",
              "//# sourceURL=js_7bde2f5bab"
            ]
          },
          "metadata": {}
        },
        {
          "output_type": "stream",
          "name": "stdout",
          "text": [
            "w= 640 h= 480\n"
          ]
        },
        {
          "output_type": "display_data",
          "data": {
            "text/plain": [
              "<IPython.core.display.Javascript object>"
            ],
            "application/javascript": [
              "window[\"1855b610-9c70-11ef-9857-0242ac1c000c\"] = google.colab.output.setActiveOutputArea(window[\"1839ce8c-9c70-11ef-9857-0242ac1c000c\"]);\n",
              "//# sourceURL=js_de21967922"
            ]
          },
          "metadata": {}
        },
        {
          "output_type": "display_data",
          "data": {
            "text/plain": [
              "<IPython.core.display.Javascript object>"
            ],
            "application/javascript": [
              "window[\"1858ac3a-9c70-11ef-9857-0242ac1c000c\"] = google.colab.output.getActiveOutputArea();\n",
              "//# sourceURL=js_2d85969d55"
            ]
          },
          "metadata": {}
        },
        {
          "output_type": "display_data",
          "data": {
            "text/plain": [
              "<IPython.core.display.Javascript object>"
            ],
            "application/javascript": [
              "window[\"18590cc0-9c70-11ef-9857-0242ac1c000c\"] = document.querySelector(\"#id48-1-1\");\n",
              "//# sourceURL=js_21b68ddd37"
            ]
          },
          "metadata": {}
        },
        {
          "output_type": "display_data",
          "data": {
            "text/plain": [
              "<IPython.core.display.Javascript object>"
            ],
            "application/javascript": [
              "window[\"18595810-9c70-11ef-9857-0242ac1c000c\"] = google.colab.output.setActiveOutputArea(window[\"18590cc0-9c70-11ef-9857-0242ac1c000c\"]);\n",
              "//# sourceURL=js_f9b1ad202f"
            ]
          },
          "metadata": {}
        },
        {
          "output_type": "stream",
          "name": "stdout",
          "text": [
            "w= 640 h= 480\n"
          ]
        },
        {
          "output_type": "display_data",
          "data": {
            "text/plain": [
              "<IPython.core.display.Javascript object>"
            ],
            "application/javascript": [
              "window[\"18783fbe-9c70-11ef-9857-0242ac1c000c\"] = google.colab.output.setActiveOutputArea(window[\"1858ac3a-9c70-11ef-9857-0242ac1c000c\"]);\n",
              "//# sourceURL=js_5208c92e1b"
            ]
          },
          "metadata": {}
        },
        {
          "output_type": "display_data",
          "data": {
            "text/plain": [
              "<IPython.core.display.HTML object>"
            ],
            "text/html": [
              "<style>\n",
              "       table#id50, #id50 > tbody > tr > th, #id50 > tbody > tr > td {\n",
              "         border: 1px solid lightgray;\n",
              "         border-collapse:collapse;\n",
              "         \n",
              "        }</style>"
            ]
          },
          "metadata": {}
        },
        {
          "output_type": "display_data",
          "data": {
            "text/plain": [
              "<IPython.core.display.HTML object>"
            ],
            "text/html": [
              "<table id=id50><tr><td id=id50-0-0></td><td id=id50-0-1></td></tr><tr><td id=id50-1-0></td><td id=id50-1-1></td></tr></table>"
            ]
          },
          "metadata": {}
        },
        {
          "output_type": "display_data",
          "data": {
            "text/plain": [
              "<IPython.core.display.Javascript object>"
            ],
            "application/javascript": [
              "window[\"187c11fc-9c70-11ef-9857-0242ac1c000c\"] = google.colab.output.getActiveOutputArea();\n",
              "//# sourceURL=js_0076999ecc"
            ]
          },
          "metadata": {}
        },
        {
          "output_type": "display_data",
          "data": {
            "text/plain": [
              "<IPython.core.display.Javascript object>"
            ],
            "application/javascript": [
              "window[\"187c5612-9c70-11ef-9857-0242ac1c000c\"] = document.querySelector(\"#id50-0-0\");\n",
              "//# sourceURL=js_c0bd081803"
            ]
          },
          "metadata": {}
        },
        {
          "output_type": "display_data",
          "data": {
            "text/plain": [
              "<IPython.core.display.Javascript object>"
            ],
            "application/javascript": [
              "window[\"187c9776-9c70-11ef-9857-0242ac1c000c\"] = google.colab.output.setActiveOutputArea(window[\"187c5612-9c70-11ef-9857-0242ac1c000c\"]);\n",
              "//# sourceURL=js_760a5487e5"
            ]
          },
          "metadata": {}
        },
        {
          "output_type": "stream",
          "name": "stdout",
          "text": [
            "w= 640 h= 480\n"
          ]
        },
        {
          "output_type": "display_data",
          "data": {
            "text/plain": [
              "<IPython.core.display.Javascript object>"
            ],
            "application/javascript": [
              "window[\"1897e4ae-9c70-11ef-9857-0242ac1c000c\"] = google.colab.output.setActiveOutputArea(window[\"187c11fc-9c70-11ef-9857-0242ac1c000c\"]);\n",
              "//# sourceURL=js_3d38d151c3"
            ]
          },
          "metadata": {}
        },
        {
          "output_type": "display_data",
          "data": {
            "text/plain": [
              "<IPython.core.display.Javascript object>"
            ],
            "application/javascript": [
              "window[\"1899736e-9c70-11ef-9857-0242ac1c000c\"] = google.colab.output.getActiveOutputArea();\n",
              "//# sourceURL=js_f38fb072a6"
            ]
          },
          "metadata": {}
        },
        {
          "output_type": "display_data",
          "data": {
            "text/plain": [
              "<IPython.core.display.Javascript object>"
            ],
            "application/javascript": [
              "window[\"1899b89c-9c70-11ef-9857-0242ac1c000c\"] = document.querySelector(\"#id50-0-1\");\n",
              "//# sourceURL=js_8495f3bd71"
            ]
          },
          "metadata": {}
        },
        {
          "output_type": "display_data",
          "data": {
            "text/plain": [
              "<IPython.core.display.Javascript object>"
            ],
            "application/javascript": [
              "window[\"1899f6cc-9c70-11ef-9857-0242ac1c000c\"] = google.colab.output.setActiveOutputArea(window[\"1899b89c-9c70-11ef-9857-0242ac1c000c\"]);\n",
              "//# sourceURL=js_f9ca0e5209"
            ]
          },
          "metadata": {}
        },
        {
          "output_type": "stream",
          "name": "stdout",
          "text": [
            "w= 640 h= 480\n"
          ]
        },
        {
          "output_type": "display_data",
          "data": {
            "text/plain": [
              "<IPython.core.display.Javascript object>"
            ],
            "application/javascript": [
              "window[\"18b5dd24-9c70-11ef-9857-0242ac1c000c\"] = google.colab.output.setActiveOutputArea(window[\"1899736e-9c70-11ef-9857-0242ac1c000c\"]);\n",
              "//# sourceURL=js_a23012fcfa"
            ]
          },
          "metadata": {}
        },
        {
          "output_type": "display_data",
          "data": {
            "text/plain": [
              "<IPython.core.display.Javascript object>"
            ],
            "application/javascript": [
              "window[\"18b85f7c-9c70-11ef-9857-0242ac1c000c\"] = google.colab.output.getActiveOutputArea();\n",
              "//# sourceURL=js_c3907af2af"
            ]
          },
          "metadata": {}
        },
        {
          "output_type": "display_data",
          "data": {
            "text/plain": [
              "<IPython.core.display.Javascript object>"
            ],
            "application/javascript": [
              "window[\"18b8bb66-9c70-11ef-9857-0242ac1c000c\"] = document.querySelector(\"#id50-1-0\");\n",
              "//# sourceURL=js_6b7b17b3e4"
            ]
          },
          "metadata": {}
        },
        {
          "output_type": "display_data",
          "data": {
            "text/plain": [
              "<IPython.core.display.Javascript object>"
            ],
            "application/javascript": [
              "window[\"18b9003a-9c70-11ef-9857-0242ac1c000c\"] = google.colab.output.setActiveOutputArea(window[\"18b8bb66-9c70-11ef-9857-0242ac1c000c\"]);\n",
              "//# sourceURL=js_fe092aaba8"
            ]
          },
          "metadata": {}
        },
        {
          "output_type": "stream",
          "name": "stdout",
          "text": [
            "w= 640 h= 480\n"
          ]
        },
        {
          "output_type": "display_data",
          "data": {
            "text/plain": [
              "<IPython.core.display.Javascript object>"
            ],
            "application/javascript": [
              "window[\"18d262be-9c70-11ef-9857-0242ac1c000c\"] = google.colab.output.setActiveOutputArea(window[\"18b85f7c-9c70-11ef-9857-0242ac1c000c\"]);\n",
              "//# sourceURL=js_89f10da4ce"
            ]
          },
          "metadata": {}
        },
        {
          "output_type": "display_data",
          "data": {
            "text/plain": [
              "<IPython.core.display.Javascript object>"
            ],
            "application/javascript": [
              "window[\"18d4b62c-9c70-11ef-9857-0242ac1c000c\"] = google.colab.output.getActiveOutputArea();\n",
              "//# sourceURL=js_c1b198a65b"
            ]
          },
          "metadata": {}
        },
        {
          "output_type": "display_data",
          "data": {
            "text/plain": [
              "<IPython.core.display.Javascript object>"
            ],
            "application/javascript": [
              "window[\"18d502a8-9c70-11ef-9857-0242ac1c000c\"] = document.querySelector(\"#id50-1-1\");\n",
              "//# sourceURL=js_1acf6b41b2"
            ]
          },
          "metadata": {}
        },
        {
          "output_type": "display_data",
          "data": {
            "text/plain": [
              "<IPython.core.display.Javascript object>"
            ],
            "application/javascript": [
              "window[\"18d59ccc-9c70-11ef-9857-0242ac1c000c\"] = google.colab.output.setActiveOutputArea(window[\"18d502a8-9c70-11ef-9857-0242ac1c000c\"]);\n",
              "//# sourceURL=js_134f976c75"
            ]
          },
          "metadata": {}
        },
        {
          "output_type": "stream",
          "name": "stdout",
          "text": [
            "w= 640 h= 480\n"
          ]
        },
        {
          "output_type": "display_data",
          "data": {
            "text/plain": [
              "<IPython.core.display.Javascript object>"
            ],
            "application/javascript": [
              "window[\"18f1d55e-9c70-11ef-9857-0242ac1c000c\"] = google.colab.output.setActiveOutputArea(window[\"18d4b62c-9c70-11ef-9857-0242ac1c000c\"]);\n",
              "//# sourceURL=js_0f27027514"
            ]
          },
          "metadata": {}
        },
        {
          "output_type": "display_data",
          "data": {
            "text/plain": [
              "<IPython.core.display.HTML object>"
            ],
            "text/html": [
              "<style>\n",
              "       table#id52, #id52 > tbody > tr > th, #id52 > tbody > tr > td {\n",
              "         border: 1px solid lightgray;\n",
              "         border-collapse:collapse;\n",
              "         \n",
              "        }</style>"
            ]
          },
          "metadata": {}
        },
        {
          "output_type": "display_data",
          "data": {
            "text/plain": [
              "<IPython.core.display.HTML object>"
            ],
            "text/html": [
              "<table id=id52><tr><td id=id52-0-0></td><td id=id52-0-1></td></tr><tr><td id=id52-1-0></td><td id=id52-1-1></td></tr></table>"
            ]
          },
          "metadata": {}
        },
        {
          "output_type": "display_data",
          "data": {
            "text/plain": [
              "<IPython.core.display.Javascript object>"
            ],
            "application/javascript": [
              "window[\"18f742c8-9c70-11ef-9857-0242ac1c000c\"] = google.colab.output.getActiveOutputArea();\n",
              "//# sourceURL=js_a451e154c8"
            ]
          },
          "metadata": {}
        },
        {
          "output_type": "display_data",
          "data": {
            "text/plain": [
              "<IPython.core.display.Javascript object>"
            ],
            "application/javascript": [
              "window[\"18f7a38a-9c70-11ef-9857-0242ac1c000c\"] = document.querySelector(\"#id52-0-0\");\n",
              "//# sourceURL=js_93553a60c4"
            ]
          },
          "metadata": {}
        },
        {
          "output_type": "display_data",
          "data": {
            "text/plain": [
              "<IPython.core.display.Javascript object>"
            ],
            "application/javascript": [
              "window[\"18f7f844-9c70-11ef-9857-0242ac1c000c\"] = google.colab.output.setActiveOutputArea(window[\"18f7a38a-9c70-11ef-9857-0242ac1c000c\"]);\n",
              "//# sourceURL=js_4b4c209d25"
            ]
          },
          "metadata": {}
        },
        {
          "output_type": "stream",
          "name": "stdout",
          "text": [
            "w= 640 h= 480\n"
          ]
        },
        {
          "output_type": "display_data",
          "data": {
            "text/plain": [
              "<IPython.core.display.Javascript object>"
            ],
            "application/javascript": [
              "window[\"1912090a-9c70-11ef-9857-0242ac1c000c\"] = google.colab.output.setActiveOutputArea(window[\"18f742c8-9c70-11ef-9857-0242ac1c000c\"]);\n",
              "//# sourceURL=js_074f59ab32"
            ]
          },
          "metadata": {}
        },
        {
          "output_type": "display_data",
          "data": {
            "text/plain": [
              "<IPython.core.display.Javascript object>"
            ],
            "application/javascript": [
              "window[\"1913f53a-9c70-11ef-9857-0242ac1c000c\"] = google.colab.output.getActiveOutputArea();\n",
              "//# sourceURL=js_9b3aaea07a"
            ]
          },
          "metadata": {}
        },
        {
          "output_type": "display_data",
          "data": {
            "text/plain": [
              "<IPython.core.display.Javascript object>"
            ],
            "application/javascript": [
              "window[\"1914549e-9c70-11ef-9857-0242ac1c000c\"] = document.querySelector(\"#id52-0-1\");\n",
              "//# sourceURL=js_cbd7f0a73e"
            ]
          },
          "metadata": {}
        },
        {
          "output_type": "display_data",
          "data": {
            "text/plain": [
              "<IPython.core.display.Javascript object>"
            ],
            "application/javascript": [
              "window[\"19149b5c-9c70-11ef-9857-0242ac1c000c\"] = google.colab.output.setActiveOutputArea(window[\"1914549e-9c70-11ef-9857-0242ac1c000c\"]);\n",
              "//# sourceURL=js_bd425fdc2c"
            ]
          },
          "metadata": {}
        },
        {
          "output_type": "stream",
          "name": "stdout",
          "text": [
            "w= 640 h= 480\n"
          ]
        },
        {
          "output_type": "display_data",
          "data": {
            "text/plain": [
              "<IPython.core.display.Javascript object>"
            ],
            "application/javascript": [
              "window[\"1931d460-9c70-11ef-9857-0242ac1c000c\"] = google.colab.output.setActiveOutputArea(window[\"1913f53a-9c70-11ef-9857-0242ac1c000c\"]);\n",
              "//# sourceURL=js_cdeba77e66"
            ]
          },
          "metadata": {}
        },
        {
          "output_type": "display_data",
          "data": {
            "text/plain": [
              "<IPython.core.display.Javascript object>"
            ],
            "application/javascript": [
              "window[\"1933ca9a-9c70-11ef-9857-0242ac1c000c\"] = google.colab.output.getActiveOutputArea();\n",
              "//# sourceURL=js_fbf44f0cd6"
            ]
          },
          "metadata": {}
        },
        {
          "output_type": "display_data",
          "data": {
            "text/plain": [
              "<IPython.core.display.Javascript object>"
            ],
            "application/javascript": [
              "window[\"193412de-9c70-11ef-9857-0242ac1c000c\"] = document.querySelector(\"#id52-1-0\");\n",
              "//# sourceURL=js_94b0fadc2a"
            ]
          },
          "metadata": {}
        },
        {
          "output_type": "display_data",
          "data": {
            "text/plain": [
              "<IPython.core.display.Javascript object>"
            ],
            "application/javascript": [
              "window[\"1934a00a-9c70-11ef-9857-0242ac1c000c\"] = google.colab.output.setActiveOutputArea(window[\"193412de-9c70-11ef-9857-0242ac1c000c\"]);\n",
              "//# sourceURL=js_ae7a21ab16"
            ]
          },
          "metadata": {}
        },
        {
          "output_type": "stream",
          "name": "stdout",
          "text": [
            "w= 640 h= 480\n"
          ]
        },
        {
          "output_type": "display_data",
          "data": {
            "text/plain": [
              "<IPython.core.display.Javascript object>"
            ],
            "application/javascript": [
              "window[\"19514390-9c70-11ef-9857-0242ac1c000c\"] = google.colab.output.setActiveOutputArea(window[\"1933ca9a-9c70-11ef-9857-0242ac1c000c\"]);\n",
              "//# sourceURL=js_d754931af1"
            ]
          },
          "metadata": {}
        },
        {
          "output_type": "display_data",
          "data": {
            "text/plain": [
              "<IPython.core.display.Javascript object>"
            ],
            "application/javascript": [
              "window[\"195351c6-9c70-11ef-9857-0242ac1c000c\"] = google.colab.output.getActiveOutputArea();\n",
              "//# sourceURL=js_c8cf38dcc3"
            ]
          },
          "metadata": {}
        },
        {
          "output_type": "display_data",
          "data": {
            "text/plain": [
              "<IPython.core.display.Javascript object>"
            ],
            "application/javascript": [
              "window[\"19539654-9c70-11ef-9857-0242ac1c000c\"] = document.querySelector(\"#id52-1-1\");\n",
              "//# sourceURL=js_7d040590b1"
            ]
          },
          "metadata": {}
        },
        {
          "output_type": "display_data",
          "data": {
            "text/plain": [
              "<IPython.core.display.Javascript object>"
            ],
            "application/javascript": [
              "window[\"1953dd1c-9c70-11ef-9857-0242ac1c000c\"] = google.colab.output.setActiveOutputArea(window[\"19539654-9c70-11ef-9857-0242ac1c000c\"]);\n",
              "//# sourceURL=js_7817f28fc8"
            ]
          },
          "metadata": {}
        },
        {
          "output_type": "stream",
          "name": "stdout",
          "text": [
            "w= 640 h= 480\n"
          ]
        },
        {
          "output_type": "display_data",
          "data": {
            "text/plain": [
              "<IPython.core.display.Javascript object>"
            ],
            "application/javascript": [
              "window[\"196d4004-9c70-11ef-9857-0242ac1c000c\"] = google.colab.output.setActiveOutputArea(window[\"195351c6-9c70-11ef-9857-0242ac1c000c\"]);\n",
              "//# sourceURL=js_95de8ce0c6"
            ]
          },
          "metadata": {}
        },
        {
          "output_type": "display_data",
          "data": {
            "text/plain": [
              "<IPython.core.display.HTML object>"
            ],
            "text/html": [
              "<style>\n",
              "       table#id54, #id54 > tbody > tr > th, #id54 > tbody > tr > td {\n",
              "         border: 1px solid lightgray;\n",
              "         border-collapse:collapse;\n",
              "         \n",
              "        }</style>"
            ]
          },
          "metadata": {}
        },
        {
          "output_type": "display_data",
          "data": {
            "text/plain": [
              "<IPython.core.display.HTML object>"
            ],
            "text/html": [
              "<table id=id54><tr><td id=id54-0-0></td><td id=id54-0-1></td></tr><tr><td id=id54-1-0></td><td id=id54-1-1></td></tr></table>"
            ]
          },
          "metadata": {}
        },
        {
          "output_type": "display_data",
          "data": {
            "text/plain": [
              "<IPython.core.display.Javascript object>"
            ],
            "application/javascript": [
              "window[\"19711620-9c70-11ef-9857-0242ac1c000c\"] = google.colab.output.getActiveOutputArea();\n",
              "//# sourceURL=js_530bbc21cd"
            ]
          },
          "metadata": {}
        },
        {
          "output_type": "display_data",
          "data": {
            "text/plain": [
              "<IPython.core.display.Javascript object>"
            ],
            "application/javascript": [
              "window[\"19715f72-9c70-11ef-9857-0242ac1c000c\"] = document.querySelector(\"#id54-0-0\");\n",
              "//# sourceURL=js_eb04e0b904"
            ]
          },
          "metadata": {}
        },
        {
          "output_type": "display_data",
          "data": {
            "text/plain": [
              "<IPython.core.display.Javascript object>"
            ],
            "application/javascript": [
              "window[\"1971a77a-9c70-11ef-9857-0242ac1c000c\"] = google.colab.output.setActiveOutputArea(window[\"19715f72-9c70-11ef-9857-0242ac1c000c\"]);\n",
              "//# sourceURL=js_c7c7619895"
            ]
          },
          "metadata": {}
        },
        {
          "output_type": "stream",
          "name": "stdout",
          "text": [
            "w= 640 h= 480\n"
          ]
        },
        {
          "output_type": "display_data",
          "data": {
            "text/plain": [
              "<IPython.core.display.Javascript object>"
            ],
            "application/javascript": [
              "window[\"198b5f6c-9c70-11ef-9857-0242ac1c000c\"] = google.colab.output.setActiveOutputArea(window[\"19711620-9c70-11ef-9857-0242ac1c000c\"]);\n",
              "//# sourceURL=js_21482cc41b"
            ]
          },
          "metadata": {}
        },
        {
          "output_type": "display_data",
          "data": {
            "text/plain": [
              "<IPython.core.display.Javascript object>"
            ],
            "application/javascript": [
              "window[\"198d8b7a-9c70-11ef-9857-0242ac1c000c\"] = google.colab.output.getActiveOutputArea();\n",
              "//# sourceURL=js_9b6f6ebf08"
            ]
          },
          "metadata": {}
        },
        {
          "output_type": "display_data",
          "data": {
            "text/plain": [
              "<IPython.core.display.Javascript object>"
            ],
            "application/javascript": [
              "window[\"198dce46-9c70-11ef-9857-0242ac1c000c\"] = document.querySelector(\"#id54-0-1\");\n",
              "//# sourceURL=js_0c065a80cf"
            ]
          },
          "metadata": {}
        },
        {
          "output_type": "display_data",
          "data": {
            "text/plain": [
              "<IPython.core.display.Javascript object>"
            ],
            "application/javascript": [
              "window[\"198e3eb2-9c70-11ef-9857-0242ac1c000c\"] = google.colab.output.setActiveOutputArea(window[\"198dce46-9c70-11ef-9857-0242ac1c000c\"]);\n",
              "//# sourceURL=js_70d93fab3f"
            ]
          },
          "metadata": {}
        },
        {
          "output_type": "stream",
          "name": "stdout",
          "text": [
            "w= 640 h= 480\n"
          ]
        },
        {
          "output_type": "display_data",
          "data": {
            "text/plain": [
              "<IPython.core.display.Javascript object>"
            ],
            "application/javascript": [
              "window[\"19a7e63c-9c70-11ef-9857-0242ac1c000c\"] = google.colab.output.setActiveOutputArea(window[\"198d8b7a-9c70-11ef-9857-0242ac1c000c\"]);\n",
              "//# sourceURL=js_549f583faa"
            ]
          },
          "metadata": {}
        },
        {
          "output_type": "display_data",
          "data": {
            "text/plain": [
              "<IPython.core.display.Javascript object>"
            ],
            "application/javascript": [
              "window[\"19a9e400-9c70-11ef-9857-0242ac1c000c\"] = google.colab.output.getActiveOutputArea();\n",
              "//# sourceURL=js_feaeb30458"
            ]
          },
          "metadata": {}
        },
        {
          "output_type": "display_data",
          "data": {
            "text/plain": [
              "<IPython.core.display.Javascript object>"
            ],
            "application/javascript": [
              "window[\"19aa499a-9c70-11ef-9857-0242ac1c000c\"] = document.querySelector(\"#id54-1-0\");\n",
              "//# sourceURL=js_ab92faca5a"
            ]
          },
          "metadata": {}
        },
        {
          "output_type": "display_data",
          "data": {
            "text/plain": [
              "<IPython.core.display.Javascript object>"
            ],
            "application/javascript": [
              "window[\"19aa9198-9c70-11ef-9857-0242ac1c000c\"] = google.colab.output.setActiveOutputArea(window[\"19aa499a-9c70-11ef-9857-0242ac1c000c\"]);\n",
              "//# sourceURL=js_f7f82a5824"
            ]
          },
          "metadata": {}
        },
        {
          "output_type": "stream",
          "name": "stdout",
          "text": [
            "w= 640 h= 480\n"
          ]
        },
        {
          "output_type": "display_data",
          "data": {
            "text/plain": [
              "<IPython.core.display.Javascript object>"
            ],
            "application/javascript": [
              "window[\"19c49886-9c70-11ef-9857-0242ac1c000c\"] = google.colab.output.setActiveOutputArea(window[\"19a9e400-9c70-11ef-9857-0242ac1c000c\"]);\n",
              "//# sourceURL=js_52a1e088cd"
            ]
          },
          "metadata": {}
        },
        {
          "output_type": "display_data",
          "data": {
            "text/plain": [
              "<IPython.core.display.Javascript object>"
            ],
            "application/javascript": [
              "window[\"19c77e16-9c70-11ef-9857-0242ac1c000c\"] = google.colab.output.getActiveOutputArea();\n",
              "//# sourceURL=js_7ff35c4040"
            ]
          },
          "metadata": {}
        },
        {
          "output_type": "display_data",
          "data": {
            "text/plain": [
              "<IPython.core.display.Javascript object>"
            ],
            "application/javascript": [
              "window[\"19c7bfde-9c70-11ef-9857-0242ac1c000c\"] = document.querySelector(\"#id54-1-1\");\n",
              "//# sourceURL=js_8cb211f6fa"
            ]
          },
          "metadata": {}
        },
        {
          "output_type": "display_data",
          "data": {
            "text/plain": [
              "<IPython.core.display.Javascript object>"
            ],
            "application/javascript": [
              "window[\"19c80f84-9c70-11ef-9857-0242ac1c000c\"] = google.colab.output.setActiveOutputArea(window[\"19c7bfde-9c70-11ef-9857-0242ac1c000c\"]);\n",
              "//# sourceURL=js_6f4decc631"
            ]
          },
          "metadata": {}
        },
        {
          "output_type": "stream",
          "name": "stdout",
          "text": [
            "w= 640 h= 480\n"
          ]
        },
        {
          "output_type": "display_data",
          "data": {
            "text/plain": [
              "<IPython.core.display.Javascript object>"
            ],
            "application/javascript": [
              "window[\"19e0b8b8-9c70-11ef-9857-0242ac1c000c\"] = google.colab.output.setActiveOutputArea(window[\"19c77e16-9c70-11ef-9857-0242ac1c000c\"]);\n",
              "//# sourceURL=js_618d9e7fe2"
            ]
          },
          "metadata": {}
        },
        {
          "output_type": "display_data",
          "data": {
            "text/plain": [
              "<IPython.core.display.HTML object>"
            ],
            "text/html": [
              "<style>\n",
              "       table#id56, #id56 > tbody > tr > th, #id56 > tbody > tr > td {\n",
              "         border: 1px solid lightgray;\n",
              "         border-collapse:collapse;\n",
              "         \n",
              "        }</style>"
            ]
          },
          "metadata": {}
        },
        {
          "output_type": "display_data",
          "data": {
            "text/plain": [
              "<IPython.core.display.HTML object>"
            ],
            "text/html": [
              "<table id=id56><tr><td id=id56-0-0></td><td id=id56-0-1></td></tr><tr><td id=id56-1-0></td><td id=id56-1-1></td></tr></table>"
            ]
          },
          "metadata": {}
        },
        {
          "output_type": "display_data",
          "data": {
            "text/plain": [
              "<IPython.core.display.Javascript object>"
            ],
            "application/javascript": [
              "window[\"19e41684-9c70-11ef-9857-0242ac1c000c\"] = google.colab.output.getActiveOutputArea();\n",
              "//# sourceURL=js_6eb37a4ac9"
            ]
          },
          "metadata": {}
        },
        {
          "output_type": "display_data",
          "data": {
            "text/plain": [
              "<IPython.core.display.Javascript object>"
            ],
            "application/javascript": [
              "window[\"19e46b70-9c70-11ef-9857-0242ac1c000c\"] = document.querySelector(\"#id56-0-0\");\n",
              "//# sourceURL=js_6fbfb1e199"
            ]
          },
          "metadata": {}
        },
        {
          "output_type": "display_data",
          "data": {
            "text/plain": [
              "<IPython.core.display.Javascript object>"
            ],
            "application/javascript": [
              "window[\"19e4ac7a-9c70-11ef-9857-0242ac1c000c\"] = google.colab.output.setActiveOutputArea(window[\"19e46b70-9c70-11ef-9857-0242ac1c000c\"]);\n",
              "//# sourceURL=js_b6504a6e44"
            ]
          },
          "metadata": {}
        },
        {
          "output_type": "stream",
          "name": "stdout",
          "text": [
            "w= 640 h= 480\n"
          ]
        },
        {
          "output_type": "display_data",
          "data": {
            "text/plain": [
              "<IPython.core.display.Javascript object>"
            ],
            "application/javascript": [
              "window[\"19fe592c-9c70-11ef-9857-0242ac1c000c\"] = google.colab.output.setActiveOutputArea(window[\"19e41684-9c70-11ef-9857-0242ac1c000c\"]);\n",
              "//# sourceURL=js_d0964cde3c"
            ]
          },
          "metadata": {}
        },
        {
          "output_type": "display_data",
          "data": {
            "text/plain": [
              "<IPython.core.display.Javascript object>"
            ],
            "application/javascript": [
              "window[\"1a00a812-9c70-11ef-9857-0242ac1c000c\"] = google.colab.output.getActiveOutputArea();\n",
              "//# sourceURL=js_00aab12e5e"
            ]
          },
          "metadata": {}
        },
        {
          "output_type": "display_data",
          "data": {
            "text/plain": [
              "<IPython.core.display.Javascript object>"
            ],
            "application/javascript": [
              "window[\"1a00f45c-9c70-11ef-9857-0242ac1c000c\"] = document.querySelector(\"#id56-0-1\");\n",
              "//# sourceURL=js_02cef8df08"
            ]
          },
          "metadata": {}
        },
        {
          "output_type": "display_data",
          "data": {
            "text/plain": [
              "<IPython.core.display.Javascript object>"
            ],
            "application/javascript": [
              "window[\"1a015190-9c70-11ef-9857-0242ac1c000c\"] = google.colab.output.setActiveOutputArea(window[\"1a00f45c-9c70-11ef-9857-0242ac1c000c\"]);\n",
              "//# sourceURL=js_9910b3580a"
            ]
          },
          "metadata": {}
        },
        {
          "output_type": "stream",
          "name": "stdout",
          "text": [
            "w= 640 h= 480\n"
          ]
        },
        {
          "output_type": "display_data",
          "data": {
            "text/plain": [
              "<IPython.core.display.Javascript object>"
            ],
            "application/javascript": [
              "window[\"1a1f6dd8-9c70-11ef-9857-0242ac1c000c\"] = google.colab.output.setActiveOutputArea(window[\"1a00a812-9c70-11ef-9857-0242ac1c000c\"]);\n",
              "//# sourceURL=js_1740dbef5d"
            ]
          },
          "metadata": {}
        },
        {
          "output_type": "display_data",
          "data": {
            "text/plain": [
              "<IPython.core.display.Javascript object>"
            ],
            "application/javascript": [
              "window[\"1a216c00-9c70-11ef-9857-0242ac1c000c\"] = google.colab.output.getActiveOutputArea();\n",
              "//# sourceURL=js_5f5b947faa"
            ]
          },
          "metadata": {}
        },
        {
          "output_type": "display_data",
          "data": {
            "text/plain": [
              "<IPython.core.display.Javascript object>"
            ],
            "application/javascript": [
              "window[\"1a21b1ec-9c70-11ef-9857-0242ac1c000c\"] = document.querySelector(\"#id56-1-0\");\n",
              "//# sourceURL=js_b360d68cb4"
            ]
          },
          "metadata": {}
        },
        {
          "output_type": "display_data",
          "data": {
            "text/plain": [
              "<IPython.core.display.Javascript object>"
            ],
            "application/javascript": [
              "window[\"1a21f378-9c70-11ef-9857-0242ac1c000c\"] = google.colab.output.setActiveOutputArea(window[\"1a21b1ec-9c70-11ef-9857-0242ac1c000c\"]);\n",
              "//# sourceURL=js_b1902f810f"
            ]
          },
          "metadata": {}
        },
        {
          "output_type": "stream",
          "name": "stdout",
          "text": [
            "w= 640 h= 480\n"
          ]
        },
        {
          "output_type": "display_data",
          "data": {
            "text/plain": [
              "<IPython.core.display.Javascript object>"
            ],
            "application/javascript": [
              "window[\"1a402d52-9c70-11ef-9857-0242ac1c000c\"] = google.colab.output.setActiveOutputArea(window[\"1a216c00-9c70-11ef-9857-0242ac1c000c\"]);\n",
              "//# sourceURL=js_22e158af80"
            ]
          },
          "metadata": {}
        },
        {
          "output_type": "display_data",
          "data": {
            "text/plain": [
              "<IPython.core.display.Javascript object>"
            ],
            "application/javascript": [
              "window[\"1a4355cc-9c70-11ef-9857-0242ac1c000c\"] = google.colab.output.getActiveOutputArea();\n",
              "//# sourceURL=js_612a0c0b78"
            ]
          },
          "metadata": {}
        },
        {
          "output_type": "display_data",
          "data": {
            "text/plain": [
              "<IPython.core.display.Javascript object>"
            ],
            "application/javascript": [
              "window[\"1a439b90-9c70-11ef-9857-0242ac1c000c\"] = document.querySelector(\"#id56-1-1\");\n",
              "//# sourceURL=js_8c576f89b7"
            ]
          },
          "metadata": {}
        },
        {
          "output_type": "display_data",
          "data": {
            "text/plain": [
              "<IPython.core.display.Javascript object>"
            ],
            "application/javascript": [
              "window[\"1a443b9a-9c70-11ef-9857-0242ac1c000c\"] = google.colab.output.setActiveOutputArea(window[\"1a439b90-9c70-11ef-9857-0242ac1c000c\"]);\n",
              "//# sourceURL=js_20a283bb79"
            ]
          },
          "metadata": {}
        },
        {
          "output_type": "stream",
          "name": "stdout",
          "text": [
            "w= 640 h= 480\n"
          ]
        },
        {
          "output_type": "display_data",
          "data": {
            "text/plain": [
              "<IPython.core.display.Javascript object>"
            ],
            "application/javascript": [
              "window[\"1a5d1c14-9c70-11ef-9857-0242ac1c000c\"] = google.colab.output.setActiveOutputArea(window[\"1a4355cc-9c70-11ef-9857-0242ac1c000c\"]);\n",
              "//# sourceURL=js_ada0b81b66"
            ]
          },
          "metadata": {}
        },
        {
          "output_type": "display_data",
          "data": {
            "text/plain": [
              "<IPython.core.display.HTML object>"
            ],
            "text/html": [
              "<style>\n",
              "       table#id58, #id58 > tbody > tr > th, #id58 > tbody > tr > td {\n",
              "         border: 1px solid lightgray;\n",
              "         border-collapse:collapse;\n",
              "         \n",
              "        }</style>"
            ]
          },
          "metadata": {}
        },
        {
          "output_type": "display_data",
          "data": {
            "text/plain": [
              "<IPython.core.display.HTML object>"
            ],
            "text/html": [
              "<table id=id58><tr><td id=id58-0-0></td><td id=id58-0-1></td></tr><tr><td id=id58-1-0></td><td id=id58-1-1></td></tr></table>"
            ]
          },
          "metadata": {}
        },
        {
          "output_type": "display_data",
          "data": {
            "text/plain": [
              "<IPython.core.display.Javascript object>"
            ],
            "application/javascript": [
              "window[\"1a60e416-9c70-11ef-9857-0242ac1c000c\"] = google.colab.output.getActiveOutputArea();\n",
              "//# sourceURL=js_cbed383856"
            ]
          },
          "metadata": {}
        },
        {
          "output_type": "display_data",
          "data": {
            "text/plain": [
              "<IPython.core.display.Javascript object>"
            ],
            "application/javascript": [
              "window[\"1a612a0c-9c70-11ef-9857-0242ac1c000c\"] = document.querySelector(\"#id58-0-0\");\n",
              "//# sourceURL=js_120d366380"
            ]
          },
          "metadata": {}
        },
        {
          "output_type": "display_data",
          "data": {
            "text/plain": [
              "<IPython.core.display.Javascript object>"
            ],
            "application/javascript": [
              "window[\"1a617cfa-9c70-11ef-9857-0242ac1c000c\"] = google.colab.output.setActiveOutputArea(window[\"1a612a0c-9c70-11ef-9857-0242ac1c000c\"]);\n",
              "//# sourceURL=js_8aae64d5a3"
            ]
          },
          "metadata": {}
        },
        {
          "output_type": "stream",
          "name": "stdout",
          "text": [
            "w= 640 h= 480\n"
          ]
        },
        {
          "output_type": "display_data",
          "data": {
            "text/plain": [
              "<IPython.core.display.Javascript object>"
            ],
            "application/javascript": [
              "window[\"1a812712-9c70-11ef-9857-0242ac1c000c\"] = google.colab.output.setActiveOutputArea(window[\"1a60e416-9c70-11ef-9857-0242ac1c000c\"]);\n",
              "//# sourceURL=js_872e4c4261"
            ]
          },
          "metadata": {}
        },
        {
          "output_type": "display_data",
          "data": {
            "text/plain": [
              "<IPython.core.display.Javascript object>"
            ],
            "application/javascript": [
              "window[\"1a832062-9c70-11ef-9857-0242ac1c000c\"] = google.colab.output.getActiveOutputArea();\n",
              "//# sourceURL=js_91a4d70d56"
            ]
          },
          "metadata": {}
        },
        {
          "output_type": "display_data",
          "data": {
            "text/plain": [
              "<IPython.core.display.Javascript object>"
            ],
            "application/javascript": [
              "window[\"1a839948-9c70-11ef-9857-0242ac1c000c\"] = document.querySelector(\"#id58-0-1\");\n",
              "//# sourceURL=js_b7806b8374"
            ]
          },
          "metadata": {}
        },
        {
          "output_type": "display_data",
          "data": {
            "text/plain": [
              "<IPython.core.display.Javascript object>"
            ],
            "application/javascript": [
              "window[\"1a840a40-9c70-11ef-9857-0242ac1c000c\"] = google.colab.output.setActiveOutputArea(window[\"1a839948-9c70-11ef-9857-0242ac1c000c\"]);\n",
              "//# sourceURL=js_433e435c25"
            ]
          },
          "metadata": {}
        },
        {
          "output_type": "stream",
          "name": "stdout",
          "text": [
            "w= 640 h= 480\n"
          ]
        },
        {
          "output_type": "display_data",
          "data": {
            "text/plain": [
              "<IPython.core.display.Javascript object>"
            ],
            "application/javascript": [
              "window[\"1aa5aae2-9c70-11ef-9857-0242ac1c000c\"] = google.colab.output.setActiveOutputArea(window[\"1a832062-9c70-11ef-9857-0242ac1c000c\"]);\n",
              "//# sourceURL=js_baf552dacd"
            ]
          },
          "metadata": {}
        },
        {
          "output_type": "display_data",
          "data": {
            "text/plain": [
              "<IPython.core.display.Javascript object>"
            ],
            "application/javascript": [
              "window[\"1aa87f06-9c70-11ef-9857-0242ac1c000c\"] = google.colab.output.getActiveOutputArea();\n",
              "//# sourceURL=js_4e2ec30272"
            ]
          },
          "metadata": {}
        },
        {
          "output_type": "display_data",
          "data": {
            "text/plain": [
              "<IPython.core.display.Javascript object>"
            ],
            "application/javascript": [
              "window[\"1aa8d096-9c70-11ef-9857-0242ac1c000c\"] = document.querySelector(\"#id58-1-0\");\n",
              "//# sourceURL=js_42ee06c1ee"
            ]
          },
          "metadata": {}
        },
        {
          "output_type": "display_data",
          "data": {
            "text/plain": [
              "<IPython.core.display.Javascript object>"
            ],
            "application/javascript": [
              "window[\"1aa9508e-9c70-11ef-9857-0242ac1c000c\"] = google.colab.output.setActiveOutputArea(window[\"1aa8d096-9c70-11ef-9857-0242ac1c000c\"]);\n",
              "//# sourceURL=js_f3c525abfa"
            ]
          },
          "metadata": {}
        },
        {
          "output_type": "stream",
          "name": "stdout",
          "text": [
            "w= 640 h= 480\n"
          ]
        },
        {
          "output_type": "display_data",
          "data": {
            "text/plain": [
              "<IPython.core.display.Javascript object>"
            ],
            "application/javascript": [
              "window[\"1ac94a42-9c70-11ef-9857-0242ac1c000c\"] = google.colab.output.setActiveOutputArea(window[\"1aa87f06-9c70-11ef-9857-0242ac1c000c\"]);\n",
              "//# sourceURL=js_c3d882c33f"
            ]
          },
          "metadata": {}
        },
        {
          "output_type": "display_data",
          "data": {
            "text/plain": [
              "<IPython.core.display.Javascript object>"
            ],
            "application/javascript": [
              "window[\"1acd2fea-9c70-11ef-9857-0242ac1c000c\"] = google.colab.output.getActiveOutputArea();\n",
              "//# sourceURL=js_8e9cda9ed8"
            ]
          },
          "metadata": {}
        },
        {
          "output_type": "display_data",
          "data": {
            "text/plain": [
              "<IPython.core.display.Javascript object>"
            ],
            "application/javascript": [
              "window[\"1acda466-9c70-11ef-9857-0242ac1c000c\"] = document.querySelector(\"#id58-1-1\");\n",
              "//# sourceURL=js_280f9347a8"
            ]
          },
          "metadata": {}
        },
        {
          "output_type": "display_data",
          "data": {
            "text/plain": [
              "<IPython.core.display.Javascript object>"
            ],
            "application/javascript": [
              "window[\"1ace14d2-9c70-11ef-9857-0242ac1c000c\"] = google.colab.output.setActiveOutputArea(window[\"1acda466-9c70-11ef-9857-0242ac1c000c\"]);\n",
              "//# sourceURL=js_cd3122d0c1"
            ]
          },
          "metadata": {}
        },
        {
          "output_type": "stream",
          "name": "stdout",
          "text": [
            "w= 640 h= 480\n"
          ]
        },
        {
          "output_type": "display_data",
          "data": {
            "text/plain": [
              "<IPython.core.display.Javascript object>"
            ],
            "application/javascript": [
              "window[\"1aeefab2-9c70-11ef-9857-0242ac1c000c\"] = google.colab.output.setActiveOutputArea(window[\"1acd2fea-9c70-11ef-9857-0242ac1c000c\"]);\n",
              "//# sourceURL=js_509052b6b7"
            ]
          },
          "metadata": {}
        },
        {
          "output_type": "display_data",
          "data": {
            "text/plain": [
              "<IPython.core.display.HTML object>"
            ],
            "text/html": [
              "<style>\n",
              "       table#id60, #id60 > tbody > tr > th, #id60 > tbody > tr > td {\n",
              "         border: 1px solid lightgray;\n",
              "         border-collapse:collapse;\n",
              "         \n",
              "        }</style>"
            ]
          },
          "metadata": {}
        },
        {
          "output_type": "display_data",
          "data": {
            "text/plain": [
              "<IPython.core.display.HTML object>"
            ],
            "text/html": [
              "<table id=id60><tr><td id=id60-0-0></td><td id=id60-0-1></td></tr><tr><td id=id60-1-0></td><td id=id60-1-1></td></tr></table>"
            ]
          },
          "metadata": {}
        },
        {
          "output_type": "display_data",
          "data": {
            "text/plain": [
              "<IPython.core.display.Javascript object>"
            ],
            "application/javascript": [
              "window[\"1af254aa-9c70-11ef-9857-0242ac1c000c\"] = google.colab.output.getActiveOutputArea();\n",
              "//# sourceURL=js_618328bd7e"
            ]
          },
          "metadata": {}
        },
        {
          "output_type": "display_data",
          "data": {
            "text/plain": [
              "<IPython.core.display.Javascript object>"
            ],
            "application/javascript": [
              "window[\"1af296b8-9c70-11ef-9857-0242ac1c000c\"] = document.querySelector(\"#id60-0-0\");\n",
              "//# sourceURL=js_de500e1d50"
            ]
          },
          "metadata": {}
        },
        {
          "output_type": "display_data",
          "data": {
            "text/plain": [
              "<IPython.core.display.Javascript object>"
            ],
            "application/javascript": [
              "window[\"1af2d452-9c70-11ef-9857-0242ac1c000c\"] = google.colab.output.setActiveOutputArea(window[\"1af296b8-9c70-11ef-9857-0242ac1c000c\"]);\n",
              "//# sourceURL=js_84ddae9789"
            ]
          },
          "metadata": {}
        },
        {
          "output_type": "stream",
          "name": "stdout",
          "text": [
            "w= 640 h= 480\n"
          ]
        },
        {
          "output_type": "display_data",
          "data": {
            "text/plain": [
              "<IPython.core.display.Javascript object>"
            ],
            "application/javascript": [
              "window[\"1b0c21e6-9c70-11ef-9857-0242ac1c000c\"] = google.colab.output.setActiveOutputArea(window[\"1af254aa-9c70-11ef-9857-0242ac1c000c\"]);\n",
              "//# sourceURL=js_24183e2147"
            ]
          },
          "metadata": {}
        },
        {
          "output_type": "display_data",
          "data": {
            "text/plain": [
              "<IPython.core.display.Javascript object>"
            ],
            "application/javascript": [
              "window[\"1b0ee570-9c70-11ef-9857-0242ac1c000c\"] = google.colab.output.getActiveOutputArea();\n",
              "//# sourceURL=js_4145a7e7eb"
            ]
          },
          "metadata": {}
        },
        {
          "output_type": "display_data",
          "data": {
            "text/plain": [
              "<IPython.core.display.Javascript object>"
            ],
            "application/javascript": [
              "window[\"1b0fa35c-9c70-11ef-9857-0242ac1c000c\"] = document.querySelector(\"#id60-0-1\");\n",
              "//# sourceURL=js_8b84757e00"
            ]
          },
          "metadata": {}
        },
        {
          "output_type": "display_data",
          "data": {
            "text/plain": [
              "<IPython.core.display.Javascript object>"
            ],
            "application/javascript": [
              "window[\"1b0fe72c-9c70-11ef-9857-0242ac1c000c\"] = google.colab.output.setActiveOutputArea(window[\"1b0fa35c-9c70-11ef-9857-0242ac1c000c\"]);\n",
              "//# sourceURL=js_6a4e34fe63"
            ]
          },
          "metadata": {}
        },
        {
          "output_type": "stream",
          "name": "stdout",
          "text": [
            "w= 640 h= 480\n"
          ]
        },
        {
          "output_type": "display_data",
          "data": {
            "text/plain": [
              "<IPython.core.display.Javascript object>"
            ],
            "application/javascript": [
              "window[\"1b2f0daa-9c70-11ef-9857-0242ac1c000c\"] = google.colab.output.setActiveOutputArea(window[\"1b0ee570-9c70-11ef-9857-0242ac1c000c\"]);\n",
              "//# sourceURL=js_0e46eac6c3"
            ]
          },
          "metadata": {}
        },
        {
          "output_type": "display_data",
          "data": {
            "text/plain": [
              "<IPython.core.display.Javascript object>"
            ],
            "application/javascript": [
              "window[\"1b3273dc-9c70-11ef-9857-0242ac1c000c\"] = google.colab.output.getActiveOutputArea();\n",
              "//# sourceURL=js_0ff4d5a254"
            ]
          },
          "metadata": {}
        },
        {
          "output_type": "display_data",
          "data": {
            "text/plain": [
              "<IPython.core.display.Javascript object>"
            ],
            "application/javascript": [
              "window[\"1b32b8e2-9c70-11ef-9857-0242ac1c000c\"] = document.querySelector(\"#id60-1-0\");\n",
              "//# sourceURL=js_0462291aa8"
            ]
          },
          "metadata": {}
        },
        {
          "output_type": "display_data",
          "data": {
            "text/plain": [
              "<IPython.core.display.Javascript object>"
            ],
            "application/javascript": [
              "window[\"1b33cd4a-9c70-11ef-9857-0242ac1c000c\"] = google.colab.output.setActiveOutputArea(window[\"1b32b8e2-9c70-11ef-9857-0242ac1c000c\"]);\n",
              "//# sourceURL=js_d1d751a076"
            ]
          },
          "metadata": {}
        },
        {
          "output_type": "stream",
          "name": "stdout",
          "text": [
            "w= 640 h= 480\n"
          ]
        },
        {
          "output_type": "display_data",
          "data": {
            "text/plain": [
              "<IPython.core.display.Javascript object>"
            ],
            "application/javascript": [
              "window[\"1b58a1ec-9c70-11ef-9857-0242ac1c000c\"] = google.colab.output.setActiveOutputArea(window[\"1b3273dc-9c70-11ef-9857-0242ac1c000c\"]);\n",
              "//# sourceURL=js_c07774b0f7"
            ]
          },
          "metadata": {}
        },
        {
          "output_type": "display_data",
          "data": {
            "text/plain": [
              "<IPython.core.display.Javascript object>"
            ],
            "application/javascript": [
              "window[\"1b5b48ac-9c70-11ef-9857-0242ac1c000c\"] = google.colab.output.getActiveOutputArea();\n",
              "//# sourceURL=js_5e33867a3d"
            ]
          },
          "metadata": {}
        },
        {
          "output_type": "display_data",
          "data": {
            "text/plain": [
              "<IPython.core.display.Javascript object>"
            ],
            "application/javascript": [
              "window[\"1b5ba5cc-9c70-11ef-9857-0242ac1c000c\"] = document.querySelector(\"#id60-1-1\");\n",
              "//# sourceURL=js_c7c572e85c"
            ]
          },
          "metadata": {}
        },
        {
          "output_type": "display_data",
          "data": {
            "text/plain": [
              "<IPython.core.display.Javascript object>"
            ],
            "application/javascript": [
              "window[\"1b5c22cc-9c70-11ef-9857-0242ac1c000c\"] = google.colab.output.setActiveOutputArea(window[\"1b5ba5cc-9c70-11ef-9857-0242ac1c000c\"]);\n",
              "//# sourceURL=js_d2f2c48ec8"
            ]
          },
          "metadata": {}
        },
        {
          "output_type": "stream",
          "name": "stdout",
          "text": [
            "w= 640 h= 480\n"
          ]
        },
        {
          "output_type": "display_data",
          "data": {
            "text/plain": [
              "<IPython.core.display.Javascript object>"
            ],
            "application/javascript": [
              "window[\"1b796918-9c70-11ef-9857-0242ac1c000c\"] = google.colab.output.setActiveOutputArea(window[\"1b5b48ac-9c70-11ef-9857-0242ac1c000c\"]);\n",
              "//# sourceURL=js_dec45dd5d4"
            ]
          },
          "metadata": {}
        },
        {
          "output_type": "display_data",
          "data": {
            "text/plain": [
              "<IPython.core.display.HTML object>"
            ],
            "text/html": [
              "<style>\n",
              "       table#id62, #id62 > tbody > tr > th, #id62 > tbody > tr > td {\n",
              "         border: 1px solid lightgray;\n",
              "         border-collapse:collapse;\n",
              "         \n",
              "        }</style>"
            ]
          },
          "metadata": {}
        },
        {
          "output_type": "display_data",
          "data": {
            "text/plain": [
              "<IPython.core.display.HTML object>"
            ],
            "text/html": [
              "<table id=id62><tr><td id=id62-0-0></td><td id=id62-0-1></td></tr><tr><td id=id62-1-0></td><td id=id62-1-1></td></tr></table>"
            ]
          },
          "metadata": {}
        },
        {
          "output_type": "display_data",
          "data": {
            "text/plain": [
              "<IPython.core.display.Javascript object>"
            ],
            "application/javascript": [
              "window[\"1b7d7936-9c70-11ef-9857-0242ac1c000c\"] = google.colab.output.getActiveOutputArea();\n",
              "//# sourceURL=js_bc524f2b1d"
            ]
          },
          "metadata": {}
        },
        {
          "output_type": "display_data",
          "data": {
            "text/plain": [
              "<IPython.core.display.Javascript object>"
            ],
            "application/javascript": [
              "window[\"1b7dc328-9c70-11ef-9857-0242ac1c000c\"] = document.querySelector(\"#id62-0-0\");\n",
              "//# sourceURL=js_b94f46053e"
            ]
          },
          "metadata": {}
        },
        {
          "output_type": "display_data",
          "data": {
            "text/plain": [
              "<IPython.core.display.Javascript object>"
            ],
            "application/javascript": [
              "window[\"1b7e064e-9c70-11ef-9857-0242ac1c000c\"] = google.colab.output.setActiveOutputArea(window[\"1b7dc328-9c70-11ef-9857-0242ac1c000c\"]);\n",
              "//# sourceURL=js_130e141533"
            ]
          },
          "metadata": {}
        },
        {
          "output_type": "stream",
          "name": "stdout",
          "text": [
            "w= 640 h= 480\n"
          ]
        },
        {
          "output_type": "display_data",
          "data": {
            "text/plain": [
              "<IPython.core.display.Javascript object>"
            ],
            "application/javascript": [
              "window[\"1b99d158-9c70-11ef-9857-0242ac1c000c\"] = google.colab.output.setActiveOutputArea(window[\"1b7d7936-9c70-11ef-9857-0242ac1c000c\"]);\n",
              "//# sourceURL=js_7c46e883dc"
            ]
          },
          "metadata": {}
        },
        {
          "output_type": "display_data",
          "data": {
            "text/plain": [
              "<IPython.core.display.Javascript object>"
            ],
            "application/javascript": [
              "window[\"1b9c80f6-9c70-11ef-9857-0242ac1c000c\"] = google.colab.output.getActiveOutputArea();\n",
              "//# sourceURL=js_6d1e9226bf"
            ]
          },
          "metadata": {}
        },
        {
          "output_type": "display_data",
          "data": {
            "text/plain": [
              "<IPython.core.display.Javascript object>"
            ],
            "application/javascript": [
              "window[\"1b9cc6e2-9c70-11ef-9857-0242ac1c000c\"] = document.querySelector(\"#id62-0-1\");\n",
              "//# sourceURL=js_183ea112cf"
            ]
          },
          "metadata": {}
        },
        {
          "output_type": "display_data",
          "data": {
            "text/plain": [
              "<IPython.core.display.Javascript object>"
            ],
            "application/javascript": [
              "window[\"1b9d0710-9c70-11ef-9857-0242ac1c000c\"] = google.colab.output.setActiveOutputArea(window[\"1b9cc6e2-9c70-11ef-9857-0242ac1c000c\"]);\n",
              "//# sourceURL=js_c99d6d673d"
            ]
          },
          "metadata": {}
        },
        {
          "output_type": "stream",
          "name": "stdout",
          "text": [
            "w= 640 h= 480\n"
          ]
        },
        {
          "output_type": "display_data",
          "data": {
            "text/plain": [
              "<IPython.core.display.Javascript object>"
            ],
            "application/javascript": [
              "window[\"1bb5604e-9c70-11ef-9857-0242ac1c000c\"] = google.colab.output.setActiveOutputArea(window[\"1b9c80f6-9c70-11ef-9857-0242ac1c000c\"]);\n",
              "//# sourceURL=js_28f8eba241"
            ]
          },
          "metadata": {}
        },
        {
          "output_type": "display_data",
          "data": {
            "text/plain": [
              "<IPython.core.display.Javascript object>"
            ],
            "application/javascript": [
              "window[\"1bb78bd0-9c70-11ef-9857-0242ac1c000c\"] = google.colab.output.getActiveOutputArea();\n",
              "//# sourceURL=js_8cb24de2c9"
            ]
          },
          "metadata": {}
        },
        {
          "output_type": "display_data",
          "data": {
            "text/plain": [
              "<IPython.core.display.Javascript object>"
            ],
            "application/javascript": [
              "window[\"1bb7d112-9c70-11ef-9857-0242ac1c000c\"] = document.querySelector(\"#id62-1-0\");\n",
              "//# sourceURL=js_4c2850b143"
            ]
          },
          "metadata": {}
        },
        {
          "output_type": "display_data",
          "data": {
            "text/plain": [
              "<IPython.core.display.Javascript object>"
            ],
            "application/javascript": [
              "window[\"1bb84c78-9c70-11ef-9857-0242ac1c000c\"] = google.colab.output.setActiveOutputArea(window[\"1bb7d112-9c70-11ef-9857-0242ac1c000c\"]);\n",
              "//# sourceURL=js_8aadc1b5f9"
            ]
          },
          "metadata": {}
        },
        {
          "output_type": "stream",
          "name": "stdout",
          "text": [
            "w= 640 h= 480\n"
          ]
        },
        {
          "output_type": "display_data",
          "data": {
            "text/plain": [
              "<IPython.core.display.Javascript object>"
            ],
            "application/javascript": [
              "window[\"1bd5c456-9c70-11ef-9857-0242ac1c000c\"] = google.colab.output.setActiveOutputArea(window[\"1bb78bd0-9c70-11ef-9857-0242ac1c000c\"]);\n",
              "//# sourceURL=js_9471744b45"
            ]
          },
          "metadata": {}
        },
        {
          "output_type": "display_data",
          "data": {
            "text/plain": [
              "<IPython.core.display.Javascript object>"
            ],
            "application/javascript": [
              "window[\"1bd80662-9c70-11ef-9857-0242ac1c000c\"] = google.colab.output.getActiveOutputArea();\n",
              "//# sourceURL=js_c7ec1726d4"
            ]
          },
          "metadata": {}
        },
        {
          "output_type": "display_data",
          "data": {
            "text/plain": [
              "<IPython.core.display.Javascript object>"
            ],
            "application/javascript": [
              "window[\"1bd872c8-9c70-11ef-9857-0242ac1c000c\"] = document.querySelector(\"#id62-1-1\");\n",
              "//# sourceURL=js_a7a5a5ebf0"
            ]
          },
          "metadata": {}
        },
        {
          "output_type": "display_data",
          "data": {
            "text/plain": [
              "<IPython.core.display.Javascript object>"
            ],
            "application/javascript": [
              "window[\"1bd8dea2-9c70-11ef-9857-0242ac1c000c\"] = google.colab.output.setActiveOutputArea(window[\"1bd872c8-9c70-11ef-9857-0242ac1c000c\"]);\n",
              "//# sourceURL=js_4e4e05e7fc"
            ]
          },
          "metadata": {}
        },
        {
          "output_type": "stream",
          "name": "stdout",
          "text": [
            "w= 640 h= 480\n"
          ]
        },
        {
          "output_type": "display_data",
          "data": {
            "text/plain": [
              "<IPython.core.display.Javascript object>"
            ],
            "application/javascript": [
              "window[\"1c1760dc-9c70-11ef-9857-0242ac1c000c\"] = google.colab.output.setActiveOutputArea(window[\"1bd80662-9c70-11ef-9857-0242ac1c000c\"]);\n",
              "//# sourceURL=js_a1606bba7e"
            ]
          },
          "metadata": {}
        },
        {
          "output_type": "display_data",
          "data": {
            "text/plain": [
              "<IPython.core.display.HTML object>"
            ],
            "text/html": [
              "<style>\n",
              "       table#id64, #id64 > tbody > tr > th, #id64 > tbody > tr > td {\n",
              "         border: 1px solid lightgray;\n",
              "         border-collapse:collapse;\n",
              "         \n",
              "        }</style>"
            ]
          },
          "metadata": {}
        },
        {
          "output_type": "display_data",
          "data": {
            "text/plain": [
              "<IPython.core.display.HTML object>"
            ],
            "text/html": [
              "<table id=id64><tr><td id=id64-0-0></td><td id=id64-0-1></td></tr><tr><td id=id64-1-0></td><td id=id64-1-1></td></tr></table>"
            ]
          },
          "metadata": {}
        },
        {
          "output_type": "display_data",
          "data": {
            "text/plain": [
              "<IPython.core.display.Javascript object>"
            ],
            "application/javascript": [
              "window[\"1c1b8c16-9c70-11ef-9857-0242ac1c000c\"] = google.colab.output.getActiveOutputArea();\n",
              "//# sourceURL=js_748735103c"
            ]
          },
          "metadata": {}
        },
        {
          "output_type": "display_data",
          "data": {
            "text/plain": [
              "<IPython.core.display.Javascript object>"
            ],
            "application/javascript": [
              "window[\"1c1bdb94-9c70-11ef-9857-0242ac1c000c\"] = document.querySelector(\"#id64-0-0\");\n",
              "//# sourceURL=js_67830100ba"
            ]
          },
          "metadata": {}
        },
        {
          "output_type": "display_data",
          "data": {
            "text/plain": [
              "<IPython.core.display.Javascript object>"
            ],
            "application/javascript": [
              "window[\"1c1c2c52-9c70-11ef-9857-0242ac1c000c\"] = google.colab.output.setActiveOutputArea(window[\"1c1bdb94-9c70-11ef-9857-0242ac1c000c\"]);\n",
              "//# sourceURL=js_482aca758b"
            ]
          },
          "metadata": {}
        },
        {
          "output_type": "stream",
          "name": "stdout",
          "text": [
            "w= 640 h= 480\n"
          ]
        },
        {
          "output_type": "display_data",
          "data": {
            "text/plain": [
              "<IPython.core.display.Javascript object>"
            ],
            "application/javascript": [
              "window[\"1c356bc2-9c70-11ef-9857-0242ac1c000c\"] = google.colab.output.setActiveOutputArea(window[\"1c1b8c16-9c70-11ef-9857-0242ac1c000c\"]);\n",
              "//# sourceURL=js_fdfc4fdace"
            ]
          },
          "metadata": {}
        },
        {
          "output_type": "display_data",
          "data": {
            "text/plain": [
              "<IPython.core.display.Javascript object>"
            ],
            "application/javascript": [
              "window[\"1c37815a-9c70-11ef-9857-0242ac1c000c\"] = google.colab.output.getActiveOutputArea();\n",
              "//# sourceURL=js_fd1897388e"
            ]
          },
          "metadata": {}
        },
        {
          "output_type": "display_data",
          "data": {
            "text/plain": [
              "<IPython.core.display.Javascript object>"
            ],
            "application/javascript": [
              "window[\"1c37c75a-9c70-11ef-9857-0242ac1c000c\"] = document.querySelector(\"#id64-0-1\");\n",
              "//# sourceURL=js_c8ad2d84a4"
            ]
          },
          "metadata": {}
        },
        {
          "output_type": "display_data",
          "data": {
            "text/plain": [
              "<IPython.core.display.Javascript object>"
            ],
            "application/javascript": [
              "window[\"1c380de6-9c70-11ef-9857-0242ac1c000c\"] = google.colab.output.setActiveOutputArea(window[\"1c37c75a-9c70-11ef-9857-0242ac1c000c\"]);\n",
              "//# sourceURL=js_9cb1a22575"
            ]
          },
          "metadata": {}
        },
        {
          "output_type": "stream",
          "name": "stdout",
          "text": [
            "w= 640 h= 480\n"
          ]
        },
        {
          "output_type": "display_data",
          "data": {
            "text/plain": [
              "<IPython.core.display.Javascript object>"
            ],
            "application/javascript": [
              "window[\"1c530cea-9c70-11ef-9857-0242ac1c000c\"] = google.colab.output.setActiveOutputArea(window[\"1c37815a-9c70-11ef-9857-0242ac1c000c\"]);\n",
              "//# sourceURL=js_0fbc0e3426"
            ]
          },
          "metadata": {}
        },
        {
          "output_type": "display_data",
          "data": {
            "text/plain": [
              "<IPython.core.display.Javascript object>"
            ],
            "application/javascript": [
              "window[\"1c553a56-9c70-11ef-9857-0242ac1c000c\"] = google.colab.output.getActiveOutputArea();\n",
              "//# sourceURL=js_c9541c4859"
            ]
          },
          "metadata": {}
        },
        {
          "output_type": "display_data",
          "data": {
            "text/plain": [
              "<IPython.core.display.Javascript object>"
            ],
            "application/javascript": [
              "window[\"1c55866e-9c70-11ef-9857-0242ac1c000c\"] = document.querySelector(\"#id64-1-0\");\n",
              "//# sourceURL=js_ded576d3ae"
            ]
          },
          "metadata": {}
        },
        {
          "output_type": "display_data",
          "data": {
            "text/plain": [
              "<IPython.core.display.Javascript object>"
            ],
            "application/javascript": [
              "window[\"1c561124-9c70-11ef-9857-0242ac1c000c\"] = google.colab.output.setActiveOutputArea(window[\"1c55866e-9c70-11ef-9857-0242ac1c000c\"]);\n",
              "//# sourceURL=js_8cb8284bd2"
            ]
          },
          "metadata": {}
        },
        {
          "output_type": "stream",
          "name": "stdout",
          "text": [
            "w= 640 h= 480\n"
          ]
        },
        {
          "output_type": "display_data",
          "data": {
            "text/plain": [
              "<IPython.core.display.Javascript object>"
            ],
            "application/javascript": [
              "window[\"1c7445e0-9c70-11ef-9857-0242ac1c000c\"] = google.colab.output.setActiveOutputArea(window[\"1c553a56-9c70-11ef-9857-0242ac1c000c\"]);\n",
              "//# sourceURL=js_31d265d2ca"
            ]
          },
          "metadata": {}
        },
        {
          "output_type": "display_data",
          "data": {
            "text/plain": [
              "<IPython.core.display.Javascript object>"
            ],
            "application/javascript": [
              "window[\"1c790ea4-9c70-11ef-9857-0242ac1c000c\"] = google.colab.output.getActiveOutputArea();\n",
              "//# sourceURL=js_6709cb3fe8"
            ]
          },
          "metadata": {}
        },
        {
          "output_type": "display_data",
          "data": {
            "text/plain": [
              "<IPython.core.display.Javascript object>"
            ],
            "application/javascript": [
              "window[\"1c79b50c-9c70-11ef-9857-0242ac1c000c\"] = document.querySelector(\"#id64-1-1\");\n",
              "//# sourceURL=js_ee1f709e38"
            ]
          },
          "metadata": {}
        },
        {
          "output_type": "display_data",
          "data": {
            "text/plain": [
              "<IPython.core.display.Javascript object>"
            ],
            "application/javascript": [
              "window[\"1c7a35c2-9c70-11ef-9857-0242ac1c000c\"] = google.colab.output.setActiveOutputArea(window[\"1c79b50c-9c70-11ef-9857-0242ac1c000c\"]);\n",
              "//# sourceURL=js_b170bed281"
            ]
          },
          "metadata": {}
        },
        {
          "output_type": "stream",
          "name": "stdout",
          "text": [
            "w= 640 h= 480\n"
          ]
        },
        {
          "output_type": "display_data",
          "data": {
            "text/plain": [
              "<IPython.core.display.Javascript object>"
            ],
            "application/javascript": [
              "window[\"1c9604a0-9c70-11ef-9857-0242ac1c000c\"] = google.colab.output.setActiveOutputArea(window[\"1c790ea4-9c70-11ef-9857-0242ac1c000c\"]);\n",
              "//# sourceURL=js_a3e7c478c6"
            ]
          },
          "metadata": {}
        },
        {
          "output_type": "display_data",
          "data": {
            "text/plain": [
              "<IPython.core.display.HTML object>"
            ],
            "text/html": [
              "<style>\n",
              "       table#id66, #id66 > tbody > tr > th, #id66 > tbody > tr > td {\n",
              "         border: 1px solid lightgray;\n",
              "         border-collapse:collapse;\n",
              "         \n",
              "        }</style>"
            ]
          },
          "metadata": {}
        },
        {
          "output_type": "display_data",
          "data": {
            "text/plain": [
              "<IPython.core.display.HTML object>"
            ],
            "text/html": [
              "<table id=id66><tr><td id=id66-0-0></td><td id=id66-0-1></td></tr><tr><td id=id66-1-0></td><td id=id66-1-1></td></tr></table>"
            ]
          },
          "metadata": {}
        },
        {
          "output_type": "display_data",
          "data": {
            "text/plain": [
              "<IPython.core.display.Javascript object>"
            ],
            "application/javascript": [
              "window[\"1c9ad156-9c70-11ef-9857-0242ac1c000c\"] = google.colab.output.getActiveOutputArea();\n",
              "//# sourceURL=js_467fe892d0"
            ]
          },
          "metadata": {}
        },
        {
          "output_type": "display_data",
          "data": {
            "text/plain": [
              "<IPython.core.display.Javascript object>"
            ],
            "application/javascript": [
              "window[\"1c9b167a-9c70-11ef-9857-0242ac1c000c\"] = document.querySelector(\"#id66-0-0\");\n",
              "//# sourceURL=js_8a29022e05"
            ]
          },
          "metadata": {}
        },
        {
          "output_type": "display_data",
          "data": {
            "text/plain": [
              "<IPython.core.display.Javascript object>"
            ],
            "application/javascript": [
              "window[\"1c9b5824-9c70-11ef-9857-0242ac1c000c\"] = google.colab.output.setActiveOutputArea(window[\"1c9b167a-9c70-11ef-9857-0242ac1c000c\"]);\n",
              "//# sourceURL=js_d203e0b00b"
            ]
          },
          "metadata": {}
        },
        {
          "output_type": "stream",
          "name": "stdout",
          "text": [
            "w= 640 h= 480\n"
          ]
        },
        {
          "output_type": "display_data",
          "data": {
            "text/plain": [
              "<IPython.core.display.Javascript object>"
            ],
            "application/javascript": [
              "window[\"1cb58a82-9c70-11ef-9857-0242ac1c000c\"] = google.colab.output.setActiveOutputArea(window[\"1c9ad156-9c70-11ef-9857-0242ac1c000c\"]);\n",
              "//# sourceURL=js_4e25a03510"
            ]
          },
          "metadata": {}
        },
        {
          "output_type": "display_data",
          "data": {
            "text/plain": [
              "<IPython.core.display.Javascript object>"
            ],
            "application/javascript": [
              "window[\"1cb870f8-9c70-11ef-9857-0242ac1c000c\"] = google.colab.output.getActiveOutputArea();\n",
              "//# sourceURL=js_f14188405c"
            ]
          },
          "metadata": {}
        },
        {
          "output_type": "display_data",
          "data": {
            "text/plain": [
              "<IPython.core.display.Javascript object>"
            ],
            "application/javascript": [
              "window[\"1cb8ab72-9c70-11ef-9857-0242ac1c000c\"] = document.querySelector(\"#id66-0-1\");\n",
              "//# sourceURL=js_55c5ea9d5a"
            ]
          },
          "metadata": {}
        },
        {
          "output_type": "display_data",
          "data": {
            "text/plain": [
              "<IPython.core.display.Javascript object>"
            ],
            "application/javascript": [
              "window[\"1cb93d80-9c70-11ef-9857-0242ac1c000c\"] = google.colab.output.setActiveOutputArea(window[\"1cb8ab72-9c70-11ef-9857-0242ac1c000c\"]);\n",
              "//# sourceURL=js_97f8f055ec"
            ]
          },
          "metadata": {}
        },
        {
          "output_type": "stream",
          "name": "stdout",
          "text": [
            "w= 640 h= 480\n"
          ]
        },
        {
          "output_type": "display_data",
          "data": {
            "text/plain": [
              "<IPython.core.display.Javascript object>"
            ],
            "application/javascript": [
              "window[\"1cd30c10-9c70-11ef-9857-0242ac1c000c\"] = google.colab.output.setActiveOutputArea(window[\"1cb870f8-9c70-11ef-9857-0242ac1c000c\"]);\n",
              "//# sourceURL=js_5438367ade"
            ]
          },
          "metadata": {}
        },
        {
          "output_type": "display_data",
          "data": {
            "text/plain": [
              "<IPython.core.display.Javascript object>"
            ],
            "application/javascript": [
              "window[\"1cd5ea20-9c70-11ef-9857-0242ac1c000c\"] = google.colab.output.getActiveOutputArea();\n",
              "//# sourceURL=js_05f1164ac0"
            ]
          },
          "metadata": {}
        },
        {
          "output_type": "display_data",
          "data": {
            "text/plain": [
              "<IPython.core.display.Javascript object>"
            ],
            "application/javascript": [
              "window[\"1cd64c90-9c70-11ef-9857-0242ac1c000c\"] = document.querySelector(\"#id66-1-0\");\n",
              "//# sourceURL=js_562375ca0e"
            ]
          },
          "metadata": {}
        },
        {
          "output_type": "display_data",
          "data": {
            "text/plain": [
              "<IPython.core.display.Javascript object>"
            ],
            "application/javascript": [
              "window[\"1cd75220-9c70-11ef-9857-0242ac1c000c\"] = google.colab.output.setActiveOutputArea(window[\"1cd64c90-9c70-11ef-9857-0242ac1c000c\"]);\n",
              "//# sourceURL=js_de705c34a4"
            ]
          },
          "metadata": {}
        },
        {
          "output_type": "stream",
          "name": "stdout",
          "text": [
            "w= 640 h= 480\n"
          ]
        },
        {
          "output_type": "display_data",
          "data": {
            "text/plain": [
              "<IPython.core.display.Javascript object>"
            ],
            "application/javascript": [
              "window[\"1cf2b088-9c70-11ef-9857-0242ac1c000c\"] = google.colab.output.setActiveOutputArea(window[\"1cd5ea20-9c70-11ef-9857-0242ac1c000c\"]);\n",
              "//# sourceURL=js_ba54db0fef"
            ]
          },
          "metadata": {}
        },
        {
          "output_type": "display_data",
          "data": {
            "text/plain": [
              "<IPython.core.display.Javascript object>"
            ],
            "application/javascript": [
              "window[\"1cf58eac-9c70-11ef-9857-0242ac1c000c\"] = google.colab.output.getActiveOutputArea();\n",
              "//# sourceURL=js_d8df81cf4a"
            ]
          },
          "metadata": {}
        },
        {
          "output_type": "display_data",
          "data": {
            "text/plain": [
              "<IPython.core.display.Javascript object>"
            ],
            "application/javascript": [
              "window[\"1cf5d5a6-9c70-11ef-9857-0242ac1c000c\"] = document.querySelector(\"#id66-1-1\");\n",
              "//# sourceURL=js_06bf093ff5"
            ]
          },
          "metadata": {}
        },
        {
          "output_type": "display_data",
          "data": {
            "text/plain": [
              "<IPython.core.display.Javascript object>"
            ],
            "application/javascript": [
              "window[\"1cf6a594-9c70-11ef-9857-0242ac1c000c\"] = google.colab.output.setActiveOutputArea(window[\"1cf5d5a6-9c70-11ef-9857-0242ac1c000c\"]);\n",
              "//# sourceURL=js_a14be6d068"
            ]
          },
          "metadata": {}
        },
        {
          "output_type": "stream",
          "name": "stdout",
          "text": [
            "w= 640 h= 480\n"
          ]
        },
        {
          "output_type": "display_data",
          "data": {
            "text/plain": [
              "<IPython.core.display.Javascript object>"
            ],
            "application/javascript": [
              "window[\"1d14b9e4-9c70-11ef-9857-0242ac1c000c\"] = google.colab.output.setActiveOutputArea(window[\"1cf58eac-9c70-11ef-9857-0242ac1c000c\"]);\n",
              "//# sourceURL=js_49ec6a6dd8"
            ]
          },
          "metadata": {}
        },
        {
          "output_type": "display_data",
          "data": {
            "text/plain": [
              "<IPython.core.display.HTML object>"
            ],
            "text/html": [
              "<style>\n",
              "       table#id68, #id68 > tbody > tr > th, #id68 > tbody > tr > td {\n",
              "         border: 1px solid lightgray;\n",
              "         border-collapse:collapse;\n",
              "         \n",
              "        }</style>"
            ]
          },
          "metadata": {}
        },
        {
          "output_type": "display_data",
          "data": {
            "text/plain": [
              "<IPython.core.display.HTML object>"
            ],
            "text/html": [
              "<table id=id68><tr><td id=id68-0-0></td><td id=id68-0-1></td></tr><tr><td id=id68-1-0></td><td id=id68-1-1></td></tr></table>"
            ]
          },
          "metadata": {}
        },
        {
          "output_type": "display_data",
          "data": {
            "text/plain": [
              "<IPython.core.display.Javascript object>"
            ],
            "application/javascript": [
              "window[\"1d1ab588-9c70-11ef-9857-0242ac1c000c\"] = google.colab.output.getActiveOutputArea();\n",
              "//# sourceURL=js_6d19def4a9"
            ]
          },
          "metadata": {}
        },
        {
          "output_type": "display_data",
          "data": {
            "text/plain": [
              "<IPython.core.display.Javascript object>"
            ],
            "application/javascript": [
              "window[\"1d1b1aa0-9c70-11ef-9857-0242ac1c000c\"] = document.querySelector(\"#id68-0-0\");\n",
              "//# sourceURL=js_1c52a454c3"
            ]
          },
          "metadata": {}
        },
        {
          "output_type": "display_data",
          "data": {
            "text/plain": [
              "<IPython.core.display.Javascript object>"
            ],
            "application/javascript": [
              "window[\"1d1b7afe-9c70-11ef-9857-0242ac1c000c\"] = google.colab.output.setActiveOutputArea(window[\"1d1b1aa0-9c70-11ef-9857-0242ac1c000c\"]);\n",
              "//# sourceURL=js_e9e7fe6387"
            ]
          },
          "metadata": {}
        },
        {
          "output_type": "stream",
          "name": "stdout",
          "text": [
            "w= 640 h= 480\n"
          ]
        },
        {
          "output_type": "display_data",
          "data": {
            "text/plain": [
              "<IPython.core.display.Javascript object>"
            ],
            "application/javascript": [
              "window[\"1d365130-9c70-11ef-9857-0242ac1c000c\"] = google.colab.output.setActiveOutputArea(window[\"1d1ab588-9c70-11ef-9857-0242ac1c000c\"]);\n",
              "//# sourceURL=js_02bfc23215"
            ]
          },
          "metadata": {}
        },
        {
          "output_type": "display_data",
          "data": {
            "text/plain": [
              "<IPython.core.display.Javascript object>"
            ],
            "application/javascript": [
              "window[\"1d393e72-9c70-11ef-9857-0242ac1c000c\"] = google.colab.output.getActiveOutputArea();\n",
              "//# sourceURL=js_2ff93029e4"
            ]
          },
          "metadata": {}
        },
        {
          "output_type": "display_data",
          "data": {
            "text/plain": [
              "<IPython.core.display.Javascript object>"
            ],
            "application/javascript": [
              "window[\"1d39ddd2-9c70-11ef-9857-0242ac1c000c\"] = document.querySelector(\"#id68-0-1\");\n",
              "//# sourceURL=js_8b2db2ef6e"
            ]
          },
          "metadata": {}
        },
        {
          "output_type": "display_data",
          "data": {
            "text/plain": [
              "<IPython.core.display.Javascript object>"
            ],
            "application/javascript": [
              "window[\"1d3ac83c-9c70-11ef-9857-0242ac1c000c\"] = google.colab.output.setActiveOutputArea(window[\"1d39ddd2-9c70-11ef-9857-0242ac1c000c\"]);\n",
              "//# sourceURL=js_7a88dc384c"
            ]
          },
          "metadata": {}
        },
        {
          "output_type": "stream",
          "name": "stdout",
          "text": [
            "w= 640 h= 480\n"
          ]
        },
        {
          "output_type": "display_data",
          "data": {
            "text/plain": [
              "<IPython.core.display.Javascript object>"
            ],
            "application/javascript": [
              "window[\"1d56d194-9c70-11ef-9857-0242ac1c000c\"] = google.colab.output.setActiveOutputArea(window[\"1d393e72-9c70-11ef-9857-0242ac1c000c\"]);\n",
              "//# sourceURL=js_888f0b664a"
            ]
          },
          "metadata": {}
        },
        {
          "output_type": "display_data",
          "data": {
            "text/plain": [
              "<IPython.core.display.Javascript object>"
            ],
            "application/javascript": [
              "window[\"1d59a1a8-9c70-11ef-9857-0242ac1c000c\"] = google.colab.output.getActiveOutputArea();\n",
              "//# sourceURL=js_d824c927fd"
            ]
          },
          "metadata": {}
        },
        {
          "output_type": "display_data",
          "data": {
            "text/plain": [
              "<IPython.core.display.Javascript object>"
            ],
            "application/javascript": [
              "window[\"1d5a1bf6-9c70-11ef-9857-0242ac1c000c\"] = document.querySelector(\"#id68-1-0\");\n",
              "//# sourceURL=js_3e95d72c11"
            ]
          },
          "metadata": {}
        },
        {
          "output_type": "display_data",
          "data": {
            "text/plain": [
              "<IPython.core.display.Javascript object>"
            ],
            "application/javascript": [
              "window[\"1d5a612e-9c70-11ef-9857-0242ac1c000c\"] = google.colab.output.setActiveOutputArea(window[\"1d5a1bf6-9c70-11ef-9857-0242ac1c000c\"]);\n",
              "//# sourceURL=js_805a645583"
            ]
          },
          "metadata": {}
        },
        {
          "output_type": "stream",
          "name": "stdout",
          "text": [
            "w= 640 h= 480\n"
          ]
        },
        {
          "output_type": "display_data",
          "data": {
            "text/plain": [
              "<IPython.core.display.Javascript object>"
            ],
            "application/javascript": [
              "window[\"1d786930-9c70-11ef-9857-0242ac1c000c\"] = google.colab.output.setActiveOutputArea(window[\"1d59a1a8-9c70-11ef-9857-0242ac1c000c\"]);\n",
              "//# sourceURL=js_4f635e0fd8"
            ]
          },
          "metadata": {}
        },
        {
          "output_type": "display_data",
          "data": {
            "text/plain": [
              "<IPython.core.display.Javascript object>"
            ],
            "application/javascript": [
              "window[\"1d7b2a3a-9c70-11ef-9857-0242ac1c000c\"] = google.colab.output.getActiveOutputArea();\n",
              "//# sourceURL=js_3daf1bd35e"
            ]
          },
          "metadata": {}
        },
        {
          "output_type": "display_data",
          "data": {
            "text/plain": [
              "<IPython.core.display.Javascript object>"
            ],
            "application/javascript": [
              "window[\"1d7b7ee0-9c70-11ef-9857-0242ac1c000c\"] = document.querySelector(\"#id68-1-1\");\n",
              "//# sourceURL=js_a1e7d9e06d"
            ]
          },
          "metadata": {}
        },
        {
          "output_type": "display_data",
          "data": {
            "text/plain": [
              "<IPython.core.display.Javascript object>"
            ],
            "application/javascript": [
              "window[\"1d7bfcb2-9c70-11ef-9857-0242ac1c000c\"] = google.colab.output.setActiveOutputArea(window[\"1d7b7ee0-9c70-11ef-9857-0242ac1c000c\"]);\n",
              "//# sourceURL=js_b061dfaf34"
            ]
          },
          "metadata": {}
        },
        {
          "output_type": "stream",
          "name": "stdout",
          "text": [
            "w= 640 h= 480\n"
          ]
        },
        {
          "output_type": "display_data",
          "data": {
            "text/plain": [
              "<IPython.core.display.Javascript object>"
            ],
            "application/javascript": [
              "window[\"1d9906b8-9c70-11ef-9857-0242ac1c000c\"] = google.colab.output.setActiveOutputArea(window[\"1d7b2a3a-9c70-11ef-9857-0242ac1c000c\"]);\n",
              "//# sourceURL=js_53bc5879d5"
            ]
          },
          "metadata": {}
        },
        {
          "output_type": "display_data",
          "data": {
            "text/plain": [
              "<IPython.core.display.HTML object>"
            ],
            "text/html": [
              "<style>\n",
              "       table#id70, #id70 > tbody > tr > th, #id70 > tbody > tr > td {\n",
              "         border: 1px solid lightgray;\n",
              "         border-collapse:collapse;\n",
              "         \n",
              "        }</style>"
            ]
          },
          "metadata": {}
        },
        {
          "output_type": "display_data",
          "data": {
            "text/plain": [
              "<IPython.core.display.HTML object>"
            ],
            "text/html": [
              "<table id=id70><tr><td id=id70-0-0></td><td id=id70-0-1></td></tr><tr><td id=id70-1-0></td><td id=id70-1-1></td></tr></table>"
            ]
          },
          "metadata": {}
        },
        {
          "output_type": "display_data",
          "data": {
            "text/plain": [
              "<IPython.core.display.Javascript object>"
            ],
            "application/javascript": [
              "window[\"1d9dfb82-9c70-11ef-9857-0242ac1c000c\"] = google.colab.output.getActiveOutputArea();\n",
              "//# sourceURL=js_2bbb364adf"
            ]
          },
          "metadata": {}
        },
        {
          "output_type": "display_data",
          "data": {
            "text/plain": [
              "<IPython.core.display.Javascript object>"
            ],
            "application/javascript": [
              "window[\"1d9e990c-9c70-11ef-9857-0242ac1c000c\"] = document.querySelector(\"#id70-0-0\");\n",
              "//# sourceURL=js_aaad1cd0f1"
            ]
          },
          "metadata": {}
        },
        {
          "output_type": "display_data",
          "data": {
            "text/plain": [
              "<IPython.core.display.Javascript object>"
            ],
            "application/javascript": [
              "window[\"1d9ef352-9c70-11ef-9857-0242ac1c000c\"] = google.colab.output.setActiveOutputArea(window[\"1d9e990c-9c70-11ef-9857-0242ac1c000c\"]);\n",
              "//# sourceURL=js_26031aad90"
            ]
          },
          "metadata": {}
        },
        {
          "output_type": "stream",
          "name": "stdout",
          "text": [
            "w= 640 h= 480\n"
          ]
        },
        {
          "output_type": "display_data",
          "data": {
            "text/plain": [
              "<IPython.core.display.Javascript object>"
            ],
            "application/javascript": [
              "window[\"1dbfed64-9c70-11ef-9857-0242ac1c000c\"] = google.colab.output.setActiveOutputArea(window[\"1d9dfb82-9c70-11ef-9857-0242ac1c000c\"]);\n",
              "//# sourceURL=js_7b92423342"
            ]
          },
          "metadata": {}
        },
        {
          "output_type": "display_data",
          "data": {
            "text/plain": [
              "<IPython.core.display.Javascript object>"
            ],
            "application/javascript": [
              "window[\"1dc2e8fc-9c70-11ef-9857-0242ac1c000c\"] = google.colab.output.getActiveOutputArea();\n",
              "//# sourceURL=js_1d3d2b8085"
            ]
          },
          "metadata": {}
        },
        {
          "output_type": "display_data",
          "data": {
            "text/plain": [
              "<IPython.core.display.Javascript object>"
            ],
            "application/javascript": [
              "window[\"1dc35a6c-9c70-11ef-9857-0242ac1c000c\"] = document.querySelector(\"#id70-0-1\");\n",
              "//# sourceURL=js_5403c0f6a5"
            ]
          },
          "metadata": {}
        },
        {
          "output_type": "display_data",
          "data": {
            "text/plain": [
              "<IPython.core.display.Javascript object>"
            ],
            "application/javascript": [
              "window[\"1dc3cbe6-9c70-11ef-9857-0242ac1c000c\"] = google.colab.output.setActiveOutputArea(window[\"1dc35a6c-9c70-11ef-9857-0242ac1c000c\"]);\n",
              "//# sourceURL=js_d0bbcd22a1"
            ]
          },
          "metadata": {}
        },
        {
          "output_type": "stream",
          "name": "stdout",
          "text": [
            "w= 640 h= 480\n"
          ]
        },
        {
          "output_type": "display_data",
          "data": {
            "text/plain": [
              "<IPython.core.display.Javascript object>"
            ],
            "application/javascript": [
              "window[\"1de011a2-9c70-11ef-9857-0242ac1c000c\"] = google.colab.output.setActiveOutputArea(window[\"1dc2e8fc-9c70-11ef-9857-0242ac1c000c\"]);\n",
              "//# sourceURL=js_f5108ecd3a"
            ]
          },
          "metadata": {}
        },
        {
          "output_type": "display_data",
          "data": {
            "text/plain": [
              "<IPython.core.display.Javascript object>"
            ],
            "application/javascript": [
              "window[\"1de2877a-9c70-11ef-9857-0242ac1c000c\"] = google.colab.output.getActiveOutputArea();\n",
              "//# sourceURL=js_781cc17c29"
            ]
          },
          "metadata": {}
        },
        {
          "output_type": "display_data",
          "data": {
            "text/plain": [
              "<IPython.core.display.Javascript object>"
            ],
            "application/javascript": [
              "window[\"1de31ac8-9c70-11ef-9857-0242ac1c000c\"] = document.querySelector(\"#id70-1-0\");\n",
              "//# sourceURL=js_ca716068e7"
            ]
          },
          "metadata": {}
        },
        {
          "output_type": "display_data",
          "data": {
            "text/plain": [
              "<IPython.core.display.Javascript object>"
            ],
            "application/javascript": [
              "window[\"1de392d2-9c70-11ef-9857-0242ac1c000c\"] = google.colab.output.setActiveOutputArea(window[\"1de31ac8-9c70-11ef-9857-0242ac1c000c\"]);\n",
              "//# sourceURL=js_715a970f23"
            ]
          },
          "metadata": {}
        },
        {
          "output_type": "stream",
          "name": "stdout",
          "text": [
            "w= 640 h= 480\n"
          ]
        },
        {
          "output_type": "display_data",
          "data": {
            "text/plain": [
              "<IPython.core.display.Javascript object>"
            ],
            "application/javascript": [
              "window[\"1dfe8a6a-9c70-11ef-9857-0242ac1c000c\"] = google.colab.output.setActiveOutputArea(window[\"1de2877a-9c70-11ef-9857-0242ac1c000c\"]);\n",
              "//# sourceURL=js_54c8752ad2"
            ]
          },
          "metadata": {}
        },
        {
          "output_type": "display_data",
          "data": {
            "text/plain": [
              "<IPython.core.display.Javascript object>"
            ],
            "application/javascript": [
              "window[\"1e015402-9c70-11ef-9857-0242ac1c000c\"] = google.colab.output.getActiveOutputArea();\n",
              "//# sourceURL=js_d84f646313"
            ]
          },
          "metadata": {}
        },
        {
          "output_type": "display_data",
          "data": {
            "text/plain": [
              "<IPython.core.display.Javascript object>"
            ],
            "application/javascript": [
              "window[\"1e020230-9c70-11ef-9857-0242ac1c000c\"] = document.querySelector(\"#id70-1-1\");\n",
              "//# sourceURL=js_36b180a133"
            ]
          },
          "metadata": {}
        },
        {
          "output_type": "display_data",
          "data": {
            "text/plain": [
              "<IPython.core.display.Javascript object>"
            ],
            "application/javascript": [
              "window[\"1e025ff0-9c70-11ef-9857-0242ac1c000c\"] = google.colab.output.setActiveOutputArea(window[\"1e020230-9c70-11ef-9857-0242ac1c000c\"]);\n",
              "//# sourceURL=js_9bef26791b"
            ]
          },
          "metadata": {}
        },
        {
          "output_type": "stream",
          "name": "stdout",
          "text": [
            "w= 640 h= 480\n"
          ]
        },
        {
          "output_type": "display_data",
          "data": {
            "text/plain": [
              "<IPython.core.display.Javascript object>"
            ],
            "application/javascript": [
              "window[\"1e1ae2a0-9c70-11ef-9857-0242ac1c000c\"] = google.colab.output.setActiveOutputArea(window[\"1e015402-9c70-11ef-9857-0242ac1c000c\"]);\n",
              "//# sourceURL=js_2d9b00eeed"
            ]
          },
          "metadata": {}
        },
        {
          "output_type": "display_data",
          "data": {
            "text/plain": [
              "<IPython.core.display.HTML object>"
            ],
            "text/html": [
              "<style>\n",
              "       table#id72, #id72 > tbody > tr > th, #id72 > tbody > tr > td {\n",
              "         border: 1px solid lightgray;\n",
              "         border-collapse:collapse;\n",
              "         \n",
              "        }</style>"
            ]
          },
          "metadata": {}
        },
        {
          "output_type": "display_data",
          "data": {
            "text/plain": [
              "<IPython.core.display.HTML object>"
            ],
            "text/html": [
              "<table id=id72><tr><td id=id72-0-0></td><td id=id72-0-1></td></tr><tr><td id=id72-1-0></td><td id=id72-1-1></td></tr></table>"
            ]
          },
          "metadata": {}
        },
        {
          "output_type": "display_data",
          "data": {
            "text/plain": [
              "<IPython.core.display.Javascript object>"
            ],
            "application/javascript": [
              "window[\"1e1ebed4-9c70-11ef-9857-0242ac1c000c\"] = google.colab.output.getActiveOutputArea();\n",
              "//# sourceURL=js_26ab86bdc7"
            ]
          },
          "metadata": {}
        },
        {
          "output_type": "display_data",
          "data": {
            "text/plain": [
              "<IPython.core.display.Javascript object>"
            ],
            "application/javascript": [
              "window[\"1e1f02ae-9c70-11ef-9857-0242ac1c000c\"] = document.querySelector(\"#id72-0-0\");\n",
              "//# sourceURL=js_710638a931"
            ]
          },
          "metadata": {}
        },
        {
          "output_type": "display_data",
          "data": {
            "text/plain": [
              "<IPython.core.display.Javascript object>"
            ],
            "application/javascript": [
              "window[\"1e1f4ea8-9c70-11ef-9857-0242ac1c000c\"] = google.colab.output.setActiveOutputArea(window[\"1e1f02ae-9c70-11ef-9857-0242ac1c000c\"]);\n",
              "//# sourceURL=js_9d332455b1"
            ]
          },
          "metadata": {}
        },
        {
          "output_type": "stream",
          "name": "stdout",
          "text": [
            "w= 640 h= 480\n"
          ]
        },
        {
          "output_type": "display_data",
          "data": {
            "text/plain": [
              "<IPython.core.display.Javascript object>"
            ],
            "application/javascript": [
              "window[\"1e3ec0e4-9c70-11ef-9857-0242ac1c000c\"] = google.colab.output.setActiveOutputArea(window[\"1e1ebed4-9c70-11ef-9857-0242ac1c000c\"]);\n",
              "//# sourceURL=js_19ad9a9b27"
            ]
          },
          "metadata": {}
        },
        {
          "output_type": "display_data",
          "data": {
            "text/plain": [
              "<IPython.core.display.Javascript object>"
            ],
            "application/javascript": [
              "window[\"1e414e36-9c70-11ef-9857-0242ac1c000c\"] = google.colab.output.getActiveOutputArea();\n",
              "//# sourceURL=js_b7c4de91c6"
            ]
          },
          "metadata": {}
        },
        {
          "output_type": "display_data",
          "data": {
            "text/plain": [
              "<IPython.core.display.Javascript object>"
            ],
            "application/javascript": [
              "window[\"1e41aea8-9c70-11ef-9857-0242ac1c000c\"] = document.querySelector(\"#id72-0-1\");\n",
              "//# sourceURL=js_a934f3ba58"
            ]
          },
          "metadata": {}
        },
        {
          "output_type": "display_data",
          "data": {
            "text/plain": [
              "<IPython.core.display.Javascript object>"
            ],
            "application/javascript": [
              "window[\"1e41f228-9c70-11ef-9857-0242ac1c000c\"] = google.colab.output.setActiveOutputArea(window[\"1e41aea8-9c70-11ef-9857-0242ac1c000c\"]);\n",
              "//# sourceURL=js_5cad79ca75"
            ]
          },
          "metadata": {}
        },
        {
          "output_type": "stream",
          "name": "stdout",
          "text": [
            "w= 640 h= 480\n"
          ]
        },
        {
          "output_type": "display_data",
          "data": {
            "text/plain": [
              "<IPython.core.display.Javascript object>"
            ],
            "application/javascript": [
              "window[\"1e647212-9c70-11ef-9857-0242ac1c000c\"] = google.colab.output.setActiveOutputArea(window[\"1e414e36-9c70-11ef-9857-0242ac1c000c\"]);\n",
              "//# sourceURL=js_7481222b7b"
            ]
          },
          "metadata": {}
        },
        {
          "output_type": "display_data",
          "data": {
            "text/plain": [
              "<IPython.core.display.Javascript object>"
            ],
            "application/javascript": [
              "window[\"1e673740-9c70-11ef-9857-0242ac1c000c\"] = google.colab.output.getActiveOutputArea();\n",
              "//# sourceURL=js_dfeccd535e"
            ]
          },
          "metadata": {}
        },
        {
          "output_type": "display_data",
          "data": {
            "text/plain": [
              "<IPython.core.display.Javascript object>"
            ],
            "application/javascript": [
              "window[\"1e67ab94-9c70-11ef-9857-0242ac1c000c\"] = document.querySelector(\"#id72-1-0\");\n",
              "//# sourceURL=js_afaf577dbd"
            ]
          },
          "metadata": {}
        },
        {
          "output_type": "display_data",
          "data": {
            "text/plain": [
              "<IPython.core.display.Javascript object>"
            ],
            "application/javascript": [
              "window[\"1e682ac4-9c70-11ef-9857-0242ac1c000c\"] = google.colab.output.setActiveOutputArea(window[\"1e67ab94-9c70-11ef-9857-0242ac1c000c\"]);\n",
              "//# sourceURL=js_c11b06316c"
            ]
          },
          "metadata": {}
        },
        {
          "output_type": "stream",
          "name": "stdout",
          "text": [
            "w= 640 h= 480\n"
          ]
        },
        {
          "output_type": "display_data",
          "data": {
            "text/plain": [
              "<IPython.core.display.Javascript object>"
            ],
            "application/javascript": [
              "window[\"1e82e33c-9c70-11ef-9857-0242ac1c000c\"] = google.colab.output.setActiveOutputArea(window[\"1e673740-9c70-11ef-9857-0242ac1c000c\"]);\n",
              "//# sourceURL=js_0c721d0062"
            ]
          },
          "metadata": {}
        },
        {
          "output_type": "display_data",
          "data": {
            "text/plain": [
              "<IPython.core.display.Javascript object>"
            ],
            "application/javascript": [
              "window[\"1e85f180-9c70-11ef-9857-0242ac1c000c\"] = google.colab.output.getActiveOutputArea();\n",
              "//# sourceURL=js_412d715624"
            ]
          },
          "metadata": {}
        },
        {
          "output_type": "display_data",
          "data": {
            "text/plain": [
              "<IPython.core.display.Javascript object>"
            ],
            "application/javascript": [
              "window[\"1e863cf8-9c70-11ef-9857-0242ac1c000c\"] = document.querySelector(\"#id72-1-1\");\n",
              "//# sourceURL=js_0ec81df5e0"
            ]
          },
          "metadata": {}
        },
        {
          "output_type": "display_data",
          "data": {
            "text/plain": [
              "<IPython.core.display.Javascript object>"
            ],
            "application/javascript": [
              "window[\"1e86d528-9c70-11ef-9857-0242ac1c000c\"] = google.colab.output.setActiveOutputArea(window[\"1e863cf8-9c70-11ef-9857-0242ac1c000c\"]);\n",
              "//# sourceURL=js_f5fffa65a6"
            ]
          },
          "metadata": {}
        },
        {
          "output_type": "stream",
          "name": "stdout",
          "text": [
            "w= 640 h= 480\n"
          ]
        },
        {
          "output_type": "display_data",
          "data": {
            "text/plain": [
              "<IPython.core.display.Javascript object>"
            ],
            "application/javascript": [
              "window[\"1ea18382-9c70-11ef-9857-0242ac1c000c\"] = google.colab.output.setActiveOutputArea(window[\"1e85f180-9c70-11ef-9857-0242ac1c000c\"]);\n",
              "//# sourceURL=js_438819577b"
            ]
          },
          "metadata": {}
        },
        {
          "output_type": "display_data",
          "data": {
            "text/plain": [
              "<IPython.core.display.HTML object>"
            ],
            "text/html": [
              "<style>\n",
              "       table#id74, #id74 > tbody > tr > th, #id74 > tbody > tr > td {\n",
              "         border: 1px solid lightgray;\n",
              "         border-collapse:collapse;\n",
              "         \n",
              "        }</style>"
            ]
          },
          "metadata": {}
        },
        {
          "output_type": "display_data",
          "data": {
            "text/plain": [
              "<IPython.core.display.HTML object>"
            ],
            "text/html": [
              "<table id=id74><tr><td id=id74-0-0></td><td id=id74-0-1></td></tr><tr><td id=id74-1-0></td><td id=id74-1-1></td></tr></table>"
            ]
          },
          "metadata": {}
        },
        {
          "output_type": "display_data",
          "data": {
            "text/plain": [
              "<IPython.core.display.Javascript object>"
            ],
            "application/javascript": [
              "window[\"1ea6081c-9c70-11ef-9857-0242ac1c000c\"] = google.colab.output.getActiveOutputArea();\n",
              "//# sourceURL=js_d498f820cc"
            ]
          },
          "metadata": {}
        },
        {
          "output_type": "display_data",
          "data": {
            "text/plain": [
              "<IPython.core.display.Javascript object>"
            ],
            "application/javascript": [
              "window[\"1ea64cf0-9c70-11ef-9857-0242ac1c000c\"] = document.querySelector(\"#id74-0-0\");\n",
              "//# sourceURL=js_df8eaabf57"
            ]
          },
          "metadata": {}
        },
        {
          "output_type": "display_data",
          "data": {
            "text/plain": [
              "<IPython.core.display.Javascript object>"
            ],
            "application/javascript": [
              "window[\"1ea69854-9c70-11ef-9857-0242ac1c000c\"] = google.colab.output.setActiveOutputArea(window[\"1ea64cf0-9c70-11ef-9857-0242ac1c000c\"]);\n",
              "//# sourceURL=js_d1a92f8121"
            ]
          },
          "metadata": {}
        },
        {
          "output_type": "stream",
          "name": "stdout",
          "text": [
            "w= 640 h= 480\n"
          ]
        },
        {
          "output_type": "display_data",
          "data": {
            "text/plain": [
              "<IPython.core.display.Javascript object>"
            ],
            "application/javascript": [
              "window[\"1ec55a1e-9c70-11ef-9857-0242ac1c000c\"] = google.colab.output.setActiveOutputArea(window[\"1ea6081c-9c70-11ef-9857-0242ac1c000c\"]);\n",
              "//# sourceURL=js_f355a7b520"
            ]
          },
          "metadata": {}
        },
        {
          "output_type": "display_data",
          "data": {
            "text/plain": [
              "<IPython.core.display.Javascript object>"
            ],
            "application/javascript": [
              "window[\"1ec83d1a-9c70-11ef-9857-0242ac1c000c\"] = google.colab.output.getActiveOutputArea();\n",
              "//# sourceURL=js_055b51f3db"
            ]
          },
          "metadata": {}
        },
        {
          "output_type": "display_data",
          "data": {
            "text/plain": [
              "<IPython.core.display.Javascript object>"
            ],
            "application/javascript": [
              "window[\"1ec88298-9c70-11ef-9857-0242ac1c000c\"] = document.querySelector(\"#id74-0-1\");\n",
              "//# sourceURL=js_03679126cd"
            ]
          },
          "metadata": {}
        },
        {
          "output_type": "display_data",
          "data": {
            "text/plain": [
              "<IPython.core.display.Javascript object>"
            ],
            "application/javascript": [
              "window[\"1ec9da44-9c70-11ef-9857-0242ac1c000c\"] = google.colab.output.setActiveOutputArea(window[\"1ec88298-9c70-11ef-9857-0242ac1c000c\"]);\n",
              "//# sourceURL=js_aa59aeaf67"
            ]
          },
          "metadata": {}
        },
        {
          "output_type": "stream",
          "name": "stdout",
          "text": [
            "w= 640 h= 480\n"
          ]
        },
        {
          "output_type": "display_data",
          "data": {
            "text/plain": [
              "<IPython.core.display.Javascript object>"
            ],
            "application/javascript": [
              "window[\"1ee8a942-9c70-11ef-9857-0242ac1c000c\"] = google.colab.output.setActiveOutputArea(window[\"1ec83d1a-9c70-11ef-9857-0242ac1c000c\"]);\n",
              "//# sourceURL=js_2a3f818475"
            ]
          },
          "metadata": {}
        },
        {
          "output_type": "display_data",
          "data": {
            "text/plain": [
              "<IPython.core.display.Javascript object>"
            ],
            "application/javascript": [
              "window[\"1eec3d3c-9c70-11ef-9857-0242ac1c000c\"] = google.colab.output.getActiveOutputArea();\n",
              "//# sourceURL=js_9b7e72fb8b"
            ]
          },
          "metadata": {}
        },
        {
          "output_type": "display_data",
          "data": {
            "text/plain": [
              "<IPython.core.display.Javascript object>"
            ],
            "application/javascript": [
              "window[\"1eecad3a-9c70-11ef-9857-0242ac1c000c\"] = document.querySelector(\"#id74-1-0\");\n",
              "//# sourceURL=js_14fe05155d"
            ]
          },
          "metadata": {}
        },
        {
          "output_type": "display_data",
          "data": {
            "text/plain": [
              "<IPython.core.display.Javascript object>"
            ],
            "application/javascript": [
              "window[\"1eed7cec-9c70-11ef-9857-0242ac1c000c\"] = google.colab.output.setActiveOutputArea(window[\"1eecad3a-9c70-11ef-9857-0242ac1c000c\"]);\n",
              "//# sourceURL=js_bdb135c70d"
            ]
          },
          "metadata": {}
        },
        {
          "output_type": "stream",
          "name": "stdout",
          "text": [
            "w= 640 h= 480\n"
          ]
        },
        {
          "output_type": "display_data",
          "data": {
            "text/plain": [
              "<IPython.core.display.Javascript object>"
            ],
            "application/javascript": [
              "window[\"1f0d9c16-9c70-11ef-9857-0242ac1c000c\"] = google.colab.output.setActiveOutputArea(window[\"1eec3d3c-9c70-11ef-9857-0242ac1c000c\"]);\n",
              "//# sourceURL=js_f753d2941a"
            ]
          },
          "metadata": {}
        },
        {
          "output_type": "display_data",
          "data": {
            "text/plain": [
              "<IPython.core.display.Javascript object>"
            ],
            "application/javascript": [
              "window[\"1f101f7c-9c70-11ef-9857-0242ac1c000c\"] = google.colab.output.getActiveOutputArea();\n",
              "//# sourceURL=js_a0e33b02c7"
            ]
          },
          "metadata": {}
        },
        {
          "output_type": "display_data",
          "data": {
            "text/plain": [
              "<IPython.core.display.Javascript object>"
            ],
            "application/javascript": [
              "window[\"1f106392-9c70-11ef-9857-0242ac1c000c\"] = document.querySelector(\"#id74-1-1\");\n",
              "//# sourceURL=js_60d545cfe6"
            ]
          },
          "metadata": {}
        },
        {
          "output_type": "display_data",
          "data": {
            "text/plain": [
              "<IPython.core.display.Javascript object>"
            ],
            "application/javascript": [
              "window[\"1f115d74-9c70-11ef-9857-0242ac1c000c\"] = google.colab.output.setActiveOutputArea(window[\"1f106392-9c70-11ef-9857-0242ac1c000c\"]);\n",
              "//# sourceURL=js_3111fdba1c"
            ]
          },
          "metadata": {}
        },
        {
          "output_type": "stream",
          "name": "stdout",
          "text": [
            "w= 640 h= 480\n"
          ]
        },
        {
          "output_type": "display_data",
          "data": {
            "text/plain": [
              "<IPython.core.display.Javascript object>"
            ],
            "application/javascript": [
              "window[\"1f294fb0-9c70-11ef-9857-0242ac1c000c\"] = google.colab.output.setActiveOutputArea(window[\"1f101f7c-9c70-11ef-9857-0242ac1c000c\"]);\n",
              "//# sourceURL=js_f1122c2399"
            ]
          },
          "metadata": {}
        },
        {
          "output_type": "display_data",
          "data": {
            "text/plain": [
              "<IPython.core.display.HTML object>"
            ],
            "text/html": [
              "<style>\n",
              "       table#id76, #id76 > tbody > tr > th, #id76 > tbody > tr > td {\n",
              "         border: 1px solid lightgray;\n",
              "         border-collapse:collapse;\n",
              "         \n",
              "        }</style>"
            ]
          },
          "metadata": {}
        },
        {
          "output_type": "display_data",
          "data": {
            "text/plain": [
              "<IPython.core.display.HTML object>"
            ],
            "text/html": [
              "<table id=id76><tr><td id=id76-0-0></td><td id=id76-0-1></td></tr><tr><td id=id76-1-0></td><td id=id76-1-1></td></tr></table>"
            ]
          },
          "metadata": {}
        },
        {
          "output_type": "display_data",
          "data": {
            "text/plain": [
              "<IPython.core.display.Javascript object>"
            ],
            "application/javascript": [
              "window[\"1f2ce13e-9c70-11ef-9857-0242ac1c000c\"] = google.colab.output.getActiveOutputArea();\n",
              "//# sourceURL=js_8da965e681"
            ]
          },
          "metadata": {}
        },
        {
          "output_type": "display_data",
          "data": {
            "text/plain": [
              "<IPython.core.display.Javascript object>"
            ],
            "application/javascript": [
              "window[\"1f2d2c66-9c70-11ef-9857-0242ac1c000c\"] = document.querySelector(\"#id76-0-0\");\n",
              "//# sourceURL=js_fffe5520f7"
            ]
          },
          "metadata": {}
        },
        {
          "output_type": "display_data",
          "data": {
            "text/plain": [
              "<IPython.core.display.Javascript object>"
            ],
            "application/javascript": [
              "window[\"1f2d7112-9c70-11ef-9857-0242ac1c000c\"] = google.colab.output.setActiveOutputArea(window[\"1f2d2c66-9c70-11ef-9857-0242ac1c000c\"]);\n",
              "//# sourceURL=js_8687123c63"
            ]
          },
          "metadata": {}
        },
        {
          "output_type": "stream",
          "name": "stdout",
          "text": [
            "w= 640 h= 480\n"
          ]
        },
        {
          "output_type": "display_data",
          "data": {
            "text/plain": [
              "<IPython.core.display.Javascript object>"
            ],
            "application/javascript": [
              "window[\"1f46f61e-9c70-11ef-9857-0242ac1c000c\"] = google.colab.output.setActiveOutputArea(window[\"1f2ce13e-9c70-11ef-9857-0242ac1c000c\"]);\n",
              "//# sourceURL=js_5e56babdc0"
            ]
          },
          "metadata": {}
        },
        {
          "output_type": "display_data",
          "data": {
            "text/plain": [
              "<IPython.core.display.Javascript object>"
            ],
            "application/javascript": [
              "window[\"1f49317c-9c70-11ef-9857-0242ac1c000c\"] = google.colab.output.getActiveOutputArea();\n",
              "//# sourceURL=js_f0b13f1b16"
            ]
          },
          "metadata": {}
        },
        {
          "output_type": "display_data",
          "data": {
            "text/plain": [
              "<IPython.core.display.Javascript object>"
            ],
            "application/javascript": [
              "window[\"1f49991e-9c70-11ef-9857-0242ac1c000c\"] = document.querySelector(\"#id76-0-1\");\n",
              "//# sourceURL=js_459ba07cd9"
            ]
          },
          "metadata": {}
        },
        {
          "output_type": "display_data",
          "data": {
            "text/plain": [
              "<IPython.core.display.Javascript object>"
            ],
            "application/javascript": [
              "window[\"1f49dd3e-9c70-11ef-9857-0242ac1c000c\"] = google.colab.output.setActiveOutputArea(window[\"1f49991e-9c70-11ef-9857-0242ac1c000c\"]);\n",
              "//# sourceURL=js_b833e32704"
            ]
          },
          "metadata": {}
        },
        {
          "output_type": "stream",
          "name": "stdout",
          "text": [
            "w= 640 h= 480\n"
          ]
        },
        {
          "output_type": "display_data",
          "data": {
            "text/plain": [
              "<IPython.core.display.Javascript object>"
            ],
            "application/javascript": [
              "window[\"1f69f4f2-9c70-11ef-9857-0242ac1c000c\"] = google.colab.output.setActiveOutputArea(window[\"1f49317c-9c70-11ef-9857-0242ac1c000c\"]);\n",
              "//# sourceURL=js_bcce7173df"
            ]
          },
          "metadata": {}
        },
        {
          "output_type": "display_data",
          "data": {
            "text/plain": [
              "<IPython.core.display.Javascript object>"
            ],
            "application/javascript": [
              "window[\"1f6dfcbe-9c70-11ef-9857-0242ac1c000c\"] = google.colab.output.getActiveOutputArea();\n",
              "//# sourceURL=js_7c9d068d35"
            ]
          },
          "metadata": {}
        },
        {
          "output_type": "display_data",
          "data": {
            "text/plain": [
              "<IPython.core.display.Javascript object>"
            ],
            "application/javascript": [
              "window[\"1f6e8bde-9c70-11ef-9857-0242ac1c000c\"] = document.querySelector(\"#id76-1-0\");\n",
              "//# sourceURL=js_89083965da"
            ]
          },
          "metadata": {}
        },
        {
          "output_type": "display_data",
          "data": {
            "text/plain": [
              "<IPython.core.display.Javascript object>"
            ],
            "application/javascript": [
              "window[\"1f6ef358-9c70-11ef-9857-0242ac1c000c\"] = google.colab.output.setActiveOutputArea(window[\"1f6e8bde-9c70-11ef-9857-0242ac1c000c\"]);\n",
              "//# sourceURL=js_0b8521a815"
            ]
          },
          "metadata": {}
        },
        {
          "output_type": "stream",
          "name": "stdout",
          "text": [
            "w= 640 h= 480\n"
          ]
        },
        {
          "output_type": "display_data",
          "data": {
            "text/plain": [
              "<IPython.core.display.Javascript object>"
            ],
            "application/javascript": [
              "window[\"1f8be3f0-9c70-11ef-9857-0242ac1c000c\"] = google.colab.output.setActiveOutputArea(window[\"1f6dfcbe-9c70-11ef-9857-0242ac1c000c\"]);\n",
              "//# sourceURL=js_457ffacf78"
            ]
          },
          "metadata": {}
        },
        {
          "output_type": "display_data",
          "data": {
            "text/plain": [
              "<IPython.core.display.Javascript object>"
            ],
            "application/javascript": [
              "window[\"1f8ecbf6-9c70-11ef-9857-0242ac1c000c\"] = google.colab.output.getActiveOutputArea();\n",
              "//# sourceURL=js_42db10a86f"
            ]
          },
          "metadata": {}
        },
        {
          "output_type": "display_data",
          "data": {
            "text/plain": [
              "<IPython.core.display.Javascript object>"
            ],
            "application/javascript": [
              "window[\"1f8f0f62-9c70-11ef-9857-0242ac1c000c\"] = document.querySelector(\"#id76-1-1\");\n",
              "//# sourceURL=js_29e9f1d9d3"
            ]
          },
          "metadata": {}
        },
        {
          "output_type": "display_data",
          "data": {
            "text/plain": [
              "<IPython.core.display.Javascript object>"
            ],
            "application/javascript": [
              "window[\"1f8fccf4-9c70-11ef-9857-0242ac1c000c\"] = google.colab.output.setActiveOutputArea(window[\"1f8f0f62-9c70-11ef-9857-0242ac1c000c\"]);\n",
              "//# sourceURL=js_af37e2e013"
            ]
          },
          "metadata": {}
        },
        {
          "output_type": "stream",
          "name": "stdout",
          "text": [
            "w= 640 h= 480\n"
          ]
        },
        {
          "output_type": "display_data",
          "data": {
            "text/plain": [
              "<IPython.core.display.Javascript object>"
            ],
            "application/javascript": [
              "window[\"1fa921fe-9c70-11ef-9857-0242ac1c000c\"] = google.colab.output.setActiveOutputArea(window[\"1f8ecbf6-9c70-11ef-9857-0242ac1c000c\"]);\n",
              "//# sourceURL=js_f7d58626b0"
            ]
          },
          "metadata": {}
        },
        {
          "output_type": "display_data",
          "data": {
            "text/plain": [
              "<IPython.core.display.HTML object>"
            ],
            "text/html": [
              "<style>\n",
              "       table#id78, #id78 > tbody > tr > th, #id78 > tbody > tr > td {\n",
              "         border: 1px solid lightgray;\n",
              "         border-collapse:collapse;\n",
              "         \n",
              "        }</style>"
            ]
          },
          "metadata": {}
        },
        {
          "output_type": "display_data",
          "data": {
            "text/plain": [
              "<IPython.core.display.HTML object>"
            ],
            "text/html": [
              "<table id=id78><tr><td id=id78-0-0></td><td id=id78-0-1></td></tr><tr><td id=id78-1-0></td><td id=id78-1-1></td></tr></table>"
            ]
          },
          "metadata": {}
        },
        {
          "output_type": "display_data",
          "data": {
            "text/plain": [
              "<IPython.core.display.Javascript object>"
            ],
            "application/javascript": [
              "window[\"1facf1a8-9c70-11ef-9857-0242ac1c000c\"] = google.colab.output.getActiveOutputArea();\n",
              "//# sourceURL=js_a1d56ddde9"
            ]
          },
          "metadata": {}
        },
        {
          "output_type": "display_data",
          "data": {
            "text/plain": [
              "<IPython.core.display.Javascript object>"
            ],
            "application/javascript": [
              "window[\"1fad41ee-9c70-11ef-9857-0242ac1c000c\"] = document.querySelector(\"#id78-0-0\");\n",
              "//# sourceURL=js_d52708c332"
            ]
          },
          "metadata": {}
        },
        {
          "output_type": "display_data",
          "data": {
            "text/plain": [
              "<IPython.core.display.Javascript object>"
            ],
            "application/javascript": [
              "window[\"1fad8f14-9c70-11ef-9857-0242ac1c000c\"] = google.colab.output.setActiveOutputArea(window[\"1fad41ee-9c70-11ef-9857-0242ac1c000c\"]);\n",
              "//# sourceURL=js_ec3fdb8175"
            ]
          },
          "metadata": {}
        },
        {
          "output_type": "stream",
          "name": "stdout",
          "text": [
            "w= 640 h= 480\n"
          ]
        },
        {
          "output_type": "display_data",
          "data": {
            "text/plain": [
              "<IPython.core.display.Javascript object>"
            ],
            "application/javascript": [
              "window[\"1fc9706c-9c70-11ef-9857-0242ac1c000c\"] = google.colab.output.setActiveOutputArea(window[\"1facf1a8-9c70-11ef-9857-0242ac1c000c\"]);\n",
              "//# sourceURL=js_918a507e53"
            ]
          },
          "metadata": {}
        },
        {
          "output_type": "display_data",
          "data": {
            "text/plain": [
              "<IPython.core.display.Javascript object>"
            ],
            "application/javascript": [
              "window[\"1fcb6f0c-9c70-11ef-9857-0242ac1c000c\"] = google.colab.output.getActiveOutputArea();\n",
              "//# sourceURL=js_b4e9fd5f66"
            ]
          },
          "metadata": {}
        },
        {
          "output_type": "display_data",
          "data": {
            "text/plain": [
              "<IPython.core.display.Javascript object>"
            ],
            "application/javascript": [
              "window[\"1fcc0480-9c70-11ef-9857-0242ac1c000c\"] = document.querySelector(\"#id78-0-1\");\n",
              "//# sourceURL=js_32c2128dde"
            ]
          },
          "metadata": {}
        },
        {
          "output_type": "display_data",
          "data": {
            "text/plain": [
              "<IPython.core.display.Javascript object>"
            ],
            "application/javascript": [
              "window[\"1fcc4b02-9c70-11ef-9857-0242ac1c000c\"] = google.colab.output.setActiveOutputArea(window[\"1fcc0480-9c70-11ef-9857-0242ac1c000c\"]);\n",
              "//# sourceURL=js_ec6e671df0"
            ]
          },
          "metadata": {}
        },
        {
          "output_type": "stream",
          "name": "stdout",
          "text": [
            "w= 640 h= 480\n"
          ]
        },
        {
          "output_type": "display_data",
          "data": {
            "text/plain": [
              "<IPython.core.display.Javascript object>"
            ],
            "application/javascript": [
              "window[\"1fe89a5a-9c70-11ef-9857-0242ac1c000c\"] = google.colab.output.setActiveOutputArea(window[\"1fcb6f0c-9c70-11ef-9857-0242ac1c000c\"]);\n",
              "//# sourceURL=js_d5aa856bde"
            ]
          },
          "metadata": {}
        },
        {
          "output_type": "display_data",
          "data": {
            "text/plain": [
              "<IPython.core.display.Javascript object>"
            ],
            "application/javascript": [
              "window[\"1feb900c-9c70-11ef-9857-0242ac1c000c\"] = google.colab.output.getActiveOutputArea();\n",
              "//# sourceURL=js_e71198f03c"
            ]
          },
          "metadata": {}
        },
        {
          "output_type": "display_data",
          "data": {
            "text/plain": [
              "<IPython.core.display.Javascript object>"
            ],
            "application/javascript": [
              "window[\"1fec4c22-9c70-11ef-9857-0242ac1c000c\"] = document.querySelector(\"#id78-1-0\");\n",
              "//# sourceURL=js_983470c6b2"
            ]
          },
          "metadata": {}
        },
        {
          "output_type": "display_data",
          "data": {
            "text/plain": [
              "<IPython.core.display.Javascript object>"
            ],
            "application/javascript": [
              "window[\"1fec9d62-9c70-11ef-9857-0242ac1c000c\"] = google.colab.output.setActiveOutputArea(window[\"1fec4c22-9c70-11ef-9857-0242ac1c000c\"]);\n",
              "//# sourceURL=js_9d14a5ab08"
            ]
          },
          "metadata": {}
        },
        {
          "output_type": "stream",
          "name": "stdout",
          "text": [
            "w= 640 h= 480\n"
          ]
        },
        {
          "output_type": "display_data",
          "data": {
            "text/plain": [
              "<IPython.core.display.Javascript object>"
            ],
            "application/javascript": [
              "window[\"200f1518-9c70-11ef-9857-0242ac1c000c\"] = google.colab.output.setActiveOutputArea(window[\"1feb900c-9c70-11ef-9857-0242ac1c000c\"]);\n",
              "//# sourceURL=js_cb62d4d33d"
            ]
          },
          "metadata": {}
        },
        {
          "output_type": "display_data",
          "data": {
            "text/plain": [
              "<IPython.core.display.Javascript object>"
            ],
            "application/javascript": [
              "window[\"2013980e-9c70-11ef-9857-0242ac1c000c\"] = google.colab.output.getActiveOutputArea();\n",
              "//# sourceURL=js_f80241c002"
            ]
          },
          "metadata": {}
        },
        {
          "output_type": "display_data",
          "data": {
            "text/plain": [
              "<IPython.core.display.Javascript object>"
            ],
            "application/javascript": [
              "window[\"201427c4-9c70-11ef-9857-0242ac1c000c\"] = document.querySelector(\"#id78-1-1\");\n",
              "//# sourceURL=js_834d74e7f9"
            ]
          },
          "metadata": {}
        },
        {
          "output_type": "display_data",
          "data": {
            "text/plain": [
              "<IPython.core.display.Javascript object>"
            ],
            "application/javascript": [
              "window[\"20149272-9c70-11ef-9857-0242ac1c000c\"] = google.colab.output.setActiveOutputArea(window[\"201427c4-9c70-11ef-9857-0242ac1c000c\"]);\n",
              "//# sourceURL=js_fb091420de"
            ]
          },
          "metadata": {}
        },
        {
          "output_type": "stream",
          "name": "stdout",
          "text": [
            "w= 640 h= 480\n"
          ]
        },
        {
          "output_type": "display_data",
          "data": {
            "text/plain": [
              "<IPython.core.display.Javascript object>"
            ],
            "application/javascript": [
              "window[\"2034d438-9c70-11ef-9857-0242ac1c000c\"] = google.colab.output.setActiveOutputArea(window[\"2013980e-9c70-11ef-9857-0242ac1c000c\"]);\n",
              "//# sourceURL=js_8c36a64492"
            ]
          },
          "metadata": {}
        },
        {
          "output_type": "display_data",
          "data": {
            "text/plain": [
              "<IPython.core.display.HTML object>"
            ],
            "text/html": [
              "<style>\n",
              "       table#id80, #id80 > tbody > tr > th, #id80 > tbody > tr > td {\n",
              "         border: 1px solid lightgray;\n",
              "         border-collapse:collapse;\n",
              "         \n",
              "        }</style>"
            ]
          },
          "metadata": {}
        },
        {
          "output_type": "display_data",
          "data": {
            "text/plain": [
              "<IPython.core.display.HTML object>"
            ],
            "text/html": [
              "<table id=id80><tr><td id=id80-0-0></td><td id=id80-0-1></td></tr><tr><td id=id80-1-0></td><td id=id80-1-1></td></tr></table>"
            ]
          },
          "metadata": {}
        },
        {
          "output_type": "display_data",
          "data": {
            "text/plain": [
              "<IPython.core.display.Javascript object>"
            ],
            "application/javascript": [
              "window[\"20395512-9c70-11ef-9857-0242ac1c000c\"] = google.colab.output.getActiveOutputArea();\n",
              "//# sourceURL=js_930dc75322"
            ]
          },
          "metadata": {}
        },
        {
          "output_type": "display_data",
          "data": {
            "text/plain": [
              "<IPython.core.display.Javascript object>"
            ],
            "application/javascript": [
              "window[\"2039c5a6-9c70-11ef-9857-0242ac1c000c\"] = document.querySelector(\"#id80-0-0\");\n",
              "//# sourceURL=js_81d8738aca"
            ]
          },
          "metadata": {}
        },
        {
          "output_type": "display_data",
          "data": {
            "text/plain": [
              "<IPython.core.display.Javascript object>"
            ],
            "application/javascript": [
              "window[\"203a39e6-9c70-11ef-9857-0242ac1c000c\"] = google.colab.output.setActiveOutputArea(window[\"2039c5a6-9c70-11ef-9857-0242ac1c000c\"]);\n",
              "//# sourceURL=js_2af429ed01"
            ]
          },
          "metadata": {}
        },
        {
          "output_type": "stream",
          "name": "stdout",
          "text": [
            "w= 640 h= 480\n"
          ]
        },
        {
          "output_type": "display_data",
          "data": {
            "text/plain": [
              "<IPython.core.display.Javascript object>"
            ],
            "application/javascript": [
              "window[\"20565090-9c70-11ef-9857-0242ac1c000c\"] = google.colab.output.setActiveOutputArea(window[\"20395512-9c70-11ef-9857-0242ac1c000c\"]);\n",
              "//# sourceURL=js_7cdbb277d1"
            ]
          },
          "metadata": {}
        },
        {
          "output_type": "display_data",
          "data": {
            "text/plain": [
              "<IPython.core.display.Javascript object>"
            ],
            "application/javascript": [
              "window[\"205971da-9c70-11ef-9857-0242ac1c000c\"] = google.colab.output.getActiveOutputArea();\n",
              "//# sourceURL=js_f57f76ba6e"
            ]
          },
          "metadata": {}
        },
        {
          "output_type": "display_data",
          "data": {
            "text/plain": [
              "<IPython.core.display.Javascript object>"
            ],
            "application/javascript": [
              "window[\"2059be6a-9c70-11ef-9857-0242ac1c000c\"] = document.querySelector(\"#id80-0-1\");\n",
              "//# sourceURL=js_11226fbe5d"
            ]
          },
          "metadata": {}
        },
        {
          "output_type": "display_data",
          "data": {
            "text/plain": [
              "<IPython.core.display.Javascript object>"
            ],
            "application/javascript": [
              "window[\"205a2ab2-9c70-11ef-9857-0242ac1c000c\"] = google.colab.output.setActiveOutputArea(window[\"2059be6a-9c70-11ef-9857-0242ac1c000c\"]);\n",
              "//# sourceURL=js_da5c62b738"
            ]
          },
          "metadata": {}
        },
        {
          "output_type": "stream",
          "name": "stdout",
          "text": [
            "w= 640 h= 480\n"
          ]
        },
        {
          "output_type": "display_data",
          "data": {
            "text/plain": [
              "<IPython.core.display.Javascript object>"
            ],
            "application/javascript": [
              "window[\"20751ff2-9c70-11ef-9857-0242ac1c000c\"] = google.colab.output.setActiveOutputArea(window[\"205971da-9c70-11ef-9857-0242ac1c000c\"]);\n",
              "//# sourceURL=js_fe24925633"
            ]
          },
          "metadata": {}
        },
        {
          "output_type": "display_data",
          "data": {
            "text/plain": [
              "<IPython.core.display.Javascript object>"
            ],
            "application/javascript": [
              "window[\"2077476e-9c70-11ef-9857-0242ac1c000c\"] = google.colab.output.getActiveOutputArea();\n",
              "//# sourceURL=js_d7da52c408"
            ]
          },
          "metadata": {}
        },
        {
          "output_type": "display_data",
          "data": {
            "text/plain": [
              "<IPython.core.display.Javascript object>"
            ],
            "application/javascript": [
              "window[\"20778e54-9c70-11ef-9857-0242ac1c000c\"] = document.querySelector(\"#id80-1-0\");\n",
              "//# sourceURL=js_fa02f08f3f"
            ]
          },
          "metadata": {}
        },
        {
          "output_type": "display_data",
          "data": {
            "text/plain": [
              "<IPython.core.display.Javascript object>"
            ],
            "application/javascript": [
              "window[\"2077d1de-9c70-11ef-9857-0242ac1c000c\"] = google.colab.output.setActiveOutputArea(window[\"20778e54-9c70-11ef-9857-0242ac1c000c\"]);\n",
              "//# sourceURL=js_c875336f3a"
            ]
          },
          "metadata": {}
        },
        {
          "output_type": "stream",
          "name": "stdout",
          "text": [
            "w= 640 h= 480\n"
          ]
        },
        {
          "output_type": "display_data",
          "data": {
            "text/plain": [
              "<IPython.core.display.Javascript object>"
            ],
            "application/javascript": [
              "window[\"2093d938-9c70-11ef-9857-0242ac1c000c\"] = google.colab.output.setActiveOutputArea(window[\"2077476e-9c70-11ef-9857-0242ac1c000c\"]);\n",
              "//# sourceURL=js_f813516c4b"
            ]
          },
          "metadata": {}
        },
        {
          "output_type": "display_data",
          "data": {
            "text/plain": [
              "<IPython.core.display.Javascript object>"
            ],
            "application/javascript": [
              "window[\"2095bdf2-9c70-11ef-9857-0242ac1c000c\"] = google.colab.output.getActiveOutputArea();\n",
              "//# sourceURL=js_a257b12ec3"
            ]
          },
          "metadata": {}
        },
        {
          "output_type": "display_data",
          "data": {
            "text/plain": [
              "<IPython.core.display.Javascript object>"
            ],
            "application/javascript": [
              "window[\"209606b8-9c70-11ef-9857-0242ac1c000c\"] = document.querySelector(\"#id80-1-1\");\n",
              "//# sourceURL=js_8f320b9fb4"
            ]
          },
          "metadata": {}
        },
        {
          "output_type": "display_data",
          "data": {
            "text/plain": [
              "<IPython.core.display.Javascript object>"
            ],
            "application/javascript": [
              "window[\"20965424-9c70-11ef-9857-0242ac1c000c\"] = google.colab.output.setActiveOutputArea(window[\"209606b8-9c70-11ef-9857-0242ac1c000c\"]);\n",
              "//# sourceURL=js_c317cbe66a"
            ]
          },
          "metadata": {}
        },
        {
          "output_type": "stream",
          "name": "stdout",
          "text": [
            "w= 640 h= 480\n"
          ]
        },
        {
          "output_type": "display_data",
          "data": {
            "text/plain": [
              "<IPython.core.display.Javascript object>"
            ],
            "application/javascript": [
              "window[\"20b093f2-9c70-11ef-9857-0242ac1c000c\"] = google.colab.output.setActiveOutputArea(window[\"2095bdf2-9c70-11ef-9857-0242ac1c000c\"]);\n",
              "//# sourceURL=js_ab12f926bd"
            ]
          },
          "metadata": {}
        },
        {
          "output_type": "display_data",
          "data": {
            "text/plain": [
              "<IPython.core.display.HTML object>"
            ],
            "text/html": [
              "<style>\n",
              "       table#id82, #id82 > tbody > tr > th, #id82 > tbody > tr > td {\n",
              "         border: 1px solid lightgray;\n",
              "         border-collapse:collapse;\n",
              "         \n",
              "        }</style>"
            ]
          },
          "metadata": {}
        },
        {
          "output_type": "display_data",
          "data": {
            "text/plain": [
              "<IPython.core.display.HTML object>"
            ],
            "text/html": [
              "<table id=id82><tr><td id=id82-0-0></td><td id=id82-0-1></td></tr><tr><td id=id82-1-0></td><td id=id82-1-1></td></tr></table>"
            ]
          },
          "metadata": {}
        },
        {
          "output_type": "display_data",
          "data": {
            "text/plain": [
              "<IPython.core.display.Javascript object>"
            ],
            "application/javascript": [
              "window[\"20b418ce-9c70-11ef-9857-0242ac1c000c\"] = google.colab.output.getActiveOutputArea();\n",
              "//# sourceURL=js_4cfadc9de3"
            ]
          },
          "metadata": {}
        },
        {
          "output_type": "display_data",
          "data": {
            "text/plain": [
              "<IPython.core.display.Javascript object>"
            ],
            "application/javascript": [
              "window[\"20b4604a-9c70-11ef-9857-0242ac1c000c\"] = document.querySelector(\"#id82-0-0\");\n",
              "//# sourceURL=js_515273aea2"
            ]
          },
          "metadata": {}
        },
        {
          "output_type": "display_data",
          "data": {
            "text/plain": [
              "<IPython.core.display.Javascript object>"
            ],
            "application/javascript": [
              "window[\"20b4a8ca-9c70-11ef-9857-0242ac1c000c\"] = google.colab.output.setActiveOutputArea(window[\"20b4604a-9c70-11ef-9857-0242ac1c000c\"]);\n",
              "//# sourceURL=js_5bd3537b33"
            ]
          },
          "metadata": {}
        },
        {
          "output_type": "stream",
          "name": "stdout",
          "text": [
            "w= 640 h= 480\n"
          ]
        },
        {
          "output_type": "display_data",
          "data": {
            "text/plain": [
              "<IPython.core.display.Javascript object>"
            ],
            "application/javascript": [
              "window[\"20cee938-9c70-11ef-9857-0242ac1c000c\"] = google.colab.output.setActiveOutputArea(window[\"20b418ce-9c70-11ef-9857-0242ac1c000c\"]);\n",
              "//# sourceURL=js_b18da3ef48"
            ]
          },
          "metadata": {}
        },
        {
          "output_type": "display_data",
          "data": {
            "text/plain": [
              "<IPython.core.display.Javascript object>"
            ],
            "application/javascript": [
              "window[\"20d1edea-9c70-11ef-9857-0242ac1c000c\"] = google.colab.output.getActiveOutputArea();\n",
              "//# sourceURL=js_ce20c80313"
            ]
          },
          "metadata": {}
        },
        {
          "output_type": "display_data",
          "data": {
            "text/plain": [
              "<IPython.core.display.Javascript object>"
            ],
            "application/javascript": [
              "window[\"20d25334-9c70-11ef-9857-0242ac1c000c\"] = document.querySelector(\"#id82-0-1\");\n",
              "//# sourceURL=js_158be96257"
            ]
          },
          "metadata": {}
        },
        {
          "output_type": "display_data",
          "data": {
            "text/plain": [
              "<IPython.core.display.Javascript object>"
            ],
            "application/javascript": [
              "window[\"20d2e0ba-9c70-11ef-9857-0242ac1c000c\"] = google.colab.output.setActiveOutputArea(window[\"20d25334-9c70-11ef-9857-0242ac1c000c\"]);\n",
              "//# sourceURL=js_3a9a7d0885"
            ]
          },
          "metadata": {}
        },
        {
          "output_type": "stream",
          "name": "stdout",
          "text": [
            "w= 640 h= 480\n"
          ]
        },
        {
          "output_type": "display_data",
          "data": {
            "text/plain": [
              "<IPython.core.display.Javascript object>"
            ],
            "application/javascript": [
              "window[\"20ef0c22-9c70-11ef-9857-0242ac1c000c\"] = google.colab.output.setActiveOutputArea(window[\"20d1edea-9c70-11ef-9857-0242ac1c000c\"]);\n",
              "//# sourceURL=js_49a0cfc0ef"
            ]
          },
          "metadata": {}
        },
        {
          "output_type": "display_data",
          "data": {
            "text/plain": [
              "<IPython.core.display.Javascript object>"
            ],
            "application/javascript": [
              "window[\"20f1e910-9c70-11ef-9857-0242ac1c000c\"] = google.colab.output.getActiveOutputArea();\n",
              "//# sourceURL=js_96fcf2a64a"
            ]
          },
          "metadata": {}
        },
        {
          "output_type": "display_data",
          "data": {
            "text/plain": [
              "<IPython.core.display.Javascript object>"
            ],
            "application/javascript": [
              "window[\"20f28bfe-9c70-11ef-9857-0242ac1c000c\"] = document.querySelector(\"#id82-1-0\");\n",
              "//# sourceURL=js_8bee571c80"
            ]
          },
          "metadata": {}
        },
        {
          "output_type": "display_data",
          "data": {
            "text/plain": [
              "<IPython.core.display.Javascript object>"
            ],
            "application/javascript": [
              "window[\"20f31920-9c70-11ef-9857-0242ac1c000c\"] = google.colab.output.setActiveOutputArea(window[\"20f28bfe-9c70-11ef-9857-0242ac1c000c\"]);\n",
              "//# sourceURL=js_4587abf0b8"
            ]
          },
          "metadata": {}
        },
        {
          "output_type": "stream",
          "name": "stdout",
          "text": [
            "w= 640 h= 480\n"
          ]
        },
        {
          "output_type": "display_data",
          "data": {
            "text/plain": [
              "<IPython.core.display.Javascript object>"
            ],
            "application/javascript": [
              "window[\"210ece36-9c70-11ef-9857-0242ac1c000c\"] = google.colab.output.setActiveOutputArea(window[\"20f1e910-9c70-11ef-9857-0242ac1c000c\"]);\n",
              "//# sourceURL=js_6349dfbe0d"
            ]
          },
          "metadata": {}
        },
        {
          "output_type": "display_data",
          "data": {
            "text/plain": [
              "<IPython.core.display.Javascript object>"
            ],
            "application/javascript": [
              "window[\"21114422-9c70-11ef-9857-0242ac1c000c\"] = google.colab.output.getActiveOutputArea();\n",
              "//# sourceURL=js_9f4b2adc13"
            ]
          },
          "metadata": {}
        },
        {
          "output_type": "display_data",
          "data": {
            "text/plain": [
              "<IPython.core.display.Javascript object>"
            ],
            "application/javascript": [
              "window[\"2111ccee-9c70-11ef-9857-0242ac1c000c\"] = document.querySelector(\"#id82-1-1\");\n",
              "//# sourceURL=js_2349c08400"
            ]
          },
          "metadata": {}
        },
        {
          "output_type": "display_data",
          "data": {
            "text/plain": [
              "<IPython.core.display.Javascript object>"
            ],
            "application/javascript": [
              "window[\"2112110e-9c70-11ef-9857-0242ac1c000c\"] = google.colab.output.setActiveOutputArea(window[\"2111ccee-9c70-11ef-9857-0242ac1c000c\"]);\n",
              "//# sourceURL=js_80c74c76c9"
            ]
          },
          "metadata": {}
        },
        {
          "output_type": "stream",
          "name": "stdout",
          "text": [
            "w= 640 h= 480\n"
          ]
        },
        {
          "output_type": "display_data",
          "data": {
            "text/plain": [
              "<IPython.core.display.Javascript object>"
            ],
            "application/javascript": [
              "window[\"2131e272-9c70-11ef-9857-0242ac1c000c\"] = google.colab.output.setActiveOutputArea(window[\"21114422-9c70-11ef-9857-0242ac1c000c\"]);\n",
              "//# sourceURL=js_f6a919f5be"
            ]
          },
          "metadata": {}
        },
        {
          "output_type": "display_data",
          "data": {
            "text/plain": [
              "<IPython.core.display.HTML object>"
            ],
            "text/html": [
              "<style>\n",
              "       table#id84, #id84 > tbody > tr > th, #id84 > tbody > tr > td {\n",
              "         border: 1px solid lightgray;\n",
              "         border-collapse:collapse;\n",
              "         \n",
              "        }</style>"
            ]
          },
          "metadata": {}
        },
        {
          "output_type": "display_data",
          "data": {
            "text/plain": [
              "<IPython.core.display.HTML object>"
            ],
            "text/html": [
              "<table id=id84><tr><td id=id84-0-0></td><td id=id84-0-1></td></tr><tr><td id=id84-1-0></td><td id=id84-1-1></td></tr></table>"
            ]
          },
          "metadata": {}
        },
        {
          "output_type": "display_data",
          "data": {
            "text/plain": [
              "<IPython.core.display.Javascript object>"
            ],
            "application/javascript": [
              "window[\"2135cf0e-9c70-11ef-9857-0242ac1c000c\"] = google.colab.output.getActiveOutputArea();\n",
              "//# sourceURL=js_11e2027e7b"
            ]
          },
          "metadata": {}
        },
        {
          "output_type": "display_data",
          "data": {
            "text/plain": [
              "<IPython.core.display.Javascript object>"
            ],
            "application/javascript": [
              "window[\"21361e64-9c70-11ef-9857-0242ac1c000c\"] = document.querySelector(\"#id84-0-0\");\n",
              "//# sourceURL=js_ada274a870"
            ]
          },
          "metadata": {}
        },
        {
          "output_type": "display_data",
          "data": {
            "text/plain": [
              "<IPython.core.display.Javascript object>"
            ],
            "application/javascript": [
              "window[\"2136670c-9c70-11ef-9857-0242ac1c000c\"] = google.colab.output.setActiveOutputArea(window[\"21361e64-9c70-11ef-9857-0242ac1c000c\"]);\n",
              "//# sourceURL=js_60fd8bc8ec"
            ]
          },
          "metadata": {}
        },
        {
          "output_type": "stream",
          "name": "stdout",
          "text": [
            "w= 640 h= 480\n"
          ]
        },
        {
          "output_type": "display_data",
          "data": {
            "text/plain": [
              "<IPython.core.display.Javascript object>"
            ],
            "application/javascript": [
              "window[\"2153b636-9c70-11ef-9857-0242ac1c000c\"] = google.colab.output.setActiveOutputArea(window[\"2135cf0e-9c70-11ef-9857-0242ac1c000c\"]);\n",
              "//# sourceURL=js_1cc5c8af30"
            ]
          },
          "metadata": {}
        },
        {
          "output_type": "display_data",
          "data": {
            "text/plain": [
              "<IPython.core.display.Javascript object>"
            ],
            "application/javascript": [
              "window[\"2155d254-9c70-11ef-9857-0242ac1c000c\"] = google.colab.output.getActiveOutputArea();\n",
              "//# sourceURL=js_c2c5523ef5"
            ]
          },
          "metadata": {}
        },
        {
          "output_type": "display_data",
          "data": {
            "text/plain": [
              "<IPython.core.display.Javascript object>"
            ],
            "application/javascript": [
              "window[\"215618f4-9c70-11ef-9857-0242ac1c000c\"] = document.querySelector(\"#id84-0-1\");\n",
              "//# sourceURL=js_2da3cba115"
            ]
          },
          "metadata": {}
        },
        {
          "output_type": "display_data",
          "data": {
            "text/plain": [
              "<IPython.core.display.Javascript object>"
            ],
            "application/javascript": [
              "window[\"21567132-9c70-11ef-9857-0242ac1c000c\"] = google.colab.output.setActiveOutputArea(window[\"215618f4-9c70-11ef-9857-0242ac1c000c\"]);\n",
              "//# sourceURL=js_a3f3e3dbf0"
            ]
          },
          "metadata": {}
        },
        {
          "output_type": "stream",
          "name": "stdout",
          "text": [
            "w= 640 h= 480\n"
          ]
        },
        {
          "output_type": "display_data",
          "data": {
            "text/plain": [
              "<IPython.core.display.Javascript object>"
            ],
            "application/javascript": [
              "window[\"216ece8a-9c70-11ef-9857-0242ac1c000c\"] = google.colab.output.setActiveOutputArea(window[\"2155d254-9c70-11ef-9857-0242ac1c000c\"]);\n",
              "//# sourceURL=js_38e69a0ec6"
            ]
          },
          "metadata": {}
        },
        {
          "output_type": "display_data",
          "data": {
            "text/plain": [
              "<IPython.core.display.Javascript object>"
            ],
            "application/javascript": [
              "window[\"21710506-9c70-11ef-9857-0242ac1c000c\"] = google.colab.output.getActiveOutputArea();\n",
              "//# sourceURL=js_9147ef5c88"
            ]
          },
          "metadata": {}
        },
        {
          "output_type": "display_data",
          "data": {
            "text/plain": [
              "<IPython.core.display.Javascript object>"
            ],
            "application/javascript": [
              "window[\"21717130-9c70-11ef-9857-0242ac1c000c\"] = document.querySelector(\"#id84-1-0\");\n",
              "//# sourceURL=js_c2bef5d95c"
            ]
          },
          "metadata": {}
        },
        {
          "output_type": "display_data",
          "data": {
            "text/plain": [
              "<IPython.core.display.Javascript object>"
            ],
            "application/javascript": [
              "window[\"2171baa0-9c70-11ef-9857-0242ac1c000c\"] = google.colab.output.setActiveOutputArea(window[\"21717130-9c70-11ef-9857-0242ac1c000c\"]);\n",
              "//# sourceURL=js_b541ceafc5"
            ]
          },
          "metadata": {}
        },
        {
          "output_type": "stream",
          "name": "stdout",
          "text": [
            "w= 640 h= 480\n"
          ]
        },
        {
          "output_type": "display_data",
          "data": {
            "text/plain": [
              "<IPython.core.display.Javascript object>"
            ],
            "application/javascript": [
              "window[\"2190fbb8-9c70-11ef-9857-0242ac1c000c\"] = google.colab.output.setActiveOutputArea(window[\"21710506-9c70-11ef-9857-0242ac1c000c\"]);\n",
              "//# sourceURL=js_04351126e5"
            ]
          },
          "metadata": {}
        },
        {
          "output_type": "display_data",
          "data": {
            "text/plain": [
              "<IPython.core.display.Javascript object>"
            ],
            "application/javascript": [
              "window[\"21937d02-9c70-11ef-9857-0242ac1c000c\"] = google.colab.output.getActiveOutputArea();\n",
              "//# sourceURL=js_2b8ef608e3"
            ]
          },
          "metadata": {}
        },
        {
          "output_type": "display_data",
          "data": {
            "text/plain": [
              "<IPython.core.display.Javascript object>"
            ],
            "application/javascript": [
              "window[\"2193c10e-9c70-11ef-9857-0242ac1c000c\"] = document.querySelector(\"#id84-1-1\");\n",
              "//# sourceURL=js_cb8d3e17da"
            ]
          },
          "metadata": {}
        },
        {
          "output_type": "display_data",
          "data": {
            "text/plain": [
              "<IPython.core.display.Javascript object>"
            ],
            "application/javascript": [
              "window[\"2194d102-9c70-11ef-9857-0242ac1c000c\"] = google.colab.output.setActiveOutputArea(window[\"2193c10e-9c70-11ef-9857-0242ac1c000c\"]);\n",
              "//# sourceURL=js_827ffeb787"
            ]
          },
          "metadata": {}
        },
        {
          "output_type": "stream",
          "name": "stdout",
          "text": [
            "w= 640 h= 480\n"
          ]
        },
        {
          "output_type": "display_data",
          "data": {
            "text/plain": [
              "<IPython.core.display.Javascript object>"
            ],
            "application/javascript": [
              "window[\"21afbdbe-9c70-11ef-9857-0242ac1c000c\"] = google.colab.output.setActiveOutputArea(window[\"21937d02-9c70-11ef-9857-0242ac1c000c\"]);\n",
              "//# sourceURL=js_6b1789e95c"
            ]
          },
          "metadata": {}
        },
        {
          "output_type": "display_data",
          "data": {
            "text/plain": [
              "<IPython.core.display.HTML object>"
            ],
            "text/html": [
              "<style>\n",
              "       table#id86, #id86 > tbody > tr > th, #id86 > tbody > tr > td {\n",
              "         border: 1px solid lightgray;\n",
              "         border-collapse:collapse;\n",
              "         \n",
              "        }</style>"
            ]
          },
          "metadata": {}
        },
        {
          "output_type": "display_data",
          "data": {
            "text/plain": [
              "<IPython.core.display.HTML object>"
            ],
            "text/html": [
              "<table id=id86><tr><td id=id86-0-0></td><td id=id86-0-1></td></tr><tr><td id=id86-1-0></td><td id=id86-1-1></td></tr></table>"
            ]
          },
          "metadata": {}
        },
        {
          "output_type": "display_data",
          "data": {
            "text/plain": [
              "<IPython.core.display.Javascript object>"
            ],
            "application/javascript": [
              "window[\"21b3e934-9c70-11ef-9857-0242ac1c000c\"] = google.colab.output.getActiveOutputArea();\n",
              "//# sourceURL=js_08683559e4"
            ]
          },
          "metadata": {}
        },
        {
          "output_type": "display_data",
          "data": {
            "text/plain": [
              "<IPython.core.display.Javascript object>"
            ],
            "application/javascript": [
              "window[\"21b44bd6-9c70-11ef-9857-0242ac1c000c\"] = document.querySelector(\"#id86-0-0\");\n",
              "//# sourceURL=js_d0c81c7418"
            ]
          },
          "metadata": {}
        },
        {
          "output_type": "display_data",
          "data": {
            "text/plain": [
              "<IPython.core.display.Javascript object>"
            ],
            "application/javascript": [
              "window[\"21b4b4ea-9c70-11ef-9857-0242ac1c000c\"] = google.colab.output.setActiveOutputArea(window[\"21b44bd6-9c70-11ef-9857-0242ac1c000c\"]);\n",
              "//# sourceURL=js_436ffbfa29"
            ]
          },
          "metadata": {}
        },
        {
          "output_type": "stream",
          "name": "stdout",
          "text": [
            "w= 640 h= 480\n"
          ]
        },
        {
          "output_type": "display_data",
          "data": {
            "text/plain": [
              "<IPython.core.display.Javascript object>"
            ],
            "application/javascript": [
              "window[\"22022c7a-9c70-11ef-9857-0242ac1c000c\"] = google.colab.output.setActiveOutputArea(window[\"21b3e934-9c70-11ef-9857-0242ac1c000c\"]);\n",
              "//# sourceURL=js_7ea9abd2ab"
            ]
          },
          "metadata": {}
        },
        {
          "output_type": "display_data",
          "data": {
            "text/plain": [
              "<IPython.core.display.Javascript object>"
            ],
            "application/javascript": [
              "window[\"22062e24-9c70-11ef-9857-0242ac1c000c\"] = google.colab.output.getActiveOutputArea();\n",
              "//# sourceURL=js_7d22d2bd09"
            ]
          },
          "metadata": {}
        },
        {
          "output_type": "display_data",
          "data": {
            "text/plain": [
              "<IPython.core.display.Javascript object>"
            ],
            "application/javascript": [
              "window[\"2206a14c-9c70-11ef-9857-0242ac1c000c\"] = document.querySelector(\"#id86-0-1\");\n",
              "//# sourceURL=js_3a0df65aa1"
            ]
          },
          "metadata": {}
        },
        {
          "output_type": "display_data",
          "data": {
            "text/plain": [
              "<IPython.core.display.Javascript object>"
            ],
            "application/javascript": [
              "window[\"2206ff66-9c70-11ef-9857-0242ac1c000c\"] = google.colab.output.setActiveOutputArea(window[\"2206a14c-9c70-11ef-9857-0242ac1c000c\"]);\n",
              "//# sourceURL=js_14cee878bd"
            ]
          },
          "metadata": {}
        },
        {
          "output_type": "stream",
          "name": "stdout",
          "text": [
            "w= 640 h= 480\n"
          ]
        },
        {
          "output_type": "display_data",
          "data": {
            "text/plain": [
              "<IPython.core.display.Javascript object>"
            ],
            "application/javascript": [
              "window[\"22265bae-9c70-11ef-9857-0242ac1c000c\"] = google.colab.output.setActiveOutputArea(window[\"22062e24-9c70-11ef-9857-0242ac1c000c\"]);\n",
              "//# sourceURL=js_dedbcd91a3"
            ]
          },
          "metadata": {}
        },
        {
          "output_type": "display_data",
          "data": {
            "text/plain": [
              "<IPython.core.display.Javascript object>"
            ],
            "application/javascript": [
              "window[\"222a8904-9c70-11ef-9857-0242ac1c000c\"] = google.colab.output.getActiveOutputArea();\n",
              "//# sourceURL=js_c43acba744"
            ]
          },
          "metadata": {}
        },
        {
          "output_type": "display_data",
          "data": {
            "text/plain": [
              "<IPython.core.display.Javascript object>"
            ],
            "application/javascript": [
              "window[\"222aef3e-9c70-11ef-9857-0242ac1c000c\"] = document.querySelector(\"#id86-1-0\");\n",
              "//# sourceURL=js_b86ae2ffe3"
            ]
          },
          "metadata": {}
        },
        {
          "output_type": "display_data",
          "data": {
            "text/plain": [
              "<IPython.core.display.Javascript object>"
            ],
            "application/javascript": [
              "window[\"222c2ffc-9c70-11ef-9857-0242ac1c000c\"] = google.colab.output.setActiveOutputArea(window[\"222aef3e-9c70-11ef-9857-0242ac1c000c\"]);\n",
              "//# sourceURL=js_e3179167e1"
            ]
          },
          "metadata": {}
        },
        {
          "output_type": "stream",
          "name": "stdout",
          "text": [
            "w= 640 h= 480\n"
          ]
        },
        {
          "output_type": "display_data",
          "data": {
            "text/plain": [
              "<IPython.core.display.Javascript object>"
            ],
            "application/javascript": [
              "window[\"224a1206-9c70-11ef-9857-0242ac1c000c\"] = google.colab.output.setActiveOutputArea(window[\"222a8904-9c70-11ef-9857-0242ac1c000c\"]);\n",
              "//# sourceURL=js_f85f05dceb"
            ]
          },
          "metadata": {}
        },
        {
          "output_type": "display_data",
          "data": {
            "text/plain": [
              "<IPython.core.display.Javascript object>"
            ],
            "application/javascript": [
              "window[\"224df3d0-9c70-11ef-9857-0242ac1c000c\"] = google.colab.output.getActiveOutputArea();\n",
              "//# sourceURL=js_360decd19a"
            ]
          },
          "metadata": {}
        },
        {
          "output_type": "display_data",
          "data": {
            "text/plain": [
              "<IPython.core.display.Javascript object>"
            ],
            "application/javascript": [
              "window[\"224e7404-9c70-11ef-9857-0242ac1c000c\"] = document.querySelector(\"#id86-1-1\");\n",
              "//# sourceURL=js_dfefd34ccd"
            ]
          },
          "metadata": {}
        },
        {
          "output_type": "display_data",
          "data": {
            "text/plain": [
              "<IPython.core.display.Javascript object>"
            ],
            "application/javascript": [
              "window[\"224f082e-9c70-11ef-9857-0242ac1c000c\"] = google.colab.output.setActiveOutputArea(window[\"224e7404-9c70-11ef-9857-0242ac1c000c\"]);\n",
              "//# sourceURL=js_443410d149"
            ]
          },
          "metadata": {}
        },
        {
          "output_type": "stream",
          "name": "stdout",
          "text": [
            "w= 640 h= 480\n"
          ]
        },
        {
          "output_type": "display_data",
          "data": {
            "text/plain": [
              "<IPython.core.display.Javascript object>"
            ],
            "application/javascript": [
              "window[\"226d4bf4-9c70-11ef-9857-0242ac1c000c\"] = google.colab.output.setActiveOutputArea(window[\"224df3d0-9c70-11ef-9857-0242ac1c000c\"]);\n",
              "//# sourceURL=js_ee7a8ad40f"
            ]
          },
          "metadata": {}
        },
        {
          "output_type": "display_data",
          "data": {
            "text/plain": [
              "<IPython.core.display.HTML object>"
            ],
            "text/html": [
              "<style>\n",
              "       table#id88, #id88 > tbody > tr > th, #id88 > tbody > tr > td {\n",
              "         border: 1px solid lightgray;\n",
              "         border-collapse:collapse;\n",
              "         \n",
              "        }</style>"
            ]
          },
          "metadata": {}
        },
        {
          "output_type": "display_data",
          "data": {
            "text/plain": [
              "<IPython.core.display.HTML object>"
            ],
            "text/html": [
              "<table id=id88><tr><td id=id88-0-0></td><td id=id88-0-1></td></tr><tr><td id=id88-1-0></td><td id=id88-1-1></td></tr></table>"
            ]
          },
          "metadata": {}
        },
        {
          "output_type": "display_data",
          "data": {
            "text/plain": [
              "<IPython.core.display.Javascript object>"
            ],
            "application/javascript": [
              "window[\"2273c45c-9c70-11ef-9857-0242ac1c000c\"] = google.colab.output.getActiveOutputArea();\n",
              "//# sourceURL=js_2302b17403"
            ]
          },
          "metadata": {}
        },
        {
          "output_type": "display_data",
          "data": {
            "text/plain": [
              "<IPython.core.display.Javascript object>"
            ],
            "application/javascript": [
              "window[\"22743de2-9c70-11ef-9857-0242ac1c000c\"] = document.querySelector(\"#id88-0-0\");\n",
              "//# sourceURL=js_0ca1ecba38"
            ]
          },
          "metadata": {}
        },
        {
          "output_type": "display_data",
          "data": {
            "text/plain": [
              "<IPython.core.display.Javascript object>"
            ],
            "application/javascript": [
              "window[\"22749f4e-9c70-11ef-9857-0242ac1c000c\"] = google.colab.output.setActiveOutputArea(window[\"22743de2-9c70-11ef-9857-0242ac1c000c\"]);\n",
              "//# sourceURL=js_27253db556"
            ]
          },
          "metadata": {}
        },
        {
          "output_type": "stream",
          "name": "stdout",
          "text": [
            "w= 640 h= 480\n"
          ]
        },
        {
          "output_type": "display_data",
          "data": {
            "text/plain": [
              "<IPython.core.display.Javascript object>"
            ],
            "application/javascript": [
              "window[\"2291a8e6-9c70-11ef-9857-0242ac1c000c\"] = google.colab.output.setActiveOutputArea(window[\"2273c45c-9c70-11ef-9857-0242ac1c000c\"]);\n",
              "//# sourceURL=js_3d04538dbe"
            ]
          },
          "metadata": {}
        },
        {
          "output_type": "display_data",
          "data": {
            "text/plain": [
              "<IPython.core.display.Javascript object>"
            ],
            "application/javascript": [
              "window[\"2295649a-9c70-11ef-9857-0242ac1c000c\"] = google.colab.output.getActiveOutputArea();\n",
              "//# sourceURL=js_97bbde294c"
            ]
          },
          "metadata": {}
        },
        {
          "output_type": "display_data",
          "data": {
            "text/plain": [
              "<IPython.core.display.Javascript object>"
            ],
            "application/javascript": [
              "window[\"2295f7a2-9c70-11ef-9857-0242ac1c000c\"] = document.querySelector(\"#id88-0-1\");\n",
              "//# sourceURL=js_32f638441c"
            ]
          },
          "metadata": {}
        },
        {
          "output_type": "display_data",
          "data": {
            "text/plain": [
              "<IPython.core.display.Javascript object>"
            ],
            "application/javascript": [
              "window[\"22965b20-9c70-11ef-9857-0242ac1c000c\"] = google.colab.output.setActiveOutputArea(window[\"2295f7a2-9c70-11ef-9857-0242ac1c000c\"]);\n",
              "//# sourceURL=js_7576018c30"
            ]
          },
          "metadata": {}
        },
        {
          "output_type": "stream",
          "name": "stdout",
          "text": [
            "w= 640 h= 480\n"
          ]
        },
        {
          "output_type": "display_data",
          "data": {
            "text/plain": [
              "<IPython.core.display.Javascript object>"
            ],
            "application/javascript": [
              "window[\"22b17ee6-9c70-11ef-9857-0242ac1c000c\"] = google.colab.output.setActiveOutputArea(window[\"2295649a-9c70-11ef-9857-0242ac1c000c\"]);\n",
              "//# sourceURL=js_551e095a42"
            ]
          },
          "metadata": {}
        },
        {
          "output_type": "display_data",
          "data": {
            "text/plain": [
              "<IPython.core.display.Javascript object>"
            ],
            "application/javascript": [
              "window[\"22b4cc18-9c70-11ef-9857-0242ac1c000c\"] = google.colab.output.getActiveOutputArea();\n",
              "//# sourceURL=js_81e9ee8487"
            ]
          },
          "metadata": {}
        },
        {
          "output_type": "display_data",
          "data": {
            "text/plain": [
              "<IPython.core.display.Javascript object>"
            ],
            "application/javascript": [
              "window[\"22b52b7c-9c70-11ef-9857-0242ac1c000c\"] = document.querySelector(\"#id88-1-0\");\n",
              "//# sourceURL=js_4be3894105"
            ]
          },
          "metadata": {}
        },
        {
          "output_type": "display_data",
          "data": {
            "text/plain": [
              "<IPython.core.display.Javascript object>"
            ],
            "application/javascript": [
              "window[\"22b5942c-9c70-11ef-9857-0242ac1c000c\"] = google.colab.output.setActiveOutputArea(window[\"22b52b7c-9c70-11ef-9857-0242ac1c000c\"]);\n",
              "//# sourceURL=js_77f056306b"
            ]
          },
          "metadata": {}
        },
        {
          "output_type": "stream",
          "name": "stdout",
          "text": [
            "w= 640 h= 480\n"
          ]
        },
        {
          "output_type": "display_data",
          "data": {
            "text/plain": [
              "<IPython.core.display.Javascript object>"
            ],
            "application/javascript": [
              "window[\"22d29bda-9c70-11ef-9857-0242ac1c000c\"] = google.colab.output.setActiveOutputArea(window[\"22b4cc18-9c70-11ef-9857-0242ac1c000c\"]);\n",
              "//# sourceURL=js_fb6f8e6acc"
            ]
          },
          "metadata": {}
        },
        {
          "output_type": "display_data",
          "data": {
            "text/plain": [
              "<IPython.core.display.Javascript object>"
            ],
            "application/javascript": [
              "window[\"22d4f2c2-9c70-11ef-9857-0242ac1c000c\"] = google.colab.output.getActiveOutputArea();\n",
              "//# sourceURL=js_eb5078f9d6"
            ]
          },
          "metadata": {}
        },
        {
          "output_type": "display_data",
          "data": {
            "text/plain": [
              "<IPython.core.display.Javascript object>"
            ],
            "application/javascript": [
              "window[\"22d534d0-9c70-11ef-9857-0242ac1c000c\"] = document.querySelector(\"#id88-1-1\");\n",
              "//# sourceURL=js_daad347b86"
            ]
          },
          "metadata": {}
        },
        {
          "output_type": "display_data",
          "data": {
            "text/plain": [
              "<IPython.core.display.Javascript object>"
            ],
            "application/javascript": [
              "window[\"22d5b324-9c70-11ef-9857-0242ac1c000c\"] = google.colab.output.setActiveOutputArea(window[\"22d534d0-9c70-11ef-9857-0242ac1c000c\"]);\n",
              "//# sourceURL=js_26f6a8f0a6"
            ]
          },
          "metadata": {}
        },
        {
          "output_type": "stream",
          "name": "stdout",
          "text": [
            "w= 640 h= 480\n"
          ]
        },
        {
          "output_type": "display_data",
          "data": {
            "text/plain": [
              "<IPython.core.display.Javascript object>"
            ],
            "application/javascript": [
              "window[\"22efb166-9c70-11ef-9857-0242ac1c000c\"] = google.colab.output.setActiveOutputArea(window[\"22d4f2c2-9c70-11ef-9857-0242ac1c000c\"]);\n",
              "//# sourceURL=js_061c9e9b04"
            ]
          },
          "metadata": {}
        },
        {
          "output_type": "display_data",
          "data": {
            "text/plain": [
              "<IPython.core.display.HTML object>"
            ],
            "text/html": [
              "<style>\n",
              "       table#id90, #id90 > tbody > tr > th, #id90 > tbody > tr > td {\n",
              "         border: 1px solid lightgray;\n",
              "         border-collapse:collapse;\n",
              "         \n",
              "        }</style>"
            ]
          },
          "metadata": {}
        },
        {
          "output_type": "display_data",
          "data": {
            "text/plain": [
              "<IPython.core.display.HTML object>"
            ],
            "text/html": [
              "<table id=id90><tr><td id=id90-0-0></td><td id=id90-0-1></td></tr><tr><td id=id90-1-0></td><td id=id90-1-1></td></tr></table>"
            ]
          },
          "metadata": {}
        },
        {
          "output_type": "display_data",
          "data": {
            "text/plain": [
              "<IPython.core.display.Javascript object>"
            ],
            "application/javascript": [
              "window[\"22f3ca80-9c70-11ef-9857-0242ac1c000c\"] = google.colab.output.getActiveOutputArea();\n",
              "//# sourceURL=js_7d2c375fcb"
            ]
          },
          "metadata": {}
        },
        {
          "output_type": "display_data",
          "data": {
            "text/plain": [
              "<IPython.core.display.Javascript object>"
            ],
            "application/javascript": [
              "window[\"22f48c54-9c70-11ef-9857-0242ac1c000c\"] = document.querySelector(\"#id90-0-0\");\n",
              "//# sourceURL=js_9739eff09f"
            ]
          },
          "metadata": {}
        },
        {
          "output_type": "display_data",
          "data": {
            "text/plain": [
              "<IPython.core.display.Javascript object>"
            ],
            "application/javascript": [
              "window[\"22f4d7f4-9c70-11ef-9857-0242ac1c000c\"] = google.colab.output.setActiveOutputArea(window[\"22f48c54-9c70-11ef-9857-0242ac1c000c\"]);\n",
              "//# sourceURL=js_fd4ff162f4"
            ]
          },
          "metadata": {}
        },
        {
          "output_type": "stream",
          "name": "stdout",
          "text": [
            "w= 640 h= 480\n"
          ]
        },
        {
          "output_type": "display_data",
          "data": {
            "text/plain": [
              "<IPython.core.display.Javascript object>"
            ],
            "application/javascript": [
              "window[\"231ba69a-9c70-11ef-9857-0242ac1c000c\"] = google.colab.output.setActiveOutputArea(window[\"22f3ca80-9c70-11ef-9857-0242ac1c000c\"]);\n",
              "//# sourceURL=js_3cc5221ba9"
            ]
          },
          "metadata": {}
        },
        {
          "output_type": "display_data",
          "data": {
            "text/plain": [
              "<IPython.core.display.Javascript object>"
            ],
            "application/javascript": [
              "window[\"231e4a6c-9c70-11ef-9857-0242ac1c000c\"] = google.colab.output.getActiveOutputArea();\n",
              "//# sourceURL=js_ed9f1b1015"
            ]
          },
          "metadata": {}
        },
        {
          "output_type": "display_data",
          "data": {
            "text/plain": [
              "<IPython.core.display.Javascript object>"
            ],
            "application/javascript": [
              "window[\"231f0b32-9c70-11ef-9857-0242ac1c000c\"] = document.querySelector(\"#id90-0-1\");\n",
              "//# sourceURL=js_a18bdbf573"
            ]
          },
          "metadata": {}
        },
        {
          "output_type": "display_data",
          "data": {
            "text/plain": [
              "<IPython.core.display.Javascript object>"
            ],
            "application/javascript": [
              "window[\"231f9642-9c70-11ef-9857-0242ac1c000c\"] = google.colab.output.setActiveOutputArea(window[\"231f0b32-9c70-11ef-9857-0242ac1c000c\"]);\n",
              "//# sourceURL=js_a5af176e44"
            ]
          },
          "metadata": {}
        },
        {
          "output_type": "stream",
          "name": "stdout",
          "text": [
            "w= 640 h= 480\n"
          ]
        },
        {
          "output_type": "display_data",
          "data": {
            "text/plain": [
              "<IPython.core.display.Javascript object>"
            ],
            "application/javascript": [
              "window[\"233b26fa-9c70-11ef-9857-0242ac1c000c\"] = google.colab.output.setActiveOutputArea(window[\"231e4a6c-9c70-11ef-9857-0242ac1c000c\"]);\n",
              "//# sourceURL=js_6e1e7ce3af"
            ]
          },
          "metadata": {}
        },
        {
          "output_type": "display_data",
          "data": {
            "text/plain": [
              "<IPython.core.display.Javascript object>"
            ],
            "application/javascript": [
              "window[\"233d3436-9c70-11ef-9857-0242ac1c000c\"] = google.colab.output.getActiveOutputArea();\n",
              "//# sourceURL=js_51abf21c03"
            ]
          },
          "metadata": {}
        },
        {
          "output_type": "display_data",
          "data": {
            "text/plain": [
              "<IPython.core.display.Javascript object>"
            ],
            "application/javascript": [
              "window[\"233d7e5a-9c70-11ef-9857-0242ac1c000c\"] = document.querySelector(\"#id90-1-0\");\n",
              "//# sourceURL=js_fd3db62bac"
            ]
          },
          "metadata": {}
        },
        {
          "output_type": "display_data",
          "data": {
            "text/plain": [
              "<IPython.core.display.Javascript object>"
            ],
            "application/javascript": [
              "window[\"233dfcfe-9c70-11ef-9857-0242ac1c000c\"] = google.colab.output.setActiveOutputArea(window[\"233d7e5a-9c70-11ef-9857-0242ac1c000c\"]);\n",
              "//# sourceURL=js_528594fe14"
            ]
          },
          "metadata": {}
        },
        {
          "output_type": "stream",
          "name": "stdout",
          "text": [
            "w= 640 h= 480\n"
          ]
        },
        {
          "output_type": "display_data",
          "data": {
            "text/plain": [
              "<IPython.core.display.Javascript object>"
            ],
            "application/javascript": [
              "window[\"235e568e-9c70-11ef-9857-0242ac1c000c\"] = google.colab.output.setActiveOutputArea(window[\"233d3436-9c70-11ef-9857-0242ac1c000c\"]);\n",
              "//# sourceURL=js_6d0c4c6f98"
            ]
          },
          "metadata": {}
        },
        {
          "output_type": "display_data",
          "data": {
            "text/plain": [
              "<IPython.core.display.Javascript object>"
            ],
            "application/javascript": [
              "window[\"23604656-9c70-11ef-9857-0242ac1c000c\"] = google.colab.output.getActiveOutputArea();\n",
              "//# sourceURL=js_b88afaa56a"
            ]
          },
          "metadata": {}
        },
        {
          "output_type": "display_data",
          "data": {
            "text/plain": [
              "<IPython.core.display.Javascript object>"
            ],
            "application/javascript": [
              "window[\"23608eea-9c70-11ef-9857-0242ac1c000c\"] = document.querySelector(\"#id90-1-1\");\n",
              "//# sourceURL=js_a701d9eff6"
            ]
          },
          "metadata": {}
        },
        {
          "output_type": "display_data",
          "data": {
            "text/plain": [
              "<IPython.core.display.Javascript object>"
            ],
            "application/javascript": [
              "window[\"2360e598-9c70-11ef-9857-0242ac1c000c\"] = google.colab.output.setActiveOutputArea(window[\"23608eea-9c70-11ef-9857-0242ac1c000c\"]);\n",
              "//# sourceURL=js_8e2885a8ee"
            ]
          },
          "metadata": {}
        },
        {
          "output_type": "stream",
          "name": "stdout",
          "text": [
            "w= 640 h= 480\n"
          ]
        },
        {
          "output_type": "display_data",
          "data": {
            "text/plain": [
              "<IPython.core.display.Javascript object>"
            ],
            "application/javascript": [
              "window[\"237fed80-9c70-11ef-9857-0242ac1c000c\"] = google.colab.output.setActiveOutputArea(window[\"23604656-9c70-11ef-9857-0242ac1c000c\"]);\n",
              "//# sourceURL=js_3c46ff2583"
            ]
          },
          "metadata": {}
        },
        {
          "output_type": "display_data",
          "data": {
            "text/plain": [
              "<IPython.core.display.HTML object>"
            ],
            "text/html": [
              "<style>\n",
              "       table#id92, #id92 > tbody > tr > th, #id92 > tbody > tr > td {\n",
              "         border: 1px solid lightgray;\n",
              "         border-collapse:collapse;\n",
              "         \n",
              "        }</style>"
            ]
          },
          "metadata": {}
        },
        {
          "output_type": "display_data",
          "data": {
            "text/plain": [
              "<IPython.core.display.HTML object>"
            ],
            "text/html": [
              "<table id=id92><tr><td id=id92-0-0></td><td id=id92-0-1></td></tr><tr><td id=id92-1-0></td><td id=id92-1-1></td></tr></table>"
            ]
          },
          "metadata": {}
        },
        {
          "output_type": "display_data",
          "data": {
            "text/plain": [
              "<IPython.core.display.Javascript object>"
            ],
            "application/javascript": [
              "window[\"23850f04-9c70-11ef-9857-0242ac1c000c\"] = google.colab.output.getActiveOutputArea();\n",
              "//# sourceURL=js_df0943a9b3"
            ]
          },
          "metadata": {}
        },
        {
          "output_type": "display_data",
          "data": {
            "text/plain": [
              "<IPython.core.display.Javascript object>"
            ],
            "application/javascript": [
              "window[\"23855f9a-9c70-11ef-9857-0242ac1c000c\"] = document.querySelector(\"#id92-0-0\");\n",
              "//# sourceURL=js_99e7a97b3a"
            ]
          },
          "metadata": {}
        },
        {
          "output_type": "display_data",
          "data": {
            "text/plain": [
              "<IPython.core.display.Javascript object>"
            ],
            "application/javascript": [
              "window[\"2385a0e0-9c70-11ef-9857-0242ac1c000c\"] = google.colab.output.setActiveOutputArea(window[\"23855f9a-9c70-11ef-9857-0242ac1c000c\"]);\n",
              "//# sourceURL=js_498f66231c"
            ]
          },
          "metadata": {}
        },
        {
          "output_type": "stream",
          "name": "stdout",
          "text": [
            "w= 640 h= 480\n"
          ]
        },
        {
          "output_type": "display_data",
          "data": {
            "text/plain": [
              "<IPython.core.display.Javascript object>"
            ],
            "application/javascript": [
              "window[\"23a6629e-9c70-11ef-9857-0242ac1c000c\"] = google.colab.output.setActiveOutputArea(window[\"23850f04-9c70-11ef-9857-0242ac1c000c\"]);\n",
              "//# sourceURL=js_466324d20c"
            ]
          },
          "metadata": {}
        },
        {
          "output_type": "display_data",
          "data": {
            "text/plain": [
              "<IPython.core.display.Javascript object>"
            ],
            "application/javascript": [
              "window[\"23a86abc-9c70-11ef-9857-0242ac1c000c\"] = google.colab.output.getActiveOutputArea();\n",
              "//# sourceURL=js_1f2035c26b"
            ]
          },
          "metadata": {}
        },
        {
          "output_type": "display_data",
          "data": {
            "text/plain": [
              "<IPython.core.display.Javascript object>"
            ],
            "application/javascript": [
              "window[\"23a8b06c-9c70-11ef-9857-0242ac1c000c\"] = document.querySelector(\"#id92-0-1\");\n",
              "//# sourceURL=js_07a1524459"
            ]
          },
          "metadata": {}
        },
        {
          "output_type": "display_data",
          "data": {
            "text/plain": [
              "<IPython.core.display.Javascript object>"
            ],
            "application/javascript": [
              "window[\"23a93442-9c70-11ef-9857-0242ac1c000c\"] = google.colab.output.setActiveOutputArea(window[\"23a8b06c-9c70-11ef-9857-0242ac1c000c\"]);\n",
              "//# sourceURL=js_6685353c7c"
            ]
          },
          "metadata": {}
        },
        {
          "output_type": "stream",
          "name": "stdout",
          "text": [
            "w= 640 h= 480\n"
          ]
        },
        {
          "output_type": "display_data",
          "data": {
            "text/plain": [
              "<IPython.core.display.Javascript object>"
            ],
            "application/javascript": [
              "window[\"23c189f2-9c70-11ef-9857-0242ac1c000c\"] = google.colab.output.setActiveOutputArea(window[\"23a86abc-9c70-11ef-9857-0242ac1c000c\"]);\n",
              "//# sourceURL=js_87a2f173c8"
            ]
          },
          "metadata": {}
        },
        {
          "output_type": "display_data",
          "data": {
            "text/plain": [
              "<IPython.core.display.Javascript object>"
            ],
            "application/javascript": [
              "window[\"23c3b3d0-9c70-11ef-9857-0242ac1c000c\"] = google.colab.output.getActiveOutputArea();\n",
              "//# sourceURL=js_90550bf742"
            ]
          },
          "metadata": {}
        },
        {
          "output_type": "display_data",
          "data": {
            "text/plain": [
              "<IPython.core.display.Javascript object>"
            ],
            "application/javascript": [
              "window[\"23c42446-9c70-11ef-9857-0242ac1c000c\"] = document.querySelector(\"#id92-1-0\");\n",
              "//# sourceURL=js_9c23cf9092"
            ]
          },
          "metadata": {}
        },
        {
          "output_type": "display_data",
          "data": {
            "text/plain": [
              "<IPython.core.display.Javascript object>"
            ],
            "application/javascript": [
              "window[\"23c468b6-9c70-11ef-9857-0242ac1c000c\"] = google.colab.output.setActiveOutputArea(window[\"23c42446-9c70-11ef-9857-0242ac1c000c\"]);\n",
              "//# sourceURL=js_46a4ca1043"
            ]
          },
          "metadata": {}
        },
        {
          "output_type": "stream",
          "name": "stdout",
          "text": [
            "w= 640 h= 480\n"
          ]
        },
        {
          "output_type": "display_data",
          "data": {
            "text/plain": [
              "<IPython.core.display.Javascript object>"
            ],
            "application/javascript": [
              "window[\"23dec616-9c70-11ef-9857-0242ac1c000c\"] = google.colab.output.setActiveOutputArea(window[\"23c3b3d0-9c70-11ef-9857-0242ac1c000c\"]);\n",
              "//# sourceURL=js_bd2eb1d196"
            ]
          },
          "metadata": {}
        },
        {
          "output_type": "display_data",
          "data": {
            "text/plain": [
              "<IPython.core.display.Javascript object>"
            ],
            "application/javascript": [
              "window[\"23e155b6-9c70-11ef-9857-0242ac1c000c\"] = google.colab.output.getActiveOutputArea();\n",
              "//# sourceURL=js_e049677db8"
            ]
          },
          "metadata": {}
        },
        {
          "output_type": "display_data",
          "data": {
            "text/plain": [
              "<IPython.core.display.Javascript object>"
            ],
            "application/javascript": [
              "window[\"23e19b3e-9c70-11ef-9857-0242ac1c000c\"] = document.querySelector(\"#id92-1-1\");\n",
              "//# sourceURL=js_ba5a5fcfb2"
            ]
          },
          "metadata": {}
        },
        {
          "output_type": "display_data",
          "data": {
            "text/plain": [
              "<IPython.core.display.Javascript object>"
            ],
            "application/javascript": [
              "window[\"23e20f6a-9c70-11ef-9857-0242ac1c000c\"] = google.colab.output.setActiveOutputArea(window[\"23e19b3e-9c70-11ef-9857-0242ac1c000c\"]);\n",
              "//# sourceURL=js_056ef7711c"
            ]
          },
          "metadata": {}
        },
        {
          "output_type": "stream",
          "name": "stdout",
          "text": [
            "w= 640 h= 480\n"
          ]
        },
        {
          "output_type": "display_data",
          "data": {
            "text/plain": [
              "<IPython.core.display.Javascript object>"
            ],
            "application/javascript": [
              "window[\"23ff1560-9c70-11ef-9857-0242ac1c000c\"] = google.colab.output.setActiveOutputArea(window[\"23e155b6-9c70-11ef-9857-0242ac1c000c\"]);\n",
              "//# sourceURL=js_ed18a96bef"
            ]
          },
          "metadata": {}
        },
        {
          "output_type": "display_data",
          "data": {
            "text/plain": [
              "<IPython.core.display.HTML object>"
            ],
            "text/html": [
              "<style>\n",
              "       table#id94, #id94 > tbody > tr > th, #id94 > tbody > tr > td {\n",
              "         border: 1px solid lightgray;\n",
              "         border-collapse:collapse;\n",
              "         \n",
              "        }</style>"
            ]
          },
          "metadata": {}
        },
        {
          "output_type": "display_data",
          "data": {
            "text/plain": [
              "<IPython.core.display.HTML object>"
            ],
            "text/html": [
              "<table id=id94><tr><td id=id94-0-0></td><td id=id94-0-1></td></tr><tr><td id=id94-1-0></td><td id=id94-1-1></td></tr></table>"
            ]
          },
          "metadata": {}
        },
        {
          "output_type": "display_data",
          "data": {
            "text/plain": [
              "<IPython.core.display.Javascript object>"
            ],
            "application/javascript": [
              "window[\"2402d038-9c70-11ef-9857-0242ac1c000c\"] = google.colab.output.getActiveOutputArea();\n",
              "//# sourceURL=js_71b782af7a"
            ]
          },
          "metadata": {}
        },
        {
          "output_type": "display_data",
          "data": {
            "text/plain": [
              "<IPython.core.display.Javascript object>"
            ],
            "application/javascript": [
              "window[\"2403144e-9c70-11ef-9857-0242ac1c000c\"] = document.querySelector(\"#id94-0-0\");\n",
              "//# sourceURL=js_9738705a08"
            ]
          },
          "metadata": {}
        },
        {
          "output_type": "display_data",
          "data": {
            "text/plain": [
              "<IPython.core.display.Javascript object>"
            ],
            "application/javascript": [
              "window[\"24035616-9c70-11ef-9857-0242ac1c000c\"] = google.colab.output.setActiveOutputArea(window[\"2403144e-9c70-11ef-9857-0242ac1c000c\"]);\n",
              "//# sourceURL=js_571aa71161"
            ]
          },
          "metadata": {}
        },
        {
          "output_type": "stream",
          "name": "stdout",
          "text": [
            "w= 640 h= 480\n"
          ]
        },
        {
          "output_type": "display_data",
          "data": {
            "text/plain": [
              "<IPython.core.display.Javascript object>"
            ],
            "application/javascript": [
              "window[\"2422b3ee-9c70-11ef-9857-0242ac1c000c\"] = google.colab.output.setActiveOutputArea(window[\"2402d038-9c70-11ef-9857-0242ac1c000c\"]);\n",
              "//# sourceURL=js_9b7cb00c71"
            ]
          },
          "metadata": {}
        },
        {
          "output_type": "display_data",
          "data": {
            "text/plain": [
              "<IPython.core.display.Javascript object>"
            ],
            "application/javascript": [
              "window[\"24260dfa-9c70-11ef-9857-0242ac1c000c\"] = google.colab.output.getActiveOutputArea();\n",
              "//# sourceURL=js_4b873b9081"
            ]
          },
          "metadata": {}
        },
        {
          "output_type": "display_data",
          "data": {
            "text/plain": [
              "<IPython.core.display.Javascript object>"
            ],
            "application/javascript": [
              "window[\"2426a4cc-9c70-11ef-9857-0242ac1c000c\"] = document.querySelector(\"#id94-0-1\");\n",
              "//# sourceURL=js_a8a03d894e"
            ]
          },
          "metadata": {}
        },
        {
          "output_type": "display_data",
          "data": {
            "text/plain": [
              "<IPython.core.display.Javascript object>"
            ],
            "application/javascript": [
              "window[\"24276e02-9c70-11ef-9857-0242ac1c000c\"] = google.colab.output.setActiveOutputArea(window[\"2426a4cc-9c70-11ef-9857-0242ac1c000c\"]);\n",
              "//# sourceURL=js_5b4ce4f2e7"
            ]
          },
          "metadata": {}
        },
        {
          "output_type": "stream",
          "name": "stdout",
          "text": [
            "w= 640 h= 480\n"
          ]
        },
        {
          "output_type": "display_data",
          "data": {
            "text/plain": [
              "<IPython.core.display.Javascript object>"
            ],
            "application/javascript": [
              "window[\"244c49ac-9c70-11ef-9857-0242ac1c000c\"] = google.colab.output.setActiveOutputArea(window[\"24260dfa-9c70-11ef-9857-0242ac1c000c\"]);\n",
              "//# sourceURL=js_7499fd7072"
            ]
          },
          "metadata": {}
        },
        {
          "output_type": "display_data",
          "data": {
            "text/plain": [
              "<IPython.core.display.Javascript object>"
            ],
            "application/javascript": [
              "window[\"244f1e5c-9c70-11ef-9857-0242ac1c000c\"] = google.colab.output.getActiveOutputArea();\n",
              "//# sourceURL=js_97910dee38"
            ]
          },
          "metadata": {}
        },
        {
          "output_type": "display_data",
          "data": {
            "text/plain": [
              "<IPython.core.display.Javascript object>"
            ],
            "application/javascript": [
              "window[\"244f69c0-9c70-11ef-9857-0242ac1c000c\"] = document.querySelector(\"#id94-1-0\");\n",
              "//# sourceURL=js_2aaedb0b18"
            ]
          },
          "metadata": {}
        },
        {
          "output_type": "display_data",
          "data": {
            "text/plain": [
              "<IPython.core.display.Javascript object>"
            ],
            "application/javascript": [
              "window[\"245068ca-9c70-11ef-9857-0242ac1c000c\"] = google.colab.output.setActiveOutputArea(window[\"244f69c0-9c70-11ef-9857-0242ac1c000c\"]);\n",
              "//# sourceURL=js_477ad929dd"
            ]
          },
          "metadata": {}
        },
        {
          "output_type": "stream",
          "name": "stdout",
          "text": [
            "w= 640 h= 480\n"
          ]
        },
        {
          "output_type": "display_data",
          "data": {
            "text/plain": [
              "<IPython.core.display.Javascript object>"
            ],
            "application/javascript": [
              "window[\"246ffd2a-9c70-11ef-9857-0242ac1c000c\"] = google.colab.output.setActiveOutputArea(window[\"244f1e5c-9c70-11ef-9857-0242ac1c000c\"]);\n",
              "//# sourceURL=js_0ddc5b470b"
            ]
          },
          "metadata": {}
        },
        {
          "output_type": "display_data",
          "data": {
            "text/plain": [
              "<IPython.core.display.Javascript object>"
            ],
            "application/javascript": [
              "window[\"24729738-9c70-11ef-9857-0242ac1c000c\"] = google.colab.output.getActiveOutputArea();\n",
              "//# sourceURL=js_56e08d6364"
            ]
          },
          "metadata": {}
        },
        {
          "output_type": "display_data",
          "data": {
            "text/plain": [
              "<IPython.core.display.Javascript object>"
            ],
            "application/javascript": [
              "window[\"2472e6fc-9c70-11ef-9857-0242ac1c000c\"] = document.querySelector(\"#id94-1-1\");\n",
              "//# sourceURL=js_9bdd46b788"
            ]
          },
          "metadata": {}
        },
        {
          "output_type": "display_data",
          "data": {
            "text/plain": [
              "<IPython.core.display.Javascript object>"
            ],
            "application/javascript": [
              "window[\"2473d9e0-9c70-11ef-9857-0242ac1c000c\"] = google.colab.output.setActiveOutputArea(window[\"2472e6fc-9c70-11ef-9857-0242ac1c000c\"]);\n",
              "//# sourceURL=js_8a70b3af21"
            ]
          },
          "metadata": {}
        },
        {
          "output_type": "stream",
          "name": "stdout",
          "text": [
            "w= 640 h= 480\n"
          ]
        },
        {
          "output_type": "display_data",
          "data": {
            "text/plain": [
              "<IPython.core.display.Javascript object>"
            ],
            "application/javascript": [
              "window[\"248e7638-9c70-11ef-9857-0242ac1c000c\"] = google.colab.output.setActiveOutputArea(window[\"24729738-9c70-11ef-9857-0242ac1c000c\"]);\n",
              "//# sourceURL=js_51ea7e194a"
            ]
          },
          "metadata": {}
        },
        {
          "output_type": "display_data",
          "data": {
            "text/plain": [
              "<IPython.core.display.HTML object>"
            ],
            "text/html": [
              "<style>\n",
              "       table#id96, #id96 > tbody > tr > th, #id96 > tbody > tr > td {\n",
              "         border: 1px solid lightgray;\n",
              "         border-collapse:collapse;\n",
              "         \n",
              "        }</style>"
            ]
          },
          "metadata": {}
        },
        {
          "output_type": "display_data",
          "data": {
            "text/plain": [
              "<IPython.core.display.HTML object>"
            ],
            "text/html": [
              "<table id=id96><tr><td id=id96-0-0></td><td id=id96-0-1></td></tr><tr><td id=id96-1-0></td><td id=id96-1-1></td></tr></table>"
            ]
          },
          "metadata": {}
        },
        {
          "output_type": "display_data",
          "data": {
            "text/plain": [
              "<IPython.core.display.Javascript object>"
            ],
            "application/javascript": [
              "window[\"2491ccac-9c70-11ef-9857-0242ac1c000c\"] = google.colab.output.getActiveOutputArea();\n",
              "//# sourceURL=js_fea560c75c"
            ]
          },
          "metadata": {}
        },
        {
          "output_type": "display_data",
          "data": {
            "text/plain": [
              "<IPython.core.display.Javascript object>"
            ],
            "application/javascript": [
              "window[\"24920f78-9c70-11ef-9857-0242ac1c000c\"] = document.querySelector(\"#id96-0-0\");\n",
              "//# sourceURL=js_04639af4bd"
            ]
          },
          "metadata": {}
        },
        {
          "output_type": "display_data",
          "data": {
            "text/plain": [
              "<IPython.core.display.Javascript object>"
            ],
            "application/javascript": [
              "window[\"24924eac-9c70-11ef-9857-0242ac1c000c\"] = google.colab.output.setActiveOutputArea(window[\"24920f78-9c70-11ef-9857-0242ac1c000c\"]);\n",
              "//# sourceURL=js_414eebaa03"
            ]
          },
          "metadata": {}
        },
        {
          "output_type": "stream",
          "name": "stdout",
          "text": [
            "w= 640 h= 480\n"
          ]
        },
        {
          "output_type": "display_data",
          "data": {
            "text/plain": [
              "<IPython.core.display.Javascript object>"
            ],
            "application/javascript": [
              "window[\"24ad40ea-9c70-11ef-9857-0242ac1c000c\"] = google.colab.output.setActiveOutputArea(window[\"2491ccac-9c70-11ef-9857-0242ac1c000c\"]);\n",
              "//# sourceURL=js_604d5c989c"
            ]
          },
          "metadata": {}
        },
        {
          "output_type": "display_data",
          "data": {
            "text/plain": [
              "<IPython.core.display.Javascript object>"
            ],
            "application/javascript": [
              "window[\"24afedb8-9c70-11ef-9857-0242ac1c000c\"] = google.colab.output.getActiveOutputArea();\n",
              "//# sourceURL=js_e76af2a7b5"
            ]
          },
          "metadata": {}
        },
        {
          "output_type": "display_data",
          "data": {
            "text/plain": [
              "<IPython.core.display.Javascript object>"
            ],
            "application/javascript": [
              "window[\"24b0357a-9c70-11ef-9857-0242ac1c000c\"] = document.querySelector(\"#id96-0-1\");\n",
              "//# sourceURL=js_2e3cd921a0"
            ]
          },
          "metadata": {}
        },
        {
          "output_type": "display_data",
          "data": {
            "text/plain": [
              "<IPython.core.display.Javascript object>"
            ],
            "application/javascript": [
              "window[\"24b07ab2-9c70-11ef-9857-0242ac1c000c\"] = google.colab.output.setActiveOutputArea(window[\"24b0357a-9c70-11ef-9857-0242ac1c000c\"]);\n",
              "//# sourceURL=js_8b7a6e4fc5"
            ]
          },
          "metadata": {}
        },
        {
          "output_type": "stream",
          "name": "stdout",
          "text": [
            "w= 640 h= 480\n"
          ]
        },
        {
          "output_type": "display_data",
          "data": {
            "text/plain": [
              "<IPython.core.display.Javascript object>"
            ],
            "application/javascript": [
              "window[\"24d3a078-9c70-11ef-9857-0242ac1c000c\"] = google.colab.output.setActiveOutputArea(window[\"24afedb8-9c70-11ef-9857-0242ac1c000c\"]);\n",
              "//# sourceURL=js_8e78cd2ec1"
            ]
          },
          "metadata": {}
        },
        {
          "output_type": "display_data",
          "data": {
            "text/plain": [
              "<IPython.core.display.Javascript object>"
            ],
            "application/javascript": [
              "window[\"24d6f6ba-9c70-11ef-9857-0242ac1c000c\"] = google.colab.output.getActiveOutputArea();\n",
              "//# sourceURL=js_d18677d37d"
            ]
          },
          "metadata": {}
        },
        {
          "output_type": "display_data",
          "data": {
            "text/plain": [
              "<IPython.core.display.Javascript object>"
            ],
            "application/javascript": [
              "window[\"24d73f62-9c70-11ef-9857-0242ac1c000c\"] = document.querySelector(\"#id96-1-0\");\n",
              "//# sourceURL=js_c3f5f60db7"
            ]
          },
          "metadata": {}
        },
        {
          "output_type": "display_data",
          "data": {
            "text/plain": [
              "<IPython.core.display.Javascript object>"
            ],
            "application/javascript": [
              "window[\"24d7d3c8-9c70-11ef-9857-0242ac1c000c\"] = google.colab.output.setActiveOutputArea(window[\"24d73f62-9c70-11ef-9857-0242ac1c000c\"]);\n",
              "//# sourceURL=js_f9a53ee98f"
            ]
          },
          "metadata": {}
        },
        {
          "output_type": "stream",
          "name": "stdout",
          "text": [
            "w= 640 h= 480\n"
          ]
        },
        {
          "output_type": "display_data",
          "data": {
            "text/plain": [
              "<IPython.core.display.Javascript object>"
            ],
            "application/javascript": [
              "window[\"24f8a576-9c70-11ef-9857-0242ac1c000c\"] = google.colab.output.setActiveOutputArea(window[\"24d6f6ba-9c70-11ef-9857-0242ac1c000c\"]);\n",
              "//# sourceURL=js_fb40e597d0"
            ]
          },
          "metadata": {}
        },
        {
          "output_type": "display_data",
          "data": {
            "text/plain": [
              "<IPython.core.display.Javascript object>"
            ],
            "application/javascript": [
              "window[\"24fac798-9c70-11ef-9857-0242ac1c000c\"] = google.colab.output.getActiveOutputArea();\n",
              "//# sourceURL=js_ab5c0e3808"
            ]
          },
          "metadata": {}
        },
        {
          "output_type": "display_data",
          "data": {
            "text/plain": [
              "<IPython.core.display.Javascript object>"
            ],
            "application/javascript": [
              "window[\"24fb134c-9c70-11ef-9857-0242ac1c000c\"] = document.querySelector(\"#id96-1-1\");\n",
              "//# sourceURL=js_613f0460b2"
            ]
          },
          "metadata": {}
        },
        {
          "output_type": "display_data",
          "data": {
            "text/plain": [
              "<IPython.core.display.Javascript object>"
            ],
            "application/javascript": [
              "window[\"24fbdf0c-9c70-11ef-9857-0242ac1c000c\"] = google.colab.output.setActiveOutputArea(window[\"24fb134c-9c70-11ef-9857-0242ac1c000c\"]);\n",
              "//# sourceURL=js_b4180bb13f"
            ]
          },
          "metadata": {}
        },
        {
          "output_type": "stream",
          "name": "stdout",
          "text": [
            "w= 640 h= 480\n"
          ]
        },
        {
          "output_type": "display_data",
          "data": {
            "text/plain": [
              "<IPython.core.display.Javascript object>"
            ],
            "application/javascript": [
              "window[\"2517398c-9c70-11ef-9857-0242ac1c000c\"] = google.colab.output.setActiveOutputArea(window[\"24fac798-9c70-11ef-9857-0242ac1c000c\"]);\n",
              "//# sourceURL=js_674ae61f10"
            ]
          },
          "metadata": {}
        },
        {
          "output_type": "display_data",
          "data": {
            "text/plain": [
              "<IPython.core.display.HTML object>"
            ],
            "text/html": [
              "<style>\n",
              "       table#id98, #id98 > tbody > tr > th, #id98 > tbody > tr > td {\n",
              "         border: 1px solid lightgray;\n",
              "         border-collapse:collapse;\n",
              "         \n",
              "        }</style>"
            ]
          },
          "metadata": {}
        },
        {
          "output_type": "display_data",
          "data": {
            "text/plain": [
              "<IPython.core.display.HTML object>"
            ],
            "text/html": [
              "<table id=id98><tr><td id=id98-0-0></td><td id=id98-0-1></td></tr><tr><td id=id98-1-0></td><td id=id98-1-1></td></tr></table>"
            ]
          },
          "metadata": {}
        },
        {
          "output_type": "display_data",
          "data": {
            "text/plain": [
              "<IPython.core.display.Javascript object>"
            ],
            "application/javascript": [
              "window[\"251a8d08-9c70-11ef-9857-0242ac1c000c\"] = google.colab.output.getActiveOutputArea();\n",
              "//# sourceURL=js_b1a5120079"
            ]
          },
          "metadata": {}
        },
        {
          "output_type": "display_data",
          "data": {
            "text/plain": [
              "<IPython.core.display.Javascript object>"
            ],
            "application/javascript": [
              "window[\"251ad060-9c70-11ef-9857-0242ac1c000c\"] = document.querySelector(\"#id98-0-0\");\n",
              "//# sourceURL=js_5ec2011861"
            ]
          },
          "metadata": {}
        },
        {
          "output_type": "display_data",
          "data": {
            "text/plain": [
              "<IPython.core.display.Javascript object>"
            ],
            "application/javascript": [
              "window[\"251b12be-9c70-11ef-9857-0242ac1c000c\"] = google.colab.output.setActiveOutputArea(window[\"251ad060-9c70-11ef-9857-0242ac1c000c\"]);\n",
              "//# sourceURL=js_34cbf45483"
            ]
          },
          "metadata": {}
        },
        {
          "output_type": "stream",
          "name": "stdout",
          "text": [
            "w= 640 h= 480\n"
          ]
        },
        {
          "output_type": "display_data",
          "data": {
            "text/plain": [
              "<IPython.core.display.Javascript object>"
            ],
            "application/javascript": [
              "window[\"253348ac-9c70-11ef-9857-0242ac1c000c\"] = google.colab.output.setActiveOutputArea(window[\"251a8d08-9c70-11ef-9857-0242ac1c000c\"]);\n",
              "//# sourceURL=js_b8ebcf7a46"
            ]
          },
          "metadata": {}
        },
        {
          "output_type": "display_data",
          "data": {
            "text/plain": [
              "<IPython.core.display.Javascript object>"
            ],
            "application/javascript": [
              "window[\"25361f0a-9c70-11ef-9857-0242ac1c000c\"] = google.colab.output.getActiveOutputArea();\n",
              "//# sourceURL=js_954d13b99b"
            ]
          },
          "metadata": {}
        },
        {
          "output_type": "display_data",
          "data": {
            "text/plain": [
              "<IPython.core.display.Javascript object>"
            ],
            "application/javascript": [
              "window[\"2536e8b8-9c70-11ef-9857-0242ac1c000c\"] = document.querySelector(\"#id98-0-1\");\n",
              "//# sourceURL=js_30b4b1e214"
            ]
          },
          "metadata": {}
        },
        {
          "output_type": "display_data",
          "data": {
            "text/plain": [
              "<IPython.core.display.Javascript object>"
            ],
            "application/javascript": [
              "window[\"2537439e-9c70-11ef-9857-0242ac1c000c\"] = google.colab.output.setActiveOutputArea(window[\"2536e8b8-9c70-11ef-9857-0242ac1c000c\"]);\n",
              "//# sourceURL=js_9a27b3d115"
            ]
          },
          "metadata": {}
        },
        {
          "output_type": "stream",
          "name": "stdout",
          "text": [
            "w= 640 h= 480\n"
          ]
        },
        {
          "output_type": "display_data",
          "data": {
            "text/plain": [
              "<IPython.core.display.Javascript object>"
            ],
            "application/javascript": [
              "window[\"2552928e-9c70-11ef-9857-0242ac1c000c\"] = google.colab.output.setActiveOutputArea(window[\"25361f0a-9c70-11ef-9857-0242ac1c000c\"]);\n",
              "//# sourceURL=js_08eafc6a6f"
            ]
          },
          "metadata": {}
        },
        {
          "output_type": "display_data",
          "data": {
            "text/plain": [
              "<IPython.core.display.Javascript object>"
            ],
            "application/javascript": [
              "window[\"2555a6ea-9c70-11ef-9857-0242ac1c000c\"] = google.colab.output.getActiveOutputArea();\n",
              "//# sourceURL=js_0be2402d1b"
            ]
          },
          "metadata": {}
        },
        {
          "output_type": "display_data",
          "data": {
            "text/plain": [
              "<IPython.core.display.Javascript object>"
            ],
            "application/javascript": [
              "window[\"2556019e-9c70-11ef-9857-0242ac1c000c\"] = document.querySelector(\"#id98-1-0\");\n",
              "//# sourceURL=js_5d8265b570"
            ]
          },
          "metadata": {}
        },
        {
          "output_type": "display_data",
          "data": {
            "text/plain": [
              "<IPython.core.display.Javascript object>"
            ],
            "application/javascript": [
              "window[\"25565e3c-9c70-11ef-9857-0242ac1c000c\"] = google.colab.output.setActiveOutputArea(window[\"2556019e-9c70-11ef-9857-0242ac1c000c\"]);\n",
              "//# sourceURL=js_500e66c001"
            ]
          },
          "metadata": {}
        },
        {
          "output_type": "stream",
          "name": "stdout",
          "text": [
            "w= 640 h= 480\n"
          ]
        },
        {
          "output_type": "display_data",
          "data": {
            "text/plain": [
              "<IPython.core.display.Javascript object>"
            ],
            "application/javascript": [
              "window[\"257471a6-9c70-11ef-9857-0242ac1c000c\"] = google.colab.output.setActiveOutputArea(window[\"2555a6ea-9c70-11ef-9857-0242ac1c000c\"]);\n",
              "//# sourceURL=js_53cf8d35df"
            ]
          },
          "metadata": {}
        },
        {
          "output_type": "display_data",
          "data": {
            "text/plain": [
              "<IPython.core.display.Javascript object>"
            ],
            "application/javascript": [
              "window[\"257713ca-9c70-11ef-9857-0242ac1c000c\"] = google.colab.output.getActiveOutputArea();\n",
              "//# sourceURL=js_240cf822cb"
            ]
          },
          "metadata": {}
        },
        {
          "output_type": "display_data",
          "data": {
            "text/plain": [
              "<IPython.core.display.Javascript object>"
            ],
            "application/javascript": [
              "window[\"25775880-9c70-11ef-9857-0242ac1c000c\"] = document.querySelector(\"#id98-1-1\");\n",
              "//# sourceURL=js_84aab99535"
            ]
          },
          "metadata": {}
        },
        {
          "output_type": "display_data",
          "data": {
            "text/plain": [
              "<IPython.core.display.Javascript object>"
            ],
            "application/javascript": [
              "window[\"2577d5b2-9c70-11ef-9857-0242ac1c000c\"] = google.colab.output.setActiveOutputArea(window[\"25775880-9c70-11ef-9857-0242ac1c000c\"]);\n",
              "//# sourceURL=js_237ee7fa44"
            ]
          },
          "metadata": {}
        },
        {
          "output_type": "stream",
          "name": "stdout",
          "text": [
            "w= 640 h= 480\n"
          ]
        },
        {
          "output_type": "display_data",
          "data": {
            "text/plain": [
              "<IPython.core.display.Javascript object>"
            ],
            "application/javascript": [
              "window[\"2592a6bc-9c70-11ef-9857-0242ac1c000c\"] = google.colab.output.setActiveOutputArea(window[\"257713ca-9c70-11ef-9857-0242ac1c000c\"]);\n",
              "//# sourceURL=js_9d47f970bc"
            ]
          },
          "metadata": {}
        },
        {
          "output_type": "display_data",
          "data": {
            "text/plain": [
              "<IPython.core.display.HTML object>"
            ],
            "text/html": [
              "<style>\n",
              "       table#id100, #id100 > tbody > tr > th, #id100 > tbody > tr > td {\n",
              "         border: 1px solid lightgray;\n",
              "         border-collapse:collapse;\n",
              "         \n",
              "        }</style>"
            ]
          },
          "metadata": {}
        },
        {
          "output_type": "display_data",
          "data": {
            "text/plain": [
              "<IPython.core.display.HTML object>"
            ],
            "text/html": [
              "<table id=id100><tr><td id=id100-0-0></td><td id=id100-0-1></td></tr><tr><td id=id100-1-0></td><td id=id100-1-1></td></tr></table>"
            ]
          },
          "metadata": {}
        },
        {
          "output_type": "display_data",
          "data": {
            "text/plain": [
              "<IPython.core.display.Javascript object>"
            ],
            "application/javascript": [
              "window[\"2596fb40-9c70-11ef-9857-0242ac1c000c\"] = google.colab.output.getActiveOutputArea();\n",
              "//# sourceURL=js_dbbf305ddf"
            ]
          },
          "metadata": {}
        },
        {
          "output_type": "display_data",
          "data": {
            "text/plain": [
              "<IPython.core.display.Javascript object>"
            ],
            "application/javascript": [
              "window[\"25977f5c-9c70-11ef-9857-0242ac1c000c\"] = document.querySelector(\"#id100-0-0\");\n",
              "//# sourceURL=js_54e294aa1b"
            ]
          },
          "metadata": {}
        },
        {
          "output_type": "display_data",
          "data": {
            "text/plain": [
              "<IPython.core.display.Javascript object>"
            ],
            "application/javascript": [
              "window[\"2597befe-9c70-11ef-9857-0242ac1c000c\"] = google.colab.output.setActiveOutputArea(window[\"25977f5c-9c70-11ef-9857-0242ac1c000c\"]);\n",
              "//# sourceURL=js_214291999e"
            ]
          },
          "metadata": {}
        },
        {
          "output_type": "stream",
          "name": "stdout",
          "text": [
            "w= 640 h= 480\n"
          ]
        },
        {
          "output_type": "display_data",
          "data": {
            "text/plain": [
              "<IPython.core.display.Javascript object>"
            ],
            "application/javascript": [
              "window[\"25b187da-9c70-11ef-9857-0242ac1c000c\"] = google.colab.output.setActiveOutputArea(window[\"2596fb40-9c70-11ef-9857-0242ac1c000c\"]);\n",
              "//# sourceURL=js_ef31819804"
            ]
          },
          "metadata": {}
        },
        {
          "output_type": "display_data",
          "data": {
            "text/plain": [
              "<IPython.core.display.Javascript object>"
            ],
            "application/javascript": [
              "window[\"25b479fe-9c70-11ef-9857-0242ac1c000c\"] = google.colab.output.getActiveOutputArea();\n",
              "//# sourceURL=js_a6a7bda2c3"
            ]
          },
          "metadata": {}
        },
        {
          "output_type": "display_data",
          "data": {
            "text/plain": [
              "<IPython.core.display.Javascript object>"
            ],
            "application/javascript": [
              "window[\"25b5234a-9c70-11ef-9857-0242ac1c000c\"] = document.querySelector(\"#id100-0-1\");\n",
              "//# sourceURL=js_1eca0136c8"
            ]
          },
          "metadata": {}
        },
        {
          "output_type": "display_data",
          "data": {
            "text/plain": [
              "<IPython.core.display.Javascript object>"
            ],
            "application/javascript": [
              "window[\"25b5732c-9c70-11ef-9857-0242ac1c000c\"] = google.colab.output.setActiveOutputArea(window[\"25b5234a-9c70-11ef-9857-0242ac1c000c\"]);\n",
              "//# sourceURL=js_f38011abba"
            ]
          },
          "metadata": {}
        },
        {
          "output_type": "stream",
          "name": "stdout",
          "text": [
            "w= 640 h= 480\n"
          ]
        },
        {
          "output_type": "display_data",
          "data": {
            "text/plain": [
              "<IPython.core.display.Javascript object>"
            ],
            "application/javascript": [
              "window[\"25d01c9a-9c70-11ef-9857-0242ac1c000c\"] = google.colab.output.setActiveOutputArea(window[\"25b479fe-9c70-11ef-9857-0242ac1c000c\"]);\n",
              "//# sourceURL=js_f497764edc"
            ]
          },
          "metadata": {}
        },
        {
          "output_type": "display_data",
          "data": {
            "text/plain": [
              "<IPython.core.display.Javascript object>"
            ],
            "application/javascript": [
              "window[\"25d28728-9c70-11ef-9857-0242ac1c000c\"] = google.colab.output.getActiveOutputArea();\n",
              "//# sourceURL=js_e6e410da34"
            ]
          },
          "metadata": {}
        },
        {
          "output_type": "display_data",
          "data": {
            "text/plain": [
              "<IPython.core.display.Javascript object>"
            ],
            "application/javascript": [
              "window[\"25d2d4c6-9c70-11ef-9857-0242ac1c000c\"] = document.querySelector(\"#id100-1-0\");\n",
              "//# sourceURL=js_0a469a31f2"
            ]
          },
          "metadata": {}
        },
        {
          "output_type": "display_data",
          "data": {
            "text/plain": [
              "<IPython.core.display.Javascript object>"
            ],
            "application/javascript": [
              "window[\"25d32070-9c70-11ef-9857-0242ac1c000c\"] = google.colab.output.setActiveOutputArea(window[\"25d2d4c6-9c70-11ef-9857-0242ac1c000c\"]);\n",
              "//# sourceURL=js_bda35f5831"
            ]
          },
          "metadata": {}
        },
        {
          "output_type": "stream",
          "name": "stdout",
          "text": [
            "w= 640 h= 480\n"
          ]
        },
        {
          "output_type": "display_data",
          "data": {
            "text/plain": [
              "<IPython.core.display.Javascript object>"
            ],
            "application/javascript": [
              "window[\"25ee8090-9c70-11ef-9857-0242ac1c000c\"] = google.colab.output.setActiveOutputArea(window[\"25d28728-9c70-11ef-9857-0242ac1c000c\"]);\n",
              "//# sourceURL=js_afe9037e39"
            ]
          },
          "metadata": {}
        },
        {
          "output_type": "display_data",
          "data": {
            "text/plain": [
              "<IPython.core.display.Javascript object>"
            ],
            "application/javascript": [
              "window[\"25f151a8-9c70-11ef-9857-0242ac1c000c\"] = google.colab.output.getActiveOutputArea();\n",
              "//# sourceURL=js_e4bf931360"
            ]
          },
          "metadata": {}
        },
        {
          "output_type": "display_data",
          "data": {
            "text/plain": [
              "<IPython.core.display.Javascript object>"
            ],
            "application/javascript": [
              "window[\"25f1b6ca-9c70-11ef-9857-0242ac1c000c\"] = document.querySelector(\"#id100-1-1\");\n",
              "//# sourceURL=js_626eaf8f90"
            ]
          },
          "metadata": {}
        },
        {
          "output_type": "display_data",
          "data": {
            "text/plain": [
              "<IPython.core.display.Javascript object>"
            ],
            "application/javascript": [
              "window[\"25f2526a-9c70-11ef-9857-0242ac1c000c\"] = google.colab.output.setActiveOutputArea(window[\"25f1b6ca-9c70-11ef-9857-0242ac1c000c\"]);\n",
              "//# sourceURL=js_7c5166dcfd"
            ]
          },
          "metadata": {}
        },
        {
          "output_type": "stream",
          "name": "stdout",
          "text": [
            "w= 640 h= 480\n"
          ]
        },
        {
          "output_type": "display_data",
          "data": {
            "text/plain": [
              "<IPython.core.display.Javascript object>"
            ],
            "application/javascript": [
              "window[\"261784fe-9c70-11ef-9857-0242ac1c000c\"] = google.colab.output.setActiveOutputArea(window[\"25f151a8-9c70-11ef-9857-0242ac1c000c\"]);\n",
              "//# sourceURL=js_3deee52f7d"
            ]
          },
          "metadata": {}
        },
        {
          "output_type": "display_data",
          "data": {
            "text/plain": [
              "<IPython.core.display.HTML object>"
            ],
            "text/html": [
              "<style>\n",
              "       table#id102, #id102 > tbody > tr > th, #id102 > tbody > tr > td {\n",
              "         border: 1px solid lightgray;\n",
              "         border-collapse:collapse;\n",
              "         \n",
              "        }</style>"
            ]
          },
          "metadata": {}
        },
        {
          "output_type": "display_data",
          "data": {
            "text/plain": [
              "<IPython.core.display.HTML object>"
            ],
            "text/html": [
              "<table id=id102><tr><td id=id102-0-0></td><td id=id102-0-1></td></tr><tr><td id=id102-1-0></td><td id=id102-1-1></td></tr></table>"
            ]
          },
          "metadata": {}
        },
        {
          "output_type": "display_data",
          "data": {
            "text/plain": [
              "<IPython.core.display.Javascript object>"
            ],
            "application/javascript": [
              "window[\"261cf894-9c70-11ef-9857-0242ac1c000c\"] = google.colab.output.getActiveOutputArea();\n",
              "//# sourceURL=js_207596759b"
            ]
          },
          "metadata": {}
        },
        {
          "output_type": "display_data",
          "data": {
            "text/plain": [
              "<IPython.core.display.Javascript object>"
            ],
            "application/javascript": [
              "window[\"261df474-9c70-11ef-9857-0242ac1c000c\"] = document.querySelector(\"#id102-0-0\");\n",
              "//# sourceURL=js_252e21f1c6"
            ]
          },
          "metadata": {}
        },
        {
          "output_type": "display_data",
          "data": {
            "text/plain": [
              "<IPython.core.display.Javascript object>"
            ],
            "application/javascript": [
              "window[\"261e3812-9c70-11ef-9857-0242ac1c000c\"] = google.colab.output.setActiveOutputArea(window[\"261df474-9c70-11ef-9857-0242ac1c000c\"]);\n",
              "//# sourceURL=js_002267e4ec"
            ]
          },
          "metadata": {}
        },
        {
          "output_type": "stream",
          "name": "stdout",
          "text": [
            "w= 640 h= 480\n"
          ]
        },
        {
          "output_type": "display_data",
          "data": {
            "text/plain": [
              "<IPython.core.display.Javascript object>"
            ],
            "application/javascript": [
              "window[\"263a90d4-9c70-11ef-9857-0242ac1c000c\"] = google.colab.output.setActiveOutputArea(window[\"261cf894-9c70-11ef-9857-0242ac1c000c\"]);\n",
              "//# sourceURL=js_62f1591fc0"
            ]
          },
          "metadata": {}
        },
        {
          "output_type": "display_data",
          "data": {
            "text/plain": [
              "<IPython.core.display.Javascript object>"
            ],
            "application/javascript": [
              "window[\"263d2ca4-9c70-11ef-9857-0242ac1c000c\"] = google.colab.output.getActiveOutputArea();\n",
              "//# sourceURL=js_5924e5c5c9"
            ]
          },
          "metadata": {}
        },
        {
          "output_type": "display_data",
          "data": {
            "text/plain": [
              "<IPython.core.display.Javascript object>"
            ],
            "application/javascript": [
              "window[\"263d73ee-9c70-11ef-9857-0242ac1c000c\"] = document.querySelector(\"#id102-0-1\");\n",
              "//# sourceURL=js_7c134ced06"
            ]
          },
          "metadata": {}
        },
        {
          "output_type": "display_data",
          "data": {
            "text/plain": [
              "<IPython.core.display.Javascript object>"
            ],
            "application/javascript": [
              "window[\"263dc5ce-9c70-11ef-9857-0242ac1c000c\"] = google.colab.output.setActiveOutputArea(window[\"263d73ee-9c70-11ef-9857-0242ac1c000c\"]);\n",
              "//# sourceURL=js_d2374ac3ba"
            ]
          },
          "metadata": {}
        },
        {
          "output_type": "stream",
          "name": "stdout",
          "text": [
            "w= 640 h= 480\n"
          ]
        },
        {
          "output_type": "display_data",
          "data": {
            "text/plain": [
              "<IPython.core.display.Javascript object>"
            ],
            "application/javascript": [
              "window[\"2656e34c-9c70-11ef-9857-0242ac1c000c\"] = google.colab.output.setActiveOutputArea(window[\"263d2ca4-9c70-11ef-9857-0242ac1c000c\"]);\n",
              "//# sourceURL=js_fdef2b0752"
            ]
          },
          "metadata": {}
        },
        {
          "output_type": "display_data",
          "data": {
            "text/plain": [
              "<IPython.core.display.Javascript object>"
            ],
            "application/javascript": [
              "window[\"2659044c-9c70-11ef-9857-0242ac1c000c\"] = google.colab.output.getActiveOutputArea();\n",
              "//# sourceURL=js_54c1787888"
            ]
          },
          "metadata": {}
        },
        {
          "output_type": "display_data",
          "data": {
            "text/plain": [
              "<IPython.core.display.Javascript object>"
            ],
            "application/javascript": [
              "window[\"26595b40-9c70-11ef-9857-0242ac1c000c\"] = document.querySelector(\"#id102-1-0\");\n",
              "//# sourceURL=js_b46882e3f4"
            ]
          },
          "metadata": {}
        },
        {
          "output_type": "display_data",
          "data": {
            "text/plain": [
              "<IPython.core.display.Javascript object>"
            ],
            "application/javascript": [
              "window[\"2659bde2-9c70-11ef-9857-0242ac1c000c\"] = google.colab.output.setActiveOutputArea(window[\"26595b40-9c70-11ef-9857-0242ac1c000c\"]);\n",
              "//# sourceURL=js_88c633196d"
            ]
          },
          "metadata": {}
        },
        {
          "output_type": "stream",
          "name": "stdout",
          "text": [
            "w= 640 h= 480\n"
          ]
        },
        {
          "output_type": "display_data",
          "data": {
            "text/plain": [
              "<IPython.core.display.Javascript object>"
            ],
            "application/javascript": [
              "window[\"2672f0a0-9c70-11ef-9857-0242ac1c000c\"] = google.colab.output.setActiveOutputArea(window[\"2659044c-9c70-11ef-9857-0242ac1c000c\"]);\n",
              "//# sourceURL=js_7789f5a64d"
            ]
          },
          "metadata": {}
        },
        {
          "output_type": "display_data",
          "data": {
            "text/plain": [
              "<IPython.core.display.Javascript object>"
            ],
            "application/javascript": [
              "window[\"26757c44-9c70-11ef-9857-0242ac1c000c\"] = google.colab.output.getActiveOutputArea();\n",
              "//# sourceURL=js_67d2227f91"
            ]
          },
          "metadata": {}
        },
        {
          "output_type": "display_data",
          "data": {
            "text/plain": [
              "<IPython.core.display.Javascript object>"
            ],
            "application/javascript": [
              "window[\"2675bb00-9c70-11ef-9857-0242ac1c000c\"] = document.querySelector(\"#id102-1-1\");\n",
              "//# sourceURL=js_9056422150"
            ]
          },
          "metadata": {}
        },
        {
          "output_type": "display_data",
          "data": {
            "text/plain": [
              "<IPython.core.display.Javascript object>"
            ],
            "application/javascript": [
              "window[\"267603f8-9c70-11ef-9857-0242ac1c000c\"] = google.colab.output.setActiveOutputArea(window[\"2675bb00-9c70-11ef-9857-0242ac1c000c\"]);\n",
              "//# sourceURL=js_435de3469c"
            ]
          },
          "metadata": {}
        },
        {
          "output_type": "stream",
          "name": "stdout",
          "text": [
            "w= 640 h= 480\n"
          ]
        },
        {
          "output_type": "display_data",
          "data": {
            "text/plain": [
              "<IPython.core.display.Javascript object>"
            ],
            "application/javascript": [
              "window[\"26984026-9c70-11ef-9857-0242ac1c000c\"] = google.colab.output.setActiveOutputArea(window[\"26757c44-9c70-11ef-9857-0242ac1c000c\"]);\n",
              "//# sourceURL=js_212fb92b3d"
            ]
          },
          "metadata": {}
        },
        {
          "output_type": "display_data",
          "data": {
            "text/plain": [
              "<IPython.core.display.HTML object>"
            ],
            "text/html": [
              "<style>\n",
              "       table#id104, #id104 > tbody > tr > th, #id104 > tbody > tr > td {\n",
              "         border: 1px solid lightgray;\n",
              "         border-collapse:collapse;\n",
              "         \n",
              "        }</style>"
            ]
          },
          "metadata": {}
        },
        {
          "output_type": "display_data",
          "data": {
            "text/plain": [
              "<IPython.core.display.HTML object>"
            ],
            "text/html": [
              "<table id=id104><tr><td id=id104-0-0></td><td id=id104-0-1></td></tr><tr><td id=id104-1-0></td><td id=id104-1-1></td></tr></table>"
            ]
          },
          "metadata": {}
        },
        {
          "output_type": "display_data",
          "data": {
            "text/plain": [
              "<IPython.core.display.Javascript object>"
            ],
            "application/javascript": [
              "window[\"269c21aa-9c70-11ef-9857-0242ac1c000c\"] = google.colab.output.getActiveOutputArea();\n",
              "//# sourceURL=js_6f80e91f82"
            ]
          },
          "metadata": {}
        },
        {
          "output_type": "display_data",
          "data": {
            "text/plain": [
              "<IPython.core.display.Javascript object>"
            ],
            "application/javascript": [
              "window[\"269c6dc2-9c70-11ef-9857-0242ac1c000c\"] = document.querySelector(\"#id104-0-0\");\n",
              "//# sourceURL=js_e51735bcf7"
            ]
          },
          "metadata": {}
        },
        {
          "output_type": "display_data",
          "data": {
            "text/plain": [
              "<IPython.core.display.Javascript object>"
            ],
            "application/javascript": [
              "window[\"269cbd2c-9c70-11ef-9857-0242ac1c000c\"] = google.colab.output.setActiveOutputArea(window[\"269c6dc2-9c70-11ef-9857-0242ac1c000c\"]);\n",
              "//# sourceURL=js_ba626ce010"
            ]
          },
          "metadata": {}
        },
        {
          "output_type": "stream",
          "name": "stdout",
          "text": [
            "w= 640 h= 480\n"
          ]
        },
        {
          "output_type": "display_data",
          "data": {
            "text/plain": [
              "<IPython.core.display.Javascript object>"
            ],
            "application/javascript": [
              "window[\"26b9b10c-9c70-11ef-9857-0242ac1c000c\"] = google.colab.output.setActiveOutputArea(window[\"269c21aa-9c70-11ef-9857-0242ac1c000c\"]);\n",
              "//# sourceURL=js_3da1b37744"
            ]
          },
          "metadata": {}
        },
        {
          "output_type": "display_data",
          "data": {
            "text/plain": [
              "<IPython.core.display.Javascript object>"
            ],
            "application/javascript": [
              "window[\"26bc6618-9c70-11ef-9857-0242ac1c000c\"] = google.colab.output.getActiveOutputArea();\n",
              "//# sourceURL=js_33ce3de8ce"
            ]
          },
          "metadata": {}
        },
        {
          "output_type": "display_data",
          "data": {
            "text/plain": [
              "<IPython.core.display.Javascript object>"
            ],
            "application/javascript": [
              "window[\"26bcb636-9c70-11ef-9857-0242ac1c000c\"] = document.querySelector(\"#id104-0-1\");\n",
              "//# sourceURL=js_e1f22e0853"
            ]
          },
          "metadata": {}
        },
        {
          "output_type": "display_data",
          "data": {
            "text/plain": [
              "<IPython.core.display.Javascript object>"
            ],
            "application/javascript": [
              "window[\"26bd0b40-9c70-11ef-9857-0242ac1c000c\"] = google.colab.output.setActiveOutputArea(window[\"26bcb636-9c70-11ef-9857-0242ac1c000c\"]);\n",
              "//# sourceURL=js_e82c8f6eac"
            ]
          },
          "metadata": {}
        },
        {
          "output_type": "stream",
          "name": "stdout",
          "text": [
            "w= 640 h= 480\n"
          ]
        },
        {
          "output_type": "display_data",
          "data": {
            "text/plain": [
              "<IPython.core.display.Javascript object>"
            ],
            "application/javascript": [
              "window[\"26d85530-9c70-11ef-9857-0242ac1c000c\"] = google.colab.output.setActiveOutputArea(window[\"26bc6618-9c70-11ef-9857-0242ac1c000c\"]);\n",
              "//# sourceURL=js_4f9be01260"
            ]
          },
          "metadata": {}
        },
        {
          "output_type": "display_data",
          "data": {
            "text/plain": [
              "<IPython.core.display.Javascript object>"
            ],
            "application/javascript": [
              "window[\"26db0604-9c70-11ef-9857-0242ac1c000c\"] = google.colab.output.getActiveOutputArea();\n",
              "//# sourceURL=js_69a000dbc3"
            ]
          },
          "metadata": {}
        },
        {
          "output_type": "display_data",
          "data": {
            "text/plain": [
              "<IPython.core.display.Javascript object>"
            ],
            "application/javascript": [
              "window[\"26db981c-9c70-11ef-9857-0242ac1c000c\"] = document.querySelector(\"#id104-1-0\");\n",
              "//# sourceURL=js_3333b6c722"
            ]
          },
          "metadata": {}
        },
        {
          "output_type": "display_data",
          "data": {
            "text/plain": [
              "<IPython.core.display.Javascript object>"
            ],
            "application/javascript": [
              "window[\"26dbe68c-9c70-11ef-9857-0242ac1c000c\"] = google.colab.output.setActiveOutputArea(window[\"26db981c-9c70-11ef-9857-0242ac1c000c\"]);\n",
              "//# sourceURL=js_ba04cfeab2"
            ]
          },
          "metadata": {}
        },
        {
          "output_type": "stream",
          "name": "stdout",
          "text": [
            "w= 640 h= 480\n"
          ]
        },
        {
          "output_type": "display_data",
          "data": {
            "text/plain": [
              "<IPython.core.display.Javascript object>"
            ],
            "application/javascript": [
              "window[\"26f70354-9c70-11ef-9857-0242ac1c000c\"] = google.colab.output.setActiveOutputArea(window[\"26db0604-9c70-11ef-9857-0242ac1c000c\"]);\n",
              "//# sourceURL=js_38d0dfc90b"
            ]
          },
          "metadata": {}
        },
        {
          "output_type": "display_data",
          "data": {
            "text/plain": [
              "<IPython.core.display.Javascript object>"
            ],
            "application/javascript": [
              "window[\"26f9bf0e-9c70-11ef-9857-0242ac1c000c\"] = google.colab.output.getActiveOutputArea();\n",
              "//# sourceURL=js_9cb6b9f4c4"
            ]
          },
          "metadata": {}
        },
        {
          "output_type": "display_data",
          "data": {
            "text/plain": [
              "<IPython.core.display.Javascript object>"
            ],
            "application/javascript": [
              "window[\"26fa0c34-9c70-11ef-9857-0242ac1c000c\"] = document.querySelector(\"#id104-1-1\");\n",
              "//# sourceURL=js_f36752dbae"
            ]
          },
          "metadata": {}
        },
        {
          "output_type": "display_data",
          "data": {
            "text/plain": [
              "<IPython.core.display.Javascript object>"
            ],
            "application/javascript": [
              "window[\"26faa31a-9c70-11ef-9857-0242ac1c000c\"] = google.colab.output.setActiveOutputArea(window[\"26fa0c34-9c70-11ef-9857-0242ac1c000c\"]);\n",
              "//# sourceURL=js_9149af2334"
            ]
          },
          "metadata": {}
        },
        {
          "output_type": "stream",
          "name": "stdout",
          "text": [
            "w= 640 h= 480\n"
          ]
        },
        {
          "output_type": "display_data",
          "data": {
            "text/plain": [
              "<IPython.core.display.Javascript object>"
            ],
            "application/javascript": [
              "window[\"2716e5e8-9c70-11ef-9857-0242ac1c000c\"] = google.colab.output.setActiveOutputArea(window[\"26f9bf0e-9c70-11ef-9857-0242ac1c000c\"]);\n",
              "//# sourceURL=js_f4e40511a5"
            ]
          },
          "metadata": {}
        },
        {
          "output_type": "display_data",
          "data": {
            "text/plain": [
              "<IPython.core.display.HTML object>"
            ],
            "text/html": [
              "<style>\n",
              "       table#id106, #id106 > tbody > tr > th, #id106 > tbody > tr > td {\n",
              "         border: 1px solid lightgray;\n",
              "         border-collapse:collapse;\n",
              "         \n",
              "        }</style>"
            ]
          },
          "metadata": {}
        },
        {
          "output_type": "display_data",
          "data": {
            "text/plain": [
              "<IPython.core.display.HTML object>"
            ],
            "text/html": [
              "<table id=id106><tr><td id=id106-0-0></td><td id=id106-0-1></td></tr><tr><td id=id106-1-0></td><td id=id106-1-1></td></tr></table>"
            ]
          },
          "metadata": {}
        },
        {
          "output_type": "display_data",
          "data": {
            "text/plain": [
              "<IPython.core.display.Javascript object>"
            ],
            "application/javascript": [
              "window[\"271d7282-9c70-11ef-9857-0242ac1c000c\"] = google.colab.output.getActiveOutputArea();\n",
              "//# sourceURL=js_39fd47948d"
            ]
          },
          "metadata": {}
        },
        {
          "output_type": "display_data",
          "data": {
            "text/plain": [
              "<IPython.core.display.Javascript object>"
            ],
            "application/javascript": [
              "window[\"271e3bae-9c70-11ef-9857-0242ac1c000c\"] = document.querySelector(\"#id106-0-0\");\n",
              "//# sourceURL=js_fcb7e7adbe"
            ]
          },
          "metadata": {}
        },
        {
          "output_type": "display_data",
          "data": {
            "text/plain": [
              "<IPython.core.display.Javascript object>"
            ],
            "application/javascript": [
              "window[\"271e9a4a-9c70-11ef-9857-0242ac1c000c\"] = google.colab.output.setActiveOutputArea(window[\"271e3bae-9c70-11ef-9857-0242ac1c000c\"]);\n",
              "//# sourceURL=js_13b93a5362"
            ]
          },
          "metadata": {}
        },
        {
          "output_type": "stream",
          "name": "stdout",
          "text": [
            "w= 640 h= 480\n"
          ]
        },
        {
          "output_type": "display_data",
          "data": {
            "text/plain": [
              "<IPython.core.display.Javascript object>"
            ],
            "application/javascript": [
              "window[\"273b3588-9c70-11ef-9857-0242ac1c000c\"] = google.colab.output.setActiveOutputArea(window[\"271d7282-9c70-11ef-9857-0242ac1c000c\"]);\n",
              "//# sourceURL=js_7fa8fceb68"
            ]
          },
          "metadata": {}
        },
        {
          "output_type": "display_data",
          "data": {
            "text/plain": [
              "<IPython.core.display.Javascript object>"
            ],
            "application/javascript": [
              "window[\"273e0128-9c70-11ef-9857-0242ac1c000c\"] = google.colab.output.getActiveOutputArea();\n",
              "//# sourceURL=js_bdbea9e120"
            ]
          },
          "metadata": {}
        },
        {
          "output_type": "display_data",
          "data": {
            "text/plain": [
              "<IPython.core.display.Javascript object>"
            ],
            "application/javascript": [
              "window[\"273e7b76-9c70-11ef-9857-0242ac1c000c\"] = document.querySelector(\"#id106-0-1\");\n",
              "//# sourceURL=js_42de147b5c"
            ]
          },
          "metadata": {}
        },
        {
          "output_type": "display_data",
          "data": {
            "text/plain": [
              "<IPython.core.display.Javascript object>"
            ],
            "application/javascript": [
              "window[\"273ee48a-9c70-11ef-9857-0242ac1c000c\"] = google.colab.output.setActiveOutputArea(window[\"273e7b76-9c70-11ef-9857-0242ac1c000c\"]);\n",
              "//# sourceURL=js_b779d17c2f"
            ]
          },
          "metadata": {}
        },
        {
          "output_type": "stream",
          "name": "stdout",
          "text": [
            "w= 640 h= 480\n"
          ]
        },
        {
          "output_type": "display_data",
          "data": {
            "text/plain": [
              "<IPython.core.display.Javascript object>"
            ],
            "application/javascript": [
              "window[\"275b055c-9c70-11ef-9857-0242ac1c000c\"] = google.colab.output.setActiveOutputArea(window[\"273e0128-9c70-11ef-9857-0242ac1c000c\"]);\n",
              "//# sourceURL=js_ca362063ed"
            ]
          },
          "metadata": {}
        },
        {
          "output_type": "display_data",
          "data": {
            "text/plain": [
              "<IPython.core.display.Javascript object>"
            ],
            "application/javascript": [
              "window[\"275d8eb2-9c70-11ef-9857-0242ac1c000c\"] = google.colab.output.getActiveOutputArea();\n",
              "//# sourceURL=js_6f5b15a6af"
            ]
          },
          "metadata": {}
        },
        {
          "output_type": "display_data",
          "data": {
            "text/plain": [
              "<IPython.core.display.Javascript object>"
            ],
            "application/javascript": [
              "window[\"275e44e2-9c70-11ef-9857-0242ac1c000c\"] = document.querySelector(\"#id106-1-0\");\n",
              "//# sourceURL=js_84bae1b3cb"
            ]
          },
          "metadata": {}
        },
        {
          "output_type": "display_data",
          "data": {
            "text/plain": [
              "<IPython.core.display.Javascript object>"
            ],
            "application/javascript": [
              "window[\"275eceb2-9c70-11ef-9857-0242ac1c000c\"] = google.colab.output.setActiveOutputArea(window[\"275e44e2-9c70-11ef-9857-0242ac1c000c\"]);\n",
              "//# sourceURL=js_db34892036"
            ]
          },
          "metadata": {}
        },
        {
          "output_type": "stream",
          "name": "stdout",
          "text": [
            "w= 640 h= 480\n"
          ]
        },
        {
          "output_type": "display_data",
          "data": {
            "text/plain": [
              "<IPython.core.display.Javascript object>"
            ],
            "application/javascript": [
              "window[\"27775f40-9c70-11ef-9857-0242ac1c000c\"] = google.colab.output.setActiveOutputArea(window[\"275d8eb2-9c70-11ef-9857-0242ac1c000c\"]);\n",
              "//# sourceURL=js_40002b7208"
            ]
          },
          "metadata": {}
        },
        {
          "output_type": "display_data",
          "data": {
            "text/plain": [
              "<IPython.core.display.Javascript object>"
            ],
            "application/javascript": [
              "window[\"2779dbda-9c70-11ef-9857-0242ac1c000c\"] = google.colab.output.getActiveOutputArea();\n",
              "//# sourceURL=js_d898d32a94"
            ]
          },
          "metadata": {}
        },
        {
          "output_type": "display_data",
          "data": {
            "text/plain": [
              "<IPython.core.display.Javascript object>"
            ],
            "application/javascript": [
              "window[\"277a220c-9c70-11ef-9857-0242ac1c000c\"] = document.querySelector(\"#id106-1-1\");\n",
              "//# sourceURL=js_699902ead0"
            ]
          },
          "metadata": {}
        },
        {
          "output_type": "display_data",
          "data": {
            "text/plain": [
              "<IPython.core.display.Javascript object>"
            ],
            "application/javascript": [
              "window[\"277a9976-9c70-11ef-9857-0242ac1c000c\"] = google.colab.output.setActiveOutputArea(window[\"277a220c-9c70-11ef-9857-0242ac1c000c\"]);\n",
              "//# sourceURL=js_a53a161483"
            ]
          },
          "metadata": {}
        },
        {
          "output_type": "stream",
          "name": "stdout",
          "text": [
            "w= 640 h= 480\n"
          ]
        },
        {
          "output_type": "display_data",
          "data": {
            "text/plain": [
              "<IPython.core.display.Javascript object>"
            ],
            "application/javascript": [
              "window[\"27931974-9c70-11ef-9857-0242ac1c000c\"] = google.colab.output.setActiveOutputArea(window[\"2779dbda-9c70-11ef-9857-0242ac1c000c\"]);\n",
              "//# sourceURL=js_d9075c272b"
            ]
          },
          "metadata": {}
        },
        {
          "output_type": "display_data",
          "data": {
            "text/plain": [
              "<IPython.core.display.HTML object>"
            ],
            "text/html": [
              "<style>\n",
              "       table#id108, #id108 > tbody > tr > th, #id108 > tbody > tr > td {\n",
              "         border: 1px solid lightgray;\n",
              "         border-collapse:collapse;\n",
              "         \n",
              "        }</style>"
            ]
          },
          "metadata": {}
        },
        {
          "output_type": "display_data",
          "data": {
            "text/plain": [
              "<IPython.core.display.HTML object>"
            ],
            "text/html": [
              "<table id=id108><tr><td id=id108-0-0></td><td id=id108-0-1></td></tr><tr><td id=id108-1-0></td><td id=id108-1-1></td></tr></table>"
            ]
          },
          "metadata": {}
        },
        {
          "output_type": "display_data",
          "data": {
            "text/plain": [
              "<IPython.core.display.Javascript object>"
            ],
            "application/javascript": [
              "window[\"2796fa4e-9c70-11ef-9857-0242ac1c000c\"] = google.colab.output.getActiveOutputArea();\n",
              "//# sourceURL=js_2d22ed7864"
            ]
          },
          "metadata": {}
        },
        {
          "output_type": "display_data",
          "data": {
            "text/plain": [
              "<IPython.core.display.Javascript object>"
            ],
            "application/javascript": [
              "window[\"27974648-9c70-11ef-9857-0242ac1c000c\"] = document.querySelector(\"#id108-0-0\");\n",
              "//# sourceURL=js_7050261cdd"
            ]
          },
          "metadata": {}
        },
        {
          "output_type": "display_data",
          "data": {
            "text/plain": [
              "<IPython.core.display.Javascript object>"
            ],
            "application/javascript": [
              "window[\"279792ec-9c70-11ef-9857-0242ac1c000c\"] = google.colab.output.setActiveOutputArea(window[\"27974648-9c70-11ef-9857-0242ac1c000c\"]);\n",
              "//# sourceURL=js_4754b17f0a"
            ]
          },
          "metadata": {}
        },
        {
          "output_type": "stream",
          "name": "stdout",
          "text": [
            "w= 640 h= 480\n"
          ]
        },
        {
          "output_type": "display_data",
          "data": {
            "text/plain": [
              "<IPython.core.display.Javascript object>"
            ],
            "application/javascript": [
              "window[\"27b24efc-9c70-11ef-9857-0242ac1c000c\"] = google.colab.output.setActiveOutputArea(window[\"2796fa4e-9c70-11ef-9857-0242ac1c000c\"]);\n",
              "//# sourceURL=js_b6cc327835"
            ]
          },
          "metadata": {}
        },
        {
          "output_type": "display_data",
          "data": {
            "text/plain": [
              "<IPython.core.display.Javascript object>"
            ],
            "application/javascript": [
              "window[\"27b4e04a-9c70-11ef-9857-0242ac1c000c\"] = google.colab.output.getActiveOutputArea();\n",
              "//# sourceURL=js_20fada19d1"
            ]
          },
          "metadata": {}
        },
        {
          "output_type": "display_data",
          "data": {
            "text/plain": [
              "<IPython.core.display.Javascript object>"
            ],
            "application/javascript": [
              "window[\"27b537ac-9c70-11ef-9857-0242ac1c000c\"] = document.querySelector(\"#id108-0-1\");\n",
              "//# sourceURL=js_b06c147697"
            ]
          },
          "metadata": {}
        },
        {
          "output_type": "display_data",
          "data": {
            "text/plain": [
              "<IPython.core.display.Javascript object>"
            ],
            "application/javascript": [
              "window[\"27b59efe-9c70-11ef-9857-0242ac1c000c\"] = google.colab.output.setActiveOutputArea(window[\"27b537ac-9c70-11ef-9857-0242ac1c000c\"]);\n",
              "//# sourceURL=js_209d333b69"
            ]
          },
          "metadata": {}
        },
        {
          "output_type": "stream",
          "name": "stdout",
          "text": [
            "w= 640 h= 480\n"
          ]
        },
        {
          "output_type": "display_data",
          "data": {
            "text/plain": [
              "<IPython.core.display.Javascript object>"
            ],
            "application/javascript": [
              "window[\"27d3c12c-9c70-11ef-9857-0242ac1c000c\"] = google.colab.output.setActiveOutputArea(window[\"27b4e04a-9c70-11ef-9857-0242ac1c000c\"]);\n",
              "//# sourceURL=js_8a7bb27af9"
            ]
          },
          "metadata": {}
        },
        {
          "output_type": "display_data",
          "data": {
            "text/plain": [
              "<IPython.core.display.Javascript object>"
            ],
            "application/javascript": [
              "window[\"27d7491e-9c70-11ef-9857-0242ac1c000c\"] = google.colab.output.getActiveOutputArea();\n",
              "//# sourceURL=js_8b1edd40f9"
            ]
          },
          "metadata": {}
        },
        {
          "output_type": "display_data",
          "data": {
            "text/plain": [
              "<IPython.core.display.Javascript object>"
            ],
            "application/javascript": [
              "window[\"27d78f14-9c70-11ef-9857-0242ac1c000c\"] = document.querySelector(\"#id108-1-0\");\n",
              "//# sourceURL=js_fcb777ab69"
            ]
          },
          "metadata": {}
        },
        {
          "output_type": "display_data",
          "data": {
            "text/plain": [
              "<IPython.core.display.Javascript object>"
            ],
            "application/javascript": [
              "window[\"27d8085e-9c70-11ef-9857-0242ac1c000c\"] = google.colab.output.setActiveOutputArea(window[\"27d78f14-9c70-11ef-9857-0242ac1c000c\"]);\n",
              "//# sourceURL=js_8e27cf5348"
            ]
          },
          "metadata": {}
        },
        {
          "output_type": "stream",
          "name": "stdout",
          "text": [
            "w= 640 h= 480\n"
          ]
        },
        {
          "output_type": "display_data",
          "data": {
            "text/plain": [
              "<IPython.core.display.Javascript object>"
            ],
            "application/javascript": [
              "window[\"27f4e780-9c70-11ef-9857-0242ac1c000c\"] = google.colab.output.setActiveOutputArea(window[\"27d7491e-9c70-11ef-9857-0242ac1c000c\"]);\n",
              "//# sourceURL=js_0ec30ecf3f"
            ]
          },
          "metadata": {}
        },
        {
          "output_type": "display_data",
          "data": {
            "text/plain": [
              "<IPython.core.display.Javascript object>"
            ],
            "application/javascript": [
              "window[\"27f7cc7a-9c70-11ef-9857-0242ac1c000c\"] = google.colab.output.getActiveOutputArea();\n",
              "//# sourceURL=js_b62fa0199c"
            ]
          },
          "metadata": {}
        },
        {
          "output_type": "display_data",
          "data": {
            "text/plain": [
              "<IPython.core.display.Javascript object>"
            ],
            "application/javascript": [
              "window[\"27f83d0e-9c70-11ef-9857-0242ac1c000c\"] = document.querySelector(\"#id108-1-1\");\n",
              "//# sourceURL=js_4fdfedb5f1"
            ]
          },
          "metadata": {}
        },
        {
          "output_type": "display_data",
          "data": {
            "text/plain": [
              "<IPython.core.display.Javascript object>"
            ],
            "application/javascript": [
              "window[\"27f923b8-9c70-11ef-9857-0242ac1c000c\"] = google.colab.output.setActiveOutputArea(window[\"27f83d0e-9c70-11ef-9857-0242ac1c000c\"]);\n",
              "//# sourceURL=js_067ae1f004"
            ]
          },
          "metadata": {}
        },
        {
          "output_type": "stream",
          "name": "stdout",
          "text": [
            "w= 640 h= 480\n"
          ]
        },
        {
          "output_type": "display_data",
          "data": {
            "text/plain": [
              "<IPython.core.display.Javascript object>"
            ],
            "application/javascript": [
              "window[\"2812c44e-9c70-11ef-9857-0242ac1c000c\"] = google.colab.output.setActiveOutputArea(window[\"27f7cc7a-9c70-11ef-9857-0242ac1c000c\"]);\n",
              "//# sourceURL=js_d275ea9a2b"
            ]
          },
          "metadata": {}
        },
        {
          "output_type": "display_data",
          "data": {
            "text/plain": [
              "<IPython.core.display.HTML object>"
            ],
            "text/html": [
              "<style>\n",
              "       table#id110, #id110 > tbody > tr > th, #id110 > tbody > tr > td {\n",
              "         border: 1px solid lightgray;\n",
              "         border-collapse:collapse;\n",
              "         \n",
              "        }</style>"
            ]
          },
          "metadata": {}
        },
        {
          "output_type": "display_data",
          "data": {
            "text/plain": [
              "<IPython.core.display.HTML object>"
            ],
            "text/html": [
              "<table id=id110><tr><td id=id110-0-0></td><td id=id110-0-1></td></tr><tr><td id=id110-1-0></td><td id=id110-1-1></td></tr></table>"
            ]
          },
          "metadata": {}
        },
        {
          "output_type": "display_data",
          "data": {
            "text/plain": [
              "<IPython.core.display.Javascript object>"
            ],
            "application/javascript": [
              "window[\"281737ae-9c70-11ef-9857-0242ac1c000c\"] = google.colab.output.getActiveOutputArea();\n",
              "//# sourceURL=js_3d7a2fb77f"
            ]
          },
          "metadata": {}
        },
        {
          "output_type": "display_data",
          "data": {
            "text/plain": [
              "<IPython.core.display.Javascript object>"
            ],
            "application/javascript": [
              "window[\"281795dc-9c70-11ef-9857-0242ac1c000c\"] = document.querySelector(\"#id110-0-0\");\n",
              "//# sourceURL=js_433a9cd80a"
            ]
          },
          "metadata": {}
        },
        {
          "output_type": "display_data",
          "data": {
            "text/plain": [
              "<IPython.core.display.Javascript object>"
            ],
            "application/javascript": [
              "window[\"2817fb6c-9c70-11ef-9857-0242ac1c000c\"] = google.colab.output.setActiveOutputArea(window[\"281795dc-9c70-11ef-9857-0242ac1c000c\"]);\n",
              "//# sourceURL=js_d8efd257c5"
            ]
          },
          "metadata": {}
        },
        {
          "output_type": "stream",
          "name": "stdout",
          "text": [
            "w= 640 h= 480\n"
          ]
        },
        {
          "output_type": "display_data",
          "data": {
            "text/plain": [
              "<IPython.core.display.Javascript object>"
            ],
            "application/javascript": [
              "window[\"2831130e-9c70-11ef-9857-0242ac1c000c\"] = google.colab.output.setActiveOutputArea(window[\"281737ae-9c70-11ef-9857-0242ac1c000c\"]);\n",
              "//# sourceURL=js_477c60c284"
            ]
          },
          "metadata": {}
        },
        {
          "output_type": "display_data",
          "data": {
            "text/plain": [
              "<IPython.core.display.Javascript object>"
            ],
            "application/javascript": [
              "window[\"28333bb6-9c70-11ef-9857-0242ac1c000c\"] = google.colab.output.getActiveOutputArea();\n",
              "//# sourceURL=js_72a851660a"
            ]
          },
          "metadata": {}
        },
        {
          "output_type": "display_data",
          "data": {
            "text/plain": [
              "<IPython.core.display.Javascript object>"
            ],
            "application/javascript": [
              "window[\"283381d4-9c70-11ef-9857-0242ac1c000c\"] = document.querySelector(\"#id110-0-1\");\n",
              "//# sourceURL=js_cd37932912"
            ]
          },
          "metadata": {}
        },
        {
          "output_type": "display_data",
          "data": {
            "text/plain": [
              "<IPython.core.display.Javascript object>"
            ],
            "application/javascript": [
              "window[\"2833f3d0-9c70-11ef-9857-0242ac1c000c\"] = google.colab.output.setActiveOutputArea(window[\"283381d4-9c70-11ef-9857-0242ac1c000c\"]);\n",
              "//# sourceURL=js_712418d1e8"
            ]
          },
          "metadata": {}
        },
        {
          "output_type": "stream",
          "name": "stdout",
          "text": [
            "w= 640 h= 480\n"
          ]
        },
        {
          "output_type": "display_data",
          "data": {
            "text/plain": [
              "<IPython.core.display.Javascript object>"
            ],
            "application/javascript": [
              "window[\"2850279e-9c70-11ef-9857-0242ac1c000c\"] = google.colab.output.setActiveOutputArea(window[\"28333bb6-9c70-11ef-9857-0242ac1c000c\"]);\n",
              "//# sourceURL=js_3a61c41a81"
            ]
          },
          "metadata": {}
        },
        {
          "output_type": "display_data",
          "data": {
            "text/plain": [
              "<IPython.core.display.Javascript object>"
            ],
            "application/javascript": [
              "window[\"28530342-9c70-11ef-9857-0242ac1c000c\"] = google.colab.output.getActiveOutputArea();\n",
              "//# sourceURL=js_782de0f942"
            ]
          },
          "metadata": {}
        },
        {
          "output_type": "display_data",
          "data": {
            "text/plain": [
              "<IPython.core.display.Javascript object>"
            ],
            "application/javascript": [
              "window[\"28534988-9c70-11ef-9857-0242ac1c000c\"] = document.querySelector(\"#id110-1-0\");\n",
              "//# sourceURL=js_ab9d0f8669"
            ]
          },
          "metadata": {}
        },
        {
          "output_type": "display_data",
          "data": {
            "text/plain": [
              "<IPython.core.display.Javascript object>"
            ],
            "application/javascript": [
              "window[\"2853d966-9c70-11ef-9857-0242ac1c000c\"] = google.colab.output.setActiveOutputArea(window[\"28534988-9c70-11ef-9857-0242ac1c000c\"]);\n",
              "//# sourceURL=js_3d78d29545"
            ]
          },
          "metadata": {}
        },
        {
          "output_type": "stream",
          "name": "stdout",
          "text": [
            "w= 640 h= 480\n"
          ]
        },
        {
          "output_type": "display_data",
          "data": {
            "text/plain": [
              "<IPython.core.display.Javascript object>"
            ],
            "application/javascript": [
              "window[\"2870ce54-9c70-11ef-9857-0242ac1c000c\"] = google.colab.output.setActiveOutputArea(window[\"28530342-9c70-11ef-9857-0242ac1c000c\"]);\n",
              "//# sourceURL=js_9cda1ae082"
            ]
          },
          "metadata": {}
        },
        {
          "output_type": "display_data",
          "data": {
            "text/plain": [
              "<IPython.core.display.Javascript object>"
            ],
            "application/javascript": [
              "window[\"28739f94-9c70-11ef-9857-0242ac1c000c\"] = google.colab.output.getActiveOutputArea();\n",
              "//# sourceURL=js_50486a59d3"
            ]
          },
          "metadata": {}
        },
        {
          "output_type": "display_data",
          "data": {
            "text/plain": [
              "<IPython.core.display.Javascript object>"
            ],
            "application/javascript": [
              "window[\"2874273e-9c70-11ef-9857-0242ac1c000c\"] = document.querySelector(\"#id110-1-1\");\n",
              "//# sourceURL=js_0d90e8e13e"
            ]
          },
          "metadata": {}
        },
        {
          "output_type": "display_data",
          "data": {
            "text/plain": [
              "<IPython.core.display.Javascript object>"
            ],
            "application/javascript": [
              "window[\"2874bd52-9c70-11ef-9857-0242ac1c000c\"] = google.colab.output.setActiveOutputArea(window[\"2874273e-9c70-11ef-9857-0242ac1c000c\"]);\n",
              "//# sourceURL=js_e63316cdcd"
            ]
          },
          "metadata": {}
        },
        {
          "output_type": "stream",
          "name": "stdout",
          "text": [
            "w= 640 h= 480\n"
          ]
        },
        {
          "output_type": "display_data",
          "data": {
            "text/plain": [
              "<IPython.core.display.Javascript object>"
            ],
            "application/javascript": [
              "window[\"288dc536-9c70-11ef-9857-0242ac1c000c\"] = google.colab.output.setActiveOutputArea(window[\"28739f94-9c70-11ef-9857-0242ac1c000c\"]);\n",
              "//# sourceURL=js_591e40ee7c"
            ]
          },
          "metadata": {}
        },
        {
          "output_type": "display_data",
          "data": {
            "text/plain": [
              "<IPython.core.display.HTML object>"
            ],
            "text/html": [
              "<style>\n",
              "       table#id112, #id112 > tbody > tr > th, #id112 > tbody > tr > td {\n",
              "         border: 1px solid lightgray;\n",
              "         border-collapse:collapse;\n",
              "         \n",
              "        }</style>"
            ]
          },
          "metadata": {}
        },
        {
          "output_type": "display_data",
          "data": {
            "text/plain": [
              "<IPython.core.display.HTML object>"
            ],
            "text/html": [
              "<table id=id112><tr><td id=id112-0-0></td><td id=id112-0-1></td></tr><tr><td id=id112-1-0></td><td id=id112-1-1></td></tr></table>"
            ]
          },
          "metadata": {}
        },
        {
          "output_type": "display_data",
          "data": {
            "text/plain": [
              "<IPython.core.display.Javascript object>"
            ],
            "application/javascript": [
              "window[\"2891d9fa-9c70-11ef-9857-0242ac1c000c\"] = google.colab.output.getActiveOutputArea();\n",
              "//# sourceURL=js_7d4841fe29"
            ]
          },
          "metadata": {}
        },
        {
          "output_type": "display_data",
          "data": {
            "text/plain": [
              "<IPython.core.display.Javascript object>"
            ],
            "application/javascript": [
              "window[\"2892167c-9c70-11ef-9857-0242ac1c000c\"] = document.querySelector(\"#id112-0-0\");\n",
              "//# sourceURL=js_377e6da086"
            ]
          },
          "metadata": {}
        },
        {
          "output_type": "display_data",
          "data": {
            "text/plain": [
              "<IPython.core.display.Javascript object>"
            ],
            "application/javascript": [
              "window[\"2892536c-9c70-11ef-9857-0242ac1c000c\"] = google.colab.output.setActiveOutputArea(window[\"2892167c-9c70-11ef-9857-0242ac1c000c\"]);\n",
              "//# sourceURL=js_32d59c82d4"
            ]
          },
          "metadata": {}
        },
        {
          "output_type": "stream",
          "name": "stdout",
          "text": [
            "w= 640 h= 480\n"
          ]
        },
        {
          "output_type": "display_data",
          "data": {
            "text/plain": [
              "<IPython.core.display.Javascript object>"
            ],
            "application/javascript": [
              "window[\"28aeb69c-9c70-11ef-9857-0242ac1c000c\"] = google.colab.output.setActiveOutputArea(window[\"2891d9fa-9c70-11ef-9857-0242ac1c000c\"]);\n",
              "//# sourceURL=js_e1c55e26cd"
            ]
          },
          "metadata": {}
        },
        {
          "output_type": "display_data",
          "data": {
            "text/plain": [
              "<IPython.core.display.Javascript object>"
            ],
            "application/javascript": [
              "window[\"28b1a2e4-9c70-11ef-9857-0242ac1c000c\"] = google.colab.output.getActiveOutputArea();\n",
              "//# sourceURL=js_6330e463b9"
            ]
          },
          "metadata": {}
        },
        {
          "output_type": "display_data",
          "data": {
            "text/plain": [
              "<IPython.core.display.Javascript object>"
            ],
            "application/javascript": [
              "window[\"28b1edc6-9c70-11ef-9857-0242ac1c000c\"] = document.querySelector(\"#id112-0-1\");\n",
              "//# sourceURL=js_be675e4593"
            ]
          },
          "metadata": {}
        },
        {
          "output_type": "display_data",
          "data": {
            "text/plain": [
              "<IPython.core.display.Javascript object>"
            ],
            "application/javascript": [
              "window[\"28b2732c-9c70-11ef-9857-0242ac1c000c\"] = google.colab.output.setActiveOutputArea(window[\"28b1edc6-9c70-11ef-9857-0242ac1c000c\"]);\n",
              "//# sourceURL=js_27dae50fd5"
            ]
          },
          "metadata": {}
        },
        {
          "output_type": "stream",
          "name": "stdout",
          "text": [
            "w= 640 h= 480\n"
          ]
        },
        {
          "output_type": "display_data",
          "data": {
            "text/plain": [
              "<IPython.core.display.Javascript object>"
            ],
            "application/javascript": [
              "window[\"28cd1948-9c70-11ef-9857-0242ac1c000c\"] = google.colab.output.setActiveOutputArea(window[\"28b1a2e4-9c70-11ef-9857-0242ac1c000c\"]);\n",
              "//# sourceURL=js_3306236f1e"
            ]
          },
          "metadata": {}
        },
        {
          "output_type": "display_data",
          "data": {
            "text/plain": [
              "<IPython.core.display.Javascript object>"
            ],
            "application/javascript": [
              "window[\"28d04c44-9c70-11ef-9857-0242ac1c000c\"] = google.colab.output.getActiveOutputArea();\n",
              "//# sourceURL=js_533aa9506b"
            ]
          },
          "metadata": {}
        },
        {
          "output_type": "display_data",
          "data": {
            "text/plain": [
              "<IPython.core.display.Javascript object>"
            ],
            "application/javascript": [
              "window[\"28d0e8fc-9c70-11ef-9857-0242ac1c000c\"] = document.querySelector(\"#id112-1-0\");\n",
              "//# sourceURL=js_02482ee4da"
            ]
          },
          "metadata": {}
        },
        {
          "output_type": "display_data",
          "data": {
            "text/plain": [
              "<IPython.core.display.Javascript object>"
            ],
            "application/javascript": [
              "window[\"28d16296-9c70-11ef-9857-0242ac1c000c\"] = google.colab.output.setActiveOutputArea(window[\"28d0e8fc-9c70-11ef-9857-0242ac1c000c\"]);\n",
              "//# sourceURL=js_f02f93d55f"
            ]
          },
          "metadata": {}
        },
        {
          "output_type": "stream",
          "name": "stdout",
          "text": [
            "w= 640 h= 480\n"
          ]
        },
        {
          "output_type": "display_data",
          "data": {
            "text/plain": [
              "<IPython.core.display.Javascript object>"
            ],
            "application/javascript": [
              "window[\"28ed9e52-9c70-11ef-9857-0242ac1c000c\"] = google.colab.output.setActiveOutputArea(window[\"28d04c44-9c70-11ef-9857-0242ac1c000c\"]);\n",
              "//# sourceURL=js_41ac874088"
            ]
          },
          "metadata": {}
        },
        {
          "output_type": "display_data",
          "data": {
            "text/plain": [
              "<IPython.core.display.Javascript object>"
            ],
            "application/javascript": [
              "window[\"28f11438-9c70-11ef-9857-0242ac1c000c\"] = google.colab.output.getActiveOutputArea();\n",
              "//# sourceURL=js_cbd399c6cc"
            ]
          },
          "metadata": {}
        },
        {
          "output_type": "display_data",
          "data": {
            "text/plain": [
              "<IPython.core.display.Javascript object>"
            ],
            "application/javascript": [
              "window[\"28f1afc4-9c70-11ef-9857-0242ac1c000c\"] = document.querySelector(\"#id112-1-1\");\n",
              "//# sourceURL=js_943bf6bef8"
            ]
          },
          "metadata": {}
        },
        {
          "output_type": "display_data",
          "data": {
            "text/plain": [
              "<IPython.core.display.Javascript object>"
            ],
            "application/javascript": [
              "window[\"28f20460-9c70-11ef-9857-0242ac1c000c\"] = google.colab.output.setActiveOutputArea(window[\"28f1afc4-9c70-11ef-9857-0242ac1c000c\"]);\n",
              "//# sourceURL=js_9a1f9184d1"
            ]
          },
          "metadata": {}
        },
        {
          "output_type": "stream",
          "name": "stdout",
          "text": [
            "w= 640 h= 480\n"
          ]
        },
        {
          "output_type": "display_data",
          "data": {
            "text/plain": [
              "<IPython.core.display.Javascript object>"
            ],
            "application/javascript": [
              "window[\"2942a974-9c70-11ef-9857-0242ac1c000c\"] = google.colab.output.setActiveOutputArea(window[\"28f11438-9c70-11ef-9857-0242ac1c000c\"]);\n",
              "//# sourceURL=js_fed9bdb38a"
            ]
          },
          "metadata": {}
        },
        {
          "output_type": "display_data",
          "data": {
            "text/plain": [
              "<IPython.core.display.HTML object>"
            ],
            "text/html": [
              "<style>\n",
              "       table#id114, #id114 > tbody > tr > th, #id114 > tbody > tr > td {\n",
              "         border: 1px solid lightgray;\n",
              "         border-collapse:collapse;\n",
              "         \n",
              "        }</style>"
            ]
          },
          "metadata": {}
        },
        {
          "output_type": "display_data",
          "data": {
            "text/plain": [
              "<IPython.core.display.HTML object>"
            ],
            "text/html": [
              "<table id=id114><tr><td id=id114-0-0></td><td id=id114-0-1></td></tr><tr><td id=id114-1-0></td><td id=id114-1-1></td></tr></table>"
            ]
          },
          "metadata": {}
        },
        {
          "output_type": "display_data",
          "data": {
            "text/plain": [
              "<IPython.core.display.Javascript object>"
            ],
            "application/javascript": [
              "window[\"2946b91a-9c70-11ef-9857-0242ac1c000c\"] = google.colab.output.getActiveOutputArea();\n",
              "//# sourceURL=js_0cbfaada99"
            ]
          },
          "metadata": {}
        },
        {
          "output_type": "display_data",
          "data": {
            "text/plain": [
              "<IPython.core.display.Javascript object>"
            ],
            "application/javascript": [
              "window[\"2946fccc-9c70-11ef-9857-0242ac1c000c\"] = document.querySelector(\"#id114-0-0\");\n",
              "//# sourceURL=js_0f59100205"
            ]
          },
          "metadata": {}
        },
        {
          "output_type": "display_data",
          "data": {
            "text/plain": [
              "<IPython.core.display.Javascript object>"
            ],
            "application/javascript": [
              "window[\"294740c4-9c70-11ef-9857-0242ac1c000c\"] = google.colab.output.setActiveOutputArea(window[\"2946fccc-9c70-11ef-9857-0242ac1c000c\"]);\n",
              "//# sourceURL=js_43b6141043"
            ]
          },
          "metadata": {}
        },
        {
          "output_type": "stream",
          "name": "stdout",
          "text": [
            "w= 640 h= 480\n"
          ]
        },
        {
          "output_type": "display_data",
          "data": {
            "text/plain": [
              "<IPython.core.display.Javascript object>"
            ],
            "application/javascript": [
              "window[\"295fd738-9c70-11ef-9857-0242ac1c000c\"] = google.colab.output.setActiveOutputArea(window[\"2946b91a-9c70-11ef-9857-0242ac1c000c\"]);\n",
              "//# sourceURL=js_c423f2016a"
            ]
          },
          "metadata": {}
        },
        {
          "output_type": "display_data",
          "data": {
            "text/plain": [
              "<IPython.core.display.Javascript object>"
            ],
            "application/javascript": [
              "window[\"2961ebae-9c70-11ef-9857-0242ac1c000c\"] = google.colab.output.getActiveOutputArea();\n",
              "//# sourceURL=js_1e528d2e50"
            ]
          },
          "metadata": {}
        },
        {
          "output_type": "display_data",
          "data": {
            "text/plain": [
              "<IPython.core.display.Javascript object>"
            ],
            "application/javascript": [
              "window[\"296231f4-9c70-11ef-9857-0242ac1c000c\"] = document.querySelector(\"#id114-0-1\");\n",
              "//# sourceURL=js_02ec2f45a2"
            ]
          },
          "metadata": {}
        },
        {
          "output_type": "display_data",
          "data": {
            "text/plain": [
              "<IPython.core.display.Javascript object>"
            ],
            "application/javascript": [
              "window[\"29629e32-9c70-11ef-9857-0242ac1c000c\"] = google.colab.output.setActiveOutputArea(window[\"296231f4-9c70-11ef-9857-0242ac1c000c\"]);\n",
              "//# sourceURL=js_a1176c3ddb"
            ]
          },
          "metadata": {}
        },
        {
          "output_type": "stream",
          "name": "stdout",
          "text": [
            "w= 640 h= 480\n"
          ]
        },
        {
          "output_type": "display_data",
          "data": {
            "text/plain": [
              "<IPython.core.display.Javascript object>"
            ],
            "application/javascript": [
              "window[\"297d26f8-9c70-11ef-9857-0242ac1c000c\"] = google.colab.output.setActiveOutputArea(window[\"2961ebae-9c70-11ef-9857-0242ac1c000c\"]);\n",
              "//# sourceURL=js_27db367c31"
            ]
          },
          "metadata": {}
        },
        {
          "output_type": "display_data",
          "data": {
            "text/plain": [
              "<IPython.core.display.Javascript object>"
            ],
            "application/javascript": [
              "window[\"297f6d3c-9c70-11ef-9857-0242ac1c000c\"] = google.colab.output.getActiveOutputArea();\n",
              "//# sourceURL=js_62f7d7218c"
            ]
          },
          "metadata": {}
        },
        {
          "output_type": "display_data",
          "data": {
            "text/plain": [
              "<IPython.core.display.Javascript object>"
            ],
            "application/javascript": [
              "window[\"297fbeb8-9c70-11ef-9857-0242ac1c000c\"] = document.querySelector(\"#id114-1-0\");\n",
              "//# sourceURL=js_ec30e06d4d"
            ]
          },
          "metadata": {}
        },
        {
          "output_type": "display_data",
          "data": {
            "text/plain": [
              "<IPython.core.display.Javascript object>"
            ],
            "application/javascript": [
              "window[\"29801cf0-9c70-11ef-9857-0242ac1c000c\"] = google.colab.output.setActiveOutputArea(window[\"297fbeb8-9c70-11ef-9857-0242ac1c000c\"]);\n",
              "//# sourceURL=js_ad83086d0d"
            ]
          },
          "metadata": {}
        },
        {
          "output_type": "stream",
          "name": "stdout",
          "text": [
            "w= 640 h= 480\n"
          ]
        },
        {
          "output_type": "display_data",
          "data": {
            "text/plain": [
              "<IPython.core.display.Javascript object>"
            ],
            "application/javascript": [
              "window[\"299a9a1c-9c70-11ef-9857-0242ac1c000c\"] = google.colab.output.setActiveOutputArea(window[\"297f6d3c-9c70-11ef-9857-0242ac1c000c\"]);\n",
              "//# sourceURL=js_550966b17f"
            ]
          },
          "metadata": {}
        },
        {
          "output_type": "display_data",
          "data": {
            "text/plain": [
              "<IPython.core.display.Javascript object>"
            ],
            "application/javascript": [
              "window[\"299ce380-9c70-11ef-9857-0242ac1c000c\"] = google.colab.output.getActiveOutputArea();\n",
              "//# sourceURL=js_f6024bd958"
            ]
          },
          "metadata": {}
        },
        {
          "output_type": "display_data",
          "data": {
            "text/plain": [
              "<IPython.core.display.Javascript object>"
            ],
            "application/javascript": [
              "window[\"299d2764-9c70-11ef-9857-0242ac1c000c\"] = document.querySelector(\"#id114-1-1\");\n",
              "//# sourceURL=js_0eaad5c6b7"
            ]
          },
          "metadata": {}
        },
        {
          "output_type": "display_data",
          "data": {
            "text/plain": [
              "<IPython.core.display.Javascript object>"
            ],
            "application/javascript": [
              "window[\"299d8ed4-9c70-11ef-9857-0242ac1c000c\"] = google.colab.output.setActiveOutputArea(window[\"299d2764-9c70-11ef-9857-0242ac1c000c\"]);\n",
              "//# sourceURL=js_031d0d7d8a"
            ]
          },
          "metadata": {}
        },
        {
          "output_type": "stream",
          "name": "stdout",
          "text": [
            "w= 640 h= 480\n"
          ]
        },
        {
          "output_type": "display_data",
          "data": {
            "text/plain": [
              "<IPython.core.display.Javascript object>"
            ],
            "application/javascript": [
              "window[\"29b568d8-9c70-11ef-9857-0242ac1c000c\"] = google.colab.output.setActiveOutputArea(window[\"299ce380-9c70-11ef-9857-0242ac1c000c\"]);\n",
              "//# sourceURL=js_e583b5aa29"
            ]
          },
          "metadata": {}
        },
        {
          "output_type": "display_data",
          "data": {
            "text/plain": [
              "<IPython.core.display.HTML object>"
            ],
            "text/html": [
              "<style>\n",
              "       table#id116, #id116 > tbody > tr > th, #id116 > tbody > tr > td {\n",
              "         border: 1px solid lightgray;\n",
              "         border-collapse:collapse;\n",
              "         \n",
              "        }</style>"
            ]
          },
          "metadata": {}
        },
        {
          "output_type": "display_data",
          "data": {
            "text/plain": [
              "<IPython.core.display.HTML object>"
            ],
            "text/html": [
              "<table id=id116><tr><td id=id116-0-0></td><td id=id116-0-1></td></tr><tr><td id=id116-1-0></td><td id=id116-1-1></td></tr></table>"
            ]
          },
          "metadata": {}
        },
        {
          "output_type": "display_data",
          "data": {
            "text/plain": [
              "<IPython.core.display.Javascript object>"
            ],
            "application/javascript": [
              "window[\"29b8d1c6-9c70-11ef-9857-0242ac1c000c\"] = google.colab.output.getActiveOutputArea();\n",
              "//# sourceURL=js_9612a43b6e"
            ]
          },
          "metadata": {}
        },
        {
          "output_type": "display_data",
          "data": {
            "text/plain": [
              "<IPython.core.display.Javascript object>"
            ],
            "application/javascript": [
              "window[\"29b9171c-9c70-11ef-9857-0242ac1c000c\"] = document.querySelector(\"#id116-0-0\");\n",
              "//# sourceURL=js_589d78249c"
            ]
          },
          "metadata": {}
        },
        {
          "output_type": "display_data",
          "data": {
            "text/plain": [
              "<IPython.core.display.Javascript object>"
            ],
            "application/javascript": [
              "window[\"29b959ac-9c70-11ef-9857-0242ac1c000c\"] = google.colab.output.setActiveOutputArea(window[\"29b9171c-9c70-11ef-9857-0242ac1c000c\"]);\n",
              "//# sourceURL=js_a9d25e8663"
            ]
          },
          "metadata": {}
        },
        {
          "output_type": "stream",
          "name": "stdout",
          "text": [
            "w= 640 h= 480\n"
          ]
        },
        {
          "output_type": "display_data",
          "data": {
            "text/plain": [
              "<IPython.core.display.Javascript object>"
            ],
            "application/javascript": [
              "window[\"29d2eeee-9c70-11ef-9857-0242ac1c000c\"] = google.colab.output.setActiveOutputArea(window[\"29b8d1c6-9c70-11ef-9857-0242ac1c000c\"]);\n",
              "//# sourceURL=js_6660cf607c"
            ]
          },
          "metadata": {}
        },
        {
          "output_type": "display_data",
          "data": {
            "text/plain": [
              "<IPython.core.display.Javascript object>"
            ],
            "application/javascript": [
              "window[\"29d5ddac-9c70-11ef-9857-0242ac1c000c\"] = google.colab.output.getActiveOutputArea();\n",
              "//# sourceURL=js_2b7bdbbc22"
            ]
          },
          "metadata": {}
        },
        {
          "output_type": "display_data",
          "data": {
            "text/plain": [
              "<IPython.core.display.Javascript object>"
            ],
            "application/javascript": [
              "window[\"29d62244-9c70-11ef-9857-0242ac1c000c\"] = document.querySelector(\"#id116-0-1\");\n",
              "//# sourceURL=js_0b228dbfa6"
            ]
          },
          "metadata": {}
        },
        {
          "output_type": "display_data",
          "data": {
            "text/plain": [
              "<IPython.core.display.Javascript object>"
            ],
            "application/javascript": [
              "window[\"29d69cf6-9c70-11ef-9857-0242ac1c000c\"] = google.colab.output.setActiveOutputArea(window[\"29d62244-9c70-11ef-9857-0242ac1c000c\"]);\n",
              "//# sourceURL=js_62ed325040"
            ]
          },
          "metadata": {}
        },
        {
          "output_type": "stream",
          "name": "stdout",
          "text": [
            "w= 640 h= 480\n"
          ]
        },
        {
          "output_type": "display_data",
          "data": {
            "text/plain": [
              "<IPython.core.display.Javascript object>"
            ],
            "application/javascript": [
              "window[\"29f21166-9c70-11ef-9857-0242ac1c000c\"] = google.colab.output.setActiveOutputArea(window[\"29d5ddac-9c70-11ef-9857-0242ac1c000c\"]);\n",
              "//# sourceURL=js_5b55e410c9"
            ]
          },
          "metadata": {}
        },
        {
          "output_type": "display_data",
          "data": {
            "text/plain": [
              "<IPython.core.display.Javascript object>"
            ],
            "application/javascript": [
              "window[\"29f55fc4-9c70-11ef-9857-0242ac1c000c\"] = google.colab.output.getActiveOutputArea();\n",
              "//# sourceURL=js_71c44966bc"
            ]
          },
          "metadata": {}
        },
        {
          "output_type": "display_data",
          "data": {
            "text/plain": [
              "<IPython.core.display.Javascript object>"
            ],
            "application/javascript": [
              "window[\"29f5a8e4-9c70-11ef-9857-0242ac1c000c\"] = document.querySelector(\"#id116-1-0\");\n",
              "//# sourceURL=js_d7cd4572d9"
            ]
          },
          "metadata": {}
        },
        {
          "output_type": "display_data",
          "data": {
            "text/plain": [
              "<IPython.core.display.Javascript object>"
            ],
            "application/javascript": [
              "window[\"29f5e80e-9c70-11ef-9857-0242ac1c000c\"] = google.colab.output.setActiveOutputArea(window[\"29f5a8e4-9c70-11ef-9857-0242ac1c000c\"]);\n",
              "//# sourceURL=js_62317662cb"
            ]
          },
          "metadata": {}
        },
        {
          "output_type": "stream",
          "name": "stdout",
          "text": [
            "w= 640 h= 480\n"
          ]
        },
        {
          "output_type": "display_data",
          "data": {
            "text/plain": [
              "<IPython.core.display.Javascript object>"
            ],
            "application/javascript": [
              "window[\"2a129c2e-9c70-11ef-9857-0242ac1c000c\"] = google.colab.output.setActiveOutputArea(window[\"29f55fc4-9c70-11ef-9857-0242ac1c000c\"]);\n",
              "//# sourceURL=js_ab5b54e33b"
            ]
          },
          "metadata": {}
        },
        {
          "output_type": "display_data",
          "data": {
            "text/plain": [
              "<IPython.core.display.Javascript object>"
            ],
            "application/javascript": [
              "window[\"2a157d68-9c70-11ef-9857-0242ac1c000c\"] = google.colab.output.getActiveOutputArea();\n",
              "//# sourceURL=js_56e0fee27e"
            ]
          },
          "metadata": {}
        },
        {
          "output_type": "display_data",
          "data": {
            "text/plain": [
              "<IPython.core.display.Javascript object>"
            ],
            "application/javascript": [
              "window[\"2a15ee2e-9c70-11ef-9857-0242ac1c000c\"] = document.querySelector(\"#id116-1-1\");\n",
              "//# sourceURL=js_930e1e0199"
            ]
          },
          "metadata": {}
        },
        {
          "output_type": "display_data",
          "data": {
            "text/plain": [
              "<IPython.core.display.Javascript object>"
            ],
            "application/javascript": [
              "window[\"2a166cdc-9c70-11ef-9857-0242ac1c000c\"] = google.colab.output.setActiveOutputArea(window[\"2a15ee2e-9c70-11ef-9857-0242ac1c000c\"]);\n",
              "//# sourceURL=js_8ad735f813"
            ]
          },
          "metadata": {}
        },
        {
          "output_type": "stream",
          "name": "stdout",
          "text": [
            "w= 640 h= 480\n"
          ]
        },
        {
          "output_type": "display_data",
          "data": {
            "text/plain": [
              "<IPython.core.display.Javascript object>"
            ],
            "application/javascript": [
              "window[\"2a389398-9c70-11ef-9857-0242ac1c000c\"] = google.colab.output.setActiveOutputArea(window[\"2a157d68-9c70-11ef-9857-0242ac1c000c\"]);\n",
              "//# sourceURL=js_fc8cd0f7fc"
            ]
          },
          "metadata": {}
        },
        {
          "output_type": "display_data",
          "data": {
            "text/plain": [
              "<IPython.core.display.HTML object>"
            ],
            "text/html": [
              "<style>\n",
              "       table#id118, #id118 > tbody > tr > th, #id118 > tbody > tr > td {\n",
              "         border: 1px solid lightgray;\n",
              "         border-collapse:collapse;\n",
              "         \n",
              "        }</style>"
            ]
          },
          "metadata": {}
        },
        {
          "output_type": "display_data",
          "data": {
            "text/plain": [
              "<IPython.core.display.HTML object>"
            ],
            "text/html": [
              "<table id=id118><tr><td id=id118-0-0></td><td id=id118-0-1></td></tr><tr><td id=id118-1-0></td><td id=id118-1-1></td></tr></table>"
            ]
          },
          "metadata": {}
        },
        {
          "output_type": "display_data",
          "data": {
            "text/plain": [
              "<IPython.core.display.Javascript object>"
            ],
            "application/javascript": [
              "window[\"2a3d55ae-9c70-11ef-9857-0242ac1c000c\"] = google.colab.output.getActiveOutputArea();\n",
              "//# sourceURL=js_d402a76dda"
            ]
          },
          "metadata": {}
        },
        {
          "output_type": "display_data",
          "data": {
            "text/plain": [
              "<IPython.core.display.Javascript object>"
            ],
            "application/javascript": [
              "window[\"2a3e1764-9c70-11ef-9857-0242ac1c000c\"] = document.querySelector(\"#id118-0-0\");\n",
              "//# sourceURL=js_1bb5f1269f"
            ]
          },
          "metadata": {}
        },
        {
          "output_type": "display_data",
          "data": {
            "text/plain": [
              "<IPython.core.display.Javascript object>"
            ],
            "application/javascript": [
              "window[\"2a3e51de-9c70-11ef-9857-0242ac1c000c\"] = google.colab.output.setActiveOutputArea(window[\"2a3e1764-9c70-11ef-9857-0242ac1c000c\"]);\n",
              "//# sourceURL=js_265116807e"
            ]
          },
          "metadata": {}
        },
        {
          "output_type": "stream",
          "name": "stdout",
          "text": [
            "w= 640 h= 480\n"
          ]
        },
        {
          "output_type": "display_data",
          "data": {
            "text/plain": [
              "<IPython.core.display.Javascript object>"
            ],
            "application/javascript": [
              "window[\"2a5f2422-9c70-11ef-9857-0242ac1c000c\"] = google.colab.output.setActiveOutputArea(window[\"2a3d55ae-9c70-11ef-9857-0242ac1c000c\"]);\n",
              "//# sourceURL=js_9f6e12a19c"
            ]
          },
          "metadata": {}
        },
        {
          "output_type": "display_data",
          "data": {
            "text/plain": [
              "<IPython.core.display.Javascript object>"
            ],
            "application/javascript": [
              "window[\"2a627ca8-9c70-11ef-9857-0242ac1c000c\"] = google.colab.output.getActiveOutputArea();\n",
              "//# sourceURL=js_e3a3ea4966"
            ]
          },
          "metadata": {}
        },
        {
          "output_type": "display_data",
          "data": {
            "text/plain": [
              "<IPython.core.display.Javascript object>"
            ],
            "application/javascript": [
              "window[\"2a6332ec-9c70-11ef-9857-0242ac1c000c\"] = document.querySelector(\"#id118-0-1\");\n",
              "//# sourceURL=js_91edaf6402"
            ]
          },
          "metadata": {}
        },
        {
          "output_type": "display_data",
          "data": {
            "text/plain": [
              "<IPython.core.display.Javascript object>"
            ],
            "application/javascript": [
              "window[\"2a63a29a-9c70-11ef-9857-0242ac1c000c\"] = google.colab.output.setActiveOutputArea(window[\"2a6332ec-9c70-11ef-9857-0242ac1c000c\"]);\n",
              "//# sourceURL=js_96581dcfba"
            ]
          },
          "metadata": {}
        },
        {
          "output_type": "stream",
          "name": "stdout",
          "text": [
            "w= 640 h= 480\n"
          ]
        },
        {
          "output_type": "display_data",
          "data": {
            "text/plain": [
              "<IPython.core.display.Javascript object>"
            ],
            "application/javascript": [
              "window[\"2a819318-9c70-11ef-9857-0242ac1c000c\"] = google.colab.output.setActiveOutputArea(window[\"2a627ca8-9c70-11ef-9857-0242ac1c000c\"]);\n",
              "//# sourceURL=js_bac4a9bda5"
            ]
          },
          "metadata": {}
        },
        {
          "output_type": "display_data",
          "data": {
            "text/plain": [
              "<IPython.core.display.Javascript object>"
            ],
            "application/javascript": [
              "window[\"2a8463e0-9c70-11ef-9857-0242ac1c000c\"] = google.colab.output.getActiveOutputArea();\n",
              "//# sourceURL=js_1fb0bdecc5"
            ]
          },
          "metadata": {}
        },
        {
          "output_type": "display_data",
          "data": {
            "text/plain": [
              "<IPython.core.display.Javascript object>"
            ],
            "application/javascript": [
              "window[\"2a84a79c-9c70-11ef-9857-0242ac1c000c\"] = document.querySelector(\"#id118-1-0\");\n",
              "//# sourceURL=js_64949d7b94"
            ]
          },
          "metadata": {}
        },
        {
          "output_type": "display_data",
          "data": {
            "text/plain": [
              "<IPython.core.display.Javascript object>"
            ],
            "application/javascript": [
              "window[\"2a85787a-9c70-11ef-9857-0242ac1c000c\"] = google.colab.output.setActiveOutputArea(window[\"2a84a79c-9c70-11ef-9857-0242ac1c000c\"]);\n",
              "//# sourceURL=js_88faa6381b"
            ]
          },
          "metadata": {}
        },
        {
          "output_type": "stream",
          "name": "stdout",
          "text": [
            "w= 640 h= 480\n"
          ]
        },
        {
          "output_type": "display_data",
          "data": {
            "text/plain": [
              "<IPython.core.display.Javascript object>"
            ],
            "application/javascript": [
              "window[\"2aa0e2fe-9c70-11ef-9857-0242ac1c000c\"] = google.colab.output.setActiveOutputArea(window[\"2a8463e0-9c70-11ef-9857-0242ac1c000c\"]);\n",
              "//# sourceURL=js_077b24188e"
            ]
          },
          "metadata": {}
        },
        {
          "output_type": "display_data",
          "data": {
            "text/plain": [
              "<IPython.core.display.Javascript object>"
            ],
            "application/javascript": [
              "window[\"2aa29964-9c70-11ef-9857-0242ac1c000c\"] = google.colab.output.getActiveOutputArea();\n",
              "//# sourceURL=js_f179acb00d"
            ]
          },
          "metadata": {}
        },
        {
          "output_type": "display_data",
          "data": {
            "text/plain": [
              "<IPython.core.display.Javascript object>"
            ],
            "application/javascript": [
              "window[\"2aa2e3f6-9c70-11ef-9857-0242ac1c000c\"] = document.querySelector(\"#id118-1-1\");\n",
              "//# sourceURL=js_61beed875d"
            ]
          },
          "metadata": {}
        },
        {
          "output_type": "display_data",
          "data": {
            "text/plain": [
              "<IPython.core.display.Javascript object>"
            ],
            "application/javascript": [
              "window[\"2aa32938-9c70-11ef-9857-0242ac1c000c\"] = google.colab.output.setActiveOutputArea(window[\"2aa2e3f6-9c70-11ef-9857-0242ac1c000c\"]);\n",
              "//# sourceURL=js_7f2d9552be"
            ]
          },
          "metadata": {}
        },
        {
          "output_type": "stream",
          "name": "stdout",
          "text": [
            "w= 640 h= 480\n"
          ]
        },
        {
          "output_type": "display_data",
          "data": {
            "text/plain": [
              "<IPython.core.display.Javascript object>"
            ],
            "application/javascript": [
              "window[\"2abc364e-9c70-11ef-9857-0242ac1c000c\"] = google.colab.output.setActiveOutputArea(window[\"2aa29964-9c70-11ef-9857-0242ac1c000c\"]);\n",
              "//# sourceURL=js_afbc8e28d5"
            ]
          },
          "metadata": {}
        },
        {
          "output_type": "display_data",
          "data": {
            "text/plain": [
              "<IPython.core.display.HTML object>"
            ],
            "text/html": [
              "<style>\n",
              "       table#id120, #id120 > tbody > tr > th, #id120 > tbody > tr > td {\n",
              "         border: 1px solid lightgray;\n",
              "         border-collapse:collapse;\n",
              "         \n",
              "        }</style>"
            ]
          },
          "metadata": {}
        },
        {
          "output_type": "display_data",
          "data": {
            "text/plain": [
              "<IPython.core.display.HTML object>"
            ],
            "text/html": [
              "<table id=id120><tr><td id=id120-0-0></td><td id=id120-0-1></td></tr><tr><td id=id120-1-0></td><td id=id120-1-1></td></tr></table>"
            ]
          },
          "metadata": {}
        },
        {
          "output_type": "display_data",
          "data": {
            "text/plain": [
              "<IPython.core.display.Javascript object>"
            ],
            "application/javascript": [
              "window[\"2ac0731c-9c70-11ef-9857-0242ac1c000c\"] = google.colab.output.getActiveOutputArea();\n",
              "//# sourceURL=js_b1753e7f9b"
            ]
          },
          "metadata": {}
        },
        {
          "output_type": "display_data",
          "data": {
            "text/plain": [
              "<IPython.core.display.Javascript object>"
            ],
            "application/javascript": [
              "window[\"2ac0ba0c-9c70-11ef-9857-0242ac1c000c\"] = document.querySelector(\"#id120-0-0\");\n",
              "//# sourceURL=js_68ce777688"
            ]
          },
          "metadata": {}
        },
        {
          "output_type": "display_data",
          "data": {
            "text/plain": [
              "<IPython.core.display.Javascript object>"
            ],
            "application/javascript": [
              "window[\"2ac0fe72-9c70-11ef-9857-0242ac1c000c\"] = google.colab.output.setActiveOutputArea(window[\"2ac0ba0c-9c70-11ef-9857-0242ac1c000c\"]);\n",
              "//# sourceURL=js_66bb86324a"
            ]
          },
          "metadata": {}
        },
        {
          "output_type": "stream",
          "name": "stdout",
          "text": [
            "w= 640 h= 480\n"
          ]
        },
        {
          "output_type": "display_data",
          "data": {
            "text/plain": [
              "<IPython.core.display.Javascript object>"
            ],
            "application/javascript": [
              "window[\"2ada3a72-9c70-11ef-9857-0242ac1c000c\"] = google.colab.output.setActiveOutputArea(window[\"2ac0731c-9c70-11ef-9857-0242ac1c000c\"]);\n",
              "//# sourceURL=js_192f4775c5"
            ]
          },
          "metadata": {}
        },
        {
          "output_type": "display_data",
          "data": {
            "text/plain": [
              "<IPython.core.display.Javascript object>"
            ],
            "application/javascript": [
              "window[\"2ade1868-9c70-11ef-9857-0242ac1c000c\"] = google.colab.output.getActiveOutputArea();\n",
              "//# sourceURL=js_49b2b369f1"
            ]
          },
          "metadata": {}
        },
        {
          "output_type": "display_data",
          "data": {
            "text/plain": [
              "<IPython.core.display.Javascript object>"
            ],
            "application/javascript": [
              "window[\"2ade7c72-9c70-11ef-9857-0242ac1c000c\"] = document.querySelector(\"#id120-0-1\");\n",
              "//# sourceURL=js_0c8bfe8d54"
            ]
          },
          "metadata": {}
        },
        {
          "output_type": "display_data",
          "data": {
            "text/plain": [
              "<IPython.core.display.Javascript object>"
            ],
            "application/javascript": [
              "window[\"2adefa30-9c70-11ef-9857-0242ac1c000c\"] = google.colab.output.setActiveOutputArea(window[\"2ade7c72-9c70-11ef-9857-0242ac1c000c\"]);\n",
              "//# sourceURL=js_107c1754b5"
            ]
          },
          "metadata": {}
        },
        {
          "output_type": "stream",
          "name": "stdout",
          "text": [
            "w= 640 h= 480\n"
          ]
        },
        {
          "output_type": "display_data",
          "data": {
            "text/plain": [
              "<IPython.core.display.Javascript object>"
            ],
            "application/javascript": [
              "window[\"2af7e6c6-9c70-11ef-9857-0242ac1c000c\"] = google.colab.output.setActiveOutputArea(window[\"2ade1868-9c70-11ef-9857-0242ac1c000c\"]);\n",
              "//# sourceURL=js_5d405b5ddb"
            ]
          },
          "metadata": {}
        },
        {
          "output_type": "display_data",
          "data": {
            "text/plain": [
              "<IPython.core.display.Javascript object>"
            ],
            "application/javascript": [
              "window[\"2af9bcf8-9c70-11ef-9857-0242ac1c000c\"] = google.colab.output.getActiveOutputArea();\n",
              "//# sourceURL=js_63a6ddf7f7"
            ]
          },
          "metadata": {}
        },
        {
          "output_type": "display_data",
          "data": {
            "text/plain": [
              "<IPython.core.display.Javascript object>"
            ],
            "application/javascript": [
              "window[\"2af9fa7e-9c70-11ef-9857-0242ac1c000c\"] = document.querySelector(\"#id120-1-0\");\n",
              "//# sourceURL=js_8716347979"
            ]
          },
          "metadata": {}
        },
        {
          "output_type": "display_data",
          "data": {
            "text/plain": [
              "<IPython.core.display.Javascript object>"
            ],
            "application/javascript": [
              "window[\"2afa37aa-9c70-11ef-9857-0242ac1c000c\"] = google.colab.output.setActiveOutputArea(window[\"2af9fa7e-9c70-11ef-9857-0242ac1c000c\"]);\n",
              "//# sourceURL=js_56c0ed7baf"
            ]
          },
          "metadata": {}
        },
        {
          "output_type": "stream",
          "name": "stdout",
          "text": [
            "w= 640 h= 480\n"
          ]
        },
        {
          "output_type": "display_data",
          "data": {
            "text/plain": [
              "<IPython.core.display.Javascript object>"
            ],
            "application/javascript": [
              "window[\"2b1530d2-9c70-11ef-9857-0242ac1c000c\"] = google.colab.output.setActiveOutputArea(window[\"2af9bcf8-9c70-11ef-9857-0242ac1c000c\"]);\n",
              "//# sourceURL=js_ad26f05d83"
            ]
          },
          "metadata": {}
        },
        {
          "output_type": "display_data",
          "data": {
            "text/plain": [
              "<IPython.core.display.Javascript object>"
            ],
            "application/javascript": [
              "window[\"2b175b32-9c70-11ef-9857-0242ac1c000c\"] = google.colab.output.getActiveOutputArea();\n",
              "//# sourceURL=js_acd984593d"
            ]
          },
          "metadata": {}
        },
        {
          "output_type": "display_data",
          "data": {
            "text/plain": [
              "<IPython.core.display.Javascript object>"
            ],
            "application/javascript": [
              "window[\"2b17a20e-9c70-11ef-9857-0242ac1c000c\"] = document.querySelector(\"#id120-1-1\");\n",
              "//# sourceURL=js_761257d7ab"
            ]
          },
          "metadata": {}
        },
        {
          "output_type": "display_data",
          "data": {
            "text/plain": [
              "<IPython.core.display.Javascript object>"
            ],
            "application/javascript": [
              "window[\"2b180b68-9c70-11ef-9857-0242ac1c000c\"] = google.colab.output.setActiveOutputArea(window[\"2b17a20e-9c70-11ef-9857-0242ac1c000c\"]);\n",
              "//# sourceURL=js_92933f5b63"
            ]
          },
          "metadata": {}
        },
        {
          "output_type": "stream",
          "name": "stdout",
          "text": [
            "w= 640 h= 480\n"
          ]
        },
        {
          "output_type": "display_data",
          "data": {
            "text/plain": [
              "<IPython.core.display.Javascript object>"
            ],
            "application/javascript": [
              "window[\"2b33abfc-9c70-11ef-9857-0242ac1c000c\"] = google.colab.output.setActiveOutputArea(window[\"2b175b32-9c70-11ef-9857-0242ac1c000c\"]);\n",
              "//# sourceURL=js_52874f9a12"
            ]
          },
          "metadata": {}
        },
        {
          "output_type": "display_data",
          "data": {
            "text/plain": [
              "<IPython.core.display.HTML object>"
            ],
            "text/html": [
              "<style>\n",
              "       table#id122, #id122 > tbody > tr > th, #id122 > tbody > tr > td {\n",
              "         border: 1px solid lightgray;\n",
              "         border-collapse:collapse;\n",
              "         \n",
              "        }</style>"
            ]
          },
          "metadata": {}
        },
        {
          "output_type": "display_data",
          "data": {
            "text/plain": [
              "<IPython.core.display.HTML object>"
            ],
            "text/html": [
              "<table id=id122><tr><td id=id122-0-0></td><td id=id122-0-1></td></tr><tr><td id=id122-1-0></td><td id=id122-1-1></td></tr></table>"
            ]
          },
          "metadata": {}
        },
        {
          "output_type": "display_data",
          "data": {
            "text/plain": [
              "<IPython.core.display.Javascript object>"
            ],
            "application/javascript": [
              "window[\"2b375f40-9c70-11ef-9857-0242ac1c000c\"] = google.colab.output.getActiveOutputArea();\n",
              "//# sourceURL=js_af13864ddd"
            ]
          },
          "metadata": {}
        },
        {
          "output_type": "display_data",
          "data": {
            "text/plain": [
              "<IPython.core.display.Javascript object>"
            ],
            "application/javascript": [
              "window[\"2b37a5cc-9c70-11ef-9857-0242ac1c000c\"] = document.querySelector(\"#id122-0-0\");\n",
              "//# sourceURL=js_1cfedb4614"
            ]
          },
          "metadata": {}
        },
        {
          "output_type": "display_data",
          "data": {
            "text/plain": [
              "<IPython.core.display.Javascript object>"
            ],
            "application/javascript": [
              "window[\"2b37df6a-9c70-11ef-9857-0242ac1c000c\"] = google.colab.output.setActiveOutputArea(window[\"2b37a5cc-9c70-11ef-9857-0242ac1c000c\"]);\n",
              "//# sourceURL=js_f47525e63e"
            ]
          },
          "metadata": {}
        },
        {
          "output_type": "stream",
          "name": "stdout",
          "text": [
            "w= 640 h= 480\n"
          ]
        },
        {
          "output_type": "display_data",
          "data": {
            "text/plain": [
              "<IPython.core.display.Javascript object>"
            ],
            "application/javascript": [
              "window[\"2b566dfe-9c70-11ef-9857-0242ac1c000c\"] = google.colab.output.setActiveOutputArea(window[\"2b375f40-9c70-11ef-9857-0242ac1c000c\"]);\n",
              "//# sourceURL=js_3369ce6aa5"
            ]
          },
          "metadata": {}
        },
        {
          "output_type": "display_data",
          "data": {
            "text/plain": [
              "<IPython.core.display.Javascript object>"
            ],
            "application/javascript": [
              "window[\"2b59e8e4-9c70-11ef-9857-0242ac1c000c\"] = google.colab.output.getActiveOutputArea();\n",
              "//# sourceURL=js_3faae8c2d2"
            ]
          },
          "metadata": {}
        },
        {
          "output_type": "display_data",
          "data": {
            "text/plain": [
              "<IPython.core.display.Javascript object>"
            ],
            "application/javascript": [
              "window[\"2b5a2c46-9c70-11ef-9857-0242ac1c000c\"] = document.querySelector(\"#id122-0-1\");\n",
              "//# sourceURL=js_7c267ff141"
            ]
          },
          "metadata": {}
        },
        {
          "output_type": "display_data",
          "data": {
            "text/plain": [
              "<IPython.core.display.Javascript object>"
            ],
            "application/javascript": [
              "window[\"2b5aa8f6-9c70-11ef-9857-0242ac1c000c\"] = google.colab.output.setActiveOutputArea(window[\"2b5a2c46-9c70-11ef-9857-0242ac1c000c\"]);\n",
              "//# sourceURL=js_a5a4dbc563"
            ]
          },
          "metadata": {}
        },
        {
          "output_type": "stream",
          "name": "stdout",
          "text": [
            "w= 640 h= 480\n"
          ]
        },
        {
          "output_type": "display_data",
          "data": {
            "text/plain": [
              "<IPython.core.display.Javascript object>"
            ],
            "application/javascript": [
              "window[\"2b7f57aa-9c70-11ef-9857-0242ac1c000c\"] = google.colab.output.setActiveOutputArea(window[\"2b59e8e4-9c70-11ef-9857-0242ac1c000c\"]);\n",
              "//# sourceURL=js_481dfabbb0"
            ]
          },
          "metadata": {}
        },
        {
          "output_type": "display_data",
          "data": {
            "text/plain": [
              "<IPython.core.display.Javascript object>"
            ],
            "application/javascript": [
              "window[\"2b816176-9c70-11ef-9857-0242ac1c000c\"] = google.colab.output.getActiveOutputArea();\n",
              "//# sourceURL=js_2adaef9a16"
            ]
          },
          "metadata": {}
        },
        {
          "output_type": "display_data",
          "data": {
            "text/plain": [
              "<IPython.core.display.Javascript object>"
            ],
            "application/javascript": [
              "window[\"2b81a6ea-9c70-11ef-9857-0242ac1c000c\"] = document.querySelector(\"#id122-1-0\");\n",
              "//# sourceURL=js_54e329e360"
            ]
          },
          "metadata": {}
        },
        {
          "output_type": "display_data",
          "data": {
            "text/plain": [
              "<IPython.core.display.Javascript object>"
            ],
            "application/javascript": [
              "window[\"2b82020c-9c70-11ef-9857-0242ac1c000c\"] = google.colab.output.setActiveOutputArea(window[\"2b81a6ea-9c70-11ef-9857-0242ac1c000c\"]);\n",
              "//# sourceURL=js_a92e3c3b79"
            ]
          },
          "metadata": {}
        },
        {
          "output_type": "stream",
          "name": "stdout",
          "text": [
            "w= 640 h= 480\n"
          ]
        },
        {
          "output_type": "display_data",
          "data": {
            "text/plain": [
              "<IPython.core.display.Javascript object>"
            ],
            "application/javascript": [
              "window[\"2b9bd286-9c70-11ef-9857-0242ac1c000c\"] = google.colab.output.setActiveOutputArea(window[\"2b816176-9c70-11ef-9857-0242ac1c000c\"]);\n",
              "//# sourceURL=js_14e6199f59"
            ]
          },
          "metadata": {}
        },
        {
          "output_type": "display_data",
          "data": {
            "text/plain": [
              "<IPython.core.display.Javascript object>"
            ],
            "application/javascript": [
              "window[\"2b9ef452-9c70-11ef-9857-0242ac1c000c\"] = google.colab.output.getActiveOutputArea();\n",
              "//# sourceURL=js_6ce6a6b29d"
            ]
          },
          "metadata": {}
        },
        {
          "output_type": "display_data",
          "data": {
            "text/plain": [
              "<IPython.core.display.Javascript object>"
            ],
            "application/javascript": [
              "window[\"2b9f5ab4-9c70-11ef-9857-0242ac1c000c\"] = document.querySelector(\"#id122-1-1\");\n",
              "//# sourceURL=js_734c06b913"
            ]
          },
          "metadata": {}
        },
        {
          "output_type": "display_data",
          "data": {
            "text/plain": [
              "<IPython.core.display.Javascript object>"
            ],
            "application/javascript": [
              "window[\"2b9fa6ea-9c70-11ef-9857-0242ac1c000c\"] = google.colab.output.setActiveOutputArea(window[\"2b9f5ab4-9c70-11ef-9857-0242ac1c000c\"]);\n",
              "//# sourceURL=js_490d2e2aea"
            ]
          },
          "metadata": {}
        },
        {
          "output_type": "stream",
          "name": "stdout",
          "text": [
            "w= 640 h= 480\n"
          ]
        },
        {
          "output_type": "display_data",
          "data": {
            "text/plain": [
              "<IPython.core.display.Javascript object>"
            ],
            "application/javascript": [
              "window[\"2bba00c6-9c70-11ef-9857-0242ac1c000c\"] = google.colab.output.setActiveOutputArea(window[\"2b9ef452-9c70-11ef-9857-0242ac1c000c\"]);\n",
              "//# sourceURL=js_a9e9c743ec"
            ]
          },
          "metadata": {}
        },
        {
          "output_type": "display_data",
          "data": {
            "text/plain": [
              "<IPython.core.display.HTML object>"
            ],
            "text/html": [
              "<style>\n",
              "       table#id124, #id124 > tbody > tr > th, #id124 > tbody > tr > td {\n",
              "         border: 1px solid lightgray;\n",
              "         border-collapse:collapse;\n",
              "         \n",
              "        }</style>"
            ]
          },
          "metadata": {}
        },
        {
          "output_type": "display_data",
          "data": {
            "text/plain": [
              "<IPython.core.display.HTML object>"
            ],
            "text/html": [
              "<table id=id124><tr><td id=id124-0-0></td><td id=id124-0-1></td></tr><tr><td id=id124-1-0></td><td id=id124-1-1></td></tr></table>"
            ]
          },
          "metadata": {}
        },
        {
          "output_type": "display_data",
          "data": {
            "text/plain": [
              "<IPython.core.display.Javascript object>"
            ],
            "application/javascript": [
              "window[\"2bbe9424-9c70-11ef-9857-0242ac1c000c\"] = google.colab.output.getActiveOutputArea();\n",
              "//# sourceURL=js_27887fc962"
            ]
          },
          "metadata": {}
        },
        {
          "output_type": "display_data",
          "data": {
            "text/plain": [
              "<IPython.core.display.Javascript object>"
            ],
            "application/javascript": [
              "window[\"2bbed8bc-9c70-11ef-9857-0242ac1c000c\"] = document.querySelector(\"#id124-0-0\");\n",
              "//# sourceURL=js_3efb0f2895"
            ]
          },
          "metadata": {}
        },
        {
          "output_type": "display_data",
          "data": {
            "text/plain": [
              "<IPython.core.display.Javascript object>"
            ],
            "application/javascript": [
              "window[\"2bbf17be-9c70-11ef-9857-0242ac1c000c\"] = google.colab.output.setActiveOutputArea(window[\"2bbed8bc-9c70-11ef-9857-0242ac1c000c\"]);\n",
              "//# sourceURL=js_272da60a3e"
            ]
          },
          "metadata": {}
        },
        {
          "output_type": "stream",
          "name": "stdout",
          "text": [
            "w= 640 h= 480\n"
          ]
        },
        {
          "output_type": "display_data",
          "data": {
            "text/plain": [
              "<IPython.core.display.Javascript object>"
            ],
            "application/javascript": [
              "window[\"2be31646-9c70-11ef-9857-0242ac1c000c\"] = google.colab.output.setActiveOutputArea(window[\"2bbe9424-9c70-11ef-9857-0242ac1c000c\"]);\n",
              "//# sourceURL=js_e925f29947"
            ]
          },
          "metadata": {}
        },
        {
          "output_type": "display_data",
          "data": {
            "text/plain": [
              "<IPython.core.display.Javascript object>"
            ],
            "application/javascript": [
              "window[\"2be677b4-9c70-11ef-9857-0242ac1c000c\"] = google.colab.output.getActiveOutputArea();\n",
              "//# sourceURL=js_3c58b40964"
            ]
          },
          "metadata": {}
        },
        {
          "output_type": "display_data",
          "data": {
            "text/plain": [
              "<IPython.core.display.Javascript object>"
            ],
            "application/javascript": [
              "window[\"2be714b2-9c70-11ef-9857-0242ac1c000c\"] = document.querySelector(\"#id124-0-1\");\n",
              "//# sourceURL=js_59ba4bacef"
            ]
          },
          "metadata": {}
        },
        {
          "output_type": "display_data",
          "data": {
            "text/plain": [
              "<IPython.core.display.Javascript object>"
            ],
            "application/javascript": [
              "window[\"2be7fabc-9c70-11ef-9857-0242ac1c000c\"] = google.colab.output.setActiveOutputArea(window[\"2be714b2-9c70-11ef-9857-0242ac1c000c\"]);\n",
              "//# sourceURL=js_7eb8988e14"
            ]
          },
          "metadata": {}
        },
        {
          "output_type": "stream",
          "name": "stdout",
          "text": [
            "w= 640 h= 480\n"
          ]
        },
        {
          "output_type": "display_data",
          "data": {
            "text/plain": [
              "<IPython.core.display.Javascript object>"
            ],
            "application/javascript": [
              "window[\"2c0b3a2c-9c70-11ef-9857-0242ac1c000c\"] = google.colab.output.setActiveOutputArea(window[\"2be677b4-9c70-11ef-9857-0242ac1c000c\"]);\n",
              "//# sourceURL=js_e38c2b36fa"
            ]
          },
          "metadata": {}
        },
        {
          "output_type": "display_data",
          "data": {
            "text/plain": [
              "<IPython.core.display.Javascript object>"
            ],
            "application/javascript": [
              "window[\"2c0d9fce-9c70-11ef-9857-0242ac1c000c\"] = google.colab.output.getActiveOutputArea();\n",
              "//# sourceURL=js_150f9c7323"
            ]
          },
          "metadata": {}
        },
        {
          "output_type": "display_data",
          "data": {
            "text/plain": [
              "<IPython.core.display.Javascript object>"
            ],
            "application/javascript": [
              "window[\"2c0de27c-9c70-11ef-9857-0242ac1c000c\"] = document.querySelector(\"#id124-1-0\");\n",
              "//# sourceURL=js_f0a754d7c1"
            ]
          },
          "metadata": {}
        },
        {
          "output_type": "display_data",
          "data": {
            "text/plain": [
              "<IPython.core.display.Javascript object>"
            ],
            "application/javascript": [
              "window[\"2c0e92e4-9c70-11ef-9857-0242ac1c000c\"] = google.colab.output.setActiveOutputArea(window[\"2c0de27c-9c70-11ef-9857-0242ac1c000c\"]);\n",
              "//# sourceURL=js_97aa589146"
            ]
          },
          "metadata": {}
        },
        {
          "output_type": "stream",
          "name": "stdout",
          "text": [
            "w= 640 h= 480\n"
          ]
        },
        {
          "output_type": "display_data",
          "data": {
            "text/plain": [
              "<IPython.core.display.Javascript object>"
            ],
            "application/javascript": [
              "window[\"2c2bb0f4-9c70-11ef-9857-0242ac1c000c\"] = google.colab.output.setActiveOutputArea(window[\"2c0d9fce-9c70-11ef-9857-0242ac1c000c\"]);\n",
              "//# sourceURL=js_d175d2e886"
            ]
          },
          "metadata": {}
        },
        {
          "output_type": "display_data",
          "data": {
            "text/plain": [
              "<IPython.core.display.Javascript object>"
            ],
            "application/javascript": [
              "window[\"2c2d3046-9c70-11ef-9857-0242ac1c000c\"] = google.colab.output.getActiveOutputArea();\n",
              "//# sourceURL=js_2e5e358f1d"
            ]
          },
          "metadata": {}
        },
        {
          "output_type": "display_data",
          "data": {
            "text/plain": [
              "<IPython.core.display.Javascript object>"
            ],
            "application/javascript": [
              "window[\"2c2d7394-9c70-11ef-9857-0242ac1c000c\"] = document.querySelector(\"#id124-1-1\");\n",
              "//# sourceURL=js_fff7671701"
            ]
          },
          "metadata": {}
        },
        {
          "output_type": "display_data",
          "data": {
            "text/plain": [
              "<IPython.core.display.Javascript object>"
            ],
            "application/javascript": [
              "window[\"2c2db8a4-9c70-11ef-9857-0242ac1c000c\"] = google.colab.output.setActiveOutputArea(window[\"2c2d7394-9c70-11ef-9857-0242ac1c000c\"]);\n",
              "//# sourceURL=js_b5ce464876"
            ]
          },
          "metadata": {}
        },
        {
          "output_type": "stream",
          "name": "stdout",
          "text": [
            "w= 640 h= 480\n"
          ]
        },
        {
          "output_type": "display_data",
          "data": {
            "text/plain": [
              "<IPython.core.display.Javascript object>"
            ],
            "application/javascript": [
              "window[\"2c48d40e-9c70-11ef-9857-0242ac1c000c\"] = google.colab.output.setActiveOutputArea(window[\"2c2d3046-9c70-11ef-9857-0242ac1c000c\"]);\n",
              "//# sourceURL=js_94114cdba4"
            ]
          },
          "metadata": {}
        },
        {
          "output_type": "display_data",
          "data": {
            "text/plain": [
              "<IPython.core.display.HTML object>"
            ],
            "text/html": [
              "<style>\n",
              "       table#id126, #id126 > tbody > tr > th, #id126 > tbody > tr > td {\n",
              "         border: 1px solid lightgray;\n",
              "         border-collapse:collapse;\n",
              "         \n",
              "        }</style>"
            ]
          },
          "metadata": {}
        },
        {
          "output_type": "display_data",
          "data": {
            "text/plain": [
              "<IPython.core.display.HTML object>"
            ],
            "text/html": [
              "<table id=id126><tr><td id=id126-0-0></td><td id=id126-0-1></td></tr><tr><td id=id126-1-0></td><td id=id126-1-1></td></tr></table>"
            ]
          },
          "metadata": {}
        },
        {
          "output_type": "display_data",
          "data": {
            "text/plain": [
              "<IPython.core.display.Javascript object>"
            ],
            "application/javascript": [
              "window[\"2c4ccef6-9c70-11ef-9857-0242ac1c000c\"] = google.colab.output.getActiveOutputArea();\n",
              "//# sourceURL=js_88faafb39c"
            ]
          },
          "metadata": {}
        },
        {
          "output_type": "display_data",
          "data": {
            "text/plain": [
              "<IPython.core.display.Javascript object>"
            ],
            "application/javascript": [
              "window[\"2c4d14ec-9c70-11ef-9857-0242ac1c000c\"] = document.querySelector(\"#id126-0-0\");\n",
              "//# sourceURL=js_7c7690e9dd"
            ]
          },
          "metadata": {}
        },
        {
          "output_type": "display_data",
          "data": {
            "text/plain": [
              "<IPython.core.display.Javascript object>"
            ],
            "application/javascript": [
              "window[\"2c4dfca4-9c70-11ef-9857-0242ac1c000c\"] = google.colab.output.setActiveOutputArea(window[\"2c4d14ec-9c70-11ef-9857-0242ac1c000c\"]);\n",
              "//# sourceURL=js_ce1945d669"
            ]
          },
          "metadata": {}
        },
        {
          "output_type": "stream",
          "name": "stdout",
          "text": [
            "w= 640 h= 480\n"
          ]
        },
        {
          "output_type": "display_data",
          "data": {
            "text/plain": [
              "<IPython.core.display.Javascript object>"
            ],
            "application/javascript": [
              "window[\"2c661b04-9c70-11ef-9857-0242ac1c000c\"] = google.colab.output.setActiveOutputArea(window[\"2c4ccef6-9c70-11ef-9857-0242ac1c000c\"]);\n",
              "//# sourceURL=js_e89d9ca44a"
            ]
          },
          "metadata": {}
        },
        {
          "output_type": "display_data",
          "data": {
            "text/plain": [
              "<IPython.core.display.Javascript object>"
            ],
            "application/javascript": [
              "window[\"2c682764-9c70-11ef-9857-0242ac1c000c\"] = google.colab.output.getActiveOutputArea();\n",
              "//# sourceURL=js_b88151e93b"
            ]
          },
          "metadata": {}
        },
        {
          "output_type": "display_data",
          "data": {
            "text/plain": [
              "<IPython.core.display.Javascript object>"
            ],
            "application/javascript": [
              "window[\"2c688d6c-9c70-11ef-9857-0242ac1c000c\"] = document.querySelector(\"#id126-0-1\");\n",
              "//# sourceURL=js_e019091abd"
            ]
          },
          "metadata": {}
        },
        {
          "output_type": "display_data",
          "data": {
            "text/plain": [
              "<IPython.core.display.Javascript object>"
            ],
            "application/javascript": [
              "window[\"2c694f40-9c70-11ef-9857-0242ac1c000c\"] = google.colab.output.setActiveOutputArea(window[\"2c688d6c-9c70-11ef-9857-0242ac1c000c\"]);\n",
              "//# sourceURL=js_1655c852d4"
            ]
          },
          "metadata": {}
        },
        {
          "output_type": "stream",
          "name": "stdout",
          "text": [
            "w= 640 h= 480\n"
          ]
        },
        {
          "output_type": "display_data",
          "data": {
            "text/plain": [
              "<IPython.core.display.Javascript object>"
            ],
            "application/javascript": [
              "window[\"2c8802dc-9c70-11ef-9857-0242ac1c000c\"] = google.colab.output.setActiveOutputArea(window[\"2c682764-9c70-11ef-9857-0242ac1c000c\"]);\n",
              "//# sourceURL=js_55944cf15d"
            ]
          },
          "metadata": {}
        },
        {
          "output_type": "display_data",
          "data": {
            "text/plain": [
              "<IPython.core.display.Javascript object>"
            ],
            "application/javascript": [
              "window[\"2c8af744-9c70-11ef-9857-0242ac1c000c\"] = google.colab.output.getActiveOutputArea();\n",
              "//# sourceURL=js_67374ad56d"
            ]
          },
          "metadata": {}
        },
        {
          "output_type": "display_data",
          "data": {
            "text/plain": [
              "<IPython.core.display.Javascript object>"
            ],
            "application/javascript": [
              "window[\"2c8b94ce-9c70-11ef-9857-0242ac1c000c\"] = document.querySelector(\"#id126-1-0\");\n",
              "//# sourceURL=js_17f3b9eae3"
            ]
          },
          "metadata": {}
        },
        {
          "output_type": "display_data",
          "data": {
            "text/plain": [
              "<IPython.core.display.Javascript object>"
            ],
            "application/javascript": [
              "window[\"2c8c2a42-9c70-11ef-9857-0242ac1c000c\"] = google.colab.output.setActiveOutputArea(window[\"2c8b94ce-9c70-11ef-9857-0242ac1c000c\"]);\n",
              "//# sourceURL=js_9f7defbf53"
            ]
          },
          "metadata": {}
        },
        {
          "output_type": "stream",
          "name": "stdout",
          "text": [
            "w= 640 h= 480\n"
          ]
        },
        {
          "output_type": "display_data",
          "data": {
            "text/plain": [
              "<IPython.core.display.Javascript object>"
            ],
            "application/javascript": [
              "window[\"2cabf520-9c70-11ef-9857-0242ac1c000c\"] = google.colab.output.setActiveOutputArea(window[\"2c8af744-9c70-11ef-9857-0242ac1c000c\"]);\n",
              "//# sourceURL=js_4218d96e63"
            ]
          },
          "metadata": {}
        },
        {
          "output_type": "display_data",
          "data": {
            "text/plain": [
              "<IPython.core.display.Javascript object>"
            ],
            "application/javascript": [
              "window[\"2cae8a10-9c70-11ef-9857-0242ac1c000c\"] = google.colab.output.getActiveOutputArea();\n",
              "//# sourceURL=js_19b110c7a4"
            ]
          },
          "metadata": {}
        },
        {
          "output_type": "display_data",
          "data": {
            "text/plain": [
              "<IPython.core.display.Javascript object>"
            ],
            "application/javascript": [
              "window[\"2caece1c-9c70-11ef-9857-0242ac1c000c\"] = document.querySelector(\"#id126-1-1\");\n",
              "//# sourceURL=js_e8a03ac309"
            ]
          },
          "metadata": {}
        },
        {
          "output_type": "display_data",
          "data": {
            "text/plain": [
              "<IPython.core.display.Javascript object>"
            ],
            "application/javascript": [
              "window[\"2caf67f0-9c70-11ef-9857-0242ac1c000c\"] = google.colab.output.setActiveOutputArea(window[\"2caece1c-9c70-11ef-9857-0242ac1c000c\"]);\n",
              "//# sourceURL=js_ba75e18e93"
            ]
          },
          "metadata": {}
        },
        {
          "output_type": "stream",
          "name": "stdout",
          "text": [
            "w= 640 h= 480\n"
          ]
        },
        {
          "output_type": "display_data",
          "data": {
            "text/plain": [
              "<IPython.core.display.Javascript object>"
            ],
            "application/javascript": [
              "window[\"2cc8cc90-9c70-11ef-9857-0242ac1c000c\"] = google.colab.output.setActiveOutputArea(window[\"2cae8a10-9c70-11ef-9857-0242ac1c000c\"]);\n",
              "//# sourceURL=js_01ccacc361"
            ]
          },
          "metadata": {}
        },
        {
          "output_type": "display_data",
          "data": {
            "text/plain": [
              "<IPython.core.display.HTML object>"
            ],
            "text/html": [
              "<style>\n",
              "       table#id128, #id128 > tbody > tr > th, #id128 > tbody > tr > td {\n",
              "         border: 1px solid lightgray;\n",
              "         border-collapse:collapse;\n",
              "         \n",
              "        }</style>"
            ]
          },
          "metadata": {}
        },
        {
          "output_type": "display_data",
          "data": {
            "text/plain": [
              "<IPython.core.display.HTML object>"
            ],
            "text/html": [
              "<table id=id128><tr><td id=id128-0-0></td><td id=id128-0-1></td></tr><tr><td id=id128-1-0></td><td id=id128-1-1></td></tr></table>"
            ]
          },
          "metadata": {}
        },
        {
          "output_type": "display_data",
          "data": {
            "text/plain": [
              "<IPython.core.display.Javascript object>"
            ],
            "application/javascript": [
              "window[\"2ccc2a48-9c70-11ef-9857-0242ac1c000c\"] = google.colab.output.getActiveOutputArea();\n",
              "//# sourceURL=js_13aa03cbd5"
            ]
          },
          "metadata": {}
        },
        {
          "output_type": "display_data",
          "data": {
            "text/plain": [
              "<IPython.core.display.Javascript object>"
            ],
            "application/javascript": [
              "window[\"2ccc6fb2-9c70-11ef-9857-0242ac1c000c\"] = document.querySelector(\"#id128-0-0\");\n",
              "//# sourceURL=js_5f9d4e0846"
            ]
          },
          "metadata": {}
        },
        {
          "output_type": "display_data",
          "data": {
            "text/plain": [
              "<IPython.core.display.Javascript object>"
            ],
            "application/javascript": [
              "window[\"2cccb21a-9c70-11ef-9857-0242ac1c000c\"] = google.colab.output.setActiveOutputArea(window[\"2ccc6fb2-9c70-11ef-9857-0242ac1c000c\"]);\n",
              "//# sourceURL=js_73ff82ca20"
            ]
          },
          "metadata": {}
        },
        {
          "output_type": "stream",
          "name": "stdout",
          "text": [
            "w= 640 h= 480\n"
          ]
        },
        {
          "output_type": "display_data",
          "data": {
            "text/plain": [
              "<IPython.core.display.Javascript object>"
            ],
            "application/javascript": [
              "window[\"2ce8b4c4-9c70-11ef-9857-0242ac1c000c\"] = google.colab.output.setActiveOutputArea(window[\"2ccc2a48-9c70-11ef-9857-0242ac1c000c\"]);\n",
              "//# sourceURL=js_17eb76a30d"
            ]
          },
          "metadata": {}
        }
      ],
      "source": [
        "sampling_time = 180#s\n",
        "sampling_frequency = 1/100\n",
        "num_points = sampling_time*sampling_frequency\n",
        "\n",
        "p.setTimeStep(0.01)\n",
        "\n",
        "for _ in range(1000):\n",
        "    p.stepSimulation()\n",
        "    leg_position = p.getLinkState(PIPPA_id, link_name_to_index['Gamba_Link'])[0]\n",
        "    leg_positions_x.append(leg_position[0])\n",
        "    leg_positions_y.append(leg_position[1])\n",
        "    leg_position_z.append(leg_position[2])\n",
        "    grid = widgets.Grid(2, 2)\n",
        "    yaw = 0\n",
        "    for r in range(2):\n",
        "      for c in range(2):\n",
        "        yaw += 60\n",
        "        with grid.output_to(r, c):\n",
        "          grid.clear_cell()\n",
        "          pylab.figure(figsize=(10, 5))\n",
        "          pitch = -10.0\n",
        "          roll = 0\n",
        "          upAxisIndex = 2\n",
        "          camDistance = 2.5\n",
        "          pixelWidth = 640\n",
        "          pixelHeight = 480\n",
        "          nearPlane = 0.01\n",
        "          farPlane = 100\n",
        "          fov = 60\n",
        "          viewMatrix = p.computeViewMatrixFromYawPitchRoll(camTargetPos, camDistance, yaw, pitch,\n",
        "                                                                      roll, upAxisIndex)\n",
        "          aspect = pixelWidth / pixelHeight\n",
        "          projectionMatrix = p.computeProjectionMatrixFOV(fov, aspect, nearPlane, farPlane)\n",
        "\n",
        "          img_arr = p.getCameraImage(pixelWidth,pixelHeight,viewMatrix,projectionMatrix)\n",
        "          w = img_arr[0]  #width of the image, in pixels\n",
        "          h = img_arr[1]  #height of the image, in pixels\n",
        "          rgb = img_arr[2]  #color data RGB\n",
        "          dep = img_arr[3]  #depth data\n",
        "          print(\"w=\",w,\"h=\",h)\n",
        "          np_img_arr = np.reshape(rgb, (h, w, 4))\n",
        "          np_img_arr = np_img_arr * (1. / 255.)\n",
        "          pylab.imshow(np_img_arr, interpolation='none', animated=True, label=\"pybullet\")\n",
        "\n",
        ""
      ]
    },
    {
      "cell_type": "code",
      "execution_count": null,
      "metadata": {
        "id": "cVz6dx2EqvJc"
      },
      "outputs": [],
      "source": [
        "#plotting positions\n",
        "plt.figure('Leg positions')\n",
        "plt.plot(leg_positions_x, label='x')\n",
        "plt.plot(leg_positions_y, label='y')\n",
        "plt.plot(leg_position_z, label='z')\n",
        "plt.legend()\n",
        "plt.grid()\n",
        "plt.minorticks_on()\n",
        "plt.xlim(0,200)\n",
        "plt.show()"
      ]
    },
    {
      "cell_type": "code",
      "source": [
        "plt.figure('xz motion')\n",
        "plt.plot(leg_positions_x, leg_positions_y, label = 'leg1')\n",
        "plt.legend()\n",
        "plt.grid()\n",
        "plt.minorticks_on()\n",
        "plt.show()"
      ],
      "metadata": {
        "id": "IcRtXFpes1WL"
      },
      "execution_count": null,
      "outputs": []
    },
    {
      "cell_type": "code",
      "source": [
        "from mpl_toolkits.mplot3d import Axes3D\n",
        "\n",
        "fig = plt.figure('3D motion', figsize=(10, 10))\n",
        "ax = fig.add_subplot(111, projection='3d')\n",
        "ax.plot(leg_positions_x, leg_positions_y, leg_position_z, label = 'leg 1')\n",
        "plt.legend()\n",
        "plt.minorticks_on()\n",
        "plt.show()"
      ],
      "metadata": {
        "id": "ZVvGt1tusQAb"
      },
      "execution_count": null,
      "outputs": []
    },
    {
      "cell_type": "code",
      "source": [],
      "metadata": {
        "id": "s2qJJjqrrxT2"
      },
      "execution_count": 15,
      "outputs": []
    }
  ],
  "metadata": {
    "colab": {
      "toc_visible": true,
      "provenance": []
    },
    "kernelspec": {
      "display_name": "Python 3",
      "name": "python3"
    },
    "language_info": {
      "name": "python"
    }
  },
  "nbformat": 4,
  "nbformat_minor": 0
}