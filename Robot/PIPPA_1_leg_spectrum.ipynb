{
  "cells": [
    {
      "cell_type": "markdown",
      "metadata": {
        "id": "G_63GKBXnYEp"
      },
      "source": [
        "ℹ 🎐  PIP Spectrum for a single leg. For info e comment see this notebook [here](https://colab.research.google.com/drive/14xhCqPQ19MInd8xqj5F08HaDuu04neBX?hl=it#scrollTo=Ex9COCQDaQdn)"
      ]
    },
    {
      "cell_type": "code",
      "execution_count": null,
      "metadata": {
        "colab": {
          "base_uri": "https://localhost:8080/"
        },
        "id": "UIZoGqKMnLNE",
        "outputId": "bfbbd123-f5c8-4dac-f190-9875a5d84949"
      },
      "outputs": [
        {
          "output_type": "stream",
          "name": "stdout",
          "text": [
            "Collecting pybullet\n",
            "  Downloading pybullet-3.2.6-cp310-cp310-manylinux_2_17_x86_64.manylinux2014_x86_64.whl.metadata (1.8 kB)\n",
            "Downloading pybullet-3.2.6-cp310-cp310-manylinux_2_17_x86_64.manylinux2014_x86_64.whl (103.2 MB)\n",
            "\u001b[2K   \u001b[90m━━━━━━━━━━━━━━━━━━━━━━━━━━━━━━━━━━━━━━━━\u001b[0m \u001b[32m103.2/103.2 MB\u001b[0m \u001b[31m8.1 MB/s\u001b[0m eta \u001b[36m0:00:00\u001b[0m\n",
            "\u001b[?25hInstalling collected packages: pybullet\n"
          ]
        }
      ],
      "source": [
        "!pip install pybullet"
      ]
    },
    {
      "cell_type": "code",
      "execution_count": null,
      "metadata": {
        "id": "vP7ZIiaOnUk0"
      },
      "outputs": [],
      "source": [
        "#you can enable the GPU by changing the runtime\n",
        "import os\n",
        "os.environ['MESA_GL_VERSION_OVERRIDE'] = '3.3'\n",
        "os.environ['MESA_GLSL_VERSION_OVERRIDE'] = '330'\n",
        "import pybullet as p\n",
        "import pybullet_data as pd\n",
        "import numpy as np\n",
        "import matplotlib.pyplot as plt\n",
        "%matplotlib inline\n",
        "from matplotlib import pylab\n",
        "from google.colab import widgets\n",
        "import random\n",
        "import time\n",
        "\n",
        "p.connect(p.DIRECT)\n",
        "#allow to find the assets (URDF, obj, textures etc)\n",
        "p.setAdditionalSearchPath(pd.getDataPath())\n",
        "\n",
        "#optionally enable GPU for faster rendering in pybullet.getCameraImage\n",
        "enableGPU = False\n",
        "!ln -sf /opt/bin/nvidia-smi /usr/bin/nvidia-smi\n",
        "!pip install gputil\n",
        "import GPUtil as GPU\n",
        "import sys\n",
        "# Get all device ids and their processing and memory utiliazion\n",
        "# (deviceIds, gpuUtil, memUtil) = GPU.getGPUs()\n",
        "\n",
        "# Print os and python version information\n",
        "print('OS: ' + sys.platform)\n",
        "print(sys.version)\n",
        "\n",
        "# Print package name and version number\n",
        "print(GPU.__name__ + ' ' + GPU.__version__)\n",
        "\n",
        "# Show the utilization of all GPUs in a nice table\n",
        "GPU.showUtilization()\n",
        "\n",
        "# Show all stats of all GPUs in a nice table\n",
        "GPU.showUtilization(all=True)\n",
        "\n",
        "# NOTE: If all your GPUs currently have a memory consumption larger than 1%,\n",
        "# this step will fail. It's not a bug! It is intended to do so, if it does not\n",
        "# find an available GPU.\n",
        "GPUs = GPU.getGPUs()\n",
        "numGPUs = len(GPU.getGPUs())\n",
        "print(\"numGPUs=\",numGPUs)\n",
        "if numGPUs > 0:\n",
        "  enableGPU = True\n",
        "eglPluginId = -1\n",
        "if enableGPU:\n",
        "  import pkgutil\n",
        "  egl = pkgutil.get_loader('eglRenderer')\n",
        "  if (egl):\n",
        "    eglPluginId = p.loadPlugin(egl.get_filename(), \"_eglRendererPlugin\")\n",
        "  else:\n",
        "    eglPluginId = p.loadPlugin(\"eglRendererPlugin\")\n",
        "\n",
        "if eglPluginId>=0:\n",
        "  print(\"Using GPU hardware (eglRenderer)\")\n",
        "else:\n",
        "  print(\"using CPU renderer (TinyRenderer)\")"
      ]
    },
    {
      "cell_type": "code",
      "execution_count": null,
      "metadata": {
        "id": "MyTiY3nAnU3l"
      },
      "outputs": [],
      "source": [
        "!git clone https://github.com/Gaianeve/Real_Mega_Fufi.git"
      ]
    },
    {
      "cell_type": "code",
      "execution_count": null,
      "metadata": {
        "id": "Itkhmjvyn0Db"
      },
      "outputs": [],
      "source": [
        "%cd Real_Mega_Fufi/Robot/1LegTrail/"
      ]
    },
    {
      "cell_type": "code",
      "execution_count": null,
      "metadata": {
        "id": "UCqqKpCBn6Mi"
      },
      "outputs": [],
      "source": [
        "##!! THIS IS THE RIGHT ORDER, DO NOT TOUCH IT OTHERWISE SIMULATION WONT WORK\n",
        "#reset simulation\n",
        "p.resetSimulation()\n",
        "p.configureDebugVisualizer(p.COV_ENABLE_GUI)\n",
        "#tell him to slide freely on the ground plane\n",
        "useFixedBase = False\n",
        "flags = p.URDF_INITIALIZE_SAT_FEATURES\n",
        "\n",
        "plane_pos = [0,0,-0.1]\n",
        "plane = p.loadURDF(\"plane.urdf\", plane_pos, flags = flags, useFixedBase=useFixedBase)\n",
        "\n",
        "# position of the base of the model\n",
        "PIP_position = [0,0,0.1]\n",
        "orientation  = [0,0,0]\n",
        "PIP_orientation = p.getQuaternionFromEuler(orientation)\n",
        "PIPPA_id = p.loadURDF(\"PIPPA_oneleg.urdf\",basePosition = PIP_position,baseOrientation = PIP_orientation,\\\n",
        "                      useFixedBase=useFixedBase)\n"
      ]
    },
    {
      "cell_type": "code",
      "execution_count": null,
      "metadata": {
        "id": "v5WKXa8WoCIP"
      },
      "outputs": [],
      "source": [
        "link_name_to_index = {p.getBodyInfo(PIPPA_id)[0].decode('UTF-8'):-1,}\n",
        "\n",
        "for id in range(p.getNumJoints(PIPPA_id)):\n",
        "  name = p.getJointInfo(PIPPA_id, id)[12].decode('UTF-8')\n",
        "  link_name_to_index[name] = id\n",
        "\n",
        "print(link_name_to_index)"
      ]
    },
    {
      "cell_type": "code",
      "execution_count": null,
      "metadata": {
        "id": "tPdkah8AoJL_"
      },
      "outputs": [],
      "source": [
        "# AL 6082 (Alluminio)\n",
        "lateralFriction_Al = 0.3\n",
        "restitution_Al = 0.2\n",
        "rollingFriction_Al = 0.001\n",
        "spinningFriction_Al = 0.01\n",
        "linearDamping_Al = 0.04\n",
        "angularDamping_Al = 0.1\n",
        "contactStiffness_Al = 3e6\n",
        "contactDamping_Al = 800\n",
        "\n",
        "# AISI 304 (Acciaio Inox)\n",
        "lateralFriction_AISI = 0.4\n",
        "restitution_AISI = 0.1\n",
        "rollingFriction_AISI = 0.001\n",
        "spinningFriction_AISI= 0.05\n",
        "linearDamping_AISI = 0.03\n",
        "angularDamping_AISI = 0.1\n",
        "contactStiffness_AISI = 8e6\n",
        "contactDamping_AISI = 1500\n",
        "\n",
        "# Acciaio Maraging (Maragià per gli amici)\n",
        "lateralFriction_Mar = 0.3\n",
        "restitution_Mar = 0.2\n",
        "rollingFriction_Mar = 0.001\n",
        "spinningFriction_Mar = 0.02\n",
        "linearDamping_Mar = 0.04\n",
        "angularDamping_Mar = 0.15\n",
        "contactStiffness_Mar = 3e6\n",
        "contactDamping_Mar = 800"
      ]
    },
    {
      "cell_type": "code",
      "execution_count": null,
      "metadata": {
        "id": "XKX5idRnoPS4"
      },
      "outputs": [],
      "source": [
        "link_indices_Al = link_name_to_index['Gamba_Link']\n",
        "\n",
        "link_indices_AISI = link_name_to_index['Link_colonna']\n",
        "\n",
        "link_indices_Mar = link_name_to_index['Giunto_Link']\n",
        "\n",
        "# Al 6082\n",
        "\n",
        "p.changeDynamics(PIPPA_id, link_indices_Al, lateralFriction=lateralFriction_Al,\\\n",
        "                  restitution=restitution_Al, \\\n",
        "                  spinningFriction= spinningFriction_Al, rollingFriction= rollingFriction_Al,\\\n",
        "                  linearDamping=linearDamping_Al, angularDamping=angularDamping_Al,\\\n",
        "                  contactStiffness = contactStiffness_Al,contactDamping = contactDamping_Al)\n",
        "# AISI 304\n",
        "\n",
        "p.changeDynamics(PIPPA_id, link_indices_AISI, lateralFriction=lateralFriction_AISI,\\\n",
        "                  restitution=restitution_AISI, \\\n",
        "                  spinningFriction= spinningFriction_AISI, rollingFriction= rollingFriction_AISI,\\\n",
        "                  linearDamping=linearDamping_AISI, angularDamping=angularDamping_AISI,\\\n",
        "                  contactStiffness = contactStiffness_AISI, contactDamping = contactDamping_AISI)\n",
        "# Maragià\n",
        "\n",
        "p.changeDynamics(PIPPA_id, link_indices_Mar, lateralFriction=lateralFriction_Mar,\\\n",
        "                  restitution=restitution_Mar, \\\n",
        "                  spinningFriction= spinningFriction_Mar, rollingFriction= rollingFriction_Mar,\\\n",
        "                  linearDamping=linearDamping_Mar, angularDamping=angularDamping_Mar,\\\n",
        "                  contactStiffness = contactStiffness_Mar, contactDamping = contactDamping_Mar)"
      ]
    },
    {
      "cell_type": "code",
      "execution_count": null,
      "metadata": {
        "id": "VfNDT5JnojE0"
      },
      "outputs": [],
      "source": [
        "camTargetPos = [0, 0, 0]\n",
        "cameraUp = [0, 0, 1]\n",
        "cameraPos = [1, 1, 1]\n",
        "p.setGravity(0, 0, -10)\n",
        "from google.colab import widgets\n",
        "import numpy as np\n",
        "import random\n",
        "import time\n",
        "from matplotlib import pylab\n",
        "grid = widgets.Grid(2, 2)\n",
        "yaw = 0\n",
        "for r in range(2):\n",
        "  for c in range(2):\n",
        "    yaw += 60\n",
        "    with grid.output_to(r, c):\n",
        "      grid.clear_cell()\n",
        "      pylab.figure(figsize=(10, 5))\n",
        "      pitch = -10.0\n",
        "      roll = 0\n",
        "      upAxisIndex = 2\n",
        "      camDistance = 2.5\n",
        "      pixelWidth = 640\n",
        "      pixelHeight = 480\n",
        "      nearPlane = 0.01\n",
        "      farPlane = 100\n",
        "      fov = 60\n",
        "      viewMatrix = p.computeViewMatrixFromYawPitchRoll(camTargetPos, camDistance, yaw, pitch,\n",
        "                                                                  roll, upAxisIndex)\n",
        "      aspect = pixelWidth / pixelHeight\n",
        "      projectionMatrix = p.computeProjectionMatrixFOV(fov, aspect, nearPlane, farPlane)\n",
        "\n",
        "      img_arr = p.getCameraImage(pixelWidth,pixelHeight,viewMatrix,projectionMatrix)\n",
        "      w = img_arr[0]  #width of the image, in pixels\n",
        "      h = img_arr[1]  #height of the image, in pixels\n",
        "      rgb = img_arr[2]  #color data RGB\n",
        "      dep = img_arr[3]  #depth data\n",
        "      print(\"w=\",w,\"h=\",h)\n",
        "      np_img_arr = np.reshape(rgb, (h, w, 4))\n",
        "      np_img_arr = np_img_arr * (1. / 255.)\n",
        "      pylab.imshow(np_img_arr, interpolation='none', animated=True, label=\"pybullet\")\n"
      ]
    },
    {
      "cell_type": "code",
      "execution_count": null,
      "metadata": {
        "id": "7aHiEsDWo0iU"
      },
      "outputs": [],
      "source": [
        "column_position, _  = p.getBasePositionAndOrientation(PIPPA_id)\n",
        "print('Column:', column_position)\n",
        "\n",
        "joint_position = p.getLinkState(PIPPA_id, link_name_to_index['Giunto_Link'])[0]\n",
        "print('Joint:', joint_position)\n"
      ]
    },
    {
      "cell_type": "code",
      "source": [
        "leg_position = p.getLinkState(PIPPA_id, link_name_to_index['Gamba_Link'])[0]\n",
        "print('Leg:', leg_position)"
      ],
      "metadata": {
        "id": "a7tEb8FTJU0o"
      },
      "execution_count": null,
      "outputs": []
    },
    {
      "cell_type": "code",
      "execution_count": null,
      "metadata": {
        "id": "UhV5KU1OpuxF"
      },
      "outputs": [],
      "source": [
        "#Force to be applied\n",
        "force_module = np.array([0.01,0,0])\n",
        "force_position = np.array([0,0,0.05])\n",
        "\n",
        "p.applyExternalForce(\n",
        "    objectUniqueId=PIPPA_id,linkIndex = link_name_to_index['Link_colonna'],forceObj=force_module, \\\n",
        "    posObj=force_position, flags=p.WORLD_FRAME)\n",
        "\n",
        "leg_positions_x, leg_positions_y, leg_position_z = [], [], []"
      ]
    },
    {
      "cell_type": "code",
      "execution_count": null,
      "metadata": {
        "id": "2_kqNTyyqFul"
      },
      "outputs": [],
      "source": [
        "\n",
        "simulation_time =180\n",
        "\n",
        "sampling_frequency = 1/100\n",
        "num_points = simulation_time*sampling_frequency\n",
        "\n",
        "p.setTimeStep(0.001)\n",
        "\n",
        "for step in range(10000):\n",
        "    p.stepSimulation()\n",
        "    leg_position = p.getLinkState(PIPPA_id, link_name_to_index['Gamba_Link'])[0]\n",
        "    leg_positions_x.append(leg_position[0])\n",
        "    leg_positions_y.append(leg_position[1])\n",
        "    leg_position_z.append(leg_position[2])"
      ]
    },
    {
      "cell_type": "code",
      "execution_count": null,
      "metadata": {
        "id": "cVz6dx2EqvJc"
      },
      "outputs": [],
      "source": [
        "#plotting positions\n",
        "plt.figure('Leg positions')\n",
        "plt.plot(leg_positions_x, label='x')\n",
        "plt.plot(leg_positions_y, label='y')\n",
        "plt.plot(leg_position_z, label='z')\n",
        "plt.legend()\n",
        "plt.grid()\n",
        "plt.minorticks_on()\n",
        "#plt.xlim(0,500)\n",
        "plt.show()"
      ]
    },
    {
      "cell_type": "code",
      "source": [
        "\n",
        "plt.figure('xz motion')\n",
        "plt.plot(leg_positions_x, leg_positions_y, label = 'leg1')\n",
        "plt.legend()\n",
        "plt.grid()\n",
        "plt.minorticks_on()\n",
        "plt.show()"
      ],
      "metadata": {
        "id": "IcRtXFpes1WL"
      },
      "execution_count": null,
      "outputs": []
    },
    {
      "cell_type": "code",
      "source": [
        "from mpl_toolkits.mplot3d import Axes3D\n",
        "\n",
        "fig = plt.figure('3D motion', figsize=(10, 10))\n",
        "ax = fig.add_subplot(111, projection='3d')\n",
        "ax.plot(leg_positions_x, leg_positions_y, leg_position_z, label = 'leg 1')\n",
        "plt.legend()\n",
        "plt.minorticks_on()\n",
        "plt.show()"
      ],
      "metadata": {
        "id": "ZVvGt1tusQAb"
      },
      "execution_count": null,
      "outputs": []
    },
    {
      "cell_type": "code",
      "source": [
        "leg_position_z[0:10]"
      ],
      "metadata": {
        "id": "s2qJJjqrrxT2",
        "colab": {
          "base_uri": "https://localhost:8080/"
        },
        "outputId": "07d89543-df13-4a09-b051-3b99dab47467"
      },
      "execution_count": 15,
      "outputs": [
        {
          "output_type": "execute_result",
          "data": {
            "text/plain": [
              "[0.7175,\n",
              " 0.7164999999999369,\n",
              " 0.7145004399997672,\n",
              " 0.7115018397530997,\n",
              " 0.7075047986105625,\n",
              " 0.7025099953378924,\n",
              " 0.6965181879088154,\n",
              " 0.6895302132728552,\n",
              " 0.6815469870982247,\n",
              " 0.6725695034899652]"
            ]
          },
          "metadata": {},
          "execution_count": 15
        }
      ]
    },
    {
      "cell_type": "code",
      "source": [],
      "metadata": {
        "id": "RSbGDRtuLkhl"
      },
      "execution_count": null,
      "outputs": []
    }
  ],
  "metadata": {
    "colab": {
      "provenance": [],
      "toc_visible": true
    },
    "kernelspec": {
      "display_name": "Python 3",
      "name": "python3"
    },
    "language_info": {
      "name": "python"
    }
  },
  "nbformat": 4,
  "nbformat_minor": 0
}