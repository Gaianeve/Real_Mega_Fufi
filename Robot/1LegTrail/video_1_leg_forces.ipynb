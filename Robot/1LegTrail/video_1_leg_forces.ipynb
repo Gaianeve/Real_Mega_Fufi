{
  "nbformat": 4,
  "nbformat_minor": 0,
  "metadata": {
    "colab": {
      "provenance": [],
      "toc_visible": true
    },
    "kernelspec": {
      "name": "python3",
      "display_name": "Python 3"
    },
    "language_info": {
      "name": "python"
    }
  },
  "cells": [
    {
      "cell_type": "code",
      "execution_count": 1,
      "metadata": {
        "id": "qrfBHBKPVG_W",
        "colab": {
          "base_uri": "https://localhost:8080/"
        },
        "outputId": "b03ca3cc-70a9-475f-9f3b-5204145b9370"
      },
      "outputs": [
        {
          "output_type": "stream",
          "name": "stdout",
          "text": [
            "Collecting pybullet\n",
            "  Downloading pybullet-3.2.6-cp311-cp311-manylinux_2_17_x86_64.manylinux2014_x86_64.whl.metadata (1.8 kB)\n",
            "Requirement already satisfied: imageio-ffmpeg in /usr/local/lib/python3.11/dist-packages (0.5.1)\n",
            "Requirement already satisfied: setuptools in /usr/local/lib/python3.11/dist-packages (from imageio-ffmpeg) (75.1.0)\n",
            "Downloading pybullet-3.2.6-cp311-cp311-manylinux_2_17_x86_64.manylinux2014_x86_64.whl (103.2 MB)\n",
            "\u001b[2K   \u001b[90m━━━━━━━━━━━━━━━━━━━━━━━━━━━━━━━━━━━━━━━━\u001b[0m \u001b[32m103.2/103.2 MB\u001b[0m \u001b[31m4.6 MB/s\u001b[0m eta \u001b[36m0:00:00\u001b[0m\n",
            "\u001b[?25hInstalling collected packages: pybullet\n",
            "Successfully installed pybullet-3.2.6\n"
          ]
        }
      ],
      "source": [
        "!pip install pybullet imageio-ffmpeg\n",
        "\n",
        "import os\n",
        "import time\n",
        "import math\n",
        "import numpy as np\n",
        "from PIL import Image\n",
        "import matplotlib.pyplot as plt\n",
        "import pybullet as p\n",
        "import pybullet_data\n",
        "import cv2\n",
        "import imageio_ffmpeg\n",
        "from base64 import b64encode\n",
        "from IPython.display import HTML"
      ]
    },
    {
      "cell_type": "code",
      "source": [
        "!git clone https://github.com/Gaianeve/Real_Mega_Fufi.git\n",
        "%cd Real_Mega_Fufi/Robot/1LegTrail/"
      ],
      "metadata": {
        "id": "CIediYkyVURI",
        "colab": {
          "base_uri": "https://localhost:8080/"
        },
        "outputId": "c3486522-8df6-4945-c006-f0a604567546"
      },
      "execution_count": 2,
      "outputs": [
        {
          "output_type": "stream",
          "name": "stdout",
          "text": [
            "Cloning into 'Real_Mega_Fufi'...\n",
            "remote: Enumerating objects: 1480, done.\u001b[K\n",
            "remote: Counting objects: 100% (373/373), done.\u001b[K\n",
            "remote: Compressing objects: 100% (171/171), done.\u001b[K\n",
            "remote: Total 1480 (delta 351), reused 202 (delta 202), pack-reused 1107 (from 1)\u001b[K\n",
            "Receiving objects: 100% (1480/1480), 24.01 MiB | 14.88 MiB/s, done.\n",
            "Resolving deltas: 100% (981/981), done.\n",
            "/content/Real_Mega_Fufi/Robot/1LegTrail\n"
          ]
        }
      ]
    },
    {
      "cell_type": "code",
      "source": [
        "import numpy as np\n",
        "import imageio_ffmpeg\n",
        "import pybullet as p\n",
        "import math\n",
        "\n",
        "# Configura la simulazione e la fotocamera\n",
        "p.connect(p.DIRECT)  # Usa la modalità senza GUI per evitare un impatto sulle prestazioni\n",
        "p.resetSimulation() # Lui va chiamato la mattina appena apri il computer\n",
        "p.setGravity(0, 0, -9.81)\n",
        "# Aggiungi il percorso dei dati PyBullet\n",
        "p.setAdditionalSearchPath(pybullet_data.getDataPath())"
      ],
      "metadata": {
        "id": "C9IxufaWVqkY"
      },
      "execution_count": 3,
      "outputs": []
    },
    {
      "cell_type": "code",
      "source": [
        "plane_pos = [0,0,0]\n",
        "plane = p.loadURDF(\"plane.urdf\", plane_pos, useFixedBase=True)\n",
        "\n",
        "# position of the base of the model\n",
        "PIP_position = [0,0,0]\n",
        "orientation  = [0,0,0]\n",
        "PIP_orientation = p.getQuaternionFromEuler(orientation)\n",
        "PIP_id = p.loadURDF(\"oneleg.urdf\", basePosition = PIP_position, baseOrientation = PIP_orientation, \\\n",
        "                      useFixedBase=False)\n",
        "\n",
        "#rimettiamo il centro di mass aper sicurezza\n",
        "p.resetBasePositionAndOrientation(PIP_id, [0, 0, 0.1], [0, 0, 0, 1])\n",
        "\n"
      ],
      "metadata": {
        "id": "xTmD06WhVf2f"
      },
      "execution_count": 10,
      "outputs": []
    },
    {
      "cell_type": "code",
      "source": [
        "#try setting il motore fisico\n",
        "p.setPhysicsEngineParameter(\n",
        "    fixedTimeStep=1/240,\n",
        "    numSolverIterations=100,\n",
        "    contactERP=0.2\n",
        ")\n"
      ],
      "metadata": {
        "id": "5GPRDwaZBB3a"
      },
      "execution_count": 11,
      "outputs": []
    },
    {
      "cell_type": "code",
      "source": [
        "#change colors\n",
        "p.changeVisualShape(PIP_id, -1, rgbaColor=[1, 0.65, 0, 1]) #terreno arancione\n",
        "p.changeVisualShape(PIP_id, 0, rgbaColor=[0.5, 1, 0.5, 1]) #colonna verdino\n",
        "p.changeVisualShape(PIP_id, 1, rgbaColor=[0.5, 0.8, 1, 1]) #colonna azzurrino"
      ],
      "metadata": {
        "id": "6BqCwYmUbinq"
      },
      "execution_count": 12,
      "outputs": []
    },
    {
      "cell_type": "code",
      "source": [
        "link_name_to_index = {p.getBodyInfo(PIP_id)[0].decode('UTF-8'):-1,}\n",
        "\n",
        "for id in range(p.getNumJoints(PIP_id)):\n",
        "  name = p.getJointInfo(PIP_id, id)[12].decode('UTF-8')\n",
        "  link_name_to_index[name] = id\n",
        "\n",
        "#proviamo a mettere dell'attrito per farlo stare fermo\n",
        "p.changeDynamics(PIP_id, -1, linearDamping=0.04, angularDamping=0.01, restitution = 0)\n",
        "p.changeDynamics(PIP_id, -1, lateralFriction=0.8, spinningFriction=0.3, rollingFriction=0.1)"
      ],
      "metadata": {
        "id": "p0WviiOdV3D_"
      },
      "execution_count": 13,
      "outputs": []
    },
    {
      "cell_type": "code",
      "source": [
        "#get initial position (rest)\n",
        "column_position, _ = p.getBasePositionAndOrientation(PIP_id)\n",
        "#externale force due to seismic motion\n",
        "force_position = column_position\n",
        "\n",
        "#joint initial orientation and coordinate\n",
        "joint_position, orientation = p.getLinkState(PIP_id, 0)[0:2]\n",
        "joint_orientation = p.getEulerFromQuaternion(orientation)\n",
        "theta_x_rest_joint = joint_orientation[0]\n",
        "theta_y_rest_joint = joint_orientation[1]\n",
        "\n",
        "\n",
        "#elastic force:\n",
        "def spring(theta_x_now, theta_y_now, theta_x_rest, theta_y_rest):\n",
        "  force_module_x = -1800*0.08*(theta_x_now - theta_x_rest)\n",
        "  force_module_y =  -1800*0.08*(theta_y_now - theta_y_rest)\n",
        "  return force_module_x, force_module_y"
      ],
      "metadata": {
        "id": "CnmaDuc7M_4U"
      },
      "execution_count": 14,
      "outputs": []
    },
    {
      "cell_type": "code",
      "source": [
        "\n",
        "# Parametri della fotocamera\n",
        "cam_target_pos = [0, 0, 0]\n",
        "cam_distance = 2\n",
        "cam_yaw, cam_pitch, cam_roll = 50, -30.0, 0\n",
        "cam_width, cam_height = 480, 360\n",
        "cam_up_axis_idx = 2\n",
        "cam_fov = 60\n",
        "cam_near_plane, cam_far_plane = 0.01, 100\n",
        "\n",
        "# Imposta la registrazione del video\n",
        "vid = imageio_ffmpeg.write_frames('simulation_output.mp4', (cam_width, cam_height), fps=30)\n",
        "vid.send(None)  # Inizializza con un fotogramma vuoto\n",
        "p.stepSimulation()  # Avanza di un passo nella simulazione"
      ],
      "metadata": {
        "id": "lgiu-Z68WGnL",
        "colab": {
          "base_uri": "https://localhost:8080/"
        },
        "outputId": "69f79423-7fc2-4186-8941-d9f63cd38e59"
      },
      "execution_count": 15,
      "outputs": [
        {
          "output_type": "stream",
          "name": "stderr",
          "text": [
            "WARNING:imageio_ffmpeg:IMAGEIO FFMPEG_WRITER WARNING: input image is not divisible by macro_block_size=16, resizing from (480, 360) to (480, 368) to ensure video compatibility with most codecs and players. To prevent resizing, make your input image divisible by the macro_block_size or set the macro_block_size to 1 (risking incompatibility).\n"
          ]
        },
        {
          "output_type": "execute_result",
          "data": {
            "text/plain": [
              "()"
            ]
          },
          "metadata": {},
          "execution_count": 15
        }
      ]
    },
    {
      "cell_type": "code",
      "source": [
        "# Liste per registrare le posizioni\n",
        "leg_positions_x, leg_positions_y, leg_position_z = [], [], []\n",
        "joint_positions_x, joint_positions_y, joint_position_z = [], [], []\n",
        "column_positions_x, column_positions_y, column_positions_z = [], [], []\n",
        "\n",
        "#liste per la variazione di posizione\n",
        "delta_x_leg, delta_y_leg = [],[]\n",
        "delta_x_joint, delta_y_joint = [],[]\n",
        "delta_x_column, delta_y_column = [],[]\n",
        "\n",
        "#lista per le forze\n",
        "force_x_column, force_y_column = [],[]\n",
        "force_x_leg, force_y_leg = [],[]\n",
        "force_x_joint, force_y_joint = [],[]\n",
        "theta_joint_x, theta_joint_y = [],[]\n",
        "force_module_botta = []"
      ],
      "metadata": {
        "id": "ElFCNSIrs41P"
      },
      "execution_count": 16,
      "outputs": []
    },
    {
      "cell_type": "code",
      "source": [
        "# Ciclo principale della simulazione\n",
        "# Loop di simulazione\n",
        "for step in range(50000):\n",
        "  # Determinare la forza in base allo step\n",
        "  if  220 <= step < 460:\n",
        "      force_module = np.array([4e-8, 0, 0])  # Nessuna forza\n",
        "  elif 462 <= step < 702:\n",
        "      force_module = np.array([-4e-8, 0, 0])  # Forza negativa\n",
        "  #elif 6 <= step < 7:\n",
        "      #force_module = np.array([0, 0, 0])  # Nessuna forza\n",
        "  #elif 7 <= step < 8:\n",
        "      #force_module = np.array([0.000005, 0, 0])  # Forza positiva\n",
        "  else:\n",
        "      force_module = np.array([0, 0, 0])  # Nessuna forza\n",
        "  # Applicare la forza al sistema\n",
        "  p.applyExternalForce(\n",
        "      objectUniqueId=PIP_id,\n",
        "      linkIndex=-1,\n",
        "      forceObj=force_module,\n",
        "      posObj=force_position,\n",
        "      flags=p.WORLD_FRAME\n",
        "  )\n",
        "\n",
        "\n",
        "  # Salva il modulo della forza per il grafico\n",
        "  force_module_botta.append(force_module[0])\n",
        "\n",
        "  #elastic force on the joint\n",
        "  elastic_force_x_joint, elastic_force_y_joint = spring(joint_orientation[0], \\\n",
        "                                                        joint_orientation[1], \\\n",
        "                                                        theta_x_rest_joint, \\\n",
        "                                                        theta_y_rest_joint )\n",
        "\n",
        "  elastic_force_joint = [elastic_force_x_joint, elastic_force_y_joint,0]\n",
        "  force_x_joint.append(elastic_force_x_joint)\n",
        "  force_y_joint.append(elastic_force_y_joint)\n",
        "\n",
        "  #elastic force on joint\n",
        "  p.applyExternalForce(\n",
        "      objectUniqueId= PIP_id,\n",
        "      linkIndex=0,\n",
        "      forceObj=elastic_force_joint,\n",
        "      posObj=joint_position,\n",
        "      flags=p.WORLD_FRAME\n",
        "    )\n",
        "\n",
        "  #get new positions\n",
        "  leg_position, _ = p.getLinkState(PIP_id,1)[0:2]\n",
        "  leg_positions_x.append(leg_position[0])\n",
        "  leg_positions_y.append(leg_position[1])\n",
        "  leg_position_z.append(leg_position[2])\n",
        "\n",
        "  #column position\n",
        "  column_position, _ = p.getBasePositionAndOrientation(PIP_id)\n",
        "  column_positions_x.append(column_position[0])\n",
        "  column_positions_y.append(column_position[1])\n",
        "  column_positions_z.append(column_position[2])\n",
        "\n",
        "  #joint position\n",
        "  joint_position, orientation = p.getLinkState(PIP_id,0)[0:2]\n",
        "  joint_positions_x.append(joint_position[0])\n",
        "  joint_positions_y.append(joint_position[1])\n",
        "  joint_position_z.append(joint_position[2])\n",
        "\n",
        "  joint_orientation = p.getEulerFromQuaternion(orientation)\n",
        "  theta_joint_x.append(joint_orientation[0])\n",
        "  theta_joint_y.append(joint_orientation[1])\n",
        "\n",
        "  # Aggiorna il video\n",
        "  # Calcola la vista e la proiezione della fotocamera\n",
        "  cam_view_matrix = p.computeViewMatrixFromYawPitchRoll(\n",
        "      cam_target_pos, cam_distance, cam_yaw, cam_pitch, cam_roll, cam_up_axis_idx\n",
        "  )\n",
        "  cam_projection_matrix = p.computeProjectionMatrixFOV(\n",
        "      cam_fov, cam_width / cam_height, cam_near_plane, cam_far_plane\n",
        "  )\n",
        "\n",
        "  # Cattura l'immagine\n",
        "  image = p.getCameraImage(cam_width, cam_height, cam_view_matrix, cam_projection_matrix)[2][:, :, :3]\n",
        "\n",
        "  # Scrivi il fotogramma nel video\n",
        "  vid.send(np.ascontiguousarray(image))\n",
        "\n",
        "  p.stepSimulation()  # Avanza di un passo nella simulazione\n",
        "\n",
        "# Rilascia le risorse video\n",
        "vid.close()\n",
        "# Disconnessione dalla simulazione\n",
        "p.disconnect()"
      ],
      "metadata": {
        "id": "Rj636ULSVxzc"
      },
      "execution_count": null,
      "outputs": []
    },
    {
      "cell_type": "code",
      "source": [
        "# Ora visualizziamo il video registrato nel notebook\n",
        "mp4 = open('simulation_output.mp4', 'rb').read()  # Leggi il file video\n",
        "data_url = \"data:video/mp4;base64,\" + b64encode(mp4).decode()  # Convertilo in Base64\n",
        "\n",
        "# Visualizza il video nel notebook Jupyter\n",
        "HTML('<video width=480 controls><source src=\"%s\" type=\"video/mp4\"></video>' % data_url)"
      ],
      "metadata": {
        "id": "aKcYJPaQW5zM"
      },
      "execution_count": null,
      "outputs": []
    },
    {
      "cell_type": "code",
      "source": [
        "##plotting positions\n",
        "plt.figure('Leg positions',  figsize = (12,7))\n",
        "plt.plot(leg_positions_x, label='x')\n",
        "plt.plot(leg_positions_y, label='y')\n",
        "plt.xlabel('Simulation step')\n",
        "plt.ylabel('Leg Position [m]')\n",
        "plt.legend()\n",
        "plt.grid()\n",
        "plt.minorticks_on()\n",
        "#plt.ylim(leg_positions_x[0],0.6e-13)\n",
        "plt.xlim(0,50000)\n",
        "#print(leg_positions_x[0])\n",
        "plt.show()"
      ],
      "metadata": {
        "id": "dHNYHWC8WgbO"
      },
      "execution_count": null,
      "outputs": []
    },
    {
      "cell_type": "code",
      "source": [
        "##plotting positions\n",
        "plt.figure('Leg positions',  figsize = (15,7))\n",
        "plt.plot(leg_position_z[100:340], label='z')\n",
        "plt.xlabel('Simulation step')\n",
        "plt.ylabel('Leg Position [m]')\n",
        "plt.legend()\n",
        "plt.grid()\n",
        "plt.minorticks_on()\n",
        "#plt.xlim(0,240)\n",
        "min_plot = min(leg_position_z[100:340]) - 0.9e-14\n",
        "max_plot = max(leg_position_z[100:340]) + 0.9e-14\n",
        "#plt.ylim(0.6184900000818735,0.6184900000818800)\n",
        "plt.show()"
      ],
      "metadata": {
        "id": "K1mzid4EpW-m"
      },
      "execution_count": null,
      "outputs": []
    },
    {
      "cell_type": "code",
      "source": [
        "print(min(leg_position_z[100:340]))\n",
        "print(max(leg_position_z[100:340]))"
      ],
      "metadata": {
        "id": "IPj3Va7v2Yfw"
      },
      "execution_count": null,
      "outputs": []
    },
    {
      "cell_type": "code",
      "source": [
        "\n",
        "#plot column positions\n",
        "plt.figure('column', figsize = (12,7))\n",
        "#plt.plot(column_positions_x, label='x')\n",
        "#plt.plot( column_positions_y, label='y')\n",
        "plt.plot(column_positions_z[100:340], label='z')\n",
        "plt.xlabel('Simulation step')\n",
        "plt.ylabel('column Position [m]')\n",
        "plt.legend()\n",
        "plt.grid()\n",
        "plt.minorticks_on()\n",
        "#plt.xlim(0,240)\n",
        "min_plot = min(column_positions_z[100:340]) - 1e-16\n",
        "max_plot = max(column_positions_z[100:340]) + 1e-16\n",
        "#plt.ylim(min_plot, max_plot)\n",
        "plt.show()"
      ],
      "metadata": {
        "id": "FR627lwFSDks"
      },
      "execution_count": null,
      "outputs": []
    },
    {
      "cell_type": "code",
      "source": [
        "#proviamo a verificare che stia fermo a botte di 240\n",
        "print(min(column_positions_z[100:340]))\n",
        "print(max(column_positions_z[100:340]))"
      ],
      "metadata": {
        "id": "PiQ4B3UhlD1a"
      },
      "execution_count": null,
      "outputs": []
    },
    {
      "cell_type": "code",
      "source": [
        "#plot elastic forces applied\n",
        "plt.figure('Theta joint', figsize = (12,7))\n",
        "plt.plot(theta_joint_y, label='y')\n",
        "plt.xlabel('Simulation step')\n",
        "plt.ylabel('Joint angular postion [rad]')\n",
        "plt.legend()\n",
        "plt.grid()\n",
        "#plt.ylim(theta_joint_y[0],9e-14)\n",
        "#plt.xlim(0,10000)\n",
        "plt.minorticks_on()"
      ],
      "metadata": {
        "id": "C-ejbn0DSDnz"
      },
      "execution_count": null,
      "outputs": []
    },
    {
      "cell_type": "code",
      "source": [
        "#plot elastic forces applied\n",
        "plt.figure('Theta joint', figsize=(12,7))\n",
        "plt.plot(theta_joint_x, label='x')\n",
        "plt.xlabel('Simulation step')\n",
        "plt.ylabel('Joint angular postion [rad]')\n",
        "plt.legend()\n",
        "plt.grid()\n",
        "#plt.ylim(-1e-15,3e-15)\n",
        "#plt.xlim(300,400)\n",
        "plt.minorticks_on()"
      ],
      "metadata": {
        "id": "w0wBTI-1y-pC"
      },
      "execution_count": null,
      "outputs": []
    },
    {
      "cell_type": "code",
      "source": [
        "print(theta_joint_y[1])\n",
        "print(theta_joint_y[0])"
      ],
      "metadata": {
        "id": "1NUlm9fv5svB"
      },
      "execution_count": null,
      "outputs": []
    },
    {
      "cell_type": "code",
      "source": [
        "plt.figure('elastic force joint')\n",
        "plt.plot(force_x_joint, label='x')\n",
        "#plt.plot(force_y_joint, label='y')\n",
        "plt.xlabel('Simulation step')\n",
        "plt.ylabel('elastic force on the joint [N]')\n",
        "plt.legend()\n",
        "plt.grid()\n",
        "plt.minorticks_on()\n",
        "#plt.xlim(50,1500)"
      ],
      "metadata": {
        "id": "EX3z__sohzXm"
      },
      "execution_count": null,
      "outputs": []
    },
    {
      "cell_type": "code",
      "source": [
        "plt.figure('force module')\n",
        "plt.plot(force_module_botta, label='x')\n",
        "plt.xlabel('Simulation step')\n",
        "plt.ylabel('force module [N]')\n",
        "plt.legend()\n",
        "plt.grid()\n",
        "plt.minorticks_on()\n"
      ],
      "metadata": {
        "id": "QmnSoUCLUUrm"
      },
      "execution_count": null,
      "outputs": []
    },
    {
      "cell_type": "code",
      "source": [],
      "metadata": {
        "id": "Yw8Yqr4M-JJm"
      },
      "execution_count": null,
      "outputs": []
    }
  ]
}