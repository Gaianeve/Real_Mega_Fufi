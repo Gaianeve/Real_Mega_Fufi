{
  "nbformat": 4,
  "nbformat_minor": 0,
  "metadata": {
    "colab": {
      "provenance": [],
      "toc_visible": true
    },
    "kernelspec": {
      "name": "python3",
      "display_name": "Python 3"
    },
    "language_info": {
      "name": "python"
    }
  },
  "cells": [
    {
      "cell_type": "code",
      "execution_count": 1,
      "metadata": {
        "colab": {
          "base_uri": "https://localhost:8080/"
        },
        "id": "fhfU9uFgnIwi",
        "outputId": "5ae732fe-055e-4ba4-b1b4-02f64361ed6b"
      },
      "outputs": [
        {
          "output_type": "stream",
          "name": "stdout",
          "text": [
            "Collecting pybullet\n",
            "  Downloading pybullet-3.2.6-cp310-cp310-manylinux_2_17_x86_64.manylinux2014_x86_64.whl.metadata (1.8 kB)\n",
            "Downloading pybullet-3.2.6-cp310-cp310-manylinux_2_17_x86_64.manylinux2014_x86_64.whl (103.2 MB)\n",
            "\u001b[2K   \u001b[90m━━━━━━━━━━━━━━━━━━━━━━━━━━━━━━━━━━━━━━━━\u001b[0m \u001b[32m103.2/103.2 MB\u001b[0m \u001b[31m6.5 MB/s\u001b[0m eta \u001b[36m0:00:00\u001b[0m\n",
            "\u001b[?25hInstalling collected packages: pybullet\n",
            "Successfully installed pybullet-3.2.6\n"
          ]
        }
      ],
      "source": [
        "!pip install pybullet"
      ]
    },
    {
      "cell_type": "code",
      "source": [
        "#you can enable the GPU by changing the runtime\n",
        "import os\n",
        "os.environ['MESA_GL_VERSION_OVERRIDE'] = '3.3'\n",
        "os.environ['MESA_GLSL_VERSION_OVERRIDE'] = '330'\n",
        "import pybullet as p\n",
        "import pybullet_data as pd\n",
        "import numpy as np\n",
        "import matplotlib.pyplot as plt\n",
        "%matplotlib inline\n",
        "from matplotlib import pylab\n",
        "from google.colab import widgets\n",
        "import random\n",
        "import time\n",
        "\n",
        "p.connect(p.DIRECT)\n",
        "#allow to find the assets (URDF, obj, textures etc)\n",
        "p.setAdditionalSearchPath(pd.getDataPath())\n",
        "\n",
        "#optionally enable GPU for faster rendering in pybullet.getCameraImage\n",
        "enableGPU = False\n",
        "!ln -sf /opt/bin/nvidia-smi /usr/bin/nvidia-smi\n",
        "!pip install gputil\n",
        "import GPUtil as GPU\n",
        "import sys\n",
        "# Get all device ids and their processing and memory utiliazion\n",
        "# (deviceIds, gpuUtil, memUtil) = GPU.getGPUs()\n",
        "\n",
        "# Print os and python version information\n",
        "print('OS: ' + sys.platform)\n",
        "print(sys.version)\n",
        "\n",
        "# Print package name and version number\n",
        "print(GPU.__name__ + ' ' + GPU.__version__)\n",
        "\n",
        "# Show the utilization of all GPUs in a nice table\n",
        "GPU.showUtilization()\n",
        "\n",
        "# Show all stats of all GPUs in a nice table\n",
        "GPU.showUtilization(all=True)\n",
        "\n",
        "# NOTE: If all your GPUs currently have a memory consumption larger than 1%,\n",
        "# this step will fail. It's not a bug! It is intended to do so, if it does not\n",
        "# find an available GPU.\n",
        "GPUs = GPU.getGPUs()\n",
        "numGPUs = len(GPU.getGPUs())\n",
        "print(\"numGPUs=\",numGPUs)\n",
        "if numGPUs > 0:\n",
        "  enableGPU = True\n",
        "eglPluginId = -1\n",
        "if enableGPU:\n",
        "  import pkgutil\n",
        "  egl = pkgutil.get_loader('eglRenderer')\n",
        "  if (egl):\n",
        "    eglPluginId = p.loadPlugin(egl.get_filename(), \"_eglRendererPlugin\")\n",
        "  else:\n",
        "    eglPluginId = p.loadPlugin(\"eglRendererPlugin\")\n",
        "\n",
        "if eglPluginId>=0:\n",
        "  print(\"Using GPU hardware (eglRenderer)\")\n",
        "else:\n",
        "  print(\"using CPU renderer (TinyRenderer)\")"
      ],
      "metadata": {
        "colab": {
          "base_uri": "https://localhost:8080/"
        },
        "id": "RoS6wf0ynPf_",
        "outputId": "f4c1152e-9630-419f-c0d6-21a7e9ea2289"
      },
      "execution_count": 2,
      "outputs": [
        {
          "output_type": "stream",
          "name": "stdout",
          "text": [
            "Collecting gputil\n",
            "  Downloading GPUtil-1.4.0.tar.gz (5.5 kB)\n",
            "  Preparing metadata (setup.py) ... \u001b[?25l\u001b[?25hdone\n",
            "Building wheels for collected packages: gputil\n",
            "  Building wheel for gputil (setup.py) ... \u001b[?25l\u001b[?25hdone\n",
            "  Created wheel for gputil: filename=GPUtil-1.4.0-py3-none-any.whl size=7392 sha256=a1ecdf3afd2aae44777c64f37927df05fcb5a8ddc65e75806b1beb3955922b3e\n",
            "  Stored in directory: /root/.cache/pip/wheels/a9/8a/bd/81082387151853ab8b6b3ef33426e98f5cbfebc3c397a9d4d0\n",
            "Successfully built gputil\n",
            "Installing collected packages: gputil\n",
            "Successfully installed gputil-1.4.0\n",
            "OS: linux\n",
            "3.10.12 (main, Sep 11 2024, 15:47:36) [GCC 11.4.0]\n",
            "GPUtil 1.4.0\n",
            "| ID | GPU | MEM |\n",
            "------------------\n",
            "| ID | Name | Serial | UUID || GPU temp. | GPU util. | Memory util. || Memory total | Memory used | Memory free || Display mode | Display active |\n",
            "--------------------------------------------------------------------------------------------------------------------------------------------------\n",
            "numGPUs= 0\n",
            "using CPU renderer (TinyRenderer)\n"
          ]
        }
      ]
    },
    {
      "cell_type": "code",
      "source": [
        "!git clone https://github.com/Gaianeve/Real_Mega_Fufi.git\n",
        "%cd Real_Mega_Fufi/Robot/1LegTrail/"
      ],
      "metadata": {
        "colab": {
          "base_uri": "https://localhost:8080/"
        },
        "id": "Zb19olvJnRuV",
        "outputId": "9502cb7c-8e06-42a5-d588-f5c3166b1da2"
      },
      "execution_count": 3,
      "outputs": [
        {
          "output_type": "stream",
          "name": "stdout",
          "text": [
            "Cloning into 'Real_Mega_Fufi'...\n",
            "remote: Enumerating objects: 931, done.\u001b[K\n",
            "remote: Counting objects: 100% (374/374), done.\u001b[K\n",
            "remote: Compressing objects: 100% (348/348), done.\u001b[K\n",
            "remote: Total 931 (delta 300), reused 25 (delta 25), pack-reused 557 (from 1)\u001b[K\n",
            "Receiving objects: 100% (931/931), 8.35 MiB | 13.57 MiB/s, done.\n",
            "Resolving deltas: 100% (613/613), done.\n",
            "/content/Real_Mega_Fufi/Robot/1LegTrail\n"
          ]
        }
      ]
    },
    {
      "cell_type": "code",
      "source": [
        "#using FEM\n",
        "p.resetSimulation(p.RESET_USE_DEFORMABLE_WORLD)\n",
        "\n",
        "p.configureDebugVisualizer(p.COV_ENABLE_GUI)\n",
        "#tell him to slide freely on the ground plane\n",
        "useFixedBase = True\n",
        "plane_pos = [0,0,0]\n",
        "plane = p.loadURDF(\"plane.urdf\", plane_pos, useFixedBase=useFixedBase)\n"
      ],
      "metadata": {
        "id": "wkV52KmfnZKl"
      },
      "execution_count": 4,
      "outputs": []
    },
    {
      "cell_type": "markdown",
      "source": [
        "🛑 🛑 **SUPER IMPORTANT TO KEEP IN MIND** 🛑 🛑\n",
        "obj file and pybullet DO NOT HAVE the same reference system. In order to set it right when exporting the model in .obj from blender, gotta change up axis to z. It can be be done with File-> export .obj -> see on the right panel up."
      ],
      "metadata": {
        "id": "9EDjQrw1mOfb"
      }
    },
    {
      "cell_type": "code",
      "source": [
        "elastic_joint_id = p.loadSoftBody(\"single_elastic_joint.obj\", \\\n",
        "                                  mass=0.0569, \\\n",
        "                                  useNeoHookean=1, \\\n",
        "                                  NeoHookeanMu=76.92,\\\n",
        "                                  NeoHookeanLambda=115.38, \\\n",
        "                                  NeoHookeanDamping=0.01,\\\n",
        "                                  collisionMargin=0.005,\\\n",
        "                                  useSelfCollision=0,\\\n",
        "                                  frictionCoeff=0.5)\n"
      ],
      "metadata": {
        "id": "1toftVSnpj_d"
      },
      "execution_count": 5,
      "outputs": []
    },
    {
      "cell_type": "code",
      "source": [
        "#get column\n",
        "column_position = [0,0,0]\n",
        "column_orientation = p.getQuaternionFromEuler([0,0,0])\n",
        "column_id = p.loadURDF(\"pippa_oneleg_column.urdf\", \\\n",
        "                       basePosition = column_position, \\\n",
        "                       baseOrientation =column_orientation , \\\n",
        "                       useFixedBase=useFixedBase)\n",
        "#get leg\n",
        "leg_position = [0,0,1]\n",
        "leg_orientation = p.getQuaternionFromEuler([0,0,0])\n",
        "leg_id = p.loadURDF(\"pippa_oneleg_leg.urdf\", \\\n",
        "                       basePosition = leg_position, \\\n",
        "                       baseOrientation = leg_orientation )"
      ],
      "metadata": {
        "id": "cY6oVd0Um4e_"
      },
      "execution_count": 11,
      "outputs": []
    },
    {
      "cell_type": "code",
      "source": [
        "p.createSoftBodyAnchor(elastic_joint_id, \\\n",
        "                       nodeIndex= 0, \\\n",
        "                       bodyUniqueId= column_id,\\\n",
        "                       linkIndex= -1)  # Ancora alla colonna\n",
        "\n",
        "p.createSoftBodyAnchor(elastic_joint_id, \\\n",
        "                       nodeIndex=-1, \\\n",
        "                       bodyUniqueId = leg_id, \\\n",
        "                       linkIndex= -1)  # Ancora alla gamba"
      ],
      "metadata": {
        "id": "aRu1KwJPoic8"
      },
      "execution_count": null,
      "outputs": []
    },
    {
      "cell_type": "code",
      "source": [
        "# Parametri della telecamera\n",
        "camTargetPos = [0, 0, 0.1]\n",
        "cameraUp = [0, 0, 1]\n",
        "cameraPos = [1, 1, 1]\n",
        "p.setGravity(0, 0, -9.81)\n",
        "\n",
        "# Visualizzazione 3D della scena con telecamera in più angolazioni\n",
        "grid = widgets.Grid(2, 2)\n",
        "yaw = 0\n",
        "for r in range(2):\n",
        "    for c in range(2):\n",
        "        yaw += 60\n",
        "        with grid.output_to(r, c):\n",
        "            grid.clear_cell()\n",
        "            plt.figure(figsize=(10, 5))\n",
        "            pitch = -10.0\n",
        "            roll = 0\n",
        "            upAxisIndex = 2\n",
        "            camDistance = 0.3\n",
        "            pixelWidth = 640\n",
        "            pixelHeight = 480\n",
        "            nearPlane = 0.01\n",
        "            farPlane = 100\n",
        "            fov = 60\n",
        "            viewMatrix = p.computeViewMatrixFromYawPitchRoll(camTargetPos, camDistance, yaw, pitch, roll, upAxisIndex)\n",
        "            aspect = pixelWidth / pixelHeight\n",
        "            projectionMatrix = p.computeProjectionMatrixFOV(fov, aspect, nearPlane, farPlane)\n",
        "\n",
        "            img_arr = p.getCameraImage(pixelWidth, pixelHeight, viewMatrix, projectionMatrix)\n",
        "            w = img_arr[0]  # width of the image, in pixels\n",
        "            h = img_arr[1]  # height of the image, in pixels\n",
        "            rgb = img_arr[2]  # color data RGB\n",
        "            np_img_arr = np.reshape(rgb, (h, w, 4))\n",
        "            np_img_arr = np_img_arr * (1. / 255.)\n",
        "            plt.imshow(np_img_arr, interpolation='none', animated=True)"
      ],
      "metadata": {
        "id": "KID--MBv9T1K",
        "outputId": "4f58fad7-f820-4838-a9c3-05487084134e",
        "colab": {
          "base_uri": "https://localhost:8080/",
          "height": 1000
        }
      },
      "execution_count": 12,
      "outputs": [
        {
          "output_type": "display_data",
          "data": {
            "text/plain": [
              "<IPython.core.display.HTML object>"
            ],
            "text/html": [
              "<style>\n",
              "       table#id6, #id6 > tbody > tr > th, #id6 > tbody > tr > td {\n",
              "         border: 1px solid lightgray;\n",
              "         border-collapse:collapse;\n",
              "         \n",
              "        }</style>"
            ]
          },
          "metadata": {}
        },
        {
          "output_type": "display_data",
          "data": {
            "text/plain": [
              "<IPython.core.display.HTML object>"
            ],
            "text/html": [
              "<table id=id6><tr><td id=id6-0-0></td><td id=id6-0-1></td></tr><tr><td id=id6-1-0></td><td id=id6-1-1></td></tr></table>"
            ]
          },
          "metadata": {}
        },
        {
          "output_type": "display_data",
          "data": {
            "text/plain": [
              "<IPython.core.display.Javascript object>"
            ],
            "application/javascript": [
              "window[\"138a49f8-a1e7-11ef-9c9f-0242ac1c000c\"] = google.colab.output.getActiveOutputArea();\n",
              "//# sourceURL=js_fdf97377ad"
            ]
          },
          "metadata": {}
        },
        {
          "output_type": "display_data",
          "data": {
            "text/plain": [
              "<IPython.core.display.Javascript object>"
            ],
            "application/javascript": [
              "window[\"138a946c-a1e7-11ef-9c9f-0242ac1c000c\"] = document.querySelector(\"#id6-0-0\");\n",
              "//# sourceURL=js_fff666f546"
            ]
          },
          "metadata": {}
        },
        {
          "output_type": "display_data",
          "data": {
            "text/plain": [
              "<IPython.core.display.Javascript object>"
            ],
            "application/javascript": [
              "window[\"138b22a6-a1e7-11ef-9c9f-0242ac1c000c\"] = google.colab.output.setActiveOutputArea(window[\"138a946c-a1e7-11ef-9c9f-0242ac1c000c\"]);\n",
              "//# sourceURL=js_b8d999d6b7"
            ]
          },
          "metadata": {}
        },
        {
          "output_type": "display_data",
          "data": {
            "text/plain": [
              "<IPython.core.display.Javascript object>"
            ],
            "application/javascript": [
              "window[\"13a190c2-a1e7-11ef-9c9f-0242ac1c000c\"] = google.colab.output.setActiveOutputArea(window[\"138a49f8-a1e7-11ef-9c9f-0242ac1c000c\"]);\n",
              "//# sourceURL=js_dcb32b8119"
            ]
          },
          "metadata": {}
        },
        {
          "output_type": "display_data",
          "data": {
            "text/plain": [
              "<IPython.core.display.Javascript object>"
            ],
            "application/javascript": [
              "window[\"13a3c11c-a1e7-11ef-9c9f-0242ac1c000c\"] = google.colab.output.getActiveOutputArea();\n",
              "//# sourceURL=js_8ffaef995e"
            ]
          },
          "metadata": {}
        },
        {
          "output_type": "display_data",
          "data": {
            "text/plain": [
              "<IPython.core.display.Javascript object>"
            ],
            "application/javascript": [
              "window[\"13a41f36-a1e7-11ef-9c9f-0242ac1c000c\"] = document.querySelector(\"#id6-0-1\");\n",
              "//# sourceURL=js_bbdb698c5d"
            ]
          },
          "metadata": {}
        },
        {
          "output_type": "display_data",
          "data": {
            "text/plain": [
              "<IPython.core.display.Javascript object>"
            ],
            "application/javascript": [
              "window[\"13a46d9c-a1e7-11ef-9c9f-0242ac1c000c\"] = google.colab.output.setActiveOutputArea(window[\"13a41f36-a1e7-11ef-9c9f-0242ac1c000c\"]);\n",
              "//# sourceURL=js_bc8c9ddecd"
            ]
          },
          "metadata": {}
        },
        {
          "output_type": "display_data",
          "data": {
            "text/plain": [
              "<IPython.core.display.Javascript object>"
            ],
            "application/javascript": [
              "window[\"13bbd11c-a1e7-11ef-9c9f-0242ac1c000c\"] = google.colab.output.setActiveOutputArea(window[\"13a3c11c-a1e7-11ef-9c9f-0242ac1c000c\"]);\n",
              "//# sourceURL=js_a9f8f5018a"
            ]
          },
          "metadata": {}
        },
        {
          "output_type": "display_data",
          "data": {
            "text/plain": [
              "<IPython.core.display.Javascript object>"
            ],
            "application/javascript": [
              "window[\"13bd9d26-a1e7-11ef-9c9f-0242ac1c000c\"] = google.colab.output.getActiveOutputArea();\n",
              "//# sourceURL=js_35510697bf"
            ]
          },
          "metadata": {}
        },
        {
          "output_type": "display_data",
          "data": {
            "text/plain": [
              "<IPython.core.display.Javascript object>"
            ],
            "application/javascript": [
              "window[\"13bde510-a1e7-11ef-9c9f-0242ac1c000c\"] = document.querySelector(\"#id6-1-0\");\n",
              "//# sourceURL=js_35be047013"
            ]
          },
          "metadata": {}
        },
        {
          "output_type": "display_data",
          "data": {
            "text/plain": [
              "<IPython.core.display.Javascript object>"
            ],
            "application/javascript": [
              "window[\"13be27e6-a1e7-11ef-9c9f-0242ac1c000c\"] = google.colab.output.setActiveOutputArea(window[\"13bde510-a1e7-11ef-9c9f-0242ac1c000c\"]);\n",
              "//# sourceURL=js_c4c541ed01"
            ]
          },
          "metadata": {}
        },
        {
          "output_type": "display_data",
          "data": {
            "text/plain": [
              "<IPython.core.display.Javascript object>"
            ],
            "application/javascript": [
              "window[\"13d8ca24-a1e7-11ef-9c9f-0242ac1c000c\"] = google.colab.output.setActiveOutputArea(window[\"13bd9d26-a1e7-11ef-9c9f-0242ac1c000c\"]);\n",
              "//# sourceURL=js_7113388c36"
            ]
          },
          "metadata": {}
        },
        {
          "output_type": "display_data",
          "data": {
            "text/plain": [
              "<IPython.core.display.Javascript object>"
            ],
            "application/javascript": [
              "window[\"13db25da-a1e7-11ef-9c9f-0242ac1c000c\"] = google.colab.output.getActiveOutputArea();\n",
              "//# sourceURL=js_31b5369def"
            ]
          },
          "metadata": {}
        },
        {
          "output_type": "display_data",
          "data": {
            "text/plain": [
              "<IPython.core.display.Javascript object>"
            ],
            "application/javascript": [
              "window[\"13db7792-a1e7-11ef-9c9f-0242ac1c000c\"] = document.querySelector(\"#id6-1-1\");\n",
              "//# sourceURL=js_c26119d92c"
            ]
          },
          "metadata": {}
        },
        {
          "output_type": "display_data",
          "data": {
            "text/plain": [
              "<IPython.core.display.Javascript object>"
            ],
            "application/javascript": [
              "window[\"13dc1fb2-a1e7-11ef-9c9f-0242ac1c000c\"] = google.colab.output.setActiveOutputArea(window[\"13db7792-a1e7-11ef-9c9f-0242ac1c000c\"]);\n",
              "//# sourceURL=js_8de6774006"
            ]
          },
          "metadata": {}
        },
        {
          "output_type": "display_data",
          "data": {
            "text/plain": [
              "<IPython.core.display.Javascript object>"
            ],
            "application/javascript": [
              "window[\"13f665f2-a1e7-11ef-9c9f-0242ac1c000c\"] = google.colab.output.setActiveOutputArea(window[\"13db25da-a1e7-11ef-9c9f-0242ac1c000c\"]);\n",
              "//# sourceURL=js_a3540b77ae"
            ]
          },
          "metadata": {}
        },
        {
          "output_type": "display_data",
          "data": {
            "text/plain": [
              "<Figure size 1000x500 with 1 Axes>"
            ],
            "image/png": "[encoded data removed]"
          },
          "metadata": {}
        },
        {
          "output_type": "display_data",
          "data": {
            "text/plain": [
              "<Figure size 1000x500 with 1 Axes>"
            ],
            "image/png": "[encoded data removed]"
          },
          "metadata": {}
        },
        {
          "output_type": "display_data",
          "data": {
            "text/plain": [
              "<Figure size 1000x500 with 1 Axes>"
            ],
            "image/png": "[encoded data removed]"
          },
          "metadata": {}
        },
        {
          "output_type": "display_data",
          "data": {
            "text/plain": [
              "<Figure size 1000x500 with 1 Axes>"
            ],
            "image/png": "[encoded data removed]"
          },
          "metadata": {}
        }
      ]
    },
    {
      "cell_type": "code",
      "source": [],
      "metadata": {
        "id": "ivE275jtohFr"
      },
      "execution_count": null,
      "outputs": []
    },
    {
      "cell_type": "code",
      "source": [
        "p.disconnect()"
      ],
      "metadata": {
        "id": "ncJlkhkQqcAP"
      },
      "execution_count": null,
      "outputs": []
    },
    {
      "cell_type": "code",
      "source": [],
      "metadata": {
        "id": "T3Y0lpl2wmeq"
      },
      "execution_count": null,
      "outputs": []
    }
  ]
}