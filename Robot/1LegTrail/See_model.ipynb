{
  "nbformat": 4,
  "nbformat_minor": 0,
  "metadata": {
    "colab": {
      "provenance": []
    },
    "kernelspec": {
      "name": "python3",
      "display_name": "Python 3"
    },
    "language_info": {
      "name": "python"
    }
  },
  "cells": [
    {
      "cell_type": "code",
      "execution_count": 1,
      "metadata": {
        "colab": {
          "base_uri": "https://localhost:8080/"
        },
        "id": "fhfU9uFgnIwi",
        "outputId": "30d389ec-ab90-46cb-ad1d-50a35ebda94d"
      },
      "outputs": [
        {
          "output_type": "stream",
          "name": "stdout",
          "text": [
            "Collecting pybullet\n",
            "  Downloading pybullet-3.2.6-cp310-cp310-manylinux_2_17_x86_64.manylinux2014_x86_64.whl.metadata (1.8 kB)\n",
            "Downloading pybullet-3.2.6-cp310-cp310-manylinux_2_17_x86_64.manylinux2014_x86_64.whl (103.2 MB)\n",
            "\u001b[2K   \u001b[90m━━━━━━━━━━━━━━━━━━━━━━━━━━━━━━━━━━━━━━━━\u001b[0m \u001b[32m103.2/103.2 MB\u001b[0m \u001b[31m6.7 MB/s\u001b[0m eta \u001b[36m0:00:00\u001b[0m\n",
            "\u001b[?25hInstalling collected packages: pybullet\n",
            "Successfully installed pybullet-3.2.6\n"
          ]
        }
      ],
      "source": [
        "!pip install pybullet"
      ]
    },
    {
      "cell_type": "code",
      "source": [
        "#you can enable the GPU by changing the runtime\n",
        "import os\n",
        "os.environ['MESA_GL_VERSION_OVERRIDE'] = '3.3'\n",
        "os.environ['MESA_GLSL_VERSION_OVERRIDE'] = '330'\n",
        "import pybullet as p\n",
        "import pybullet_data as pd\n",
        "import numpy as np\n",
        "import matplotlib.pyplot as plt\n",
        "%matplotlib inline\n",
        "from matplotlib import pylab\n",
        "from google.colab import widgets\n",
        "import random\n",
        "import time\n",
        "\n",
        "p.connect(p.DIRECT)\n",
        "#allow to find the assets (URDF, obj, textures etc)\n",
        "p.setAdditionalSearchPath(pd.getDataPath())\n",
        "\n",
        "#optionally enable GPU for faster rendering in pybullet.getCameraImage\n",
        "enableGPU = False\n",
        "!ln -sf /opt/bin/nvidia-smi /usr/bin/nvidia-smi\n",
        "!pip install gputil\n",
        "import GPUtil as GPU\n",
        "import sys\n",
        "# Get all device ids and their processing and memory utiliazion\n",
        "# (deviceIds, gpuUtil, memUtil) = GPU.getGPUs()\n",
        "\n",
        "# Print os and python version information\n",
        "print('OS: ' + sys.platform)\n",
        "print(sys.version)\n",
        "\n",
        "# Print package name and version number\n",
        "print(GPU.__name__ + ' ' + GPU.__version__)\n",
        "\n",
        "# Show the utilization of all GPUs in a nice table\n",
        "GPU.showUtilization()\n",
        "\n",
        "# Show all stats of all GPUs in a nice table\n",
        "GPU.showUtilization(all=True)\n",
        "\n",
        "# NOTE: If all your GPUs currently have a memory consumption larger than 1%,\n",
        "# this step will fail. It's not a bug! It is intended to do so, if it does not\n",
        "# find an available GPU.\n",
        "GPUs = GPU.getGPUs()\n",
        "numGPUs = len(GPU.getGPUs())\n",
        "print(\"numGPUs=\",numGPUs)\n",
        "if numGPUs > 0:\n",
        "  enableGPU = True\n",
        "eglPluginId = -1\n",
        "if enableGPU:\n",
        "  import pkgutil\n",
        "  egl = pkgutil.get_loader('eglRenderer')\n",
        "  if (egl):\n",
        "    eglPluginId = p.loadPlugin(egl.get_filename(), \"_eglRendererPlugin\")\n",
        "  else:\n",
        "    eglPluginId = p.loadPlugin(\"eglRendererPlugin\")\n",
        "\n",
        "if eglPluginId>=0:\n",
        "  print(\"Using GPU hardware (eglRenderer)\")\n",
        "else:\n",
        "  print(\"using CPU renderer (TinyRenderer)\")"
      ],
      "metadata": {
        "colab": {
          "base_uri": "https://localhost:8080/"
        },
        "id": "RoS6wf0ynPf_",
        "outputId": "3d67f869-226e-4d26-8061-16074e113e49"
      },
      "execution_count": 2,
      "outputs": [
        {
          "output_type": "stream",
          "name": "stdout",
          "text": [
            "Collecting gputil\n",
            "  Downloading GPUtil-1.4.0.tar.gz (5.5 kB)\n",
            "  Preparing metadata (setup.py) ... \u001b[?25l\u001b[?25hdone\n",
            "Building wheels for collected packages: gputil\n",
            "  Building wheel for gputil (setup.py) ... \u001b[?25l\u001b[?25hdone\n",
            "  Created wheel for gputil: filename=GPUtil-1.4.0-py3-none-any.whl size=7392 sha256=f88dda54d59957bd021e5d62a7954b3c479edcb718b1a261afe3cef083cf579b\n",
            "  Stored in directory: /root/.cache/pip/wheels/a9/8a/bd/81082387151853ab8b6b3ef33426e98f5cbfebc3c397a9d4d0\n",
            "Successfully built gputil\n",
            "Installing collected packages: gputil\n",
            "Successfully installed gputil-1.4.0\n",
            "OS: linux\n",
            "3.10.12 (main, Sep 11 2024, 15:47:36) [GCC 11.4.0]\n",
            "GPUtil 1.4.0\n",
            "| ID | GPU | MEM |\n",
            "------------------\n",
            "| ID | Name | Serial | UUID || GPU temp. | GPU util. | Memory util. || Memory total | Memory used | Memory free || Display mode | Display active |\n",
            "--------------------------------------------------------------------------------------------------------------------------------------------------\n",
            "numGPUs= 0\n",
            "using CPU renderer (TinyRenderer)\n"
          ]
        }
      ]
    },
    {
      "cell_type": "code",
      "source": [
        "!git clone https://github.com/Gaianeve/Real_Mega_Fufi.git\n",
        "%cd Real_Mega_Fufi/Robot/1LegTrail/"
      ],
      "metadata": {
        "colab": {
          "base_uri": "https://localhost:8080/"
        },
        "id": "Zb19olvJnRuV",
        "outputId": "252aaa82-7ce1-4952-aad8-ba80f9a66eb1"
      },
      "execution_count": 3,
      "outputs": [
        {
          "output_type": "stream",
          "name": "stdout",
          "text": [
            "Cloning into 'Real_Mega_Fufi'...\n",
            "remote: Enumerating objects: 940, done.\u001b[K\n",
            "remote: Counting objects: 100% (383/383), done.\u001b[K\n",
            "remote: Compressing objects: 100% (204/204), done.\u001b[K\n",
            "remote: Total 940 (delta 307), reused 245 (delta 178), pack-reused 557 (from 1)\u001b[K\n",
            "Receiving objects: 100% (940/940), 8.42 MiB | 13.26 MiB/s, done.\n",
            "Resolving deltas: 100% (620/620), done.\n",
            "/content/Real_Mega_Fufi/Robot/1LegTrail\n"
          ]
        }
      ]
    },
    {
      "cell_type": "code",
      "source": [
        "#using FEM\n",
        "p.resetSimulation(p.RESET_USE_DEFORMABLE_WORLD)\n",
        "p.setTimeStep(0.01)\n",
        "p.configureDebugVisualizer(p.COV_ENABLE_GUI)\n",
        "#tell him to slide freely on the ground plane\n",
        "useFixedBase = True\n",
        "plane_pos = [0,0,0]\n",
        "plane = p.loadURDF(\"plane.urdf\", plane_pos, useFixedBase=useFixedBase)\n"
      ],
      "metadata": {
        "id": "wkV52KmfnZKl"
      },
      "execution_count": 4,
      "outputs": []
    },
    {
      "cell_type": "markdown",
      "source": [
        "🛑 🛑 **SUPER IMPORTANT TO KEEP IN MIND** 🛑 🛑\n",
        "obj file and pybullet DO NOT HAVE the same reference system. In order to set it right when exporting the model in .obj from blender, gotta change up axis to z. It can be be done with File-> export .obj -> see on the right panel up."
      ],
      "metadata": {
        "id": "9EDjQrw1mOfb"
      }
    },
    {
      "cell_type": "code",
      "source": [
        "elastic_joint_id = p.loadSoftBody(\"single_elastic_joint.obj\", \\\n",
        "                                  mass=0.0569, \\\n",
        "                                  useNeoHookean=1, \\\n",
        "                                  NeoHookeanMu=76.92,\\\n",
        "                                  NeoHookeanLambda=115.38, \\\n",
        "                                  NeoHookeanDamping=0.01,\\\n",
        "                                  collisionMargin=0.005,\\\n",
        "                                  useSelfCollision=0,\\\n",
        "                                  frictionCoeff=0.5)\n",
        "\n",
        "p.changeVisualShape(elastic_joint_id, -1, rgbaColor=[0,0,1,1])"
      ],
      "metadata": {
        "id": "1toftVSnpj_d"
      },
      "execution_count": 5,
      "outputs": []
    },
    {
      "cell_type": "markdown",
      "source": [
        "🛑 🛑 **ALSO PRETTY IMPORTANT** 🛑 🛑\n",
        "\n",
        "```\n",
        "p.loadURDF(\"pippa_oneleg_column.urdf\", \\\n",
        "                       basePosition = column_position, \\\n",
        "                       baseOrientation =column_orientation , \\\n",
        "                       useFixedBase=useFixedBase)\n",
        "\n",
        "```\n",
        "basePosition = coordinate del centro di massa, quindi se questo sta in 0,0 bisogna che a z tu ci metta le coordinate della metà dell'altezza dell'oggetto.\n"
      ],
      "metadata": {
        "id": "_rhoJFqQyCh9"
      }
    },
    {
      "cell_type": "code",
      "source": [
        "#get column\n",
        "joint_x, joint_y, joint_z = p.getBasePositionAndOrientation(elastic_joint_id)[0]\n",
        "column_position = [joint_x, joint_y, 0.1]\n",
        "column_orientation = p.getQuaternionFromEuler([0,0,0])\n",
        "\n",
        "column_id = p.loadURDF(\"pippa_oneleg_column.urdf\", \\\n",
        "                       basePosition = column_position, \\\n",
        "                       baseOrientation =column_orientation , \\\n",
        "                       useFixedBase=useFixedBase)\n",
        "\n",
        "p.changeVisualShape(column_id, -1, rgbaColor=[0,1,0,1])\n",
        "\n",
        "#get leg\n",
        "leg_position = [joint_x,joint_y,0.6175]\n",
        "leg_orientation = p.getQuaternionFromEuler([0,0,0])\n",
        "leg_id = p.loadURDF(\"pippa_oneleg_leg.urdf\", \\\n",
        "                       basePosition = leg_position, \\\n",
        "                       baseOrientation = leg_orientation )\n",
        "\n",
        "p.changeVisualShape(leg_id, -1, rgbaColor=[1,0,0,1])\n"
      ],
      "metadata": {
        "id": "cY6oVd0Um4e_"
      },
      "execution_count": 6,
      "outputs": []
    },
    {
      "cell_type": "code",
      "source": [
        "p.createSoftBodyAnchor(elastic_joint_id, \\\n",
        "                       nodeIndex= 0, \\\n",
        "                       bodyUniqueId= column_id,\\\n",
        "                       linkIndex= -1)  # Ancora alla colonna\n",
        "\n",
        "p.createSoftBodyAnchor(elastic_joint_id, \\\n",
        "                       nodeIndex=-1, \\\n",
        "                       bodyUniqueId = leg_id, \\\n",
        "                       linkIndex= -1)  # Ancora alla gamba"
      ],
      "metadata": {
        "id": "aRu1KwJPoic8",
        "colab": {
          "base_uri": "https://localhost:8080/",
          "height": 193
        },
        "outputId": "76ec034b-6e45-433b-fa86-d93f26b36779"
      },
      "execution_count": 7,
      "outputs": [
        {
          "output_type": "error",
          "ename": "NameError",
          "evalue": "name 'leg_id' is not defined",
          "traceback": [
            "\u001b[0;31m---------------------------------------------------------------------------\u001b[0m",
            "\u001b[0;31mNameError\u001b[0m                                 Traceback (most recent call last)",
            "\u001b[0;32m<ipython-input-7-f0d90c6cb161>\u001b[0m in \u001b[0;36m<cell line: 6>\u001b[0;34m()\u001b[0m\n\u001b[1;32m      6\u001b[0m p.createSoftBodyAnchor(elastic_joint_id, \\\n\u001b[1;32m      7\u001b[0m                        \u001b[0mnodeIndex\u001b[0m\u001b[0;34m=\u001b[0m\u001b[0;34m-\u001b[0m\u001b[0;36m1\u001b[0m\u001b[0;34m,\u001b[0m\u001b[0;31m \u001b[0m\u001b[0;31m\\\u001b[0m\u001b[0;34m\u001b[0m\u001b[0;34m\u001b[0m\u001b[0m\n\u001b[0;32m----> 8\u001b[0;31m                        \u001b[0mbodyUniqueId\u001b[0m \u001b[0;34m=\u001b[0m \u001b[0mleg_id\u001b[0m\u001b[0;34m,\u001b[0m\u001b[0;31m \u001b[0m\u001b[0;31m\\\u001b[0m\u001b[0;34m\u001b[0m\u001b[0;34m\u001b[0m\u001b[0m\n\u001b[0m\u001b[1;32m      9\u001b[0m                        linkIndex= -1)  # Ancora alla gamba\n",
            "\u001b[0;31mNameError\u001b[0m: name 'leg_id' is not defined"
          ]
        }
      ]
    },
    {
      "cell_type": "code",
      "source": [
        "# Parametri della telecamera\n",
        "camTargetPos = [0, 0, 0]\n",
        "cameraUp = [0, 0, 1]\n",
        "cameraPos = [1, 1, 1]\n",
        "p.setGravity(0, 0, -9.81)\n",
        "\n",
        "# Visualizzazione 3D della scena con telecamera in più angolazioni\n",
        "grid = widgets.Grid(2, 2)\n",
        "yaw = 0\n",
        "for r in range(2):\n",
        "    for c in range(2):\n",
        "        yaw += 60\n",
        "        with grid.output_to(r, c):\n",
        "            grid.clear_cell()\n",
        "            plt.figure(figsize=(10, 5))\n",
        "            pitch = -10.0\n",
        "            roll = 0\n",
        "            upAxisIndex = 2\n",
        "            camDistance = 1\n",
        "            pixelWidth = 640\n",
        "            pixelHeight = 480\n",
        "            nearPlane = 0.01\n",
        "            farPlane = 100\n",
        "            fov = 60\n",
        "            viewMatrix = p.computeViewMatrixFromYawPitchRoll(camTargetPos, camDistance, yaw, pitch, roll, upAxisIndex)\n",
        "            aspect = pixelWidth / pixelHeight\n",
        "            projectionMatrix = p.computeProjectionMatrixFOV(fov, aspect, nearPlane, farPlane)\n",
        "\n",
        "            img_arr = p.getCameraImage(pixelWidth, pixelHeight, viewMatrix, projectionMatrix)\n",
        "            w = img_arr[0]  # width of the image, in pixels\n",
        "            h = img_arr[1]  # height of the image, in pixels\n",
        "            rgb = img_arr[2]  # color data RGB\n",
        "            np_img_arr = np.reshape(rgb, (h, w, 4))\n",
        "            np_img_arr = np_img_arr * (1. / 255.)\n",
        "            plt.imshow(np_img_arr, interpolation='none', animated=True)"
      ],
      "metadata": {
        "id": "KID--MBv9T1K",
        "outputId": "c000bb97-9be9-40b6-ccee-94c9b7ff3fb3",
        "colab": {
          "base_uri": "https://localhost:8080/",
          "height": 1000
        }
      },
      "execution_count": 7,
      "outputs": [
        {
          "output_type": "display_data",
          "data": {
            "text/plain": [
              "<IPython.core.display.HTML object>"
            ],
            "text/html": [
              "<style>\n",
              "       table#id2, #id2 > tbody > tr > th, #id2 > tbody > tr > td {\n",
              "         border: 1px solid lightgray;\n",
              "         border-collapse:collapse;\n",
              "         \n",
              "        }</style>"
            ]
          },
          "metadata": {}
        },
        {
          "output_type": "display_data",
          "data": {
            "text/plain": [
              "<IPython.core.display.HTML object>"
            ],
            "text/html": [
              "<table id=id2><tr><td id=id2-0-0></td><td id=id2-0-1></td></tr><tr><td id=id2-1-0></td><td id=id2-1-1></td></tr></table>"
            ]
          },
          "metadata": {}
        },
        {
          "output_type": "display_data",
          "data": {
            "text/plain": [
              "<IPython.core.display.Javascript object>"
            ],
            "application/javascript": [
              "window[\"c7f6c7ce-a262-11ef-a85a-0242ac1c000c\"] = google.colab.output.getActiveOutputArea();\n",
              "//# sourceURL=js_e3a7224833"
            ]
          },
          "metadata": {}
        },
        {
          "output_type": "display_data",
          "data": {
            "text/plain": [
              "<IPython.core.display.Javascript object>"
            ],
            "application/javascript": [
              "window[\"c7f714cc-a262-11ef-a85a-0242ac1c000c\"] = document.querySelector(\"#id2-0-0\");\n",
              "//# sourceURL=js_4dff031d63"
            ]
          },
          "metadata": {}
        },
        {
          "output_type": "display_data",
          "data": {
            "text/plain": [
              "<IPython.core.display.Javascript object>"
            ],
            "application/javascript": [
              "window[\"c7f7766a-a262-11ef-a85a-0242ac1c000c\"] = google.colab.output.setActiveOutputArea(window[\"c7f714cc-a262-11ef-a85a-0242ac1c000c\"]);\n",
              "//# sourceURL=js_2499d5bf05"
            ]
          },
          "metadata": {}
        },
        {
          "output_type": "display_data",
          "data": {
            "text/plain": [
              "<IPython.core.display.Javascript object>"
            ],
            "application/javascript": [
              "window[\"c80c90cc-a262-11ef-a85a-0242ac1c000c\"] = google.colab.output.setActiveOutputArea(window[\"c7f6c7ce-a262-11ef-a85a-0242ac1c000c\"]);\n",
              "//# sourceURL=js_9c51cb9222"
            ]
          },
          "metadata": {}
        },
        {
          "output_type": "display_data",
          "data": {
            "text/plain": [
              "<IPython.core.display.Javascript object>"
            ],
            "application/javascript": [
              "window[\"c80ebc1c-a262-11ef-a85a-0242ac1c000c\"] = google.colab.output.getActiveOutputArea();\n",
              "//# sourceURL=js_3e7c93f28f"
            ]
          },
          "metadata": {}
        },
        {
          "output_type": "display_data",
          "data": {
            "text/plain": [
              "<IPython.core.display.Javascript object>"
            ],
            "application/javascript": [
              "window[\"c80f23be-a262-11ef-a85a-0242ac1c000c\"] = document.querySelector(\"#id2-0-1\");\n",
              "//# sourceURL=js_e3d07fa413"
            ]
          },
          "metadata": {}
        },
        {
          "output_type": "display_data",
          "data": {
            "text/plain": [
              "<IPython.core.display.Javascript object>"
            ],
            "application/javascript": [
              "window[\"c810361e-a262-11ef-a85a-0242ac1c000c\"] = google.colab.output.setActiveOutputArea(window[\"c80f23be-a262-11ef-a85a-0242ac1c000c\"]);\n",
              "//# sourceURL=js_b99feacac9"
            ]
          },
          "metadata": {}
        },
        {
          "output_type": "display_data",
          "data": {
            "text/plain": [
              "<IPython.core.display.Javascript object>"
            ],
            "application/javascript": [
              "window[\"c8244a96-a262-11ef-a85a-0242ac1c000c\"] = google.colab.output.setActiveOutputArea(window[\"c80ebc1c-a262-11ef-a85a-0242ac1c000c\"]);\n",
              "//# sourceURL=js_8fe97085c0"
            ]
          },
          "metadata": {}
        },
        {
          "output_type": "display_data",
          "data": {
            "text/plain": [
              "<IPython.core.display.Javascript object>"
            ],
            "application/javascript": [
              "window[\"c82771d0-a262-11ef-a85a-0242ac1c000c\"] = google.colab.output.getActiveOutputArea();\n",
              "//# sourceURL=js_795226ca2d"
            ]
          },
          "metadata": {}
        },
        {
          "output_type": "display_data",
          "data": {
            "text/plain": [
              "<IPython.core.display.Javascript object>"
            ],
            "application/javascript": [
              "window[\"c827ded6-a262-11ef-a85a-0242ac1c000c\"] = document.querySelector(\"#id2-1-0\");\n",
              "//# sourceURL=js_a031b8a54c"
            ]
          },
          "metadata": {}
        },
        {
          "output_type": "display_data",
          "data": {
            "text/plain": [
              "<IPython.core.display.Javascript object>"
            ],
            "application/javascript": [
              "window[\"c8284038-a262-11ef-a85a-0242ac1c000c\"] = google.colab.output.setActiveOutputArea(window[\"c827ded6-a262-11ef-a85a-0242ac1c000c\"]);\n",
              "//# sourceURL=js_5fe26edf17"
            ]
          },
          "metadata": {}
        },
        {
          "output_type": "display_data",
          "data": {
            "text/plain": [
              "<IPython.core.display.Javascript object>"
            ],
            "application/javascript": [
              "window[\"c83f8072-a262-11ef-a85a-0242ac1c000c\"] = google.colab.output.setActiveOutputArea(window[\"c82771d0-a262-11ef-a85a-0242ac1c000c\"]);\n",
              "//# sourceURL=js_2fcc45b7d9"
            ]
          },
          "metadata": {}
        },
        {
          "output_type": "display_data",
          "data": {
            "text/plain": [
              "<IPython.core.display.Javascript object>"
            ],
            "application/javascript": [
              "window[\"c84237ae-a262-11ef-a85a-0242ac1c000c\"] = google.colab.output.getActiveOutputArea();\n",
              "//# sourceURL=js_9efeee3b46"
            ]
          },
          "metadata": {}
        },
        {
          "output_type": "display_data",
          "data": {
            "text/plain": [
              "<IPython.core.display.Javascript object>"
            ],
            "application/javascript": [
              "window[\"c8428e52-a262-11ef-a85a-0242ac1c000c\"] = document.querySelector(\"#id2-1-1\");\n",
              "//# sourceURL=js_be4c214dc3"
            ]
          },
          "metadata": {}
        },
        {
          "output_type": "display_data",
          "data": {
            "text/plain": [
              "<IPython.core.display.Javascript object>"
            ],
            "application/javascript": [
              "window[\"c842e4ba-a262-11ef-a85a-0242ac1c000c\"] = google.colab.output.setActiveOutputArea(window[\"c8428e52-a262-11ef-a85a-0242ac1c000c\"]);\n",
              "//# sourceURL=js_f37b94dd8e"
            ]
          },
          "metadata": {}
        },
        {
          "output_type": "display_data",
          "data": {
            "text/plain": [
              "<IPython.core.display.Javascript object>"
            ],
            "application/javascript": [
              "window[\"c85dcffa-a262-11ef-a85a-0242ac1c000c\"] = google.colab.output.setActiveOutputArea(window[\"c84237ae-a262-11ef-a85a-0242ac1c000c\"]);\n",
              "//# sourceURL=js_e3a8008c26"
            ]
          },
          "metadata": {}
        },
        {
          "output_type": "display_data",
          "data": {
            "text/plain": [
              "<Figure size 1000x500 with 1 Axes>"
            ],
            "image/png": "[encoded data removed]"
          },
          "metadata": {}
        },
        {
          "output_type": "display_data",
          "data": {
            "text/plain": [
              "<Figure size 1000x500 with 1 Axes>"
            ],
            "image/png": "[encoded data removed]"
          },
          "metadata": {}
        },
        {
          "output_type": "display_data",
          "data": {
            "text/plain": [
              "<Figure size 1000x500 with 1 Axes>"
            ],
            "image/png": "[encoded data removed]"
          },
          "metadata": {}
        },
        {
          "output_type": "display_data",
          "data": {
            "text/plain": [
              "<Figure size 1000x500 with 1 Axes>"
            ],
            "image/png": "[encoded data removed]"
          },
          "metadata": {}
        }
      ]
    },
    {
      "cell_type": "code",
      "source": [
        "p.disconnect()"
      ],
      "metadata": {
        "id": "ncJlkhkQqcAP"
      },
      "execution_count": 9,
      "outputs": []
    },
    {
      "cell_type": "code",
      "source": [],
      "metadata": {
        "id": "T3Y0lpl2wmeq"
      },
      "execution_count": null,
      "outputs": []
    }
  ]
}