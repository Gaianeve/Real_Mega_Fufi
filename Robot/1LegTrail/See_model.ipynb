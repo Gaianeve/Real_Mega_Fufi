{
  "nbformat": 4,
  "nbformat_minor": 0,
  "metadata": {
    "colab": {
      "provenance": [],
      "toc_visible": true
    },
    "kernelspec": {
      "name": "python3",
      "display_name": "Python 3"
    },
    "language_info": {
      "name": "python"
    }
  },
  "cells": [
    {
      "cell_type": "code",
      "execution_count": 1,
      "metadata": {
        "colab": {
          "base_uri": "https://localhost:8080/"
        },
        "id": "fhfU9uFgnIwi",
        "outputId": "58a3e9e8-47f3-41c3-e224-366103f926c9"
      },
      "outputs": [
        {
          "output_type": "stream",
          "name": "stdout",
          "text": [
            "Collecting pybullet\n",
            "  Downloading pybullet-3.2.6-cp310-cp310-manylinux_2_17_x86_64.manylinux2014_x86_64.whl.metadata (1.8 kB)\n",
            "Downloading pybullet-3.2.6-cp310-cp310-manylinux_2_17_x86_64.manylinux2014_x86_64.whl (103.2 MB)\n",
            "\u001b[2K   \u001b[90m━━━━━━━━━━━━━━━━━━━━━━━━━━━━━━━━━━━━━━━━\u001b[0m \u001b[32m103.2/103.2 MB\u001b[0m \u001b[31m6.2 MB/s\u001b[0m eta \u001b[36m0:00:00\u001b[0m\n",
            "\u001b[?25hInstalling collected packages: pybullet\n",
            "Successfully installed pybullet-3.2.6\n"
          ]
        }
      ],
      "source": [
        "!pip install pybullet"
      ]
    },
    {
      "cell_type": "code",
      "source": [
        "#you can enable the GPU by changing the runtime\n",
        "import os\n",
        "os.environ['MESA_GL_VERSION_OVERRIDE'] = '3.3'\n",
        "os.environ['MESA_GLSL_VERSION_OVERRIDE'] = '330'\n",
        "import pybullet as p\n",
        "import pybullet_data as pd\n",
        "import numpy as np\n",
        "import matplotlib.pyplot as plt\n",
        "%matplotlib inline\n",
        "from matplotlib import pylab\n",
        "from google.colab import widgets\n",
        "import random\n",
        "import time\n",
        "\n",
        "p.connect(p.DIRECT)\n",
        "#allow to find the assets (URDF, obj, textures etc)\n",
        "p.setAdditionalSearchPath(pd.getDataPath())\n",
        "\n",
        "#optionally enable GPU for faster rendering in pybullet.getCameraImage\n",
        "enableGPU = False\n",
        "!ln -sf /opt/bin/nvidia-smi /usr/bin/nvidia-smi\n",
        "!pip install gputil\n",
        "import GPUtil as GPU\n",
        "import sys\n",
        "# Get all device ids and their processing and memory utiliazion\n",
        "# (deviceIds, gpuUtil, memUtil) = GPU.getGPUs()\n",
        "\n",
        "# Print os and python version information\n",
        "print('OS: ' + sys.platform)\n",
        "print(sys.version)\n",
        "\n",
        "# Print package name and version number\n",
        "print(GPU.__name__ + ' ' + GPU.__version__)\n",
        "\n",
        "# Show the utilization of all GPUs in a nice table\n",
        "GPU.showUtilization()\n",
        "\n",
        "# Show all stats of all GPUs in a nice table\n",
        "GPU.showUtilization(all=True)\n",
        "\n",
        "# NOTE: If all your GPUs currently have a memory consumption larger than 1%,\n",
        "# this step will fail. It's not a bug! It is intended to do so, if it does not\n",
        "# find an available GPU.\n",
        "GPUs = GPU.getGPUs()\n",
        "numGPUs = len(GPU.getGPUs())\n",
        "print(\"numGPUs=\",numGPUs)\n",
        "if numGPUs > 0:\n",
        "  enableGPU = True\n",
        "eglPluginId = -1\n",
        "if enableGPU:\n",
        "  import pkgutil\n",
        "  egl = pkgutil.get_loader('eglRenderer')\n",
        "  if (egl):\n",
        "    eglPluginId = p.loadPlugin(egl.get_filename(), \"_eglRendererPlugin\")\n",
        "  else:\n",
        "    eglPluginId = p.loadPlugin(\"eglRendererPlugin\")\n",
        "\n",
        "if eglPluginId>=0:\n",
        "  print(\"Using GPU hardware (eglRenderer)\")\n",
        "else:\n",
        "  print(\"using CPU renderer (TinyRenderer)\")"
      ],
      "metadata": {
        "colab": {
          "base_uri": "https://localhost:8080/"
        },
        "id": "RoS6wf0ynPf_",
        "outputId": "baace637-f8b3-4cc8-b24b-2fd1aa4df38d"
      },
      "execution_count": 2,
      "outputs": [
        {
          "output_type": "stream",
          "name": "stdout",
          "text": [
            "Collecting gputil\n",
            "  Downloading GPUtil-1.4.0.tar.gz (5.5 kB)\n",
            "  Preparing metadata (setup.py) ... \u001b[?25l\u001b[?25hdone\n",
            "Building wheels for collected packages: gputil\n",
            "  Building wheel for gputil (setup.py) ... \u001b[?25l\u001b[?25hdone\n",
            "  Created wheel for gputil: filename=GPUtil-1.4.0-py3-none-any.whl size=7392 sha256=eb66ea004d4dfca52d170352a2ae001415ce943169db6276a61e219180818b21\n",
            "  Stored in directory: /root/.cache/pip/wheels/a9/8a/bd/81082387151853ab8b6b3ef33426e98f5cbfebc3c397a9d4d0\n",
            "Successfully built gputil\n",
            "Installing collected packages: gputil\n",
            "Successfully installed gputil-1.4.0\n",
            "OS: linux\n",
            "3.10.12 (main, Sep 11 2024, 15:47:36) [GCC 11.4.0]\n",
            "GPUtil 1.4.0\n",
            "| ID | GPU | MEM |\n",
            "------------------\n",
            "| ID | Name | Serial | UUID || GPU temp. | GPU util. | Memory util. || Memory total | Memory used | Memory free || Display mode | Display active |\n",
            "--------------------------------------------------------------------------------------------------------------------------------------------------\n",
            "numGPUs= 0\n",
            "using CPU renderer (TinyRenderer)\n"
          ]
        }
      ]
    },
    {
      "cell_type": "code",
      "source": [
        "!git clone https://github.com/Gaianeve/Real_Mega_Fufi.git\n",
        "%cd Real_Mega_Fufi/Robot/1LegTrail/"
      ],
      "metadata": {
        "colab": {
          "base_uri": "https://localhost:8080/"
        },
        "id": "Zb19olvJnRuV",
        "outputId": "c9c7c4e5-333c-44b7-97b2-22f5d97c00db"
      },
      "execution_count": 3,
      "outputs": [
        {
          "output_type": "stream",
          "name": "stdout",
          "text": [
            "Cloning into 'Real_Mega_Fufi'...\n",
            "remote: Enumerating objects: 862, done.\u001b[K\n",
            "remote: Counting objects: 100% (305/305), done.\u001b[K\n",
            "remote: Compressing objects: 100% (279/279), done.\u001b[K\n",
            "remote: Total 862 (delta 251), reused 25 (delta 25), pack-reused 557 (from 1)\u001b[K\n",
            "Receiving objects: 100% (862/862), 8.25 MiB | 8.60 MiB/s, done.\n",
            "Resolving deltas: 100% (564/564), done.\n",
            "/content/Real_Mega_Fufi/Robot/1LegTrail\n"
          ]
        }
      ]
    },
    {
      "cell_type": "code",
      "source": [
        "\n",
        "##!! THIS IS THE RIGHT ORDER, DO NOT TOUCH IT OTHERWISE SIMULATION WONT WORK\n",
        "#reset simulation\n",
        "p.resetSimulation()\n",
        "p.configureDebugVisualizer(p.COV_ENABLE_GUI)\n",
        "#tell him to slide freely on the ground plane\n",
        "useFixedBase = True\n",
        "flags = p.URDF_INITIALIZE_SAT_FEATURES\n",
        "\n",
        "plane_pos = [0,0,0]\n",
        "plane = p.loadURDF(\"plane.urdf\", plane_pos, flags = flags, useFixedBase=useFixedBase)\n",
        "'''\n",
        "leg_position = [0,0,0.5]\n",
        "leg_orientation = p.getQuaternionFromEuler([0,0,0])\n",
        "leg_id = p.loadURDF(\"pippa_oneleg_leg.urdf\", basePosition = leg_position, baseOrientation = leg_orientation,\\\n",
        "                      useFixedBase=useFixedBase)\n",
        "\n",
        "column_position = [0,0,0]\n",
        "column_orientation  = p.getQuaternionFromEuler([0,0,0])\n",
        "column_id = p.loadURDF(\"pippa_oneleg_column.urdf\", basePosition = column_position, baseOrientation = column_orientation,\\\n",
        "                      useFixedBase=useFixedBase)\n",
        "'''"
      ],
      "metadata": {
        "colab": {
          "base_uri": "https://localhost:8080/",
          "height": 105
        },
        "id": "wkV52KmfnZKl",
        "outputId": "2ca826fd-c22e-4909-b5ab-97842fc4c759"
      },
      "execution_count": 4,
      "outputs": [
        {
          "output_type": "execute_result",
          "data": {
            "text/plain": [
              "'\\nleg_position = [0,0,0.5]\\nleg_orientation = p.getQuaternionFromEuler([0,0,0])\\nleg_id = p.loadURDF(\"pippa_oneleg_leg.urdf\", basePosition = leg_position, baseOrientation = leg_orientation,                      useFixedBase=useFixedBase)\\n\\ncolumn_position = [0,0,0]\\ncolumn_orientation  = p.getQuaternionFromEuler([0,0,0])\\ncolumn_id = p.loadURDF(\"pippa_oneleg_column.urdf\", basePosition = column_position, baseOrientation = column_orientation,                      useFixedBase=useFixedBase)\\n'"
            ],
            "application/vnd.google.colaboratory.intrinsic+json": {
              "type": "string"
            }
          },
          "metadata": {},
          "execution_count": 4
        }
      ]
    },
    {
      "cell_type": "code",
      "source": [
        "elastic_joint_position = [0, 0, 0.185]\n",
        "elastic_joint_orientation = p.getQuaternionFromEuler([0,np.pi,np.pi])\n",
        "elastic_joint_id = p.loadSoftBody(\"single_joint.obj\", basePosition = elastic_joint_position,\\\n",
        "                                  baseOrientation = elastic_joint_orientation,\\\n",
        "                           mass=0.0569, useNeoHookean=1, NeoHookeanMu=76.92, NeoHookeanLambda=115.38, \\\n",
        "                                  NeoHookeanDamping=0.01, collisionMargin=0.005, useSelfCollision=0, frictionCoeff=0.5)\n",
        "p.configureDebugVisualizer(p.COV_ENABLE_RENDERING, 1)\n"
      ],
      "metadata": {
        "id": "1toftVSnpj_d"
      },
      "execution_count": 5,
      "outputs": []
    },
    {
      "cell_type": "code",
      "source": [
        "p.createSoftBodyAnchor(elastic_joint_id, nodeIndex= 1, bodyUniqueId= leg_id, \\\n",
        "                       linkIndex = -1)\n",
        "p.createSoftBodyAnchor(elastic_joint_id, nodeIndex= 0, bodyUniqueId = column_id, \\\n",
        "                       linkIndex= -1)\n"
      ],
      "metadata": {
        "colab": {
          "base_uri": "https://localhost:8080/",
          "height": 193
        },
        "id": "aPr4IRCGq3pk",
        "outputId": "75ca3369-939f-4118-bf18-60e85dac5d42"
      },
      "execution_count": 6,
      "outputs": [
        {
          "output_type": "error",
          "ename": "NameError",
          "evalue": "name 'leg_id' is not defined",
          "traceback": [
            "\u001b[0;31m---------------------------------------------------------------------------\u001b[0m",
            "\u001b[0;31mNameError\u001b[0m                                 Traceback (most recent call last)",
            "\u001b[0;32m<ipython-input-6-a5d83bdfad38>\u001b[0m in \u001b[0;36m<cell line: 1>\u001b[0;34m()\u001b[0m\n\u001b[0;32m----> 1\u001b[0;31m p.createSoftBodyAnchor(elastic_joint_id, nodeIndex= 1, bodyUniqueId= leg_id, \\\n\u001b[0m\u001b[1;32m      2\u001b[0m                        linkIndex = -1)  \n\u001b[1;32m      3\u001b[0m p.createSoftBodyAnchor(elastic_joint_id, nodeIndex= 0, bodyUniqueId = column_id, \\\n\u001b[1;32m      4\u001b[0m                        linkIndex= -1)  \n",
            "\u001b[0;31mNameError\u001b[0m: name 'leg_id' is not defined"
          ]
        }
      ]
    },
    {
      "cell_type": "code",
      "source": [
        "camTargetPos = [0, 0, 0]\n",
        "cameraUp = [0, 0, 1]\n",
        "cameraPos = [1, 1, 1]\n",
        "p.setGravity(0, 0, -10)\n",
        "from google.colab import widgets\n",
        "import numpy as np\n",
        "import random\n",
        "import time\n",
        "from matplotlib import pylab\n",
        "grid = widgets.Grid(2, 2)\n",
        "yaw = 0\n",
        "for r in range(2):\n",
        "  for c in range(2):\n",
        "    yaw += 60\n",
        "    with grid.output_to(r, c):\n",
        "      grid.clear_cell()\n",
        "      pylab.figure(figsize=(10, 5))\n",
        "      pitch = -10.0\n",
        "      roll = 0\n",
        "      upAxisIndex = 2\n",
        "      camDistance = 0.3\n",
        "      pixelWidth = 640\n",
        "      pixelHeight = 480\n",
        "      nearPlane = 0.01\n",
        "      farPlane = 100\n",
        "      fov = 60\n",
        "      viewMatrix = p.computeViewMatrixFromYawPitchRoll(camTargetPos, camDistance, yaw, pitch,\n",
        "                                                                  roll, upAxisIndex)\n",
        "      aspect = pixelWidth / pixelHeight\n",
        "      projectionMatrix = p.computeProjectionMatrixFOV(fov, aspect, nearPlane, farPlane)\n",
        "\n",
        "      img_arr = p.getCameraImage(pixelWidth,pixelHeight,viewMatrix,projectionMatrix)\n",
        "      w = img_arr[0]  #width of the image, in pixels\n",
        "      h = img_arr[1]  #height of the image, in pixels\n",
        "      rgb = img_arr[2]  #color data RGB\n",
        "      dep = img_arr[3]  #depth data\n",
        "      print(\"w=\",w,\"h=\",h)\n",
        "      np_img_arr = np.reshape(rgb, (h, w, 4))\n",
        "      np_img_arr = np_img_arr * (1. / 255.)\n",
        "      pylab.imshow(np_img_arr, interpolation='none', animated=True, label=\"pybullet\")\n"
      ],
      "metadata": {
        "colab": {
          "base_uri": "https://localhost:8080/",
          "height": 1000
        },
        "id": "8a-J5k0qnjBX",
        "outputId": "63ede3e8-ffcb-413d-e71f-2c989768884d"
      },
      "execution_count": 7,
      "outputs": [
        {
          "output_type": "display_data",
          "data": {
            "text/plain": [
              "<IPython.core.display.HTML object>"
            ],
            "text/html": [
              "<style>\n",
              "       table#id2, #id2 > tbody > tr > th, #id2 > tbody > tr > td {\n",
              "         border: 1px solid lightgray;\n",
              "         border-collapse:collapse;\n",
              "         \n",
              "        }</style>"
            ]
          },
          "metadata": {}
        },
        {
          "output_type": "display_data",
          "data": {
            "text/plain": [
              "<IPython.core.display.HTML object>"
            ],
            "text/html": [
              "<table id=id2><tr><td id=id2-0-0></td><td id=id2-0-1></td></tr><tr><td id=id2-1-0></td><td id=id2-1-1></td></tr></table>"
            ]
          },
          "metadata": {}
        },
        {
          "output_type": "display_data",
          "data": {
            "text/plain": [
              "<IPython.core.display.Javascript object>"
            ],
            "application/javascript": [
              "window[\"bae38b24-a129-11ef-8abc-0242ac1c000c\"] = google.colab.output.getActiveOutputArea();\n",
              "//# sourceURL=js_2b28b36e78"
            ]
          },
          "metadata": {}
        },
        {
          "output_type": "display_data",
          "data": {
            "text/plain": [
              "<IPython.core.display.Javascript object>"
            ],
            "application/javascript": [
              "window[\"bae483f8-a129-11ef-8abc-0242ac1c000c\"] = document.querySelector(\"#id2-0-0\");\n",
              "//# sourceURL=js_a098f5e315"
            ]
          },
          "metadata": {}
        },
        {
          "output_type": "display_data",
          "data": {
            "text/plain": [
              "<IPython.core.display.Javascript object>"
            ],
            "application/javascript": [
              "window[\"bae5b0ca-a129-11ef-8abc-0242ac1c000c\"] = google.colab.output.setActiveOutputArea(window[\"bae483f8-a129-11ef-8abc-0242ac1c000c\"]);\n",
              "//# sourceURL=js_7674fa0bf8"
            ]
          },
          "metadata": {}
        },
        {
          "output_type": "stream",
          "name": "stdout",
          "text": [
            "w= 640 h= 480\n"
          ]
        },
        {
          "output_type": "display_data",
          "data": {
            "text/plain": [
              "<IPython.core.display.Javascript object>"
            ],
            "application/javascript": [
              "window[\"bb2705c0-a129-11ef-8abc-0242ac1c000c\"] = google.colab.output.setActiveOutputArea(window[\"bae38b24-a129-11ef-8abc-0242ac1c000c\"]);\n",
              "//# sourceURL=js_eddc57047c"
            ]
          },
          "metadata": {}
        },
        {
          "output_type": "display_data",
          "data": {
            "text/plain": [
              "<IPython.core.display.Javascript object>"
            ],
            "application/javascript": [
              "window[\"bb2cbb50-a129-11ef-8abc-0242ac1c000c\"] = google.colab.output.getActiveOutputArea();\n",
              "//# sourceURL=js_9066f4fb78"
            ]
          },
          "metadata": {}
        },
        {
          "output_type": "display_data",
          "data": {
            "text/plain": [
              "<IPython.core.display.Javascript object>"
            ],
            "application/javascript": [
              "window[\"bb2d5d26-a129-11ef-8abc-0242ac1c000c\"] = document.querySelector(\"#id2-0-1\");\n",
              "//# sourceURL=js_a21a04df99"
            ]
          },
          "metadata": {}
        },
        {
          "output_type": "display_data",
          "data": {
            "text/plain": [
              "<IPython.core.display.Javascript object>"
            ],
            "application/javascript": [
              "window[\"bb2e3bce-a129-11ef-8abc-0242ac1c000c\"] = google.colab.output.setActiveOutputArea(window[\"bb2d5d26-a129-11ef-8abc-0242ac1c000c\"]);\n",
              "//# sourceURL=js_dd6669c4c5"
            ]
          },
          "metadata": {}
        },
        {
          "output_type": "stream",
          "name": "stdout",
          "text": [
            "w= 640 h= 480\n"
          ]
        },
        {
          "output_type": "display_data",
          "data": {
            "text/plain": [
              "<IPython.core.display.Javascript object>"
            ],
            "application/javascript": [
              "window[\"bb4b1974-a129-11ef-8abc-0242ac1c000c\"] = google.colab.output.setActiveOutputArea(window[\"bb2cbb50-a129-11ef-8abc-0242ac1c000c\"]);\n",
              "//# sourceURL=js_64a4662f29"
            ]
          },
          "metadata": {}
        },
        {
          "output_type": "display_data",
          "data": {
            "text/plain": [
              "<IPython.core.display.Javascript object>"
            ],
            "application/javascript": [
              "window[\"bb4f0f16-a129-11ef-8abc-0242ac1c000c\"] = google.colab.output.getActiveOutputArea();\n",
              "//# sourceURL=js_9218dedb76"
            ]
          },
          "metadata": {}
        },
        {
          "output_type": "display_data",
          "data": {
            "text/plain": [
              "<IPython.core.display.Javascript object>"
            ],
            "application/javascript": [
              "window[\"bb4feb34-a129-11ef-8abc-0242ac1c000c\"] = document.querySelector(\"#id2-1-0\");\n",
              "//# sourceURL=js_3c8b537e3d"
            ]
          },
          "metadata": {}
        },
        {
          "output_type": "display_data",
          "data": {
            "text/plain": [
              "<IPython.core.display.Javascript object>"
            ],
            "application/javascript": [
              "window[\"bb50d90e-a129-11ef-8abc-0242ac1c000c\"] = google.colab.output.setActiveOutputArea(window[\"bb4feb34-a129-11ef-8abc-0242ac1c000c\"]);\n",
              "//# sourceURL=js_fb11e27997"
            ]
          },
          "metadata": {}
        },
        {
          "output_type": "stream",
          "name": "stdout",
          "text": [
            "w= 640 h= 480\n"
          ]
        },
        {
          "output_type": "display_data",
          "data": {
            "text/plain": [
              "<IPython.core.display.Javascript object>"
            ],
            "application/javascript": [
              "window[\"bb7ca494-a129-11ef-8abc-0242ac1c000c\"] = google.colab.output.setActiveOutputArea(window[\"bb4f0f16-a129-11ef-8abc-0242ac1c000c\"]);\n",
              "//# sourceURL=js_103f1385d7"
            ]
          },
          "metadata": {}
        },
        {
          "output_type": "display_data",
          "data": {
            "text/plain": [
              "<IPython.core.display.Javascript object>"
            ],
            "application/javascript": [
              "window[\"bb816fb0-a129-11ef-8abc-0242ac1c000c\"] = google.colab.output.getActiveOutputArea();\n",
              "//# sourceURL=js_9dd88e2101"
            ]
          },
          "metadata": {}
        },
        {
          "output_type": "display_data",
          "data": {
            "text/plain": [
              "<IPython.core.display.Javascript object>"
            ],
            "application/javascript": [
              "window[\"bb82f402-a129-11ef-8abc-0242ac1c000c\"] = document.querySelector(\"#id2-1-1\");\n",
              "//# sourceURL=js_fff67b84ba"
            ]
          },
          "metadata": {}
        },
        {
          "output_type": "display_data",
          "data": {
            "text/plain": [
              "<IPython.core.display.Javascript object>"
            ],
            "application/javascript": [
              "window[\"bb83b946-a129-11ef-8abc-0242ac1c000c\"] = google.colab.output.setActiveOutputArea(window[\"bb82f402-a129-11ef-8abc-0242ac1c000c\"]);\n",
              "//# sourceURL=js_8c9b4a4b53"
            ]
          },
          "metadata": {}
        },
        {
          "output_type": "stream",
          "name": "stdout",
          "text": [
            "w= 640 h= 480\n"
          ]
        },
        {
          "output_type": "display_data",
          "data": {
            "text/plain": [
              "<IPython.core.display.Javascript object>"
            ],
            "application/javascript": [
              "window[\"bbb4626c-a129-11ef-8abc-0242ac1c000c\"] = google.colab.output.setActiveOutputArea(window[\"bb816fb0-a129-11ef-8abc-0242ac1c000c\"]);\n",
              "//# sourceURL=js_547b7f226c"
            ]
          },
          "metadata": {}
        },
        {
          "output_type": "display_data",
          "data": {
            "text/plain": [
              "<Figure size 1000x500 with 1 Axes>"
            ],
            "image/png": "[encoded data removed]"
          },
          "metadata": {}
        },
        {
          "output_type": "display_data",
          "data": {
            "text/plain": [
              "<Figure size 1000x500 with 1 Axes>"
            ],
            "image/png": "[encoded data removed]"
          },
          "metadata": {}
        },
        {
          "output_type": "display_data",
          "data": {
            "text/plain": [
              "<Figure size 1000x500 with 1 Axes>"
            ],
            "image/png": "[encoded data removed]"
          },
          "metadata": {}
        },
        {
          "output_type": "display_data",
          "data": {
            "text/plain": [
              "<Figure size 1000x500 with 1 Axes>"
            ],
            "image/png": "[encoded data removed]"
          },
          "metadata": {}
        }
      ]
    },
    {
      "cell_type": "code",
      "source": [
        "p.disconnect()"
      ],
      "metadata": {
        "id": "ncJlkhkQqcAP"
      },
      "execution_count": 7,
      "outputs": []
    },
    {
      "cell_type": "code",
      "source": [],
      "metadata": {
        "id": "T3Y0lpl2wmeq"
      },
      "execution_count": null,
      "outputs": []
    }
  ]
}