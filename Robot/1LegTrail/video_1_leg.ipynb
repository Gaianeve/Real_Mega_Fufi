{
  "nbformat": 4,
  "nbformat_minor": 0,
  "metadata": {
    "colab": {
      "provenance": [],
      "toc_visible": true
    },
    "kernelspec": {
      "name": "python3",
      "display_name": "Python 3"
    },
    "language_info": {
      "name": "python"
    }
  },
  "cells": [
    {
      "cell_type": "code",
      "execution_count": 1,
      "metadata": {
        "id": "qrfBHBKPVG_W",
        "colab": {
          "base_uri": "https://localhost:8080/"
        },
        "outputId": "ee202bb0-636b-4294-80ab-8236b400fa16"
      },
      "outputs": [
        {
          "output_type": "stream",
          "name": "stdout",
          "text": [
            "Collecting pybullet\n",
            "  Downloading pybullet-3.2.6-cp310-cp310-manylinux_2_17_x86_64.manylinux2014_x86_64.whl.metadata (1.8 kB)\n",
            "Requirement already satisfied: imageio-ffmpeg in /usr/local/lib/python3.10/dist-packages (0.5.1)\n",
            "Requirement already satisfied: setuptools in /usr/local/lib/python3.10/dist-packages (from imageio-ffmpeg) (75.1.0)\n",
            "Downloading pybullet-3.2.6-cp310-cp310-manylinux_2_17_x86_64.manylinux2014_x86_64.whl (103.2 MB)\n",
            "\u001b[2K   \u001b[90m━━━━━━━━━━━━━━━━━━━━━━━━━━━━━━━━━━━━━━━━\u001b[0m \u001b[32m103.2/103.2 MB\u001b[0m \u001b[31m7.0 MB/s\u001b[0m eta \u001b[36m0:00:00\u001b[0m\n",
            "\u001b[?25hInstalling collected packages: pybullet\n",
            "Successfully installed pybullet-3.2.6\n"
          ]
        }
      ],
      "source": [
        "!pip install pybullet imageio-ffmpeg\n",
        "\n",
        "import os\n",
        "import time\n",
        "import math\n",
        "import numpy as np\n",
        "from PIL import Image\n",
        "import matplotlib.pyplot as plt\n",
        "import pybullet as p\n",
        "import pybullet_data\n",
        "import cv2\n",
        "import imageio_ffmpeg\n",
        "from base64 import b64encode\n",
        "from IPython.display import HTML"
      ]
    },
    {
      "cell_type": "code",
      "source": [
        "import numpy as np\n",
        "import imageio_ffmpeg\n",
        "import pybullet as p\n",
        "import math\n",
        "\n",
        "# Configura la simulazione e la fotocamera\n",
        "p.connect(p.DIRECT)  # Usa la modalità senza GUI per evitare un impatto sulle prestazioni\n",
        "p.resetSimulation() # Lui va chiamato la mattina appena apri il computer\n",
        "p.setGravity(0, 0, -9.81)\n",
        "p.setTimeStep(0.001)  # Imposta il passo temporale per la simulazione\n",
        "\n",
        "# Aggiungi il percorso dei dati PyBullet\n",
        "p.setAdditionalSearchPath(pybullet_data.getDataPath())"
      ],
      "metadata": {
        "id": "C9IxufaWVqkY"
      },
      "execution_count": 118,
      "outputs": []
    },
    {
      "cell_type": "code",
      "source": [
        "!git clone https://github.com/Gaianeve/Real_Mega_Fufi.git\n",
        "%cd Real_Mega_Fufi/Robot/1LegTrail/"
      ],
      "metadata": {
        "id": "CIediYkyVURI",
        "colab": {
          "base_uri": "https://localhost:8080/"
        },
        "outputId": "30ee3226-7c21-49b3-c392-a7f0d242164f"
      },
      "execution_count": 3,
      "outputs": [
        {
          "output_type": "stream",
          "name": "stdout",
          "text": [
            "Cloning into 'Real_Mega_Fufi'...\n",
            "remote: Enumerating objects: 1373, done.\u001b[K\n",
            "remote: Counting objects: 100% (378/378), done.\u001b[K\n",
            "remote: Compressing objects: 100% (340/340), done.\u001b[K\n",
            "remote: Total 1373 (delta 283), reused 37 (delta 37), pack-reused 995 (from 3)\u001b[K\n",
            "Receiving objects: 100% (1373/1373), 15.06 MiB | 10.39 MiB/s, done.\n",
            "Resolving deltas: 100% (892/892), done.\n",
            "/content/Real_Mega_Fufi/Robot/1LegTrail\n"
          ]
        }
      ]
    },
    {
      "cell_type": "code",
      "source": [
        "plane_pos = [0,0,0]\n",
        "plane = p.loadURDF(\"plane.urdf\", plane_pos, useFixedBase=True)\n",
        "\n",
        "# position of the base of the model\n",
        "PIP_position = [0,0,0]\n",
        "orientation  = [0,0,0]\n",
        "PIP_orientation = p.getQuaternionFromEuler(orientation)\n",
        "PIPPA_id = p.loadURDF(\"PIPPA_oneleg.urdf\", basePosition = PIP_position, baseOrientation = PIP_orientation, \\\n",
        "                      useFixedBase=False)\n"
      ],
      "metadata": {
        "id": "xTmD06WhVf2f"
      },
      "execution_count": 119,
      "outputs": []
    },
    {
      "cell_type": "code",
      "source": [
        "#change colors\n",
        "p.changeVisualShape(PIPPA_id, -1, rgbaColor=[1, 0.65, 0, 1]) #terreno arancione\n",
        "p.changeVisualShape(PIPPA_id, 0, rgbaColor=[0.5, 1, 0.5, 1]) #colonna verdino\n",
        "p.changeVisualShape(PIPPA_id, 1, rgbaColor=[0.5, 0.8, 1, 1]) #colonna azzurrino"
      ],
      "metadata": {
        "id": "6BqCwYmUbinq"
      },
      "execution_count": 120,
      "outputs": []
    },
    {
      "cell_type": "code",
      "source": [
        "link_name_to_index = {p.getBodyInfo(PIPPA_id)[0].decode('UTF-8'):-1,}\n",
        "\n",
        "for id in range(p.getNumJoints(PIPPA_id)):\n",
        "  name = p.getJointInfo(PIPPA_id, id)[12].decode('UTF-8')\n",
        "  link_name_to_index[name] = id\n",
        "\n",
        "angular_damping = 1\n",
        "for link_index in range(-1, 2):\n",
        "  print(link_index)\n",
        "  p.changeDynamics(\n",
        "    bodyUniqueId=PIPPA_id,\n",
        "      linkIndex=link_index,\n",
        "      angularDamping=angular_damping\n",
        "  )\n"
      ],
      "metadata": {
        "id": "p0WviiOdV3D_",
        "colab": {
          "base_uri": "https://localhost:8080/"
        },
        "outputId": "e254ce25-843f-4604-c183-c2bcad508aa5"
      },
      "execution_count": 121,
      "outputs": [
        {
          "output_type": "stream",
          "name": "stdout",
          "text": [
            "-1\n",
            "0\n",
            "1\n"
          ]
        }
      ]
    },
    {
      "cell_type": "code",
      "source": [
        "#get initial position (rest)\n",
        "column_position, _ = p.getBasePositionAndOrientation(PIPPA_id)\n",
        "x_rest_column = column_position[0]\n",
        "y_rest_column = column_position[1]\n",
        "\n",
        "joint_position, _ = p.getLinkState(PIPPA_id, 0)[0:2]\n",
        "x_rest_joint = joint_position[0]\n",
        "y_rest_joint = joint_position[1]\n",
        "\n",
        "leg_position, _ = p.getLinkState(PIPPA_id, 1)[0:2]\n",
        "x_rest_leg = leg_position[0]\n",
        "y_rest_leg = leg_position[1]\n",
        "\n",
        "#esternale force due to seismic motion\n",
        "force_module = np.array([0.00000025, 0, 0])\n",
        "force_position = column_position\n",
        "\n",
        "#elastic force:\n",
        "def spring(x_now, y_now, x_rest, y_rest):\n",
        "  force_module_x = -1800*(x_now - x_rest)\n",
        "  force_module_y =  -1800*(y_now - y_rest)\n",
        "  return force_module_x, force_module_y"
      ],
      "metadata": {
        "id": "CnmaDuc7M_4U"
      },
      "execution_count": 122,
      "outputs": []
    },
    {
      "cell_type": "code",
      "source": [
        "\n",
        "# Parametri della fotocamera\n",
        "cam_target_pos = [0, 0, 0]\n",
        "cam_distance = 2\n",
        "cam_yaw, cam_pitch, cam_roll = 50, -30.0, 0\n",
        "cam_width, cam_height = 480, 360\n",
        "cam_up_axis_idx = 2\n",
        "cam_fov = 60\n",
        "cam_near_plane, cam_far_plane = 0.01, 100\n",
        "\n",
        "# Imposta la registrazione del video\n",
        "vid = imageio_ffmpeg.write_frames('simulation_output.mp4', (cam_width, cam_height), fps=30)\n",
        "vid.send(None)  # Inizializza con un fotogramma vuoto\n",
        "p.stepSimulation()"
      ],
      "metadata": {
        "id": "lgiu-Z68WGnL",
        "colab": {
          "base_uri": "https://localhost:8080/"
        },
        "outputId": "ef30447d-76c7-4ff2-e620-a46a92c857ea"
      },
      "execution_count": 123,
      "outputs": [
        {
          "output_type": "stream",
          "name": "stderr",
          "text": [
            "WARNING:imageio_ffmpeg:IMAGEIO FFMPEG_WRITER WARNING: input image is not divisible by macro_block_size=16, resizing from (480, 360) to (480, 368) to ensure video compatibility with most codecs and players. To prevent resizing, make your input image divisible by the macro_block_size or set the macro_block_size to 1 (risking incompatibility).\n"
          ]
        },
        {
          "output_type": "execute_result",
          "data": {
            "text/plain": [
              "()"
            ]
          },
          "metadata": {},
          "execution_count": 123
        }
      ]
    },
    {
      "cell_type": "code",
      "source": [
        "# Liste per registrare le posizioni\n",
        "leg_positions_x, leg_positions_y, leg_position_z = [], [], []\n",
        "joint_positions_x, joint_positions_y, joint_position_z = [], [], []\n",
        "column_positions_x, column_positions_y, column_positions_z = [], [], []\n",
        "\n",
        "#liste per la variazione di posizione\n",
        "delta_x_leg, delta_y_leg = [],[]\n",
        "delta_x_joint, delta_y_joint = [],[]\n",
        "delta_x_column, delta_y_column = [],[]\n",
        "\n",
        "#lista per le forze\n",
        "force_x_column, force_y_column = [],[]\n",
        "force_x_leg, force_y_leg = [],[]\n",
        "force_x_joint, force_y_joint = [],[]"
      ],
      "metadata": {
        "id": "ElFCNSIrs41P"
      },
      "execution_count": 124,
      "outputs": []
    },
    {
      "cell_type": "code",
      "source": [
        "# Ciclo principale della simulazione\n",
        "for step in range(2000):\n",
        "    #print(f'\\rtimestep {step}...', end='')\n",
        "    if 50 <= step < 1000:\n",
        "      # Applicare la forza esterna al primo passo della simulazione\n",
        "      p.applyExternalForce(\n",
        "          objectUniqueId= PIPPA_id,\n",
        "          linkIndex=-1,\n",
        "          forceObj=force_module,\n",
        "          posObj=force_position,\n",
        "          flags=p.WORLD_FRAME\n",
        "        )\n",
        "      #apply elastic call back forces\n",
        "    else:\n",
        "      p.applyExternalForce(\n",
        "          objectUniqueId= PIPPA_id,\n",
        "          linkIndex=-1,\n",
        "          forceObj=-force_module,\n",
        "          posObj=force_position,\n",
        "          flags=p.WORLD_FRAME\n",
        "      )\n",
        "    #columm\n",
        "    elastic_force_x_column, elastic_force_y_column = spring(column_position[0], \\\n",
        "                                                          column_position[1], \\\n",
        "                                                          x_rest_column, \\\n",
        "                                                          y_rest_column)\n",
        "    elastic_force_column = [elastic_force_x_column, elastic_force_y_column,0]\n",
        "    force_x_column.append(elastic_force_x_column)\n",
        "    force_y_column.append(elastic_force_y_column)\n",
        "\n",
        "    #leg\n",
        "    elastic_force_x_leg, elastic_force_y_leg = spring(leg_position[0], \\\n",
        "                                                    leg_position[1], \\\n",
        "                                                    x_rest_leg, \\\n",
        "                                                    y_rest_leg)\n",
        "    elastic_force_leg = [elastic_force_x_leg, elastic_force_y_leg,0]\n",
        "    force_x_leg.append(elastic_force_x_leg)\n",
        "    force_y_leg.append(elastic_force_y_leg)\n",
        "\n",
        "    #joint\n",
        "    elastic_force_x_joint, elastic_force_y_joint = spring(joint_position[0], \\\n",
        "                                                          joint_position[1], \\\n",
        "                                                          x_rest_joint, \\\n",
        "                                                          y_rest_joint )\n",
        "    elastic_force_joint = [elastic_force_x_joint, elastic_force_y_joint,0]\n",
        "    force_x_joint.append(elastic_force_x_joint)\n",
        "    force_y_joint.append(elastic_force_y_joint)\n",
        "\n",
        "    # elastic forcce on leg\n",
        "    p.applyExternalForce(\n",
        "        objectUniqueId= PIPPA_id,\n",
        "        linkIndex=1,\n",
        "        forceObj=elastic_force_leg,\n",
        "        posObj=leg_position,\n",
        "        flags=p.WORLD_FRAME\n",
        "      )\n",
        "    #elastic force on column\n",
        "    p.applyExternalForce(\n",
        "        objectUniqueId= PIPPA_id,\n",
        "        linkIndex= -1,\n",
        "        forceObj=elastic_force_column,\n",
        "        posObj=column_position,\n",
        "        flags=p.WORLD_FRAME\n",
        "      )\n",
        "    #elastic force on joint\n",
        "    p.applyExternalForce(\n",
        "        objectUniqueId= PIPPA_id,\n",
        "        linkIndex=0,\n",
        "        forceObj=elastic_force_joint,\n",
        "        posObj=joint_position,\n",
        "        flags=p.WORLD_FRAME\n",
        "      )\n",
        "\n",
        "    #get new positions\n",
        "    leg_position, _ = p.getLinkState(PIPPA_id,1)[0:2]\n",
        "    leg_positions_x.append(leg_position[0])\n",
        "    leg_positions_y.append(leg_position[1])\n",
        "    leg_position_z.append(leg_position[2])\n",
        "\n",
        "    #column position\n",
        "    column_position, _ = p.getBasePositionAndOrientation(PIPPA_id)\n",
        "    column_positions_x.append(column_position[0])\n",
        "    column_positions_y.append(column_position[1])\n",
        "    column_positions_z.append(column_position[2])\n",
        "\n",
        "    #joint position\n",
        "    joint_position, _ = p.getLinkState(PIPPA_id,0)[0:2]\n",
        "    joint_positions_x.append(joint_position[0])\n",
        "    joint_positions_y.append(joint_position[1])\n",
        "    joint_position_z.append(joint_position[2])\n",
        "\n",
        "    # Aggiorna il video\n",
        "    # Calcola la vista e la proiezione della fotocamera\n",
        "    cam_view_matrix = p.computeViewMatrixFromYawPitchRoll(\n",
        "        cam_target_pos, cam_distance, cam_yaw, cam_pitch, cam_roll, cam_up_axis_idx\n",
        "    )\n",
        "    cam_projection_matrix = p.computeProjectionMatrixFOV(\n",
        "        cam_fov, cam_width / cam_height, cam_near_plane, cam_far_plane\n",
        "    )\n",
        "\n",
        "    # Cattura l'immagine\n",
        "    image = p.getCameraImage(cam_width, cam_height, cam_view_matrix, cam_projection_matrix)[2][:, :, :3]\n",
        "\n",
        "    # Scrivi il fotogramma nel video\n",
        "    vid.send(np.ascontiguousarray(image))\n",
        "\n",
        "    p.stepSimulation()  # Avanza di un passo nella simulazione\n",
        "\n",
        "# Rilascia le risorse video\n",
        "vid.close()\n",
        "# Disconnessione dalla simulazione\n",
        "p.disconnect()"
      ],
      "metadata": {
        "id": "Rj636ULSVxzc"
      },
      "execution_count": null,
      "outputs": []
    },
    {
      "cell_type": "code",
      "source": [
        "# Ora visualizziamo il video registrato nel notebook\n",
        "mp4 = open('simulation_output.mp4', 'rb').read()  # Leggi il file video\n",
        "data_url = \"data:video/mp4;base64,\" + b64encode(mp4).decode()  # Convertilo in Base64\n",
        "\n",
        "# Visualizza il video nel notebook Jupyter\n",
        "HTML('<video width=480 controls><source src=\"%s\" type=\"video/mp4\"></video>' % data_url)"
      ],
      "metadata": {
        "id": "aKcYJPaQW5zM"
      },
      "execution_count": null,
      "outputs": []
    },
    {
      "cell_type": "code",
      "source": [
        "##plotting positions\n",
        "plt.figure('Leg positions')\n",
        "plt.plot(leg_positions_x, label='x')\n",
        "plt.plot(leg_positions_y, label='y')\n",
        "#plt.plot(leg_position_z, label='z')\n",
        "plt.xlabel('Time step')\n",
        "plt.ylabel('Leg Position')\n",
        "plt.legend()\n",
        "plt.grid()\n",
        "plt.minorticks_on()\n",
        "p#lt.ylim(-10,10)\n",
        "#plt.xlim(50, 1000)\n",
        "plt.show()"
      ],
      "metadata": {
        "id": "dHNYHWC8WgbO"
      },
      "execution_count": null,
      "outputs": []
    },
    {
      "cell_type": "code",
      "source": [
        "#plot column positions\n",
        "plt.figure('column')\n",
        "plt.plot(column_positions_x, label='x')\n",
        "plt.plot( column_positions_y, label='y')\n",
        "#plt.plot(column_positions_z, label='z')\n",
        "plt.xlabel('Time step')\n",
        "plt.ylabel('column Position')\n",
        "plt.legend()\n",
        "plt.grid()\n",
        "plt.minorticks_on()\n",
        "#plt.ylim(-0.05,0.0000)\n",
        "#plt.xlim(50, 500)\n",
        "plt.show()"
      ],
      "metadata": {
        "id": "FR627lwFSDks"
      },
      "execution_count": null,
      "outputs": []
    },
    {
      "cell_type": "code",
      "source": [
        "#plot elastic forces applied\n",
        "plt.figure('elastic force column')\n",
        "plt.plot([x/1800 for x in force_x_column], label='x')\n",
        "plt.plot([y/1800 for y in force_y_column], label='y')\n",
        "plt.xlabel('Time step')\n",
        "plt.ylabel('elastic force column')\n",
        "plt.legend()\n",
        "plt.grid()\n",
        "#plt.xlim(49,200)\n",
        "plt.minorticks_on()"
      ],
      "metadata": {
        "id": "C-ejbn0DSDnz"
      },
      "execution_count": null,
      "outputs": []
    },
    {
      "cell_type": "code",
      "source": [
        "plt.figure('elastic force leg')\n",
        "plt.plot(force_x_leg, label='x')\n",
        "plt.plot(force_y_leg, label='y')\n",
        "plt.xlabel('Time step')\n",
        "plt.ylabel('elastic force leg')\n",
        "plt.legend()\n",
        "plt.grid()\n",
        "plt.minorticks_on()"
      ],
      "metadata": {
        "id": "9KCF5w3QWrAT"
      },
      "execution_count": null,
      "outputs": []
    },
    {
      "cell_type": "code",
      "source": [
        "plt.figure('elastic force joint')\n",
        "plt.plot(force_x_joint, label='x')\n",
        "plt.plot(force_y_joint, label='y')\n",
        "plt.xlabel('Time step')\n",
        "plt.ylabel('elastic force joint')\n",
        "plt.legend()\n",
        "plt.grid()\n",
        "plt.minorticks_on()\n"
      ],
      "metadata": {
        "id": "EX3z__sohzXm"
      },
      "execution_count": null,
      "outputs": []
    },
    {
      "cell_type": "code",
      "source": [],
      "metadata": {
        "id": "QmnSoUCLUUrm"
      },
      "execution_count": 117,
      "outputs": []
    }
  ]
}