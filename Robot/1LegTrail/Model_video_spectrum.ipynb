{
  "nbformat": 4,
  "nbformat_minor": 0,
  "metadata": {
    "colab": {
      "provenance": [],
      "toc_visible": true
    },
    "kernelspec": {
      "name": "python3",
      "display_name": "Python 3"
    },
    "language_info": {
      "name": "python"
    }
  },
  "cells": [
    {
      "cell_type": "markdown",
      "source": [
        "# One leg PIP model 🦿 🎐"
      ],
      "metadata": {
        "id": "ov5cKjUxEhZH"
      }
    },
    {
      "cell_type": "markdown",
      "source": [
        "## Burocrazia\n",
        "La maggior parte di queste librerie servono per fare il video in Colab"
      ],
      "metadata": {
        "id": "LX00t_HpEoqn"
      }
    },
    {
      "cell_type": "code",
      "execution_count": 1,
      "metadata": {
        "colab": {
          "base_uri": "https://localhost:8080/"
        },
        "id": "sQAZAp1JD1gR",
        "outputId": "a6b84b98-3d14-4329-f96f-def734f53f21"
      },
      "outputs": [
        {
          "output_type": "stream",
          "name": "stdout",
          "text": [
            "Collecting pybullet\n",
            "  Downloading pybullet-3.2.6-cp310-cp310-manylinux_2_17_x86_64.manylinux2014_x86_64.whl.metadata (1.8 kB)\n",
            "Requirement already satisfied: imageio-ffmpeg in /usr/local/lib/python3.10/dist-packages (0.5.1)\n",
            "Requirement already satisfied: setuptools in /usr/local/lib/python3.10/dist-packages (from imageio-ffmpeg) (75.1.0)\n",
            "Downloading pybullet-3.2.6-cp310-cp310-manylinux_2_17_x86_64.manylinux2014_x86_64.whl (103.2 MB)\n",
            "\u001b[2K   \u001b[90m━━━━━━━━━━━━━━━━━━━━━━━━━━━━━━━━━━━━━━━━\u001b[0m \u001b[32m103.2/103.2 MB\u001b[0m \u001b[31m6.3 MB/s\u001b[0m eta \u001b[36m0:00:00\u001b[0m\n",
            "\u001b[?25hInstalling collected packages: pybullet\n",
            "Successfully installed pybullet-3.2.6\n"
          ]
        }
      ],
      "source": [
        "!pip install pybullet imageio-ffmpeg\n",
        "\n",
        "import os\n",
        "import time\n",
        "import math\n",
        "import numpy as np\n",
        "from PIL import Image\n",
        "import matplotlib.pyplot as plt\n",
        "import pybullet as p\n",
        "import pybullet_data as pd\n",
        "import cv2\n",
        "import imageio_ffmpeg\n",
        "from base64 import b64encode\n",
        "from IPython.display import HTML\n"
      ]
    },
    {
      "cell_type": "markdown",
      "source": [
        "## Getting model 🦭 📡"
      ],
      "metadata": {
        "id": "8zHiuvDxE4kw"
      }
    },
    {
      "cell_type": "code",
      "source": [
        "!git clone https://github.com/Gaianeve/Real_Mega_Fufi.git\n",
        "%cd Real_Mega_Fufi/Robot/1LegTrail/"
      ],
      "metadata": {
        "colab": {
          "base_uri": "https://localhost:8080/"
        },
        "id": "iXqTUlomEaP6",
        "outputId": "94b39918-7130-45bb-b9d2-461fffdfd9b8"
      },
      "execution_count": 2,
      "outputs": [
        {
          "output_type": "stream",
          "name": "stdout",
          "text": [
            "Cloning into 'Real_Mega_Fufi'...\n",
            "remote: Enumerating objects: 965, done.\u001b[K\n",
            "remote: Counting objects: 100% (408/408), done.\u001b[K\n",
            "remote: Compressing objects: 100% (229/229), done.\u001b[K\n",
            "remote: Total 965 (delta 322), reused 244 (delta 178), pack-reused 557 (from 1)\u001b[K\n",
            "Receiving objects: 100% (965/965), 8.58 MiB | 13.40 MiB/s, done.\n",
            "Resolving deltas: 100% (635/635), done.\n",
            "/content/Real_Mega_Fufi/Robot/1LegTrail\n"
          ]
        }
      ]
    },
    {
      "cell_type": "markdown",
      "source": [
        "## Pybullet set up 🔖 📚 🐨"
      ],
      "metadata": {
        "id": "Ik0MnsNjFAuV"
      }
    },
    {
      "cell_type": "code",
      "source": [
        "#connecting\n",
        "p.connect(p.DIRECT)\n",
        "\n",
        "# using FEM\n",
        "p.resetSimulation(p.RESET_USE_DEFORMABLE_WORLD)\n",
        "#set sampling time\n",
        "p.setGravity(0, 0, -9.81)\n",
        "# set sampling time\n",
        "p.setTimeStep(0.01)\n",
        "\n",
        "\n",
        "# Aggiungi il percorso dei dati PyBullet for the plane\n",
        "p.setAdditionalSearchPath(pd.getDataPath())\n",
        ""
      ],
      "metadata": {
        "id": "3097JjpJEVNS"
      },
      "execution_count": 14,
      "outputs": []
    },
    {
      "cell_type": "markdown",
      "source": [
        "## Importing objects and chaning visual shape 🏮 🍀"
      ],
      "metadata": {
        "id": "wm6quNPlFn7n"
      }
    },
    {
      "cell_type": "markdown",
      "source": [
        "Importing plane and fix it on the ground"
      ],
      "metadata": {
        "id": "7BiGAOTpF5uj"
      }
    },
    {
      "cell_type": "code",
      "source": [
        "useFixedBase = True\n",
        "plane_pos = [0,0,0]\n",
        "plane = p.loadURDF(\"plane.urdf\", plane_pos, useFixedBase=useFixedBase)"
      ],
      "metadata": {
        "id": "9s2_2mTyFYoX"
      },
      "execution_count": 4,
      "outputs": []
    },
    {
      "cell_type": "markdown",
      "source": [
        "Importing joint. It's a .obj file, so be sure to look at the important note in this notebook [here](https://colab.research.google.com/github/Gaianeve/Real_Mega_Fufi/blob/main/Robot/1LegTrail/See_model.ipynb?hl=it#scrollTo=cY6oVd0Um4e_)"
      ],
      "metadata": {
        "id": "vWB1DyG6GAdH"
      }
    },
    {
      "cell_type": "code",
      "source": [
        "elastic_joint_id = p.loadSoftBody(\"single_elastic_joint.obj\", \\\n",
        "                                  mass=0.0569, \\\n",
        "                                  useNeoHookean=1, \\\n",
        "                                  NeoHookeanMu=76.92,\\\n",
        "                                  NeoHookeanLambda=115.38, \\\n",
        "                                  NeoHookeanDamping=0.01,\\\n",
        "                                  collisionMargin=0.005,\\\n",
        "                                  useSelfCollision=0,\\\n",
        "                                  frictionCoeff=0.5)\n",
        "#arancione\n",
        "p.changeVisualShape(elastic_joint_id, -1, rgbaColor=[1, 0.65, 0, 1])"
      ],
      "metadata": {
        "id": "cp1s3wMDFbZo"
      },
      "execution_count": 5,
      "outputs": []
    },
    {
      "cell_type": "markdown",
      "source": [
        "Importing column and leg. See the same notebook as before for details on positions."
      ],
      "metadata": {
        "id": "nSDV69L3GOfH"
      }
    },
    {
      "cell_type": "code",
      "source": [
        "#get column\n",
        "joint_x, joint_y, joint_z = p.getBasePositionAndOrientation(elastic_joint_id)[0]\n",
        "column_position = [joint_x, joint_y, 0.1]\n",
        "column_orientation = p.getQuaternionFromEuler([0,0,0])\n",
        "\n",
        "column_id = p.loadURDF(\"pippa_oneleg_column.urdf\", \\\n",
        "                       basePosition = column_position, \\\n",
        "                       baseOrientation =column_orientation , \\\n",
        "                       useFixedBase=useFixedBase)\n",
        "# verdino\n",
        "p.changeVisualShape(column_id, -1, rgbaColor=[0.5, 1, 0.5, 1])\n",
        "\n",
        "#get leg\n",
        "leg_position = [joint_x,joint_y,0.6175]\n",
        "leg_orientation = p.getQuaternionFromEuler([0,0,0])\n",
        "leg_id = p.loadURDF(\"pippa_oneleg_leg.urdf\", \\\n",
        "                       basePosition = leg_position, \\\n",
        "                       baseOrientation = leg_orientation )\n",
        "# azzurrino\n",
        "p.changeVisualShape(leg_id, -1, rgbaColor=[0.5, 0.8, 1, 1])\n"
      ],
      "metadata": {
        "id": "jVEyqdrQFdvR"
      },
      "execution_count": 6,
      "outputs": []
    },
    {
      "cell_type": "markdown",
      "source": [
        "## Changing materials 🤘"
      ],
      "metadata": {
        "id": "9MGaOwm9INjT"
      }
    },
    {
      "cell_type": "code",
      "source": [
        "# AL 6082 (Alluminio)\n",
        "lateralFriction_Al = 0.3\n",
        "restitution_Al = 0.2\n",
        "rollingFriction_Al = 0.001\n",
        "spinningFriction_Al = 0.01\n",
        "linearDamping_Al = 0.04\n",
        "angularDamping_Al = 0.1\n",
        "contactStiffness_Al = 3e6\n",
        "contactDamping_Al = 800\n",
        "\n",
        "# AISI 304 (Acciaio Inox)\n",
        "lateralFriction_AISI = 0.4\n",
        "restitution_AISI = 0.1\n",
        "rollingFriction_AISI = 0.001\n",
        "spinningFriction_AISI= 0.05\n",
        "linearDamping_AISI = 0.03\n",
        "angularDamping_AISI = 0.1\n",
        "contactStiffness_AISI = 8e6\n",
        "contactDamping_AISI = 1500\n",
        "\n",
        "# Acciaio Maraging (Maragià per gli amici)\n",
        "lateralFriction_Mar = 0.3\n",
        "restitution_Mar = 0.2\n",
        "rollingFriction_Mar = 0.001\n",
        "spinningFriction_Mar = 0.02\n",
        "linearDamping_Mar = 0.04\n",
        "angularDamping_Mar = 0.15\n",
        "contactStiffness_Mar = 3e6\n",
        "contactDamping_Mar = 800"
      ],
      "metadata": {
        "id": "4lQcGR7AIMlc"
      },
      "execution_count": null,
      "outputs": []
    },
    {
      "cell_type": "code",
      "source": [
        "# Al\n",
        "p.changeDynamics(leg_id, -1, lateralFriction=lateralFriction_Al,\\\n",
        "                  restitution=restitution_Al, \\\n",
        "                  spinningFriction= spinningFriction_Al, rollingFriction= rollingFriction_Al,\\\n",
        "                  linearDamping=linearDamping_Al, angularDamping=angularDamping_Al,\\\n",
        "                  contactStiffness = contactStiffness_Al,contactDamping = contactDamping_Al)\n",
        "# AISI 304\n",
        "\n",
        "p.changeDynamics(column_id, -1, lateralFriction=lateralFriction_AISI,\\\n",
        "                  restitution=restitution_AISI, \\\n",
        "                  spinningFriction= spinningFriction_AISI, rollingFriction= rollingFriction_AISI,\\\n",
        "                  linearDamping=linearDamping_AISI, angularDamping=angularDamping_AISI,\\\n",
        "                  contactStiffness = contactStiffness_AISI, contactDamping = contactDamping_AISI)\n",
        "#Maragià\n",
        "p.changeDynamics(elastic_joint_id, -1, lateralFriction=lateralFriction_Mar,\\\n",
        "                  restitution=restitution_Mar, \\\n",
        "                  spinningFriction= spinningFriction_Mar, rollingFriction= rollingFriction_Mar,\\\n",
        "                  linearDamping=linearDamping_Mar, angularDamping=angularDamping_Mar,\\\n",
        "                  contactStiffness = contactStiffness_Mar, contactDamping = contactDamping_Mar)\n",
        ""
      ],
      "metadata": {
        "id": "dK7vtJE6IsCj"
      },
      "execution_count": null,
      "outputs": []
    },
    {
      "cell_type": "markdown",
      "source": [
        "## Anchoring ⚓ 🦋\n",
        "See same notebook for details and functions sintax. Keep in mind that these function are not well documented on pybullet start guide!"
      ],
      "metadata": {
        "id": "WQ8lWvNHGay0"
      }
    },
    {
      "cell_type": "code",
      "source": [
        "# Recupera le posizioni dei nodi del soft body\n",
        "mesh_data = p.getMeshData(elastic_joint_id, flags=p.MESH_DATA_SIMULATION_MESH)\n",
        "\n",
        "# Check se i dati della mesh sono disponibili\n",
        "if mesh_data:\n",
        "    num_nodes = mesh_data[0]  # Numero di nodi\n",
        "    node_positions = mesh_data[1]  # Posizioni dei nodi\n",
        "\n",
        "    # Trova il valore medio della coordinata z per separare i nodi superiori e inferiori\n",
        "    z_values = [pos[2] for pos in node_positions]\n",
        "    print(f'z_values', z_values)\n",
        "    threshold_z = (min(z_values) + max(z_values)) / 2  # Soglia centrale\n",
        "    print(f'threshold_z', threshold_z)\n",
        "\n",
        "    # Ancoraggio dei nodi\n",
        "    for node_index, node_pos in enumerate(node_positions):\n",
        "        if node_pos[2] >= threshold_z:\n",
        "            # Nodo superiore: ancora alla gamba\n",
        "            p.createSoftBodyAnchor(elastic_joint_id, node_index, leg_id, -1)\n",
        "        else:\n",
        "            # Nodo inferiore: ancora alla colonna\n",
        "            p.createSoftBodyAnchor(elastic_joint_id, node_index, column_id, -1)\n",
        "else:\n",
        "    print(\"Errore: I dati della mesh non sono stati recuperati correttamente.\")\n"
      ],
      "metadata": {
        "colab": {
          "base_uri": "https://localhost:8080/"
        },
        "id": "n69ZUY8DGZ5t",
        "outputId": "af0ccede-a7af-4d72-8f20-5bc0275f5f62"
      },
      "execution_count": 7,
      "outputs": [
        {
          "output_type": "stream",
          "name": "stdout",
          "text": [
            "z_values [0.20000000298023224, 0.2800000011920929, 0.20000000298023224, 0.2800000011920929, 0.20000000298023224, 0.2800000011920929, 0.20000000298023224, 0.2800000011920929, 0.20000000298023224, 0.2800000011920929, 0.20000000298023224, 0.2800000011920929, 0.20000000298023224, 0.2800000011920929, 0.20000000298023224, 0.2800000011920929, 0.20000000298023224, 0.2800000011920929, 0.20000000298023224, 0.2800000011920929, 0.20000000298023224, 0.2800000011920929, 0.20000000298023224, 0.2800000011920929, 0.20000000298023224, 0.2800000011920929, 0.20000000298023224, 0.2800000011920929, 0.20000000298023224, 0.2800000011920929, 0.20000000298023224, 0.2800000011920929, 0.20000000298023224, 0.2800000011920929, 0.20000000298023224, 0.2800000011920929, 0.20000000298023224, 0.2800000011920929, 0.20000000298023224, 0.2800000011920929, 0.20000000298023224, 0.2800000011920929, 0.20000000298023224, 0.2800000011920929, 0.20000000298023224, 0.2800000011920929, 0.20000000298023224, 0.2800000011920929, 0.20000000298023224, 0.2800000011920929, 0.20000000298023224, 0.2800000011920929, 0.20000000298023224, 0.2800000011920929, 0.20000000298023224, 0.2800000011920929, 0.20000000298023224, 0.2800000011920929, 0.20000000298023224, 0.2800000011920929, 0.20000000298023224, 0.2800000011920929, 0.20000000298023224, 0.2800000011920929]\n",
            "threshold_z 0.24000000208616257\n"
          ]
        }
      ]
    },
    {
      "cell_type": "markdown",
      "source": [
        "## Video set up 🏔 🎥"
      ],
      "metadata": {
        "id": "QLLXqoe1G38_"
      }
    },
    {
      "cell_type": "code",
      "source": [
        "\n",
        "# Parametri della fotocamera\n",
        "cam_target_pos = [0, 0, 0]\n",
        "cam_distance = 2.0\n",
        "cam_yaw, cam_pitch, cam_roll = 50, -30.0, 0\n",
        "cam_width, cam_height = 480, 360\n",
        "cam_up_axis_idx = 2\n",
        "cam_fov = 60\n",
        "cam_near_plane, cam_far_plane = 0.01, 100\n",
        "\n",
        "# Imposta la registrazione del video\n",
        "vid = imageio_ffmpeg.write_frames('simulation_output.mp4', (cam_width, cam_height), fps=30)\n",
        "vid.send(None)  # Inizializza con un fotogramma vuoto\n",
        "\n",
        "# Parametri per la simulazione\n",
        "simulation_time = 180\n",
        "sampling_frequency = 1 / 100\n",
        "num_points = int(simulation_time * sampling_frequency)\n",
        "\n",
        "# Liste per registrare le posizioni\n",
        "leg_positions_x, leg_positions_y, leg_position_z = [], [], []\n",
        "\n",
        "# Forza esterna da applicare\n",
        "force_module = np.array([50, 0, 0])\n",
        "force_position = np.array([0, 0, 0.05])  # Posizione dove applicare la forza"
      ],
      "metadata": {
        "colab": {
          "base_uri": "https://localhost:8080/"
        },
        "id": "jwZuec42GtNi",
        "outputId": "5a3396e0-e7a3-4f09-f914-54ef17e3fc1c"
      },
      "execution_count": 11,
      "outputs": [
        {
          "output_type": "stream",
          "name": "stderr",
          "text": [
            "WARNING:imageio_ffmpeg:IMAGEIO FFMPEG_WRITER WARNING: input image is not divisible by macro_block_size=16, resizing from (480, 360) to (480, 368) to ensure video compatibility with most codecs and players. To prevent resizing, make your input image divisible by the macro_block_size or set the macro_block_size to 1 (risking incompatibility).\n",
            "WARNING:imageio_ffmpeg:No frames have been written; the written video is invalid.\n"
          ]
        }
      ]
    },
    {
      "cell_type": "markdown",
      "source": [
        "## Start simulation 🥠 🏃"
      ],
      "metadata": {
        "id": "nouSUip4HKCy"
      }
    },
    {
      "cell_type": "code",
      "source": [
        "# Ciclo principale della simulazione\n",
        "for step in range(1000):\n",
        "    print(f'\\rtimestep {step}...', end='')\n",
        "    if step == 50:\n",
        "      # Applicare la forza esterna al primo passo della simulazione\n",
        "      p.applyExternalForce(\n",
        "          objectUniqueId= column_id,\n",
        "          linkIndex=-1,\n",
        "          forceObj=force_module,\n",
        "          posObj=force_position,\n",
        "          flags=p.WORLD_FRAME\n",
        "      )\n",
        "\n",
        "    # Registrazione della posizione della gamba\n",
        "    leg_position = p.getBasePositionAndOrientation(leg_id, -1)[0]\n",
        "    leg_positions_x.append(leg_position[0])\n",
        "    leg_positions_y.append(leg_position[1])\n",
        "    leg_position_z.append(leg_position[2])\n",
        "\n",
        "    # Calcola la vista e la proiezione della fotocamera\n",
        "    cam_view_matrix = p.computeViewMatrixFromYawPitchRoll(\n",
        "        cam_target_pos, cam_distance, cam_yaw, cam_pitch, cam_roll, cam_up_axis_idx\n",
        "    )\n",
        "    cam_projection_matrix = p.computeProjectionMatrixFOV(\n",
        "        cam_fov, cam_width / cam_height, cam_near_plane, cam_far_plane\n",
        "    )\n",
        "\n",
        "    # Cattura l'immagine\n",
        "    image = p.getCameraImage(cam_width, cam_height, cam_view_matrix, cam_projection_matrix)[2][:, :, :3]\n",
        "\n",
        "    # Scrivi il fotogramma nel video\n",
        "    vid.send(np.ascontiguousarray(image))\n",
        "\n",
        "    p.stepSimulation()  # Avanza di un passo nella simulazione\n",
        "\n",
        "# Rilascia le risorse video\n",
        "vid.close()\n",
        "\n",
        "# Disconnessione dalla simulazione\n",
        "#p.disconnect()"
      ],
      "metadata": {
        "colab": {
          "base_uri": "https://localhost:8080/",
          "height": 228
        },
        "id": "2ARwVkILHItS",
        "outputId": "5317cd79-353f-4fb2-9dca-951f73f57d7a"
      },
      "execution_count": 15,
      "outputs": [
        {
          "output_type": "stream",
          "name": "stdout",
          "text": [
            "\rtimestep 0..."
          ]
        },
        {
          "output_type": "error",
          "ename": "error",
          "evalue": "Not connected to physics server.",
          "traceback": [
            "\u001b[0;31m---------------------------------------------------------------------------\u001b[0m",
            "\u001b[0;31merror\u001b[0m                                     Traceback (most recent call last)",
            "\u001b[0;32m<ipython-input-15-16295466cf4c>\u001b[0m in \u001b[0;36m<cell line: 2>\u001b[0;34m()\u001b[0m\n\u001b[1;32m     13\u001b[0m \u001b[0;34m\u001b[0m\u001b[0m\n\u001b[1;32m     14\u001b[0m     \u001b[0;31m# Registrazione della posizione della gamba\u001b[0m\u001b[0;34m\u001b[0m\u001b[0;34m\u001b[0m\u001b[0m\n\u001b[0;32m---> 15\u001b[0;31m     \u001b[0mleg_position\u001b[0m \u001b[0;34m=\u001b[0m \u001b[0mp\u001b[0m\u001b[0;34m.\u001b[0m\u001b[0mgetBasePositionAndOrientation\u001b[0m\u001b[0;34m(\u001b[0m\u001b[0mleg_id\u001b[0m\u001b[0;34m,\u001b[0m \u001b[0;34m-\u001b[0m\u001b[0;36m1\u001b[0m\u001b[0;34m)\u001b[0m\u001b[0;34m[\u001b[0m\u001b[0;36m0\u001b[0m\u001b[0;34m]\u001b[0m\u001b[0;34m\u001b[0m\u001b[0;34m\u001b[0m\u001b[0m\n\u001b[0m\u001b[1;32m     16\u001b[0m     \u001b[0mleg_positions_x\u001b[0m\u001b[0;34m.\u001b[0m\u001b[0mappend\u001b[0m\u001b[0;34m(\u001b[0m\u001b[0mleg_position\u001b[0m\u001b[0;34m[\u001b[0m\u001b[0;36m0\u001b[0m\u001b[0;34m]\u001b[0m\u001b[0;34m)\u001b[0m\u001b[0;34m\u001b[0m\u001b[0;34m\u001b[0m\u001b[0m\n\u001b[1;32m     17\u001b[0m     \u001b[0mleg_positions_y\u001b[0m\u001b[0;34m.\u001b[0m\u001b[0mappend\u001b[0m\u001b[0;34m(\u001b[0m\u001b[0mleg_position\u001b[0m\u001b[0;34m[\u001b[0m\u001b[0;36m1\u001b[0m\u001b[0;34m]\u001b[0m\u001b[0;34m)\u001b[0m\u001b[0;34m\u001b[0m\u001b[0;34m\u001b[0m\u001b[0m\n",
            "\u001b[0;31merror\u001b[0m: Not connected to physics server."
          ]
        }
      ]
    },
    {
      "cell_type": "code",
      "source": [
        "# Ora visualizziamo il video registrato nel notebook\n",
        "mp4 = open('simulation_output.mp4', 'rb').read()  # Leggi il file video\n",
        "data_url = \"data:video/mp4;base64,\" + b64encode(mp4).decode()  # Convertilo in Base64\n",
        "\n",
        "# Visualizza il video nel notebook Jupyter\n",
        "HTML('' % data_url)"
      ],
      "metadata": {
        "id": "koA7WOHKHa7Q"
      },
      "execution_count": null,
      "outputs": []
    },
    {
      "cell_type": "markdown",
      "source": [
        "## Data analysis 🧿 🪖"
      ],
      "metadata": {
        "id": "f9TBHD9iHhCd"
      }
    },
    {
      "cell_type": "markdown",
      "source": [
        "### Plotting positions in time"
      ],
      "metadata": {
        "id": "OH4W91DmHr0M"
      }
    },
    {
      "cell_type": "code",
      "source": [
        "\n",
        "#plotting positions\n",
        "plt.figure('Leg positions')\n",
        "plt.plot(leg_positions_x, label='x')\n",
        "plt.plot(leg_positions_y, label='y')\n",
        "plt.plot(leg_position_z, label='z')\n",
        "plt.legend()\n",
        "plt.grid()\n",
        "plt.minorticks_on()\n",
        "#plt.ylim(-0.000001,0.0001)\n",
        "#plt.xlim(45, 1000)\n",
        "plt.show()"
      ],
      "metadata": {
        "id": "QddPQu9iHgZA"
      },
      "execution_count": null,
      "outputs": []
    },
    {
      "cell_type": "markdown",
      "source": [
        "### See where force is applied"
      ],
      "metadata": {
        "id": "QwhEkK35HwNi"
      }
    },
    {
      "cell_type": "code",
      "source": [
        "plt.figure('xy motion')\n",
        "plt.plot(leg_positions_x, leg_positions_y, label = 'leg1')\n",
        "plt.legend()\n",
        "plt.grid()\n",
        "plt.minorticks_on()\n",
        "plt.show()"
      ],
      "metadata": {
        "id": "MADjb49IHnbn"
      },
      "execution_count": null,
      "outputs": []
    },
    {
      "cell_type": "markdown",
      "source": [
        "### See tau of exponential decay"
      ],
      "metadata": {
        "id": "eVZYsuNCH04e"
      }
    },
    {
      "cell_type": "code",
      "source": [
        "import numpy as np\n",
        "import matplotlib.pyplot as plt\n",
        "from scipy.optimize import curve_fit\n",
        "from scipy.signal import find_peaks\n",
        "\n",
        "# Supponiamo che leg_positions_x sia un array definito\n",
        "time = np.arange(len(leg_positions_x[45:-1]))  # Array di tempi in base agli indici\n",
        "y_data = leg_positions_x[45:-1]  # Dati del segnale (senza valore assoluto)\n",
        "\n",
        "# Trova i massimi locali usando find_peaks\n",
        "peaks, _ = find_peaks(y_data)  # Restituisce gli indici dei picchi e altre informazioni\n",
        "\n",
        "peak_values = []\n",
        "time_peaks = []\n",
        "# Estrai i valori dei massimi locali per creare l'inviluppo\n",
        "for value in peaks:\n",
        "    peak_values.append(y_data[value])\n",
        "    time_peaks.append(time[value])\n",
        "\n",
        "# Definisci la funzione esponenziale da adattare\n",
        "def exp_decay(t, A, tau):\n",
        "    return A * np.exp(-t / tau)\n",
        "\n",
        "# Esegui il fit esponenziale sui massimi\n",
        "params, covariance = curve_fit(exp_decay, time_peaks, peak_values, p0=(peak_values[0], 100))\n",
        "\n",
        "# Estrai il parametro tau\n",
        "A_fit, tau_fit = params\n",
        "print(f\"Stima di tau: {tau_fit}\")\n",
        "\n",
        "# Visualizza i risultati\n",
        "plt.figure(figsize=(10, 6))\n",
        "plt.plot(time, y_data, 'b-', label='Dati originali')\n",
        "plt.plot(time[peaks], peak_values, 'go', label='Massimi locali (inviluppo)')\n",
        "plt.plot(time, exp_decay(time, *params), 'r--', label=f'Fit esponenziale (tau = {tau_fit:.3f})')\n",
        "plt.xlabel('Tempo')\n",
        "plt.ylabel('Ampiezza')\n",
        "plt.legend()\n",
        "plt.title('Fit esponenziale dell\\'inviluppo (massimi locali)')\n",
        "plt.show()"
      ],
      "metadata": {
        "id": "kGOLfVlnHqvD"
      },
      "execution_count": null,
      "outputs": []
    }
  ]
}