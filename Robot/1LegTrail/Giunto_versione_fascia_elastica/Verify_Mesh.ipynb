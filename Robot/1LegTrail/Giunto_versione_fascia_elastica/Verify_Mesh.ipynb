{
  "nbformat": 4,
  "nbformat_minor": 0,
  "metadata": {
    "colab": {
      "provenance": []
    },
    "kernelspec": {
      "name": "python3",
      "display_name": "Python 3"
    },
    "language_info": {
      "name": "python"
    }
  },
  "cells": [
    {
      "cell_type": "code",
      "source": [
        "!pip install meshio"
      ],
      "metadata": {
        "colab": {
          "base_uri": "https://localhost:8080/"
        },
        "id": "f1mdjBrZbs9t",
        "outputId": "90028c6e-c007-4707-8745-2aff75e5dd47"
      },
      "execution_count": null,
      "outputs": [
        {
          "output_type": "stream",
          "name": "stdout",
          "text": [
            "Requirement already satisfied: meshio in /usr/local/lib/python3.11/dist-packages (5.3.5)\n",
            "Requirement already satisfied: numpy>=1.20.0 in /usr/local/lib/python3.11/dist-packages (from meshio) (1.26.4)\n",
            "Requirement already satisfied: rich in /usr/local/lib/python3.11/dist-packages (from meshio) (13.9.4)\n",
            "Requirement already satisfied: markdown-it-py>=2.2.0 in /usr/local/lib/python3.11/dist-packages (from rich->meshio) (3.0.0)\n",
            "Requirement already satisfied: pygments<3.0.0,>=2.13.0 in /usr/local/lib/python3.11/dist-packages (from rich->meshio) (2.18.0)\n",
            "Requirement already satisfied: mdurl~=0.1 in /usr/local/lib/python3.11/dist-packages (from markdown-it-py>=2.2.0->rich->meshio) (0.1.2)\n"
          ]
        }
      ]
    },
    {
      "cell_type": "code",
      "execution_count": null,
      "metadata": {
        "colab": {
          "base_uri": "https://localhost:8080/"
        },
        "id": "6yTKyR5nbnyt",
        "outputId": "f574b980-0067-43de-8c7e-71fce37cda46"
      },
      "outputs": [
        {
          "output_type": "stream",
          "name": "stdout",
          "text": [
            "0.199999988079071\n",
            "Min bounds: [-0.0055     -0.0055      0.19999999]\n",
            "Max bounds: [0.0055 0.0055 0.28  ]\n",
            "Extent (size): [0.011      0.011      0.08000001]\n",
            "Center: [0.         0.         0.23999999]\n"
          ]
        }
      ],
      "source": [
        "import meshio\n",
        "import numpy as np\n",
        "\n",
        "vtk_file_path = \"volumetric_vtk_joint_no_triangles.vtk\"  # Update if needed\n",
        "vtk_mesh = meshio.read(vtk_file_path)\n",
        "\n",
        "points = vtk_mesh.points\n",
        "z_points = []\n",
        "for point in points:\n",
        "    z_points.append(point[2])\n",
        "print(min(z_points))\n",
        "\n",
        "min_bounds = np.min(points, axis=0)\n",
        "max_bounds = np.max(points, axis=0)\n",
        "extent = max_bounds - min_bounds\n",
        "center = (min_bounds + max_bounds) / 2\n",
        "\n",
        "print(f\"Min bounds: {min_bounds}\")\n",
        "print(f\"Max bounds: {max_bounds}\")\n",
        "print(f\"Extent (size): {extent}\")\n",
        "print(f\"Center: {center}\")\n"
      ]
    },
    {
      "cell_type": "code",
      "source": [],
      "metadata": {
        "id": "w0-FmKqebycs"
      },
      "execution_count": null,
      "outputs": []
    }
  ]
}