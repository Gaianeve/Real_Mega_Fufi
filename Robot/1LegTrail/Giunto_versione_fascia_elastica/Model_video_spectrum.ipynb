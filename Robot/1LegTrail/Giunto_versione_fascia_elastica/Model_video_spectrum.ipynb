{
  "nbformat": 4,
  "nbformat_minor": 0,
  "metadata": {
    "colab": {
      "provenance": [],
      "toc_visible": true
    },
    "kernelspec": {
      "name": "python3",
      "display_name": "Python 3"
    },
    "language_info": {
      "name": "python"
    }
  },
  "cells": [
    {
      "cell_type": "markdown",
      "source": [
        "# One leg PIP model 🦿 🎐"
      ],
      "metadata": {
        "id": "ov5cKjUxEhZH"
      }
    },
    {
      "cell_type": "markdown",
      "source": [
        "## Burocrazia\n",
        "La maggior parte di queste librerie servono per fare il video in Colab"
      ],
      "metadata": {
        "id": "LX00t_HpEoqn"
      }
    },
    {
      "cell_type": "code",
      "execution_count": 1,
      "metadata": {
        "colab": {
          "base_uri": "https://localhost:8080/"
        },
        "id": "sQAZAp1JD1gR",
        "outputId": "edb1734c-4ddd-4f5d-8ceb-94774a957b06"
      },
      "outputs": [
        {
          "output_type": "stream",
          "name": "stdout",
          "text": [
            "Collecting pybullet\n",
            "  Downloading pybullet-3.2.6-cp310-cp310-manylinux_2_17_x86_64.manylinux2014_x86_64.whl.metadata (1.8 kB)\n",
            "Requirement already satisfied: imageio-ffmpeg in /usr/local/lib/python3.10/dist-packages (0.5.1)\n",
            "Requirement already satisfied: setuptools in /usr/local/lib/python3.10/dist-packages (from imageio-ffmpeg) (75.1.0)\n",
            "Downloading pybullet-3.2.6-cp310-cp310-manylinux_2_17_x86_64.manylinux2014_x86_64.whl (103.2 MB)\n",
            "\u001b[2K   \u001b[90m━━━━━━━━━━━━━━━━━━━━━━━━━━━━━━━━━━━━━━━━\u001b[0m \u001b[32m103.2/103.2 MB\u001b[0m \u001b[31m8.2 MB/s\u001b[0m eta \u001b[36m0:00:00\u001b[0m\n",
            "\u001b[?25hInstalling collected packages: pybullet\n",
            "Successfully installed pybullet-3.2.6\n"
          ]
        }
      ],
      "source": [
        "!pip install pybullet imageio-ffmpeg\n",
        "\n",
        "import os\n",
        "import time\n",
        "import math\n",
        "import numpy as np\n",
        "from PIL import Image\n",
        "import matplotlib.pyplot as plt\n",
        "import pybullet as p\n",
        "import pybullet_data as pd\n",
        "import cv2\n",
        "import imageio_ffmpeg\n",
        "from base64 import b64encode\n",
        "from IPython.display import HTML\n"
      ]
    },
    {
      "cell_type": "markdown",
      "source": [
        "## Getting model 🦭 📡"
      ],
      "metadata": {
        "id": "8zHiuvDxE4kw"
      }
    },
    {
      "cell_type": "code",
      "source": [
        "!git clone https://github.com/Gaianeve/Real_Mega_Fufi.git\n",
        "%cd Real_Mega_Fufi/Robot/1LegTrail/Giunto_versione_fascia_elastica"
      ],
      "metadata": {
        "colab": {
          "base_uri": "https://localhost:8080/"
        },
        "id": "iXqTUlomEaP6",
        "outputId": "b64cd05a-a567-45ec-84ff-60a9ff5e90c1"
      },
      "execution_count": 2,
      "outputs": [
        {
          "output_type": "stream",
          "name": "stdout",
          "text": [
            "Cloning into 'Real_Mega_Fufi'...\n",
            "remote: Enumerating objects: 1180, done.\u001b[K\n",
            "remote: Counting objects: 100% (623/623), done.\u001b[K\n",
            "remote: Compressing objects: 100% (444/444), done.\u001b[K\n",
            "remote: Total 1180 (delta 475), reused 243 (delta 178), pack-reused 557 (from 1)\u001b[K\n",
            "Receiving objects: 100% (1180/1180), 11.57 MiB | 14.48 MiB/s, done.\n",
            "Resolving deltas: 100% (788/788), done.\n",
            "/content/Real_Mega_Fufi/Robot/1LegTrail/Giunto_versione_fascia_elastica\n"
          ]
        }
      ]
    },
    {
      "cell_type": "markdown",
      "source": [
        "## Pybullet set up 🔖 📚 🐨"
      ],
      "metadata": {
        "id": "Ik0MnsNjFAuV"
      }
    },
    {
      "cell_type": "code",
      "source": [
        "#connecting\n",
        "p.connect(p.DIRECT)\n",
        "\n",
        "# using FEM\n",
        "p.resetSimulation(p.RESET_USE_DEFORMABLE_WORLD)\n",
        "#set sampling time\n",
        "p.setGravity(0, 0, -9.81)\n",
        "# set sampling time: if too high it becomes instable\n",
        "p.setTimeStep(0.01)\n",
        "p.setPhysicsEngineParameter(numSolverIterations=50)\n",
        "# Aggiungi il percorso dei dati PyBullet for the plane\n",
        "p.setAdditionalSearchPath(pd.getDataPath())\n"
      ],
      "metadata": {
        "id": "3097JjpJEVNS"
      },
      "execution_count": 3,
      "outputs": []
    },
    {
      "cell_type": "markdown",
      "source": [
        "## Importing objects and chaning visual shape 🏮 🍀"
      ],
      "metadata": {
        "id": "wm6quNPlFn7n"
      }
    },
    {
      "cell_type": "markdown",
      "source": [
        "Importing plane and fix it on the ground"
      ],
      "metadata": {
        "id": "7BiGAOTpF5uj"
      }
    },
    {
      "cell_type": "code",
      "source": [
        "useFixedBase_flag = True\n",
        "plane_pos = [0,0,0]\n",
        "plane = p.loadURDF(\"plane.urdf\", plane_pos, useFixedBase=useFixedBase_flag)"
      ],
      "metadata": {
        "id": "9s2_2mTyFYoX"
      },
      "execution_count": 4,
      "outputs": []
    },
    {
      "cell_type": "markdown",
      "source": [
        "Importing joint. It's a .obj file, so be sure to look at the important note in this notebook [here](https://colab.research.google.com/github/Gaianeve/Real_Mega_Fufi/blob/main/Robot/1LegTrail/See_model.ipynb?hl=it#scrollTo=cY6oVd0Um4e_)"
      ],
      "metadata": {
        "id": "vWB1DyG6GAdH"
      }
    },
    {
      "cell_type": "code",
      "source": [
        "elastic_joint_id = p.loadSoftBody(\"elastic_joint.obj\",\n",
        "                                  mass=0.0569,  # Calcolare in base al volume del modello\n",
        "                                  useNeoHookean=1,\n",
        "                                  NeoHookeanMu=76.92e9,  # Shear modulus\n",
        "                                  NeoHookeanLambda=115.38e9,  # Lame's first parameter\n",
        "                                  NeoHookeanDamping=0.005,  # Ridotto per acciaio\n",
        "                                  collisionMargin= 0.007,  # Più basso per materiali rigidi\n",
        "                                  useSelfCollision=0,  # Necessario se il corpo è complesso\n",
        "                                  frictionCoeff=0.8,\n",
        "                                  springElasticStiffness=1e8,\n",
        "                                  springDampingStiffness=0,\n",
        "                                  springBendingStiffness=1e8,\n",
        "                                  useFaceContact=1)  # Alta attrito per accia\n",
        "#arancione\n",
        "p.changeVisualShape(elastic_joint_id, -1, rgbaColor=[1, 0.65, 0, 1])"
      ],
      "metadata": {
        "id": "cp1s3wMDFbZo"
      },
      "execution_count": 5,
      "outputs": []
    },
    {
      "cell_type": "markdown",
      "source": [
        "Importing column and leg. See the same notebook as before for details on positions."
      ],
      "metadata": {
        "id": "nSDV69L3GOfH"
      }
    },
    {
      "cell_type": "code",
      "source": [
        "#get column\n",
        "joint_position, joint_orientation = p.getBasePositionAndOrientation(elastic_joint_id)\n",
        "joint_x, joint_y = joint_position[0], joint_position[1]\n",
        "column_position = [joint_x, joint_y, 0.1]\n",
        "column_orientation = p.getQuaternionFromEuler([0,0,0])\n",
        "\n",
        "column_id = p.loadURDF(\"pippa_oneleg_column.urdf\", \\\n",
        "                       basePosition = column_position, \\\n",
        "                       baseOrientation =column_orientation , \\\n",
        "                       useFixedBase= useFixedBase_flag)\n",
        "# verdino\n",
        "p.changeVisualShape(column_id, -1, rgbaColor=[0.5, 1, 0.5, 1])\n",
        "\n",
        "#get leg\n",
        "leg_position = [joint_x,joint_y,0.6175]\n",
        "leg_orientation = joint_orientation\n",
        "leg_id = p.loadURDF(\"pippa_oneleg_leg.urdf\", \\\n",
        "                       basePosition = leg_position, \\\n",
        "                       baseOrientation = leg_orientation,\\\n",
        "                       useFixedBase = False )\n",
        "# azzurrino\n",
        "p.changeVisualShape(leg_id, -1, rgbaColor=[0.5, 0.8, 1, 1])"
      ],
      "metadata": {
        "id": "jVEyqdrQFdvR"
      },
      "execution_count": 6,
      "outputs": []
    },
    {
      "cell_type": "markdown",
      "source": [
        "##change materials"
      ],
      "metadata": {
        "id": "xauEQe82jWHf"
      }
    },
    {
      "cell_type": "code",
      "source": [
        "#AL 6082 (Alluminio)\n",
        "lateralFriction_Al = 0.8\n",
        "restitution_Al = 0\n",
        "rollingFriction_Al = 0.001\n",
        "spinningFriction_Al = 0.1\n",
        "linearDamping_Al = 0.1\n",
        "angularDamping_Al = 0.1\n",
        "contactStiffness_Al = 3e10\n",
        "contactDamping_Al = 10\n",
        "\n",
        "# AISI 304 (Acciaio Inox)\n",
        "lateralFriction_AISI = 0.8\n",
        "restitution_AISI = 0\n",
        "rollingFriction_AISI = 0.001\n",
        "spinningFriction_AISI= 0.15\n",
        "linearDamping_AISI = 0.1\n",
        "angularDamping_AISI = 0.1\n",
        "contactStiffness_AISI = 8e10\n",
        "contactDamping_AISI = 10\n",
        "\n",
        "\n",
        "# Al 6082\n",
        "\n",
        "p.changeDynamics(leg_id,\n",
        "                 -1,\n",
        "                 lateralFriction=lateralFriction_Al,\n",
        "                 restitution=restitution_Al,\n",
        "                 spinningFriction= spinningFriction_Al,\n",
        "                 rollingFriction= rollingFriction_Al,\n",
        "                 linearDamping=linearDamping_Al,\n",
        "                 angularDamping=angularDamping_Al,\n",
        "                 contactStiffness = contactStiffness_Al,\n",
        "                 contactDamping = contactDamping_Al\n",
        "                 )\n",
        "# AISI 304\n",
        "p.changeDynamics(column_id,\n",
        "                 -1,\n",
        "                 lateralFriction=lateralFriction_AISI,\n",
        "                 restitution=restitution_AISI,\n",
        "                 spinningFriction= spinningFriction_AISI,\n",
        "                 rollingFriction= rollingFriction_AISI,\n",
        "                 linearDamping=linearDamping_AISI,\n",
        "                 angularDamping=angularDamping_AISI,\n",
        "                 contactStiffness = contactStiffness_AISI,\n",
        "                 contactDamping = contactDamping_AISI\n",
        "                 )\n"
      ],
      "metadata": {
        "id": "Zs4khaZkjY4O"
      },
      "execution_count": 7,
      "outputs": []
    },
    {
      "cell_type": "markdown",
      "source": [
        "## Anchoring ⚓ 🦋\n",
        "See same notebook for details and functions sintax. Keep in mind that these function are not well documented on pybullet start guide!"
      ],
      "metadata": {
        "id": "WQ8lWvNHGay0"
      }
    },
    {
      "cell_type": "code",
      "source": [
        "# Recupera le posizioni dei nodi del soft body\n",
        "mesh_data = p.getMeshData(elastic_joint_id, flags=p.MESH_DATA_SIMULATION_MESH)\n",
        "up = 0\n",
        "down = 0\n",
        "\n",
        "if mesh_data:\n",
        "    num_nodes = mesh_data[0]  # Numero di nodi\n",
        "    node_positions = mesh_data[1]  # Posizioni dei nodi\n",
        "\n",
        "    # Identifica i limiti superiore e inferiore di z\n",
        "    z_values = [pos[2] for pos in node_positions]\n",
        "    max_z = max(z_values)\n",
        "    min_z = min(z_values)\n",
        "    tolerance = 0.0001  # Definisce una soglia di tolleranza\n",
        "\n",
        "    # Ancoraggio dei nodi alle facce superiore e inferiore\n",
        "    for node_index, node_pos in enumerate(node_positions):\n",
        "        if abs(node_pos[2] - max_z) <= tolerance:\n",
        "            # Nodo superiore: ancora alla gamba\n",
        "            p.createSoftBodyAnchor(elastic_joint_id, node_index, leg_id, -1)\n",
        "            up = up + 1\n",
        "        elif abs(node_pos[2] - min_z) <= tolerance:\n",
        "            # Nodo inferiore: ancora alla colonna\n",
        "            p.createSoftBodyAnchor(elastic_joint_id, node_index, column_id, -1)\n",
        "            down = down +1\n",
        "\n",
        "else:\n",
        "    print(\"Errore: I dati della mesh non sono stati recuperati correttamente.\")"
      ],
      "metadata": {
        "id": "wSfrundiU3DE"
      },
      "execution_count": 9,
      "outputs": []
    },
    {
      "cell_type": "code",
      "source": [
        "down"
      ],
      "metadata": {
        "id": "giGCe6QnAM-2",
        "outputId": "98c44a3b-53a9-4af4-92be-9117031a5338",
        "colab": {
          "base_uri": "https://localhost:8080/"
        }
      },
      "execution_count": 11,
      "outputs": [
        {
          "output_type": "execute_result",
          "data": {
            "text/plain": [
              "64"
            ]
          },
          "metadata": {},
          "execution_count": 11
        }
      ]
    },
    {
      "cell_type": "markdown",
      "source": [
        "## Video set up 🏔 🎥"
      ],
      "metadata": {
        "id": "QLLXqoe1G38_"
      }
    },
    {
      "cell_type": "code",
      "source": [
        "\n",
        "# Parametri della fotocamera\n",
        "cam_target_pos = [0, 0, 0]\n",
        "cam_distance = 3\n",
        "cam_yaw, cam_pitch, cam_roll = 50, -30.0, 0\n",
        "cam_width, cam_height = 480, 360\n",
        "cam_up_axis_idx = 2\n",
        "cam_fov = 60\n",
        "cam_near_plane, cam_far_plane = 0.01, 100\n",
        "\n",
        "# Imposta la registrazione del video\n",
        "vid = imageio_ffmpeg.write_frames('simulation_output.mp4', (cam_width, cam_height), fps=30)\n",
        "vid.send(None)  # Inizializza con un fotogramma vuoto\n",
        "\n",
        "# Parametri per la simulazione\n",
        "simulation_time = 180\n",
        "sampling_frequency = 1 / 100\n",
        "num_points = int(simulation_time * sampling_frequency)\n",
        "\n",
        "# Forza esterna da applicare\n",
        "force_module = np.array([1, 0, 0])\n",
        "column_pos, coloum_or = p.getBasePositionAndOrientation(column_id)\n",
        "force_position = column_pos  # Posizione dove applicare la forza\n",
        "print(f'column orientation', p.getEulerFromQuaternion( coloum_or))\n",
        "p.stepSimulation()"
      ],
      "metadata": {
        "colab": {
          "base_uri": "https://localhost:8080/"
        },
        "id": "jwZuec42GtNi",
        "outputId": "c580632c-18b1-4a06-beff-dd374abe550f"
      },
      "execution_count": 12,
      "outputs": [
        {
          "output_type": "stream",
          "name": "stderr",
          "text": [
            "WARNING:imageio_ffmpeg:IMAGEIO FFMPEG_WRITER WARNING: input image is not divisible by macro_block_size=16, resizing from (480, 360) to (480, 368) to ensure video compatibility with most codecs and players. To prevent resizing, make your input image divisible by the macro_block_size or set the macro_block_size to 1 (risking incompatibility).\n"
          ]
        },
        {
          "output_type": "stream",
          "name": "stdout",
          "text": [
            "column orientation (0.0, -0.0, 0.0)\n"
          ]
        },
        {
          "output_type": "execute_result",
          "data": {
            "text/plain": [
              "()"
            ]
          },
          "metadata": {},
          "execution_count": 12
        }
      ]
    },
    {
      "cell_type": "code",
      "source": [
        "\n",
        "# Liste per registrare le posizioni\n",
        "leg_positions_x, leg_positions_y, leg_position_z = [], [], []\n",
        "joint_positions_x, joint_positions_y, joint_position_z = [], [], []"
      ],
      "metadata": {
        "id": "gHbL3S5slCPm"
      },
      "execution_count": 44,
      "outputs": []
    },
    {
      "cell_type": "markdown",
      "source": [
        "## Start simulation 🥠 🏃"
      ],
      "metadata": {
        "id": "nouSUip4HKCy"
      }
    },
    {
      "cell_type": "code",
      "source": [
        "# Ciclo principale della simulazione\n",
        "for step in range(100):\n",
        "    #print(f'\\rtimestep {step}...', end='')\n",
        "    #if step == 100:\n",
        "      # Applicare la forza esterna al primo passo della simulazione\n",
        "      #p.applyExternalForce(\n",
        "          #objectUniqueId= column_id,\n",
        "          #linkIndex=-1,\n",
        "          #forceObj=force_module,\n",
        "          #posObj=force_position,\n",
        "          #flags=p.WORLD_FRAME\n",
        "        #)\n",
        "\n",
        "    # Registrazione della posizione della gamba\n",
        "    leg_position, leg_orientation = p.getBasePositionAndOrientation(leg_id)\n",
        "    leg_positions_x.append(leg_position[0])\n",
        "    leg_positions_y.append(leg_position[1])\n",
        "    leg_position_z.append(leg_position[2])\n",
        "\n",
        "    #get joint position\n",
        "    joint_position, joint_orientation = p.getBasePositionAndOrientation(elastic_joint_id)\n",
        "    joint_positions_x.append(joint_position[0])\n",
        "    joint_positions_y.append(joint_position[1])\n",
        "    joint_position_z.append(joint_position[2])\n",
        "\n",
        "    # Aggiorna il video\n",
        "    # Calcola la vista e la proiezione della fotocamera\n",
        "    cam_view_matrix = p.computeViewMatrixFromYawPitchRoll(\n",
        "        cam_target_pos, cam_distance, cam_yaw, cam_pitch, cam_roll, cam_up_axis_idx\n",
        "    )\n",
        "    cam_projection_matrix = p.computeProjectionMatrixFOV(\n",
        "        cam_fov, cam_width / cam_height, cam_near_plane, cam_far_plane\n",
        "    )\n",
        "\n",
        "    # Cattura l'immagine\n",
        "    image = p.getCameraImage(cam_width, cam_height, cam_view_matrix, cam_projection_matrix)[2][:, :, :3]\n",
        "\n",
        "    # Scrivi il fotogramma nel video\n",
        "    vid.send(np.ascontiguousarray(image))\n",
        "\n",
        "    p.stepSimulation()  # Avanza di un passo nella simulazione\n",
        "\n",
        "# Rilascia le risorse video\n",
        "vid.close()\n"
      ],
      "metadata": {
        "id": "2ARwVkILHItS",
        "colab": {
          "base_uri": "https://localhost:8080/",
          "height": 211
        },
        "outputId": "6385b187-37fc-4652-ea6a-66edba437c2b"
      },
      "execution_count": 45,
      "outputs": [
        {
          "output_type": "error",
          "ename": "KeyboardInterrupt",
          "evalue": "",
          "traceback": [
            "\u001b[0;31m---------------------------------------------------------------------------\u001b[0m",
            "\u001b[0;31mKeyboardInterrupt\u001b[0m                         Traceback (most recent call last)",
            "\u001b[0;32m<ipython-input-45-384355a50b88>\u001b[0m in \u001b[0;36m<cell line: 2>\u001b[0;34m()\u001b[0m\n\u001b[1;32m     39\u001b[0m     \u001b[0mvid\u001b[0m\u001b[0;34m.\u001b[0m\u001b[0msend\u001b[0m\u001b[0;34m(\u001b[0m\u001b[0mnp\u001b[0m\u001b[0;34m.\u001b[0m\u001b[0mascontiguousarray\u001b[0m\u001b[0;34m(\u001b[0m\u001b[0mimage\u001b[0m\u001b[0;34m)\u001b[0m\u001b[0;34m)\u001b[0m\u001b[0;34m\u001b[0m\u001b[0;34m\u001b[0m\u001b[0m\n\u001b[1;32m     40\u001b[0m \u001b[0;34m\u001b[0m\u001b[0m\n\u001b[0;32m---> 41\u001b[0;31m     \u001b[0mp\u001b[0m\u001b[0;34m.\u001b[0m\u001b[0mstepSimulation\u001b[0m\u001b[0;34m(\u001b[0m\u001b[0;34m)\u001b[0m  \u001b[0;31m# Avanza di un passo nella simulazione\u001b[0m\u001b[0;34m\u001b[0m\u001b[0;34m\u001b[0m\u001b[0m\n\u001b[0m\u001b[1;32m     42\u001b[0m \u001b[0;34m\u001b[0m\u001b[0m\n\u001b[1;32m     43\u001b[0m \u001b[0;31m# Rilascia le risorse video\u001b[0m\u001b[0;34m\u001b[0m\u001b[0;34m\u001b[0m\u001b[0m\n",
            "\u001b[0;31mKeyboardInterrupt\u001b[0m: "
          ]
        }
      ]
    },
    {
      "cell_type": "code",
      "source": [
        "\n",
        "# Disconnessione dalla simulazione\n",
        "p.disconnect()"
      ],
      "metadata": {
        "id": "FZMMBa6VkGO-"
      },
      "execution_count": null,
      "outputs": []
    },
    {
      "cell_type": "code",
      "source": [
        "# Leggi il file video\n",
        "mp4 = open('simulation_output.mp4', 'rb').read()\n",
        "\n",
        "# Convertilo in Base64\n",
        "data_url = \"data:video/mp4;base64,\" + b64encode(mp4).decode()\n",
        "\n",
        "# Visualizza il video nel notebook Jupyter\n",
        "HTML(f'<video width=\"600\" controls><source src=\"{data_url}\" type=\"video/mp4\"></video>')"
      ],
      "metadata": {
        "id": "koA7WOHKHa7Q"
      },
      "execution_count": null,
      "outputs": []
    },
    {
      "cell_type": "markdown",
      "source": [
        "## Data analysis 🧿 🪖"
      ],
      "metadata": {
        "id": "f9TBHD9iHhCd"
      }
    },
    {
      "cell_type": "markdown",
      "source": [
        "### Plotting positions in time"
      ],
      "metadata": {
        "id": "OH4W91DmHr0M"
      }
    },
    {
      "cell_type": "code",
      "source": [
        "\n",
        "#plotting positions\n",
        "plt.figure('Leg positions')\n",
        "plt.plot(leg_positions_x, label='x')\n",
        "#plt.plot(leg_positions_y, label='y')\n",
        "#plt.plot(leg_position_z, label='z')\n",
        "plt.legend()\n",
        "plt.grid()\n",
        "plt.minorticks_on()\n",
        "#plt.ylim(-0.0025,0.0025)\n",
        "#plt.xlim(90, 110)\n",
        "plt.show()"
      ],
      "metadata": {
        "id": "QddPQu9iHgZA"
      },
      "execution_count": null,
      "outputs": []
    },
    {
      "cell_type": "code",
      "source": [
        "leg_position_z[0]-leg_position_z[-1]"
      ],
      "metadata": {
        "id": "D1-q37Lxkvrm"
      },
      "execution_count": null,
      "outputs": []
    },
    {
      "cell_type": "markdown",
      "source": [
        "### See where force is applied"
      ],
      "metadata": {
        "id": "QwhEkK35HwNi"
      }
    },
    {
      "cell_type": "code",
      "source": [
        "plt.figure('xy motion')\n",
        "plt.plot(leg_positions_x, leg_positions_y, label = 'leg1')\n",
        "plt.legend()\n",
        "#plt.xlim(0,6e-6)\n",
        "plt.grid()\n",
        "plt.minorticks_on()\n",
        "plt.show()"
      ],
      "metadata": {
        "id": "MADjb49IHnbn"
      },
      "execution_count": null,
      "outputs": []
    },
    {
      "cell_type": "code",
      "source": [
        "plt.figure()\n",
        "plt.plot(joint_positions_x, label = 'x')\n",
        "plt.plot(joint_positions_y, label = 'y')\n",
        "#plt.plot(joint_position_z, label = 'z')\n",
        "plt.legend()\n",
        "plt.grid()\n",
        "plt.minorticks_on()\n",
        "plt.show()"
      ],
      "metadata": {
        "id": "PYefQxBslg1p"
      },
      "execution_count": null,
      "outputs": []
    },
    {
      "cell_type": "code",
      "source": [
        "joint_position_z[0]-joint_position_z[-1]"
      ],
      "metadata": {
        "id": "j0z0jxjHk23o"
      },
      "execution_count": null,
      "outputs": []
    },
    {
      "cell_type": "code",
      "source": [
        "plt.figure('xy motion')\n",
        "plt.plot(joint_positions_x, joint_positions_y, label = 'leg1')\n",
        "plt.legend()\n",
        "#plt.xlim(0,6e-6)\n",
        "plt.grid()\n",
        "plt.minorticks_on()\n",
        "plt.show()"
      ],
      "metadata": {
        "id": "vrf43KNL2Jav"
      },
      "execution_count": null,
      "outputs": []
    },
    {
      "cell_type": "markdown",
      "source": [
        "### See tau of exponential decay"
      ],
      "metadata": {
        "id": "eVZYsuNCH04e"
      }
    },
    {
      "cell_type": "code",
      "source": [
        "import numpy as np\n",
        "import matplotlib.pyplot as plt\n",
        "from scipy.optimize import curve_fit\n",
        "from scipy.signal import find_peaks\n",
        "\n",
        "# Supponiamo che leg_positions_x sia un array definito\n",
        "time = np.arange(len(leg_positions_x[45:-1]))  # Array di tempi in base agli indici\n",
        "y_data = leg_positions_x[45:-1]  # Dati del segnale (senza valore assoluto)\n",
        "\n",
        "# Trova i massimi locali usando find_peaks\n",
        "peaks, _ = find_peaks(y_data)  # Restituisce gli indici dei picchi e altre informazioni\n",
        "\n",
        "peak_values = []\n",
        "time_peaks = []\n",
        "# Estrai i valori dei massimi locali per creare l'inviluppo\n",
        "for value in peaks:\n",
        "    peak_values.append(y_data[value])\n",
        "    time_peaks.append(time[value])\n",
        "\n",
        "# Definisci la funzione esponenziale da adattare\n",
        "def exp_decay(t, A, tau):\n",
        "    return A * np.exp(-t / tau)\n",
        "\n",
        "# Esegui il fit esponenziale sui massimi\n",
        "params, covariance = curve_fit(exp_decay, time_peaks, peak_values, p0=(peak_values[0], 100))\n",
        "\n",
        "# Estrai il parametro tau\n",
        "A_fit, tau_fit = params\n",
        "print(f\"Stima di tau: {tau_fit}\")\n",
        "\n",
        "# Visualizza i risultati\n",
        "plt.figure(figsize=(10, 6))\n",
        "plt.plot(time, y_data, 'b-', label='Dati originali')\n",
        "plt.plot(time[peaks], peak_values, 'go', label='Massimi locali (inviluppo)')\n",
        "plt.plot(time, exp_decay(time, *params), 'r--', label=f'Fit esponenziale (tau = {tau_fit:.3f})')\n",
        "plt.xlabel('Tempo')\n",
        "plt.ylabel('Ampiezza')\n",
        "plt.legend()\n",
        "plt.title('Fit esponenziale dell\\'inviluppo (massimi locali)')\n",
        "plt.show()"
      ],
      "metadata": {
        "id": "kGOLfVlnHqvD"
      },
      "execution_count": null,
      "outputs": []
    },
    {
      "cell_type": "code",
      "source": [],
      "metadata": {
        "id": "1zLOx-K7Lwai"
      },
      "execution_count": null,
      "outputs": []
    }
  ]
}