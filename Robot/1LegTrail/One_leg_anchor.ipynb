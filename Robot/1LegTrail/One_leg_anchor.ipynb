{
  "nbformat": 4,
  "nbformat_minor": 0,
  "metadata": {
    "colab": {
      "provenance": []
    },
    "kernelspec": {
      "name": "python3",
      "display_name": "Python 3"
    },
    "language_info": {
      "name": "python"
    }
  },
  "cells": [
    {
      "cell_type": "code",
      "execution_count": 1,
      "metadata": {
        "colab": {
          "base_uri": "https://localhost:8080/"
        },
        "id": "668_ai0OQ5SK",
        "outputId": "31941e1e-7bb5-4c9d-8a6c-be97bf536dc7"
      },
      "outputs": [
        {
          "output_type": "stream",
          "name": "stdout",
          "text": [
            "Collecting pybullet\n",
            "  Downloading pybullet-3.2.6-cp310-cp310-manylinux_2_17_x86_64.manylinux2014_x86_64.whl.metadata (1.8 kB)\n",
            "Requirement already satisfied: imageio-ffmpeg in /usr/local/lib/python3.10/dist-packages (0.5.1)\n",
            "Requirement already satisfied: setuptools in /usr/local/lib/python3.10/dist-packages (from imageio-ffmpeg) (75.1.0)\n",
            "Downloading pybullet-3.2.6-cp310-cp310-manylinux_2_17_x86_64.manylinux2014_x86_64.whl (103.2 MB)\n",
            "\u001b[2K   \u001b[90m━━━━━━━━━━━━━━━━━━━━━━━━━━━━━━━━━━━━━━━━\u001b[0m \u001b[32m103.2/103.2 MB\u001b[0m \u001b[31m6.1 MB/s\u001b[0m eta \u001b[36m0:00:00\u001b[0m\n",
            "\u001b[?25hInstalling collected packages: pybullet\n",
            "Successfully installed pybullet-3.2.6\n"
          ]
        }
      ],
      "source": [
        "!pip install pybullet imageio-ffmpeg\n",
        "\n",
        "import os\n",
        "import time\n",
        "import math\n",
        "import numpy as np\n",
        "from PIL import Image\n",
        "import matplotlib.pyplot as plt\n",
        "import pybullet as p\n",
        "import pybullet_data\n",
        "import cv2\n",
        "import imageio_ffmpeg\n",
        "from base64 import b64encode\n",
        "from IPython.display import HTML"
      ]
    },
    {
      "cell_type": "code",
      "source": [
        "import numpy as np\n",
        "import imageio_ffmpeg\n",
        "import pybullet as p\n",
        "import math\n",
        "\n",
        "# Configura la simulazione e la fotocamera\n",
        "p.connect(p.DIRECT)  # Usa la modalità senza GUI per evitare un impatto sulle prestazioni\n",
        "p.resetSimulation() # Lui va chiamato la mattina appena apri il computer\n",
        "p.setGravity(0, 0, -9.81)\n",
        "p.setTimeStep(0.01)  # Imposta il passo temporale per la simulazione\n",
        "\n",
        "# Aggiungi il percorso dei dati PyBullet\n",
        "p.setAdditionalSearchPath(pybullet_data.getDataPath())"
      ],
      "metadata": {
        "id": "0lmPpR8NTnjg"
      },
      "execution_count": 2,
      "outputs": []
    },
    {
      "cell_type": "code",
      "source": [
        "!git clone https://github.com/Gaianeve/Real_Mega_Fufi.git\n",
        "%cd Real_Mega_Fufi/Robot/1LegTrail/"
      ],
      "metadata": {
        "colab": {
          "base_uri": "https://localhost:8080/"
        },
        "id": "CyXlRP4kTpZc",
        "outputId": "8591703c-b075-48b5-bef9-947b785502b8"
      },
      "execution_count": 3,
      "outputs": [
        {
          "output_type": "stream",
          "name": "stdout",
          "text": [
            "Cloning into 'Real_Mega_Fufi'...\n",
            "remote: Enumerating objects: 836, done.\u001b[K\n",
            "remote: Counting objects: 100% (279/279), done.\u001b[K\n",
            "remote: Compressing objects: 100% (253/253), done.\u001b[K\n",
            "remote: Total 836 (delta 232), reused 25 (delta 25), pack-reused 557 (from 1)\u001b[K\n",
            "Receiving objects: 100% (836/836), 8.24 MiB | 6.29 MiB/s, done.\n",
            "Resolving deltas: 100% (545/545), done.\n",
            "/content/Real_Mega_Fufi/Robot/1LegTrail\n"
          ]
        }
      ]
    },
    {
      "cell_type": "code",
      "source": [
        "plane_pos = [0,0,0]\n",
        "plane = p.loadURDF(\"plane.urdf\", plane_pos, useFixedBase=True)\n",
        "\n",
        "# position of the base of the model\n",
        "PIP_position = [0,0,0]\n",
        "orientation  = [0,0,0]\n",
        "PIP_orientation = p.getQuaternionFromEuler(orientation)\n",
        "PIPPA_id = p.loadURDF(\"PIPPA_oneleg_no_joint.urdf\", basePosition = PIP_position, baseOrientation = PIP_orientation, \\\n",
        "                      useFixedBase=True)\n",
        "#useFixedBase = True perchè voglio che sia ancorata al suolo la gamba"
      ],
      "metadata": {
        "id": "bLS1GaVxTt1u"
      },
      "execution_count": null,
      "outputs": []
    },
    {
      "cell_type": "code",
      "source": [
        "link_name_to_index = {p.getBodyInfo(PIPPA_id)[0].decode('UTF-8'):-1,}\n",
        "\n",
        "for id in range(p.getNumJoints(PIPPA_id)):\n",
        "  name = p.getJointInfo(PIPPA_id, id)[12].decode('UTF-8')\n",
        "  link_name_to_index[name] = id"
      ],
      "metadata": {
        "id": "sc2r1cnZU9PB"
      },
      "execution_count": null,
      "outputs": []
    },
    {
      "cell_type": "code",
      "source": [
        "# Carica il giunto elastico come soft body\n",
        "giunto_id = p.loadSoftBody(\"giunto.obj\", basePosition=[0, 0, 0.225],  # adattare la posizione di base se necessario\n",
        "                           mass=0.0569, useNeoHookean=1, NeoHookeanMu=76.92, NeoHookeanLambda=115.38, NeoHookeanDamping=0.01,\n",
        "                           collisionMargin=0.005, useSelfCollision=0, frictionCoeff=0.5)\n",
        "\n",
        "# Ancoraggio del giunto alla colonna e alla gamba\n",
        "index_leg = link_name_to_index[\"Gamba\"]\n",
        "index_column = link_name_to_index[\"Colonna\"]\n",
        "p.createSoftBodyAnchor(giunto_id, nodeIndex= 0, bodyUniqueId= PIPPA_id, linkIndex= index_column)  # Ancora alla colonna\n",
        "p.createSoftBodyAnchor(giunto_id, nodeIndex=-1, bodyUniqueId = PIPPA_id, linkIndex= index_leg)  # Ancora alla gamba\n",
        "\n",
        "\n",
        "\n",
        "# Disconnessione\n",
        "p.disconnect()\n"
      ],
      "metadata": {
        "id": "UPSe-CCkUl9F"
      },
      "execution_count": null,
      "outputs": []
    },
    {
      "cell_type": "code",
      "source": [],
      "metadata": {
        "id": "jGXW2iNUU5id"
      },
      "execution_count": null,
      "outputs": []
    }
  ]
}