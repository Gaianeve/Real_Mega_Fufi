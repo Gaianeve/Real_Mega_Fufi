{
  "nbformat": 4,
  "nbformat_minor": 0,
  "metadata": {
    "colab": {
      "provenance": [],
      "toc_visible": true
    },
    "kernelspec": {
      "name": "python3",
      "display_name": "Python 3"
    },
    "language_info": {
      "name": "python"
    }
  },
  "cells": [
    {
      "cell_type": "code",
      "execution_count": 1,
      "metadata": {
        "colab": {
          "base_uri": "https://localhost:8080/"
        },
        "id": "668_ai0OQ5SK",
        "outputId": "761904cd-31f8-4c95-cd4f-1a9afbe360aa"
      },
      "outputs": [
        {
          "output_type": "stream",
          "name": "stdout",
          "text": [
            "Collecting pybullet\n",
            "  Downloading pybullet-3.2.6-cp310-cp310-manylinux_2_17_x86_64.manylinux2014_x86_64.whl.metadata (1.8 kB)\n",
            "Requirement already satisfied: imageio-ffmpeg in /usr/local/lib/python3.10/dist-packages (0.5.1)\n",
            "Requirement already satisfied: setuptools in /usr/local/lib/python3.10/dist-packages (from imageio-ffmpeg) (75.1.0)\n",
            "Downloading pybullet-3.2.6-cp310-cp310-manylinux_2_17_x86_64.manylinux2014_x86_64.whl (103.2 MB)\n",
            "\u001b[2K   \u001b[90m━━━━━━━━━━━━━━━━━━━━━━━━━━━━━━━━━━━━━━━━\u001b[0m \u001b[32m103.2/103.2 MB\u001b[0m \u001b[31m4.7 MB/s\u001b[0m eta \u001b[36m0:00:00\u001b[0m\n",
            "\u001b[?25hInstalling collected packages: pybullet\n",
            "Successfully installed pybullet-3.2.6\n"
          ]
        }
      ],
      "source": [
        "!pip install pybullet imageio-ffmpeg\n",
        "\n",
        "import os\n",
        "import time\n",
        "import math\n",
        "import numpy as np\n",
        "from PIL import Image\n",
        "import matplotlib.pyplot as plt\n",
        "import pybullet as p\n",
        "import pybullet_data\n",
        "import cv2\n",
        "import imageio_ffmpeg\n",
        "from base64 import b64encode\n",
        "from IPython.display import HTML"
      ]
    },
    {
      "cell_type": "code",
      "source": [
        "import numpy as np\n",
        "import imageio_ffmpeg\n",
        "import pybullet as p\n",
        "import math\n",
        "\n",
        "# Configura la simulazione e la fotocamera\n",
        "p.connect(p.DIRECT)  # Usa la modalità senza GUI per evitare un impatto sulle prestazioni\n",
        "p.resetSimulation() # Lui va chiamato la mattina appena apri il computer\n",
        "p.setGravity(0, 0, -9.81)\n",
        "p.setTimeStep(0.01)  # Imposta il passo temporale per la simulazione\n",
        "\n",
        "# Aggiungi il percorso dei dati PyBullet\n",
        "p.setAdditionalSearchPath(pybullet_data.getDataPath())"
      ],
      "metadata": {
        "id": "0lmPpR8NTnjg"
      },
      "execution_count": 2,
      "outputs": []
    },
    {
      "cell_type": "code",
      "source": [
        "!git clone https://github.com/Gaianeve/Real_Mega_Fufi.git\n",
        "%cd Real_Mega_Fufi/Robot/1LegTrail/"
      ],
      "metadata": {
        "colab": {
          "base_uri": "https://localhost:8080/"
        },
        "id": "CyXlRP4kTpZc",
        "outputId": "b73ec966-8011-4e8c-96e5-68acbcbad670"
      },
      "execution_count": 3,
      "outputs": [
        {
          "output_type": "stream",
          "name": "stdout",
          "text": [
            "Cloning into 'Real_Mega_Fufi'...\n",
            "remote: Enumerating objects: 841, done.\u001b[K\n",
            "remote: Counting objects: 100% (284/284), done.\u001b[K\n",
            "remote: Compressing objects: 100% (258/258), done.\u001b[K\n",
            "remote: Total 841 (delta 235), reused 25 (delta 25), pack-reused 557 (from 1)\u001b[K\n",
            "Receiving objects: 100% (841/841), 8.24 MiB | 7.72 MiB/s, done.\n",
            "Resolving deltas: 100% (548/548), done.\n",
            "/content/Real_Mega_Fufi/Robot/1LegTrail\n"
          ]
        }
      ]
    },
    {
      "cell_type": "code",
      "source": [
        "plane_pos = [0,0,0]\n",
        "plane = p.loadURDF(\"plane.urdf\", plane_pos, useFixedBase=True)\n",
        "\n",
        "# position of the base of the model\n",
        "PIP_position = [0,0,0]\n",
        "orientation  = [0,0,0]\n",
        "PIP_orientation = p.getQuaternionFromEuler(orientation)\n",
        "PIPPA_id = p.loadURDF(\"PIPPA_oneleg_no_joint.urdf\", basePosition = PIP_position, baseOrientation = PIP_orientation, \\\n",
        "                      useFixedBase=True)"
      ],
      "metadata": {
        "id": "bLS1GaVxTt1u"
      },
      "execution_count": null,
      "outputs": []
    },
    {
      "cell_type": "code",
      "source": [
        "link_name_to_index = {p.getBodyInfo(PIPPA_id)[0].decode('UTF-8'):-1,}\n",
        "\n",
        "for id in range(p.getNumJoints(PIPPA_id)):\n",
        "  name = p.getJointInfo(PIPPA_id, id)[12].decode('UTF-8')\n",
        "  link_name_to_index[name] = id"
      ],
      "metadata": {
        "id": "sc2r1cnZU9PB"
      },
      "execution_count": null,
      "outputs": []
    },
    {
      "cell_type": "code",
      "source": [
        "# Carica il giunto elastico come soft body\n",
        "giunto_id = p.loadSoftBody(\"giunto.obj\", basePosition=[0, 0, 0.225],  # adattare la posizione di base se necessario\n",
        "                           mass=0.0569, useNeoHookean=1, NeoHookeanMu=76.92, NeoHookeanLambda=115.38, NeoHookeanDamping=0.01,\n",
        "                           collisionMargin=0.005, useSelfCollision=0, frictionCoeff=0.5)\n",
        "\n",
        "# Ancoraggio del giunto alla colonna e alla gamba\n",
        "index_leg = link_name_to_index[\"Gamba\"]\n",
        "index_column = link_name_to_index[\"Colonna\"]\n",
        "p.createSoftBodyAnchor(giunto_id, nodeIndex= 0, bodyUniqueId= PIPPA_id, linkIndex= index_column)  # Ancora alla colonna\n",
        "p.createSoftBodyAnchor(giunto_id, nodeIndex=-1, bodyUniqueId = PIPPA_id, linkIndex= index_leg)  # Ancora alla gamba\n"
      ],
      "metadata": {
        "id": "UPSe-CCkUl9F"
      },
      "execution_count": null,
      "outputs": []
    },
    {
      "cell_type": "code",
      "source": [
        "# Parametri della fotocamera\n",
        "cam_target_pos = [0, 0, 0]\n",
        "cam_distance = 2.0\n",
        "cam_yaw, cam_pitch, cam_roll = 50, -30.0, 0\n",
        "cam_width, cam_height = 480, 360\n",
        "cam_up_axis_idx = 2\n",
        "cam_fov = 60\n",
        "cam_near_plane, cam_far_plane = 0.01, 100\n",
        "\n",
        "# Imposta la registrazione del video\n",
        "vid = imageio_ffmpeg.write_frames('simulation_output.mp4', (cam_width, cam_height), fps=30)\n",
        "vid.send(None)  # Inizializza con un fotogramma vuoto\n",
        "\n",
        "# Parametri per la simulazione\n",
        "simulation_time = 180\n",
        "sampling_frequency = 1 / 100\n",
        "num_points = int(simulation_time * sampling_frequency)\n",
        "\n",
        "# Liste per registrare le posizioni\n",
        "leg_positions_x, leg_positions_y, leg_position_z = [], [], []\n",
        "\n",
        "# Forza esterna da applicare\n",
        "force_module = np.array([50, 0, 0])\n",
        "force_position = np.array([0, 0, 0.99])  # Posizione dove applicare la forza"
      ],
      "metadata": {
        "id": "jGXW2iNUU5id"
      },
      "execution_count": null,
      "outputs": []
    },
    {
      "cell_type": "code",
      "source": [
        "# Ciclo principale della simulazione\n",
        "for step in range(1000):\n",
        "    print(f'\\rtimestep {step}...', end='')\n",
        "    if step == 100:\n",
        "      # Applicare la forza esterna al primo passo della simulazione\n",
        "      p.applyExternalForce(\n",
        "          objectUniqueId=PIPPA_id,\n",
        "          linkIndex=link_name_to_index['Link_colonna'],\n",
        "          forceObj=force_module,\n",
        "          posObj=force_position,\n",
        "          flags=p.WORLD_FRAME\n",
        "      )\n",
        "\n",
        "    # Registrazione della posizione della gamba\n",
        "    leg_position = p.getLinkState(PIPPA_id, link_name_to_index['Gamba_Link'])[0]\n",
        "    leg_positions_x.append(leg_position[0])\n",
        "    leg_positions_y.append(leg_position[1])\n",
        "    leg_position_z.append(leg_position[2])\n",
        "\n",
        "    # Calcola la vista e la proiezione della fotocamera\n",
        "    cam_view_matrix = p.computeViewMatrixFromYawPitchRoll(\n",
        "        cam_target_pos, cam_distance, cam_yaw, cam_pitch, cam_roll, cam_up_axis_idx\n",
        "    )\n",
        "    cam_projection_matrix = p.computeProjectionMatrixFOV(\n",
        "        cam_fov, cam_width / cam_height, cam_near_plane, cam_far_plane\n",
        "    )\n",
        "\n",
        "    # Cattura l'immagine\n",
        "    image = p.getCameraImage(cam_width, cam_height, cam_view_matrix, cam_projection_matrix)[2][:, :, :3]\n",
        "\n",
        "    # Scrivi il fotogramma nel video\n",
        "    vid.send(np.ascontiguousarray(image))\n",
        "\n",
        "    p.stepSimulation()  # Avanza di un passo nella simulazione\n",
        "\n",
        "# Rilascia le risorse video\n",
        "vid.close()\n",
        "\n",
        "# Disconnessione dalla simulazione\n",
        "p.disconnect()\n"
      ],
      "metadata": {
        "id": "RO0XueEzYbE6"
      },
      "execution_count": null,
      "outputs": []
    },
    {
      "cell_type": "code",
      "source": [
        "# Ora visualizziamo il video registrato nel notebook\n",
        "mp4 = open('simulation_output.mp4', 'rb').read()  # Leggi il file video\n",
        "data_url = \"data:video/mp4;base64,\" + b64encode(mp4).decode()  # Convertilo in Base64\n",
        "\n",
        "# Visualizza il video nel notebook Jupyter\n",
        "HTML('<video width=480 controls><source src=\"%s\" type=\"video/mp4\"></video>' % data_url)"
      ],
      "metadata": {
        "id": "3GkDygSRYjTu"
      },
      "execution_count": null,
      "outputs": []
    },
    {
      "cell_type": "code",
      "source": [
        "#plotting positions\n",
        "plt.figure('Leg positions')\n",
        "plt.plot(leg_positions_x, label='x')\n",
        "plt.plot(leg_positions_y, label='y')\n",
        "plt.plot(leg_position_z, label='z')\n",
        "plt.legend()\n",
        "plt.grid()\n",
        "plt.minorticks_on()\n",
        "#plt.ylim(-0.000001,0.0001)\n",
        "#plt.xlim(45, 1000)\n",
        "plt.show()"
      ],
      "metadata": {
        "id": "oNdTFH6qYlRC"
      },
      "execution_count": null,
      "outputs": []
    },
    {
      "cell_type": "code",
      "source": [
        "plt.figure('xy motion')\n",
        "plt.plot(leg_positions_x, leg_positions_y, label = 'leg1')\n",
        "plt.legend()\n",
        "plt.grid()\n",
        "plt.minorticks_on()\n",
        "plt.show()"
      ],
      "metadata": {
        "id": "MMnZWOPRYnfU"
      },
      "execution_count": null,
      "outputs": []
    },
    {
      "cell_type": "code",
      "source": [
        "import numpy as np\n",
        "import matplotlib.pyplot as plt\n",
        "from scipy.optimize import curve_fit\n",
        "from scipy.signal import find_peaks\n",
        "\n",
        "# Supponiamo che leg_positions_x sia un array definito\n",
        "time = np.arange(len(leg_positions_x[45:-1]))  # Array di tempi in base agli indici\n",
        "y_data = leg_positions_x[45:-1]  # Dati del segnale (senza valore assoluto)\n",
        "\n",
        "# Trova i massimi locali usando find_peaks\n",
        "peaks, _ = find_peaks(y_data)  # Restituisce gli indici dei picchi e altre informazioni\n",
        "\n",
        "peak_values = []\n",
        "time_peaks = []\n",
        "# Estrai i valori dei massimi locali per creare l'inviluppo\n",
        "for value in peaks:\n",
        "    peak_values.append(y_data[value])\n",
        "    time_peaks.append(time[value])\n",
        "\n",
        "# Definisci la funzione esponenziale da adattare\n",
        "def exp_decay(t, A, tau):\n",
        "    return A * np.exp(-t / tau)\n",
        "\n",
        "# Esegui il fit esponenziale sui massimi\n",
        "params, covariance = curve_fit(exp_decay, time_peaks, peak_values, p0=(peak_values[0], 100))\n",
        "\n",
        "# Estrai il parametro tau\n",
        "A_fit, tau_fit = params\n",
        "print(f\"Stima di tau: {tau_fit}\")\n",
        "\n",
        "# Visualizza i risultati\n",
        "plt.figure(figsize=(10, 6))\n",
        "plt.plot(time, y_data, 'b-', label='Dati originali')\n",
        "plt.plot(time[peaks], peak_values, 'go', label='Massimi locali (inviluppo)')\n",
        "plt.plot(time, exp_decay(time, *params), 'r--', label=f'Fit esponenziale (tau = {tau_fit:.3f})')\n",
        "plt.xlabel('Tempo')\n",
        "plt.ylabel('Ampiezza')\n",
        "plt.legend()\n",
        "plt.title('Fit esponenziale dell\\'inviluppo (massimi locali)')\n",
        "plt.show()\n"
      ],
      "metadata": {
        "id": "FdzKMmjgYpS7"
      },
      "execution_count": null,
      "outputs": []
    }
  ]
}