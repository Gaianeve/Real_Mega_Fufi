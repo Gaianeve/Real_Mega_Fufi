{
  "nbformat": 4,
  "nbformat_minor": 0,
  "metadata": {
    "colab": {
      "provenance": [],
      "toc_visible": true
    },
    "kernelspec": {
      "name": "python3",
      "display_name": "Python 3"
    },
    "language_info": {
      "name": "python"
    }
  },
  "cells": [
    {
      "cell_type": "markdown",
      "source": [
        "# PIP model 🐾 🤖\n",
        "In this notebook I import and play with my PIP model, designed in blender"
      ],
      "metadata": {
        "id": "7_zU6kpQmyUz"
      }
    },
    {
      "cell_type": "code",
      "execution_count": 1,
      "metadata": {
        "colab": {
          "base_uri": "https://localhost:8080/"
        },
        "id": "5H1rQwPkmayl",
        "outputId": "e25b5d5d-aa13-4cb5-8f26-1025b9bf6525"
      },
      "outputs": [
        {
          "output_type": "stream",
          "name": "stdout",
          "text": [
            "Collecting pybullet\n",
            "  Downloading pybullet-3.2.6-cp310-cp310-manylinux_2_17_x86_64.manylinux2014_x86_64.whl.metadata (1.8 kB)\n",
            "Downloading pybullet-3.2.6-cp310-cp310-manylinux_2_17_x86_64.manylinux2014_x86_64.whl (103.2 MB)\n",
            "\u001b[2K   \u001b[90m━━━━━━━━━━━━━━━━━━━━━━━━━━━━━━━━━━━━━━━━\u001b[0m \u001b[32m103.2/103.2 MB\u001b[0m \u001b[31m5.8 MB/s\u001b[0m eta \u001b[36m0:00:00\u001b[0m\n",
            "\u001b[?25hInstalling collected packages: pybullet\n",
            "Successfully installed pybullet-3.2.6\n"
          ]
        }
      ],
      "source": [
        "!pip install pybullet"
      ]
    },
    {
      "cell_type": "markdown",
      "source": [
        "## GPU e CPU setting  🌇 🎥\n",
        "In Colab u cannot directly connect with `p.connect(GUI)`, that would be necessary for rendering, that's why u gotta adapt thing up a little.\n",
        "\n",
        "In the cell below we set things up for rendering as explained in this notebook [Here](https://colab.research.google.com/drive/1u6j7JOqM05vUUjpVp5VNk0pd8q-vqGlx#scrollTo=fJXFN4U7NIRC)"
      ],
      "metadata": {
        "id": "vVevX3UYaf91"
      }
    },
    {
      "cell_type": "code",
      "source": [
        "#you can enable the GPU by changing the runtime\n",
        "import os\n",
        "os.environ['MESA_GL_VERSION_OVERRIDE'] = '3.3'\n",
        "os.environ['MESA_GLSL_VERSION_OVERRIDE'] = '330'\n",
        "import pybullet as p\n",
        "import pybullet_data as pd\n",
        "import numpy as np\n",
        "import matplotlib.pyplot as plt\n",
        "%matplotlib inline\n",
        "from matplotlib import pylab\n",
        "from google.colab import widgets\n",
        "import random\n",
        "import time\n",
        "\n",
        "p.connect(p.DIRECT)\n",
        "#allow to find the assets (URDF, obj, textures etc)\n",
        "p.setAdditionalSearchPath(pd.getDataPath())\n",
        "\n",
        "#optionally enable GPU for faster rendering in pybullet.getCameraImage\n",
        "enableGPU = False\n",
        "!ln -sf /opt/bin/nvidia-smi /usr/bin/nvidia-smi\n",
        "!pip install gputil\n",
        "import GPUtil as GPU\n",
        "import sys\n",
        "# Get all device ids and their processing and memory utiliazion\n",
        "# (deviceIds, gpuUtil, memUtil) = GPU.getGPUs()\n",
        "\n",
        "# Print os and python version information\n",
        "print('OS: ' + sys.platform)\n",
        "print(sys.version)\n",
        "\n",
        "# Print package name and version number\n",
        "print(GPU.__name__ + ' ' + GPU.__version__)\n",
        "\n",
        "# Show the utilization of all GPUs in a nice table\n",
        "GPU.showUtilization()\n",
        "\n",
        "# Show all stats of all GPUs in a nice table\n",
        "GPU.showUtilization(all=True)\n",
        "\n",
        "# NOTE: If all your GPUs currently have a memory consumption larger than 1%,\n",
        "# this step will fail. It's not a bug! It is intended to do so, if it does not\n",
        "# find an available GPU.\n",
        "GPUs = GPU.getGPUs()\n",
        "numGPUs = len(GPU.getGPUs())\n",
        "print(\"numGPUs=\",numGPUs)\n",
        "if numGPUs > 0:\n",
        "  enableGPU = True\n",
        "eglPluginId = -1\n",
        "if enableGPU:\n",
        "  import pkgutil\n",
        "  egl = pkgutil.get_loader('eglRenderer')\n",
        "  if (egl):\n",
        "    eglPluginId = p.loadPlugin(egl.get_filename(), \"_eglRendererPlugin\")\n",
        "  else:\n",
        "    eglPluginId = p.loadPlugin(\"eglRendererPlugin\")\n",
        "\n",
        "if eglPluginId>=0:\n",
        "  print(\"Using GPU hardware (eglRenderer)\")\n",
        "else:\n",
        "  print(\"using CPU renderer (TinyRenderer)\")"
      ],
      "metadata": {
        "colab": {
          "base_uri": "https://localhost:8080/"
        },
        "id": "Ex9COCQDaQdn",
        "outputId": "321ab356-e8fb-4f0a-bdde-8a7cec6e52ec"
      },
      "execution_count": 2,
      "outputs": [
        {
          "output_type": "stream",
          "name": "stdout",
          "text": [
            "Collecting gputil\n",
            "  Downloading GPUtil-1.4.0.tar.gz (5.5 kB)\n",
            "  Preparing metadata (setup.py) ... \u001b[?25l\u001b[?25hdone\n",
            "Building wheels for collected packages: gputil\n",
            "  Building wheel for gputil (setup.py) ... \u001b[?25l\u001b[?25hdone\n",
            "  Created wheel for gputil: filename=GPUtil-1.4.0-py3-none-any.whl size=7392 sha256=79aaa37ead2f28354cd7c81ed6132c7d779eb038aa3075ba1b78ad6933f2bf89\n",
            "  Stored in directory: /root/.cache/pip/wheels/a9/8a/bd/81082387151853ab8b6b3ef33426e98f5cbfebc3c397a9d4d0\n",
            "Successfully built gputil\n",
            "Installing collected packages: gputil\n",
            "Successfully installed gputil-1.4.0\n",
            "OS: linux\n",
            "3.10.12 (main, Sep 11 2024, 15:47:36) [GCC 11.4.0]\n",
            "GPUtil 1.4.0\n",
            "| ID | GPU | MEM |\n",
            "------------------\n",
            "| ID | Name | Serial | UUID || GPU temp. | GPU util. | Memory util. || Memory total | Memory used | Memory free || Display mode | Display active |\n",
            "--------------------------------------------------------------------------------------------------------------------------------------------------\n",
            "numGPUs= 0\n",
            "using CPU renderer (TinyRenderer)\n"
          ]
        }
      ]
    },
    {
      "cell_type": "code",
      "source": [
        "!git clone https://github.com/Gaianeve/Real_Mega_Fufi.git"
      ],
      "metadata": {
        "colab": {
          "base_uri": "https://localhost:8080/"
        },
        "id": "eOf0ZYeuqKjZ",
        "outputId": "02833a86-023f-4741-837e-8b42392a6082"
      },
      "execution_count": 3,
      "outputs": [
        {
          "output_type": "stream",
          "name": "stdout",
          "text": [
            "Cloning into 'Real_Mega_Fufi'...\n",
            "remote: Enumerating objects: 246, done.\u001b[K\n",
            "remote: Counting objects: 100% (67/67), done.\u001b[K\n",
            "remote: Compressing objects: 100% (64/64), done.\u001b[K\n",
            "remote: Total 246 (delta 42), reused 1 (delta 1), pack-reused 179 (from 1)\u001b[K\n",
            "Receiving objects: 100% (246/246), 1.31 MiB | 3.48 MiB/s, done.\n",
            "Resolving deltas: 100% (127/127), done.\n"
          ]
        }
      ]
    },
    {
      "cell_type": "markdown",
      "source": [
        "## Loading model 📡 🛰"
      ],
      "metadata": {
        "id": "GVaJMroNn4lF"
      }
    },
    {
      "cell_type": "code",
      "source": [
        "%cd Real_Mega_Fufi/Robot/PIPPA"
      ],
      "metadata": {
        "colab": {
          "base_uri": "https://localhost:8080/"
        },
        "id": "Df4k0SJGqUjR",
        "outputId": "ebfbbf65-0c7a-471a-9c5b-27daad89111a"
      },
      "execution_count": 4,
      "outputs": [
        {
          "output_type": "stream",
          "name": "stdout",
          "text": [
            "/content/Real_Mega_Fufi/Robot/PIPPA\n"
          ]
        }
      ]
    },
    {
      "cell_type": "code",
      "source": [
        "p.resetSimulation()\n",
        "p.configureDebugVisualizer(p.COV_ENABLE_GUI)\n",
        "#tell him to slide freely on the ground plane\n",
        "useFixedBase = False\n",
        "flags = p.URDF_INITIALIZE_SAT_FEATURES\n",
        "\n",
        "plane_pos = [0,0,-0.1]\n",
        "plane = p.loadURDF(\"plane.urdf\", plane_pos, flags = flags, useFixedBase=useFixedBase)\n",
        "PIP_position = [0,0,0]\n",
        "orientation  = [0,0,0]\n",
        "PIP_orientation = p.getQuaternionFromEuler(orientation)\n",
        "PIPPA_id = p.loadURDF(\"PIPPA.urdf\",basePosition = PIP_position,baseOrientation = PIP_orientation,\\\n",
        "                      useFixedBase=useFixedBase)\n"
      ],
      "metadata": {
        "id": "31KyVgJQmx4R"
      },
      "execution_count": 33,
      "outputs": []
    },
    {
      "cell_type": "markdown",
      "source": [
        "## Useful info and tools 🎮 📚 🏮\n",
        "Print name and index of the joints and links.\n",
        "\n",
        "Rembember that in Pybullet the following rule holds:\n",
        "\n",
        " 🛑 ❗  `linkIndex == jointIndex`\n",
        "\n",
        "\n"
      ],
      "metadata": {
        "id": "t07vJnlssj0J"
      }
    },
    {
      "cell_type": "markdown",
      "source": [
        "### Link indexes 🔗 🥠\n"
      ],
      "metadata": {
        "id": "KW9YJr361ydw"
      }
    },
    {
      "cell_type": "code",
      "source": [
        "link_name_to_index = {p.getBodyInfo(PIPPA_id)[0].decode('UTF-8'):-1,}\n",
        "\n",
        "for id in range(p.getNumJoints(PIPPA_id)):\n",
        "  name = p.getJointInfo(PIPPA_id, id)[12].decode('UTF-8')\n",
        "  print(name)\n",
        "  link_name_to_index[name] = id\n",
        "  print(link_name_to_index)"
      ],
      "metadata": {
        "colab": {
          "base_uri": "https://localhost:8080/"
        },
        "id": "9uS9uRglID8F",
        "outputId": "56cbe2ad-0036-4684-aab5-6c206a74201c"
      },
      "execution_count": 34,
      "outputs": [
        {
          "output_type": "stream",
          "name": "stdout",
          "text": [
            "Top_core\n",
            "{'Bottom_core': -1, 'Top_core': 0}\n",
            "Top_Link_1\n",
            "{'Bottom_core': -1, 'Top_core': 0, 'Top_Link_1': 1}\n",
            "Cover_Link1\n",
            "{'Bottom_core': -1, 'Top_core': 0, 'Top_Link_1': 1, 'Cover_Link1': 2}\n",
            "Gamba_Link_1\n",
            "{'Bottom_core': -1, 'Top_core': 0, 'Top_Link_1': 1, 'Cover_Link1': 2, 'Gamba_Link_1': 3}\n",
            "Elastic_Joint_Link_1\n",
            "{'Bottom_core': -1, 'Top_core': 0, 'Top_Link_1': 1, 'Cover_Link1': 2, 'Gamba_Link_1': 3, 'Elastic_Joint_Link_1': 4}\n",
            "Colonna_Link_1\n",
            "{'Bottom_core': -1, 'Top_core': 0, 'Top_Link_1': 1, 'Cover_Link1': 2, 'Gamba_Link_1': 3, 'Elastic_Joint_Link_1': 4, 'Colonna_Link_1': 5}\n",
            "Bottom_Link_1\n",
            "{'Bottom_core': -1, 'Top_core': 0, 'Top_Link_1': 1, 'Cover_Link1': 2, 'Gamba_Link_1': 3, 'Elastic_Joint_Link_1': 4, 'Colonna_Link_1': 5, 'Bottom_Link_1': 6}\n",
            "Top_Link_2\n",
            "{'Bottom_core': -1, 'Top_core': 0, 'Top_Link_1': 1, 'Cover_Link1': 2, 'Gamba_Link_1': 3, 'Elastic_Joint_Link_1': 4, 'Colonna_Link_1': 5, 'Bottom_Link_1': 6, 'Top_Link_2': 7}\n",
            "Cover_Link_2\n",
            "{'Bottom_core': -1, 'Top_core': 0, 'Top_Link_1': 1, 'Cover_Link1': 2, 'Gamba_Link_1': 3, 'Elastic_Joint_Link_1': 4, 'Colonna_Link_1': 5, 'Bottom_Link_1': 6, 'Top_Link_2': 7, 'Cover_Link_2': 8}\n",
            "Gamba_Link_2\n",
            "{'Bottom_core': -1, 'Top_core': 0, 'Top_Link_1': 1, 'Cover_Link1': 2, 'Gamba_Link_1': 3, 'Elastic_Joint_Link_1': 4, 'Colonna_Link_1': 5, 'Bottom_Link_1': 6, 'Top_Link_2': 7, 'Cover_Link_2': 8, 'Gamba_Link_2': 9}\n",
            "Elastic_Joint_link_2\n",
            "{'Bottom_core': -1, 'Top_core': 0, 'Top_Link_1': 1, 'Cover_Link1': 2, 'Gamba_Link_1': 3, 'Elastic_Joint_Link_1': 4, 'Colonna_Link_1': 5, 'Bottom_Link_1': 6, 'Top_Link_2': 7, 'Cover_Link_2': 8, 'Gamba_Link_2': 9, 'Elastic_Joint_link_2': 10}\n",
            "Colonna_Link_2\n",
            "{'Bottom_core': -1, 'Top_core': 0, 'Top_Link_1': 1, 'Cover_Link1': 2, 'Gamba_Link_1': 3, 'Elastic_Joint_Link_1': 4, 'Colonna_Link_1': 5, 'Bottom_Link_1': 6, 'Top_Link_2': 7, 'Cover_Link_2': 8, 'Gamba_Link_2': 9, 'Elastic_Joint_link_2': 10, 'Colonna_Link_2': 11}\n",
            "Bottom_Link_2\n",
            "{'Bottom_core': -1, 'Top_core': 0, 'Top_Link_1': 1, 'Cover_Link1': 2, 'Gamba_Link_1': 3, 'Elastic_Joint_Link_1': 4, 'Colonna_Link_1': 5, 'Bottom_Link_1': 6, 'Top_Link_2': 7, 'Cover_Link_2': 8, 'Gamba_Link_2': 9, 'Elastic_Joint_link_2': 10, 'Colonna_Link_2': 11, 'Bottom_Link_2': 12}\n",
            "Top_Link_3\n",
            "{'Bottom_core': -1, 'Top_core': 0, 'Top_Link_1': 1, 'Cover_Link1': 2, 'Gamba_Link_1': 3, 'Elastic_Joint_Link_1': 4, 'Colonna_Link_1': 5, 'Bottom_Link_1': 6, 'Top_Link_2': 7, 'Cover_Link_2': 8, 'Gamba_Link_2': 9, 'Elastic_Joint_link_2': 10, 'Colonna_Link_2': 11, 'Bottom_Link_2': 12, 'Top_Link_3': 13}\n",
            "Cover_Link_3\n",
            "{'Bottom_core': -1, 'Top_core': 0, 'Top_Link_1': 1, 'Cover_Link1': 2, 'Gamba_Link_1': 3, 'Elastic_Joint_Link_1': 4, 'Colonna_Link_1': 5, 'Bottom_Link_1': 6, 'Top_Link_2': 7, 'Cover_Link_2': 8, 'Gamba_Link_2': 9, 'Elastic_Joint_link_2': 10, 'Colonna_Link_2': 11, 'Bottom_Link_2': 12, 'Top_Link_3': 13, 'Cover_Link_3': 14}\n",
            "Gamba_Link_3\n",
            "{'Bottom_core': -1, 'Top_core': 0, 'Top_Link_1': 1, 'Cover_Link1': 2, 'Gamba_Link_1': 3, 'Elastic_Joint_Link_1': 4, 'Colonna_Link_1': 5, 'Bottom_Link_1': 6, 'Top_Link_2': 7, 'Cover_Link_2': 8, 'Gamba_Link_2': 9, 'Elastic_Joint_link_2': 10, 'Colonna_Link_2': 11, 'Bottom_Link_2': 12, 'Top_Link_3': 13, 'Cover_Link_3': 14, 'Gamba_Link_3': 15}\n",
            "Elastic_Joint_link_3\n",
            "{'Bottom_core': -1, 'Top_core': 0, 'Top_Link_1': 1, 'Cover_Link1': 2, 'Gamba_Link_1': 3, 'Elastic_Joint_Link_1': 4, 'Colonna_Link_1': 5, 'Bottom_Link_1': 6, 'Top_Link_2': 7, 'Cover_Link_2': 8, 'Gamba_Link_2': 9, 'Elastic_Joint_link_2': 10, 'Colonna_Link_2': 11, 'Bottom_Link_2': 12, 'Top_Link_3': 13, 'Cover_Link_3': 14, 'Gamba_Link_3': 15, 'Elastic_Joint_link_3': 16}\n",
            "Colonna_Link_3\n",
            "{'Bottom_core': -1, 'Top_core': 0, 'Top_Link_1': 1, 'Cover_Link1': 2, 'Gamba_Link_1': 3, 'Elastic_Joint_Link_1': 4, 'Colonna_Link_1': 5, 'Bottom_Link_1': 6, 'Top_Link_2': 7, 'Cover_Link_2': 8, 'Gamba_Link_2': 9, 'Elastic_Joint_link_2': 10, 'Colonna_Link_2': 11, 'Bottom_Link_2': 12, 'Top_Link_3': 13, 'Cover_Link_3': 14, 'Gamba_Link_3': 15, 'Elastic_Joint_link_3': 16, 'Colonna_Link_3': 17}\n",
            "Bottom_Link_3\n",
            "{'Bottom_core': -1, 'Top_core': 0, 'Top_Link_1': 1, 'Cover_Link1': 2, 'Gamba_Link_1': 3, 'Elastic_Joint_Link_1': 4, 'Colonna_Link_1': 5, 'Bottom_Link_1': 6, 'Top_Link_2': 7, 'Cover_Link_2': 8, 'Gamba_Link_2': 9, 'Elastic_Joint_link_2': 10, 'Colonna_Link_2': 11, 'Bottom_Link_2': 12, 'Top_Link_3': 13, 'Cover_Link_3': 14, 'Gamba_Link_3': 15, 'Elastic_Joint_link_3': 16, 'Colonna_Link_3': 17, 'Bottom_Link_3': 18}\n"
          ]
        }
      ]
    },
    {
      "cell_type": "markdown",
      "source": [
        "### Joints name and index 🦾 🪴"
      ],
      "metadata": {
        "id": "VAWdsaaaKC33"
      }
    },
    {
      "cell_type": "code",
      "source": [
        "for id in range(p.getNumJoints(PIPPA_id)):\n",
        "    # Ottieni informazioni sul giunto\n",
        "    joint_info = p.getJointInfo(PIPPA_id, id)\n",
        "    name = joint_info[1].decode('UTF-8')  # Utilizza l'indice corretto per il nome del giunto\n",
        "    # Stampa il nome e l'indice\n",
        "    print(f\"Giunto: {name}, Indice: {id}\")"
      ],
      "metadata": {
        "colab": {
          "base_uri": "https://localhost:8080/"
        },
        "id": "V0fDC6dmKUrF",
        "outputId": "d24de301-284c-4cf7-aeeb-5a661081bbc1"
      },
      "execution_count": 35,
      "outputs": [
        {
          "output_type": "stream",
          "name": "stdout",
          "text": [
            "Giunto: Top_core_to__top_link, Indice: 0\n",
            "Giunto: Cover_to_top_1, Indice: 1\n",
            "Giunto: Cover_to_leg_1, Indice: 2\n",
            "Giunto: Leg_to_elastic_1, Indice: 3\n",
            "Giunto: elastic_to_column_1, Indice: 4\n",
            "Giunto: Bottom_to_Column_1, Indice: 5\n",
            "Giunto: Center_to_bottom1, Indice: 6\n",
            "Giunto: Cover_to_top_2, Indice: 7\n",
            "Giunto: Cover_to_leg_2, Indice: 8\n",
            "Giunto: Leg_to_elastic_2, Indice: 9\n",
            "Giunto: elastic_to_column_2, Indice: 10\n",
            "Giunto: Bottom_to_column_2, Indice: 11\n",
            "Giunto: Center_to_bottom2, Indice: 12\n",
            "Giunto: Cover_to_top_3, Indice: 13\n",
            "Giunto: Cover_to_leg_3, Indice: 14\n",
            "Giunto: Leg_to_elastic_3, Indice: 15\n",
            "Giunto: elastic_to_column_3, Indice: 16\n",
            "Giunto: Bottom_to_column3, Indice: 17\n",
            "Giunto: center_to_bottom3, Indice: 18\n"
          ]
        }
      ]
    },
    {
      "cell_type": "markdown",
      "source": [
        "## TABELLA RIASSUNTIVA DI INDICI DI LINK E GIUNTI\n",
        "| Tipo  | Nome                     | Indice |\n",
        "|-------|--------------------------|--------|\n",
        "| 🔗✨ Link  | Bottom_core              | -1     |\n",
        "| 🔗🌈 Link  | Top_core                 | 0      |\n",
        "| 🔗🌟 Link  | Top_Link_1               | 1      |\n",
        "| 🔗🎉 Link  | Cover_Link1              | 2      |\n",
        "| 🔗💫 Link  | Gamba_Link_1             | 3      |\n",
        "| 🔗🌼 Link  | Elastic_Joint_Link_1     | 4      |\n",
        "| 🔗🌻 Link  | Colonna_Link_1           | 5      |\n",
        "| 🔗🍀 Link  | Bottom_Link_1            | 6      |\n",
        "| 🔗🌺 Link  | Top_Link_2               | 7      |\n",
        "| 🔗🎈 Link  | Cover_Link_2             | 8      |\n",
        "| 🔗✨ Link  | Gamba_Link_2             | 9      |\n",
        "| 🔗🌈 Link  | Elastic_Joint_link_2     | 10     |\n",
        "| 🔗🌟 Link  | Colonna_Link_2           | 11     |\n",
        "| 🔗🎉 Link  | Bottom_Link_2            | 12     |\n",
        "| 🔗💫 Link  | Top_Link_3               | 13     |\n",
        "| 🔗🌼 Link  | Cover_Link_3             | 14     |\n",
        "| 🔗🌻 Link  | Gamba_Link_3             | 15     |\n",
        "| 🔗🍀 Link  | Elastic_Joint_link_3     | 16     |\n",
        "| 🔗🌺 Link  | Colonna_Link_3           | 17     |\n",
        "| 🔗🎈 Link  | Bottom_Link_3            | 18     |\n",
        "|-------|--------------------------|--------|\n",
        "| ⚙️✨ Giunto| Top_core_to__top_link    | 0      |\n",
        "| ⚙️🌈 Giunto| Cover_to_top_1           | 1      |\n",
        "| ⚙️🌟 Giunto| Cover_to_leg_1           | 2      |\n",
        "| ⚙️🎉 Giunto| Leg_to_elastic_1         | 3      |\n",
        "| ⚙️💫 Giunto| elastic_to_column_1       | 4      |\n",
        "| ⚙️🌼 Giunto| Bottom_to_Column_1        | 5      |\n",
        "| ⚙️🌻 Giunto| Center_to_bottom1         | 6      |\n",
        "| ⚙️🍀 Giunto| Cover_to_top_2           | 7      |\n",
        "| ⚙️🌺 Giunto| Cover_to_leg_2           | 8      |\n",
        "| ⚙️🎈 Giunto| Leg_to_elastic_2         | 9      |\n",
        "| ⚙️✨ Giunto| elastic_to_column_2       | 10     |\n",
        "| ⚙️🌈 Giunto| Bottom_to_column_2        | 11     |\n",
        "| ⚙️🌟 Giunto| Center_to_bottom2         | 12     |\n",
        "| ⚙️🎉 Giunto| Cover_to_top_3           | 13     |\n",
        "| ⚙️💫 Giunto| Cover_to_leg_3           | 14     |\n",
        "| ⚙️🌼 Giunto| Leg_to_elastic_3         | 15     |\n",
        "| ⚙️🌻 Giunto| elastic_to_column_3       | 16     |\n",
        "| ⚙️🍀 Giunto| Bottom_to_column3         | 17     |\n",
        "| ⚙️🌺 Giunto| center_to_bottom3         | 18     |\n"
      ],
      "metadata": {
        "id": "Bm820626Lg4B"
      }
    },
    {
      "cell_type": "markdown",
      "source": [
        "## Changing material of the links ⛵ 🦚\n",
        "Assign material trough the properties by changing dinamics. Everything about elastic joint Young modulus is being dealt with in the urdf file.\n",
        "\n",
        "Basically, the joint is modelized as a *neo hookean* soft body  ♨ 🗻. Again, see the guide or my notes for the details."
      ],
      "metadata": {
        "id": "2ZwrHfquwS-J"
      }
    },
    {
      "cell_type": "code",
      "source": [
        "# AL 6082 (Alluminio)\n",
        "lateralFriction_Al = 0.3\n",
        "restitution_Al = 0.2\n",
        "rollingFriction_Al = 0.001\n",
        "spinningFriction_Al = 0.01\n",
        "linearDamping_Al = 0.04\n",
        "angularDamping_Al = 0.1\n",
        "contactStiffness_Al = 3e6\n",
        "contactDamping_Al = 800\n",
        "\n",
        "# AISI 304 (Acciaio Inox)\n",
        "lateralFriction_AISI = 0.4\n",
        "restitution_AISI = 0.1\n",
        "rollingFriction_AISI = 0.001\n",
        "spinningFriction_AISI= 0.05\n",
        "linearDamping_AISI = 0.03\n",
        "angularDamping_AISI = 0.1\n",
        "contactStiffness_AISI = 8e6\n",
        "contactDamping_AISI = 1500\n",
        "\n",
        "# Acciaio Maraging (Maragià per gli amici)\n",
        "lateralFriction_Mar = 0.3\n",
        "restitution_Mar = 0.2\n",
        "rollingFriction_Mar = 0.001\n",
        "spinningFriction_Mar = 0.02\n",
        "linearDamping_Mar = 0.04\n",
        "angularDamping_Mar = 0.15\n",
        "contactStiffness_Mar = 3e6\n",
        "contactDamping_Mar = 800"
      ],
      "metadata": {
        "id": "v4hl9tfetDn4"
      },
      "execution_count": 36,
      "outputs": []
    },
    {
      "cell_type": "markdown",
      "source": [
        "### Physics parameters explanation 🎈 🔮\n",
        "\n",
        "1.  `lateralFriction=0.9` 🐑\n",
        "\n",
        "  *   **Descrizione**: Rappresenta il coefficiente di attrito laterale tra il link e la superficie su cui entra in contatto.\n",
        "  *   **Effetto:**  Più alto è il valore, maggiore sarà l'attrito tra il link e la superficie, il che significa che il link resisterà di più allo scivolamento lungo la superficie. Un valore di 1.0 o vicino a esso significa un attrito alto, mentre un valore basso (come 0.1) indica poco attrito, e il link scivolerà più facilmente.\n",
        "\n",
        "  *   **Esempio:** Materiali ruvidi o che non scivolano facilmente, come gomma o superfici ruvide, hanno un coefficiente di attrito più alto. Materiali come ghiaccio o superfici lisce e scivolose avranno un coefficiente basso.\n",
        "\n",
        "*Caso Acciaio*: Il valore 0.9 è abbastanza alto, riflettendo l'alto attrito dell'acciaio maraging a contatto con superfici ruvide o altri metalli.\n",
        "\n",
        "\n",
        "2.  `restitution=0.1` 🐬\n",
        "\n",
        "  *   **Descrizione**: Rappresenta il coefficiente di restituzione, che determina quanto \"rimbalza\" un oggetto dopo un impatto.\n",
        "\n",
        "  *   **Effetto:**  Un valore di 1.0 significa che l'oggetto rimbalza completamente (energia conservata), mentre un valore di 0.0 significa che non c'è rimbalzo (l'energia viene completamente assorbita).\n",
        "\n",
        "  *   **Esempio:** Materiali elastici come la gomma hanno un alto coefficiente di restituzione (vicino a 1.0), mentre materiali rigidi e non elastici come il piombo o l'acciaio hanno un coefficiente basso.\n",
        "\n",
        "*Caso Acciaio*: L'acciaio ha un basso coefficiente di restituzione (intorno a 0.1), il che significa che non rimbalza molto dopo un impatto, riflettendo la sua natura rigida e non elastica.\n",
        "\n",
        "\n",
        "3.  `contactStiffness=1e6` 🐨\n",
        "\n",
        "  *   **Descrizione**: Rappresenta la rigidità del contatto, o quanto è resistente il materiale alla compressione quando viene a contatto con un'altra superficie.\n",
        "\n",
        "  *   **Effetto:**  Un valore più alto significa che il materiale è molto rigido e si deformerà pochissimo durante un contatto (simulando l'effetto di un modulo di Young alto), mentre un valore basso rappresenta materiali più morbidi che si deformano più facilmente.\n",
        "\n",
        "  *   **Esempio:** Materiali come il gommapiuma hanno una bassa rigidità del contatto, mentre materiali molto rigidi come acciaio o ceramica hanno un'alta rigidità.\n",
        "\n",
        "*Caso Acciaio*: Un valore come 1e6 simula una rigidezza molto alta, tipica dell'acciaio maraging, che si deforma molto poco sotto pressione.\n",
        "\n",
        "\n",
        "4.  `contactDamping=1e3` 🦘\n",
        "  \n",
        "  *   **Descrizione**: Rappresenta lo smorzamento del contatto, che controlla quanto velocemente l'energia del contatto viene dissipata nel tempo.\n",
        "\n",
        "  *   **Effetto:** Un valore più alto significa che il contatto perde energia rapidamente, smorzando le vibrazioni o il rimbalzo. Un valore basso implica che il sistema è più elastico e manterrà energia più a lungo.\n",
        "\n",
        "  *   **Esempio:** Un materiale molto elastico, come una molla ben tesa, ha uno smorzamento basso, il che significa che rimbalza e vibra a lungo. Un materiale con alto smorzamento, come l'acciaio, disperde rapidamente energia durante un impatto, quindi non rimbalza molto e smorza le vibrazioni.\n",
        "\n",
        "*Caso Acciaio*: Il valore 1e3 rappresenta uno smorzamento moderato, coerente con il comportamento dell'acciaio maraging, che dissipa energia abbastanza rapidamente senza rimbalzi significativi.\n",
        "\n",
        "\n",
        "❕📔🖊 *Note* : *For more detailon the parameters see the parameters see my notes or pybullet Quickstart guide, everything's in there*.\n",
        "\n",
        "❗ Not all parameters are important when simulating, so caution with that choise. **To be decided with max.**"
      ],
      "metadata": {
        "id": "_RWpNau5wRuS"
      }
    },
    {
      "cell_type": "code",
      "source": [
        "link_indices_Al = [-1,6,12,18,2,8,14,3,9,15]\n",
        "link_indices_AISI = [0,5,11,17,1,7,13]\n",
        "link_indices_Mar = [4,10,16]\n",
        "\n",
        "# Al 6082\n",
        "for link in link_indices_Al:\n",
        "  p.changeDynamics(PIPPA_id, link, lateralFriction=lateralFriction_Al,\\\n",
        "                   restitution=restitution_Al, \\\n",
        "                   spinningFriction= spinningFriction_Al, rollingFriction= rollingFriction_Al,\\\n",
        "                   linearDamping=linearDamping_Al, angularDamping=angularDamping_Al,\\\n",
        "                   contactStiffness = contactStiffness_Al,contactDamping = contactDamping_Al)\n",
        "# AISI 304\n",
        "for link in link_indices_AISI:\n",
        "  p.changeDynamics(PIPPA_id, link, lateralFriction=lateralFriction_AISI,\\\n",
        "                   restitution=restitution_AISI, \\\n",
        "                   spinningFriction= spinningFriction_AISI, rollingFriction= rollingFriction_AISI,\\\n",
        "                   linearDamping=linearDamping_AISI, angularDamping=angularDamping_AISI,\\\n",
        "                   contactStiffness = contactStiffness_AISI, contactDamping = contactDamping_AISI)\n",
        "# Maragià\n",
        "for link in link_indices_AISI:\n",
        "  p.changeDynamics(PIPPA_id, link, lateralFriction=lateralFriction_Mar,\\\n",
        "                   restitution=restitution_Mar, \\\n",
        "                   spinningFriction= spinningFriction_Mar, rollingFriction= rollingFriction_Mar,\\\n",
        "                   linearDamping=linearDamping_Mar, angularDamping=angularDamping_Mar,\\\n",
        "                   contactStiffness = contactStiffness_Mar, contactDamping = contactDamping_Mar)"
      ],
      "metadata": {
        "id": "rIQXFPBDva87"
      },
      "execution_count": 37,
      "outputs": []
    },
    {
      "cell_type": "markdown",
      "source": [
        "## Start simulation 🚀 🪖\n",
        "Adding gravity 🍎 ⬇ to the system and starting the physics simulation 🏃 🔥 🛕 ⛩ ⛪ .\n"
      ],
      "metadata": {
        "id": "iRKbRx6pGNDx"
      }
    },
    {
      "cell_type": "code",
      "source": [
        "%%time\n",
        "camTargetPos = [0, 0, 0]\n",
        "cameraUp = [0, 0, 1]\n",
        "cameraPos = [1, 1, 1]\n",
        "p.setGravity(0, 0, -10)\n"
      ],
      "metadata": {
        "id": "bVPJNwD_vKvS",
        "colab": {
          "base_uri": "https://localhost:8080/"
        },
        "outputId": "d7857ea1-df5f-4162-ec4b-da9bed259730"
      },
      "execution_count": 38,
      "outputs": [
        {
          "output_type": "stream",
          "name": "stdout",
          "text": [
            "CPU times: user 68 µs, sys: 0 ns, total: 68 µs\n",
            "Wall time: 71.8 µs\n"
          ]
        }
      ]
    },
    {
      "cell_type": "markdown",
      "source": [
        "## Animated images to see PIPPA 🎥 💥\n",
        "The axiz you see going from left to right is the x axis."
      ],
      "metadata": {
        "id": "wiGaFczJdOMD"
      }
    },
    {
      "cell_type": "code",
      "source": [
        "from google.colab import widgets\n",
        "import numpy as np\n",
        "import random\n",
        "import time\n",
        "from matplotlib import pylab\n",
        "grid = widgets.Grid(2, 2)\n",
        "yaw = 0\n",
        "for r in range(2):\n",
        "  for c in range(2):\n",
        "    yaw += 60\n",
        "    with grid.output_to(r, c):\n",
        "      grid.clear_cell()\n",
        "      pylab.figure(figsize=(10, 5))\n",
        "      pitch = -10.0\n",
        "      roll = 0\n",
        "      upAxisIndex = 2\n",
        "      camDistance = 2.5\n",
        "      pixelWidth = 640\n",
        "      pixelHeight = 480\n",
        "      nearPlane = 0.01\n",
        "      farPlane = 100\n",
        "      fov = 60\n",
        "      viewMatrix = p.computeViewMatrixFromYawPitchRoll(camTargetPos, camDistance, yaw, pitch,\n",
        "                                                                  roll, upAxisIndex)\n",
        "      aspect = pixelWidth / pixelHeight\n",
        "      projectionMatrix = p.computeProjectionMatrixFOV(fov, aspect, nearPlane, farPlane)\n",
        "\n",
        "      img_arr = p.getCameraImage(pixelWidth,pixelHeight,viewMatrix,projectionMatrix)\n",
        "      w = img_arr[0]  #width of the image, in pixels\n",
        "      h = img_arr[1]  #height of the image, in pixels\n",
        "      rgb = img_arr[2]  #color data RGB\n",
        "      dep = img_arr[3]  #depth data\n",
        "      print(\"w=\",w,\"h=\",h)\n",
        "      np_img_arr = np.reshape(rgb, (h, w, 4))\n",
        "      np_img_arr = np_img_arr * (1. / 255.)\n",
        "      pylab.imshow(np_img_arr, interpolation='none', animated=True, label=\"pybullet\")\n"
      ],
      "metadata": {
        "colab": {
          "base_uri": "https://localhost:8080/",
          "height": 1000
        },
        "id": "yScDQij6cibW",
        "outputId": "d9e5de83-6c46-44a9-8274-06ee5b510964"
      },
      "execution_count": 39,
      "outputs": [
        {
          "output_type": "display_data",
          "data": {
            "text/plain": [
              "<IPython.core.display.HTML object>"
            ],
            "text/html": [
              "<style>\n",
              "       table#id10, #id10 > tbody > tr > th, #id10 > tbody > tr > td {\n",
              "         border: 1px solid lightgray;\n",
              "         border-collapse:collapse;\n",
              "         \n",
              "        }</style>"
            ]
          },
          "metadata": {}
        },
        {
          "output_type": "display_data",
          "data": {
            "text/plain": [
              "<IPython.core.display.HTML object>"
            ],
            "text/html": [
              "<table id=id10><tr><td id=id10-0-0></td><td id=id10-0-1></td></tr><tr><td id=id10-1-0></td><td id=id10-1-1></td></tr></table>"
            ]
          },
          "metadata": {}
        },
        {
          "output_type": "display_data",
          "data": {
            "text/plain": [
              "<IPython.core.display.Javascript object>"
            ],
            "application/javascript": [
              "window[\"a4ffce3a-9099-11ef-9915-0242ac1c000c\"] = google.colab.output.getActiveOutputArea();\n",
              "//# sourceURL=js_6e0e745d79"
            ]
          },
          "metadata": {}
        },
        {
          "output_type": "display_data",
          "data": {
            "text/plain": [
              "<IPython.core.display.Javascript object>"
            ],
            "application/javascript": [
              "window[\"a50045ea-9099-11ef-9915-0242ac1c000c\"] = document.querySelector(\"#id10-0-0\");\n",
              "//# sourceURL=js_5c1a9651e1"
            ]
          },
          "metadata": {}
        },
        {
          "output_type": "display_data",
          "data": {
            "text/plain": [
              "<IPython.core.display.Javascript object>"
            ],
            "application/javascript": [
              "window[\"a500a792-9099-11ef-9915-0242ac1c000c\"] = google.colab.output.setActiveOutputArea(window[\"a50045ea-9099-11ef-9915-0242ac1c000c\"]);\n",
              "//# sourceURL=js_669754debc"
            ]
          },
          "metadata": {}
        },
        {
          "output_type": "stream",
          "name": "stdout",
          "text": [
            "w= 640 h= 480\n"
          ]
        },
        {
          "output_type": "display_data",
          "data": {
            "text/plain": [
              "<IPython.core.display.Javascript object>"
            ],
            "application/javascript": [
              "window[\"a5178d36-9099-11ef-9915-0242ac1c000c\"] = google.colab.output.setActiveOutputArea(window[\"a4ffce3a-9099-11ef-9915-0242ac1c000c\"]);\n",
              "//# sourceURL=js_9f159230ec"
            ]
          },
          "metadata": {}
        },
        {
          "output_type": "display_data",
          "data": {
            "text/plain": [
              "<IPython.core.display.Javascript object>"
            ],
            "application/javascript": [
              "window[\"a519ee82-9099-11ef-9915-0242ac1c000c\"] = google.colab.output.getActiveOutputArea();\n",
              "//# sourceURL=js_c2f801971b"
            ]
          },
          "metadata": {}
        },
        {
          "output_type": "display_data",
          "data": {
            "text/plain": [
              "<IPython.core.display.Javascript object>"
            ],
            "application/javascript": [
              "window[\"a51a3e82-9099-11ef-9915-0242ac1c000c\"] = document.querySelector(\"#id10-0-1\");\n",
              "//# sourceURL=js_3208c8bdbe"
            ]
          },
          "metadata": {}
        },
        {
          "output_type": "display_data",
          "data": {
            "text/plain": [
              "<IPython.core.display.Javascript object>"
            ],
            "application/javascript": [
              "window[\"a51a8a90-9099-11ef-9915-0242ac1c000c\"] = google.colab.output.setActiveOutputArea(window[\"a51a3e82-9099-11ef-9915-0242ac1c000c\"]);\n",
              "//# sourceURL=js_5beb20814d"
            ]
          },
          "metadata": {}
        },
        {
          "output_type": "stream",
          "name": "stdout",
          "text": [
            "w= 640 h= 480\n"
          ]
        },
        {
          "output_type": "display_data",
          "data": {
            "text/plain": [
              "<IPython.core.display.Javascript object>"
            ],
            "application/javascript": [
              "window[\"a53335e0-9099-11ef-9915-0242ac1c000c\"] = google.colab.output.setActiveOutputArea(window[\"a519ee82-9099-11ef-9915-0242ac1c000c\"]);\n",
              "//# sourceURL=js_afc25f8cbf"
            ]
          },
          "metadata": {}
        },
        {
          "output_type": "display_data",
          "data": {
            "text/plain": [
              "<IPython.core.display.Javascript object>"
            ],
            "application/javascript": [
              "window[\"a535e146-9099-11ef-9915-0242ac1c000c\"] = google.colab.output.getActiveOutputArea();\n",
              "//# sourceURL=js_05d451a71b"
            ]
          },
          "metadata": {}
        },
        {
          "output_type": "display_data",
          "data": {
            "text/plain": [
              "<IPython.core.display.Javascript object>"
            ],
            "application/javascript": [
              "window[\"a53631e6-9099-11ef-9915-0242ac1c000c\"] = document.querySelector(\"#id10-1-0\");\n",
              "//# sourceURL=js_5309dac85d"
            ]
          },
          "metadata": {}
        },
        {
          "output_type": "display_data",
          "data": {
            "text/plain": [
              "<IPython.core.display.Javascript object>"
            ],
            "application/javascript": [
              "window[\"a5367f5c-9099-11ef-9915-0242ac1c000c\"] = google.colab.output.setActiveOutputArea(window[\"a53631e6-9099-11ef-9915-0242ac1c000c\"]);\n",
              "//# sourceURL=js_afc756f8eb"
            ]
          },
          "metadata": {}
        },
        {
          "output_type": "stream",
          "name": "stdout",
          "text": [
            "w= 640 h= 480\n"
          ]
        },
        {
          "output_type": "display_data",
          "data": {
            "text/plain": [
              "<IPython.core.display.Javascript object>"
            ],
            "application/javascript": [
              "window[\"a5511ede-9099-11ef-9915-0242ac1c000c\"] = google.colab.output.setActiveOutputArea(window[\"a535e146-9099-11ef-9915-0242ac1c000c\"]);\n",
              "//# sourceURL=js_90b2419d4c"
            ]
          },
          "metadata": {}
        },
        {
          "output_type": "display_data",
          "data": {
            "text/plain": [
              "<IPython.core.display.Javascript object>"
            ],
            "application/javascript": [
              "window[\"a5547e1c-9099-11ef-9915-0242ac1c000c\"] = google.colab.output.getActiveOutputArea();\n",
              "//# sourceURL=js_8cab603c3f"
            ]
          },
          "metadata": {}
        },
        {
          "output_type": "display_data",
          "data": {
            "text/plain": [
              "<IPython.core.display.Javascript object>"
            ],
            "application/javascript": [
              "window[\"a5550e22-9099-11ef-9915-0242ac1c000c\"] = document.querySelector(\"#id10-1-1\");\n",
              "//# sourceURL=js_e3ffc5ef36"
            ]
          },
          "metadata": {}
        },
        {
          "output_type": "display_data",
          "data": {
            "text/plain": [
              "<IPython.core.display.Javascript object>"
            ],
            "application/javascript": [
              "window[\"a55564a8-9099-11ef-9915-0242ac1c000c\"] = google.colab.output.setActiveOutputArea(window[\"a5550e22-9099-11ef-9915-0242ac1c000c\"]);\n",
              "//# sourceURL=js_e4237bfec1"
            ]
          },
          "metadata": {}
        },
        {
          "output_type": "stream",
          "name": "stdout",
          "text": [
            "w= 640 h= 480\n"
          ]
        },
        {
          "output_type": "display_data",
          "data": {
            "text/plain": [
              "<IPython.core.display.Javascript object>"
            ],
            "application/javascript": [
              "window[\"a56f5462-9099-11ef-9915-0242ac1c000c\"] = google.colab.output.setActiveOutputArea(window[\"a5547e1c-9099-11ef-9915-0242ac1c000c\"]);\n",
              "//# sourceURL=js_04ae593dcb"
            ]
          },
          "metadata": {}
        },
        {
          "output_type": "display_data",
          "data": {
            "text/plain": [
              "<Figure size 1000x500 with 1 Axes>"
            ],
            "image/png": "[encoded data removed]"
          },
          "metadata": {}
        },
        {
          "output_type": "display_data",
          "data": {
            "text/plain": [
              "<Figure size 1000x500 with 1 Axes>"
            ],
            "image/png": "[encoded data removed]"
          },
          "metadata": {}
        },
        {
          "output_type": "display_data",
          "data": {
            "text/plain": [
              "<Figure size 1000x500 with 1 Axes>"
            ],
            "image/png": "[encoded data removed]"
          },
          "metadata": {}
        },
        {
          "output_type": "display_data",
          "data": {
            "text/plain": [
              "<Figure size 1000x500 with 1 Axes>"
            ],
            "image/png": "[encoded data removed]"
          },
          "metadata": {}
        }
      ]
    },
    {
      "cell_type": "markdown",
      "source": [
        "## Try moving PIPPA 🎮 🐧"
      ],
      "metadata": {
        "id": "qatZXR9vdfe2"
      }
    },
    {
      "cell_type": "code",
      "source": [
        "#bottom disk bars index\n",
        "bottom_link_1_index = 6\n",
        "bottom_link_2_index = 12\n",
        "bottom_link_3_index = 18\n",
        "\n",
        "#get bottom bar position to apply forces there\n",
        "initial_position_bottom_1, initial_orientation_bottom_1 = p.getLinkState(PIPPA_id, bottom_link_1_index)[0:2]\n",
        "initial_position_bottom_2, initial_orientation_bottom_2 = p.getLinkState(PIPPA_id, bottom_link_2_index)[0:2]\n",
        "initial_position_bottom_3, initial_orientation_bottom_3 = p.getLinkState(PIPPA_id, bottom_link_3_index)[0:2]\n",
        "\n",
        "initial_angles_bottom_1 = p.getEulerFromQuaternion(initial_orientation_bottom_1)\n",
        "initial_angles_bottom_2 = p.getEulerFromQuaternion(initial_orientation_bottom_2)\n",
        "initial_angles_bottom_3 = p.getEulerFromQuaternion(initial_orientation_bottom_3)\n",
        "\n",
        "print(\"Initial bottom bars position:\", initial_position_bottom_1, initial_position_bottom_2, initial_position_bottom_3)\n",
        "print(\"Initial bottom bars angles:\", initial_angles_bottom_1, initial_angles_bottom_2, initial_angles_bottom_3)\n"
      ],
      "metadata": {
        "id": "289_BzyOPV0J",
        "outputId": "901a1d17-1dd6-44e5-8355-2e0fa690f0a1",
        "colab": {
          "base_uri": "https://localhost:8080/"
        }
      },
      "execution_count": 44,
      "outputs": [
        {
          "output_type": "stream",
          "name": "stdout",
          "text": [
            "Initial bottom bars position: (-2.0987170954889223e-05, -0.0004248195623851192, -8.647246672625897e-05) (-0.0005183540855794311, 4.725572962738234e-05, -7.502447916865433e-05) (-0.0006942729551664972, -0.000687758726688581, -7.469655306888145e-05)\n",
            "Initial bottom bars angles: (1.5710002488628458, 0.0004072633686251451, 1.5714073464524305) (1.5709850616768442, 0.00017186199166123792, -2.6182036507804867) (1.5703690511367303, -0.00033295738734407765, -0.5237962141514138)\n"
          ]
        }
      ]
    },
    {
      "cell_type": "code",
      "source": [
        "%%time\n",
        "force_module = np.array([1000,0,0])\n",
        "#apply equal force to the border of our bottom disk\n",
        "force_position_1 = initial_position_bottom_1\n",
        "force_position_2 = initial_position_bottom_2\n",
        "force_position_3 = initial_position_bottom_3\n",
        "\n",
        "## 1,2,3 numeration for bottom bars, force and lvdt are consistent\n",
        "#lvdt index\n",
        "lvdt_1_index = 2\n",
        "lvdt_2_index = 8\n",
        "lvdt_3_index = 14\n",
        "\n",
        "\n",
        "\n",
        "#3 lvdt info (joint cover-leg)\n",
        "lvdt_1_initial_position, lvdt_1_initial_velocity  = p.getJointState(PIPPA_id, lvdt_1_index)[0:2]\n",
        "lvdt_2_initial_position, lvdt_2_initial_velocity  = p.getJointState(PIPPA_id, lvdt_2_index)[0:2]\n",
        "lvdt_3_initial_position, lvdt_3_initial_velocity  = p.getJointState(PIPPA_id, lvdt_3_index)[0:2]\n",
        "\n",
        "print(\"LVDT 1 initial position and velocity:\", lvdt_1_initial_position, lvdt_1_initial_velocity)\n",
        "print(\"LVDT 2 initial position and velocity:\", lvdt_2_initial_position, lvdt_2_initial_velocity)\n",
        "print(\"LVDT 3 initial position and velocity:\", lvdt_3_initial_position, lvdt_3_initial_velocity)\n",
        "'''\n",
        "#apply external forces to the bottom edges of the disk\n",
        "p.applyExternalForce(\n",
        "    objectUniqueId=PIPPA_id,linkIndex= 0,forceObj=force_module, posObj=force_position_1,flags=p.WORLD_FRAME)\n",
        "p.applyExternalForce(\n",
        "    objectUniqueId=PIPPA_id,linkIndex= 1,forceObj=force_module, posObj=force_position_2,flags=p.WORLD_FRAME)\n",
        "p.applyExternalForce(\n",
        "    objectUniqueId=PIPPA_id,linkIndex= 2,forceObj=force_module, posObj=force_position_2,flags=p.WORLD_FRAME)\n",
        "for _ in range(1000):\n",
        "    p.stepSimulation()  # Aggiorna la simulazione\n",
        "    time.sleep(1./240.)  # Ritardo per simulare 240 Hz\n",
        "'''\n",
        "\n",
        "#let's see what happens if I move the base in the center\n",
        "p.applyExternalForce(\n",
        "    objectUniqueId=PIPPA_id,linkIndex= -1,forceObj=force_module, posObj=[0,0,0],flags=p.LINK_FRAME)\n",
        "\n",
        "\n",
        "#links of the bottom disk info\n",
        "final_position_bottom_1, final_orientation_bottom_1 = p.getLinkState(PIPPA_id, bottom_link_1_index)[0:2]\n",
        "final_position_bottom_2, final_orientation_bottom_2 = p.getLinkState(PIPPA_id, bottom_link_2_index)[0:2]\n",
        "final_position_bottom_3, final_orientation_bottom_3 = p.getLinkState(PIPPA_id, bottom_link_3_index)[0:2]\n",
        "\n",
        "final_angles_bottom_1 = p.getEulerFromQuaternion(final_orientation_bottom_1)\n",
        "final_angles_bottom_2 = p.getEulerFromQuaternion(final_orientation_bottom_2)\n",
        "final_angles_bottom_3 = p.getEulerFromQuaternion(final_orientation_bottom_3)\n",
        "\n",
        "print(\"Final bottom bars position:\", final_position_bottom_1, final_position_bottom_2, final_position_bottom_3)\n",
        "print(\"Final bottom bars angles:\", final_angles_bottom_1, final_angles_bottom_2, final_angles_bottom_3)\n",
        "\n",
        "#3 lvdt info (joint cover-leg)\n",
        "lvdt_1_final_position, lvdt_1_final_velocity  = p.getJointState(PIPPA_id, lvdt_1_index)[0:2]\n",
        "lvdt_2_final_position, lvdt_2_final_velocity  = p.getJointState(PIPPA_id, lvdt_2_index)[0:2]\n",
        "lvdt_3_final_position, lvdt_3_final_velocity  = p.getJointState(PIPPA_id, lvdt_3_index)[0:2]\n",
        "\n",
        "print(\"LVDT 1 Final position and velocity:\", lvdt_1_final_position, lvdt_1_final_velocity)\n",
        "print(\"LVDT 2 Final position and velocity:\", lvdt_2_final_position, lvdt_2_final_velocity)\n",
        "print(\"LVDT 3 Final position and velocity:\", lvdt_3_final_position, lvdt_3_final_velocity)\n",
        "\n",
        "print(\"Forza applicata alla base:\", force_module)\n",
        "final_position_base, final_orientation_base = p.getBasePositionAndOrientation(PIPPA_id)\n",
        "print(\"Posizione finale della base:\", final_position_base)\n",
        "print(\"Orientamento finale della base:\", final_orientation_base)\n",
        "\n",
        "grid = widgets.Grid(2, 2)\n",
        "yaw = 0\n",
        "for r in range(2):\n",
        "  for c in range(2):\n",
        "    yaw += 60\n",
        "    with grid.output_to(r, c):\n",
        "      grid.clear_cell()\n",
        "      pylab.figure(figsize=(10, 5))\n",
        "      pitch = -10.0\n",
        "      roll = 0\n",
        "      upAxisIndex = 2\n",
        "      camDistance = 5\n",
        "      pixelWidth = 640\n",
        "      pixelHeight = 480\n",
        "      nearPlane = 0.01\n",
        "      farPlane = 100\n",
        "      fov = 60\n",
        "      viewMatrix = p.computeViewMatrixFromYawPitchRoll(camTargetPos, camDistance, yaw, pitch,\n",
        "                                                                  roll, upAxisIndex)\n",
        "      aspect = pixelWidth / pixelHeight\n",
        "      projectionMatrix = p.computeProjectionMatrixFOV(fov, aspect, nearPlane, farPlane)\n",
        "\n",
        "      img_arr = p.getCameraImage(pixelWidth,pixelHeight,viewMatrix,projectionMatrix)\n",
        "      w = img_arr[0]  #width of the image, in pixels\n",
        "      h = img_arr[1]  #height of the image, in pixels\n",
        "      rgb = img_arr[2]  #color data RGB\n",
        "      dep = img_arr[3]  #depth data\n",
        "      print(\"w=\",w,\"h=\",h)\n",
        "      np_img_arr = np.reshape(rgb, (h, w, 4))\n",
        "      np_img_arr = np_img_arr * (1. / 255.)\n",
        "      pylab.imshow(np_img_arr, interpolation='none', animated=True, label=\"pybullet\")\n",
        "\n",
        "\n",
        "\n"
      ],
      "metadata": {
        "colab": {
          "base_uri": "https://localhost:8080/",
          "height": 1000
        },
        "id": "RalbttJlcH-V",
        "outputId": "8aabe7fb-3d27-4680-9d82-01f8f535472a"
      },
      "execution_count": 45,
      "outputs": [
        {
          "output_type": "stream",
          "name": "stdout",
          "text": [
            "LVDT 1 initial position and velocity: 0.0 0.0\n",
            "LVDT 2 initial position and velocity: 0.0 0.0\n",
            "LVDT 3 initial position and velocity: 0.0 0.0\n",
            "Final bottom bars position: (-2.0987170954889223e-05, -0.0004248195623851192, -8.647246672625897e-05) (-0.0005183540855794311, 4.725572962738234e-05, -7.502447916865433e-05) (-0.0006942729551664972, -0.000687758726688581, -7.469655306888145e-05)\n",
            "Final bottom bars angles: (1.5710002488628458, 0.0004072633686251451, 1.5714073464524305) (1.5709850616768442, 0.00017186199166123792, -2.6182036507804867) (1.5703690511367303, -0.00033295738734407765, -0.5237962141514138)\n",
            "LVDT 1 Final position and velocity: 0.0 0.0\n",
            "LVDT 2 Final position and velocity: 0.0 0.0\n",
            "LVDT 3 Final position and velocity: 0.0 0.0\n",
            "Forza applicata alla base: [1000    0    0]\n",
            "Posizione finale della base: (0.0, 0.0, 0.0)\n",
            "Orientamento finale della base: (0.0, 0.0, 0.0, 1.0)\n"
          ]
        },
        {
          "output_type": "display_data",
          "data": {
            "text/plain": [
              "<IPython.core.display.HTML object>"
            ],
            "text/html": [
              "<style>\n",
              "       table#id14, #id14 > tbody > tr > th, #id14 > tbody > tr > td {\n",
              "         border: 1px solid lightgray;\n",
              "         border-collapse:collapse;\n",
              "         \n",
              "        }</style>"
            ]
          },
          "metadata": {}
        },
        {
          "output_type": "display_data",
          "data": {
            "text/plain": [
              "<IPython.core.display.HTML object>"
            ],
            "text/html": [
              "<table id=id14><tr><td id=id14-0-0></td><td id=id14-0-1></td></tr><tr><td id=id14-1-0></td><td id=id14-1-1></td></tr></table>"
            ]
          },
          "metadata": {}
        },
        {
          "output_type": "display_data",
          "data": {
            "text/plain": [
              "<IPython.core.display.Javascript object>"
            ],
            "application/javascript": [
              "window[\"725f4ea0-909a-11ef-9915-0242ac1c000c\"] = google.colab.output.getActiveOutputArea();\n",
              "//# sourceURL=js_264304e5ba"
            ]
          },
          "metadata": {}
        },
        {
          "output_type": "display_data",
          "data": {
            "text/plain": [
              "<IPython.core.display.Javascript object>"
            ],
            "application/javascript": [
              "window[\"725f9e28-909a-11ef-9915-0242ac1c000c\"] = document.querySelector(\"#id14-0-0\");\n",
              "//# sourceURL=js_a0ecfa7062"
            ]
          },
          "metadata": {}
        },
        {
          "output_type": "display_data",
          "data": {
            "text/plain": [
              "<IPython.core.display.Javascript object>"
            ],
            "application/javascript": [
              "window[\"7260f714-909a-11ef-9915-0242ac1c000c\"] = google.colab.output.setActiveOutputArea(window[\"725f9e28-909a-11ef-9915-0242ac1c000c\"]);\n",
              "//# sourceURL=js_ca00a12858"
            ]
          },
          "metadata": {}
        },
        {
          "output_type": "stream",
          "name": "stdout",
          "text": [
            "w= 640 h= 480\n"
          ]
        },
        {
          "output_type": "display_data",
          "data": {
            "text/plain": [
              "<IPython.core.display.Javascript object>"
            ],
            "application/javascript": [
              "window[\"72782470-909a-11ef-9915-0242ac1c000c\"] = google.colab.output.setActiveOutputArea(window[\"725f4ea0-909a-11ef-9915-0242ac1c000c\"]);\n",
              "//# sourceURL=js_e1e04bcab5"
            ]
          },
          "metadata": {}
        },
        {
          "output_type": "display_data",
          "data": {
            "text/plain": [
              "<IPython.core.display.Javascript object>"
            ],
            "application/javascript": [
              "window[\"727b2968-909a-11ef-9915-0242ac1c000c\"] = google.colab.output.getActiveOutputArea();\n",
              "//# sourceURL=js_52e4d2bbf4"
            ]
          },
          "metadata": {}
        },
        {
          "output_type": "display_data",
          "data": {
            "text/plain": [
              "<IPython.core.display.Javascript object>"
            ],
            "application/javascript": [
              "window[\"727bce0e-909a-11ef-9915-0242ac1c000c\"] = document.querySelector(\"#id14-0-1\");\n",
              "//# sourceURL=js_c44a2563b5"
            ]
          },
          "metadata": {}
        },
        {
          "output_type": "display_data",
          "data": {
            "text/plain": [
              "<IPython.core.display.Javascript object>"
            ],
            "application/javascript": [
              "window[\"727c3506-909a-11ef-9915-0242ac1c000c\"] = google.colab.output.setActiveOutputArea(window[\"727bce0e-909a-11ef-9915-0242ac1c000c\"]);\n",
              "//# sourceURL=js_d2a38ff40c"
            ]
          },
          "metadata": {}
        },
        {
          "output_type": "stream",
          "name": "stdout",
          "text": [
            "w= 640 h= 480\n"
          ]
        },
        {
          "output_type": "display_data",
          "data": {
            "text/plain": [
              "<IPython.core.display.Javascript object>"
            ],
            "application/javascript": [
              "window[\"7292add6-909a-11ef-9915-0242ac1c000c\"] = google.colab.output.setActiveOutputArea(window[\"727b2968-909a-11ef-9915-0242ac1c000c\"]);\n",
              "//# sourceURL=js_df0303e6ae"
            ]
          },
          "metadata": {}
        },
        {
          "output_type": "display_data",
          "data": {
            "text/plain": [
              "<IPython.core.display.Javascript object>"
            ],
            "application/javascript": [
              "window[\"72954398-909a-11ef-9915-0242ac1c000c\"] = google.colab.output.getActiveOutputArea();\n",
              "//# sourceURL=js_3104a8586e"
            ]
          },
          "metadata": {}
        },
        {
          "output_type": "display_data",
          "data": {
            "text/plain": [
              "<IPython.core.display.Javascript object>"
            ],
            "application/javascript": [
              "window[\"729591cc-909a-11ef-9915-0242ac1c000c\"] = document.querySelector(\"#id14-1-0\");\n",
              "//# sourceURL=js_06fab2bf8f"
            ]
          },
          "metadata": {}
        },
        {
          "output_type": "display_data",
          "data": {
            "text/plain": [
              "<IPython.core.display.Javascript object>"
            ],
            "application/javascript": [
              "window[\"7295edf2-909a-11ef-9915-0242ac1c000c\"] = google.colab.output.setActiveOutputArea(window[\"729591cc-909a-11ef-9915-0242ac1c000c\"]);\n",
              "//# sourceURL=js_c01ad389df"
            ]
          },
          "metadata": {}
        },
        {
          "output_type": "stream",
          "name": "stdout",
          "text": [
            "w= 640 h= 480\n"
          ]
        },
        {
          "output_type": "display_data",
          "data": {
            "text/plain": [
              "<IPython.core.display.Javascript object>"
            ],
            "application/javascript": [
              "window[\"72ca7162-909a-11ef-9915-0242ac1c000c\"] = google.colab.output.setActiveOutputArea(window[\"72954398-909a-11ef-9915-0242ac1c000c\"]);\n",
              "//# sourceURL=js_bde1df79f3"
            ]
          },
          "metadata": {}
        },
        {
          "output_type": "display_data",
          "data": {
            "text/plain": [
              "<IPython.core.display.Javascript object>"
            ],
            "application/javascript": [
              "window[\"72ce0ef8-909a-11ef-9915-0242ac1c000c\"] = google.colab.output.getActiveOutputArea();\n",
              "//# sourceURL=js_f68a544070"
            ]
          },
          "metadata": {}
        },
        {
          "output_type": "display_data",
          "data": {
            "text/plain": [
              "<IPython.core.display.Javascript object>"
            ],
            "application/javascript": [
              "window[\"72ce866c-909a-11ef-9915-0242ac1c000c\"] = document.querySelector(\"#id14-1-1\");\n",
              "//# sourceURL=js_70e3c8735e"
            ]
          },
          "metadata": {}
        },
        {
          "output_type": "display_data",
          "data": {
            "text/plain": [
              "<IPython.core.display.Javascript object>"
            ],
            "application/javascript": [
              "window[\"72cf0678-909a-11ef-9915-0242ac1c000c\"] = google.colab.output.setActiveOutputArea(window[\"72ce866c-909a-11ef-9915-0242ac1c000c\"]);\n",
              "//# sourceURL=js_579cf9197a"
            ]
          },
          "metadata": {}
        },
        {
          "output_type": "stream",
          "name": "stdout",
          "text": [
            "w= 640 h= 480\n"
          ]
        },
        {
          "output_type": "display_data",
          "data": {
            "text/plain": [
              "<IPython.core.display.Javascript object>"
            ],
            "application/javascript": [
              "window[\"72e65a80-909a-11ef-9915-0242ac1c000c\"] = google.colab.output.setActiveOutputArea(window[\"72ce0ef8-909a-11ef-9915-0242ac1c000c\"]);\n",
              "//# sourceURL=js_6593595cb0"
            ]
          },
          "metadata": {}
        },
        {
          "output_type": "stream",
          "name": "stdout",
          "text": [
            "CPU times: user 876 ms, sys: 31.8 ms, total: 907 ms\n",
            "Wall time: 936 ms\n"
          ]
        },
        {
          "output_type": "display_data",
          "data": {
            "text/plain": [
              "<Figure size 1000x500 with 1 Axes>"
            ],
            "image/png": "[encoded data removed]"
          },
          "metadata": {}
        },
        {
          "output_type": "display_data",
          "data": {
            "text/plain": [
              "<Figure size 1000x500 with 1 Axes>"
            ],
            "image/png": "[encoded data removed]"
          },
          "metadata": {}
        },
        {
          "output_type": "display_data",
          "data": {
            "text/plain": [
              "<Figure size 1000x500 with 1 Axes>"
            ],
            "image/png": "[encoded data removed]"
          },
          "metadata": {}
        },
        {
          "output_type": "display_data",
          "data": {
            "text/plain": [
              "<Figure size 1000x500 with 1 Axes>"
            ],
            "image/png": "[encoded data removed]"
          },
          "metadata": {}
        }
      ]
    },
    {
      "cell_type": "code",
      "source": [],
      "metadata": {
        "id": "8CeezZ8VKNnX"
      },
      "execution_count": 13,
      "outputs": []
    }
  ]
}