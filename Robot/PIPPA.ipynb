{
  "nbformat": 4,
  "nbformat_minor": 0,
  "metadata": {
    "colab": {
      "provenance": [],
      "toc_visible": true
    },
    "kernelspec": {
      "name": "python3",
      "display_name": "Python 3"
    },
    "language_info": {
      "name": "python"
    }
  },
  "cells": [
    {
      "cell_type": "markdown",
      "source": [
        "# PIP model 🐾 🤖\n",
        "In this notebook I import and play with my PIP model, designed in blender"
      ],
      "metadata": {
        "id": "7_zU6kpQmyUz"
      }
    },
    {
      "cell_type": "code",
      "execution_count": 1,
      "metadata": {
        "colab": {
          "base_uri": "https://localhost:8080/"
        },
        "id": "5H1rQwPkmayl",
        "outputId": "9f9abb93-8584-4b67-d3de-498180dccb82"
      },
      "outputs": [
        {
          "output_type": "stream",
          "name": "stdout",
          "text": [
            "Collecting pybullet\n",
            "  Downloading pybullet-3.2.6-cp310-cp310-manylinux_2_17_x86_64.manylinux2014_x86_64.whl.metadata (1.8 kB)\n",
            "Downloading pybullet-3.2.6-cp310-cp310-manylinux_2_17_x86_64.manylinux2014_x86_64.whl (103.2 MB)\n",
            "\u001b[2K   \u001b[90m━━━━━━━━━━━━━━━━━━━━━━━━━━━━━━━━━━━━━━━━\u001b[0m \u001b[32m103.2/103.2 MB\u001b[0m \u001b[31m4.4 MB/s\u001b[0m eta \u001b[36m0:00:00\u001b[0m\n",
            "\u001b[?25hInstalling collected packages: pybullet\n",
            "Successfully installed pybullet-3.2.6\n"
          ]
        }
      ],
      "source": [
        "!pip install pybullet"
      ]
    },
    {
      "cell_type": "markdown",
      "source": [
        "## GPU e CPU setting  🌇 🎥\n",
        "In Colab u cannot directly connect with `p.connect(GUI)`, that would be necessary for rendering, that's why u gotta adapt thing up a little.\n",
        "\n",
        "In the cell below we set things up for rendering as explained in this notebook [Here](https://colab.research.google.com/drive/1u6j7JOqM05vUUjpVp5VNk0pd8q-vqGlx#scrollTo=fJXFN4U7NIRC)"
      ],
      "metadata": {
        "id": "vVevX3UYaf91"
      }
    },
    {
      "cell_type": "code",
      "source": [
        "#you can enable the GPU by changing the runtime\n",
        "import os\n",
        "os.environ['MESA_GL_VERSION_OVERRIDE'] = '3.3'\n",
        "os.environ['MESA_GLSL_VERSION_OVERRIDE'] = '330'\n",
        "import pybullet as p\n",
        "import pybullet_data as pd\n",
        "import numpy as np\n",
        "import matplotlib.pyplot as plt\n",
        "%matplotlib inline\n",
        "from matplotlib import pylab\n",
        "from google.colab import widgets\n",
        "import random\n",
        "import time\n",
        "\n",
        "p.connect(p.DIRECT)\n",
        "#allow to find the assets (URDF, obj, textures etc)\n",
        "p.setAdditionalSearchPath(pd.getDataPath())\n",
        "\n",
        "#optionally enable GPU for faster rendering in pybullet.getCameraImage\n",
        "enableGPU = False\n",
        "!ln -sf /opt/bin/nvidia-smi /usr/bin/nvidia-smi\n",
        "!pip install gputil\n",
        "import GPUtil as GPU\n",
        "import sys\n",
        "# Get all device ids and their processing and memory utiliazion\n",
        "# (deviceIds, gpuUtil, memUtil) = GPU.getGPUs()\n",
        "\n",
        "# Print os and python version information\n",
        "print('OS: ' + sys.platform)\n",
        "print(sys.version)\n",
        "\n",
        "# Print package name and version number\n",
        "print(GPU.__name__ + ' ' + GPU.__version__)\n",
        "\n",
        "# Show the utilization of all GPUs in a nice table\n",
        "GPU.showUtilization()\n",
        "\n",
        "# Show all stats of all GPUs in a nice table\n",
        "GPU.showUtilization(all=True)\n",
        "\n",
        "# NOTE: If all your GPUs currently have a memory consumption larger than 1%,\n",
        "# this step will fail. It's not a bug! It is intended to do so, if it does not\n",
        "# find an available GPU.\n",
        "GPUs = GPU.getGPUs()\n",
        "numGPUs = len(GPU.getGPUs())\n",
        "print(\"numGPUs=\",numGPUs)\n",
        "if numGPUs > 0:\n",
        "  enableGPU = True\n",
        "eglPluginId = -1\n",
        "if enableGPU:\n",
        "  import pkgutil\n",
        "  egl = pkgutil.get_loader('eglRenderer')\n",
        "  if (egl):\n",
        "    eglPluginId = p.loadPlugin(egl.get_filename(), \"_eglRendererPlugin\")\n",
        "  else:\n",
        "    eglPluginId = p.loadPlugin(\"eglRendererPlugin\")\n",
        "\n",
        "if eglPluginId>=0:\n",
        "  print(\"Using GPU hardware (eglRenderer)\")\n",
        "else:\n",
        "  print(\"using CPU renderer (TinyRenderer)\")"
      ],
      "metadata": {
        "colab": {
          "base_uri": "https://localhost:8080/"
        },
        "id": "Ex9COCQDaQdn",
        "outputId": "4463d712-7a19-459c-a63a-133d0b32279e"
      },
      "execution_count": 2,
      "outputs": [
        {
          "output_type": "stream",
          "name": "stdout",
          "text": [
            "Collecting gputil\n",
            "  Downloading GPUtil-1.4.0.tar.gz (5.5 kB)\n",
            "  Preparing metadata (setup.py) ... \u001b[?25l\u001b[?25hdone\n",
            "Building wheels for collected packages: gputil\n",
            "  Building wheel for gputil (setup.py) ... \u001b[?25l\u001b[?25hdone\n",
            "  Created wheel for gputil: filename=GPUtil-1.4.0-py3-none-any.whl size=7392 sha256=eddbd0e9e2febc228cb8bff2d6304eff33c645e4e6d8126cf2b4d61bd88ba2ac\n",
            "  Stored in directory: /root/.cache/pip/wheels/a9/8a/bd/81082387151853ab8b6b3ef33426e98f5cbfebc3c397a9d4d0\n",
            "Successfully built gputil\n",
            "Installing collected packages: gputil\n",
            "Successfully installed gputil-1.4.0\n",
            "OS: linux\n",
            "3.10.12 (main, Sep 11 2024, 15:47:36) [GCC 11.4.0]\n",
            "GPUtil 1.4.0\n",
            "| ID | GPU | MEM |\n",
            "------------------\n",
            "| ID | Name | Serial | UUID || GPU temp. | GPU util. | Memory util. || Memory total | Memory used | Memory free || Display mode | Display active |\n",
            "--------------------------------------------------------------------------------------------------------------------------------------------------\n",
            "numGPUs= 0\n",
            "using CPU renderer (TinyRenderer)\n"
          ]
        }
      ]
    },
    {
      "cell_type": "code",
      "source": [
        "!git clone https://github.com/Gaianeve/Real_Mega_Fufi.git"
      ],
      "metadata": {
        "colab": {
          "base_uri": "https://localhost:8080/"
        },
        "id": "eOf0ZYeuqKjZ",
        "outputId": "2ebef15a-e2f9-4e65-d9d2-5789ca04d82c"
      },
      "execution_count": 3,
      "outputs": [
        {
          "output_type": "stream",
          "name": "stdout",
          "text": [
            "Cloning into 'Real_Mega_Fufi'...\n",
            "remote: Enumerating objects: 460, done.\u001b[K\n",
            "remote: Counting objects: 100% (281/281), done.\u001b[K\n",
            "remote: Compressing objects: 100% (163/163), done.\u001b[K\n",
            "remote: Total 460 (delta 202), reused 183 (delta 115), pack-reused 179 (from 1)\u001b[K\n",
            "Receiving objects: 100% (460/460), 1.76 MiB | 5.42 MiB/s, done.\n",
            "Resolving deltas: 100% (287/287), done.\n"
          ]
        }
      ]
    },
    {
      "cell_type": "markdown",
      "source": [
        "## Loading model 📡 🛰"
      ],
      "metadata": {
        "id": "GVaJMroNn4lF"
      }
    },
    {
      "cell_type": "code",
      "source": [
        "%cd Real_Mega_Fufi/Robot/PIPPA"
      ],
      "metadata": {
        "colab": {
          "base_uri": "https://localhost:8080/"
        },
        "id": "Df4k0SJGqUjR",
        "outputId": "aad79abf-bf96-422e-fc01-e870ff391b9a"
      },
      "execution_count": 4,
      "outputs": [
        {
          "output_type": "stream",
          "name": "stdout",
          "text": [
            "/content/Real_Mega_Fufi/Robot/PIPPA\n"
          ]
        }
      ]
    },
    {
      "cell_type": "code",
      "source": [
        "p.resetSimulation()\n",
        "p.configureDebugVisualizer(p.COV_ENABLE_GUI)\n",
        "#tell him to slide freely on the ground plane\n",
        "useFixedBase = False\n",
        "flags = p.URDF_INITIALIZE_SAT_FEATURES\n",
        "\n",
        "plane_pos = [0,0,-0.1]\n",
        "plane = p.loadURDF(\"plane.urdf\", plane_pos, flags = flags, useFixedBase=useFixedBase)\n",
        "PIP_position = [0,0,0]\n",
        "orientation  = [0,0,0]\n",
        "PIP_orientation = p.getQuaternionFromEuler(orientation)\n",
        "PIPPA_id = p.loadURDF(\"PIPPA.urdf\",basePosition = PIP_position,baseOrientation = PIP_orientation,\\\n",
        "                      useFixedBase=useFixedBase)\n"
      ],
      "metadata": {
        "id": "31KyVgJQmx4R"
      },
      "execution_count": 5,
      "outputs": []
    },
    {
      "cell_type": "markdown",
      "source": [
        "## Useful info and tools 🎮 📚 🏮\n",
        "Print name and index of the joints and links.\n",
        "\n",
        "Rembember that in Pybullet the following rule holds:\n",
        "\n",
        " 🛑 ❗  `linkIndex == jointIndex`\n",
        "\n",
        "\n"
      ],
      "metadata": {
        "id": "t07vJnlssj0J"
      }
    },
    {
      "cell_type": "markdown",
      "source": [
        "### Link indexes 🔗 🥠\n"
      ],
      "metadata": {
        "id": "KW9YJr361ydw"
      }
    },
    {
      "cell_type": "code",
      "source": [
        "link_name_to_index = {p.getBodyInfo(PIPPA_id)[0].decode('UTF-8'):-1,}\n",
        "\n",
        "for id in range(p.getNumJoints(PIPPA_id)):\n",
        "  name = p.getJointInfo(PIPPA_id, id)[12].decode('UTF-8')\n",
        "  link_name_to_index[name] = id\n",
        "\n",
        "print(link_name_to_index)"
      ],
      "metadata": {
        "colab": {
          "base_uri": "https://localhost:8080/"
        },
        "id": "9uS9uRglID8F",
        "outputId": "94aa3672-a073-4260-9b2b-20b2e0aef9ca"
      },
      "execution_count": 6,
      "outputs": [
        {
          "output_type": "stream",
          "name": "stdout",
          "text": [
            "{'Top_core': -1, 'Top_Link_1': 0, 'Cover_Link1': 1, 'Gamba_Link_1': 2, 'Elastic_Joint_Link_1': 3, 'Colonna_Link_1': 4, 'Bottom_Link_1': 5, 'Top_Link_2': 6, 'Cover_Link_2': 7, 'Gamba_Link_2': 8, 'Elastic_Joint_link_2': 9, 'Colonna_Link_2': 10, 'Bottom_Link_2': 11, 'Top_Link_3': 12, 'Cover_Link_3': 13, 'Gamba_Link_3': 14, 'Elastic_Joint_link_3': 15, 'Colonna_Link_3': 16, 'Bottom_Link_3': 17}\n"
          ]
        }
      ]
    },
    {
      "cell_type": "markdown",
      "source": [
        "### Joints name and index 🦾 🪴"
      ],
      "metadata": {
        "id": "VAWdsaaaKC33"
      }
    },
    {
      "cell_type": "code",
      "source": [
        "for id in range(p.getNumJoints(PIPPA_id)):\n",
        "    # Ottieni informazioni sul giunto\n",
        "    joint_info = p.getJointInfo(PIPPA_id, id)\n",
        "    name = joint_info[1].decode('UTF-8')  # Utilizza l'indice corretto per il nome del giunto\n",
        "    # Stampa il nome e l'indice\n",
        "    print(f\"Giunto: {name}, Indice: {id}\")"
      ],
      "metadata": {
        "colab": {
          "base_uri": "https://localhost:8080/"
        },
        "id": "V0fDC6dmKUrF",
        "outputId": "995cd499-776f-45ea-eac4-5f9c674079df"
      },
      "execution_count": 7,
      "outputs": [
        {
          "output_type": "stream",
          "name": "stdout",
          "text": [
            "Giunto: Cover_to_top_1, Indice: 0\n",
            "Giunto: Cover_to_leg_1, Indice: 1\n",
            "Giunto: Leg_to_elastic_1, Indice: 2\n",
            "Giunto: elastic_to_column_1, Indice: 3\n",
            "Giunto: Bottom_to_Column_1, Indice: 4\n",
            "Giunto: Center_to_bottom1, Indice: 5\n",
            "Giunto: Cover_to_top_2, Indice: 6\n",
            "Giunto: Cover_to_leg_2, Indice: 7\n",
            "Giunto: Leg_to_elastic_2, Indice: 8\n",
            "Giunto: elastic_to_column_2, Indice: 9\n",
            "Giunto: Bottom_to_column_2, Indice: 10\n",
            "Giunto: Center_to_bottom2, Indice: 11\n",
            "Giunto: Cover_to_top_3, Indice: 12\n",
            "Giunto: Cover_to_leg_3, Indice: 13\n",
            "Giunto: Leg_to_elastic_3, Indice: 14\n",
            "Giunto: elastic_to_column_3, Indice: 15\n",
            "Giunto: Bottom_to_column3, Indice: 16\n",
            "Giunto: center_to_bottom3, Indice: 17\n"
          ]
        }
      ]
    },
    {
      "cell_type": "markdown",
      "source": [
        "## TABELLA RIASSUNTIVA DI INDICI DI LINK E GIUNTI\n",
        "\n",
        "| Tipo    | Nome                     | Indice |\n",
        "|---------|---------------------------|--------|\n",
        "| 🔗✨ Link  | Top_core                 | -1     |\n",
        "| 🔗🌟 Link  | Top_Link_1               | 0      |\n",
        "| 🔗🎉 Link  | Cover_Link1              | 1      |\n",
        "| 🔗💫 Link  | Gamba_Link_1             | 2      |\n",
        "| 🔗🌼 Link  | Elastic_Joint_Link_1     | 3      |\n",
        "| 🔗🌻 Link  | Colonna_Link_1           | 4      |\n",
        "| 🔗🍀 Link  | Bottom_Link_1            | 5      |\n",
        "| 🔗🌺 Link  | Top_Link_2               | 6      |\n",
        "| 🔗🎈 Link  | Cover_Link_2             | 7      |\n",
        "| 🔗✨ Link  | Gamba_Link_2             | 8      |\n",
        "| 🔗🌈 Link  | Elastic_Joint_link_2     | 9      |\n",
        "| 🔗🌟 Link  | Colonna_Link_2           | 10     |\n",
        "| 🔗🎉 Link  | Bottom_Link_2            | 11     |\n",
        "| 🔗💫 Link  | Top_Link_3               | 12     |\n",
        "| 🔗🌼 Link  | Cover_Link_3             | 13     |\n",
        "| 🔗🌻 Link  | Gamba_Link_3             | 14     |\n",
        "| 🔗🍀 Link  | Elastic_Joint_link_3     | 15     |\n",
        "| 🔗🌺 Link  | Colonna_Link_3           | 16     |\n",
        "| 🔗🎈 Link  | Bottom_Link_3            | 17     |\n",
        "|---------|---------------------------|--------|\n",
        "| ⚙️✨ Giunto| Cover_to_top_1           | 0      |\n",
        "| ⚙️🌈 Giunto| Cover_to_leg_1           | 1      |\n",
        "| ⚙️🌟 Giunto| Leg_to_elastic_1         | 2      |\n",
        "| ⚙️🎉 Giunto| elastic_to_column_1      | 3      |\n",
        "| ⚙️💫 Giunto| Bottom_to_Column_1       | 4      |\n",
        "| ⚙️🌼 Giunto| Center_to_bottom1        | 5      |\n",
        "| ⚙️🌻 Giunto| Cover_to_top_2           | 6      |\n",
        "| ⚙️🍀 Giunto| Cover_to_leg_2           | 7      |\n",
        "| ⚙️🌺 Giunto| Leg_to_elastic_2         | 8      |\n",
        "| ⚙️🎈 Giunto| elastic_to_column_2      | 9      |\n",
        "| ⚙️✨ Giunto| Bottom_to_column_2       | 10     |\n",
        "| ⚙️🌈 Giunto| Center_to_bottom2        | 11     |\n",
        "| ⚙️🌟 Giunto| Cover_to_top_3           | 12     |\n",
        "| ⚙️🎉 Giunto| Cover_to_leg_3           | 13     |\n",
        "| ⚙️💫 Giunto| Leg_to_elastic_3         | 14     |\n",
        "| ⚙️🌼 Giunto| elastic_to_column_3      | 15     |\n",
        "| ⚙️🌻 Giunto| Bottom_to_column3        | 16     |\n",
        "| ⚙️🍀 Giunto| center_to_bottom3        | 17     |\n"
      ],
      "metadata": {
        "id": "Bm820626Lg4B"
      }
    },
    {
      "cell_type": "markdown",
      "source": [
        "## Changing material of the links ⛵ 🦚\n",
        "Assign material trough the properties by changing dinamics. Everything about elastic joint Young modulus is being dealt with in the urdf file.\n",
        "\n",
        "Basically, the joint is modelized as a *neo hookean* soft body  ♨ 🗻. Again, see the guide or my notes for the details."
      ],
      "metadata": {
        "id": "2ZwrHfquwS-J"
      }
    },
    {
      "cell_type": "code",
      "source": [
        "# AL 6082 (Alluminio)\n",
        "lateralFriction_Al = 0.3\n",
        "restitution_Al = 0.2\n",
        "rollingFriction_Al = 0.001\n",
        "spinningFriction_Al = 0.01\n",
        "linearDamping_Al = 0.04\n",
        "angularDamping_Al = 0.1\n",
        "contactStiffness_Al = 3e6\n",
        "contactDamping_Al = 800\n",
        "\n",
        "# AISI 304 (Acciaio Inox)\n",
        "lateralFriction_AISI = 0.4\n",
        "restitution_AISI = 0.1\n",
        "rollingFriction_AISI = 0.001\n",
        "spinningFriction_AISI= 0.05\n",
        "linearDamping_AISI = 0.03\n",
        "angularDamping_AISI = 0.1\n",
        "contactStiffness_AISI = 8e6\n",
        "contactDamping_AISI = 1500\n",
        "\n",
        "# Acciaio Maraging (Maragià per gli amici)\n",
        "lateralFriction_Mar = 0.3\n",
        "restitution_Mar = 0.2\n",
        "rollingFriction_Mar = 0.001\n",
        "spinningFriction_Mar = 0.02\n",
        "linearDamping_Mar = 0.04\n",
        "angularDamping_Mar = 0.15\n",
        "contactStiffness_Mar = 3e6\n",
        "contactDamping_Mar = 800"
      ],
      "metadata": {
        "id": "v4hl9tfetDn4"
      },
      "execution_count": 8,
      "outputs": []
    },
    {
      "cell_type": "markdown",
      "source": [
        "### Physics parameters explanation 🎈 🔮\n",
        "\n",
        "1.  `lateralFriction=0.9` 🐑\n",
        "\n",
        "  *   **Descrizione**: Rappresenta il coefficiente di attrito laterale tra il link e la superficie su cui entra in contatto.\n",
        "  *   **Effetto:**  Più alto è il valore, maggiore sarà l'attrito tra il link e la superficie, il che significa che il link resisterà di più allo scivolamento lungo la superficie. Un valore di 1.0 o vicino a esso significa un attrito alto, mentre un valore basso (come 0.1) indica poco attrito, e il link scivolerà più facilmente.\n",
        "\n",
        "  *   **Esempio:** Materiali ruvidi o che non scivolano facilmente, come gomma o superfici ruvide, hanno un coefficiente di attrito più alto. Materiali come ghiaccio o superfici lisce e scivolose avranno un coefficiente basso.\n",
        "\n",
        "*Caso Acciaio*: Il valore 0.9 è abbastanza alto, riflettendo l'alto attrito dell'acciaio maraging a contatto con superfici ruvide o altri metalli.\n",
        "\n",
        "\n",
        "2.  `restitution=0.1` 🐬\n",
        "\n",
        "  *   **Descrizione**: Rappresenta il coefficiente di restituzione, che determina quanto \"rimbalza\" un oggetto dopo un impatto.\n",
        "\n",
        "  *   **Effetto:**  Un valore di 1.0 significa che l'oggetto rimbalza completamente (energia conservata), mentre un valore di 0.0 significa che non c'è rimbalzo (l'energia viene completamente assorbita).\n",
        "\n",
        "  *   **Esempio:** Materiali elastici come la gomma hanno un alto coefficiente di restituzione (vicino a 1.0), mentre materiali rigidi e non elastici come il piombo o l'acciaio hanno un coefficiente basso.\n",
        "\n",
        "*Caso Acciaio*: L'acciaio ha un basso coefficiente di restituzione (intorno a 0.1), il che significa che non rimbalza molto dopo un impatto, riflettendo la sua natura rigida e non elastica.\n",
        "\n",
        "\n",
        "3.  `contactStiffness=1e6` 🐨\n",
        "\n",
        "  *   **Descrizione**: Rappresenta la rigidità del contatto, o quanto è resistente il materiale alla compressione quando viene a contatto con un'altra superficie.\n",
        "\n",
        "  *   **Effetto:**  Un valore più alto significa che il materiale è molto rigido e si deformerà pochissimo durante un contatto (simulando l'effetto di un modulo di Young alto), mentre un valore basso rappresenta materiali più morbidi che si deformano più facilmente.\n",
        "\n",
        "  *   **Esempio:** Materiali come il gommapiuma hanno una bassa rigidità del contatto, mentre materiali molto rigidi come acciaio o ceramica hanno un'alta rigidità.\n",
        "\n",
        "*Caso Acciaio*: Un valore come 1e6 simula una rigidezza molto alta, tipica dell'acciaio maraging, che si deforma molto poco sotto pressione.\n",
        "\n",
        "\n",
        "4.  `contactDamping=1e3` 🦘\n",
        "  \n",
        "  *   **Descrizione**: Rappresenta lo smorzamento del contatto, che controlla quanto velocemente l'energia del contatto viene dissipata nel tempo.\n",
        "\n",
        "  *   **Effetto:** Un valore più alto significa che il contatto perde energia rapidamente, smorzando le vibrazioni o il rimbalzo. Un valore basso implica che il sistema è più elastico e manterrà energia più a lungo.\n",
        "\n",
        "  *   **Esempio:** Un materiale molto elastico, come una molla ben tesa, ha uno smorzamento basso, il che significa che rimbalza e vibra a lungo. Un materiale con alto smorzamento, come l'acciaio, disperde rapidamente energia durante un impatto, quindi non rimbalza molto e smorza le vibrazioni.\n",
        "\n",
        "*Caso Acciaio*: Il valore 1e3 rappresenta uno smorzamento moderato, coerente con il comportamento dell'acciaio maraging, che dissipa energia abbastanza rapidamente senza rimbalzi significativi.\n",
        "\n",
        "\n",
        "❕📔🖊 *Note* : *For more detailon the parameters see the parameters see my notes or pybullet Quickstart guide, everything's in there*.\n",
        "\n",
        "❗ Not all parameters are important when simulating, so caution with that choise. **To be decided with max.**"
      ],
      "metadata": {
        "id": "_RWpNau5wRuS"
      }
    },
    {
      "cell_type": "code",
      "source": [
        "link_indices_Al = [link_name_to_index['Bottom_Link_1'],link_name_to_index['Bottom_Link_2'],\\\n",
        "                   link_name_to_index['Bottom_Link_3'], link_name_to_index['Gamba_Link_1'],\\\n",
        "                   link_name_to_index['Gamba_Link_2'], link_name_to_index['Gamba_Link_3'],\\\n",
        "                   link_name_to_index['Top_core'], link_name_to_index['Cover_Link1'], link_name_to_index['Cover_Link_2'],\\\n",
        "                   link_name_to_index['Cover_Link_3']]\n",
        "\n",
        "link_indices_AISI = [link_name_to_index['Top_Link_2'],link_name_to_index['Top_Link_3'], link_name_to_index['Top_Link_1'],\\\n",
        "                     link_name_to_index['Colonna_Link_1'], link_name_to_index['Colonna_Link_2'],\\\n",
        "                     link_name_to_index['Colonna_Link_3']]\n",
        "\n",
        "link_indices_Mar = [link_name_to_index['Elastic_Joint_Link_1'], link_name_to_index['Elastic_Joint_link_2'],\\\n",
        "                    link_name_to_index['Elastic_Joint_link_3']]\n",
        "\n",
        "# Al 6082\n",
        "for link in link_indices_Al:\n",
        "  p.changeDynamics(PIPPA_id, link, lateralFriction=lateralFriction_Al,\\\n",
        "                   restitution=restitution_Al, \\\n",
        "                   spinningFriction= spinningFriction_Al, rollingFriction= rollingFriction_Al,\\\n",
        "                   linearDamping=linearDamping_Al, angularDamping=angularDamping_Al,\\\n",
        "                   contactStiffness = contactStiffness_Al,contactDamping = contactDamping_Al)\n",
        "# AISI 304\n",
        "for link in link_indices_AISI:\n",
        "  p.changeDynamics(PIPPA_id, link, lateralFriction=lateralFriction_AISI,\\\n",
        "                   restitution=restitution_AISI, \\\n",
        "                   spinningFriction= spinningFriction_AISI, rollingFriction= rollingFriction_AISI,\\\n",
        "                   linearDamping=linearDamping_AISI, angularDamping=angularDamping_AISI,\\\n",
        "                   contactStiffness = contactStiffness_AISI, contactDamping = contactDamping_AISI)\n",
        "# Maragià\n",
        "for link in link_indices_AISI:\n",
        "  p.changeDynamics(PIPPA_id, link, lateralFriction=lateralFriction_Mar,\\\n",
        "                   restitution=restitution_Mar, \\\n",
        "                   spinningFriction= spinningFriction_Mar, rollingFriction= rollingFriction_Mar,\\\n",
        "                   linearDamping=linearDamping_Mar, angularDamping=angularDamping_Mar,\\\n",
        "                   contactStiffness = contactStiffness_Mar, contactDamping = contactDamping_Mar)"
      ],
      "metadata": {
        "id": "rIQXFPBDva87"
      },
      "execution_count": 21,
      "outputs": []
    },
    {
      "cell_type": "markdown",
      "source": [
        "## Start simulation 🚀 🪖\n",
        "Adding gravity 🍎 ⬇ to the system and starting the physics simulation 🏃 🔥 🛕 ⛩ ⛪ .\n"
      ],
      "metadata": {
        "id": "iRKbRx6pGNDx"
      }
    },
    {
      "cell_type": "code",
      "source": [
        "%%time\n",
        "camTargetPos = [0, 0, 0]\n",
        "cameraUp = [0, 0, 1]\n",
        "cameraPos = [1, 1, 1]\n",
        "p.setGravity(0, 0, -10)\n"
      ],
      "metadata": {
        "id": "bVPJNwD_vKvS",
        "colab": {
          "base_uri": "https://localhost:8080/"
        },
        "outputId": "73169f9e-0dee-4739-d9aa-f8e58195f3da"
      },
      "execution_count": 10,
      "outputs": [
        {
          "output_type": "stream",
          "name": "stdout",
          "text": [
            "CPU times: user 38 µs, sys: 6 µs, total: 44 µs\n",
            "Wall time: 47.4 µs\n"
          ]
        }
      ]
    },
    {
      "cell_type": "markdown",
      "source": [
        "## Animated images to see PIPPA 🎥 💥\n",
        "The axiz you see going from left to right is the x axis."
      ],
      "metadata": {
        "id": "wiGaFczJdOMD"
      }
    },
    {
      "cell_type": "code",
      "source": [
        "from google.colab import widgets\n",
        "import numpy as np\n",
        "import random\n",
        "import time\n",
        "from matplotlib import pylab\n",
        "grid = widgets.Grid(2, 2)\n",
        "yaw = 0\n",
        "for r in range(2):\n",
        "  for c in range(2):\n",
        "    yaw += 60\n",
        "    with grid.output_to(r, c):\n",
        "      grid.clear_cell()\n",
        "      pylab.figure(figsize=(10, 5))\n",
        "      pitch = -10.0\n",
        "      roll = 0\n",
        "      upAxisIndex = 2\n",
        "      camDistance = 2.5\n",
        "      pixelWidth = 640\n",
        "      pixelHeight = 480\n",
        "      nearPlane = 0.01\n",
        "      farPlane = 100\n",
        "      fov = 60\n",
        "      viewMatrix = p.computeViewMatrixFromYawPitchRoll(camTargetPos, camDistance, yaw, pitch,\n",
        "                                                                  roll, upAxisIndex)\n",
        "      aspect = pixelWidth / pixelHeight\n",
        "      projectionMatrix = p.computeProjectionMatrixFOV(fov, aspect, nearPlane, farPlane)\n",
        "\n",
        "      img_arr = p.getCameraImage(pixelWidth,pixelHeight,viewMatrix,projectionMatrix)\n",
        "      w = img_arr[0]  #width of the image, in pixels\n",
        "      h = img_arr[1]  #height of the image, in pixels\n",
        "      rgb = img_arr[2]  #color data RGB\n",
        "      dep = img_arr[3]  #depth data\n",
        "      print(\"w=\",w,\"h=\",h)\n",
        "      np_img_arr = np.reshape(rgb, (h, w, 4))\n",
        "      np_img_arr = np_img_arr * (1. / 255.)\n",
        "      pylab.imshow(np_img_arr, interpolation='none', animated=True, label=\"pybullet\")\n"
      ],
      "metadata": {
        "colab": {
          "base_uri": "https://localhost:8080/",
          "height": 1000
        },
        "id": "yScDQij6cibW",
        "outputId": "be6c5722-5356-46b2-ae6c-bcf502c740d5"
      },
      "execution_count": 11,
      "outputs": [
        {
          "output_type": "display_data",
          "data": {
            "text/plain": [
              "<IPython.core.display.HTML object>"
            ],
            "text/html": [
              "<style>\n",
              "       table#id2, #id2 > tbody > tr > th, #id2 > tbody > tr > td {\n",
              "         border: 1px solid lightgray;\n",
              "         border-collapse:collapse;\n",
              "         \n",
              "        }</style>"
            ]
          },
          "metadata": {}
        },
        {
          "output_type": "display_data",
          "data": {
            "text/plain": [
              "<IPython.core.display.HTML object>"
            ],
            "text/html": [
              "<table id=id2><tr><td id=id2-0-0></td><td id=id2-0-1></td></tr><tr><td id=id2-1-0></td><td id=id2-1-1></td></tr></table>"
            ]
          },
          "metadata": {}
        },
        {
          "output_type": "display_data",
          "data": {
            "text/plain": [
              "<IPython.core.display.Javascript object>"
            ],
            "application/javascript": [
              "window[\"7bb2ac66-979f-11ef-bc6b-0242ac1c000c\"] = google.colab.output.getActiveOutputArea();\n",
              "//# sourceURL=js_9b0b3cdc52"
            ]
          },
          "metadata": {}
        },
        {
          "output_type": "display_data",
          "data": {
            "text/plain": [
              "<IPython.core.display.Javascript object>"
            ],
            "application/javascript": [
              "window[\"7bb324de-979f-11ef-bc6b-0242ac1c000c\"] = document.querySelector(\"#id2-0-0\");\n",
              "//# sourceURL=js_8e2d6d651a"
            ]
          },
          "metadata": {}
        },
        {
          "output_type": "display_data",
          "data": {
            "text/plain": [
              "<IPython.core.display.Javascript object>"
            ],
            "application/javascript": [
              "window[\"7bb39e14-979f-11ef-bc6b-0242ac1c000c\"] = google.colab.output.setActiveOutputArea(window[\"7bb324de-979f-11ef-bc6b-0242ac1c000c\"]);\n",
              "//# sourceURL=js_486727caf7"
            ]
          },
          "metadata": {}
        },
        {
          "output_type": "stream",
          "name": "stdout",
          "text": [
            "w= 640 h= 480\n"
          ]
        },
        {
          "output_type": "display_data",
          "data": {
            "text/plain": [
              "<IPython.core.display.Javascript object>"
            ],
            "application/javascript": [
              "window[\"7bc96e2e-979f-11ef-bc6b-0242ac1c000c\"] = google.colab.output.setActiveOutputArea(window[\"7bb2ac66-979f-11ef-bc6b-0242ac1c000c\"]);\n",
              "//# sourceURL=js_3b5066465c"
            ]
          },
          "metadata": {}
        },
        {
          "output_type": "display_data",
          "data": {
            "text/plain": [
              "<IPython.core.display.Javascript object>"
            ],
            "application/javascript": [
              "window[\"7bcc689a-979f-11ef-bc6b-0242ac1c000c\"] = google.colab.output.getActiveOutputArea();\n",
              "//# sourceURL=js_22c3f164e5"
            ]
          },
          "metadata": {}
        },
        {
          "output_type": "display_data",
          "data": {
            "text/plain": [
              "<IPython.core.display.Javascript object>"
            ],
            "application/javascript": [
              "window[\"7bccd938-979f-11ef-bc6b-0242ac1c000c\"] = document.querySelector(\"#id2-0-1\");\n",
              "//# sourceURL=js_a12169e946"
            ]
          },
          "metadata": {}
        },
        {
          "output_type": "display_data",
          "data": {
            "text/plain": [
              "<IPython.core.display.Javascript object>"
            ],
            "application/javascript": [
              "window[\"7bcd4ecc-979f-11ef-bc6b-0242ac1c000c\"] = google.colab.output.setActiveOutputArea(window[\"7bccd938-979f-11ef-bc6b-0242ac1c000c\"]);\n",
              "//# sourceURL=js_d8408a2bd6"
            ]
          },
          "metadata": {}
        },
        {
          "output_type": "stream",
          "name": "stdout",
          "text": [
            "w= 640 h= 480\n"
          ]
        },
        {
          "output_type": "display_data",
          "data": {
            "text/plain": [
              "<IPython.core.display.Javascript object>"
            ],
            "application/javascript": [
              "window[\"7be2f77c-979f-11ef-bc6b-0242ac1c000c\"] = google.colab.output.setActiveOutputArea(window[\"7bcc689a-979f-11ef-bc6b-0242ac1c000c\"]);\n",
              "//# sourceURL=js_6031c19b04"
            ]
          },
          "metadata": {}
        },
        {
          "output_type": "display_data",
          "data": {
            "text/plain": [
              "<IPython.core.display.Javascript object>"
            ],
            "application/javascript": [
              "window[\"7be636b2-979f-11ef-bc6b-0242ac1c000c\"] = google.colab.output.getActiveOutputArea();\n",
              "//# sourceURL=js_af2e3d4bc8"
            ]
          },
          "metadata": {}
        },
        {
          "output_type": "display_data",
          "data": {
            "text/plain": [
              "<IPython.core.display.Javascript object>"
            ],
            "application/javascript": [
              "window[\"7be67a14-979f-11ef-bc6b-0242ac1c000c\"] = document.querySelector(\"#id2-1-0\");\n",
              "//# sourceURL=js_d34e8f839b"
            ]
          },
          "metadata": {}
        },
        {
          "output_type": "display_data",
          "data": {
            "text/plain": [
              "<IPython.core.display.Javascript object>"
            ],
            "application/javascript": [
              "window[\"7be711cc-979f-11ef-bc6b-0242ac1c000c\"] = google.colab.output.setActiveOutputArea(window[\"7be67a14-979f-11ef-bc6b-0242ac1c000c\"]);\n",
              "//# sourceURL=js_d768311be2"
            ]
          },
          "metadata": {}
        },
        {
          "output_type": "stream",
          "name": "stdout",
          "text": [
            "w= 640 h= 480\n"
          ]
        },
        {
          "output_type": "display_data",
          "data": {
            "text/plain": [
              "<IPython.core.display.Javascript object>"
            ],
            "application/javascript": [
              "window[\"7c00a434-979f-11ef-bc6b-0242ac1c000c\"] = google.colab.output.setActiveOutputArea(window[\"7be636b2-979f-11ef-bc6b-0242ac1c000c\"]);\n",
              "//# sourceURL=js_22185d5d87"
            ]
          },
          "metadata": {}
        },
        {
          "output_type": "display_data",
          "data": {
            "text/plain": [
              "<IPython.core.display.Javascript object>"
            ],
            "application/javascript": [
              "window[\"7c03bec6-979f-11ef-bc6b-0242ac1c000c\"] = google.colab.output.getActiveOutputArea();\n",
              "//# sourceURL=js_ece50460e7"
            ]
          },
          "metadata": {}
        },
        {
          "output_type": "display_data",
          "data": {
            "text/plain": [
              "<IPython.core.display.Javascript object>"
            ],
            "application/javascript": [
              "window[\"7c040552-979f-11ef-bc6b-0242ac1c000c\"] = document.querySelector(\"#id2-1-1\");\n",
              "//# sourceURL=js_0ccc6157ac"
            ]
          },
          "metadata": {}
        },
        {
          "output_type": "display_data",
          "data": {
            "text/plain": [
              "<IPython.core.display.Javascript object>"
            ],
            "application/javascript": [
              "window[\"7c044aa8-979f-11ef-bc6b-0242ac1c000c\"] = google.colab.output.setActiveOutputArea(window[\"7c040552-979f-11ef-bc6b-0242ac1c000c\"]);\n",
              "//# sourceURL=js_eb0bc1d07a"
            ]
          },
          "metadata": {}
        },
        {
          "output_type": "stream",
          "name": "stdout",
          "text": [
            "w= 640 h= 480\n"
          ]
        },
        {
          "output_type": "display_data",
          "data": {
            "text/plain": [
              "<IPython.core.display.Javascript object>"
            ],
            "application/javascript": [
              "window[\"7c1a6572-979f-11ef-bc6b-0242ac1c000c\"] = google.colab.output.setActiveOutputArea(window[\"7c03bec6-979f-11ef-bc6b-0242ac1c000c\"]);\n",
              "//# sourceURL=js_c51c49cc50"
            ]
          },
          "metadata": {}
        },
        {
          "output_type": "display_data",
          "data": {
            "text/plain": [
              "<Figure size 1000x500 with 1 Axes>"
            ],
            "image/png": "[encoded data removed]"
          },
          "metadata": {}
        },
        {
          "output_type": "display_data",
          "data": {
            "text/plain": [
              "<Figure size 1000x500 with 1 Axes>"
            ],
            "image/png": "[encoded data removed]"
          },
          "metadata": {}
        },
        {
          "output_type": "display_data",
          "data": {
            "text/plain": [
              "<Figure size 1000x500 with 1 Axes>"
            ],
            "image/png": "[encoded data removed]"
          },
          "metadata": {}
        },
        {
          "output_type": "display_data",
          "data": {
            "text/plain": [
              "<Figure size 1000x500 with 1 Axes>"
            ],
            "image/png": "[encoded data removed]"
          },
          "metadata": {}
        }
      ]
    },
    {
      "cell_type": "markdown",
      "source": [
        "### Let's try  png image\n",
        "code for creating ong is commented below"
      ],
      "metadata": {
        "id": "6aXYB0NcPzKg"
      }
    },
    {
      "cell_type": "code",
      "source": [
        "'''\n",
        "!pip install numpngw\n",
        "from numpngw import write_apng\n",
        "from IPython.display import Image\n",
        "\n",
        "frames=[] #frames to create animated png\n",
        "for r in range(60):\n",
        "    yaw += 6\n",
        "    pitch = -10.0\n",
        "    roll = 0\n",
        "    upAxisIndex = 2\n",
        "    camDistance = 2.5\n",
        "    pixelWidth = 320\n",
        "    pixelHeight = 200\n",
        "    nearPlane = 0.01\n",
        "    farPlane = 100\n",
        "    fov = 60\n",
        "    viewMatrix = p.computeViewMatrixFromYawPitchRoll(camTargetPos, camDistance, yaw, pitch,\n",
        "                                                                roll, upAxisIndex)\n",
        "    aspect = pixelWidth / pixelHeight\n",
        "    projectionMatrix = p.computeProjectionMatrixFOV(fov, aspect, nearPlane, farPlane)\n",
        "\n",
        "    img_arr = p.getCameraImage(pixelWidth,pixelHeight,viewMatrix,projectionMatrix)\n",
        "    w = img_arr[0]  #width of the image, in pixels\n",
        "    h = img_arr[1]  #height of the image, in pixels\n",
        "    rgb = img_arr[2]  #color data RGB\n",
        "    dep = img_arr[3]  #depth data\n",
        "    #print(\"w=\",w,\"h=\",h)\n",
        "    np_img_arr = np.reshape(rgb, (h, w, 4))\n",
        "    frame = np_img_arr[:, :, :3]\n",
        "    frames.append(frame)\n",
        "print(\"creating animated png, please about 5 seconds\")\n",
        "%time write_apng(\"example6.png\", frames, delay=100)\n",
        "%time Image(filename=\"example6.png\")\n",
        "'''"
      ],
      "metadata": {
        "id": "rWysL8FzQFHg",
        "outputId": "921b4c70-9f58-4b49-a592-b132f56ba0db",
        "colab": {
          "base_uri": "https://localhost:8080/",
          "height": 157
        }
      },
      "execution_count": 12,
      "outputs": [
        {
          "output_type": "execute_result",
          "data": {
            "text/plain": [
              "'\\n!pip install numpngw\\nfrom numpngw import write_apng\\nfrom IPython.display import Image\\n\\nframes=[] #frames to create animated png\\nfor r in range(60):\\n    yaw += 6\\n    pitch = -10.0\\n    roll = 0\\n    upAxisIndex = 2\\n    camDistance = 2.5\\n    pixelWidth = 320\\n    pixelHeight = 200\\n    nearPlane = 0.01\\n    farPlane = 100\\n    fov = 60\\n    viewMatrix = p.computeViewMatrixFromYawPitchRoll(camTargetPos, camDistance, yaw, pitch,\\n                                                                roll, upAxisIndex)\\n    aspect = pixelWidth / pixelHeight\\n    projectionMatrix = p.computeProjectionMatrixFOV(fov, aspect, nearPlane, farPlane)\\n\\n    img_arr = p.getCameraImage(pixelWidth,pixelHeight,viewMatrix,projectionMatrix)\\n    w = img_arr[0]  #width of the image, in pixels\\n    h = img_arr[1]  #height of the image, in pixels\\n    rgb = img_arr[2]  #color data RGB\\n    dep = img_arr[3]  #depth data\\n    #print(\"w=\",w,\"h=\",h)\\n    np_img_arr = np.reshape(rgb, (h, w, 4))\\n    frame = np_img_arr[:, :, :3]\\n    frames.append(frame)\\nprint(\"creating animated png, please about 5 seconds\")\\n%time write_apng(\"example6.png\", frames, delay=100)\\n%time Image(filename=\"example6.png\")\\n'"
            ],
            "application/vnd.google.colaboratory.intrinsic+json": {
              "type": "string"
            }
          },
          "metadata": {},
          "execution_count": 12
        }
      ]
    },
    {
      "cell_type": "markdown",
      "source": [
        "## Try moving PIPPA 🎮 🐧"
      ],
      "metadata": {
        "id": "qatZXR9vdfe2"
      }
    },
    {
      "cell_type": "code",
      "source": [
        "%%time\n",
        "#bottom disk bars index\n",
        "bottom_link_1_index = 0\n",
        "bottom_link_2_index = 6\n",
        "bottom_link_3_index = 12\n",
        "\n",
        "#get bottom bar position to apply forces there\n",
        "initial_position_bottom_1, initial_orientation_bottom_1 = p.getLinkState(PIPPA_id, bottom_link_1_index)[0:2]\n",
        "initial_position_bottom_2, initial_orientation_bottom_2 = p.getLinkState(PIPPA_id, bottom_link_2_index)[0:2]\n",
        "initial_position_bottom_3, initial_orientation_bottom_3 = p.getLinkState(PIPPA_id, bottom_link_3_index)[0:2]\n",
        "\n",
        "initial_angles_bottom_1 = p.getEulerFromQuaternion(initial_orientation_bottom_1)\n",
        "initial_angles_bottom_2 = p.getEulerFromQuaternion(initial_orientation_bottom_2)\n",
        "initial_angles_bottom_3 = p.getEulerFromQuaternion(initial_orientation_bottom_3)\n",
        "\n",
        "print(\"Initial bottom bars position:\", initial_position_bottom_1, initial_position_bottom_2, initial_position_bottom_3)\n",
        "print(\"Initial bottom bars angles:\", initial_angles_bottom_1, initial_angles_bottom_2, initial_angles_bottom_3)\n",
        "\n",
        "force_module = np.array([1000,0,0])\n",
        "#apply equal force to the border of our bottom disk\n",
        "force_position_1 = initial_position_bottom_1\n",
        "force_position_2 = initial_position_bottom_2\n",
        "force_position_3 = initial_position_bottom_3\n",
        "\n",
        "## 1,2,3 numeration for bottom bars, force and lvdt are consistent\n",
        "\n",
        "#lvdt index\n",
        "lvdt_1_index = 2\n",
        "lvdt_2_index = 8\n",
        "lvdt_3_index = 14\n",
        "\n",
        "#3 lvdt info (joint cover-leg)\n",
        "lvdt_1_initial_position, lvdt_1_initial_velocity  = p.getJointState(PIPPA_id, lvdt_1_index)[0:2]\n",
        "lvdt_2_initial_position, lvdt_2_initial_velocity  = p.getJointState(PIPPA_id, lvdt_2_index)[0:2]\n",
        "lvdt_3_initial_position, lvdt_3_initial_velocity  = p.getJointState(PIPPA_id, lvdt_3_index)[0:2]\n",
        "\n",
        "print(\"LVDT 1 initial position and velocity:\", lvdt_1_initial_position, lvdt_1_initial_velocity)\n",
        "print(\"LVDT 2 initial position and velocity:\", lvdt_2_initial_position, lvdt_2_initial_velocity)\n",
        "print(\"LVDT 3 initial position and velocity:\", lvdt_3_initial_position, lvdt_3_initial_velocity)\n",
        "\n",
        "#apply external forces to the bottom edges of the disk\n",
        "p.applyExternalForce(\n",
        "    objectUniqueId=PIPPA_id,linkIndex= 0,forceObj=force_module, posObj=force_position_1,flags=p.WORLD_FRAME)\n",
        "p.applyExternalForce(\n",
        "    objectUniqueId=PIPPA_id,linkIndex= 1,forceObj=force_module, posObj=force_position_2,flags=p.WORLD_FRAME)\n",
        "p.applyExternalForce(\n",
        "    objectUniqueId=PIPPA_id,linkIndex= 2,forceObj=force_module, posObj=force_position_2,flags=p.WORLD_FRAME)\n",
        "for _ in range(1000):\n",
        "    p.stepSimulation()  # Aggiorna la simulazione\n",
        "    time.sleep(1./240.)  # Ritardo per simulare 240 Hz\n",
        "'''\n",
        "\n",
        "#let's see what happens if I move the base in the center\n",
        "p.applyExternalForce(\n",
        "    objectUniqueId=PIPPA_id,linkIndex= -1,forceObj=force_module, posObj=[0,0,0],flags=p.LINK_FRAME)\n",
        "'''\n",
        "\n",
        "#links of the bottom disk info\n",
        "final_position_bottom_1, final_orientation_bottom_1 = p.getLinkState(PIPPA_id, bottom_link_1_index)[0:2]\n",
        "final_position_bottom_2, final_orientation_bottom_2 = p.getLinkState(PIPPA_id, bottom_link_2_index)[0:2]\n",
        "final_position_bottom_3, final_orientation_bottom_3 = p.getLinkState(PIPPA_id, bottom_link_3_index)[0:2]\n",
        "\n",
        "final_angles_bottom_1 = p.getEulerFromQuaternion(final_orientation_bottom_1)\n",
        "final_angles_bottom_2 = p.getEulerFromQuaternion(final_orientation_bottom_2)\n",
        "final_angles_bottom_3 = p.getEulerFromQuaternion(final_orientation_bottom_3)\n",
        "\n",
        "print(\"Final bottom bars position:\", final_position_bottom_1, final_position_bottom_2, final_position_bottom_3)\n",
        "print(\"Final bottom bars angles:\", final_angles_bottom_1, final_angles_bottom_2, final_angles_bottom_3)\n",
        "\n",
        "#3 lvdt info (joint cover-leg)\n",
        "lvdt_1_final_position, lvdt_1_final_velocity  = p.getJointState(PIPPA_id, lvdt_1_index)[0:2]\n",
        "lvdt_2_final_position, lvdt_2_final_velocity  = p.getJointState(PIPPA_id, lvdt_2_index)[0:2]\n",
        "lvdt_3_final_position, lvdt_3_final_velocity  = p.getJointState(PIPPA_id, lvdt_3_index)[0:2]\n",
        "\n",
        "print(\"LVDT 1 Final position and velocity:\", lvdt_1_final_position, lvdt_1_final_velocity)\n",
        "print(\"LVDT 2 Final position and velocity:\", lvdt_2_final_position, lvdt_2_final_velocity)\n",
        "print(\"LVDT 3 Final position and velocity:\", lvdt_3_final_position, lvdt_3_final_velocity)\n",
        "\n",
        "print(\"Forza applicata alla base:\", force_module)\n",
        "final_position_base, final_orientation_base = p.getBasePositionAndOrientation(PIPPA_id)\n",
        "print(\"Posizione finale della base:\", final_position_base)\n",
        "print(\"Orientamento finale della base:\", final_orientation_base)\n",
        "\n",
        "# changing in position\n",
        "delta1 = np.array(lvdt_1_final_position) - np.array(lvdt_1_initial_position)\n",
        "delta2 = np.array(lvdt_2_final_position) - np.array(lvdt_2_initial_position)\n",
        "delta3 = np.array(lvdt_3_final_position) - np.array(lvdt_3_initial_position)\n",
        "delta_1,delta_2,delta_3 = delta1*1000,delta2*1000,delta3*1000\n",
        "# Stampa dei risultati\n",
        "print(\"Differenza LVDT 1:\", delta1)\n",
        "print(\"Differenza LVDT 2:\", delta2)\n",
        "print(\"Differenza LVDT 3:\", delta3)\n",
        "\n",
        "grid = widgets.Grid(2, 2)\n",
        "yaw = 0\n",
        "for r in range(2):\n",
        "  for c in range(2):\n",
        "    yaw += 60\n",
        "    with grid.output_to(r, c):\n",
        "      grid.clear_cell()\n",
        "      pylab.figure(figsize=(10, 5))\n",
        "      pitch = -10.0\n",
        "      roll = 0\n",
        "      upAxisIndex = 2\n",
        "      camDistance = 2.5\n",
        "      pixelWidth = 640\n",
        "      pixelHeight = 480\n",
        "      nearPlane = 0.01\n",
        "      farPlane = 100\n",
        "      fov = 60\n",
        "      viewMatrix = p.computeViewMatrixFromYawPitchRoll(camTargetPos, camDistance, yaw, pitch,\n",
        "                                                                  roll, upAxisIndex)\n",
        "      aspect = pixelWidth / pixelHeight\n",
        "      projectionMatrix = p.computeProjectionMatrixFOV(fov, aspect, nearPlane, farPlane)\n",
        "\n",
        "      img_arr = p.getCameraImage(pixelWidth,pixelHeight,viewMatrix,projectionMatrix)\n",
        "      w = img_arr[0]  #width of the image, in pixels\n",
        "      h = img_arr[1]  #height of the image, in pixels\n",
        "      rgb = img_arr[2]  #color data RGB\n",
        "      dep = img_arr[3]  #depth data\n",
        "      print(\"w=\",w,\"h=\",h)\n",
        "      np_img_arr = np.reshape(rgb, (h, w, 4))\n",
        "      np_img_arr = np_img_arr * (1. / 255.)\n",
        "      pylab.imshow(np_img_arr, interpolation='none', animated=True, label=\"pybullet\")\n"
      ],
      "metadata": {
        "colab": {
          "base_uri": "https://localhost:8080/",
          "height": 124
        },
        "id": "RalbttJlcH-V",
        "outputId": "8904b9c4-9df9-43bd-e29f-8117594cfeb1"
      },
      "execution_count": 13,
      "outputs": [
        {
          "output_type": "error",
          "ename": "TypeError",
          "evalue": "'NoneType' object is not subscriptable",
          "traceback": [
            "\u001b[0;31m---------------------------------------------------------------------------\u001b[0m",
            "\u001b[0;31mTypeError\u001b[0m                                 Traceback (most recent call last)",
            "\u001b[0;32m<timed exec>\u001b[0m in \u001b[0;36m<module>\u001b[0;34m\u001b[0m\n",
            "\u001b[0;31mTypeError\u001b[0m: 'NoneType' object is not subscriptable"
          ]
        }
      ]
    },
    {
      "cell_type": "code",
      "source": [],
      "metadata": {
        "id": "8CeezZ8VKNnX"
      },
      "execution_count": null,
      "outputs": []
    }
  ]
}